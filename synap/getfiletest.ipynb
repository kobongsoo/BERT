{
 "cells": [
  {
   "cell_type": "code",
   "execution_count": null,
   "id": "c883874d-3223-40d8-a8f1-a3b7c810a609",
   "metadata": {},
   "outputs": [],
   "source": [
    "# 출처 : https://github.com/openai/chatgpt-retrieval-plugin/blob/958bb787bf34823538482a9eb3157c5bf994a182/services/file.py#L11\n",
    "#\n",
    "#!pip install PyPDF2\n",
    "#!pip install docx2txt\n",
    "#!pip install python-pptx\n",
    "\n",
    "import os\n",
    "from io import BufferedReader\n",
    "from typing import Optional\n",
    "#from fastapi import UploadFile\n",
    "import mimetypes\n",
    "from PyPDF2 import PdfReader\n",
    "import docx2txt\n",
    "import csv\n",
    "import pptx"
   ]
  },
  {
   "cell_type": "code",
   "execution_count": null,
   "id": "9f8f6693-e803-4507-8898-80ee28027d3b",
   "metadata": {},
   "outputs": [],
   "source": [
    "def extract_text_from_filepath(filepath: str, mimetype: Optional[str] = None) -> str:\n",
    "    \"\"\"Return the text content of a file given its filepath.\"\"\"\n",
    "\n",
    "    if mimetype is None:\n",
    "        # Get the mimetype of the file based on its extension\n",
    "        mimetype, _ = mimetypes.guess_type(filepath)\n",
    "        print(mimetype)\n",
    "        \n",
    "    if not mimetype:\n",
    "        if filepath.endswith(\".md\"):\n",
    "            mimetype = \"text/markdown\"\n",
    "        else:\n",
    "            raise Exception(\"Unsupported file type\")\n",
    "\n",
    "    # Open the file in binary mode\n",
    "    file = open(filepath, \"rb\")\n",
    "    extracted_text = extract_text_from_file(file, mimetype)\n",
    "\n",
    "    return extracted_text\n",
    "\n",
    "\n",
    "def extract_text_from_file(file: BufferedReader, mimetype: str) -> str:\n",
    "    if mimetype == \"application/pdf\":\n",
    "        # Extract text from pdf using PyPDF2\n",
    "        reader = PdfReader(file)\n",
    "        extracted_text = \" \".join([page.extract_text() for page in reader.pages])\n",
    "    elif mimetype == \"text/plain\" or mimetype == \"text/markdown\":\n",
    "        # Read text from plain text file\n",
    "        extracted_text = file.read().decode(\"utf-8\")\n",
    "        #print(extracted_text)\n",
    "    elif (\n",
    "        mimetype\n",
    "        == \"application/vnd.openxmlformats-officedocument.wordprocessingml.document\"\n",
    "    ):\n",
    "        # Extract text from docx using docx2txt\n",
    "        extracted_text = docx2txt.process(file)\n",
    "    elif mimetype == \"text/csv\":\n",
    "        # Extract text from csv using csv module\n",
    "        extracted_text = \"\"\n",
    "        decoded_buffer = (line.decode(\"utf-8\") for line in file)\n",
    "        reader = csv.reader(decoded_buffer)\n",
    "        for row in reader:\n",
    "            extracted_text += \" \".join(row) + \"\\n\"\n",
    "    elif (\n",
    "        mimetype\n",
    "        == \"application/vnd.openxmlformats-officedocument.presentationml.presentation\"\n",
    "    ):\n",
    "        # Extract text from pptx using python-pptx\n",
    "        extracted_text = \"\"\n",
    "        presentation = pptx.Presentation(file)\n",
    "        for slide in presentation.slides:\n",
    "            for shape in slide.shapes:\n",
    "                if shape.has_text_frame:\n",
    "                    for paragraph in shape.text_frame.paragraphs:\n",
    "                        for run in paragraph.runs:\n",
    "                            extracted_text += run.text + \" \"\n",
    "                    extracted_text += \"\\n\"\n",
    "    else:\n",
    "        # Unsupported file type\n",
    "        file.close()\n",
    "        raise ValueError(\"Unsupported file type: {}\".format(mimetype))\n",
    "\n",
    "    file.close()\n",
    "    return extracted_text"
   ]
  },
  {
   "cell_type": "code",
   "execution_count": null,
   "id": "9ed1e317-8072-44f6-8ab7-d407ce667e2d",
   "metadata": {},
   "outputs": [],
   "source": [
    "filepath = '../../data11/mpower_doc/doc/111.txt'\n",
    "result = extract_text_from_filepath(filepath=filepath)\n"
   ]
  },
  {
   "cell_type": "code",
   "execution_count": null,
   "id": "905dbb92-1f84-497d-ae81-982e73671b59",
   "metadata": {},
   "outputs": [],
   "source": [
    "type(result)"
   ]
  },
  {
   "cell_type": "code",
   "execution_count": null,
   "id": "55ea72dc-7d83-43d6-ac28-92e6a47c273e",
   "metadata": {},
   "outputs": [],
   "source": [
    "result"
   ]
  },
  {
   "cell_type": "code",
   "execution_count": null,
   "id": "081f23d8-fc9c-4ac3-846b-bfefe66dddd1",
   "metadata": {},
   "outputs": [],
   "source": []
  }
 ],
 "metadata": {
  "kernelspec": {
   "display_name": "Python 3 (ipykernel)",
   "language": "python",
   "name": "python3"
  },
  "language_info": {
   "codemirror_mode": {
    "name": "ipython",
    "version": 3
   },
   "file_extension": ".py",
   "mimetype": "text/x-python",
   "name": "python",
   "nbconvert_exporter": "python",
   "pygments_lexer": "ipython3",
   "version": "3.9.7"
  }
 },
 "nbformat": 4,
 "nbformat_minor": 5
}

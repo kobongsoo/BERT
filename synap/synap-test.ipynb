{
 "cells": [
  {
   "cell_type": "code",
   "execution_count": 1,
   "id": "5d95c66d-d4c5-4cb3-b641-eab977222e42",
   "metadata": {},
   "outputs": [
    {
     "name": "stderr",
     "output_type": "stream",
     "text": [
      "/MOCOMSYS/anaconda3/envs/bong/lib/python3.9/site-packages/huggingface_hub/snapshot_download.py:6: FutureWarning: snapshot_download.py has been made private and will no longer be available from version 0.11. Please use `from huggingface_hub import snapshot_download` to import the only public function in this module. Other members of the file may be changed without a deprecation notice.\n",
      "  warnings.warn(\n"
     ]
    }
   ],
   "source": [
    "import numpy as np\n",
    "import pandas as pd\n",
    "import time\n",
    "import os\n",
    "from tqdm.notebook import tqdm\n",
    "import kss\n",
    "\n",
    "from os import sys\n",
    "sys.path.append('../')\n",
    "from myutils import seed_everything, getListOfFiles, split_sentences, clean_text\n",
    "\n",
    "seed_everything(111)\n",
    "\n",
    "DATA_FOLDER = '../../data11/mpower/'\n",
    "OUT_FOLDER = '../../data11/mpower_out/'"
   ]
  },
  {
   "cell_type": "code",
   "execution_count": null,
   "id": "73fff099-5955-49d0-9a4b-b7e1f375d91e",
   "metadata": {},
   "outputs": [],
   "source": [
    "\n",
    "\n",
    "# json 파일들이 있는 폴더에 .json 파일 이름들을 얻기\n",
    "# =>DATA_FOLDER: .JSON파일들이 있는 폴더\n",
    "file_paths = getListOfFiles(DATA_FOLDER)\n",
    "assert len(file_paths) > 0 # files가 0이면 assert 발생\n",
    "    \n",
    "print('*file_count: {}, file_list:{}'.format(len(file_paths), file_paths[0:5]))\n",
    "\n",
    "file_name_list = []\n",
    "\n",
    "for idx, file_path in enumerate(tqdm(file_paths)):\n",
    "    if '.ipynb_checkpoints' not in file_path:\n",
    "        sentences = []\n",
    "        with open(file_path, 'r') as f:\n",
    "            data = f.read()\n",
    "            \n",
    "            data = data.replace('\\n', ' ').replace('\\r', ' ') # 띄어쓰기 제거\n",
    "            data = clean_text(data) # 한글, 영문, 숫자 이외 제거 \n",
    "            \n",
    "  \n",
    "            for sentence in kss.split_sentences(data):\n",
    "                if sentence != '' and len(sentence) > 5:\n",
    "                    for sentence1 in kss.split_sentences(sentence): # 한번더 돌림\n",
    "                         if sentence1 != '' and len(sentence1) > 5: \n",
    "                            sentences.append(sentence1)\n",
    "             \n",
    "            print(f'{file_path}')\n",
    "            print(f'문장 수 : {len(sentences)}')\n",
    "            print()\n",
    "            \n",
    "            # 파일로저장\n",
    "            file_name = os.path.basename(file_path)  # 파일명만 뽑아냄\n",
    "            file_name_list.append(file_name)\n",
    "            \n",
    "            output_file = OUT_FOLDER + file_name\n",
    "            with open(output_file, 'w') as f:\n",
    "                for ss in sentences:\n",
    "                    f.write(ss+'\\n')"
   ]
  },
  {
   "cell_type": "code",
   "execution_count": 3,
   "id": "1af3cdab-6b6f-404a-b19f-a150e71ac791",
   "metadata": {},
   "outputs": [
    {
     "name": "stdout",
     "output_type": "stream",
     "text": [
      "*file_count: 17, file_list:['../../data11/mpower_out/out/G드라이브_운영자지침서-시스템관리자용_by skchoi.docx.txt-output.txt', '../../data11/mpower_out/out/문서중앙화(V10) - 사용자매뉴얼(web)-v1.0.pptx 필터링 결과.txt-output.txt', '../../data11/mpower_out/out/.ipynb_checkpoints/문서중앙화(V10) - 사용자매뉴얼(web)-v1.0.pptx 필터링 결과.txt-output-checkpoint.txt', '../../data11/mpower_out/out/.ipynb_checkpoints/웹하드™디스크_백업포함_8.0 메뉴얼(접속기).doc 필터링 결.txt-output-checkpoint.txt', '../../data11/mpower_out/out/.ipynb_checkpoints/엠파워8.0 메뉴얼(접속기).doc 필터링 결과.txt-output-checkpoint.txt']\n"
     ]
    },
    {
     "data": {
      "application/vnd.jupyter.widget-view+json": {
       "model_id": "a46300be832845c9a59efd0adad6f496",
       "version_major": 2,
       "version_minor": 0
      },
      "text/plain": [
       "  0%|          | 0/17 [00:00<?, ?it/s]"
      ]
     },
     "metadata": {},
     "output_type": "display_data"
    }
   ],
   "source": [
    "\n",
    "file_paths = getListOfFiles(OUT_FOLDER)\n",
    "assert len(file_paths) > 0 # files가 0이면 assert 발생\n",
    "    \n",
    "print('*file_count: {}, file_list:{}'.format(len(file_paths), file_paths[0:5]))\n",
    "\n",
    "data_list = []\n",
    "title_list = []\n",
    "ids_list = []\n",
    "\n",
    "idx = 1000\n",
    "for idx, file_path in enumerate(tqdm(file_paths)):\n",
    "    if '.ipynb_checkpoints' not in file_path:\n",
    "        sentences = []\n",
    "        with open(file_path, 'r') as f:\n",
    "            data = f.read()\n",
    "            \n",
    "            file_name = os.path.basename(file_path)  # 파일명만 뽑아냄\n",
    "            title_list.append(file_name)\n",
    "            \n",
    "            idx += 1\n",
    "            data_list.append(data)\n",
    "            title_list.append(file_name)\n",
    "            ids_list.append(idx)"
   ]
  },
  {
   "cell_type": "code",
   "execution_count": 5,
   "id": "0b563891-05c4-4325-9d7e-e52cd969610b",
   "metadata": {},
   "outputs": [],
   "source": [
    "df_contexts = pd.DataFrame((zip(data_list, ids_list)), columns = ['context','contextid'])\n",
    "df_questions = pd.DataFrame((zip(title_list, ids_list)), columns = ['question','contextid'])"
   ]
  },
  {
   "cell_type": "code",
   "execution_count": 6,
   "id": "e651ea98-fce8-41c1-b01b-4658d8d00425",
   "metadata": {},
   "outputs": [
    {
     "data": {
      "text/html": [
       "<div>\n",
       "<style scoped>\n",
       "    .dataframe tbody tr th:only-of-type {\n",
       "        vertical-align: middle;\n",
       "    }\n",
       "\n",
       "    .dataframe tbody tr th {\n",
       "        vertical-align: top;\n",
       "    }\n",
       "\n",
       "    .dataframe thead th {\n",
       "        text-align: right;\n",
       "    }\n",
       "</style>\n",
       "<table border=\"1\" class=\"dataframe\">\n",
       "  <thead>\n",
       "    <tr style=\"text-align: right;\">\n",
       "      <th></th>\n",
       "      <th>context</th>\n",
       "      <th>contextid</th>\n",
       "    </tr>\n",
       "  </thead>\n",
       "  <tbody>\n",
       "    <tr>\n",
       "      <th>0</th>\n",
       "      <td>G드라이브_운영자지침서시스템관리자용_by skchoi.docx 필터링 결과 정부지식...</td>\n",
       "      <td>1</td>\n",
       "    </tr>\n",
       "    <tr>\n",
       "      <th>1</th>\n",
       "      <td>문서중앙화(V10)  사용자매뉴얼(web)v1.0.pptx 필터링 결과 ..PAGE...</td>\n",
       "      <td>2</td>\n",
       "    </tr>\n",
       "    <tr>\n",
       "      <th>2</th>\n",
       "      <td>웹하드디스크_백업포함_8.0 메뉴얼(접속기).doc 필터링 결과 WebhardDis...</td>\n",
       "      <td>6</td>\n",
       "    </tr>\n",
       "    <tr>\n",
       "      <th>3</th>\n",
       "      <td>엠파워8.0 메뉴얼(접속기).doc 필터링 결과 Mpower 8.0 Users Gu...</td>\n",
       "      <td>7</td>\n",
       "    </tr>\n",
       "    <tr>\n",
       "      <th>4</th>\n",
       "      <td>G드라이브_운영자지침서시스템관리자용_by skchoi.docx 필터링 결과 정부지식...</td>\n",
       "      <td>8</td>\n",
       "    </tr>\n",
       "  </tbody>\n",
       "</table>\n",
       "</div>"
      ],
      "text/plain": [
       "                                             context  contextid\n",
       "0  G드라이브_운영자지침서시스템관리자용_by skchoi.docx 필터링 결과 정부지식...          1\n",
       "1  문서중앙화(V10)  사용자매뉴얼(web)v1.0.pptx 필터링 결과 ..PAGE...          2\n",
       "2  웹하드디스크_백업포함_8.0 메뉴얼(접속기).doc 필터링 결과 WebhardDis...          6\n",
       "3  엠파워8.0 메뉴얼(접속기).doc 필터링 결과 Mpower 8.0 Users Gu...          7\n",
       "4  G드라이브_운영자지침서시스템관리자용_by skchoi.docx 필터링 결과 정부지식...          8"
      ]
     },
     "execution_count": 6,
     "metadata": {},
     "output_type": "execute_result"
    }
   ],
   "source": [
    "df_contexts.head()"
   ]
  },
  {
   "cell_type": "code",
   "execution_count": 7,
   "id": "d46a4f40-96dc-4fa1-b9cc-a432e3b89b85",
   "metadata": {},
   "outputs": [
    {
     "data": {
      "text/html": [
       "<div>\n",
       "<style scoped>\n",
       "    .dataframe tbody tr th:only-of-type {\n",
       "        vertical-align: middle;\n",
       "    }\n",
       "\n",
       "    .dataframe tbody tr th {\n",
       "        vertical-align: top;\n",
       "    }\n",
       "\n",
       "    .dataframe thead th {\n",
       "        text-align: right;\n",
       "    }\n",
       "</style>\n",
       "<table border=\"1\" class=\"dataframe\">\n",
       "  <thead>\n",
       "    <tr style=\"text-align: right;\">\n",
       "      <th></th>\n",
       "      <th>question</th>\n",
       "      <th>contextid</th>\n",
       "    </tr>\n",
       "  </thead>\n",
       "  <tbody>\n",
       "    <tr>\n",
       "      <th>0</th>\n",
       "      <td>G드라이브_운영자지침서-시스템관리자용_by skchoi.docx.txt-output...</td>\n",
       "      <td>1</td>\n",
       "    </tr>\n",
       "    <tr>\n",
       "      <th>1</th>\n",
       "      <td>G드라이브_운영자지침서-시스템관리자용_by skchoi.docx.txt-output...</td>\n",
       "      <td>2</td>\n",
       "    </tr>\n",
       "    <tr>\n",
       "      <th>2</th>\n",
       "      <td>문서중앙화(V10) - 사용자매뉴얼(web)-v1.0.pptx 필터링 결과.txt-...</td>\n",
       "      <td>6</td>\n",
       "    </tr>\n",
       "    <tr>\n",
       "      <th>3</th>\n",
       "      <td>문서중앙화(V10) - 사용자매뉴얼(web)-v1.0.pptx 필터링 결과.txt-...</td>\n",
       "      <td>7</td>\n",
       "    </tr>\n",
       "    <tr>\n",
       "      <th>4</th>\n",
       "      <td>웹하드™디스크_백업포함_8.0 메뉴얼(접속기).doc 필터링 결.txt-output...</td>\n",
       "      <td>8</td>\n",
       "    </tr>\n",
       "  </tbody>\n",
       "</table>\n",
       "</div>"
      ],
      "text/plain": [
       "                                            question  contextid\n",
       "0  G드라이브_운영자지침서-시스템관리자용_by skchoi.docx.txt-output...          1\n",
       "1  G드라이브_운영자지침서-시스템관리자용_by skchoi.docx.txt-output...          2\n",
       "2  문서중앙화(V10) - 사용자매뉴얼(web)-v1.0.pptx 필터링 결과.txt-...          6\n",
       "3  문서중앙화(V10) - 사용자매뉴얼(web)-v1.0.pptx 필터링 결과.txt-...          7\n",
       "4  웹하드™디스크_백업포함_8.0 메뉴얼(접속기).doc 필터링 결.txt-output...          8"
      ]
     },
     "execution_count": 7,
     "metadata": {},
     "output_type": "execute_result"
    }
   ],
   "source": [
    "df_questions.head()"
   ]
  },
  {
   "cell_type": "code",
   "execution_count": 11,
   "id": "8086eb73-0229-4bef-8d45-eab1fc735869",
   "metadata": {},
   "outputs": [
    {
     "data": {
      "text/plain": [
       "0     G드라이브_운영자지침서시스템관리자용_by skchoi.docx 필터링 결과 정부지식...\n",
       "1     문서중앙화(V10)  사용자매뉴얼(web)v1.0.pptx 필터링 결과 ..PAGE...\n",
       "2     웹하드디스크_백업포함_8.0 메뉴얼(접속기).doc 필터링 결과 WebhardDis...\n",
       "3     엠파워8.0 메뉴얼(접속기).doc 필터링 결과 Mpower 8.0 Users Gu...\n",
       "4     G드라이브_운영자지침서시스템관리자용_by skchoi.docx 필터링 결과 정부지식...\n",
       "5     문서중앙화(V10)  사용자매뉴얼(web)v1.0.pptx 필터링 결과 ..PAGE...\n",
       "6     웹하드디스크_백업포함_8.0 메뉴얼(접속기).doc 필터링 결과 WebhardDis...\n",
       "7     엠파워8.0 메뉴얼(접속기).doc 필터링 결과 Mpower 8.0 Users Gu...\n",
       "8     M드라이브 V9 관리자 메뉴얼.doc 필터링 결과 Mpower 9.0 WebAdmi...\n",
       "9     급여규정.doc 필터링 결과 급여규정 1. 목적 이 규정은 주식회사 모코엠시스에 근...\n",
       "10    노사협의회규정(개정_20.09.09).doc 필터링 결과 노 사 협 의 회 규 정 ...\n",
       "11    소프트웨어관리규정.doc 필터링 결과 소프트웨어 관리 규정 1. 목 적  이 규정은...\n",
       "12    인사규정.doc 필터링 결과 인 사 규 정 1. 목적 이 규정은 주식회사 모코엠시스...\n",
       "13    출퇴근 시스템 도입 관련 업무 메뉴얼.docx 필터링 결과 출퇴근 관리 시스템 도입...\n",
       "Name: context, dtype: object"
      ]
     },
     "execution_count": 11,
     "metadata": {},
     "output_type": "execute_result"
    }
   ],
   "source": [
    "df_contexts.context"
   ]
  },
  {
   "cell_type": "code",
   "execution_count": null,
   "id": "8121ea77-1213-410d-8d07-916a27e94bf2",
   "metadata": {},
   "outputs": [],
   "source": [
    "#-------------------------------------------------------------------------------------------------------\n",
    "# 2. JSON 파일 로딩 후 df 만듬\n",
    "# => KorQuAD_v1.0_dev.json 파일 로딩 하여, 각 항목별 리스트를 출력한후, contexts df, questions df를 만듬.\n",
    "#-------------------------------------------------------------------------------------------------------\n",
    "from myutils import read_korquad_v1_json, read_aihub_qua_json\n",
    "\n",
    "# KorQuAD_v1.0 혹은 aihub 뉴스 기사 기계독해 데이터 QuA 파일을 불러옴.\n",
    "jsonfile = './data/KorQuAD_v1.0_dev.json' # VL_unanswerable.json # VL_text_entailment.json # VL_span_inference.json # KorQuAD_v1.0_dev.json\n",
    "contexts, questions, answers, contextids, qcontextids = read_korquad_v1_json(jsonfile) # read_aihub_qua_json(jsonfile)\n",
    "\n",
    "# list들을 zip 으로 묶고, dataframe 생성함\n",
    "# context, contextid를 묶어서 context df 만듬.\n",
    "df_contexts = pd.DataFrame((zip(contexts, contextids)), columns = ['context','contextid'])\n",
    "\n",
    "# question, answer, contextids를 묶어서 question df 만듬\n",
    "df_questions = pd.DataFrame((zip(questions, answers, qcontextids)), columns = ['question','answer', 'contextid'])"
   ]
  }
 ],
 "metadata": {
  "kernelspec": {
   "display_name": "Python 3 (ipykernel)",
   "language": "python",
   "name": "python3"
  },
  "language_info": {
   "codemirror_mode": {
    "name": "ipython",
    "version": 3
   },
   "file_extension": ".py",
   "mimetype": "text/x-python",
   "name": "python",
   "nbconvert_exporter": "python",
   "pygments_lexer": "ipython3",
   "version": "3.9.7"
  }
 },
 "nbformat": 4,
 "nbformat_minor": 5
}

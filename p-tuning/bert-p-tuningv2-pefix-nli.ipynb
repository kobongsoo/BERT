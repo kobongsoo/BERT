{
 "cells": [
  {
   "cell_type": "code",
   "execution_count": 1,
   "id": "6758d6d2-adb0-48a6-b62c-523410ea2168",
   "metadata": {},
   "outputs": [
    {
     "name": "stdout",
     "output_type": "stream",
     "text": [
      "logfilepath:bert-p-tuing_2022-07-13.log\n",
      "True\n",
      "device: cuda:0\n",
      "cuda index: 0\n",
      "gpu 개수: 1\n",
      "graphic name: NVIDIA A30\n"
     ]
    }
   ],
   "source": [
    "#=======================================================================================\n",
    "# P-TUNING NLI(Natural Language Interference:자연어 추론) 훈련 예제\n",
    "#\n",
    "# => input_ids : [CLS]senetence1(전제)[SEP]sentence2(가설)\n",
    "# => attention_mask : 1111111111(전체,가설)0000000(그외)\n",
    "# => token_type_ids : 0000000(전제)1111111(가설)00000000(그외)\n",
    "# => laels : 참(수반:entailment), 거짓(모순:contradiction), 모름(중립:neutral)\n",
    "#\n",
    "#\n",
    "# prefix-tuning => GPT-2, T5등 LM에서 접두사 prompt를 추가하여 훈련시키는 방식\n",
    "#\n",
    "# p-tuning => P-tuning은 prefix-tuning보다 유연 합니다. \n",
    "# 시작할 때뿐만 아니라 프롬프트 중간에 학습 가능한 토큰을 삽입하기 때문입니다. \n",
    "# https://github.com/THUDM/P-tuning\n",
    "#\n",
    "# p-tuing v2 => 새로운 방식이 아니라 NLU 향상을 위해, MLM 모델에 prefix-tuning을 적용한 방식\n",
    "# https://github.com/THUDM/P-tuning-v2\n",
    "#=======================================================================================\n",
    "import numpy as np\n",
    "import pandas as pd\n",
    "import torch\n",
    "from transformers import AutoConfig, AutoTokenizer, set_seed\n",
    "import os\n",
    "from os import sys\n",
    "from transformers import BertTokenizer, HfArgumentParser, TrainingArguments\n",
    "\n",
    "sys.path.append('..')\n",
    "from myutils import seed_everything, GPU_info, mlogging\n",
    "from tqdm.notebook import tqdm\n",
    "\n",
    "\n",
    "logger = mlogging(loggername=\"bert-p-tuing\", logfilename=\"bert-p-tuing\")\n",
    "device = GPU_info()\n",
    "\n",
    "model_path = '../../data11/model/bert/bert-multilingual-cased'\n",
    "\n",
    "#tokenize 설정\n",
    "#tokenizer = AutoTokenizer.from_pretrained(model_path, TOKENIZERS_PARALLELISM=True)\n",
    "tokenizer = BertTokenizer.from_pretrained(model_path, strip_accents=False, do_lower_case=False)\n"
   ]
  },
  {
   "cell_type": "code",
   "execution_count": 2,
   "id": "8631b209-d129-4a7a-bf7c-f4c64c79c6b6",
   "metadata": {},
   "outputs": [
    {
     "name": "stdout",
     "output_type": "stream",
     "text": [
      "False\n",
      "20\n",
      "True\n",
      "steps\n",
      "3e-05\n"
     ]
    }
   ],
   "source": [
    "# 인자들 설정\n",
    "#======================================================\n",
    "# data args 인자 설정 \n",
    "class data_args:\n",
    "    dataset_name='rte'\n",
    "    pad_to_max_length = True\n",
    "    max_seq_length = 128\n",
    "    overwrite_cache = True\n",
    "    max_train_samples = None\n",
    "    max_eval_samples = None\n",
    "    max_predict_samples = None\n",
    "    \n",
    "#======================================================\n",
    "\n",
    "#======================================================\n",
    "# 허깅페이스 TrainingArguments 설정\n",
    "training_args = TrainingArguments(\"p-tuning-bert-test\")\n",
    "\n",
    "# run_rte_bert.sh 에 사용된 인자만 새롭게 정의함.\n",
    "training_args.do_train=True\n",
    "training_args.do_eval=True\n",
    "training_args.seed = 111\n",
    "training_args.per_device_train_batch_size=32  #batch_size\n",
    "training_args.learning_rate =3e-5        #lr\n",
    "training_args.save_strategy = \"no\"\n",
    "training_args.evaluation_strategy = \"steps\"  #eval 언제마다 할지 => no, steps, epoch\n",
    "training_args.num_train_epochs=30 # epochs\n",
    "training_args.output_dir = '../../data11/model/bert/bert-multilingual-cased-p-tuing-pp-nli-50'\n",
    "\n",
    "#training_args.report_to = \"none\"  # 기본은 all로 , all이면 wandb에도 기록된다.\n",
    "#======================================================\n",
    "   \n",
    "#======================================================\n",
    "# p-tuningv2 prefixt 튜닝일때 설정값 지정 \n",
    "pre_seq_len = 50             # prefix 계수\n",
    "prefix_projection = True     # True = two-layer MLP 사용함(Multi-layer perceptron(다중퍼셉트론))\n",
    "prefix_hidden_size = 512     # prefix hidden size\n",
    "#======================================================\n",
    "\n",
    "#======================================================\n",
    "#seed 설정\n",
    "#set_seed(training_args.seed)\n",
    "seed_everything(training_args.seed)\n",
    "#======================================================\n",
    "\n",
    "print(training_args.fp16)\n",
    "print(training_args.get_process_log_level())\n",
    "print(training_args.do_train)\n",
    "print(training_args.evaluation_strategy)\n",
    "print(training_args.learning_rate)"
   ]
  },
  {
   "cell_type": "code",
   "execution_count": 3,
   "id": "f1ff649f-7706-49b3-a6cf-cf7cc02d4900",
   "metadata": {},
   "outputs": [
    {
     "name": "stdout",
     "output_type": "stream",
     "text": [
      "Creating features from dataset file at ../../data11/korpora/klue-nli/klue-nli-v1.1_train.json\n",
      "loading data... LOOKING AT ../../data11/korpora/klue-nli/klue-nli-v1.1_train.json\n",
      "tokenize sentences, it could take a lot of time...\n"
     ]
    },
    {
     "name": "stderr",
     "output_type": "stream",
     "text": [
      "Be aware, overflowing tokens are not returned for the setting you have chosen, i.e. sequence pairs with the 'longest_first' truncation strategy. So the returned list will always be empty even if some tokens have been removed.\n"
     ]
    },
    {
     "name": "stdout",
     "output_type": "stream",
     "text": [
      "tokenize sentences [took %.3f s] 7.6594157218933105\n"
     ]
    },
    {
     "data": {
      "application/vnd.jupyter.widget-view+json": {
       "model_id": "6b82e82c3e164d91a52aa52df4dfab28",
       "version_major": 2,
       "version_minor": 0
      },
      "text/plain": [
       "  0%|          | 0/24998 [00:00<?, ?it/s]"
      ]
     },
     "metadata": {},
     "output_type": "display_data"
    },
    {
     "name": "stdout",
     "output_type": "stream",
     "text": [
      "*** Example ***\n",
      "sentence A, B: 힛걸 진심 최고다 그 어떤 히어로보다 멋지다 + 힛걸 진심 최고로 멋지다.\n",
      "tokens: [CLS] [UNK] 진 ##심 최고 ##다 그 어떤 히 ##어로 ##보다 멋 ##지 ##다 [SEP] [UNK] 진 ##심 최고 ##로 멋 ##지 ##다 . [SEP] [PAD] [PAD] [PAD] [PAD] [PAD] [PAD] [PAD] [PAD] [PAD] [PAD] [PAD] [PAD] [PAD] [PAD] [PAD] [PAD] [PAD] [PAD] [PAD] [PAD] [PAD] [PAD] [PAD] [PAD] [PAD] [PAD] [PAD] [PAD] [PAD] [PAD] [PAD] [PAD] [PAD] [PAD] [PAD] [PAD] [PAD] [PAD] [PAD] [PAD] [PAD] [PAD] [PAD] [PAD] [PAD] [PAD] [PAD] [PAD] [PAD] [PAD] [PAD] [PAD] [PAD] [PAD] [PAD] [PAD] [PAD] [PAD] [PAD] [PAD] [PAD] [PAD] [PAD] [PAD] [PAD] [PAD] [PAD] [PAD] [PAD] [PAD] [PAD] [PAD] [PAD] [PAD] [PAD] [PAD] [PAD] [PAD] [PAD] [PAD] [PAD] [PAD] [PAD] [PAD] [PAD] [PAD] [PAD] [PAD] [PAD] [PAD] [PAD] [PAD] [PAD] [PAD] [PAD] [PAD] [PAD] [PAD] [PAD] [PAD] [PAD] [PAD] [PAD]\n",
      "label: entailment\n",
      "features: ClassificationFeatures(input_ids=[101, 100, 9708, 71013, 83491, 11903, 8924, 55910, 10025, 81483, 80001, 9270, 12508, 11903, 102, 100, 9708, 71013, 83491, 11261, 9270, 12508, 11903, 119, 102, 0, 0, 0, 0, 0, 0, 0, 0, 0, 0, 0, 0, 0, 0, 0, 0, 0, 0, 0, 0, 0, 0, 0, 0, 0, 0, 0, 0, 0, 0, 0, 0, 0, 0, 0, 0, 0, 0, 0, 0, 0, 0, 0, 0, 0, 0, 0, 0, 0, 0, 0, 0, 0, 0, 0, 0, 0, 0, 0, 0, 0, 0, 0, 0, 0, 0, 0, 0, 0, 0, 0, 0, 0, 0, 0, 0, 0, 0, 0, 0, 0, 0, 0, 0, 0, 0, 0, 0, 0, 0, 0, 0, 0, 0, 0, 0, 0, 0, 0, 0, 0, 0, 0], attention_mask=[1, 1, 1, 1, 1, 1, 1, 1, 1, 1, 1, 1, 1, 1, 1, 1, 1, 1, 1, 1, 1, 1, 1, 1, 1, 0, 0, 0, 0, 0, 0, 0, 0, 0, 0, 0, 0, 0, 0, 0, 0, 0, 0, 0, 0, 0, 0, 0, 0, 0, 0, 0, 0, 0, 0, 0, 0, 0, 0, 0, 0, 0, 0, 0, 0, 0, 0, 0, 0, 0, 0, 0, 0, 0, 0, 0, 0, 0, 0, 0, 0, 0, 0, 0, 0, 0, 0, 0, 0, 0, 0, 0, 0, 0, 0, 0, 0, 0, 0, 0, 0, 0, 0, 0, 0, 0, 0, 0, 0, 0, 0, 0, 0, 0, 0, 0, 0, 0, 0, 0, 0, 0, 0, 0, 0, 0, 0, 0], token_type_ids=[0, 0, 0, 0, 0, 0, 0, 0, 0, 0, 0, 0, 0, 0, 0, 1, 1, 1, 1, 1, 1, 1, 1, 1, 1, 0, 0, 0, 0, 0, 0, 0, 0, 0, 0, 0, 0, 0, 0, 0, 0, 0, 0, 0, 0, 0, 0, 0, 0, 0, 0, 0, 0, 0, 0, 0, 0, 0, 0, 0, 0, 0, 0, 0, 0, 0, 0, 0, 0, 0, 0, 0, 0, 0, 0, 0, 0, 0, 0, 0, 0, 0, 0, 0, 0, 0, 0, 0, 0, 0, 0, 0, 0, 0, 0, 0, 0, 0, 0, 0, 0, 0, 0, 0, 0, 0, 0, 0, 0, 0, 0, 0, 0, 0, 0, 0, 0, 0, 0, 0, 0, 0, 0, 0, 0, 0, 0, 0], label=0)\n",
      "*** Example ***\n",
      "sentence A, B: 100분간 잘껄 그래도 소닉붐땜에 2점준다 + 100분간 잤다.\n",
      "tokens: [CLS] 100 ##분 ##간 [UNK] 그 ##래 ##도 [UNK] 2 ##점 ##준 ##다 [SEP] 100 ##분 ##간 [UNK] . [SEP] [PAD] [PAD] [PAD] [PAD] [PAD] [PAD] [PAD] [PAD] [PAD] [PAD] [PAD] [PAD] [PAD] [PAD] [PAD] [PAD] [PAD] [PAD] [PAD] [PAD] [PAD] [PAD] [PAD] [PAD] [PAD] [PAD] [PAD] [PAD] [PAD] [PAD] [PAD] [PAD] [PAD] [PAD] [PAD] [PAD] [PAD] [PAD] [PAD] [PAD] [PAD] [PAD] [PAD] [PAD] [PAD] [PAD] [PAD] [PAD] [PAD] [PAD] [PAD] [PAD] [PAD] [PAD] [PAD] [PAD] [PAD] [PAD] [PAD] [PAD] [PAD] [PAD] [PAD] [PAD] [PAD] [PAD] [PAD] [PAD] [PAD] [PAD] [PAD] [PAD] [PAD] [PAD] [PAD] [PAD] [PAD] [PAD] [PAD] [PAD] [PAD] [PAD] [PAD] [PAD] [PAD] [PAD] [PAD] [PAD] [PAD] [PAD] [PAD] [PAD] [PAD] [PAD] [PAD] [PAD] [PAD] [PAD] [PAD] [PAD] [PAD] [PAD] [PAD] [PAD] [PAD] [PAD] [PAD] [PAD]\n",
      "label: contradiction\n",
      "features: ClassificationFeatures(input_ids=[101, 10407, 37712, 18784, 100, 8924, 37388, 12092, 100, 123, 34907, 54867, 11903, 102, 10407, 37712, 18784, 100, 119, 102, 0, 0, 0, 0, 0, 0, 0, 0, 0, 0, 0, 0, 0, 0, 0, 0, 0, 0, 0, 0, 0, 0, 0, 0, 0, 0, 0, 0, 0, 0, 0, 0, 0, 0, 0, 0, 0, 0, 0, 0, 0, 0, 0, 0, 0, 0, 0, 0, 0, 0, 0, 0, 0, 0, 0, 0, 0, 0, 0, 0, 0, 0, 0, 0, 0, 0, 0, 0, 0, 0, 0, 0, 0, 0, 0, 0, 0, 0, 0, 0, 0, 0, 0, 0, 0, 0, 0, 0, 0, 0, 0, 0, 0, 0, 0, 0, 0, 0, 0, 0, 0, 0, 0, 0, 0, 0, 0, 0], attention_mask=[1, 1, 1, 1, 1, 1, 1, 1, 1, 1, 1, 1, 1, 1, 1, 1, 1, 1, 1, 1, 0, 0, 0, 0, 0, 0, 0, 0, 0, 0, 0, 0, 0, 0, 0, 0, 0, 0, 0, 0, 0, 0, 0, 0, 0, 0, 0, 0, 0, 0, 0, 0, 0, 0, 0, 0, 0, 0, 0, 0, 0, 0, 0, 0, 0, 0, 0, 0, 0, 0, 0, 0, 0, 0, 0, 0, 0, 0, 0, 0, 0, 0, 0, 0, 0, 0, 0, 0, 0, 0, 0, 0, 0, 0, 0, 0, 0, 0, 0, 0, 0, 0, 0, 0, 0, 0, 0, 0, 0, 0, 0, 0, 0, 0, 0, 0, 0, 0, 0, 0, 0, 0, 0, 0, 0, 0, 0, 0], token_type_ids=[0, 0, 0, 0, 0, 0, 0, 0, 0, 0, 0, 0, 0, 0, 1, 1, 1, 1, 1, 1, 0, 0, 0, 0, 0, 0, 0, 0, 0, 0, 0, 0, 0, 0, 0, 0, 0, 0, 0, 0, 0, 0, 0, 0, 0, 0, 0, 0, 0, 0, 0, 0, 0, 0, 0, 0, 0, 0, 0, 0, 0, 0, 0, 0, 0, 0, 0, 0, 0, 0, 0, 0, 0, 0, 0, 0, 0, 0, 0, 0, 0, 0, 0, 0, 0, 0, 0, 0, 0, 0, 0, 0, 0, 0, 0, 0, 0, 0, 0, 0, 0, 0, 0, 0, 0, 0, 0, 0, 0, 0, 0, 0, 0, 0, 0, 0, 0, 0, 0, 0, 0, 0, 0, 0, 0, 0, 0, 0], label=1)\n",
      "Saving features into cached file, it could take a lot of time...\n",
      "Saving features into cached file %s [took %.3f s] ../../data11/korpora/klue-nli/cached_BertTokenizer_128_klue-nli-v1.1_train.json 1.8428149223327637\n",
      "Creating features from dataset file at ../../data11/korpora/klue-nli/klue-nli-v1.1_dev.json\n",
      "loading data... LOOKING AT ../../data11/korpora/klue-nli/klue-nli-v1.1_dev.json\n",
      "tokenize sentences, it could take a lot of time...\n",
      "tokenize sentences [took %.3f s] 0.856285572052002\n"
     ]
    },
    {
     "data": {
      "application/vnd.jupyter.widget-view+json": {
       "model_id": "89e633144ef5492aa8558b20868d0a7d",
       "version_major": 2,
       "version_minor": 0
      },
      "text/plain": [
       "  0%|          | 0/3000 [00:00<?, ?it/s]"
      ]
     },
     "metadata": {},
     "output_type": "display_data"
    },
    {
     "name": "stdout",
     "output_type": "stream",
     "text": [
      "*** Example ***\n",
      "sentence A, B: 흡연자분들은 발코니가 있는 방이면 발코니에서 흡연이 가능합니다. + 어떤 방에서도 흡연은 금지됩니다.\n",
      "tokens: [CLS] 흡 ##연 ##자 ##분 ##들은 발 ##코 ##니 ##가 있는 방 ##이 ##면 발 ##코 ##니 ##에서 흡 ##연 ##이 가 ##능 ##합 ##니다 . [SEP] 어떤 방 ##에서 ##도 흡 ##연 ##은 [UNK] . [SEP] [PAD] [PAD] [PAD] [PAD] [PAD] [PAD] [PAD] [PAD] [PAD] [PAD] [PAD] [PAD] [PAD] [PAD] [PAD] [PAD] [PAD] [PAD] [PAD] [PAD] [PAD] [PAD] [PAD] [PAD] [PAD] [PAD] [PAD] [PAD] [PAD] [PAD] [PAD] [PAD] [PAD] [PAD] [PAD] [PAD] [PAD] [PAD] [PAD] [PAD] [PAD] [PAD] [PAD] [PAD] [PAD] [PAD] [PAD] [PAD] [PAD] [PAD] [PAD] [PAD] [PAD] [PAD] [PAD] [PAD] [PAD] [PAD] [PAD] [PAD] [PAD] [PAD] [PAD] [PAD] [PAD] [PAD] [PAD] [PAD] [PAD] [PAD] [PAD] [PAD] [PAD] [PAD] [PAD] [PAD] [PAD] [PAD] [PAD] [PAD] [PAD] [PAD] [PAD] [PAD] [PAD] [PAD] [PAD] [PAD] [PAD] [PAD] [PAD]\n",
      "label: contradiction\n",
      "features: ClassificationFeatures(input_ids=[101, 10020, 25486, 13764, 37712, 22879, 9323, 25517, 25503, 11287, 13767, 9328, 10739, 14867, 9323, 25517, 25503, 11489, 10020, 25486, 10739, 8843, 74986, 33188, 48345, 119, 102, 55910, 9328, 11489, 12092, 10020, 25486, 10892, 100, 119, 102, 0, 0, 0, 0, 0, 0, 0, 0, 0, 0, 0, 0, 0, 0, 0, 0, 0, 0, 0, 0, 0, 0, 0, 0, 0, 0, 0, 0, 0, 0, 0, 0, 0, 0, 0, 0, 0, 0, 0, 0, 0, 0, 0, 0, 0, 0, 0, 0, 0, 0, 0, 0, 0, 0, 0, 0, 0, 0, 0, 0, 0, 0, 0, 0, 0, 0, 0, 0, 0, 0, 0, 0, 0, 0, 0, 0, 0, 0, 0, 0, 0, 0, 0, 0, 0, 0, 0, 0, 0, 0, 0], attention_mask=[1, 1, 1, 1, 1, 1, 1, 1, 1, 1, 1, 1, 1, 1, 1, 1, 1, 1, 1, 1, 1, 1, 1, 1, 1, 1, 1, 1, 1, 1, 1, 1, 1, 1, 1, 1, 1, 0, 0, 0, 0, 0, 0, 0, 0, 0, 0, 0, 0, 0, 0, 0, 0, 0, 0, 0, 0, 0, 0, 0, 0, 0, 0, 0, 0, 0, 0, 0, 0, 0, 0, 0, 0, 0, 0, 0, 0, 0, 0, 0, 0, 0, 0, 0, 0, 0, 0, 0, 0, 0, 0, 0, 0, 0, 0, 0, 0, 0, 0, 0, 0, 0, 0, 0, 0, 0, 0, 0, 0, 0, 0, 0, 0, 0, 0, 0, 0, 0, 0, 0, 0, 0, 0, 0, 0, 0, 0, 0], token_type_ids=[0, 0, 0, 0, 0, 0, 0, 0, 0, 0, 0, 0, 0, 0, 0, 0, 0, 0, 0, 0, 0, 0, 0, 0, 0, 0, 0, 1, 1, 1, 1, 1, 1, 1, 1, 1, 1, 0, 0, 0, 0, 0, 0, 0, 0, 0, 0, 0, 0, 0, 0, 0, 0, 0, 0, 0, 0, 0, 0, 0, 0, 0, 0, 0, 0, 0, 0, 0, 0, 0, 0, 0, 0, 0, 0, 0, 0, 0, 0, 0, 0, 0, 0, 0, 0, 0, 0, 0, 0, 0, 0, 0, 0, 0, 0, 0, 0, 0, 0, 0, 0, 0, 0, 0, 0, 0, 0, 0, 0, 0, 0, 0, 0, 0, 0, 0, 0, 0, 0, 0, 0, 0, 0, 0, 0, 0, 0, 0], label=1)\n",
      "*** Example ***\n",
      "sentence A, B: 10명이 함께 사용하기 불편함없이 만족했다. + 10명이 함께 사용하기 불편함이 많았다.\n",
      "tokens: [CLS] 10 ##명이 함께 사 ##용 ##하기 불 ##편 ##함 ##없 ##이 만 ##족 ##했다 . [SEP] 10 ##명이 함께 사 ##용 ##하기 불 ##편 ##함 ##이 많 ##았다 . [SEP] [PAD] [PAD] [PAD] [PAD] [PAD] [PAD] [PAD] [PAD] [PAD] [PAD] [PAD] [PAD] [PAD] [PAD] [PAD] [PAD] [PAD] [PAD] [PAD] [PAD] [PAD] [PAD] [PAD] [PAD] [PAD] [PAD] [PAD] [PAD] [PAD] [PAD] [PAD] [PAD] [PAD] [PAD] [PAD] [PAD] [PAD] [PAD] [PAD] [PAD] [PAD] [PAD] [PAD] [PAD] [PAD] [PAD] [PAD] [PAD] [PAD] [PAD] [PAD] [PAD] [PAD] [PAD] [PAD] [PAD] [PAD] [PAD] [PAD] [PAD] [PAD] [PAD] [PAD] [PAD] [PAD] [PAD] [PAD] [PAD] [PAD] [PAD] [PAD] [PAD] [PAD] [PAD] [PAD] [PAD] [PAD] [PAD] [PAD] [PAD] [PAD] [PAD] [PAD] [PAD] [PAD] [PAD] [PAD] [PAD] [PAD] [PAD] [PAD] [PAD] [PAD] [PAD] [PAD] [PAD] [PAD]\n",
      "label: contradiction\n",
      "features: ClassificationFeatures(input_ids=[101, 10150, 66923, 19653, 9405, 24974, 22440, 9368, 50450, 48533, 119136, 10739, 9248, 52560, 12490, 119, 102, 10150, 66923, 19653, 9405, 24974, 22440, 9368, 50450, 48533, 10739, 9249, 27303, 119, 102, 0, 0, 0, 0, 0, 0, 0, 0, 0, 0, 0, 0, 0, 0, 0, 0, 0, 0, 0, 0, 0, 0, 0, 0, 0, 0, 0, 0, 0, 0, 0, 0, 0, 0, 0, 0, 0, 0, 0, 0, 0, 0, 0, 0, 0, 0, 0, 0, 0, 0, 0, 0, 0, 0, 0, 0, 0, 0, 0, 0, 0, 0, 0, 0, 0, 0, 0, 0, 0, 0, 0, 0, 0, 0, 0, 0, 0, 0, 0, 0, 0, 0, 0, 0, 0, 0, 0, 0, 0, 0, 0, 0, 0, 0, 0, 0, 0], attention_mask=[1, 1, 1, 1, 1, 1, 1, 1, 1, 1, 1, 1, 1, 1, 1, 1, 1, 1, 1, 1, 1, 1, 1, 1, 1, 1, 1, 1, 1, 1, 1, 0, 0, 0, 0, 0, 0, 0, 0, 0, 0, 0, 0, 0, 0, 0, 0, 0, 0, 0, 0, 0, 0, 0, 0, 0, 0, 0, 0, 0, 0, 0, 0, 0, 0, 0, 0, 0, 0, 0, 0, 0, 0, 0, 0, 0, 0, 0, 0, 0, 0, 0, 0, 0, 0, 0, 0, 0, 0, 0, 0, 0, 0, 0, 0, 0, 0, 0, 0, 0, 0, 0, 0, 0, 0, 0, 0, 0, 0, 0, 0, 0, 0, 0, 0, 0, 0, 0, 0, 0, 0, 0, 0, 0, 0, 0, 0, 0], token_type_ids=[0, 0, 0, 0, 0, 0, 0, 0, 0, 0, 0, 0, 0, 0, 0, 0, 0, 1, 1, 1, 1, 1, 1, 1, 1, 1, 1, 1, 1, 1, 1, 0, 0, 0, 0, 0, 0, 0, 0, 0, 0, 0, 0, 0, 0, 0, 0, 0, 0, 0, 0, 0, 0, 0, 0, 0, 0, 0, 0, 0, 0, 0, 0, 0, 0, 0, 0, 0, 0, 0, 0, 0, 0, 0, 0, 0, 0, 0, 0, 0, 0, 0, 0, 0, 0, 0, 0, 0, 0, 0, 0, 0, 0, 0, 0, 0, 0, 0, 0, 0, 0, 0, 0, 0, 0, 0, 0, 0, 0, 0, 0, 0, 0, 0, 0, 0, 0, 0, 0, 0, 0, 0, 0, 0, 0, 0, 0, 0], label=1)\n",
      "Saving features into cached file, it could take a lot of time...\n",
      "Saving features into cached file %s [took %.3f s] ../../data11/korpora/klue-nli/cached_BertTokenizer_128_klue-nli-v1.1_dev.json 0.21090316772460938\n"
     ]
    }
   ],
   "source": [
    "#nli 데이터 셋 로딩\n",
    "# 학습 data loader 생성\n",
    "#sys.path.append('..')\n",
    "from myutils import ClassificationDataset, KlueNLICorpus, data_collator\n",
    "from torch.utils.data import DataLoader, RandomSampler\n",
    "\n",
    "#############################################################################\n",
    "# 변수 설정\n",
    "#############################################################################\n",
    "max_seq_len = data_args.max_seq_length   # 글자 최대 토큰 길이 해당 토큰 길이 이상은 잘린다.\n",
    "batch_size = training_args.per_device_train_batch_size        # 배치 사이즈(64면 GUP Memory 오류 나므로, 32 이하로 설정할것=>max_seq_length 를 줄이면, 64도 가능함)\n",
    "\n",
    "# 훈련할 csv 파일\n",
    "file_fpath = '../../data11/korpora/klue-nli/klue-nli-v1.1_train.json'\n",
    "#file_fpath = 'Korpora/nsmc/ratings_train.txt'\n",
    "cache = True   # 캐쉬파일 생성할거면 True로 (True이면 loding할때 캐쉬파일있어도 이용안함)\n",
    "#############################################################################\n",
    "\n",
    "# corpus 파일 설정\n",
    "corpus = KlueNLICorpus()\n",
    "\n",
    "# 학습 dataset 생성\n",
    "dataset = ClassificationDataset(file_fpath=file_fpath,max_seq_length=max_seq_len, tokenizer=tokenizer, corpus=corpus, overwrite_cache=cache)\n",
    "\n",
    "\n",
    "# 학습 dataloader 생성\n",
    "train_loader = DataLoader(dataset, \n",
    "                          batch_size=batch_size, \n",
    "                          #shuffle=True, # dataset을 섞음\n",
    "                          sampler=RandomSampler(dataset, replacement=False), #dataset을 랜덤하게 샘플링함\n",
    "                          collate_fn=data_collator, # dataset을 tensor로 변환(예시 {'input_ids':tensor[0,1,2,3,1,], 'token_type_id:tensor[0,0,0,0,0], 'attention_mask:tensor[1,1,1,1,1], 'labels':tensor[5]}\n",
    "                          num_workers=4)\n",
    "\n",
    "# 평가 dataset 생성\n",
    "file_fpath = '../../data11/korpora/klue-nli/klue-nli-v1.1_dev.json'\n",
    "dataset = ClassificationDataset(file_fpath=file_fpath, max_seq_length=max_seq_len, tokenizer=tokenizer, corpus=corpus, overwrite_cache=cache)\n",
    "\n",
    "# 평가 dataloader 생성\n",
    "eval_loader = DataLoader(dataset, \n",
    "                          batch_size=batch_size, \n",
    "                          #shuffle=True, # dataset을 섞음\n",
    "                          sampler=RandomSampler(dataset, replacement=False), #dataset을 랜덤하게 샘플링함\n",
    "                          collate_fn=data_collator, # dataset을 tensor로 변환(예시 {'input_ids':tensor[0,1,2,3,1,], 'token_type_id:tensor[0,0,0,0,0], 'attention_mask:tensor[1,1,1,1,1], 'labels':tensor[5]}\n",
    "                          num_workers=4)"
   ]
  },
  {
   "cell_type": "code",
   "execution_count": 4,
   "id": "c5ac7667-27c3-46a6-8b73-51007e5887d8",
   "metadata": {},
   "outputs": [
    {
     "name": "stdout",
     "output_type": "stream",
     "text": [
      "12\n",
      "12\n",
      "768\n"
     ]
    }
   ],
   "source": [
    "# config 설정 \n",
    "config = AutoConfig.from_pretrained(\n",
    "    model_path,\n",
    "    num_labels=3,  #nli이므로 3으로 함\n",
    "    #label2id=dataset.label2id,\n",
    "    #id2label=dataset.id2label,\n",
    "    finetuning_task=data_args.dataset_name,\n",
    "    revision=\"main\"\n",
    ")\n",
    "\n",
    "#========================================================================\n",
    "# 훈련 모델에 따라 아래값들을 바꿔줘야 함.\n",
    "#========================================================================\n",
    "#get_model 에서 --prefix인경우 config 인자 설정해 주고 있음.\n",
    "\n",
    "config.hidden_dropout_prob = 0.1\n",
    "config.pre_seq_len = pre_seq_len             # prefix 계수\n",
    "config.prefix_projection = prefix_projection    # True = two-layer MLP 사용함(Multi-layer perceptron(다중퍼셉트론))\n",
    "config.prefix_hidden_size = prefix_hidden_size     # prefix hidden size\n",
    "#========================================================================\n",
    "\n",
    "print(config.num_hidden_layers)\n",
    "print(config.num_attention_heads)\n",
    "print(config.hidden_size)"
   ]
  },
  {
   "cell_type": "code",
   "execution_count": 5,
   "id": "e96dfcf9-f7be-479b-b92c-38f493739967",
   "metadata": {},
   "outputs": [],
   "source": [
    "#==============================================================================\n",
    "# p-tuing v2 => 새로운 방식이 아니라 NLU 향상을 위해, MLM 모델에 prefix-tuning을 적용한 방식\n",
    "# 참고 소스 : https://github.com/THUDM/P-tuning-v2\n",
    "# \n",
    "# p-tuning-v2의 주요 기여는 원래 입력 전에 사용자 정의 길이의 레이어 프롬프트를 추가하고 \n",
    "# 다운스트림 작업에 대한 후속 교육에서 BERT 모델의 모든 매개변수를 고정하고 이러한 프롬프트만 교육하는 것임.\n",
    "# 설명 : https://zhuanlan.zhihu.com/p/459305102\n",
    "#\n",
    "# => P-tuning-v2의 구현 방식은 prefix N 시퀀스를 생성한 다음, 원래 bert 모델과 연결한다. 이때 bert의 past_key_values(*여기서는 decoding 속도 개선 목적이 아님)를 이용함\n",
    "# => bert의 past_key_values로 prefix에대한 key 와 value 를 넘겨줘서, 기존 입력 key, value와 연결시키도록 함.\n",
    "# => get_prompt() 함수 : prefix를 past_key_value 형식(batch_size, num_heads, sequence_length - 1, embed_size_per_head)으로 조정(만듬)\n",
    "# => attention_mask : 기존 attention_mask +  prefix_attention_mask \n",
    "#==============================================================================\n",
    "\n",
    "import copy\n",
    "import torch\n",
    "from torch._C import NoopLogger\n",
    "import torch.nn\n",
    "import torch.nn.functional as F\n",
    "from torch import Tensor\n",
    "from torch.nn import CrossEntropyLoss, MSELoss, BCEWithLogitsLoss\n",
    "from transformers import BertModel, BertPreTrainedModel\n",
    "from transformers.modeling_outputs import SequenceClassifierOutput, BaseModelOutput, Seq2SeqLMOutput\n",
    "\n",
    "class PrefixEncoder(torch.nn.Module):\n",
    "    r'''\n",
    "    The torch.nn model to encode the prefix\n",
    "    Input shape: (batch-size, prefix-length)\n",
    "    Output shape: (batch-size, prefix-length, 2*layers*hidden)\n",
    "    '''\n",
    "    def __init__(self, config):\n",
    "        super().__init__()\n",
    "        self.prefix_projection = config.prefix_projection\n",
    "        if self.prefix_projection:\n",
    "            # Use a two-layer MLP to encode the prefix\n",
    "            self.embedding = torch.nn.Embedding(config.pre_seq_len, config.hidden_size)\n",
    "            self.trans = torch.nn.Sequential(\n",
    "                torch.nn.Linear(config.hidden_size, config.prefix_hidden_size),\n",
    "                torch.nn.Tanh(),\n",
    "                \n",
    "                # num_hidden_layers(12)*2*dim_embedding 인데, \n",
    "                # 여기서 *2는 key와 value를 기존 입력 key와 value로 연결시키는 구조이므로, *2를 해준것임.\n",
    "                torch.nn.Linear(config.prefix_hidden_size, config.num_hidden_layers * 2 * config.hidden_size)\n",
    "            )\n",
    "        else:\n",
    "            self.embedding = torch.nn.Embedding(config.pre_seq_len, config.num_hidden_layers * 2 * config.hidden_size)\n",
    "\n",
    "    def forward(self, prefix: torch.Tensor):\n",
    "        if self.prefix_projection:\n",
    "            prefix_tokens = self.embedding(prefix)\n",
    "            past_key_values = self.trans(prefix_tokens)\n",
    "        else:\n",
    "            past_key_values = self.embedding(prefix)\n",
    "        return past_key_values\n",
    "    \n",
    "class BertPrefixForSequenceClassification(BertPreTrainedModel):\n",
    "    def __init__(self, config):\n",
    "        super().__init__(config)\n",
    "        self.num_labels = config.num_labels\n",
    "        self.config = config\n",
    "        self.bert = BertModel(config)\n",
    "        self.dropout = torch.nn.Dropout(config.hidden_dropout_prob)\n",
    "        self.classifier = torch.nn.Linear(config.hidden_size, config.num_labels)\n",
    "\n",
    "        # ***bert 모델은 grad 업데이트 안함(역전파 끔)\n",
    "        for param in self.bert.parameters():\n",
    "            param.requires_grad = False\n",
    "        \n",
    "        self.pre_seq_len = config.pre_seq_len\n",
    "        self.n_layer = config.num_hidden_layers  # 12\n",
    "        self.n_head = config.num_attention_heads # 12\n",
    "        self.n_embd = config.hidden_size // config.num_attention_heads  # 64 = 768 % 12\n",
    "\n",
    "        self.prefix_tokens = torch.arange(self.pre_seq_len).long()\n",
    "        self.prefix_encoder = PrefixEncoder(config)\n",
    "\n",
    "        bert_param = 0\n",
    "        for name, param in self.bert.named_parameters():\n",
    "            bert_param += param.numel()\n",
    "        all_param = 0\n",
    "        for name, param in self.named_parameters():\n",
    "            all_param += param.numel()\n",
    "        total_param = all_param - bert_param\n",
    "        print('total param is {}'.format(total_param)) # 9860105\n",
    "    \n",
    "    def get_prompt(self, batch_size):\n",
    "        # [32,20] 만듬 (32:batch_size, 20 은 self.prefix_tokens arange로 생성한 값)\n",
    "        prefix_tokens = self.prefix_tokens.unsqueeze(0).expand(batch_size, -1).to(self.bert.device)\n",
    "        #print(f'prefix_tokens=>{prefix_tokens.shape}')\n",
    "        \n",
    "        past_key_values = self.prefix_encoder(prefix_tokens)\n",
    "        #print(f'past_key_values1=>{past_key_values.shape}')\n",
    "            \n",
    "        # bsz, seqlen, _ = past_key_values.shape\n",
    "        past_key_values = past_key_values.view(\n",
    "            batch_size,\n",
    "            self.pre_seq_len,\n",
    "            self.n_layer * 2, \n",
    "            self.n_head,\n",
    "            self.n_embd\n",
    "        )\n",
    "        # batch_size:32, pre_seq_len:20, nlayer:12, nhead:12, n_emb:64\n",
    "        #print(f'*batch_size:{batch_size}, pre_seq_len:{self.pre_seq_len}, nlayer:{self.n_layer}, nhead:{self.n_head}, n_emb:{self.n_embd}') \n",
    "        \n",
    "        #print(f'past_key_values2=>{past_key_values.shape}')  # torch.Size([32, 20, 24, 12, 64])\n",
    "            \n",
    "        past_key_values = self.dropout(past_key_values)\n",
    "        #print(f'past_key_values3=>{past_key_values.shape}')  # torch.Size([32, 20, 24, 12, 64])\n",
    "            \n",
    "        # (batch_size, num_heads, sequence_length - 1, embed_size_per_head) 식으로 만들어줌.    \n",
    "        past_key_values = past_key_values.permute([2, 0, 3, 1, 4]).split(2)\n",
    "        # torch.Size([2, 32, 12, 20, 64]), len\"12\n",
    "        #print(f'past_key_values4=>{past_key_values[0].shape}, len\"{len(past_key_values)}')\n",
    "        \n",
    "        return past_key_values\n",
    "\n",
    "    def forward(\n",
    "        self,\n",
    "        input_ids=None,\n",
    "        attention_mask=None,\n",
    "        token_type_ids=None,\n",
    "        position_ids=None,\n",
    "        head_mask=None,\n",
    "        inputs_embeds=None,\n",
    "        labels=None,\n",
    "        output_attentions=None,\n",
    "        output_hidden_states=None,\n",
    "        return_dict=None,\n",
    "    ):\n",
    "        return_dict = return_dict if return_dict is not None else self.config.use_return_dict\n",
    "        #print(f'return_dict=>{return_dict}') # True\n",
    "            \n",
    "        batch_size = input_ids.shape[0]\n",
    "        \n",
    "        # past_key_values를 지정하면, 어텐션 블록에서, 미리 계산된 키 및 값 숨겨진 상태를 포함한다.\n",
    "        # 즉 p-tuning-v2는 추가된 prefix value 와 key를 기존 입력 value와 key를 서로 연결시키는 구조이다.\n",
    "        # 따라서 prefix의 past_key_values를 구하는데 (batch_size, num_heads, sequence_length - 1, embed_size_per_head) 형태로 구하면 된다.\n",
    "        # 참고 : https://zhuanlan.zhihu.com/p/459305102\n",
    "        # => past_key_values 를 지정하지 않으면 아래와 같은 에러가 발생함.\n",
    "        # RuntimeError: The size of tensor a (128) must match the size of tensor b (148) at non-singleton dimension 3\n",
    "        past_key_values = self.get_prompt(batch_size=batch_size)\n",
    "        \n",
    "        # attention_mask : 기존 attention_mask +  prefix_attention_mask 더함.\n",
    "        # prefix_attention_mask 를 구하고, \n",
    "        prefix_attention_mask = torch.ones(batch_size, self.pre_seq_len).to(self.bert.device)\n",
    "        #print(f'prefix_attention_mask=>{prefix_attention_mask.shape}') # torch.Size([32, 20])\n",
    "        \n",
    "        # 기존 attention_mask +  prefix_attention_mask 합침.\n",
    "        attention_mask = torch.cat((prefix_attention_mask, attention_mask), dim=1) # 128(기존 attention_mask) + 20(prefix_attention_mask) = 148\n",
    "        \n",
    "        #print(f'*attention_mask2=>{attention_mask.shape}') # torch.Size([32, 148])\n",
    "        #print(f'*input_ids=>{input_ids.shape}')\n",
    "        #print(f'*token_type_ids=>{token_type_ids.shape}')\n",
    "        #print(f'*past_key_values=>{past_key_values[0].shape}')\n",
    "        \n",
    "        outputs = self.bert(\n",
    "            input_ids,\n",
    "            attention_mask=attention_mask,\n",
    "            token_type_ids=token_type_ids,\n",
    "            position_ids=position_ids,\n",
    "            head_mask=head_mask,\n",
    "            inputs_embeds=inputs_embeds,\n",
    "            output_attentions=output_attentions,\n",
    "            output_hidden_states=output_hidden_states,\n",
    "            return_dict=return_dict,\n",
    "            past_key_values=past_key_values,\n",
    "        )\n",
    "\n",
    "        pooled_output = outputs[1]\n",
    "\n",
    "        pooled_output = self.dropout(pooled_output)\n",
    "        logits = self.classifier(pooled_output)\n",
    "\n",
    "        loss = None\n",
    "        if labels is not None:\n",
    "            if self.config.problem_type is None:\n",
    "                if self.num_labels == 1:\n",
    "                    self.config.problem_type = \"regression\"\n",
    "                elif self.num_labels > 1 and (labels.dtype == torch.long or labels.dtype == torch.int):\n",
    "                    self.config.problem_type = \"single_label_classification\"\n",
    "                else:\n",
    "                    self.config.problem_type = \"multi_label_classification\"\n",
    "\n",
    "            if self.config.problem_type == \"regression\":\n",
    "                loss_fct = MSELoss()\n",
    "                if self.num_labels == 1:\n",
    "                    loss = loss_fct(logits.squeeze(), labels.squeeze())\n",
    "                else:\n",
    "                    loss = loss_fct(logits, labels)\n",
    "            elif self.config.problem_type == \"single_label_classification\":\n",
    "                loss_fct = CrossEntropyLoss()\n",
    "                loss = loss_fct(logits.view(-1, self.num_labels), labels.view(-1))\n",
    "            elif self.config.problem_type == \"multi_label_classification\":\n",
    "                loss_fct = BCEWithLogitsLoss()\n",
    "                loss = loss_fct(logits, labels)\n",
    "        if not return_dict:\n",
    "            output = (logits,) + outputs[2:]\n",
    "            return ((loss,) + output) if loss is not None else output\n",
    "\n",
    "        return SequenceClassifierOutput(\n",
    "            loss=loss,\n",
    "            logits=logits,\n",
    "            hidden_states=outputs.hidden_states,\n",
    "            attentions=outputs.attentions,\n",
    "        )"
   ]
  },
  {
   "cell_type": "code",
   "execution_count": 6,
   "id": "fbbbd6d0-ced7-4815-a70c-f7d7a52f7094",
   "metadata": {},
   "outputs": [
    {
     "name": "stdout",
     "output_type": "stream",
     "text": [
      "total param is 9890051\n"
     ]
    },
    {
     "name": "stderr",
     "output_type": "stream",
     "text": [
      "Some weights of the model checkpoint at ../../data11/model/bert/bert-multilingual-cased were not used when initializing BertPrefixForSequenceClassification: ['cls.predictions.transform.dense.weight', 'cls.predictions.transform.dense.bias', 'cls.seq_relationship.bias', 'cls.predictions.transform.LayerNorm.weight', 'cls.predictions.transform.LayerNorm.bias', 'cls.predictions.bias', 'cls.predictions.decoder.weight', 'cls.seq_relationship.weight']\n",
      "- This IS expected if you are initializing BertPrefixForSequenceClassification from the checkpoint of a model trained on another task or with another architecture (e.g. initializing a BertForSequenceClassification model from a BertForPreTraining model).\n",
      "- This IS NOT expected if you are initializing BertPrefixForSequenceClassification from the checkpoint of a model that you expect to be exactly identical (initializing a BertForSequenceClassification model from a BertForSequenceClassification model).\n",
      "Some weights of BertPrefixForSequenceClassification were not initialized from the model checkpoint at ../../data11/model/bert/bert-multilingual-cased and are newly initialized: ['prefix_encoder.trans.0.bias', 'classifier.weight', 'prefix_encoder.trans.0.weight', 'prefix_encoder.trans.2.weight', 'prefix_encoder.trans.2.bias', 'classifier.bias', 'prefix_encoder.embedding.weight']\n",
      "You should probably TRAIN this model on a down-stream task to be able to use it for predictions and inference.\n"
     ]
    },
    {
     "data": {
      "text/plain": [
       "BertPrefixForSequenceClassification(\n",
       "  (bert): BertModel(\n",
       "    (embeddings): BertEmbeddings(\n",
       "      (word_embeddings): Embedding(119547, 768, padding_idx=0)\n",
       "      (position_embeddings): Embedding(512, 768)\n",
       "      (token_type_embeddings): Embedding(2, 768)\n",
       "      (LayerNorm): LayerNorm((768,), eps=1e-12, elementwise_affine=True)\n",
       "      (dropout): Dropout(p=0.1, inplace=False)\n",
       "    )\n",
       "    (encoder): BertEncoder(\n",
       "      (layer): ModuleList(\n",
       "        (0): BertLayer(\n",
       "          (attention): BertAttention(\n",
       "            (self): BertSelfAttention(\n",
       "              (query): Linear(in_features=768, out_features=768, bias=True)\n",
       "              (key): Linear(in_features=768, out_features=768, bias=True)\n",
       "              (value): Linear(in_features=768, out_features=768, bias=True)\n",
       "              (dropout): Dropout(p=0.1, inplace=False)\n",
       "            )\n",
       "            (output): BertSelfOutput(\n",
       "              (dense): Linear(in_features=768, out_features=768, bias=True)\n",
       "              (LayerNorm): LayerNorm((768,), eps=1e-12, elementwise_affine=True)\n",
       "              (dropout): Dropout(p=0.1, inplace=False)\n",
       "            )\n",
       "          )\n",
       "          (intermediate): BertIntermediate(\n",
       "            (dense): Linear(in_features=768, out_features=3072, bias=True)\n",
       "          )\n",
       "          (output): BertOutput(\n",
       "            (dense): Linear(in_features=3072, out_features=768, bias=True)\n",
       "            (LayerNorm): LayerNorm((768,), eps=1e-12, elementwise_affine=True)\n",
       "            (dropout): Dropout(p=0.1, inplace=False)\n",
       "          )\n",
       "        )\n",
       "        (1): BertLayer(\n",
       "          (attention): BertAttention(\n",
       "            (self): BertSelfAttention(\n",
       "              (query): Linear(in_features=768, out_features=768, bias=True)\n",
       "              (key): Linear(in_features=768, out_features=768, bias=True)\n",
       "              (value): Linear(in_features=768, out_features=768, bias=True)\n",
       "              (dropout): Dropout(p=0.1, inplace=False)\n",
       "            )\n",
       "            (output): BertSelfOutput(\n",
       "              (dense): Linear(in_features=768, out_features=768, bias=True)\n",
       "              (LayerNorm): LayerNorm((768,), eps=1e-12, elementwise_affine=True)\n",
       "              (dropout): Dropout(p=0.1, inplace=False)\n",
       "            )\n",
       "          )\n",
       "          (intermediate): BertIntermediate(\n",
       "            (dense): Linear(in_features=768, out_features=3072, bias=True)\n",
       "          )\n",
       "          (output): BertOutput(\n",
       "            (dense): Linear(in_features=3072, out_features=768, bias=True)\n",
       "            (LayerNorm): LayerNorm((768,), eps=1e-12, elementwise_affine=True)\n",
       "            (dropout): Dropout(p=0.1, inplace=False)\n",
       "          )\n",
       "        )\n",
       "        (2): BertLayer(\n",
       "          (attention): BertAttention(\n",
       "            (self): BertSelfAttention(\n",
       "              (query): Linear(in_features=768, out_features=768, bias=True)\n",
       "              (key): Linear(in_features=768, out_features=768, bias=True)\n",
       "              (value): Linear(in_features=768, out_features=768, bias=True)\n",
       "              (dropout): Dropout(p=0.1, inplace=False)\n",
       "            )\n",
       "            (output): BertSelfOutput(\n",
       "              (dense): Linear(in_features=768, out_features=768, bias=True)\n",
       "              (LayerNorm): LayerNorm((768,), eps=1e-12, elementwise_affine=True)\n",
       "              (dropout): Dropout(p=0.1, inplace=False)\n",
       "            )\n",
       "          )\n",
       "          (intermediate): BertIntermediate(\n",
       "            (dense): Linear(in_features=768, out_features=3072, bias=True)\n",
       "          )\n",
       "          (output): BertOutput(\n",
       "            (dense): Linear(in_features=3072, out_features=768, bias=True)\n",
       "            (LayerNorm): LayerNorm((768,), eps=1e-12, elementwise_affine=True)\n",
       "            (dropout): Dropout(p=0.1, inplace=False)\n",
       "          )\n",
       "        )\n",
       "        (3): BertLayer(\n",
       "          (attention): BertAttention(\n",
       "            (self): BertSelfAttention(\n",
       "              (query): Linear(in_features=768, out_features=768, bias=True)\n",
       "              (key): Linear(in_features=768, out_features=768, bias=True)\n",
       "              (value): Linear(in_features=768, out_features=768, bias=True)\n",
       "              (dropout): Dropout(p=0.1, inplace=False)\n",
       "            )\n",
       "            (output): BertSelfOutput(\n",
       "              (dense): Linear(in_features=768, out_features=768, bias=True)\n",
       "              (LayerNorm): LayerNorm((768,), eps=1e-12, elementwise_affine=True)\n",
       "              (dropout): Dropout(p=0.1, inplace=False)\n",
       "            )\n",
       "          )\n",
       "          (intermediate): BertIntermediate(\n",
       "            (dense): Linear(in_features=768, out_features=3072, bias=True)\n",
       "          )\n",
       "          (output): BertOutput(\n",
       "            (dense): Linear(in_features=3072, out_features=768, bias=True)\n",
       "            (LayerNorm): LayerNorm((768,), eps=1e-12, elementwise_affine=True)\n",
       "            (dropout): Dropout(p=0.1, inplace=False)\n",
       "          )\n",
       "        )\n",
       "        (4): BertLayer(\n",
       "          (attention): BertAttention(\n",
       "            (self): BertSelfAttention(\n",
       "              (query): Linear(in_features=768, out_features=768, bias=True)\n",
       "              (key): Linear(in_features=768, out_features=768, bias=True)\n",
       "              (value): Linear(in_features=768, out_features=768, bias=True)\n",
       "              (dropout): Dropout(p=0.1, inplace=False)\n",
       "            )\n",
       "            (output): BertSelfOutput(\n",
       "              (dense): Linear(in_features=768, out_features=768, bias=True)\n",
       "              (LayerNorm): LayerNorm((768,), eps=1e-12, elementwise_affine=True)\n",
       "              (dropout): Dropout(p=0.1, inplace=False)\n",
       "            )\n",
       "          )\n",
       "          (intermediate): BertIntermediate(\n",
       "            (dense): Linear(in_features=768, out_features=3072, bias=True)\n",
       "          )\n",
       "          (output): BertOutput(\n",
       "            (dense): Linear(in_features=3072, out_features=768, bias=True)\n",
       "            (LayerNorm): LayerNorm((768,), eps=1e-12, elementwise_affine=True)\n",
       "            (dropout): Dropout(p=0.1, inplace=False)\n",
       "          )\n",
       "        )\n",
       "        (5): BertLayer(\n",
       "          (attention): BertAttention(\n",
       "            (self): BertSelfAttention(\n",
       "              (query): Linear(in_features=768, out_features=768, bias=True)\n",
       "              (key): Linear(in_features=768, out_features=768, bias=True)\n",
       "              (value): Linear(in_features=768, out_features=768, bias=True)\n",
       "              (dropout): Dropout(p=0.1, inplace=False)\n",
       "            )\n",
       "            (output): BertSelfOutput(\n",
       "              (dense): Linear(in_features=768, out_features=768, bias=True)\n",
       "              (LayerNorm): LayerNorm((768,), eps=1e-12, elementwise_affine=True)\n",
       "              (dropout): Dropout(p=0.1, inplace=False)\n",
       "            )\n",
       "          )\n",
       "          (intermediate): BertIntermediate(\n",
       "            (dense): Linear(in_features=768, out_features=3072, bias=True)\n",
       "          )\n",
       "          (output): BertOutput(\n",
       "            (dense): Linear(in_features=3072, out_features=768, bias=True)\n",
       "            (LayerNorm): LayerNorm((768,), eps=1e-12, elementwise_affine=True)\n",
       "            (dropout): Dropout(p=0.1, inplace=False)\n",
       "          )\n",
       "        )\n",
       "        (6): BertLayer(\n",
       "          (attention): BertAttention(\n",
       "            (self): BertSelfAttention(\n",
       "              (query): Linear(in_features=768, out_features=768, bias=True)\n",
       "              (key): Linear(in_features=768, out_features=768, bias=True)\n",
       "              (value): Linear(in_features=768, out_features=768, bias=True)\n",
       "              (dropout): Dropout(p=0.1, inplace=False)\n",
       "            )\n",
       "            (output): BertSelfOutput(\n",
       "              (dense): Linear(in_features=768, out_features=768, bias=True)\n",
       "              (LayerNorm): LayerNorm((768,), eps=1e-12, elementwise_affine=True)\n",
       "              (dropout): Dropout(p=0.1, inplace=False)\n",
       "            )\n",
       "          )\n",
       "          (intermediate): BertIntermediate(\n",
       "            (dense): Linear(in_features=768, out_features=3072, bias=True)\n",
       "          )\n",
       "          (output): BertOutput(\n",
       "            (dense): Linear(in_features=3072, out_features=768, bias=True)\n",
       "            (LayerNorm): LayerNorm((768,), eps=1e-12, elementwise_affine=True)\n",
       "            (dropout): Dropout(p=0.1, inplace=False)\n",
       "          )\n",
       "        )\n",
       "        (7): BertLayer(\n",
       "          (attention): BertAttention(\n",
       "            (self): BertSelfAttention(\n",
       "              (query): Linear(in_features=768, out_features=768, bias=True)\n",
       "              (key): Linear(in_features=768, out_features=768, bias=True)\n",
       "              (value): Linear(in_features=768, out_features=768, bias=True)\n",
       "              (dropout): Dropout(p=0.1, inplace=False)\n",
       "            )\n",
       "            (output): BertSelfOutput(\n",
       "              (dense): Linear(in_features=768, out_features=768, bias=True)\n",
       "              (LayerNorm): LayerNorm((768,), eps=1e-12, elementwise_affine=True)\n",
       "              (dropout): Dropout(p=0.1, inplace=False)\n",
       "            )\n",
       "          )\n",
       "          (intermediate): BertIntermediate(\n",
       "            (dense): Linear(in_features=768, out_features=3072, bias=True)\n",
       "          )\n",
       "          (output): BertOutput(\n",
       "            (dense): Linear(in_features=3072, out_features=768, bias=True)\n",
       "            (LayerNorm): LayerNorm((768,), eps=1e-12, elementwise_affine=True)\n",
       "            (dropout): Dropout(p=0.1, inplace=False)\n",
       "          )\n",
       "        )\n",
       "        (8): BertLayer(\n",
       "          (attention): BertAttention(\n",
       "            (self): BertSelfAttention(\n",
       "              (query): Linear(in_features=768, out_features=768, bias=True)\n",
       "              (key): Linear(in_features=768, out_features=768, bias=True)\n",
       "              (value): Linear(in_features=768, out_features=768, bias=True)\n",
       "              (dropout): Dropout(p=0.1, inplace=False)\n",
       "            )\n",
       "            (output): BertSelfOutput(\n",
       "              (dense): Linear(in_features=768, out_features=768, bias=True)\n",
       "              (LayerNorm): LayerNorm((768,), eps=1e-12, elementwise_affine=True)\n",
       "              (dropout): Dropout(p=0.1, inplace=False)\n",
       "            )\n",
       "          )\n",
       "          (intermediate): BertIntermediate(\n",
       "            (dense): Linear(in_features=768, out_features=3072, bias=True)\n",
       "          )\n",
       "          (output): BertOutput(\n",
       "            (dense): Linear(in_features=3072, out_features=768, bias=True)\n",
       "            (LayerNorm): LayerNorm((768,), eps=1e-12, elementwise_affine=True)\n",
       "            (dropout): Dropout(p=0.1, inplace=False)\n",
       "          )\n",
       "        )\n",
       "        (9): BertLayer(\n",
       "          (attention): BertAttention(\n",
       "            (self): BertSelfAttention(\n",
       "              (query): Linear(in_features=768, out_features=768, bias=True)\n",
       "              (key): Linear(in_features=768, out_features=768, bias=True)\n",
       "              (value): Linear(in_features=768, out_features=768, bias=True)\n",
       "              (dropout): Dropout(p=0.1, inplace=False)\n",
       "            )\n",
       "            (output): BertSelfOutput(\n",
       "              (dense): Linear(in_features=768, out_features=768, bias=True)\n",
       "              (LayerNorm): LayerNorm((768,), eps=1e-12, elementwise_affine=True)\n",
       "              (dropout): Dropout(p=0.1, inplace=False)\n",
       "            )\n",
       "          )\n",
       "          (intermediate): BertIntermediate(\n",
       "            (dense): Linear(in_features=768, out_features=3072, bias=True)\n",
       "          )\n",
       "          (output): BertOutput(\n",
       "            (dense): Linear(in_features=3072, out_features=768, bias=True)\n",
       "            (LayerNorm): LayerNorm((768,), eps=1e-12, elementwise_affine=True)\n",
       "            (dropout): Dropout(p=0.1, inplace=False)\n",
       "          )\n",
       "        )\n",
       "        (10): BertLayer(\n",
       "          (attention): BertAttention(\n",
       "            (self): BertSelfAttention(\n",
       "              (query): Linear(in_features=768, out_features=768, bias=True)\n",
       "              (key): Linear(in_features=768, out_features=768, bias=True)\n",
       "              (value): Linear(in_features=768, out_features=768, bias=True)\n",
       "              (dropout): Dropout(p=0.1, inplace=False)\n",
       "            )\n",
       "            (output): BertSelfOutput(\n",
       "              (dense): Linear(in_features=768, out_features=768, bias=True)\n",
       "              (LayerNorm): LayerNorm((768,), eps=1e-12, elementwise_affine=True)\n",
       "              (dropout): Dropout(p=0.1, inplace=False)\n",
       "            )\n",
       "          )\n",
       "          (intermediate): BertIntermediate(\n",
       "            (dense): Linear(in_features=768, out_features=3072, bias=True)\n",
       "          )\n",
       "          (output): BertOutput(\n",
       "            (dense): Linear(in_features=3072, out_features=768, bias=True)\n",
       "            (LayerNorm): LayerNorm((768,), eps=1e-12, elementwise_affine=True)\n",
       "            (dropout): Dropout(p=0.1, inplace=False)\n",
       "          )\n",
       "        )\n",
       "        (11): BertLayer(\n",
       "          (attention): BertAttention(\n",
       "            (self): BertSelfAttention(\n",
       "              (query): Linear(in_features=768, out_features=768, bias=True)\n",
       "              (key): Linear(in_features=768, out_features=768, bias=True)\n",
       "              (value): Linear(in_features=768, out_features=768, bias=True)\n",
       "              (dropout): Dropout(p=0.1, inplace=False)\n",
       "            )\n",
       "            (output): BertSelfOutput(\n",
       "              (dense): Linear(in_features=768, out_features=768, bias=True)\n",
       "              (LayerNorm): LayerNorm((768,), eps=1e-12, elementwise_affine=True)\n",
       "              (dropout): Dropout(p=0.1, inplace=False)\n",
       "            )\n",
       "          )\n",
       "          (intermediate): BertIntermediate(\n",
       "            (dense): Linear(in_features=768, out_features=3072, bias=True)\n",
       "          )\n",
       "          (output): BertOutput(\n",
       "            (dense): Linear(in_features=3072, out_features=768, bias=True)\n",
       "            (LayerNorm): LayerNorm((768,), eps=1e-12, elementwise_affine=True)\n",
       "            (dropout): Dropout(p=0.1, inplace=False)\n",
       "          )\n",
       "        )\n",
       "      )\n",
       "    )\n",
       "    (pooler): BertPooler(\n",
       "      (dense): Linear(in_features=768, out_features=768, bias=True)\n",
       "      (activation): Tanh()\n",
       "    )\n",
       "  )\n",
       "  (dropout): Dropout(p=0.1, inplace=False)\n",
       "  (classifier): Linear(in_features=768, out_features=3, bias=True)\n",
       "  (prefix_encoder): PrefixEncoder(\n",
       "    (embedding): Embedding(50, 768)\n",
       "    (trans): Sequential(\n",
       "      (0): Linear(in_features=768, out_features=512, bias=True)\n",
       "      (1): Tanh()\n",
       "      (2): Linear(in_features=512, out_features=18432, bias=True)\n",
       "    )\n",
       "  )\n",
       ")"
      ]
     },
     "execution_count": 6,
     "metadata": {},
     "output_type": "execute_result"
    }
   ],
   "source": [
    "from transformers import BertForSequenceClassification\n",
    "\n",
    "# p-tuning 모델\n",
    "model = BertPrefixForSequenceClassification.from_pretrained(model_path, config=config, revision=\"main\")\n",
    "\n",
    "# NLI 모델에서 레벨은 3개지(참,거짓,모름) 이므로, num_labels=3을 입력함\n",
    "#model = BertForSequenceClassification.from_pretrained(model_path, num_labels=3)\n",
    "\n",
    "model.to(device)"
   ]
  },
  {
   "cell_type": "code",
   "execution_count": 7,
   "id": "86e12fe9-eece-44a8-81a1-f7636d72fda3",
   "metadata": {},
   "outputs": [
    {
     "name": "stderr",
     "output_type": "stream",
     "text": [
      "2022-07-13 11:50:15,326 - bert-p-tuing - INFO - === model: ../../data11/model/bert/bert-multilingual-cased ===\n",
      "2022-07-13 11:50:15,329 - bert-p-tuing - INFO - num_parameters: 187743491\n"
     ]
    },
    {
     "data": {
      "application/vnd.jupyter.widget-view+json": {
       "model_id": "b19c1e5776d14055bda7f77397d532b4",
       "version_major": 2,
       "version_minor": 0
      },
      "text/plain": [
       "  0%|          | 0/30 [00:00<?, ?it/s]"
      ]
     },
     "metadata": {},
     "output_type": "display_data"
    },
    {
     "data": {
      "application/vnd.jupyter.widget-view+json": {
       "model_id": "63b54f9ea5fe4618bdfeed1772d7feaa",
       "version_major": 2,
       "version_minor": 0
      },
      "text/plain": [
       "  0%|          | 0/782 [00:00<?, ?it/s]"
      ]
     },
     "metadata": {},
     "output_type": "display_data"
    },
    {
     "name": "stderr",
     "output_type": "stream",
     "text": [
      "/tmp/ipykernel_122958/1942215713.py:77: UserWarning: Implicit dimension choice for softmax has been deprecated. Change the call to include dim=X as an argument.\n",
      "  pred = torch.argmax(F.softmax(logits), dim=1)\n",
      "2022-07-13 11:50:50,619 - bert-p-tuing - INFO - [Epoch 1/30] Iteration 400 -> Train Loss: 1.0953, Train Accuracy: 0.362\n",
      "2022-07-13 11:51:23,124 - bert-p-tuing - INFO - ---------------------------------------------------------\n"
     ]
    },
    {
     "data": {
      "application/vnd.jupyter.widget-view+json": {
       "model_id": "182d4f726d9b455a95cbed1c3bca8e6f",
       "version_major": 2,
       "version_minor": 0
      },
      "text/plain": [
       "  0%|          | 0/94 [00:00<?, ?it/s]"
      ]
     },
     "metadata": {},
     "output_type": "display_data"
    },
    {
     "name": "stderr",
     "output_type": "stream",
     "text": [
      "/tmp/ipykernel_122958/1942215713.py:134: UserWarning: Implicit dimension choice for softmax has been deprecated. Change the call to include dim=X as an argument.\n",
      "  pred = torch.argmax(F.softmax(logits), dim=1)\n",
      "2022-07-13 11:51:27,458 - bert-p-tuing - INFO - [Epoch 1/30] Validatation Accuracy:0.4603333333333333\n",
      "2022-07-13 11:51:27,459 - bert-p-tuing - INFO - ---------------------------------------------------------\n",
      "2022-07-13 11:51:27,461 - bert-p-tuing - INFO - === 처리시간: 4.337 초 ===\n",
      "2022-07-13 11:51:27,462 - bert-p-tuing - INFO - -END-\n",
      "\n"
     ]
    },
    {
     "data": {
      "application/vnd.jupyter.widget-view+json": {
       "model_id": "0147e04e6bbe43e89d7c0527f1bc1433",
       "version_major": 2,
       "version_minor": 0
      },
      "text/plain": [
       "  0%|          | 0/782 [00:00<?, ?it/s]"
      ]
     },
     "metadata": {},
     "output_type": "display_data"
    },
    {
     "name": "stderr",
     "output_type": "stream",
     "text": [
      "2022-07-13 11:51:29,438 - bert-p-tuing - INFO - [Epoch 2/30] Iteration 800 -> Train Loss: 1.0743, Train Accuracy: 0.401\n",
      "2022-07-13 11:52:03,441 - bert-p-tuing - INFO - [Epoch 2/30] Iteration 1200 -> Train Loss: 1.0013, Train Accuracy: 0.487\n",
      "2022-07-13 11:52:34,656 - bert-p-tuing - INFO - ---------------------------------------------------------\n"
     ]
    },
    {
     "data": {
      "application/vnd.jupyter.widget-view+json": {
       "model_id": "896e21bdc9194769b872669d0e8ff95f",
       "version_major": 2,
       "version_minor": 0
      },
      "text/plain": [
       "  0%|          | 0/94 [00:00<?, ?it/s]"
      ]
     },
     "metadata": {},
     "output_type": "display_data"
    },
    {
     "name": "stderr",
     "output_type": "stream",
     "text": [
      "2022-07-13 11:52:39,009 - bert-p-tuing - INFO - [Epoch 2/30] Validatation Accuracy:0.5423333333333333\n",
      "2022-07-13 11:52:39,011 - bert-p-tuing - INFO - ---------------------------------------------------------\n",
      "2022-07-13 11:52:39,012 - bert-p-tuing - INFO - === 처리시간: 4.356 초 ===\n",
      "2022-07-13 11:52:39,013 - bert-p-tuing - INFO - -END-\n",
      "\n"
     ]
    },
    {
     "data": {
      "application/vnd.jupyter.widget-view+json": {
       "model_id": "382c09879b1c4beb925a655e99dcd6a4",
       "version_major": 2,
       "version_minor": 0
      },
      "text/plain": [
       "  0%|          | 0/782 [00:00<?, ?it/s]"
      ]
     },
     "metadata": {},
     "output_type": "display_data"
    },
    {
     "name": "stderr",
     "output_type": "stream",
     "text": [
      "2022-07-13 11:52:42,539 - bert-p-tuing - INFO - [Epoch 3/30] Iteration 1600 -> Train Loss: 0.9489, Train Accuracy: 0.523\n",
      "2022-07-13 11:53:16,740 - bert-p-tuing - INFO - [Epoch 3/30] Iteration 2000 -> Train Loss: 0.9208, Train Accuracy: 0.548\n",
      "2022-07-13 11:53:46,593 - bert-p-tuing - INFO - ---------------------------------------------------------\n"
     ]
    },
    {
     "data": {
      "application/vnd.jupyter.widget-view+json": {
       "model_id": "3a04427dfca44e3b8228b88f06d59b81",
       "version_major": 2,
       "version_minor": 0
      },
      "text/plain": [
       "  0%|          | 0/94 [00:00<?, ?it/s]"
      ]
     },
     "metadata": {},
     "output_type": "display_data"
    },
    {
     "name": "stderr",
     "output_type": "stream",
     "text": [
      "2022-07-13 11:53:50,962 - bert-p-tuing - INFO - [Epoch 3/30] Validatation Accuracy:0.575\n",
      "2022-07-13 11:53:50,964 - bert-p-tuing - INFO - ---------------------------------------------------------\n",
      "2022-07-13 11:53:50,965 - bert-p-tuing - INFO - === 처리시간: 4.373 초 ===\n",
      "2022-07-13 11:53:50,966 - bert-p-tuing - INFO - -END-\n",
      "\n"
     ]
    },
    {
     "data": {
      "application/vnd.jupyter.widget-view+json": {
       "model_id": "2bda1ba316fa466ab278e749e10f3adf",
       "version_major": 2,
       "version_minor": 0
      },
      "text/plain": [
       "  0%|          | 0/782 [00:00<?, ?it/s]"
      ]
     },
     "metadata": {},
     "output_type": "display_data"
    },
    {
     "name": "stderr",
     "output_type": "stream",
     "text": [
      "2022-07-13 11:53:56,088 - bert-p-tuing - INFO - [Epoch 4/30] Iteration 2400 -> Train Loss: 0.8844, Train Accuracy: 0.573\n",
      "2022-07-13 11:54:30,382 - bert-p-tuing - INFO - [Epoch 4/30] Iteration 2800 -> Train Loss: 0.8497, Train Accuracy: 0.611\n",
      "2022-07-13 11:54:58,706 - bert-p-tuing - INFO - ---------------------------------------------------------\n"
     ]
    },
    {
     "data": {
      "application/vnd.jupyter.widget-view+json": {
       "model_id": "80d6d0d39e2e4bb9b82c0758c7943d1e",
       "version_major": 2,
       "version_minor": 0
      },
      "text/plain": [
       "  0%|          | 0/94 [00:00<?, ?it/s]"
      ]
     },
     "metadata": {},
     "output_type": "display_data"
    },
    {
     "name": "stderr",
     "output_type": "stream",
     "text": [
      "2022-07-13 11:55:03,112 - bert-p-tuing - INFO - [Epoch 4/30] Validatation Accuracy:0.5976666666666667\n",
      "2022-07-13 11:55:03,114 - bert-p-tuing - INFO - ---------------------------------------------------------\n",
      "2022-07-13 11:55:03,115 - bert-p-tuing - INFO - === 처리시간: 4.410 초 ===\n",
      "2022-07-13 11:55:03,116 - bert-p-tuing - INFO - -END-\n",
      "\n"
     ]
    },
    {
     "data": {
      "application/vnd.jupyter.widget-view+json": {
       "model_id": "c32321a7710e4b4aa2d106f251f064bb",
       "version_major": 2,
       "version_minor": 0
      },
      "text/plain": [
       "  0%|          | 0/782 [00:00<?, ?it/s]"
      ]
     },
     "metadata": {},
     "output_type": "display_data"
    },
    {
     "name": "stderr",
     "output_type": "stream",
     "text": [
      "2022-07-13 11:55:09,820 - bert-p-tuing - INFO - [Epoch 5/30] Iteration 3200 -> Train Loss: 0.8224, Train Accuracy: 0.643\n",
      "2022-07-13 11:55:44,260 - bert-p-tuing - INFO - [Epoch 5/30] Iteration 3600 -> Train Loss: 0.7853, Train Accuracy: 0.666\n",
      "2022-07-13 11:56:11,104 - bert-p-tuing - INFO - ---------------------------------------------------------\n"
     ]
    },
    {
     "data": {
      "application/vnd.jupyter.widget-view+json": {
       "model_id": "5dbcf657e64243ba8c2f147f801b2b9a",
       "version_major": 2,
       "version_minor": 0
      },
      "text/plain": [
       "  0%|          | 0/94 [00:00<?, ?it/s]"
      ]
     },
     "metadata": {},
     "output_type": "display_data"
    },
    {
     "name": "stderr",
     "output_type": "stream",
     "text": [
      "2022-07-13 11:56:15,442 - bert-p-tuing - INFO - [Epoch 5/30] Validatation Accuracy:0.6176666666666667\n",
      "2022-07-13 11:56:15,444 - bert-p-tuing - INFO - ---------------------------------------------------------\n",
      "2022-07-13 11:56:15,444 - bert-p-tuing - INFO - === 처리시간: 4.341 초 ===\n",
      "2022-07-13 11:56:15,444 - bert-p-tuing - INFO - -END-\n",
      "\n"
     ]
    },
    {
     "data": {
      "application/vnd.jupyter.widget-view+json": {
       "model_id": "48d777a312934a83b1eaad3f2af01df4",
       "version_major": 2,
       "version_minor": 0
      },
      "text/plain": [
       "  0%|          | 0/782 [00:00<?, ?it/s]"
      ]
     },
     "metadata": {},
     "output_type": "display_data"
    },
    {
     "name": "stderr",
     "output_type": "stream",
     "text": [
      "2022-07-13 11:56:23,715 - bert-p-tuing - INFO - [Epoch 6/30] Iteration 4000 -> Train Loss: 0.7694, Train Accuracy: 0.674\n",
      "2022-07-13 11:56:58,044 - bert-p-tuing - INFO - [Epoch 6/30] Iteration 4400 -> Train Loss: 0.7461, Train Accuracy: 0.684\n",
      "2022-07-13 11:57:23,234 - bert-p-tuing - INFO - ---------------------------------------------------------\n"
     ]
    },
    {
     "data": {
      "application/vnd.jupyter.widget-view+json": {
       "model_id": "11a1582144dc459aa8cf5ca70adaa2b7",
       "version_major": 2,
       "version_minor": 0
      },
      "text/plain": [
       "  0%|          | 0/94 [00:00<?, ?it/s]"
      ]
     },
     "metadata": {},
     "output_type": "display_data"
    },
    {
     "name": "stderr",
     "output_type": "stream",
     "text": [
      "2022-07-13 11:57:27,612 - bert-p-tuing - INFO - [Epoch 6/30] Validatation Accuracy:0.643\n",
      "2022-07-13 11:57:27,613 - bert-p-tuing - INFO - ---------------------------------------------------------\n",
      "2022-07-13 11:57:27,614 - bert-p-tuing - INFO - === 처리시간: 4.381 초 ===\n",
      "2022-07-13 11:57:27,615 - bert-p-tuing - INFO - -END-\n",
      "\n"
     ]
    },
    {
     "data": {
      "application/vnd.jupyter.widget-view+json": {
       "model_id": "19b7b577373b44818cd9a378104ad69c",
       "version_major": 2,
       "version_minor": 0
      },
      "text/plain": [
       "  0%|          | 0/782 [00:00<?, ?it/s]"
      ]
     },
     "metadata": {},
     "output_type": "display_data"
    },
    {
     "name": "stderr",
     "output_type": "stream",
     "text": [
      "2022-07-13 11:57:37,325 - bert-p-tuing - INFO - [Epoch 7/30] Iteration 4800 -> Train Loss: 0.7487, Train Accuracy: 0.687\n",
      "2022-07-13 11:58:11,664 - bert-p-tuing - INFO - [Epoch 7/30] Iteration 5200 -> Train Loss: 0.7330, Train Accuracy: 0.693\n",
      "2022-07-13 11:58:35,299 - bert-p-tuing - INFO - ---------------------------------------------------------\n"
     ]
    },
    {
     "data": {
      "application/vnd.jupyter.widget-view+json": {
       "model_id": "24b7b828ce4e47c8bd383135fd00e786",
       "version_major": 2,
       "version_minor": 0
      },
      "text/plain": [
       "  0%|          | 0/94 [00:00<?, ?it/s]"
      ]
     },
     "metadata": {},
     "output_type": "display_data"
    },
    {
     "name": "stderr",
     "output_type": "stream",
     "text": [
      "2022-07-13 11:58:39,635 - bert-p-tuing - INFO - [Epoch 7/30] Validatation Accuracy:0.648\n",
      "2022-07-13 11:58:39,636 - bert-p-tuing - INFO - ---------------------------------------------------------\n",
      "2022-07-13 11:58:39,638 - bert-p-tuing - INFO - === 처리시간: 4.338 초 ===\n",
      "2022-07-13 11:58:39,638 - bert-p-tuing - INFO - -END-\n",
      "\n"
     ]
    },
    {
     "data": {
      "application/vnd.jupyter.widget-view+json": {
       "model_id": "d780467f2a694f24a37eb384687ffcfc",
       "version_major": 2,
       "version_minor": 0
      },
      "text/plain": [
       "  0%|          | 0/782 [00:00<?, ?it/s]"
      ]
     },
     "metadata": {},
     "output_type": "display_data"
    },
    {
     "name": "stderr",
     "output_type": "stream",
     "text": [
      "2022-07-13 11:58:50,926 - bert-p-tuing - INFO - [Epoch 8/30] Iteration 5600 -> Train Loss: 0.7225, Train Accuracy: 0.698\n",
      "2022-07-13 11:59:25,445 - bert-p-tuing - INFO - [Epoch 8/30] Iteration 6000 -> Train Loss: 0.7104, Train Accuracy: 0.703\n",
      "2022-07-13 11:59:47,525 - bert-p-tuing - INFO - ---------------------------------------------------------\n"
     ]
    },
    {
     "data": {
      "application/vnd.jupyter.widget-view+json": {
       "model_id": "5612d811458f4ee18eca3eba85b4c1f2",
       "version_major": 2,
       "version_minor": 0
      },
      "text/plain": [
       "  0%|          | 0/94 [00:00<?, ?it/s]"
      ]
     },
     "metadata": {},
     "output_type": "display_data"
    },
    {
     "name": "stderr",
     "output_type": "stream",
     "text": [
      "2022-07-13 11:59:51,888 - bert-p-tuing - INFO - [Epoch 8/30] Validatation Accuracy:0.661\n",
      "2022-07-13 11:59:51,890 - bert-p-tuing - INFO - ---------------------------------------------------------\n",
      "2022-07-13 11:59:51,890 - bert-p-tuing - INFO - === 처리시간: 4.365 초 ===\n",
      "2022-07-13 11:59:51,891 - bert-p-tuing - INFO - -END-\n",
      "\n"
     ]
    },
    {
     "data": {
      "application/vnd.jupyter.widget-view+json": {
       "model_id": "677987aedb32425b9a9e0ce507c5346a",
       "version_major": 2,
       "version_minor": 0
      },
      "text/plain": [
       "  0%|          | 0/782 [00:00<?, ?it/s]"
      ]
     },
     "metadata": {},
     "output_type": "display_data"
    },
    {
     "name": "stderr",
     "output_type": "stream",
     "text": [
      "2022-07-13 12:00:04,700 - bert-p-tuing - INFO - [Epoch 9/30] Iteration 6400 -> Train Loss: 0.7211, Train Accuracy: 0.697\n",
      "2022-07-13 12:00:39,039 - bert-p-tuing - INFO - [Epoch 9/30] Iteration 6800 -> Train Loss: 0.6956, Train Accuracy: 0.715\n",
      "2022-07-13 12:00:59,601 - bert-p-tuing - INFO - ---------------------------------------------------------\n"
     ]
    },
    {
     "data": {
      "application/vnd.jupyter.widget-view+json": {
       "model_id": "d06cad0413ee40daaff5a591057efe9b",
       "version_major": 2,
       "version_minor": 0
      },
      "text/plain": [
       "  0%|          | 0/94 [00:00<?, ?it/s]"
      ]
     },
     "metadata": {},
     "output_type": "display_data"
    },
    {
     "name": "stderr",
     "output_type": "stream",
     "text": [
      "2022-07-13 12:01:03,971 - bert-p-tuing - INFO - [Epoch 9/30] Validatation Accuracy:0.6606666666666666\n",
      "2022-07-13 12:01:03,972 - bert-p-tuing - INFO - ---------------------------------------------------------\n",
      "2022-07-13 12:01:03,973 - bert-p-tuing - INFO - === 처리시간: 4.371 초 ===\n",
      "2022-07-13 12:01:03,973 - bert-p-tuing - INFO - -END-\n",
      "\n"
     ]
    },
    {
     "data": {
      "application/vnd.jupyter.widget-view+json": {
       "model_id": "91dde42563ee48389db85b347fb0f978",
       "version_major": 2,
       "version_minor": 0
      },
      "text/plain": [
       "  0%|          | 0/782 [00:00<?, ?it/s]"
      ]
     },
     "metadata": {},
     "output_type": "display_data"
    },
    {
     "name": "stderr",
     "output_type": "stream",
     "text": [
      "2022-07-13 12:01:18,343 - bert-p-tuing - INFO - [Epoch 10/30] Iteration 7200 -> Train Loss: 0.7014, Train Accuracy: 0.708\n",
      "2022-07-13 12:01:52,490 - bert-p-tuing - INFO - [Epoch 10/30] Iteration 7600 -> Train Loss: 0.6889, Train Accuracy: 0.714\n",
      "2022-07-13 12:02:11,511 - bert-p-tuing - INFO - ---------------------------------------------------------\n"
     ]
    },
    {
     "data": {
      "application/vnd.jupyter.widget-view+json": {
       "model_id": "95f4256e095843d9ba5ae0f37887caca",
       "version_major": 2,
       "version_minor": 0
      },
      "text/plain": [
       "  0%|          | 0/94 [00:00<?, ?it/s]"
      ]
     },
     "metadata": {},
     "output_type": "display_data"
    },
    {
     "name": "stderr",
     "output_type": "stream",
     "text": [
      "2022-07-13 12:02:15,894 - bert-p-tuing - INFO - [Epoch 10/30] Validatation Accuracy:0.6606666666666666\n",
      "2022-07-13 12:02:15,895 - bert-p-tuing - INFO - ---------------------------------------------------------\n",
      "2022-07-13 12:02:15,896 - bert-p-tuing - INFO - === 처리시간: 4.384 초 ===\n",
      "2022-07-13 12:02:15,896 - bert-p-tuing - INFO - -END-\n",
      "\n"
     ]
    },
    {
     "data": {
      "application/vnd.jupyter.widget-view+json": {
       "model_id": "00200d0de2bc40179e12e08e5b45c884",
       "version_major": 2,
       "version_minor": 0
      },
      "text/plain": [
       "  0%|          | 0/782 [00:00<?, ?it/s]"
      ]
     },
     "metadata": {},
     "output_type": "display_data"
    },
    {
     "name": "stderr",
     "output_type": "stream",
     "text": [
      "2022-07-13 12:02:31,821 - bert-p-tuing - INFO - [Epoch 11/30] Iteration 8000 -> Train Loss: 0.7021, Train Accuracy: 0.708\n",
      "2022-07-13 12:03:06,242 - bert-p-tuing - INFO - [Epoch 11/30] Iteration 8400 -> Train Loss: 0.6840, Train Accuracy: 0.719\n",
      "2022-07-13 12:03:23,787 - bert-p-tuing - INFO - ---------------------------------------------------------\n"
     ]
    },
    {
     "data": {
      "application/vnd.jupyter.widget-view+json": {
       "model_id": "5c95ec1b703e45eda15638ccdf67bef2",
       "version_major": 2,
       "version_minor": 0
      },
      "text/plain": [
       "  0%|          | 0/94 [00:00<?, ?it/s]"
      ]
     },
     "metadata": {},
     "output_type": "display_data"
    },
    {
     "name": "stderr",
     "output_type": "stream",
     "text": [
      "2022-07-13 12:03:28,111 - bert-p-tuing - INFO - [Epoch 11/30] Validatation Accuracy:0.665\n",
      "2022-07-13 12:03:28,112 - bert-p-tuing - INFO - ---------------------------------------------------------\n",
      "2022-07-13 12:03:28,112 - bert-p-tuing - INFO - === 처리시간: 4.325 초 ===\n",
      "2022-07-13 12:03:28,113 - bert-p-tuing - INFO - -END-\n",
      "\n"
     ]
    },
    {
     "data": {
      "application/vnd.jupyter.widget-view+json": {
       "model_id": "4081e464f95d4ecd8fda3043142493c9",
       "version_major": 2,
       "version_minor": 0
      },
      "text/plain": [
       "  0%|          | 0/782 [00:00<?, ?it/s]"
      ]
     },
     "metadata": {},
     "output_type": "display_data"
    },
    {
     "name": "stderr",
     "output_type": "stream",
     "text": [
      "2022-07-13 12:03:45,625 - bert-p-tuing - INFO - [Epoch 12/30] Iteration 8800 -> Train Loss: 0.6795, Train Accuracy: 0.721\n",
      "2022-07-13 12:04:20,098 - bert-p-tuing - INFO - [Epoch 12/30] Iteration 9200 -> Train Loss: 0.6690, Train Accuracy: 0.722\n",
      "2022-07-13 12:04:36,109 - bert-p-tuing - INFO - ---------------------------------------------------------\n"
     ]
    },
    {
     "data": {
      "application/vnd.jupyter.widget-view+json": {
       "model_id": "170101c362fe4981aec1a598223d1e6d",
       "version_major": 2,
       "version_minor": 0
      },
      "text/plain": [
       "  0%|          | 0/94 [00:00<?, ?it/s]"
      ]
     },
     "metadata": {},
     "output_type": "display_data"
    },
    {
     "name": "stderr",
     "output_type": "stream",
     "text": [
      "2022-07-13 12:04:40,497 - bert-p-tuing - INFO - [Epoch 12/30] Validatation Accuracy:0.6653333333333333\n",
      "2022-07-13 12:04:40,500 - bert-p-tuing - INFO - ---------------------------------------------------------\n",
      "2022-07-13 12:04:40,501 - bert-p-tuing - INFO - === 처리시간: 4.392 초 ===\n",
      "2022-07-13 12:04:40,502 - bert-p-tuing - INFO - -END-\n",
      "\n"
     ]
    },
    {
     "data": {
      "application/vnd.jupyter.widget-view+json": {
       "model_id": "4c71ce9f2c2c4f3ab9b875adaa73b09b",
       "version_major": 2,
       "version_minor": 0
      },
      "text/plain": [
       "  0%|          | 0/782 [00:00<?, ?it/s]"
      ]
     },
     "metadata": {},
     "output_type": "display_data"
    },
    {
     "name": "stderr",
     "output_type": "stream",
     "text": [
      "2022-07-13 12:04:59,704 - bert-p-tuing - INFO - [Epoch 13/30] Iteration 9600 -> Train Loss: 0.6734, Train Accuracy: 0.719\n",
      "2022-07-13 12:05:34,066 - bert-p-tuing - INFO - [Epoch 13/30] Iteration 10000 -> Train Loss: 0.6785, Train Accuracy: 0.720\n",
      "2022-07-13 12:05:48,493 - bert-p-tuing - INFO - ---------------------------------------------------------\n"
     ]
    },
    {
     "data": {
      "application/vnd.jupyter.widget-view+json": {
       "model_id": "fb8e9d880d6b40d799f05c9e1a2d9f7e",
       "version_major": 2,
       "version_minor": 0
      },
      "text/plain": [
       "  0%|          | 0/94 [00:00<?, ?it/s]"
      ]
     },
     "metadata": {},
     "output_type": "display_data"
    },
    {
     "name": "stderr",
     "output_type": "stream",
     "text": [
      "2022-07-13 12:05:52,880 - bert-p-tuing - INFO - [Epoch 13/30] Validatation Accuracy:0.672\n",
      "2022-07-13 12:05:52,882 - bert-p-tuing - INFO - ---------------------------------------------------------\n",
      "2022-07-13 12:05:52,883 - bert-p-tuing - INFO - === 처리시간: 4.390 초 ===\n",
      "2022-07-13 12:05:52,884 - bert-p-tuing - INFO - -END-\n",
      "\n"
     ]
    },
    {
     "data": {
      "application/vnd.jupyter.widget-view+json": {
       "model_id": "be7dae0f8816453a8d988d3a0a3019d4",
       "version_major": 2,
       "version_minor": 0
      },
      "text/plain": [
       "  0%|          | 0/782 [00:00<?, ?it/s]"
      ]
     },
     "metadata": {},
     "output_type": "display_data"
    },
    {
     "name": "stderr",
     "output_type": "stream",
     "text": [
      "2022-07-13 12:06:13,406 - bert-p-tuing - INFO - [Epoch 14/30] Iteration 10400 -> Train Loss: 0.6640, Train Accuracy: 0.723\n",
      "2022-07-13 12:06:47,690 - bert-p-tuing - INFO - [Epoch 14/30] Iteration 10800 -> Train Loss: 0.6662, Train Accuracy: 0.722\n",
      "2022-07-13 12:07:00,436 - bert-p-tuing - INFO - ---------------------------------------------------------\n"
     ]
    },
    {
     "data": {
      "application/vnd.jupyter.widget-view+json": {
       "model_id": "16dd618dd7cf46ada07277782db1aa26",
       "version_major": 2,
       "version_minor": 0
      },
      "text/plain": [
       "  0%|          | 0/94 [00:00<?, ?it/s]"
      ]
     },
     "metadata": {},
     "output_type": "display_data"
    },
    {
     "name": "stderr",
     "output_type": "stream",
     "text": [
      "2022-07-13 12:07:04,792 - bert-p-tuing - INFO - [Epoch 14/30] Validatation Accuracy:0.6743333333333333\n",
      "2022-07-13 12:07:04,793 - bert-p-tuing - INFO - ---------------------------------------------------------\n",
      "2022-07-13 12:07:04,793 - bert-p-tuing - INFO - === 처리시간: 4.358 초 ===\n",
      "2022-07-13 12:07:04,794 - bert-p-tuing - INFO - -END-\n",
      "\n"
     ]
    },
    {
     "data": {
      "application/vnd.jupyter.widget-view+json": {
       "model_id": "42229441154743258fcc9fd3a157e7f5",
       "version_major": 2,
       "version_minor": 0
      },
      "text/plain": [
       "  0%|          | 0/782 [00:00<?, ?it/s]"
      ]
     },
     "metadata": {},
     "output_type": "display_data"
    },
    {
     "name": "stderr",
     "output_type": "stream",
     "text": [
      "2022-07-13 12:07:26,916 - bert-p-tuing - INFO - [Epoch 15/30] Iteration 11200 -> Train Loss: 0.6545, Train Accuracy: 0.731\n",
      "2022-07-13 12:08:01,408 - bert-p-tuing - INFO - [Epoch 15/30] Iteration 11600 -> Train Loss: 0.6509, Train Accuracy: 0.729\n",
      "2022-07-13 12:08:12,708 - bert-p-tuing - INFO - ---------------------------------------------------------\n"
     ]
    },
    {
     "data": {
      "application/vnd.jupyter.widget-view+json": {
       "model_id": "ebfb2804f42b4d99bf491cdb82fb8303",
       "version_major": 2,
       "version_minor": 0
      },
      "text/plain": [
       "  0%|          | 0/94 [00:00<?, ?it/s]"
      ]
     },
     "metadata": {},
     "output_type": "display_data"
    },
    {
     "name": "stderr",
     "output_type": "stream",
     "text": [
      "2022-07-13 12:08:17,104 - bert-p-tuing - INFO - [Epoch 15/30] Validatation Accuracy:0.6753333333333333\n",
      "2022-07-13 12:08:17,105 - bert-p-tuing - INFO - ---------------------------------------------------------\n",
      "2022-07-13 12:08:17,106 - bert-p-tuing - INFO - === 처리시간: 4.399 초 ===\n",
      "2022-07-13 12:08:17,107 - bert-p-tuing - INFO - -END-\n",
      "\n"
     ]
    },
    {
     "data": {
      "application/vnd.jupyter.widget-view+json": {
       "model_id": "cc57b843b2cf4f17af8243423987992c",
       "version_major": 2,
       "version_minor": 0
      },
      "text/plain": [
       "  0%|          | 0/782 [00:00<?, ?it/s]"
      ]
     },
     "metadata": {},
     "output_type": "display_data"
    },
    {
     "name": "stderr",
     "output_type": "stream",
     "text": [
      "2022-07-13 12:08:40,812 - bert-p-tuing - INFO - [Epoch 16/30] Iteration 12000 -> Train Loss: 0.6589, Train Accuracy: 0.728\n",
      "2022-07-13 12:09:15,180 - bert-p-tuing - INFO - [Epoch 16/30] Iteration 12400 -> Train Loss: 0.6551, Train Accuracy: 0.725\n",
      "2022-07-13 12:09:24,845 - bert-p-tuing - INFO - ---------------------------------------------------------\n"
     ]
    },
    {
     "data": {
      "application/vnd.jupyter.widget-view+json": {
       "model_id": "22f57d480c0f4eb79c6bf69cb962947a",
       "version_major": 2,
       "version_minor": 0
      },
      "text/plain": [
       "  0%|          | 0/94 [00:00<?, ?it/s]"
      ]
     },
     "metadata": {},
     "output_type": "display_data"
    },
    {
     "name": "stderr",
     "output_type": "stream",
     "text": [
      "2022-07-13 12:09:29,226 - bert-p-tuing - INFO - [Epoch 16/30] Validatation Accuracy:0.6746666666666666\n",
      "2022-07-13 12:09:29,228 - bert-p-tuing - INFO - ---------------------------------------------------------\n",
      "2022-07-13 12:09:29,229 - bert-p-tuing - INFO - === 처리시간: 4.385 초 ===\n",
      "2022-07-13 12:09:29,230 - bert-p-tuing - INFO - -END-\n",
      "\n"
     ]
    },
    {
     "data": {
      "application/vnd.jupyter.widget-view+json": {
       "model_id": "11e90f5d834f4a2284f63cd1811354db",
       "version_major": 2,
       "version_minor": 0
      },
      "text/plain": [
       "  0%|          | 0/782 [00:00<?, ?it/s]"
      ]
     },
     "metadata": {},
     "output_type": "display_data"
    },
    {
     "name": "stderr",
     "output_type": "stream",
     "text": [
      "2022-07-13 12:09:54,391 - bert-p-tuing - INFO - [Epoch 17/30] Iteration 12800 -> Train Loss: 0.6449, Train Accuracy: 0.736\n",
      "2022-07-13 12:10:28,822 - bert-p-tuing - INFO - [Epoch 17/30] Iteration 13200 -> Train Loss: 0.6499, Train Accuracy: 0.734\n",
      "2022-07-13 12:10:36,998 - bert-p-tuing - INFO - ---------------------------------------------------------\n"
     ]
    },
    {
     "data": {
      "application/vnd.jupyter.widget-view+json": {
       "model_id": "3ca8dcdbb96c4568bba8f1e0f3f0d90e",
       "version_major": 2,
       "version_minor": 0
      },
      "text/plain": [
       "  0%|          | 0/94 [00:00<?, ?it/s]"
      ]
     },
     "metadata": {},
     "output_type": "display_data"
    },
    {
     "name": "stderr",
     "output_type": "stream",
     "text": [
      "2022-07-13 12:10:41,342 - bert-p-tuing - INFO - [Epoch 17/30] Validatation Accuracy:0.6766666666666666\n",
      "2022-07-13 12:10:41,344 - bert-p-tuing - INFO - ---------------------------------------------------------\n",
      "2022-07-13 12:10:41,346 - bert-p-tuing - INFO - === 처리시간: 4.348 초 ===\n",
      "2022-07-13 12:10:41,347 - bert-p-tuing - INFO - -END-\n",
      "\n"
     ]
    },
    {
     "data": {
      "application/vnd.jupyter.widget-view+json": {
       "model_id": "983aa6322dd04facb9dc8ee17eb5759c",
       "version_major": 2,
       "version_minor": 0
      },
      "text/plain": [
       "  0%|          | 0/782 [00:00<?, ?it/s]"
      ]
     },
     "metadata": {},
     "output_type": "display_data"
    },
    {
     "name": "stderr",
     "output_type": "stream",
     "text": [
      "2022-07-13 12:11:08,138 - bert-p-tuing - INFO - [Epoch 18/30] Iteration 13600 -> Train Loss: 0.6430, Train Accuracy: 0.736\n",
      "2022-07-13 12:11:42,478 - bert-p-tuing - INFO - [Epoch 18/30] Iteration 14000 -> Train Loss: 0.6514, Train Accuracy: 0.734\n",
      "2022-07-13 12:11:49,044 - bert-p-tuing - INFO - ---------------------------------------------------------\n"
     ]
    },
    {
     "data": {
      "application/vnd.jupyter.widget-view+json": {
       "model_id": "6f3f5c91c4a14a36b73c5aa8d0cd45ee",
       "version_major": 2,
       "version_minor": 0
      },
      "text/plain": [
       "  0%|          | 0/94 [00:00<?, ?it/s]"
      ]
     },
     "metadata": {},
     "output_type": "display_data"
    },
    {
     "name": "stderr",
     "output_type": "stream",
     "text": [
      "2022-07-13 12:11:53,378 - bert-p-tuing - INFO - [Epoch 18/30] Validatation Accuracy:0.6813333333333333\n",
      "2022-07-13 12:11:53,379 - bert-p-tuing - INFO - ---------------------------------------------------------\n",
      "2022-07-13 12:11:53,380 - bert-p-tuing - INFO - === 처리시간: 4.336 초 ===\n",
      "2022-07-13 12:11:53,380 - bert-p-tuing - INFO - -END-\n",
      "\n"
     ]
    },
    {
     "data": {
      "application/vnd.jupyter.widget-view+json": {
       "model_id": "e46467e9820c4e3bb6f19853c4f1e27b",
       "version_major": 2,
       "version_minor": 0
      },
      "text/plain": [
       "  0%|          | 0/782 [00:00<?, ?it/s]"
      ]
     },
     "metadata": {},
     "output_type": "display_data"
    },
    {
     "name": "stderr",
     "output_type": "stream",
     "text": [
      "2022-07-13 12:12:21,678 - bert-p-tuing - INFO - [Epoch 19/30] Iteration 14400 -> Train Loss: 0.6393, Train Accuracy: 0.739\n",
      "2022-07-13 12:12:55,964 - bert-p-tuing - INFO - [Epoch 19/30] Iteration 14800 -> Train Loss: 0.6426, Train Accuracy: 0.739\n",
      "2022-07-13 12:13:01,132 - bert-p-tuing - INFO - ---------------------------------------------------------\n"
     ]
    },
    {
     "data": {
      "application/vnd.jupyter.widget-view+json": {
       "model_id": "87a14620d9344f1f96de878748f8f538",
       "version_major": 2,
       "version_minor": 0
      },
      "text/plain": [
       "  0%|          | 0/94 [00:00<?, ?it/s]"
      ]
     },
     "metadata": {},
     "output_type": "display_data"
    },
    {
     "name": "stderr",
     "output_type": "stream",
     "text": [
      "2022-07-13 12:13:05,487 - bert-p-tuing - INFO - [Epoch 19/30] Validatation Accuracy:0.6816666666666666\n",
      "2022-07-13 12:13:05,488 - bert-p-tuing - INFO - ---------------------------------------------------------\n",
      "2022-07-13 12:13:05,489 - bert-p-tuing - INFO - === 처리시간: 4.358 초 ===\n",
      "2022-07-13 12:13:05,490 - bert-p-tuing - INFO - -END-\n",
      "\n"
     ]
    },
    {
     "data": {
      "application/vnd.jupyter.widget-view+json": {
       "model_id": "0e01f33f17ef4df19d276c873a8359b4",
       "version_major": 2,
       "version_minor": 0
      },
      "text/plain": [
       "  0%|          | 0/782 [00:00<?, ?it/s]"
      ]
     },
     "metadata": {},
     "output_type": "display_data"
    },
    {
     "name": "stderr",
     "output_type": "stream",
     "text": [
      "2022-07-13 12:13:35,377 - bert-p-tuing - INFO - [Epoch 20/30] Iteration 15200 -> Train Loss: 0.6408, Train Accuracy: 0.732\n",
      "2022-07-13 12:14:09,683 - bert-p-tuing - INFO - [Epoch 20/30] Iteration 15600 -> Train Loss: 0.6285, Train Accuracy: 0.742\n",
      "2022-07-13 12:14:13,183 - bert-p-tuing - INFO - ---------------------------------------------------------\n"
     ]
    },
    {
     "data": {
      "application/vnd.jupyter.widget-view+json": {
       "model_id": "124e98d7dcfb42f9a2246c1ecb2add74",
       "version_major": 2,
       "version_minor": 0
      },
      "text/plain": [
       "  0%|          | 0/94 [00:00<?, ?it/s]"
      ]
     },
     "metadata": {},
     "output_type": "display_data"
    },
    {
     "name": "stderr",
     "output_type": "stream",
     "text": [
      "2022-07-13 12:14:17,539 - bert-p-tuing - INFO - [Epoch 20/30] Validatation Accuracy:0.68\n",
      "2022-07-13 12:14:17,541 - bert-p-tuing - INFO - ---------------------------------------------------------\n",
      "2022-07-13 12:14:17,542 - bert-p-tuing - INFO - === 처리시간: 4.358 초 ===\n",
      "2022-07-13 12:14:17,543 - bert-p-tuing - INFO - -END-\n",
      "\n"
     ]
    },
    {
     "data": {
      "application/vnd.jupyter.widget-view+json": {
       "model_id": "e9c54b802dc148af9aa7918f8f2d96b1",
       "version_major": 2,
       "version_minor": 0
      },
      "text/plain": [
       "  0%|          | 0/782 [00:00<?, ?it/s]"
      ]
     },
     "metadata": {},
     "output_type": "display_data"
    },
    {
     "name": "stderr",
     "output_type": "stream",
     "text": [
      "2022-07-13 12:14:48,812 - bert-p-tuing - INFO - [Epoch 21/30] Iteration 16000 -> Train Loss: 0.6323, Train Accuracy: 0.742\n",
      "2022-07-13 12:15:22,950 - bert-p-tuing - INFO - [Epoch 21/30] Iteration 16400 -> Train Loss: 0.6330, Train Accuracy: 0.739\n",
      "2022-07-13 12:15:24,951 - bert-p-tuing - INFO - ---------------------------------------------------------\n"
     ]
    },
    {
     "data": {
      "application/vnd.jupyter.widget-view+json": {
       "model_id": "c68e9c72603445678d5042636a610bf8",
       "version_major": 2,
       "version_minor": 0
      },
      "text/plain": [
       "  0%|          | 0/94 [00:00<?, ?it/s]"
      ]
     },
     "metadata": {},
     "output_type": "display_data"
    },
    {
     "name": "stderr",
     "output_type": "stream",
     "text": [
      "2022-07-13 12:15:29,256 - bert-p-tuing - INFO - [Epoch 21/30] Validatation Accuracy:0.682\n",
      "2022-07-13 12:15:29,257 - bert-p-tuing - INFO - ---------------------------------------------------------\n",
      "2022-07-13 12:15:29,258 - bert-p-tuing - INFO - === 처리시간: 4.308 초 ===\n",
      "2022-07-13 12:15:29,259 - bert-p-tuing - INFO - -END-\n",
      "\n"
     ]
    },
    {
     "data": {
      "application/vnd.jupyter.widget-view+json": {
       "model_id": "9187648d241d460697de45ee56c4b4b3",
       "version_major": 2,
       "version_minor": 0
      },
      "text/plain": [
       "  0%|          | 0/782 [00:00<?, ?it/s]"
      ]
     },
     "metadata": {},
     "output_type": "display_data"
    },
    {
     "name": "stderr",
     "output_type": "stream",
     "text": [
      "2022-07-13 12:16:02,054 - bert-p-tuing - INFO - [Epoch 22/30] Iteration 16800 -> Train Loss: 0.6212, Train Accuracy: 0.747\n",
      "2022-07-13 12:16:36,279 - bert-p-tuing - INFO - [Epoch 22/30] Iteration 17200 -> Train Loss: 0.6363, Train Accuracy: 0.738\n",
      "2022-07-13 12:16:36,738 - bert-p-tuing - INFO - ---------------------------------------------------------\n"
     ]
    },
    {
     "data": {
      "application/vnd.jupyter.widget-view+json": {
       "model_id": "8aee63fe7e1841529fcafbda1423ddf9",
       "version_major": 2,
       "version_minor": 0
      },
      "text/plain": [
       "  0%|          | 0/94 [00:00<?, ?it/s]"
      ]
     },
     "metadata": {},
     "output_type": "display_data"
    },
    {
     "name": "stderr",
     "output_type": "stream",
     "text": [
      "2022-07-13 12:16:41,131 - bert-p-tuing - INFO - [Epoch 22/30] Validatation Accuracy:0.68\n",
      "2022-07-13 12:16:41,133 - bert-p-tuing - INFO - ---------------------------------------------------------\n",
      "2022-07-13 12:16:41,133 - bert-p-tuing - INFO - === 처리시간: 4.395 초 ===\n",
      "2022-07-13 12:16:41,134 - bert-p-tuing - INFO - -END-\n",
      "\n"
     ]
    },
    {
     "data": {
      "application/vnd.jupyter.widget-view+json": {
       "model_id": "2d12518cca604410b9d244f3b3a807bd",
       "version_major": 2,
       "version_minor": 0
      },
      "text/plain": [
       "  0%|          | 0/782 [00:00<?, ?it/s]"
      ]
     },
     "metadata": {},
     "output_type": "display_data"
    },
    {
     "name": "stderr",
     "output_type": "stream",
     "text": [
      "2022-07-13 12:17:15,608 - bert-p-tuing - INFO - [Epoch 23/30] Iteration 17600 -> Train Loss: 0.6282, Train Accuracy: 0.739\n",
      "2022-07-13 12:17:48,511 - bert-p-tuing - INFO - ---------------------------------------------------------\n"
     ]
    },
    {
     "data": {
      "application/vnd.jupyter.widget-view+json": {
       "model_id": "c2b1c73ede1247e7832a77cfec883f6d",
       "version_major": 2,
       "version_minor": 0
      },
      "text/plain": [
       "  0%|          | 0/94 [00:00<?, ?it/s]"
      ]
     },
     "metadata": {},
     "output_type": "display_data"
    },
    {
     "name": "stderr",
     "output_type": "stream",
     "text": [
      "2022-07-13 12:17:52,913 - bert-p-tuing - INFO - [Epoch 23/30] Validatation Accuracy:0.6853333333333333\n",
      "2022-07-13 12:17:52,915 - bert-p-tuing - INFO - ---------------------------------------------------------\n",
      "2022-07-13 12:17:52,916 - bert-p-tuing - INFO - === 처리시간: 4.405 초 ===\n",
      "2022-07-13 12:17:52,917 - bert-p-tuing - INFO - -END-\n",
      "\n"
     ]
    },
    {
     "data": {
      "application/vnd.jupyter.widget-view+json": {
       "model_id": "ccc569c8b2f048f5b1edd11e77b943be",
       "version_major": 2,
       "version_minor": 0
      },
      "text/plain": [
       "  0%|          | 0/782 [00:00<?, ?it/s]"
      ]
     },
     "metadata": {},
     "output_type": "display_data"
    },
    {
     "name": "stderr",
     "output_type": "stream",
     "text": [
      "2022-07-13 12:17:54,637 - bert-p-tuing - INFO - [Epoch 24/30] Iteration 18000 -> Train Loss: 0.6326, Train Accuracy: 0.742\n",
      "2022-07-13 12:18:29,092 - bert-p-tuing - INFO - [Epoch 24/30] Iteration 18400 -> Train Loss: 0.6283, Train Accuracy: 0.741\n",
      "2022-07-13 12:19:00,955 - bert-p-tuing - INFO - ---------------------------------------------------------\n"
     ]
    },
    {
     "data": {
      "application/vnd.jupyter.widget-view+json": {
       "model_id": "0df50b7705b84104babaaecae091d9b0",
       "version_major": 2,
       "version_minor": 0
      },
      "text/plain": [
       "  0%|          | 0/94 [00:00<?, ?it/s]"
      ]
     },
     "metadata": {},
     "output_type": "display_data"
    },
    {
     "name": "stderr",
     "output_type": "stream",
     "text": [
      "2022-07-13 12:19:05,362 - bert-p-tuing - INFO - [Epoch 24/30] Validatation Accuracy:0.683\n",
      "2022-07-13 12:19:05,364 - bert-p-tuing - INFO - ---------------------------------------------------------\n",
      "2022-07-13 12:19:05,365 - bert-p-tuing - INFO - === 처리시간: 4.410 초 ===\n",
      "2022-07-13 12:19:05,366 - bert-p-tuing - INFO - -END-\n",
      "\n"
     ]
    },
    {
     "data": {
      "application/vnd.jupyter.widget-view+json": {
       "model_id": "750727d9550f4262ac9da2d31fd9df6b",
       "version_major": 2,
       "version_minor": 0
      },
      "text/plain": [
       "  0%|          | 0/782 [00:00<?, ?it/s]"
      ]
     },
     "metadata": {},
     "output_type": "display_data"
    },
    {
     "name": "stderr",
     "output_type": "stream",
     "text": [
      "2022-07-13 12:19:08,565 - bert-p-tuing - INFO - [Epoch 25/30] Iteration 18800 -> Train Loss: 0.6198, Train Accuracy: 0.747\n",
      "2022-07-13 12:19:42,998 - bert-p-tuing - INFO - [Epoch 25/30] Iteration 19200 -> Train Loss: 0.6231, Train Accuracy: 0.745\n",
      "2022-07-13 12:20:13,345 - bert-p-tuing - INFO - ---------------------------------------------------------\n"
     ]
    },
    {
     "data": {
      "application/vnd.jupyter.widget-view+json": {
       "model_id": "2a1871d1315047f2bc0eb86d586f0fca",
       "version_major": 2,
       "version_minor": 0
      },
      "text/plain": [
       "  0%|          | 0/94 [00:00<?, ?it/s]"
      ]
     },
     "metadata": {},
     "output_type": "display_data"
    },
    {
     "name": "stderr",
     "output_type": "stream",
     "text": [
      "2022-07-13 12:20:17,749 - bert-p-tuing - INFO - [Epoch 25/30] Validatation Accuracy:0.686\n",
      "2022-07-13 12:20:17,751 - bert-p-tuing - INFO - ---------------------------------------------------------\n",
      "2022-07-13 12:20:17,751 - bert-p-tuing - INFO - === 처리시간: 4.407 초 ===\n",
      "2022-07-13 12:20:17,752 - bert-p-tuing - INFO - -END-\n",
      "\n"
     ]
    },
    {
     "data": {
      "application/vnd.jupyter.widget-view+json": {
       "model_id": "faa285a236564206b33e08069002d203",
       "version_major": 2,
       "version_minor": 0
      },
      "text/plain": [
       "  0%|          | 0/782 [00:00<?, ?it/s]"
      ]
     },
     "metadata": {},
     "output_type": "display_data"
    },
    {
     "name": "stderr",
     "output_type": "stream",
     "text": [
      "2022-07-13 12:20:22,532 - bert-p-tuing - INFO - [Epoch 26/30] Iteration 19600 -> Train Loss: 0.6254, Train Accuracy: 0.749\n",
      "2022-07-13 12:20:57,157 - bert-p-tuing - INFO - [Epoch 26/30] Iteration 20000 -> Train Loss: 0.6190, Train Accuracy: 0.743\n",
      "2022-07-13 12:21:25,880 - bert-p-tuing - INFO - ---------------------------------------------------------\n"
     ]
    },
    {
     "data": {
      "application/vnd.jupyter.widget-view+json": {
       "model_id": "734c7cf2e37b449da7c7679859a79f01",
       "version_major": 2,
       "version_minor": 0
      },
      "text/plain": [
       "  0%|          | 0/94 [00:00<?, ?it/s]"
      ]
     },
     "metadata": {},
     "output_type": "display_data"
    },
    {
     "name": "stderr",
     "output_type": "stream",
     "text": [
      "2022-07-13 12:21:30,234 - bert-p-tuing - INFO - [Epoch 26/30] Validatation Accuracy:0.6856666666666666\n",
      "2022-07-13 12:21:30,235 - bert-p-tuing - INFO - ---------------------------------------------------------\n",
      "2022-07-13 12:21:30,236 - bert-p-tuing - INFO - === 처리시간: 4.357 초 ===\n",
      "2022-07-13 12:21:30,238 - bert-p-tuing - INFO - -END-\n",
      "\n"
     ]
    },
    {
     "data": {
      "application/vnd.jupyter.widget-view+json": {
       "model_id": "0a5e80ef45ef4fe383c9219ae21f311b",
       "version_major": 2,
       "version_minor": 0
      },
      "text/plain": [
       "  0%|          | 0/782 [00:00<?, ?it/s]"
      ]
     },
     "metadata": {},
     "output_type": "display_data"
    },
    {
     "name": "stderr",
     "output_type": "stream",
     "text": [
      "2022-07-13 12:21:36,567 - bert-p-tuing - INFO - [Epoch 27/30] Iteration 20400 -> Train Loss: 0.6154, Train Accuracy: 0.747\n",
      "2022-07-13 12:22:10,672 - bert-p-tuing - INFO - [Epoch 27/30] Iteration 20800 -> Train Loss: 0.6285, Train Accuracy: 0.743\n",
      "2022-07-13 12:22:37,805 - bert-p-tuing - INFO - ---------------------------------------------------------\n"
     ]
    },
    {
     "data": {
      "application/vnd.jupyter.widget-view+json": {
       "model_id": "3e5f509df7494dc58217388111445043",
       "version_major": 2,
       "version_minor": 0
      },
      "text/plain": [
       "  0%|          | 0/94 [00:00<?, ?it/s]"
      ]
     },
     "metadata": {},
     "output_type": "display_data"
    },
    {
     "name": "stderr",
     "output_type": "stream",
     "text": [
      "2022-07-13 12:22:42,219 - bert-p-tuing - INFO - [Epoch 27/30] Validatation Accuracy:0.6873333333333334\n",
      "2022-07-13 12:22:42,221 - bert-p-tuing - INFO - ---------------------------------------------------------\n",
      "2022-07-13 12:22:42,221 - bert-p-tuing - INFO - === 처리시간: 4.416 초 ===\n",
      "2022-07-13 12:22:42,221 - bert-p-tuing - INFO - -END-\n",
      "\n"
     ]
    },
    {
     "data": {
      "application/vnd.jupyter.widget-view+json": {
       "model_id": "5ece16f512de4e4a95bd9c97d6981421",
       "version_major": 2,
       "version_minor": 0
      },
      "text/plain": [
       "  0%|          | 0/782 [00:00<?, ?it/s]"
      ]
     },
     "metadata": {},
     "output_type": "display_data"
    },
    {
     "name": "stderr",
     "output_type": "stream",
     "text": [
      "2022-07-13 12:22:50,111 - bert-p-tuing - INFO - [Epoch 28/30] Iteration 21200 -> Train Loss: 0.6094, Train Accuracy: 0.751\n",
      "2022-07-13 12:23:24,406 - bert-p-tuing - INFO - [Epoch 28/30] Iteration 21600 -> Train Loss: 0.6212, Train Accuracy: 0.747\n",
      "2022-07-13 12:23:49,974 - bert-p-tuing - INFO - ---------------------------------------------------------\n"
     ]
    },
    {
     "data": {
      "application/vnd.jupyter.widget-view+json": {
       "model_id": "4c782d5a9d2146febd8cd987903c376c",
       "version_major": 2,
       "version_minor": 0
      },
      "text/plain": [
       "  0%|          | 0/94 [00:00<?, ?it/s]"
      ]
     },
     "metadata": {},
     "output_type": "display_data"
    },
    {
     "name": "stderr",
     "output_type": "stream",
     "text": [
      "2022-07-13 12:23:54,363 - bert-p-tuing - INFO - [Epoch 28/30] Validatation Accuracy:0.6846666666666666\n",
      "2022-07-13 12:23:54,365 - bert-p-tuing - INFO - ---------------------------------------------------------\n",
      "2022-07-13 12:23:54,366 - bert-p-tuing - INFO - === 처리시간: 4.392 초 ===\n",
      "2022-07-13 12:23:54,367 - bert-p-tuing - INFO - -END-\n",
      "\n"
     ]
    },
    {
     "data": {
      "application/vnd.jupyter.widget-view+json": {
       "model_id": "9a2735771dfc472698c4696824a05817",
       "version_major": 2,
       "version_minor": 0
      },
      "text/plain": [
       "  0%|          | 0/782 [00:00<?, ?it/s]"
      ]
     },
     "metadata": {},
     "output_type": "display_data"
    },
    {
     "name": "stderr",
     "output_type": "stream",
     "text": [
      "2022-07-13 12:24:03,805 - bert-p-tuing - INFO - [Epoch 29/30] Iteration 22000 -> Train Loss: 0.6177, Train Accuracy: 0.751\n",
      "2022-07-13 12:24:38,288 - bert-p-tuing - INFO - [Epoch 29/30] Iteration 22400 -> Train Loss: 0.6118, Train Accuracy: 0.749\n",
      "2022-07-13 12:25:02,269 - bert-p-tuing - INFO - ---------------------------------------------------------\n"
     ]
    },
    {
     "data": {
      "application/vnd.jupyter.widget-view+json": {
       "model_id": "79f33de9c3c345d98e7182726fd50fc4",
       "version_major": 2,
       "version_minor": 0
      },
      "text/plain": [
       "  0%|          | 0/94 [00:00<?, ?it/s]"
      ]
     },
     "metadata": {},
     "output_type": "display_data"
    },
    {
     "name": "stderr",
     "output_type": "stream",
     "text": [
      "2022-07-13 12:25:06,635 - bert-p-tuing - INFO - [Epoch 29/30] Validatation Accuracy:0.6863333333333334\n",
      "2022-07-13 12:25:06,637 - bert-p-tuing - INFO - ---------------------------------------------------------\n",
      "2022-07-13 12:25:06,638 - bert-p-tuing - INFO - === 처리시간: 4.369 초 ===\n",
      "2022-07-13 12:25:06,638 - bert-p-tuing - INFO - -END-\n",
      "\n"
     ]
    },
    {
     "data": {
      "application/vnd.jupyter.widget-view+json": {
       "model_id": "adcb646137034396bd4b5094d47cc89e",
       "version_major": 2,
       "version_minor": 0
      },
      "text/plain": [
       "  0%|          | 0/782 [00:00<?, ?it/s]"
      ]
     },
     "metadata": {},
     "output_type": "display_data"
    },
    {
     "name": "stderr",
     "output_type": "stream",
     "text": [
      "2022-07-13 12:25:17,576 - bert-p-tuing - INFO - [Epoch 30/30] Iteration 22800 -> Train Loss: 0.6133, Train Accuracy: 0.749\n",
      "2022-07-13 12:25:51,995 - bert-p-tuing - INFO - [Epoch 30/30] Iteration 23200 -> Train Loss: 0.6101, Train Accuracy: 0.748\n",
      "2022-07-13 12:26:14,514 - bert-p-tuing - INFO - ---------------------------------------------------------\n"
     ]
    },
    {
     "data": {
      "application/vnd.jupyter.widget-view+json": {
       "model_id": "b2152a7c756d46d88849e2f1695abaf5",
       "version_major": 2,
       "version_minor": 0
      },
      "text/plain": [
       "  0%|          | 0/94 [00:00<?, ?it/s]"
      ]
     },
     "metadata": {},
     "output_type": "display_data"
    },
    {
     "name": "stderr",
     "output_type": "stream",
     "text": [
      "2022-07-13 12:26:18,879 - bert-p-tuing - INFO - [Epoch 30/30] Validatation Accuracy:0.6893333333333334\n",
      "2022-07-13 12:26:18,881 - bert-p-tuing - INFO - ---------------------------------------------------------\n",
      "2022-07-13 12:26:18,882 - bert-p-tuing - INFO - === 처리시간: 4.368 초 ===\n",
      "2022-07-13 12:26:18,883 - bert-p-tuing - INFO - -END-\n",
      "\n"
     ]
    }
   ],
   "source": [
    "# 학습 시작\n",
    "import time\n",
    "from transformers import AdamW, get_linear_schedule_with_warmup\n",
    "\n",
    "logger.info(f\"=== model: {model_path} ===\")\n",
    "logger.info(f\"num_parameters: {model.num_parameters()}\")\n",
    "\n",
    "##################################################\n",
    "# 변수 설정\n",
    "##################################################\n",
    "epochs = training_args.num_train_epochs            # epochs\n",
    "learning_rate = training_args.learning_rate  # 학습률\n",
    "p_itr = 400           # 손실률 보여줄 step 수\n",
    "##################################################\n",
    "\n",
    "# optimizer 적용\n",
    "optimizer = AdamW(model.parameters(), \n",
    "                 lr=learning_rate, \n",
    "                 eps=1e-8) # 0으로 나누는 것을 방지하기 위한 epsilon 값(10^-6 ~ 10^-8 사이 이값 입력합)\n",
    "\n",
    "# 총 훈련과정에서 반복할 스탭\n",
    "total_steps = len(train_loader)*epochs\n",
    "\n",
    "num_warmup_steps = total_steps * 0.1\n",
    "\n",
    "# 스캐줄러 생성\n",
    "scheduler = get_linear_schedule_with_warmup(optimizer, \n",
    "                                            num_warmup_steps=num_warmup_steps, \n",
    "                                            num_training_steps=total_steps)\n",
    "\n",
    "itr = 1\n",
    "total_loss = 0\n",
    "total_len = 0\n",
    "total_correct = 0\n",
    "list_training_loss = []\n",
    "list_acc_loss = []\n",
    "list_validation_acc_loss = []\n",
    "\n",
    "model.zero_grad()# 그래디언트 초기화\n",
    "for epoch in tqdm(range(epochs)):\n",
    "\n",
    "    model.train() # 훈련모드로 변환\n",
    "    for data in tqdm(train_loader):\n",
    "    \n",
    "        #optimizer.zero_grad()\n",
    "        model.zero_grad()# 그래디언트 초기화\n",
    "        \n",
    "        # 입력 값 설정\n",
    "        input_ids = data['input_ids'].to(device)\n",
    "        attention_mask = data['attention_mask'].to(device)\n",
    "        token_type_ids = data['token_type_ids'].to(device)       \n",
    "        labels = data['labels'].to(device)\n",
    "        #print('Labels:{}'.format(labels))\n",
    "        \n",
    "        # 모델 실행\n",
    "        outputs = model(input_ids=input_ids, \n",
    "                        attention_mask=attention_mask,\n",
    "                        token_type_ids=token_type_ids,\n",
    "                        labels=labels)\n",
    "        \n",
    "        # 출력값 loss,logits를 outputs에서 얻어옴\n",
    "        loss = outputs.loss\n",
    "        logits = outputs.logits\n",
    "        #print('Loss:{}, logits:{}'.format(loss, logits))\n",
    "        \n",
    "        # optimizer 과 scheduler 업데이트 시킴\n",
    "        loss.backward()   # backward 구함\n",
    "        torch.nn.utils.clip_grad_norm_(model.parameters(), 1.0)   # 그래디언트 클리핑 (gradient vanishing이나 gradient exploding 방지하기 위한 기법)\n",
    "        optimizer.step()  # 가중치 파라미터 업데이트(optimizer 이동)\n",
    "        scheduler.step()  # 학습률 감소\n",
    "        \n",
    "        # 정확도와 손실률 계산하는 부분은 no_grade 시켜서, 계산량을 줄임.\n",
    "        # => torch.no_grad()는 gradient을 계산하는 autograd engine를 비활성화 하여 \n",
    "        # 필요한 메모리를 줄이고, 연산속도를 증가시키는 역활을 함\n",
    "        with torch.no_grad():\n",
    "            # 정확도와 총 손실률 계산\n",
    "            pred = torch.argmax(F.softmax(logits), dim=1)\n",
    "            correct = pred.eq(labels)\n",
    "            total_correct += correct.sum().item()\n",
    "            total_len += len(labels)    \n",
    "            total_loss += loss.item()\n",
    "            #print('pred:{}, correct:{}'.format(pred, correct))\n",
    "\n",
    "            # 주기마다 test(validataion) 데이터로 평가하여 손실류 계산함.\n",
    "            if itr % p_itr == 0:\n",
    "\n",
    "                logger.info('[Epoch {}/{}] Iteration {} -> Train Loss: {:.4f}, Train Accuracy: {:.3f}'.format(epoch+1, epochs, itr, total_loss/p_itr, total_correct/total_len))\n",
    "\n",
    "                list_training_loss.append(total_loss/p_itr)\n",
    "                list_acc_loss.append(total_correct/total_len)\n",
    "\n",
    "                total_loss = 0\n",
    "                total_len = 0\n",
    "                total_correct = 0\n",
    "\n",
    "        itr+=1\n",
    "        \n",
    "        #if itr > 5:\n",
    "        #    break\n",
    "   \n",
    "    ####################################################################\n",
    "    # 1epochs 마다 실제 test(validattion)데이터로 평가 해봄\n",
    "    start = time.time()\n",
    "    logger.info(f'---------------------------------------------------------')\n",
    "\n",
    "    # 평가 시작\n",
    "    model.eval()\n",
    "    \n",
    "    total_test_correct = 0\n",
    "    total_test_len = 0\n",
    "    \n",
    "    for data in tqdm(eval_loader):\n",
    "        # 입력 값 설정\n",
    "        input_ids = data['input_ids'].to(device)\n",
    "        attention_mask = data['attention_mask'].to(device)\n",
    "        token_type_ids = data['token_type_ids'].to(device)       \n",
    "        labels = data['labels'].to(device)\n",
    " \n",
    "        # 손실률 계산하는 부분은 no_grade 시켜서, 계산량을 줄임.\n",
    "        # => torch.no_grad()는 gradient을 계산하는 autograd engine를 비활성화 하여 \n",
    "        # 필요한 메모리를 줄이고, 연산속도를 증가시키는 역활을 함\n",
    "        with torch.no_grad():\n",
    "            # 모델 실행\n",
    "            outputs = model(input_ids=input_ids, \n",
    "                            attention_mask=attention_mask,\n",
    "                            token_type_ids=token_type_ids,\n",
    "                            labels=labels)\n",
    "    \n",
    "            # 출력값 loss,logits를 outputs에서 얻어옴\n",
    "            #loss = outputs.loss\n",
    "            logits = outputs.logits\n",
    "    \n",
    "            # 총 손실류 구함\n",
    "            pred = torch.argmax(F.softmax(logits), dim=1)\n",
    "            correct = pred.eq(labels)\n",
    "            total_test_correct += correct.sum().item()\n",
    "            total_test_len += len(labels)\n",
    "    \n",
    "    list_validation_acc_loss.append(total_test_correct/total_test_len)\n",
    "    logger.info(\"[Epoch {}/{}] Validatation Accuracy:{}\".format(epoch+1, epochs, total_test_correct / total_test_len))\n",
    "    logger.info(f'---------------------------------------------------------')\n",
    "    logger.info(f'=== 처리시간: {time.time() - start:.3f} 초 ===')\n",
    "    logger.info(f'-END-\\n')\n",
    "    ####################################################################"
   ]
  },
  {
   "cell_type": "code",
   "execution_count": 8,
   "id": "bbc71684-c3aa-494e-b193-49eb7305cfc9",
   "metadata": {},
   "outputs": [
    {
     "data": {
      "image/png": "[encoded data removed]",
      "text/plain": [
       "<Figure size 432x288 with 1 Axes>"
      ]
     },
     "metadata": {
      "needs_background": "light"
     },
     "output_type": "display_data"
    }
   ],
   "source": [
    "# 그래프로 loss 표기\n",
    "#!pip install matplotlib\n",
    "import matplotlib.pyplot as plt\n",
    "\n",
    "plt.plot(list_training_loss, label='Train Loss')\n",
    "plt.plot(list_acc_loss, label='Train Accuracy')\n",
    "plt.legend()\n",
    "plt.show()"
   ]
  },
  {
   "cell_type": "code",
   "execution_count": 9,
   "id": "1f49d7d5-7983-4488-abbc-99f7d1b012f0",
   "metadata": {},
   "outputs": [
    {
     "data": {
      "image/png": "[encoded data removed]",
      "text/plain": [
       "<Figure size 432x288 with 1 Axes>"
      ]
     },
     "metadata": {
      "needs_background": "light"
     },
     "output_type": "display_data"
    }
   ],
   "source": [
    "# train loss와 Validatiaon acc 출력\n",
    "plt.plot(list_training_loss, label='Train Loss')\n",
    "plt.plot(list_validation_acc_loss, label='Validatiaon Accuracy')\n",
    "plt.legend()\n",
    "plt.show()"
   ]
  },
  {
   "cell_type": "code",
   "execution_count": 10,
   "id": "d1b71fed-9d62-46f7-ae76-4805e6b9a9f4",
   "metadata": {},
   "outputs": [
    {
     "data": {
      "text/plain": [
       "('../../data11/model/bert/bert-multilingual-cased-p-tuing-pp-nli-50/tokenizer_config.json',\n",
       " '../../data11/model/bert/bert-multilingual-cased-p-tuing-pp-nli-50/special_tokens_map.json',\n",
       " '../../data11/model/bert/bert-multilingual-cased-p-tuing-pp-nli-50/vocab.txt',\n",
       " '../../data11/model/bert/bert-multilingual-cased-p-tuing-pp-nli-50/added_tokens.json')"
      ]
     },
     "execution_count": 10,
     "metadata": {},
     "output_type": "execute_result"
    }
   ],
   "source": [
    "### 전체모델 저장\n",
    "OUTPATH = training_args.output_dir\n",
    "\n",
    "os.makedirs(OUTPATH, exist_ok=True)\n",
    "#torch.save(model, OUTPATH + 'pytorch_model.bin') \n",
    "model.save_pretrained(OUTPATH)  # save_pretrained 로 저장하면 config.json, pytorch_model.bin 2개의 파일이 생성됨\n",
    "\n",
    "# tokeinizer 파일 저장(vocab)\n",
    "VOCAB_PATH = OUTPATH\n",
    "os.makedirs(VOCAB_PATH,exist_ok=True)\n",
    "tokenizer.save_pretrained(VOCAB_PATH)"
   ]
  },
  {
   "cell_type": "code",
   "execution_count": 11,
   "id": "87b4dc7b-668b-44a4-a786-7adb30b9230f",
   "metadata": {},
   "outputs": [],
   "source": [
    "#torch.save(model, OUTPATH + 'pytorch_model_torch.bin') "
   ]
  },
  {
   "cell_type": "code",
   "execution_count": null,
   "id": "588369b2-ae3e-49e1-83da-20982ced20f5",
   "metadata": {},
   "outputs": [],
   "source": []
  }
 ],
 "metadata": {
  "kernelspec": {
   "display_name": "Python 3 (ipykernel)",
   "language": "python",
   "name": "python3"
  },
  "language_info": {
   "codemirror_mode": {
    "name": "ipython",
    "version": 3
   },
   "file_extension": ".py",
   "mimetype": "text/x-python",
   "name": "python",
   "nbconvert_exporter": "python",
   "pygments_lexer": "ipython3",
   "version": "3.9.7"
  }
 },
 "nbformat": 4,
 "nbformat_minor": 5
}

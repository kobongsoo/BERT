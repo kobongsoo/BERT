{
 "cells": [
  {
   "cell_type": "code",
   "execution_count": 1,
   "id": "636ee32c-db97-4810-8084-2d11566e7226",
   "metadata": {},
   "outputs": [
    {
     "name": "stderr",
     "output_type": "stream",
     "text": [
      "/MOCOMSYS/anaconda3/envs/bong/lib/python3.9/site-packages/huggingface_hub/snapshot_download.py:6: FutureWarning: snapshot_download.py has been made private and will no longer be available from version 0.11. Please use `from huggingface_hub import snapshot_download` to import the only public function in this module. Other members of the file may be changed without a deprecation notice.\n",
      "  warnings.warn(\n"
     ]
    }
   ],
   "source": [
    "#Clustering\n",
    "#Clustering.py는 문장 임베딩 유사성을 기반으로 유사한 문장을 클러스터링하는 예를 보여줍니다.\n",
    "# 참고 소스 : https://github.com/BM-K/KoSentenceBERT-ETRI\n",
    "\n",
    "from sentence_transformers import SentenceTransformer, util\n",
    "import numpy as np\n",
    "\n",
    "#model_path = 'model/bmc_fpt_kowiki20200920.train_model_0225-s-bert-nli-sts-0303'\n",
    "model_path = 'bongsoo/kpf-sbert-128d-v1'"
   ]
  },
  {
   "cell_type": "code",
   "execution_count": 2,
   "id": "02a50cc6-0bbd-489a-86be-358f22dc6c26",
   "metadata": {},
   "outputs": [
    {
     "name": "stderr",
     "output_type": "stream",
     "text": [
      "/MOCOMSYS/anaconda3/envs/bong/lib/python3.9/site-packages/huggingface_hub/file_download.py:621: FutureWarning: `cached_download` is the legacy way to download files from the HF hub, please consider upgrading to `hf_hub_download`\n",
      "  warnings.warn(\n"
     ]
    },
    {
     "name": "stdout",
     "output_type": "stream",
     "text": [
      "SentenceTransformer(\n",
      "  (0): Transformer({'max_seq_length': 512, 'do_lower_case': True}) with Transformer model: BertModel \n",
      "  (1): Pooling({'word_embedding_dimension': 768, 'pooling_mode_cls_token': False, 'pooling_mode_mean_tokens': True, 'pooling_mode_max_tokens': False, 'pooling_mode_mean_sqrt_len_tokens': False})\n",
      "  (2): Dense({'in_features': 768, 'out_features': 128, 'bias': True, 'activation_function': 'torch.nn.modules.activation.Tanh'})\n",
      ")\n"
     ]
    }
   ],
   "source": [
    "embedder = SentenceTransformer(model_path)\n",
    "print(embedder)"
   ]
  },
  {
   "cell_type": "code",
   "execution_count": 3,
   "id": "5a24601e-1b52-4547-bad0-aa282da38bf5",
   "metadata": {},
   "outputs": [],
   "source": [
    "# Corpus with example sentences\n",
    "corpus = ['한 남자가 음식을 먹는다.',\n",
    "          '한 남자가 빵 한 조각을 먹는다.',\n",
    "          '그 여자가 아이를 돌본다.',\n",
    "          '한 남자가 아이와 놀아주고 있다',\n",
    "          '한 남자가 말을 탄다.',\n",
    "          '한 여자가 바이올린을 연주한다.',\n",
    "          '두 남자가 수레를 숲 속으로 밀었다.',\n",
    "          '한 남자가 담으로 싸인 땅에서 백마를 타고 있다.',\n",
    "          '원숭이 한 마리가 드럼을 연주한다.',\n",
    "          '치타 한 마리가 먹이 뒤에서 달리고 있다.',\n",
    "          '한 남자가 파스타를 먹는다.',\n",
    "          '고릴라 의상을 입은 누군가가 드럼을 연주하고 있다.',\n",
    "          '사자가 들판을 달리고 있다.',\n",
    "          '한 여자가 레스토랑에서 스테이크를 먹고 있다.',\n",
    "          '치타가 들판을 가로 질러 먹이를 쫓는다.']"
   ]
  },
  {
   "cell_type": "code",
   "execution_count": 4,
   "id": "9463a735-de10-4fa3-8f05-5d934f69f04d",
   "metadata": {},
   "outputs": [],
   "source": [
    "# 모델을 통해 임베딩 계산\n",
    "corpus_embeddings = embedder.encode(corpus)"
   ]
  },
  {
   "cell_type": "code",
   "execution_count": 12,
   "id": "ece3d0c2-5ab7-4523-a7eb-317ea0827c1a",
   "metadata": {},
   "outputs": [
    {
     "data": {
      "image/png": "[encoded data removed]",
      "text/plain": [
       "<Figure size 432x288 with 1 Axes>"
      ]
     },
     "metadata": {
      "needs_background": "light"
     },
     "output_type": "display_data"
    }
   ],
   "source": [
    "# 엘보우 그래프를 통한 최적 클러스터 수 지정\n",
    "# 최적의 클러스터 수를 그래프로 보여줌.\n",
    "# => 꺽이는 지점(엘보우)이 최적이 클러스터 수임.\n",
    "from sklearn.cluster import KMeans\n",
    "import matplotlib.pyplot as plt\n",
    "\n",
    "# 클러스터 범위 지정\n",
    "n_clusters_range = range(1, len(corpus))\n",
    "\n",
    "# SSE 값 저장할 리스트\n",
    "sse = []\n",
    "\n",
    "for n_clusters in n_clusters_range:\n",
    "    kmeans = KMeans(n_clusters=n_clusters, init='k-means++', random_state=0)\n",
    "    kmeans.fit(corpus_embeddings)\n",
    "    sse.append(kmeans.inertia_)\n",
    "\n",
    "plt.plot(n_clusters_range, sse)\n",
    "plt.xlabel('Number of clusters')\n",
    "plt.ylabel('SSE')\n",
    "plt.show()"
   ]
  },
  {
   "cell_type": "code",
   "execution_count": 20,
   "id": "cc6f6c91-ec8c-433b-8e76-cd5b4328bf02",
   "metadata": {},
   "outputs": [
    {
     "name": "stdout",
     "output_type": "stream",
     "text": [
      "*실루엣 스코어\n",
      "2:0.13515755534172058\n",
      "3:0.1310611367225647\n",
      "4:0.153165802359581\n",
      "5:0.17212487757205963\n",
      "6:0.1661088913679123\n",
      "7:0.12242641299962997\n",
      "8:0.13270752131938934\n",
      "9:0.11929821968078613\n",
      "10:0.12955625355243683\n",
      "11:0.10894379019737244\n",
      "12:0.0806831493973732\n",
      "13:0.04966308921575546\n",
      "14:0.021569401025772095\n",
      "-------------------------------------------\n",
      "*Best number of clusters: 5\n"
     ]
    }
   ],
   "source": [
    "# 실루엣 점수를 이용한 최적 클러스터수 지정\n",
    "# -실루엣 점수는 클러스터 내의 응집도와 클러스터 간 분리도를 모두 고려하는 척도입니다. \n",
    "# -클러스터 수를 증가시키면서 실루엣 점수를 계산하고 가장 높은 값을 갖는 클러스터 수가 최적의 클러스터 수로 간주됩니다.\n",
    "# - 실루엣 점수 범위는 0~1이고 1에 가까울수록 좋다.\n",
    "\n",
    "from sklearn.cluster import KMeans\n",
    "from sklearn.metrics import silhouette_score\n",
    "\n",
    "# 임베딩이 저장된 리스트\n",
    "embeddings = corpus_embeddings\n",
    "\n",
    "# 클러스터 범위 지정\n",
    "n_clusters_range = range(2, len(corpus))\n",
    "\n",
    "# 실루엣 점수 저장할 리스트\n",
    "silhouette_scores = []\n",
    "\n",
    "print(f'*실루엣 스코어')\n",
    "idx = 2\n",
    "for n_clusters in n_clusters_range:\n",
    "    kmeans = KMeans(n_clusters=n_clusters, init='k-means++', random_state=0)\n",
    "    kmeans.fit(embeddings)\n",
    "    silhouette_scores.append(silhouette_score(embeddings, kmeans.labels_))\n",
    "    print(f'{idx}:{silhouette_score(embeddings, kmeans.labels_)}')\n",
    "    idx+=1\n",
    "\n",
    "best_n_clusters = n_clusters_range[silhouette_scores.index(max(silhouette_scores))]\n",
    "\n",
    "print(f'-------------------------------------------')\n",
    "print(f'*Best number of clusters: {best_n_clusters}')"
   ]
  },
  {
   "cell_type": "code",
   "execution_count": 17,
   "id": "b1e98000-ec80-4ee1-b697-a498caae1534",
   "metadata": {},
   "outputs": [
    {
     "name": "stdout",
     "output_type": "stream",
     "text": [
      "Cluster  1\n",
      "['한 남자가 음식을 먹는다.', '한 남자가 빵 한 조각을 먹는다.', '한 남자가 말을 탄다.', '두 남자가 수레를 숲 속으로 밀었다.', '한 남자가 담으로 싸인 땅에서 백마를 타고 있다.', '치타 한 마리가 먹이 뒤에서 달리고 있다.', '사자가 들판을 달리고 있다.', '한 여자가 레스토랑에서 스테이크를 먹고 있다.', '치타가 들판을 가로 질러 먹이를 쫓는다.']\n",
      "\n",
      "Cluster  2\n",
      "['한 여자가 바이올린을 연주한다.']\n",
      "\n",
      "Cluster  3\n",
      "['원숭이 한 마리가 드럼을 연주한다.', '고릴라 의상을 입은 누군가가 드럼을 연주하고 있다.']\n",
      "\n",
      "Cluster  4\n",
      "['그 여자가 아이를 돌본다.', '한 남자가 아이와 놀아주고 있다']\n",
      "\n",
      "Cluster  5\n",
      "['한 남자가 파스타를 먹는다.']\n",
      "\n"
     ]
    }
   ],
   "source": [
    "# 클러스터링 처리함.\n",
    "# => 이때 최적 클러스터수는 위에서 구한 실루엣 점수를 이용함\n",
    "corpus_embeddings = embedder.encode(corpus)\n",
    "\n",
    "# Then, we perform k-means clustering using sklearn:\n",
    "from sklearn.cluster import KMeans\n",
    "\n",
    "num_clusters = best_n_clusters\n",
    "clustering_model = KMeans(n_clusters=num_clusters, init='k-means++', random_state=0)\n",
    "clustering_model.fit(corpus_embeddings)\n",
    "cluster_assignment = clustering_model.labels_\n",
    "\n",
    "clustered_sentences = [[] for i in range(num_clusters)]\n",
    "for sentence_id, cluster_id in enumerate(cluster_assignment):\n",
    "    clustered_sentences[cluster_id].append(corpus[sentence_id])\n",
    "\n",
    "for i, cluster in enumerate(clustered_sentences):\n",
    "    print(\"Cluster \", i+1)\n",
    "    print(cluster)\n",
    "    print(\"\")"
   ]
  },
  {
   "cell_type": "code",
   "execution_count": null,
   "id": "cefa1295-4739-4167-8a8e-35280a936e36",
   "metadata": {},
   "outputs": [],
   "source": []
  }
 ],
 "metadata": {
  "kernelspec": {
   "display_name": "Python 3 (ipykernel)",
   "language": "python",
   "name": "python3"
  },
  "language_info": {
   "codemirror_mode": {
    "name": "ipython",
    "version": 3
   },
   "file_extension": ".py",
   "mimetype": "text/x-python",
   "name": "python",
   "nbconvert_exporter": "python",
   "pygments_lexer": "ipython3",
   "version": "3.9.7"
  }
 },
 "nbformat": 4,
 "nbformat_minor": 5
}

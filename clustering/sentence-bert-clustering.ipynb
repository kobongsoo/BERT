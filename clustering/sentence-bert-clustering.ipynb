{
 "cells": [
  {
   "cell_type": "code",
   "execution_count": 1,
   "id": "636ee32c-db97-4810-8084-2d11566e7226",
   "metadata": {},
   "outputs": [
    {
     "name": "stderr",
     "output_type": "stream",
     "text": [
      "/MOCOMSYS/anaconda3/envs/bong/lib/python3.9/site-packages/huggingface_hub/snapshot_download.py:6: FutureWarning: snapshot_download.py has been made private and will no longer be available from version 0.11. Please use `from huggingface_hub import snapshot_download` to import the only public function in this module. Other members of the file may be changed without a deprecation notice.\n",
      "  warnings.warn(\n"
     ]
    }
   ],
   "source": [
    "#Clustering\n",
    "#Clustering.py는 문장 임베딩 유사성을 기반으로 유사한 문장을 클러스터링하는 예를 보여줍니다.\n",
    "# 참고 소스 : https://github.com/BM-K/KoSentenceBERT-ETRI\n",
    "#\n",
    "\n",
    "from sentence_transformers import SentenceTransformer, util\n",
    "import numpy as np\n",
    "\n",
    "#model_path = 'model/bmc_fpt_kowiki20200920.train_model_0225-s-bert-nli-sts-0303'\n",
    "model_path = 'bongsoo/kpf-sbert-128d-v1'"
   ]
  },
  {
   "cell_type": "code",
   "execution_count": 2,
   "id": "02a50cc6-0bbd-489a-86be-358f22dc6c26",
   "metadata": {},
   "outputs": [
    {
     "name": "stderr",
     "output_type": "stream",
     "text": [
      "/MOCOMSYS/anaconda3/envs/bong/lib/python3.9/site-packages/huggingface_hub/file_download.py:621: FutureWarning: `cached_download` is the legacy way to download files from the HF hub, please consider upgrading to `hf_hub_download`\n",
      "  warnings.warn(\n"
     ]
    },
    {
     "name": "stdout",
     "output_type": "stream",
     "text": [
      "SentenceTransformer(\n",
      "  (0): Transformer({'max_seq_length': 512, 'do_lower_case': True}) with Transformer model: BertModel \n",
      "  (1): Pooling({'word_embedding_dimension': 768, 'pooling_mode_cls_token': False, 'pooling_mode_mean_tokens': True, 'pooling_mode_max_tokens': False, 'pooling_mode_mean_sqrt_len_tokens': False})\n",
      "  (2): Dense({'in_features': 768, 'out_features': 128, 'bias': True, 'activation_function': 'torch.nn.modules.activation.Tanh'})\n",
      ")\n"
     ]
    }
   ],
   "source": [
    "embedder = SentenceTransformer(model_path)\n",
    "print(embedder)"
   ]
  },
  {
   "cell_type": "code",
   "execution_count": 3,
   "id": "5a24601e-1b52-4547-bad0-aa282da38bf5",
   "metadata": {},
   "outputs": [],
   "source": [
    "# Corpus with example sentences\n",
    "corpus = ['한 남자가 음식을 먹는다.',\n",
    "          '한 남자가 빵 한 조각을 먹는다.',\n",
    "          '그 여자가 아이를 돌본다.',\n",
    "          '한 남자가 아이와 놀아주고 있다',\n",
    "          '한 남자가 말을 탄다.',\n",
    "          '한 여자가 바이올린을 연주한다.',\n",
    "          '두 남자가 수레를 숲 속으로 밀었다.',\n",
    "          '한 남자가 담으로 싸인 땅에서 백마를 타고 있다.',\n",
    "          '원숭이 한 마리가 드럼을 연주한다.',\n",
    "          '치타 한 마리가 먹이 뒤에서 달리고 있다.',\n",
    "          '한 남자가 파스타를 먹는다.',\n",
    "          '고릴라 의상을 입은 누군가가 드럼을 연주하고 있다.',\n",
    "          '사자가 들판을 달리고 있다.',\n",
    "          '한 여자가 레스토랑에서 스테이크를 먹고 있다.',\n",
    "          '치타가 들판을 가로 질러 먹이를 쫓는다.']"
   ]
  },
  {
   "cell_type": "code",
   "execution_count": 4,
   "id": "9463a735-de10-4fa3-8f05-5d934f69f04d",
   "metadata": {},
   "outputs": [],
   "source": [
    "# 모델을 통해 임베딩 계산\n",
    "corpus_embeddings = embedder.encode(corpus)"
   ]
  },
  {
   "cell_type": "code",
   "execution_count": 7,
   "id": "cf3e87a6-1e65-4064-a0af-3b2ccb1bf5ff",
   "metadata": {},
   "outputs": [
    {
     "name": "stdout",
     "output_type": "stream",
     "text": [
      "[[1.]]\n"
     ]
    }
   ],
   "source": [
    "# cosine 유사도 비교 예시\n",
    "#from sklearn.metrics.pairwise import cosine_similarity\n",
    "#cosine = cosine_similarity([corpus_embeddings[0]], [result[0]]) # (1,768) 식에 2차원 배열입력되어야 함.\n",
    "#print(cosine)"
   ]
  },
  {
   "cell_type": "code",
   "execution_count": null,
   "id": "ece3d0c2-5ab7-4523-a7eb-317ea0827c1a",
   "metadata": {},
   "outputs": [],
   "source": [
    "# 엘보우 그래프를 통한 최적 클러스터 수 지정\n",
    "# 최적의 클러스터 수를 그래프로 보여줌.\n",
    "# => 꺽이는 지점(엘보우)이 최적이 클러스터 수임.\n",
    "from sklearn.cluster import KMeans\n",
    "import matplotlib.pyplot as plt\n",
    "\n",
    "# 클러스터 범위 지정\n",
    "n_clusters_range = range(1, len(corpus))\n",
    "\n",
    "# SSE 값 저장할 리스트\n",
    "sse = []\n",
    "\n",
    "for n_clusters in n_clusters_range:\n",
    "    kmeans = KMeans(n_clusters=n_clusters, init='k-means++', random_state=0)\n",
    "    kmeans.fit(corpus_embeddings)\n",
    "    sse.append(kmeans.inertia_)\n",
    "\n",
    "plt.plot(n_clusters_range, sse)\n",
    "plt.xlabel('Number of clusters')\n",
    "plt.ylabel('SSE')\n",
    "plt.show()"
   ]
  },
  {
   "cell_type": "code",
   "execution_count": null,
   "id": "cc6f6c91-ec8c-433b-8e76-cd5b4328bf02",
   "metadata": {},
   "outputs": [],
   "source": [
    "# 실루엣 점수를 이용한 최적 클러스터수 지정\n",
    "# -실루엣 점수는 클러스터 내의 응집도와 클러스터 간 분리도를 모두 고려하는 척도입니다. \n",
    "# -클러스터 수를 증가시키면서 실루엣 점수를 계산하고 가장 높은 값을 갖는 클러스터 수가 최적의 클러스터 수로 간주됩니다.\n",
    "# - 실루엣 점수 범위는 0~1이고 1에 가까울수록 좋다.\n",
    "\n",
    "from sklearn.cluster import KMeans\n",
    "from sklearn.metrics import silhouette_score\n",
    "\n",
    "# 임베딩이 저장된 리스트\n",
    "embeddings = corpus_embeddings\n",
    "\n",
    "# 클러스터 범위 지정\n",
    "n_clusters_range = range(2, len(corpus))\n",
    "\n",
    "# 실루엣 점수 저장할 리스트\n",
    "silhouette_scores = []\n",
    "\n",
    "print(f'*실루엣 스코어')\n",
    "idx = 2\n",
    "for n_clusters in n_clusters_range:\n",
    "    kmeans = KMeans(n_clusters=n_clusters, init='k-means++', random_state=0)\n",
    "    kmeans.fit(embeddings)\n",
    "    silhouette_scores.append(silhouette_score(embeddings, kmeans.labels_))\n",
    "    print(f'{idx}:{silhouette_score(embeddings, kmeans.labels_)}')\n",
    "    idx+=1\n",
    "\n",
    "best_n_clusters = n_clusters_range[silhouette_scores.index(max(silhouette_scores))]\n",
    "\n",
    "print(f'-------------------------------------------')\n",
    "print(f'*Best number of clusters: {best_n_clusters}')"
   ]
  },
  {
   "cell_type": "code",
   "execution_count": null,
   "id": "b1e98000-ec80-4ee1-b697-a498caae1534",
   "metadata": {},
   "outputs": [],
   "source": [
    "# 클러스터링 처리함.\n",
    "# => 이때 최적 클러스터수는 위에서 구한 실루엣 점수를 이용함\n",
    "corpus_embeddings = embedder.encode(corpus)\n",
    "\n",
    "# Then, we perform k-means clustering using sklearn:\n",
    "from sklearn.cluster import KMeans\n",
    "\n",
    "num_clusters = best_n_clusters\n",
    "clustering_model = KMeans(n_clusters=num_clusters, init='k-means++', random_state=0)\n",
    "clustering_model.fit(corpus_embeddings)\n",
    "cluster_assignment = clustering_model.labels_\n",
    "\n",
    "clustered_sentences = [[] for i in range(num_clusters)]\n",
    "for sentence_id, cluster_id in enumerate(cluster_assignment):\n",
    "    clustered_sentences[cluster_id].append(corpus[sentence_id])\n",
    "\n",
    "for i, cluster in enumerate(clustered_sentences):\n",
    "    print(\"Cluster \", i+1)\n",
    "    print(cluster)\n",
    "    print(\"\")"
   ]
  },
  {
   "cell_type": "code",
   "execution_count": null,
   "id": "073d6d7e-21f0-4c05-b99e-5760dd48b394",
   "metadata": {},
   "outputs": [],
   "source": [
    "#---------------------------------------------------------------------------\n",
    "# KMedoids = k-대푯값 군집 분석\n",
    "# 참고 : https://todayisbetterthanyesterday.tistory.com/58\n",
    "\n",
    "# scikit-learn-extra 설치\n",
    "#!pip install scikit-learn-extra\n",
    "#---------------------------------------------------------------------------\n",
    "\n",
    "from sklearn_extra.cluster import KMedoids\n",
    "\n",
    "# 클러스터링 모델 생성\n",
    "kmedoids = KMedoids(n_clusters=num_clusters, random_state=0)\n",
    "\n",
    "# 모델 피팅\n",
    "kmedoids.fit(corpus_embeddings)\n",
    "\n",
    "# 예측 결과\n",
    "cluster_assignment = kmedoids.labels_\n",
    "\n",
    "# 각 클러스터의 대표 샘플(index)\n",
    "medoids = kmedoids.medoid_indices_\n",
    "\n",
    "clustered_sentences = [[] for i in range(num_clusters)]\n",
    "for sentence_id, cluster_id in enumerate(cluster_assignment):\n",
    "    clustered_sentences[cluster_id].append(corpus[sentence_id])\n",
    "\n",
    "for i, cluster in enumerate(clustered_sentences):\n",
    "    print(\"Cluster \", i+1)\n",
    "    print(cluster)\n",
    "    print(f'*대표 샘플:{corpus[medoids[i]]}')\n",
    "    print(\"\")\n",
    "    \n"
   ]
  },
  {
   "cell_type": "code",
   "execution_count": 8,
   "id": "d590ec3b-0620-42f4-8564-d982ec818de8",
   "metadata": {},
   "outputs": [
    {
     "name": "stdout",
     "output_type": "stream",
     "text": [
      "5\n"
     ]
    }
   ],
   "source": [
    "cluster_id_list = [[] for i in range(5)]\n",
    "print(len(cluster_id_list))"
   ]
  },
  {
   "cell_type": "code",
   "execution_count": 9,
   "id": "bd71b47e-81a4-41a1-b7d4-17b262d1219f",
   "metadata": {},
   "outputs": [
    {
     "name": "stdout",
     "output_type": "stream",
     "text": [
      "[]\n"
     ]
    }
   ],
   "source": [
    "print(cluster_id_list[0])"
   ]
  },
  {
   "cell_type": "code",
   "execution_count": 14,
   "id": "768fcf12-9d70-43b7-85db-e4b3bc22f79f",
   "metadata": {},
   "outputs": [
    {
     "name": "stdout",
     "output_type": "stream",
     "text": [
      "None\n"
     ]
    }
   ],
   "source": [
    "if not cluster_id_list[0]:\n",
    "    print('None')"
   ]
  },
  {
   "cell_type": "code",
   "execution_count": 15,
   "id": "845e2b25-4ce5-418b-8896-6f788e350a9d",
   "metadata": {},
   "outputs": [
    {
     "name": "stdout",
     "output_type": "stream",
     "text": [
      "None\n",
      "None\n",
      "None\n",
      "None\n",
      "None\n"
     ]
    }
   ],
   "source": [
    "for cluster_sub in cluster_id_list:\n",
    "    if not cluster_sub:\n",
    "        print('None')"
   ]
  },
  {
   "cell_type": "code",
   "execution_count": null,
   "id": "1e7258c7-c995-4955-b8ca-4187e206b844",
   "metadata": {},
   "outputs": [],
   "source": []
  }
 ],
 "metadata": {
  "kernelspec": {
   "display_name": "Python 3 (ipykernel)",
   "language": "python",
   "name": "python3"
  },
  "language_info": {
   "codemirror_mode": {
    "name": "ipython",
    "version": 3
   },
   "file_extension": ".py",
   "mimetype": "text/x-python",
   "name": "python",
   "nbconvert_exporter": "python",
   "pygments_lexer": "ipython3",
   "version": "3.9.7"
  }
 },
 "nbformat": 4,
 "nbformat_minor": 5
}

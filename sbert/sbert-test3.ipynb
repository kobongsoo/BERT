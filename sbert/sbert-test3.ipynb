{
 "cells": [
  {
   "cell_type": "code",
   "execution_count": 1,
   "id": "c1c768bf-96d5-45cb-81f0-177738d2efca",
   "metadata": {},
   "outputs": [
    {
     "name": "stderr",
     "output_type": "stream",
     "text": [
      "/MOCOMSYS/anaconda3/envs/bong/lib/python3.9/site-packages/huggingface_hub/snapshot_download.py:6: FutureWarning: snapshot_download.py has been made private and will no longer be available from version 0.11. Please use `from huggingface_hub import snapshot_download` to import the only public function in this module. Other members of the file may be changed without a deprecation notice.\n",
      "  warnings.warn(\n"
     ]
    },
    {
     "name": "stdout",
     "output_type": "stream",
     "text": [
      "logfilepath:../../log/s-bert-test_2022-11-07.log\n",
      "True\n",
      "device: cuda:0\n",
      "cuda index: 0\n",
      "gpu 개수: 1\n",
      "graphic name: NVIDIA A30\n"
     ]
    }
   ],
   "source": [
    "#==============================================================================================\n",
    "# sbert 모델을 각 4가지 평가 데이터셋으로 한꺼번에 평가하는 예시임\n",
    "# => 평가 데이터 셋 : Korsts, Kluests, gluests, stsb_multi_mt \n",
    "# => 각 개별적 eval 출력 하는 예시는 sbert-test2.ipynb 참조\n",
    "#==============================================================================================\n",
    "import os\n",
    "import sys\n",
    "import time\n",
    "from sentence_transformers import models, losses\n",
    "from sentence_transformers import SentenceTransformer, InputExample\n",
    "from sentence_transformers.evaluation import EmbeddingSimilarityEvaluator\n",
    "from sentence_transformers.evaluation import SimilarityFunction\n",
    "\n",
    "sys.path.append('..')\n",
    "from myutils import seed_everything, GPU_info, mlogging\n",
    "\n",
    "logger = mlogging(loggername=\"s-bert-test\", logfilename=\"../../log/s-bert-test\")\n",
    "device = GPU_info()\n",
    "seed_everything(111)"
   ]
  },
  {
   "cell_type": "code",
   "execution_count": 2,
   "id": "af081cd9-c333-4d95-9168-f8e31d718d00",
   "metadata": {},
   "outputs": [],
   "source": [
    "## 평가 설정 parameter 들 ########################################\n",
    "\n",
    "# 평가할 bert 모델 혹은 sbert모델 경로\n",
    "bisSKKobertModel = 0  # skt/kobert-base-V1 허깅페이스 모델 사용시에는 1로 해줌\n",
    "model_path = \"../../data11/model/sbert/scratch/mdistilbert-scratchV-8-sts/\"\n",
    "#model_path = \"kpfbert-sts\"\n",
    "\n",
    "\n",
    "# 유사도 측정방식(COSINE, EUCLIDEAN, MANHATTAN, DOT_PRODUCT 중 선택 , 모두 spearman 방식임)\n",
    "# => None 이면 아래 값들중 MAX 값 추력함\n",
    "#main_similarity = None\n",
    "main_similarity = SimilarityFunction.COSINE\n",
    "#main_similarity = SimilarityFunction.EUCLIDEAN\n",
    "#main_similarity = SimilarityFunction.MANHATTAN\n",
    "#main_similarity = SimilarityFunction.DOT_PRODUCT\n",
    "\n",
    "# 평가시 cosine 유사도등 측정 결과값 파일 (similarity_evaluation_xxxx.xls) 저장될 경로\n",
    "output_path = 'eval'\n",
    "os.makedirs(output_path, exist_ok=True)\n",
    "csvfilename = 'scratch'   # 유사도 저장할 파일명 (eval/similarity_evaluation_{csffilename}.csv 형식으로 저장)\n",
    "\n",
    "# 평가 sts 형태의 말뭉치 파일들\n",
    "use_korsts = 1     #  korsts 파일\n",
    "use_kluests = 1    # kluests_v1.1 파일\n",
    "use_glue_sts = 1   # true이면 영문 glue_sts 데이터셋 추가하여 평기 시킴\n",
    "use_stsb = 1     # true이면 영문 stsb_multi_mt데이터셋 추가하여 평가시킴.)\n",
    "\n",
    "# * 모델에 상관없이 영어는 소문자로 입력하겠다는 뜻(glue는 소문자로만 비교하는게 더 적확함), 한국어는 True도 상관없음\n",
    "do_lower_case = False\n",
    "    \n",
    "# korsts tsv 파일 경로\n",
    "korsts_file = '../../data11/korpora/korsts/tune_test.tsv'\n",
    "\n",
    "# kluests json 파일 경로\n",
    "kluests_file = '../../data11/korpora/klue-sts/klue-sts-v1.1_dev.json'\n",
    "\n",
    "# glue test tsv 파일경로 => validataion 데이터셋으로 eval 구하므로 주석처리함\n",
    "#glue_test_file = '../../data11/korpora/gluestsb/gluestsb-test.tsv'\n",
    "\n",
    "eval_batch_size = 64 # 배치파일사이즈 = 크면 eval 시간이 단축됨.단 gpu 메모리 올라감.\n",
    "max_seq_length = 72"
   ]
  },
  {
   "cell_type": "code",
   "execution_count": 3,
   "id": "76b90080-0e93-423f-9cee-7a2f297aff69",
   "metadata": {},
   "outputs": [
    {
     "name": "stderr",
     "output_type": "stream",
     "text": [
      "2022-11-07 09:17:44,666 - s-bert-test - INFO - *main_similarity: SimilarityFunction.COSINE\n",
      "2022-11-07 09:17:44,696 - s-bert-test - INFO - *model path: ../../data11/model/sbert/scratch/mdistilbert-scratchV-8-sts/\n",
      "2022-11-07 09:17:44,698 - s-bert-test - INFO - SentenceTransformer(\n",
      "  (0): Transformer({'max_seq_length': 72, 'do_lower_case': False}) with Transformer model: DistilBertModel \n",
      "  (1): Pooling({'word_embedding_dimension': 768, 'pooling_mode_cls_token': False, 'pooling_mode_mean_tokens': True, 'pooling_mode_max_tokens': False, 'pooling_mode_mean_sqrt_len_tokens': False})\n",
      ")\n"
     ]
    },
    {
     "name": "stdout",
     "output_type": "stream",
     "text": [
      "token_len:30022\n",
      "SentenceTransformer(\n",
      "  (0): Transformer({'max_seq_length': 72, 'do_lower_case': False}) with Transformer model: DistilBertModel \n",
      "  (1): Pooling({'word_embedding_dimension': 768, 'pooling_mode_cls_token': False, 'pooling_mode_mean_tokens': True, 'pooling_mode_max_tokens': False, 'pooling_mode_mean_sqrt_len_tokens': False})\n",
      ")\n"
     ]
    }
   ],
   "source": [
    "# 모델과 tokenizer 를 불러옴\n",
    "# => **사전파일(vocab.txt, *.json) 와 model 경로(config.json, pytorch_model.bin)가 같은 경로에 있어야 함.\n",
    "word_embedding_model = models.Transformer(model_path, max_seq_length=max_seq_length, do_lower_case=do_lower_case)\n",
    "\n",
    "#========================================================================================================\n",
    "# skt/kobert 모델은 tokenizer을 XLNET Tokenizer 이므로, 자체 KoBERTTOkenizer 를 불러와서 사용해야 함.\n",
    "# => 설치 : !pip install 'git+https://github.com/SKTBrain/KOBERT.git#egg=kobert_tokenizer&subdirectory=kobert_hf'\n",
    "# => 출처 : https://velog.io/@m0oon0/KoBERT-%EC%82%AC%EC%9A%A9%EB%B2%95\n",
    "if bisSKKobertModel == 1:\n",
    "    from kobert_tokenizer import KoBERTTokenizer\n",
    "    word_embedding_model.tokenizer = KoBERTTokenizer.from_pretrained(model_path)\n",
    "#========================================================================================================\n",
    "\n",
    "# embedding 길이를 재조정 필요할때 auto_model.resize_token_embeddings 해줌\n",
    "print(f'token_len:{len(word_embedding_model.tokenizer)}')\n",
    "#word_embedding_model.auto_model.resize_token_embeddings(len(word_embedding_model.tokenizer))\n",
    "\n",
    "# 2 bert 모델의 임베딩 풀링 정책을 설정(cls 이용, 워드임베딩 평균이용, 워드임베딩 max 이용)\n",
    "# Apply mean pooling to get one fixed sized sentence vector\n",
    "pooling_model = models.Pooling(word_embedding_model.get_word_embedding_dimension(),  #모델이 dimension(768)\n",
    "                               pooling_mode_mean_tokens=True,  # 워드 임베딩 평균을 이용\n",
    "                               pooling_mode_cls_token=False,   # cls 를 이용\n",
    "                               pooling_mode_max_tokens=False)  # 워드 임베딩 값중 max 값을 이용\n",
    "\n",
    "model = SentenceTransformer(modules=[word_embedding_model, pooling_model])\n",
    "print(model)\n",
    "\n",
    "#model = SentenceTransformer(smodel_path, device='cpu')\n",
    "#model = SentenceTransformer(smodel_path, cache_folder=output_path)\n",
    "#model.to(device)\n",
    "logger.info(f\"*main_similarity: {main_similarity}\")\n",
    "logger.info(f\"*model path: {model_path}\")\n",
    "logger.info(f'{model}')"
   ]
  },
  {
   "cell_type": "code",
   "execution_count": 4,
   "id": "825ef123-8c7a-41b4-a91e-8224b2a896d4",
   "metadata": {},
   "outputs": [],
   "source": [
    "from typing import Dict, List, Optional\n",
    "\n",
    "# 평가 함수 정의\n",
    "def evalsts(model,                      # 모델\n",
    "            output_path,                # eval 파일 출력 dir         \n",
    "            eval_datasets: List[int],   # eval 데이터셋(리스트)\n",
    "            main_similarity,            # 평가방식(cosine....)\n",
    "            batch_size,                 # batch_size\n",
    "            csvfilename,                # eval 출력 파일 명 \n",
    "           ):\n",
    "\n",
    "    start = time.time()\n",
    "    \n",
    "    test_evaluator = EmbeddingSimilarityEvaluator.from_input_examples(eval_datasets, main_similarity=main_similarity, batch_size=eval_batch_size, name=csvfilename, show_progress_bar=True)\n",
    "    result = test_evaluator(model, output_path=output_path)\n",
    "    \n",
    "    logger.info(f\"\\n\")\n",
    "    logger.info(f'=== result: {result} ===')\n",
    "    logger.info(f'=== 처리시간: {time.time() - start:.3f} 초 ===')\n",
    "    logger.info(\"=====================================================\")\n",
    "    logger.info(\"\\n\")\n",
    "    "
   ]
  },
  {
   "cell_type": "code",
   "execution_count": 5,
   "id": "a4733aa8-92c0-4583-ade4-fda30e46ac6a",
   "metadata": {},
   "outputs": [
    {
     "name": "stderr",
     "output_type": "stream",
     "text": [
      "2022-11-07 09:17:44,820 - s-bert-test - INFO - =====================================================\n",
      "2022-11-07 09:17:44,821 - s-bert-test - INFO - *korsts file(../../data11/korpora/korsts/tune_test.tsv)\n"
     ]
    },
    {
     "data": {
      "application/vnd.jupyter.widget-view+json": {
       "model_id": "978b37febd284cf9ae8875916fedc4d8",
       "version_major": 2,
       "version_minor": 0
      },
      "text/plain": [
       "Batches:   0%|          | 0/22 [00:00<?, ?it/s]"
      ]
     },
     "metadata": {},
     "output_type": "display_data"
    },
    {
     "data": {
      "application/vnd.jupyter.widget-view+json": {
       "model_id": "9ac7d6014fd44591853d2a47984b450b",
       "version_major": 2,
       "version_minor": 0
      },
      "text/plain": [
       "Batches:   0%|          | 0/22 [00:00<?, ?it/s]"
      ]
     },
     "metadata": {},
     "output_type": "display_data"
    },
    {
     "name": "stderr",
     "output_type": "stream",
     "text": [
      "2022-11-07 09:17:50,526 - s-bert-test - INFO - \n",
      "\n",
      "2022-11-07 09:17:50,527 - s-bert-test - INFO - === result: 0.022374401970361908 ===\n",
      "2022-11-07 09:17:50,528 - s-bert-test - INFO - === 처리시간: 5.703 초 ===\n",
      "2022-11-07 09:17:50,529 - s-bert-test - INFO - =====================================================\n",
      "2022-11-07 09:17:50,529 - s-bert-test - INFO - \n",
      "\n"
     ]
    }
   ],
   "source": [
    "# Korsts 평가 시작 \n",
    "from datasets import load_dataset\n",
    "\n",
    "if use_korsts == True:\n",
    "    test_samples = []\n",
    "    \n",
    "    logger.info(\"=====================================================\")\n",
    "    logger.info(f\"*korsts file({korsts_file})\")\n",
    "    \n",
    "    with open(korsts_file, 'rt', encoding='utf-8') as fIn1:\n",
    "        lines = fIn1.readlines()\n",
    "        for line in lines:\n",
    "            s1, s2, score = line.split('\\t')\n",
    "            score = score.strip()\n",
    "            score = float(score) / 5.0\n",
    "            test_samples.append(InputExample(texts=[s1,s2], label=score))\n",
    "            \n",
    "    # 평가 시작\n",
    "    evalsts(model, output_path, test_samples, main_similarity, eval_batch_size, csvfilename)\n",
    "    "
   ]
  },
  {
   "cell_type": "code",
   "execution_count": 6,
   "id": "6c942937-93c2-4d1d-b236-aa54a001d948",
   "metadata": {},
   "outputs": [
    {
     "name": "stderr",
     "output_type": "stream",
     "text": [
      "2022-11-07 09:17:50,538 - s-bert-test - INFO - =====================================================\n",
      "2022-11-07 09:17:50,539 - s-bert-test - INFO - *Kluests file(../../data11/korpora/klue-sts/klue-sts-v1.1_dev.json)\n"
     ]
    },
    {
     "data": {
      "application/vnd.jupyter.widget-view+json": {
       "model_id": "1d5f1bd4cdf4403a9cd1f20244ecf00f",
       "version_major": 2,
       "version_minor": 0
      },
      "text/plain": [
       "Batches:   0%|          | 0/9 [00:00<?, ?it/s]"
      ]
     },
     "metadata": {},
     "output_type": "display_data"
    },
    {
     "data": {
      "application/vnd.jupyter.widget-view+json": {
       "model_id": "3a8ead7d2b674defbf4bd0be4a03c638",
       "version_major": 2,
       "version_minor": 0
      },
      "text/plain": [
       "Batches:   0%|          | 0/9 [00:00<?, ?it/s]"
      ]
     },
     "metadata": {},
     "output_type": "display_data"
    },
    {
     "name": "stderr",
     "output_type": "stream",
     "text": [
      "2022-11-07 09:17:50,803 - s-bert-test - INFO - \n",
      "\n",
      "2022-11-07 09:17:50,804 - s-bert-test - INFO - === result: -0.005887557577689524 ===\n",
      "2022-11-07 09:17:50,804 - s-bert-test - INFO - === 처리시간: 0.258 초 ===\n",
      "2022-11-07 09:17:50,805 - s-bert-test - INFO - =====================================================\n",
      "2022-11-07 09:17:50,805 - s-bert-test - INFO - \n",
      "\n"
     ]
    }
   ],
   "source": [
    "# Kluests 평가 시작 \n",
    "from datasets import load_dataset\n",
    "import json\n",
    "    \n",
    "if use_kluests == True:\n",
    "    test_samples = []\n",
    "    \n",
    "    logger.info(\"=====================================================\")\n",
    "    logger.info(f\"*Kluests file({kluests_file})\")\n",
    "    \n",
    "    with open(kluests_file, \"r\", encoding='utf-8') as fIn2:\n",
    "        data = json.load(fIn2)\n",
    "        for el in data:\n",
    "            s1 = el[\"sentence1\"]\n",
    "            s2 = el[\"sentence2\"]\n",
    "            score = el[\"labels\"]['label']\n",
    "            test_samples.append(InputExample(texts=[s1,s2], label=score))\n",
    "            \n",
    "    # 평가 시작\n",
    "    evalsts(model, output_path, test_samples, main_similarity, eval_batch_size, csvfilename)"
   ]
  },
  {
   "cell_type": "code",
   "execution_count": 7,
   "id": "d3e85f2c-5db5-41ef-bade-dcc80d46b887",
   "metadata": {},
   "outputs": [
    {
     "name": "stderr",
     "output_type": "stream",
     "text": [
      "2022-11-07 09:17:50,814 - s-bert-test - INFO - =====================================================\n",
      "2022-11-07 09:17:50,815 - s-bert-test - INFO - *gluests\n",
      "Reusing dataset glue (/MOCOMSYS/.cache/huggingface/datasets/glue/stsb/1.0.0/dacbe3125aa31d7f70367a07a8a9e72a5a0bfeb5fc42e75c9db75b96da6053ad)\n"
     ]
    },
    {
     "data": {
      "application/vnd.jupyter.widget-view+json": {
       "model_id": "83898d59c4b3414b953599763d55a549",
       "version_major": 2,
       "version_minor": 0
      },
      "text/plain": [
       "Batches:   0%|          | 0/24 [00:00<?, ?it/s]"
      ]
     },
     "metadata": {},
     "output_type": "display_data"
    },
    {
     "data": {
      "application/vnd.jupyter.widget-view+json": {
       "model_id": "57843fbc1f2f42f9ac35ad3e3ecce130",
       "version_major": 2,
       "version_minor": 0
      },
      "text/plain": [
       "Batches:   0%|          | 0/24 [00:00<?, ?it/s]"
      ]
     },
     "metadata": {},
     "output_type": "display_data"
    },
    {
     "name": "stderr",
     "output_type": "stream",
     "text": [
      "2022-11-07 09:17:52,599 - s-bert-test - INFO - \n",
      "\n",
      "2022-11-07 09:17:52,600 - s-bert-test - INFO - === result: 0.09536265833568616 ===\n",
      "2022-11-07 09:17:52,601 - s-bert-test - INFO - === 처리시간: 0.641 초 ===\n",
      "2022-11-07 09:17:52,601 - s-bert-test - INFO - =====================================================\n",
      "2022-11-07 09:17:52,602 - s-bert-test - INFO - \n",
      "\n"
     ]
    }
   ],
   "source": [
    "# gluests 평가 시작 \n",
    "from datasets import load_dataset\n",
    "    \n",
    "if use_glue_sts == True:\n",
    "    test_samples = []\n",
    "    \n",
    "    logger.info(\"=====================================================\")\n",
    "    logger.info(f\"*gluests\")\n",
    "    \n",
    "    #glue stsb valildation 데이터셋 불러옴(subset : \"stsb\" = 1,500)\n",
    "    glue_stsb_dataset = load_dataset(\"glue\",\"stsb\", split=\"validation\")\n",
    "    for data in glue_stsb_dataset:\n",
    "        text_a = data[\"sentence1\"]\n",
    "        text_b = data[\"sentence2\"]\n",
    "        score = data[\"label\"]\n",
    "        score = float(score) / 5.0  #5로 나눠서 0~1 사이가 되도록 함\n",
    "        test_samples.append(InputExample(texts= [text_a,text_b], label=score))\n",
    "    '''\n",
    "    # glue-test는 허깅페이스 데이터셋에는 labe(score)가 -1로 등록되어 있어서, 실제 glue 사이트에서 org파일을 받아서 불러옴\n",
    "    # => 해당 sts-test.tsv 파일에서 몇가지 주석달린 문장들은 제거함(약 300개)\n",
    "    with open(glue_test_file, 'rt', encoding='utf-8') as fIn1:\n",
    "        lines = fIn1.readlines()\n",
    "        for idx, line in enumerate(lines):\n",
    "            if idx == 0:\n",
    "                continue\n",
    "            _, _, _, _, score, text_a, text_b = line.split('\\t')\n",
    "            score = score.strip()\n",
    "            score = float(score) / 5.0\n",
    "            test_samples.append(InputExample(texts= [text_a,text_b], label=score))\n",
    "    '''\n",
    "            \n",
    "    # 평가 시작\n",
    "    evalsts(model, output_path, test_samples, main_similarity, eval_batch_size, csvfilename)"
   ]
  },
  {
   "cell_type": "code",
   "execution_count": 8,
   "id": "7d5ae096-69f5-46a8-a76b-c75e9b5d23d3",
   "metadata": {},
   "outputs": [
    {
     "name": "stderr",
     "output_type": "stream",
     "text": [
      "2022-11-07 09:17:52,609 - s-bert-test - INFO - =====================================================\n",
      "2022-11-07 09:17:52,611 - s-bert-test - INFO - *stsb_multi_mt\n",
      "Reusing dataset stsb_multi_mt (/MOCOMSYS/.cache/huggingface/datasets/stsb_multi_mt/en/1.0.0/a5d260e4b7aa82d1ab7379523a005a366d9b124c76a5a5cf0c4c5365458b0ba9)\n"
     ]
    },
    {
     "data": {
      "application/vnd.jupyter.widget-view+json": {
       "model_id": "beb00f4e08a14896a9ad7fca76dda481",
       "version_major": 2,
       "version_minor": 0
      },
      "text/plain": [
       "Batches:   0%|          | 0/22 [00:00<?, ?it/s]"
      ]
     },
     "metadata": {},
     "output_type": "display_data"
    },
    {
     "data": {
      "application/vnd.jupyter.widget-view+json": {
       "model_id": "caf47c13c72847a1ba418932f95b53cd",
       "version_major": 2,
       "version_minor": 0
      },
      "text/plain": [
       "Batches:   0%|          | 0/22 [00:00<?, ?it/s]"
      ]
     },
     "metadata": {},
     "output_type": "display_data"
    },
    {
     "name": "stderr",
     "output_type": "stream",
     "text": [
      "2022-11-07 09:17:54,311 - s-bert-test - INFO - \n",
      "\n",
      "2022-11-07 09:17:54,312 - s-bert-test - INFO - === result: -0.015482966791897104 ===\n",
      "2022-11-07 09:17:54,312 - s-bert-test - INFO - === 처리시간: 0.565 초 ===\n",
      "2022-11-07 09:17:54,313 - s-bert-test - INFO - =====================================================\n",
      "2022-11-07 09:17:54,314 - s-bert-test - INFO - \n",
      "\n"
     ]
    }
   ],
   "source": [
    "# stsb_multi_mt 평가 시작 \n",
    "from datasets import load_dataset\n",
    "    \n",
    "if use_stsb == True:\n",
    "    test_samples = []\n",
    "    \n",
    "    logger.info(\"=====================================================\")\n",
    "    logger.info(f\"*stsb_multi_mt\")\n",
    "    \n",
    "    stsb_dataset = load_dataset(\"stsb_multi_mt\", name=\"en\", split=\"test\")\n",
    "    for data in stsb_dataset:\n",
    "        text_a = data[\"sentence1\"]\n",
    "        text_b = data[\"sentence2\"]\n",
    "        score = data[\"similarity_score\"]\n",
    "        score = float(score) / 5.0  #5로 나눠서 0~1 사이가 되도록 함\n",
    "        test_samples.append(InputExample(texts= [text_a,text_b], label=score))\n",
    "            \n",
    "    # 평가 시작\n",
    "    evalsts(model, output_path, test_samples, main_similarity, eval_batch_size, csvfilename)"
   ]
  }
 ],
 "metadata": {
  "kernelspec": {
   "display_name": "Python 3 (ipykernel)",
   "language": "python",
   "name": "python3"
  },
  "language_info": {
   "codemirror_mode": {
    "name": "ipython",
    "version": 3
   },
   "file_extension": ".py",
   "mimetype": "text/x-python",
   "name": "python",
   "nbconvert_exporter": "python",
   "pygments_lexer": "ipython3",
   "version": "3.9.7"
  }
 },
 "nbformat": 4,
 "nbformat_minor": 5
}

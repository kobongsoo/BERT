{
 "cells": [
  {
   "cell_type": "code",
   "execution_count": 1,
   "id": "c1c768bf-96d5-45cb-81f0-177738d2efca",
   "metadata": {},
   "outputs": [
    {
     "name": "stderr",
     "output_type": "stream",
     "text": [
      "/MOCOMSYS/anaconda3/envs/bong/lib/python3.9/site-packages/huggingface_hub/snapshot_download.py:6: FutureWarning: snapshot_download.py has been made private and will no longer be available from version 0.11. Please use `from huggingface_hub import snapshot_download` to import the only public function in this module. Other members of the file may be changed without a deprecation notice.\n",
      "  warnings.warn(\n"
     ]
    },
    {
     "name": "stdout",
     "output_type": "stream",
     "text": [
      "logfilepath:../../log/s-bert-test_2022-10-21.log\n",
      "True\n",
      "device: cuda:0\n",
      "cuda index: 0\n",
      "gpu 개수: 1\n",
      "graphic name: NVIDIA A30\n"
     ]
    }
   ],
   "source": [
    "import os\n",
    "import sys\n",
    "import time\n",
    "\n",
    "from sentence_transformers import SentenceTransformer, InputExample\n",
    "from sentence_transformers.evaluation import EmbeddingSimilarityEvaluator\n",
    "from sentence_transformers.evaluation import SimilarityFunction\n",
    "\n",
    "sys.path.append('..')\n",
    "from myutils import seed_everything, GPU_info, mlogging\n",
    "\n",
    "logger = mlogging(loggername=\"s-bert-test\", logfilename=\"../../log/s-bert-test\")\n",
    "device = GPU_info()\n",
    "seed=111\n",
    "seed_everything(seed)"
   ]
  },
  {
   "cell_type": "code",
   "execution_count": 2,
   "id": "af081cd9-c333-4d95-9168-f8e31d718d00",
   "metadata": {},
   "outputs": [],
   "source": [
    "## 평가 설정 parameter 들 ########################################\n",
    "\n",
    "# 평가할 s-bert 모델 경로\n",
    "#smodel_path = \"bert-base-multilingual-cased\"\n",
    "smodel_path = \"../../data11/model/distilbert/bert-re-kowiki-mecab\"\n",
    "\n",
    "# 유사도 측정방식(COSINE, EUCLIDEAN, MANHATTAN, DOT_PRODUCT 중 선택 , 모두 spearman 방식임)\n",
    "# => None 이면 아래 값들중 MAX 값 추력함\n",
    "#main_similarity = None\n",
    "main_similarity = SimilarityFunction.COSINE\n",
    "#main_similarity = SimilarityFunction.EUCLIDEAN\n",
    "#main_similarity = SimilarityFunction.MANHATTAN\n",
    "#main_similarity = SimilarityFunction.DOT_PRODUCT\n",
    "\n",
    "# 평가시 cosine 유사도등 측정 결과값 파일 (similarity_evaluation_xxxx.xls) 저장될 경로\n",
    "output_path = 'eval'\n",
    "os.makedirs(output_path, exist_ok=True)\n",
    "csvfilename = 'V3.1.1'   # 유사도 저장할 파일명 (eval/similarity_evaluation_{csffilename}.csv 형식으로 저장)\n",
    "\n",
    "# 평가 sts 형태의 말뭉치 파일들\n",
    "use_korsts = 1 #  korsts 파일\n",
    "use_kluests = 0  # kluests_v1.1 파일\n",
    "use_glue_sts = 0 # true이면 영문 glue_sts 데이터셋 추가하여 평기 시킴\n",
    "use_en_sts = 0    # true이면 영문 stsb_multi_mt데이터셋 추가하여 평가시킴.\n",
    "   \n",
    "# korsts tsv 파일 경로\n",
    "korsts_file = '../../data11/korpora/korsts/tune_test.tsv'\n",
    "\n",
    "# kluests json 파일 경로\n",
    "kluests_file = '../../data11/korpora/klue-sts/klue-sts-v1.1_dev.json'\n",
    "\n",
    "eval_batch_size = 64 # 배치파일사이즈 = 크면 eval 시간이 단축됨.단 gpu 메모리 올라감."
   ]
  },
  {
   "cell_type": "code",
   "execution_count": 3,
   "id": "7514e55a-82af-4e5b-852c-c1d9e2e06073",
   "metadata": {},
   "outputs": [
    {
     "name": "stdout",
     "output_type": "stream",
     "text": [
      "[<sentence_transformers.readers.InputExample.InputExample object at 0x7f80901e2e20>, <sentence_transformers.readers.InputExample.InputExample object at 0x7f80901e2fa0>, <sentence_transformers.readers.InputExample.InputExample object at 0x7f808e4550d0>]\n",
      "*test_samples_len: 1379\n"
     ]
    }
   ],
   "source": [
    "from datasets import load_dataset\n",
    "test_samples = []\n",
    "\n",
    "\n",
    "# /korsts/tune_test.tsv 파일을 불러옴\n",
    "if use_korsts == True:\n",
    "    with open(korsts_file, 'rt', encoding='utf-8') as fIn1:\n",
    "        lines = fIn1.readlines()\n",
    "        for line in lines:\n",
    "            s1, s2, score = line.split('\\t')\n",
    "            score = score.strip()\n",
    "            score = float(score) / 5.0\n",
    "            test_samples.append(InputExample(texts=[s1,s2], label=score))\n",
    "\n",
    "\n",
    "# /klue-sts/klue-sts-v1.1_dev.json 파일을 불러옴\n",
    "if use_kluests == True:\n",
    "    import json\n",
    "\n",
    "    with open(kluests_file, \"r\", encoding='utf-8') as fIn2:\n",
    "        data = json.load(fIn2)\n",
    "        for el in data:\n",
    "            s1 = el[\"sentence1\"]\n",
    "            s2 = el[\"sentence2\"]\n",
    "            score = el[\"labels\"]['label']\n",
    "            test_samples.append(InputExample(texts=[s1,s2], label=score))\n",
    "        \n",
    "# 영문 stsb_multi_mt test 버전 파일 로딩함\n",
    "if use_en_sts == True:\n",
    "    en_sts_dataset = load_dataset(\"stsb_multi_mt\", name=\"en\", split=\"test\")\n",
    "    for data in en_sts_dataset:\n",
    "        text_a = data[\"sentence1\"]\n",
    "        text_b = data[\"sentence2\"]\n",
    "        score = data[\"similarity_score\"]\n",
    "        score = float(score) / 5.0  #5로 나눠서 0~1 사이가 되도록 함\n",
    "        test_samples.append(InputExample(texts= [text_a,text_b], label=score))\n",
    "        \n",
    "if use_glue_sts == True:   \n",
    "    #glue stsb valildation 데이터셋 불러옴(subset : \"stsb\" = 1,500)\n",
    "    glue_stsb_dataset = load_dataset(\"glue\",\"stsb\", split=\"validation\")\n",
    "    for data in glue_stsb_dataset:\n",
    "        text_a = data[\"sentence1\"]\n",
    "        text_b = data[\"sentence2\"]\n",
    "        score = data[\"label\"]\n",
    "        score = float(score) / 5.0  #5로 나눠서 0~1 사이가 되도록 함\n",
    "        test_samples.append(InputExample(texts= [text_a,text_b], label=score))\n",
    "    \n",
    "print(test_samples[0:3])\n",
    "print(f'*test_samples_len: {len(test_samples)}')"
   ]
  },
  {
   "cell_type": "code",
   "execution_count": 4,
   "id": "76b90080-0e93-423f-9cee-7a2f297aff69",
   "metadata": {},
   "outputs": [
    {
     "name": "stderr",
     "output_type": "stream",
     "text": [
      "2022-10-21 13:08:25,561 - s-bert-test - INFO - \n",
      "\n",
      "2022-10-21 13:08:25,564 - s-bert-test - INFO - ======================TEST===================\n"
     ]
    },
    {
     "ename": "TypeError",
     "evalue": "__init__() got an unexpected keyword argument 'max_seq_length'",
     "output_type": "error",
     "traceback": [
      "\u001b[0;31m---------------------------------------------------------------------------\u001b[0m",
      "\u001b[0;31mTypeError\u001b[0m                                 Traceback (most recent call last)",
      "Input \u001b[0;32mIn [4]\u001b[0m, in \u001b[0;36m<cell line: 11>\u001b[0;34m()\u001b[0m\n\u001b[1;32m      8\u001b[0m logger\u001b[38;5;241m.\u001b[39minfo(\u001b[38;5;124m\"\u001b[39m\u001b[38;5;130;01m\\n\u001b[39;00m\u001b[38;5;124m\"\u001b[39m)\n\u001b[1;32m      9\u001b[0m logger\u001b[38;5;241m.\u001b[39minfo(\u001b[38;5;124m\"\u001b[39m\u001b[38;5;124m======================TEST===================\u001b[39m\u001b[38;5;124m\"\u001b[39m)\n\u001b[0;32m---> 11\u001b[0m model \u001b[38;5;241m=\u001b[39m \u001b[43mSentenceTransformer\u001b[49m\u001b[43m(\u001b[49m\u001b[43msmodel_path\u001b[49m\u001b[43m,\u001b[49m\u001b[43m \u001b[49m\u001b[43mmax_seq_length\u001b[49m\u001b[38;5;241;43m=\u001b[39;49m\u001b[43mmax_seq_length\u001b[49m\u001b[43m)\u001b[49m\n\u001b[1;32m     12\u001b[0m \u001b[38;5;66;03m#model = SentenceTransformer(smodel_path, device='cpu')\u001b[39;00m\n\u001b[1;32m     13\u001b[0m \u001b[38;5;66;03m#model = SentenceTransformer(smodel_path, cache_folder=output_path)\u001b[39;00m\n\u001b[1;32m     14\u001b[0m \u001b[38;5;66;03m#model.to(device)\u001b[39;00m\n\u001b[1;32m     15\u001b[0m logger\u001b[38;5;241m.\u001b[39minfo(\u001b[38;5;124mf\u001b[39m\u001b[38;5;124m'\u001b[39m\u001b[38;5;132;01m{\u001b[39;00mmodel\u001b[38;5;132;01m}\u001b[39;00m\u001b[38;5;124m'\u001b[39m)\n",
      "\u001b[0;31mTypeError\u001b[0m: __init__() got an unexpected keyword argument 'max_seq_length'"
     ]
    }
   ],
   "source": [
    "##############################################################################\n",
    "# sentence bert 를 불러옴\n",
    "# => 훈련되어서 저장된 s-bert 모델을 불러와서 성능 평가 해봄\n",
    "# => 평가 내용은 해당 모델 경로에 'similarity_evaluation_korstr_tune_test_results.csv' 파일에 기록됨\n",
    "# => 모델 다운로드 폴더 지정 : cache_folder=경로 \n",
    "##############################################################################\n",
    "\n",
    "logger.info(\"\\n\")\n",
    "logger.info(\"======================TEST===================\")\n",
    "\n",
    "model = SentenceTransformer(smodel_path)\n",
    "#model = SentenceTransformer(smodel_path, device='cpu')\n",
    "#model = SentenceTransformer(smodel_path, cache_folder=output_path)\n",
    "#model.to(device)\n",
    "logger.info(f'{model}')"
   ]
  },
  {
   "cell_type": "code",
   "execution_count": null,
   "id": "1fae6702-ced5-4d65-9093-2b14b8d26a93",
   "metadata": {},
   "outputs": [],
   "source": [
    "logger.info(f\"*main_similarity: {main_similarity}\")\n",
    "logger.info(f\"*model path: {smodel_path}\")\n",
    "\n",
    "if use_korsts == True:\n",
    "    logger.info(f\"*korsts file({korsts_file})\")\n",
    "\n",
    "if use_kluests == True:\n",
    "    logger.info(f\"*klue file({kluests_file})\")\n",
    "    \n",
    "if use_en_sts == True:\n",
    "    logger.info(f\"*stsb_multi_mt\")\n",
    "  \n",
    "if use_glue_sts == True:\n",
    "    logger.info(f\"*glue(stsb)\")\n",
    "    \n",
    "start = time.time()\n",
    "\n",
    "test_evaluator = EmbeddingSimilarityEvaluator.from_input_examples(test_samples, main_similarity=main_similarity, batch_size=eval_batch_size, name=csvfilename, show_progress_bar=True)\n",
    "result = test_evaluator(model, output_path=output_path)\n",
    "logger.info(f\"\\n\")\n",
    "        \n",
    "logger.info(f'=== result: {result} ===')\n",
    "logger.info(f'=== 처리시간: {time.time() - start:.3f} 초 ===')\n",
    "logger.info(\"=====================================================\")\n",
    "logger.info(\"\\n\")\n"
   ]
  },
  {
   "cell_type": "code",
   "execution_count": null,
   "id": "eda05ca6-1270-47ed-836e-3cae20ea88e4",
   "metadata": {},
   "outputs": [],
   "source": []
  }
 ],
 "metadata": {
  "kernelspec": {
   "display_name": "Python 3 (ipykernel)",
   "language": "python",
   "name": "python3"
  },
  "language_info": {
   "codemirror_mode": {
    "name": "ipython",
    "version": 3
   },
   "file_extension": ".py",
   "mimetype": "text/x-python",
   "name": "python",
   "nbconvert_exporter": "python",
   "pygments_lexer": "ipython3",
   "version": "3.9.7"
  }
 },
 "nbformat": 4,
 "nbformat_minor": 5
}

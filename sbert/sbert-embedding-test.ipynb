{
 "cells": [
  {
   "cell_type": "code",
   "execution_count": 4,
   "id": "567dc4c2-1d36-4af1-b0cf-715dad738e87",
   "metadata": {},
   "outputs": [
    {
     "data": {
      "application/vnd.jupyter.widget-view+json": {
       "model_id": "e63f199cfa5142a6af473931cc7606bf",
       "version_major": 2,
       "version_minor": 0
      },
      "text/plain": [
       "Downloading:   0%|          | 0.00/1.34k [00:00<?, ?B/s]"
      ]
     },
     "metadata": {},
     "output_type": "display_data"
    },
    {
     "data": {
      "application/vnd.jupyter.widget-view+json": {
       "model_id": "4d4983935b074b1fb5d53f01eec2c596",
       "version_major": 2,
       "version_minor": 0
      },
      "text/plain": [
       "Downloading:   0%|          | 0.00/190 [00:00<?, ?B/s]"
      ]
     },
     "metadata": {},
     "output_type": "display_data"
    },
    {
     "data": {
      "application/vnd.jupyter.widget-view+json": {
       "model_id": "1e45c16d44104b99ac24769f68cd7652",
       "version_major": 2,
       "version_minor": 0
      },
      "text/plain": [
       "Downloading:   0%|          | 0.00/4.00 [00:00<?, ?B/s]"
      ]
     },
     "metadata": {},
     "output_type": "display_data"
    },
    {
     "data": {
      "application/vnd.jupyter.widget-view+json": {
       "model_id": "3f1b087b443d4ab288c4934ee6198c3e",
       "version_major": 2,
       "version_minor": 0
      },
      "text/plain": [
       "Downloading:   0%|          | 0.00/5.71k [00:00<?, ?B/s]"
      ]
     },
     "metadata": {},
     "output_type": "display_data"
    },
    {
     "data": {
      "application/vnd.jupyter.widget-view+json": {
       "model_id": "a1adb3f77e224f4f8d1ef33134079d56",
       "version_major": 2,
       "version_minor": 0
      },
      "text/plain": [
       "Downloading:   0%|          | 0.00/612 [00:00<?, ?B/s]"
      ]
     },
     "metadata": {},
     "output_type": "display_data"
    },
    {
     "data": {
      "application/vnd.jupyter.widget-view+json": {
       "model_id": "8d4325d8a89d47999d4baa5544a04cdb",
       "version_major": 2,
       "version_minor": 0
      },
      "text/plain": [
       "Downloading:   0%|          | 0.00/118 [00:00<?, ?B/s]"
      ]
     },
     "metadata": {},
     "output_type": "display_data"
    },
    {
     "data": {
      "application/vnd.jupyter.widget-view+json": {
       "model_id": "ed25155b64f748869266b0afd2d64c6b",
       "version_major": 2,
       "version_minor": 0
      },
      "text/plain": [
       "Downloading:   0%|          | 0.00/229 [00:00<?, ?B/s]"
      ]
     },
     "metadata": {},
     "output_type": "display_data"
    },
    {
     "data": {
      "application/vnd.jupyter.widget-view+json": {
       "model_id": "c730265c646e4a8a9502f8161bab289d",
       "version_major": 2,
       "version_minor": 0
      },
      "text/plain": [
       "Downloading:   0%|          | 0.00/622M [00:00<?, ?B/s]"
      ]
     },
     "metadata": {},
     "output_type": "display_data"
    },
    {
     "data": {
      "application/vnd.jupyter.widget-view+json": {
       "model_id": "6a9b3ab2d1994429bd3d874221cfa08e",
       "version_major": 2,
       "version_minor": 0
      },
      "text/plain": [
       "Downloading:   0%|          | 0.00/53.0 [00:00<?, ?B/s]"
      ]
     },
     "metadata": {},
     "output_type": "display_data"
    },
    {
     "data": {
      "application/vnd.jupyter.widget-view+json": {
       "model_id": "93bfc3e4dd6440169915e741fc8b4e16",
       "version_major": 2,
       "version_minor": 0
      },
      "text/plain": [
       "Downloading:   0%|          | 0.00/299 [00:00<?, ?B/s]"
      ]
     },
     "metadata": {},
     "output_type": "display_data"
    },
    {
     "data": {
      "application/vnd.jupyter.widget-view+json": {
       "model_id": "f3aa7a8c83f346e3a37c0521e75adbe9",
       "version_major": 2,
       "version_minor": 0
      },
      "text/plain": [
       "Downloading:   0%|          | 0.00/112 [00:00<?, ?B/s]"
      ]
     },
     "metadata": {},
     "output_type": "display_data"
    },
    {
     "data": {
      "application/vnd.jupyter.widget-view+json": {
       "model_id": "ad1385d2f981485c9cd260121b8a1300",
       "version_major": 2,
       "version_minor": 0
      },
      "text/plain": [
       "Downloading:   0%|          | 0.00/2.44M [00:00<?, ?B/s]"
      ]
     },
     "metadata": {},
     "output_type": "display_data"
    },
    {
     "data": {
      "application/vnd.jupyter.widget-view+json": {
       "model_id": "0bcdcda8cfee43e3bb4ebe83d8b656af",
       "version_major": 2,
       "version_minor": 0
      },
      "text/plain": [
       "Downloading:   0%|          | 0.00/528 [00:00<?, ?B/s]"
      ]
     },
     "metadata": {},
     "output_type": "display_data"
    },
    {
     "data": {
      "application/vnd.jupyter.widget-view+json": {
       "model_id": "f8a5c31d9ec04aa992b5b7d4d68cf50a",
       "version_major": 2,
       "version_minor": 0
      },
      "text/plain": [
       "Downloading:   0%|          | 0.00/1.23M [00:00<?, ?B/s]"
      ]
     },
     "metadata": {},
     "output_type": "display_data"
    }
   ],
   "source": [
    "#################################################################################\n",
    "# sbert embedding 테스트 예제\n",
    "# 출처 : https://towardsdatascience.com/multilingual-text-similarity-matching-using-embedding-f79037459bf2\n",
    "#\n",
    "# Optimizer 방법\n",
    "# 1. normalize_embeddings=True \n",
    "# 2. 내적 계산 : util.semantic_search \n",
    "#################################################################################\n",
    "\n",
    "from sentence_transformers import SentenceTransformer, util\n",
    "import torch\n",
    "\n",
    "model = SentenceTransformer('bongsoo/sentencebert_v1.2', device='cpu', cache_folder='./1')\n"
   ]
  },
  {
   "cell_type": "code",
   "execution_count": 5,
   "id": "716aa21b-845c-437b-ab85-0e79347c3e09",
   "metadata": {},
   "outputs": [],
   "source": [
    "corpus = [\n",
    "    'I am a boy',\n",
    "    'What are you doing?',\n",
    "    'Can you help me?',\n",
    "    'A man is riding a horse.',\n",
    "    'A woman is playing violin.',\n",
    "    'A monkey is chasing after a goat',\n",
    "    'The quick brown fox jumps over the lazy dog'\n",
    "]\n",
    "\n",
    "# Query sentences:\n",
    "queries = ['I am in need of assistance', '我是男孩子', 'Qué estás haciendo']"
   ]
  },
  {
   "cell_type": "code",
   "execution_count": 7,
   "id": "aa53df00-b395-4911-b663-60af5d86089d",
   "metadata": {},
   "outputs": [
    {
     "name": "stdout",
     "output_type": "stream",
     "text": [
      "\n",
      "Query: I am in need of assistance\n",
      "---------------------------\n",
      "0.737 | Can you help me?\n",
      "0.454 | I am a boy\n",
      "0.211 | What are you doing?\n",
      "0.088 | A monkey is chasing after a goat\n",
      "0.072 | A woman is playing violin.\n",
      "\n",
      "Query: 我是男孩子\n",
      "---------------------------\n",
      "0.338 | I am a boy\n",
      "0.094 | A man is riding a horse.\n",
      "0.02 | A monkey is chasing after a goat\n",
      "-0.039 | The quick brown fox jumps over the lazy dog\n",
      "-0.046 | What are you doing?\n",
      "\n",
      "Query: Qué estás haciendo\n",
      "---------------------------\n",
      "0.199 | A man is riding a horse.\n",
      "0.155 | A woman is playing violin.\n",
      "0.115 | A monkey is chasing after a goat\n",
      "0.101 | The quick brown fox jumps over the lazy dog\n",
      "0.076 | Can you help me?\n"
     ]
    }
   ],
   "source": [
    "corpus_embedding = model.encode(corpus, convert_to_tensor=True, normalize_embeddings=True)\n",
    "\n",
    "top_k = min(5, len(corpus))\n",
    "\n",
    "for query in queries:\n",
    "    \n",
    "    # normalize_embeddings=True \n",
    "    query_embedding = model.encode(query, convert_to_tensor=True, normalize_embeddings=True)\n",
    "    \n",
    "    # util.semantic_search 로 내적 계산함.\n",
    "    hits = util.semantic_search(query_embedding, corpus_embedding, score_function=util.dot_score)\n",
    "    hits = hits[0]\n",
    "\n",
    "    print(\"\\r\\nQuery:\", query)\n",
    "    print(\"---------------------------\")\n",
    "    for hit in hits[:top_k]:\n",
    "        print(f\"{round(hit['score'], 3)} | {corpus[hit['corpus_id']]}\")"
   ]
  },
  {
   "cell_type": "code",
   "execution_count": null,
   "id": "789ce406-0f12-481f-9b10-85a89dfef829",
   "metadata": {},
   "outputs": [],
   "source": []
  }
 ],
 "metadata": {
  "kernelspec": {
   "display_name": "Python 3 (ipykernel)",
   "language": "python",
   "name": "python3"
  },
  "language_info": {
   "codemirror_mode": {
    "name": "ipython",
    "version": 3
   },
   "file_extension": ".py",
   "mimetype": "text/x-python",
   "name": "python",
   "nbconvert_exporter": "python",
   "pygments_lexer": "ipython3",
   "version": "3.9.7"
  }
 },
 "nbformat": 4,
 "nbformat_minor": 5
}

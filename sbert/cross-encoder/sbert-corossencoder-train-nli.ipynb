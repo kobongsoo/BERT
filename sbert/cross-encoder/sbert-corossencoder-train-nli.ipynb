{
 "cells": [
  {
   "cell_type": "code",
   "execution_count": 8,
   "id": "1c1cc833-f6a3-4eb9-9ec4-3de894616963",
   "metadata": {},
   "outputs": [
    {
     "name": "stdout",
     "output_type": "stream",
     "text": [
      "True\n",
      "device: cuda:0\n",
      "cuda index: 0\n",
      "gpu 개수: 1\n",
      "graphic name: NVIDIA A30\n",
      "logfilepath:../../../log/sbert-crossencocer-train-sts_2022-04-22.log\n"
     ]
    }
   ],
   "source": [
    "#========================================================================================================================\n",
    "# sentence-bert(sbert)에 CrossEncoder 방식 NLI 훈련 예시임\n",
    "# => cross-encocoder 방식은 2개의 문장(문장1, 문장2)을 입력했을때 output으로 유사도(0~1값)을 출력해줌\n",
    "#\n",
    "# => 참고 : https://www.sbert.net/examples/training/cross-encoder/README.html\n",
    "#         https://github.com/UKPLab/sentence-transformers/blob/master/examples/training/cross-encoder/training_stsbenchmark.py  \n",
    "#========================================================================================================================\n",
    "import torch \n",
    "import os\n",
    "import time\n",
    "import numpy as np\n",
    "from os import sys\n",
    "from datetime import datetime\n",
    "sys.path.append('../../')\n",
    "from myutils import seed_everything, GPU_info, mlogging\n",
    "from torch.utils.data import DataLoader\n",
    "import math\n",
    "\n",
    "from sentence_transformers.cross_encoder import CrossEncoder\n",
    "from sentence_transformers.cross_encoder.evaluation import CESoftmaxAccuracyEvaluator\n",
    "from sentence_transformers import InputExample\n",
    "\n",
    "seed_everything(111)\n",
    "device = GPU_info()\n",
    "logger =  mlogging(loggername=\"sbertcross\", logfilename=\"../../../log/sbert-crossencocer-train-sts\")"
   ]
  },
  {
   "cell_type": "code",
   "execution_count": 4,
   "id": "c4db2e32-28e6-4676-a6c8-6810f8e95bc9",
   "metadata": {},
   "outputs": [],
   "source": [
    "train_file = '../../../korpora/kornli/snli_1.0_train.ko.tsv'\n",
    "eval_file = '../../../korpora/kornli/xnli.dev.ko-1.tsv'\n",
    "\n",
    "train_batch_size = 32\n",
    "num_epochs = 1"
   ]
  },
  {
   "cell_type": "code",
   "execution_count": 6,
   "id": "1fea5472-12aa-4ca5-953b-58976805ebe6",
   "metadata": {},
   "outputs": [
    {
     "name": "stderr",
     "output_type": "stream",
     "text": [
      "2022-04-22 14:05:31,836 - sbertcross - INFO - Read AllNLI train dataset\n"
     ]
    },
    {
     "name": "stdout",
     "output_type": "stream",
     "text": [
      "[<sentence_transformers.readers.InputExample.InputExample object at 0x7fad7c165760>, <sentence_transformers.readers.InputExample.InputExample object at 0x7fad7c1656a0>, <sentence_transformers.readers.InputExample.InputExample object at 0x7fad7c1655b0>]\n",
      "[<sentence_transformers.readers.InputExample.InputExample object at 0x7faac1a56970>, <sentence_transformers.readers.InputExample.InputExample object at 0x7faac1a569d0>, <sentence_transformers.readers.InputExample.InputExample object at 0x7faac1a56a60>]\n"
     ]
    }
   ],
   "source": [
    "# 훈련 데이터 불러오기\n",
    "# => [sentence1, sentence2], labels 식으로 만듬\n",
    "logger.info(\"Read kornli train/dev dataset\")\n",
    "\n",
    "label2int = {\"contradiction\": 0, \"entailment\": 1, \"neutral\": 2}\n",
    "train_samples = []\n",
    "\n",
    "with open(train_file, \"rt\", encoding=\"utf-8\") as fIn:\n",
    "    lines = fIn.readlines()\n",
    "    for line in lines:\n",
    "        s1, s2, label = line.split('\\t')\n",
    "        label = label2int[label.strip()]\n",
    "        train_samples.append(InputExample(texts=[s1, s2], label=label))\n",
    "  \n",
    "# 평가 데이터 불러오기\n",
    "dev_samples = []\n",
    "with open(eval_file, \"rt\", encoding=\"utf-8\") as fIn:\n",
    "    lines = fIn.readlines()\n",
    "    for line in lines:\n",
    "        s1, s2, label = line.split('\\t')\n",
    "        label = label2int[label.strip()]\n",
    "        dev_samples.append(InputExample(texts=[s1, s2], label=label))\n",
    "        \n",
    "print(train_samples[0:3])\n",
    "print(dev_samples[0:3])"
   ]
  },
  {
   "cell_type": "code",
   "execution_count": 9,
   "id": "214bc8a7-1b93-45c5-a47e-07c145be3194",
   "metadata": {},
   "outputs": [],
   "source": [
    "#We wrap train_samples, which is a list ot InputExample, in a pytorch DataLoader\n",
    "train_dataloader = DataLoader(train_samples, shuffle=True, batch_size=train_batch_size)\n",
    "\n",
    "#During training, we use CESoftmaxAccuracyEvaluator to measure the accuracy on the dev set.\n",
    "evaluator = CESoftmaxAccuracyEvaluator.from_input_examples(dev_samples, name='xnli.dev.ko.tsv')"
   ]
  },
  {
   "cell_type": "code",
   "execution_count": 10,
   "id": "46c35036-9caa-42ed-b352-42f63b7bd0d1",
   "metadata": {},
   "outputs": [
    {
     "name": "stderr",
     "output_type": "stream",
     "text": [
      "Some weights of BertForSequenceClassification were not initialized from the model checkpoint at ../../../model/classification/bmc-fpt-wiki_20190620_mecab_false_0311-nouns-0327-ft-nli-0328/bertmodel and are newly initialized: ['classifier.weight', 'classifier.bias']\n",
      "You should probably TRAIN this model on a down-stream task to be able to use it for predictions and inference.\n"
     ]
    }
   ],
   "source": [
    "# 모델 불러오기 \n",
    "model_path = \"../../../model/classification/bmc-fpt-wiki_20190620_mecab_false_0311-nouns-0327-ft-nli-0328/bertmodel\"\n",
    "model_save_path = 'output/crossencoder-nli-train-'+datetime.now().strftime(\"%Y-%m-%d_%H-%M\")\n",
    "\n",
    "model = CrossEncoder(model_path, num_labels=len(label2int))"
   ]
  },
  {
   "cell_type": "code",
   "execution_count": 11,
   "id": "004ebf68-7b50-49a2-9e19-e31dfe9473b9",
   "metadata": {},
   "outputs": [
    {
     "name": "stderr",
     "output_type": "stream",
     "text": [
      "2022-04-22 14:06:22,856 - sbertcross - INFO - Warmup-steps: 1720\n",
      "2022-04-22 14:06:22,856 - sbertcross - INFO - Warmup-steps: 1720\n"
     ]
    },
    {
     "data": {
      "application/vnd.jupyter.widget-view+json": {
       "model_id": "0ff54be1ee5d4ab084563f405ebb39d1",
       "version_major": 2,
       "version_minor": 0
      },
      "text/plain": [
       "Epoch:   0%|          | 0/1 [00:00<?, ?it/s]"
      ]
     },
     "metadata": {},
     "output_type": "display_data"
    },
    {
     "data": {
      "application/vnd.jupyter.widget-view+json": {
       "model_id": "1cb36cdb43c1488badbce0caf552245c",
       "version_major": 2,
       "version_minor": 0
      },
      "text/plain": [
       "Iteration:   0%|          | 0/17193 [00:00<?, ?it/s]"
      ]
     },
     "metadata": {},
     "output_type": "display_data"
    }
   ],
   "source": [
    "# 훈련시작\n",
    "# => model_save_path에 모델과, 평가 CESoftmaxAccuracyEvaluator-dev_results.csv 파일 생성됨\n",
    "warmup_steps = math.ceil(len(train_dataloader) * num_epochs * 0.1) #10% of train data for warm-up\n",
    "logger.info(\"Warmup-steps: {}\".format(warmup_steps))\n",
    "\n",
    "\n",
    "# Train the model\n",
    "model.fit(train_dataloader=train_dataloader,\n",
    "          evaluator=evaluator,\n",
    "          epochs=num_epochs,\n",
    "          evaluation_steps=10000,\n",
    "          warmup_steps=warmup_steps,\n",
    "          output_path=model_save_path)"
   ]
  },
  {
   "cell_type": "code",
   "execution_count": 12,
   "id": "2e447064-ba36-4bbd-b9bb-f6e33cc4e20e",
   "metadata": {},
   "outputs": [
    {
     "name": "stderr",
     "output_type": "stream",
     "text": [
      "2022-04-22 14:44:56,280 - sbertcross - INFO - \n",
      "\n",
      "2022-04-22 14:44:56,280 - sbertcross - INFO - \n",
      "\n",
      "2022-04-22 14:44:56,282 - sbertcross - INFO - model path: output/crossencoder-nli-train-2022-04-22_14-06\n",
      "2022-04-22 14:44:56,282 - sbertcross - INFO - model path: output/crossencoder-nli-train-2022-04-22_14-06\n",
      "2022-04-22 14:44:56,284 - sbertcross - INFO - === result: 0.6578842315369261 ===\n",
      "2022-04-22 14:44:56,284 - sbertcross - INFO - === result: 0.6578842315369261 ===\n",
      "2022-04-22 14:44:56,285 - sbertcross - INFO - === 처리시간: 5.691 초 ===\n",
      "2022-04-22 14:44:56,285 - sbertcross - INFO - === 처리시간: 5.691 초 ===\n",
      "2022-04-22 14:44:56,286 - sbertcross - INFO - ==============================================\n",
      "2022-04-22 14:44:56,286 - sbertcross - INFO - ==============================================\n",
      "2022-04-22 14:44:56,287 - sbertcross - INFO - \n",
      "\n",
      "2022-04-22 14:44:56,287 - sbertcross - INFO - \n",
      "\n"
     ]
    }
   ],
   "source": [
    "# Load the stored model and evaluate its performance on STS benchmark dataset\n",
    "# => 훈련되어서 저장된 s-bert 모델을 불러와서 성능 평가 해봄\n",
    "##############################################################################\n",
    "import time \n",
    "\n",
    "#model_save_path = \"../../../model/bert/crossencoder-sts-train-2022-04-22_13-20\"\n",
    "#model_save_path = \"../../../model/classification/bmc-fpt-wiki_20190620_mecab_false_0311-nouns-0327-ft-nli-0328/bertmodel\"\n",
    "\n",
    "test_file = '../../../korpora/kornli/xnli.test.ko-1.tsv'\n",
    "\n",
    "# 테스트 데이터 불러옴 \n",
    "label2int = {\"contradiction\": 0, \"entailment\": 1, \"neutral\": 2}\n",
    "test_samples = []\n",
    "with open(test_file, 'rt', encoding='utf-8') as fIn:\n",
    "    lines = fIn.readlines()\n",
    "    for line in lines:\n",
    "        s1, s2, label = line.split('\\t')\n",
    "        label = label2int[label.strip()]\n",
    "        test_samples.append(InputExample(texts=[s1, s2], label=label))\n",
    "\n",
    "start = time.time()       \n",
    "model = CrossEncoder(model_save_path)\n",
    "\n",
    "evaluator = CESoftmaxAccuracyEvaluator.from_input_examples(test_samples, name='xnli.test.ko.tsv')\n",
    "result = evaluator(model)\n",
    "\n",
    "logger.info(f\"\\n\")\n",
    "logger.info(f\"model path: {model_save_path}\")\n",
    "logger.info(f'=== result: {result} ===')\n",
    "logger.info(f'=== 처리시간: {time.time() - start:.3f} 초 ===')\n",
    "logger.info(\"==============================================\")\n",
    "logger.info(\"\\n\")"
   ]
  },
  {
   "cell_type": "code",
   "execution_count": null,
   "id": "b5d668d2-2eb1-4682-afb2-205a1b3198f0",
   "metadata": {},
   "outputs": [],
   "source": []
  }
 ],
 "metadata": {
  "kernelspec": {
   "display_name": "Python 3 (ipykernel)",
   "language": "python",
   "name": "python3"
  },
  "language_info": {
   "codemirror_mode": {
    "name": "ipython",
    "version": 3
   },
   "file_extension": ".py",
   "mimetype": "text/x-python",
   "name": "python",
   "nbconvert_exporter": "python",
   "pygments_lexer": "ipython3",
   "version": "3.9.7"
  }
 },
 "nbformat": 4,
 "nbformat_minor": 5
}

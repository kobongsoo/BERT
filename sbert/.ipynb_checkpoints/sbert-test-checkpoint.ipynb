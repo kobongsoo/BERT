{
 "cells": [
  {
   "cell_type": "code",
   "execution_count": 1,
   "id": "c1c768bf-96d5-45cb-81f0-177738d2efca",
   "metadata": {},
   "outputs": [
    {
     "name": "stdout",
     "output_type": "stream",
     "text": [
      "logfilepath:bwdataset_2022-04-12.log\n",
      "logfilepath:qnadataset_2022-04-12.log\n",
      "logfilepath:s-bert-test_2022-04-12.log\n",
      "True\n",
      "device: cuda:0\n",
      "cuda index: 0\n",
      "gpu 개수: 1\n",
      "graphic name: NVIDIA A30\n"
     ]
    }
   ],
   "source": [
    "import sys\n",
    "from sentence_transformers import SentenceTransformer, InputExample\n",
    "from sentence_transformers.evaluation import EmbeddingSimilarityEvaluator\n",
    "\n",
    "sys.path.append('..')\n",
    "from myutils import seed_everything, GPU_info, mlogging\n",
    "\n",
    "logger = mlogging(loggername=\"s-bert-test\", logfilename=\"s-bert-test\")\n",
    "device = GPU_info()\n",
    "seed_everything(111)"
   ]
  },
  {
   "cell_type": "code",
   "execution_count": 2,
   "id": "af081cd9-c333-4d95-9168-f8e31d718d00",
   "metadata": {},
   "outputs": [],
   "source": [
    "import os\n",
    "\n",
    "# 평가할 s-bert 모델 경로\n",
    "#smodel_path = \"../model/sbert/sbert-distilbert-base-multilingual-cased-nli\"\n",
    "#smodel_path = \"../model/sbert/distiluse-base-multilingual-cased-v2\"\n",
    "smodel_path = \"../../model/sbert/sbert-ts2022-distiluse-7-distiluse-base-multilingual-cased-v2\"\n",
    "\n",
    "#smodel_path = \"distilbert-base-nli-mean-tokens\"\n",
    "\n",
    "# 평가시 cosine 유사도등 측정 결과값 파일 (similarity_evaluation_xxxx.xls) 저장될 경로\n",
    "output_path = smodel_path\n",
    "os.makedirs(output_path, exist_ok=True)\n",
    "\n",
    "# 평가 sts 형태의 test 파일 \n",
    "test_file_type = 0  # 0이면 .tsv, 1이면 .json 파이\n",
    "\n",
    "# tsv 파일 인 경우\n",
    "if test_file_type == 0:\n",
    "    test_file = '../../korpora/korsts/tune_test.tsv'\n",
    "\n",
    "# json 파일 인 경우\n",
    "if test_file_type == 1:\n",
    "    test_file = '../../korpora/klue-sts/klue-sts-v1.1_dev.json'\n",
    "\n",
    "train_batch_size = 32"
   ]
  },
  {
   "cell_type": "code",
   "execution_count": 3,
   "id": "7514e55a-82af-4e5b-852c-c1d9e2e06073",
   "metadata": {},
   "outputs": [
    {
     "name": "stdout",
     "output_type": "stream",
     "text": [
      "[<sentence_transformers.readers.InputExample.InputExample object at 0x7f09acf8b850>, <sentence_transformers.readers.InputExample.InputExample object at 0x7f09acf8bdc0>, <sentence_transformers.readers.InputExample.InputExample object at 0x7f09acf8b460>]\n"
     ]
    }
   ],
   "source": [
    "\n",
    "test_samples = []\n",
    "\n",
    "\n",
    "# /korsts/tune_test.tsv 파일을 불러옴\n",
    "if test_file_type == 0:\n",
    "    with open(test_file, 'rt', encoding='utf-8') as fIn:\n",
    "        lines = fIn.readlines()\n",
    "        for line in lines:\n",
    "            s1, s2, score = line.split('\\t')\n",
    "            score = score.strip()\n",
    "            score = float(score) / 5.0\n",
    "            test_samples.append(InputExample(texts=[s1,s2], label=score))\n",
    "\n",
    "\n",
    "# /klue-sts/klue-sts-v1.1_dev.json 파일을 불러옴\n",
    "if test_file_type == 1:\n",
    "    import json\n",
    "\n",
    "    with open(test_file, \"r\") as fIn:\n",
    "        data = json.load(fIn)\n",
    "        for el in data:\n",
    "            s1 = el[\"sentence1\"]\n",
    "            s2 = el[\"sentence2\"]\n",
    "            score = el[\"labels\"]['label']\n",
    "            test_samples.append(InputExample(texts=[s1,s2], label=score))\n",
    "        \n",
    "\n",
    "print(test_samples[0:3])"
   ]
  },
  {
   "cell_type": "code",
   "execution_count": 4,
   "id": "76b90080-0e93-423f-9cee-7a2f297aff69",
   "metadata": {},
   "outputs": [
    {
     "name": "stdout",
     "output_type": "stream",
     "text": [
      "\n",
      "\n",
      "======================TEST===================\n"
     ]
    },
    {
     "name": "stderr",
     "output_type": "stream",
     "text": [
      "2022-04-12 16:23:40,438 - s-bert-test - INFO - SentenceTransformer(\n",
      "  (0): Transformer({'max_seq_length': 128, 'do_lower_case': False}) with Transformer model: DistilBertModel \n",
      "  (1): Pooling({'word_embedding_dimension': 768, 'pooling_mode_cls_token': False, 'pooling_mode_mean_tokens': True, 'pooling_mode_max_tokens': False, 'pooling_mode_mean_sqrt_len_tokens': False})\n",
      ")\n"
     ]
    }
   ],
   "source": [
    "##############################################################################\n",
    "# sentence bert 를 불러옴\n",
    "# => 훈련되어서 저장된 s-bert 모델을 불러와서 성능 평가 해봄\n",
    "# => 평가 내용은 해당 모델 경로에 'similarity_evaluation_korstr_tune_test_results.csv' 파일에 기록됨\n",
    "# => 모델 다운로드 폴더 지정 : cache_folder=경로 \n",
    "##############################################################################\n",
    "\n",
    "print(\"\\n\")\n",
    "print(\"======================TEST===================\")\n",
    "\n",
    "model = SentenceTransformer(smodel_path)\n",
    "#model = SentenceTransformer(smodel_path, cache_folder=output_path)\n",
    "model.to(device)\n",
    "logger.info(f'{model}')"
   ]
  },
  {
   "cell_type": "code",
   "execution_count": 5,
   "id": "1fae6702-ced5-4d65-9093-2b14b8d26a93",
   "metadata": {},
   "outputs": [
    {
     "data": {
      "application/vnd.jupyter.widget-view+json": {
       "model_id": "c9186111f0ab49a8b9087f437eb628a9",
       "version_major": 2,
       "version_minor": 0
      },
      "text/plain": [
       "Batches:   0%|          | 0/44 [00:00<?, ?it/s]"
      ]
     },
     "metadata": {},
     "output_type": "display_data"
    },
    {
     "data": {
      "application/vnd.jupyter.widget-view+json": {
       "model_id": "f9b12bb1f49e4b489a54a49305e93168",
       "version_major": 2,
       "version_minor": 0
      },
      "text/plain": [
       "Batches:   0%|          | 0/44 [00:00<?, ?it/s]"
      ]
     },
     "metadata": {},
     "output_type": "display_data"
    },
    {
     "name": "stderr",
     "output_type": "stream",
     "text": [
      "2022-04-12 16:23:42,171 - s-bert-test - INFO - \n",
      "\n",
      "2022-04-12 16:23:42,171 - s-bert-test - INFO - model path: ../../model/sbert/sbert-ts2022-distiluse-7-distiluse-base-multilingual-cased-v2\n",
      "2022-04-12 16:23:42,172 - s-bert-test - INFO - test_file path: ../../korpora/korsts/tune_test.tsv\n",
      "2022-04-12 16:23:42,172 - s-bert-test - INFO - === result: 0.7507408306961525 ===\n",
      "2022-04-12 16:23:42,173 - s-bert-test - INFO - === 처리시간: 1.727 초 ===\n"
     ]
    }
   ],
   "source": [
    "import time\n",
    "start = time.time()\n",
    "\n",
    "test_evaluator = EmbeddingSimilarityEvaluator.from_input_examples(test_samples, batch_size=train_batch_size, name='korstr_tune_test', show_progress_bar=True)\n",
    "result = test_evaluator(model, output_path=output_path)\n",
    "logger.info(f\"\\n\")\n",
    "logger.info(f\"model path: {smodel_path}\")\n",
    "logger.info(f\"test_file path: {test_file}\")\n",
    "logger.info(f'=== result: {result} ===')\n",
    "logger.info(f'=== 처리시간: {time.time() - start:.3f} 초 ===')"
   ]
  },
  {
   "cell_type": "code",
   "execution_count": null,
   "id": "eda05ca6-1270-47ed-836e-3cae20ea88e4",
   "metadata": {},
   "outputs": [],
   "source": []
  }
 ],
 "metadata": {
  "kernelspec": {
   "display_name": "Python 3 (ipykernel)",
   "language": "python",
   "name": "python3"
  },
  "language_info": {
   "codemirror_mode": {
    "name": "ipython",
    "version": 3
   },
   "file_extension": ".py",
   "mimetype": "text/x-python",
   "name": "python",
   "nbconvert_exporter": "python",
   "pygments_lexer": "ipython3",
   "version": "3.9.7"
  }
 },
 "nbformat": 4,
 "nbformat_minor": 5
}

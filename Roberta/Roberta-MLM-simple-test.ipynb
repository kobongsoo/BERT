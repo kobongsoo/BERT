{
 "cells": [
  {
   "cell_type": "code",
   "execution_count": 1,
   "id": "e47a2d3a-befc-4497-b753-837d38dd9cc0",
   "metadata": {},
   "outputs": [
    {
     "name": "stderr",
     "output_type": "stream",
     "text": [
      "You are using a model of type xlm-roberta to instantiate a model of type roberta. This is not supported for all configurations of models and can yield errors.\n",
      "F:\\AnacondaEnv\\daEnv\\bong\\lib\\site-packages\\ipykernel_launcher.py:30: UserWarning: Implicit dimension choice for softmax has been deprecated. Change the call to include dim=X as an argument.\n"
     ]
    },
    {
     "name": "stdout",
     "output_type": "stream",
     "text": [
      "\n",
      "\n",
      "*Input: 한국의 수도는 <mask>이다\n",
      "*[MASK] : ▁서울 (20899)\n",
      "\n",
      "\n",
      "*Input: 에펠탑은 <mask>에 있다\n",
      "*[MASK] : ▁프랑스 (119633)\n",
      "\n",
      "\n",
      "*Input: 충무공 이순신은 <mask>에 최고의 장수였다\n",
      "*[MASK] : ▁대한민국 (81774)\n"
     ]
    }
   ],
   "source": [
    "#=======================================================================\n",
    "# xml-roberta MLM 테스트 예제\n",
    "# - MASK 토큰 -> <mask> 임.\n",
    "#=======================================================================\n",
    "\n",
    "from transformers import AutoTokenizer, RobertaForMaskedLM\n",
    "import torch\n",
    "import torch.nn.functional as F\n",
    "\n",
    "tokenizer = AutoTokenizer.from_pretrained('xlm-roberta-base', do_lower_case=False)\n",
    "model = RobertaForMaskedLM.from_pretrained('xlm-roberta-base')\n",
    "\n",
    "text = ['한국의 수도는 <mask>이다', '에펠탑은 <mask>에 있다', '충무공 이순신은 <mask>에 최고의 장수였다']\n",
    "tokenized_input = tokenizer(text, max_length=128, truncation=True, padding='max_length', return_tensors='pt')\n",
    "\n",
    "outputs = model(**tokenized_input)\n",
    "logits = outputs.logits\n",
    "\n",
    "mask_idx_list = []\n",
    "for tokens in tokenized_input['input_ids'].tolist():\n",
    "    token_str = [tokenizer.convert_ids_to_tokens(s) for s in tokens]\n",
    "    \n",
    "    # **위 token_str리스트에서 [MASK] 인덱스를 구함\n",
    "    # => **해당 <mask> 안덱스 값 mask_idx 에서는 아래 출력하는데 사용됨\n",
    "    mask_idx = token_str.index('<mask>')\n",
    "    mask_idx_list.append(mask_idx)\n",
    "    \n",
    "for idx, mask_idx in enumerate(mask_idx_list):\n",
    "    \n",
    "    logits_pred=torch.argmax(F.softmax(logits[idx]), dim=1)\n",
    "    mask_logits_idx = int(logits_pred[mask_idx])\n",
    "    # [MASK]에 해당하는 token 구함\n",
    "    mask_logits_token = tokenizer.convert_ids_to_tokens(mask_logits_idx)\n",
    "    # 결과 출력 \n",
    "    print('\\n')\n",
    "    print('*Input: {}'.format(text[idx]))\n",
    "    print('*[MASK] : {} ({})'.format(mask_logits_token, mask_logits_idx))"
   ]
  }
 ],
 "metadata": {
  "kernelspec": {
   "display_name": "Python 3 (ipykernel)",
   "language": "python",
   "name": "python3"
  },
  "language_info": {
   "codemirror_mode": {
    "name": "ipython",
    "version": 3
   },
   "file_extension": ".py",
   "mimetype": "text/x-python",
   "name": "python",
   "nbconvert_exporter": "python",
   "pygments_lexer": "ipython3",
   "version": "3.7.0"
  }
 },
 "nbformat": 4,
 "nbformat_minor": 5
}

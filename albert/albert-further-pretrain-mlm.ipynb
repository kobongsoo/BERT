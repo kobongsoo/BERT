{
 "cells": [
  {
   "cell_type": "code",
   "execution_count": 1,
   "id": "07847e08-52dc-49fb-bcd7-683544ee7635",
   "metadata": {},
   "outputs": [
    {
     "name": "stdout",
     "output_type": "stream",
     "text": [
      "logfilepath:../../log/bwdataset_2022-06-07.log\n",
      "logfilepath:../../log/qnadataset_2022-06-07.log\n",
      "True\n",
      "device: cuda:0\n",
      "cuda index: 0\n",
      "gpu 개수: 1\n",
      "graphic name: NVIDIA A30\n",
      "cuda:0\n",
      "logfilepath:../../log/Albertfpt_2022-06-07.log\n"
     ]
    }
   ],
   "source": [
    "#===========================================================================================\n",
    "# ALBERT Futher-PreTraining 예시\n",
    "# => MLM(Masked Language Model)만으로 Further Pre-Train 시키는 예시\n",
    "# => AlbertForMaskedLM 이용\n",
    "#===========================================================================================\n",
    "\n",
    "import torch\n",
    "from transformers import AlbertTokenizer, AlbertForMaskedLM, AlbertModel\n",
    "from tqdm.notebook import tqdm\n",
    "from transformers import AdamW, get_linear_schedule_with_warmup\n",
    "from os import sys\n",
    "sys.path.append('..')\n",
    "from myutils import GPU_info, seed_everything, mlogging, AccuracyForMaskedToken, SaveBERTModel\n",
    "\n",
    "device = GPU_info()\n",
    "print(device)\n",
    "\n",
    "#seed 설정\n",
    "seed_everything(222)\n",
    "\n",
    "#logging 설정\n",
    "logger =  mlogging(loggername=\"Albertfpt\", logfilename=\"../../log/Albertfpt\")\n"
   ]
  },
  {
   "cell_type": "code",
   "execution_count": 2,
   "id": "be30ff97-d35f-4e52-a368-a17255d094dd",
   "metadata": {},
   "outputs": [
    {
     "name": "stderr",
     "output_type": "stream",
     "text": [
      "Some weights of AlbertForMaskedLM were not initialized from the model checkpoint at ../../data11/model/bert/albert-base-v2 and are newly initialized: ['predictions.dense.weight', 'predictions.LayerNorm.weight', 'predictions.decoder.weight', 'predictions.dense.bias', 'predictions.bias', 'predictions.LayerNorm.bias', 'predictions.decoder.bias']\n",
      "You should probably TRAIN this model on a down-stream task to be able to use it for predictions and inference.\n"
     ]
    },
    {
     "name": "stdout",
     "output_type": "stream",
     "text": [
      "54152\n"
     ]
    },
    {
     "data": {
      "text/plain": [
       "AlbertForMaskedLM(\n",
       "  (albert): AlbertModel(\n",
       "    (embeddings): AlbertEmbeddings(\n",
       "      (word_embeddings): Embedding(54152, 128)\n",
       "      (position_embeddings): Embedding(512, 128)\n",
       "      (token_type_embeddings): Embedding(2, 128)\n",
       "      (LayerNorm): LayerNorm((128,), eps=1e-12, elementwise_affine=True)\n",
       "      (dropout): Dropout(p=0, inplace=False)\n",
       "    )\n",
       "    (encoder): AlbertTransformer(\n",
       "      (embedding_hidden_mapping_in): Linear(in_features=128, out_features=768, bias=True)\n",
       "      (albert_layer_groups): ModuleList(\n",
       "        (0): AlbertLayerGroup(\n",
       "          (albert_layers): ModuleList(\n",
       "            (0): AlbertLayer(\n",
       "              (full_layer_layer_norm): LayerNorm((768,), eps=1e-12, elementwise_affine=True)\n",
       "              (attention): AlbertAttention(\n",
       "                (query): Linear(in_features=768, out_features=768, bias=True)\n",
       "                (key): Linear(in_features=768, out_features=768, bias=True)\n",
       "                (value): Linear(in_features=768, out_features=768, bias=True)\n",
       "                (attention_dropout): Dropout(p=0, inplace=False)\n",
       "                (output_dropout): Dropout(p=0, inplace=False)\n",
       "                (dense): Linear(in_features=768, out_features=768, bias=True)\n",
       "                (LayerNorm): LayerNorm((768,), eps=1e-12, elementwise_affine=True)\n",
       "              )\n",
       "              (ffn): Linear(in_features=768, out_features=3072, bias=True)\n",
       "              (ffn_output): Linear(in_features=3072, out_features=768, bias=True)\n",
       "              (dropout): Dropout(p=0, inplace=False)\n",
       "            )\n",
       "          )\n",
       "        )\n",
       "      )\n",
       "    )\n",
       "  )\n",
       "  (predictions): AlbertMLMHead(\n",
       "    (LayerNorm): LayerNorm((128,), eps=1e-05, elementwise_affine=True)\n",
       "    (dense): Linear(in_features=768, out_features=128, bias=True)\n",
       "    (decoder): Linear(in_features=128, out_features=54152, bias=True)\n",
       "  )\n",
       ")"
      ]
     },
     "execution_count": 2,
     "metadata": {},
     "output_type": "execute_result"
    }
   ],
   "source": [
    "# 신규 모델에 파일을 불러옴\n",
    "\n",
    "\n",
    "vocab_path = '../../data11/model/bert/albert-base-v2/newvocab' # 앞에서 만들어진 spiece_new.model 이 있는 경로 지정해줌\n",
    "model_path = '../../data11/model/bert/albert-base-v2'\n",
    "\n",
    "tokenizer = AlbertTokenizer.from_pretrained(vocab_path)\n",
    "print(len(tokenizer))\n",
    "\n",
    "model = AlbertForMaskedLM.from_pretrained(model_path)\n",
    "\n",
    "# resize_token_embeddings 으로 신규 tokenizer 사이즈로 지정 해줌.\n",
    "model.resize_token_embeddings(len(tokenizer))\n",
    "model.to(device)"
   ]
  },
  {
   "cell_type": "code",
   "execution_count": 3,
   "id": "0fc9beef-e68e-4768-b255-91194d2f1836",
   "metadata": {},
   "outputs": [
    {
     "data": {
      "text/plain": [
       "14337288"
      ]
     },
     "execution_count": 3,
     "metadata": {},
     "output_type": "execute_result"
    }
   ],
   "source": [
    "model.num_parameters()"
   ]
  },
  {
   "cell_type": "code",
   "execution_count": 4,
   "id": "bb381d56-ecb2-467a-b75f-107d1028db73",
   "metadata": {},
   "outputs": [
    {
     "name": "stdout",
     "output_type": "stream",
     "text": [
      "{'input_ids': tensor([[    2, 54150,     1, 54146, 30010, 54147, 30219,     1, 54148,     1,\n",
      "         31858,     1,     9,     3,     0,     0,     0,     0,     0,     0,\n",
      "             0,     0,     0,     0,     0,     0,     0,     0,     0,     0,\n",
      "             0,     0,     0,     0,     0,     0,     0,     0,     0,     0,\n",
      "             0,     0,     0,     0,     0,     0,     0,     0,     0,     0,\n",
      "             0,     0,     0,     0,     0,     0,     0,     0,     0,     0,\n",
      "             0,     0,     0,     0,     0,     0,     0,     0,     0,     0,\n",
      "             0,     0,     0,     0,     0,     0,     0,     0,     0,     0,\n",
      "             0,     0,     0,     0,     0,     0,     0,     0,     0,     0,\n",
      "             0,     0,     0,     0,     0,     0,     0,     0,     0,     0,\n",
      "             0,     0,     0,     0,     0,     0,     0,     0,     0,     0,\n",
      "             0,     0,     0,     0,     0,     0,     0,     0,     0,     0,\n",
      "             0,     0,     0,     0,     0,     0,     0,     0]]), 'token_type_ids': tensor([[0, 0, 0, 0, 0, 0, 0, 0, 0, 0, 0, 0, 0, 0, 0, 0, 0, 0, 0, 0, 0, 0, 0, 0,\n",
      "         0, 0, 0, 0, 0, 0, 0, 0, 0, 0, 0, 0, 0, 0, 0, 0, 0, 0, 0, 0, 0, 0, 0, 0,\n",
      "         0, 0, 0, 0, 0, 0, 0, 0, 0, 0, 0, 0, 0, 0, 0, 0, 0, 0, 0, 0, 0, 0, 0, 0,\n",
      "         0, 0, 0, 0, 0, 0, 0, 0, 0, 0, 0, 0, 0, 0, 0, 0, 0, 0, 0, 0, 0, 0, 0, 0,\n",
      "         0, 0, 0, 0, 0, 0, 0, 0, 0, 0, 0, 0, 0, 0, 0, 0, 0, 0, 0, 0, 0, 0, 0, 0,\n",
      "         0, 0, 0, 0, 0, 0, 0, 0]]), 'attention_mask': tensor([[1, 1, 1, 1, 1, 1, 1, 1, 1, 1, 1, 1, 1, 1, 0, 0, 0, 0, 0, 0, 0, 0, 0, 0,\n",
      "         0, 0, 0, 0, 0, 0, 0, 0, 0, 0, 0, 0, 0, 0, 0, 0, 0, 0, 0, 0, 0, 0, 0, 0,\n",
      "         0, 0, 0, 0, 0, 0, 0, 0, 0, 0, 0, 0, 0, 0, 0, 0, 0, 0, 0, 0, 0, 0, 0, 0,\n",
      "         0, 0, 0, 0, 0, 0, 0, 0, 0, 0, 0, 0, 0, 0, 0, 0, 0, 0, 0, 0, 0, 0, 0, 0,\n",
      "         0, 0, 0, 0, 0, 0, 0, 0, 0, 0, 0, 0, 0, 0, 0, 0, 0, 0, 0, 0, 0, 0, 0, 0,\n",
      "         0, 0, 0, 0, 0, 0, 0, 0]])}\n"
     ]
    }
   ],
   "source": [
    "# text tokenizer 해봄.\n",
    "text = \"모코엠시스에서는 문서중앙화 및 보안파일서버 솔루션인 엠파워를 출시하였다.\"\n",
    "token_ids = tokenizer.encode_plus(text, max_length=128, padding=\"max_length\", return_tensors=\"pt\")\n",
    "print(token_ids)"
   ]
  },
  {
   "cell_type": "code",
   "execution_count": 5,
   "id": "2480a865-8328-47cb-959b-b3f50bafef17",
   "metadata": {},
   "outputs": [
    {
     "name": "stdout",
     "output_type": "stream",
     "text": [
      "2\n",
      "3\n",
      "1\n",
      "0\n",
      "4\n"
     ]
    }
   ],
   "source": [
    "# 각 스페셜 tokenid를 구함\n",
    "CLStokenid = tokenizer.convert_tokens_to_ids('[CLS]')\n",
    "SEPtokenid = tokenizer.convert_tokens_to_ids('[SEP]')\n",
    "UNKtokenid = tokenizer.convert_tokens_to_ids('<UNK>')\n",
    "PADtokenid = tokenizer.convert_tokens_to_ids('<pad>')\n",
    "MASKtokenid = tokenizer.convert_tokens_to_ids('[MASK]')\n",
    "\n",
    "print(CLStokenid)\n",
    "print(SEPtokenid)\n",
    "print(UNKtokenid)\n",
    "print(PADtokenid)\n",
    "print(MASKtokenid)\n"
   ]
  },
  {
   "cell_type": "code",
   "execution_count": 6,
   "id": "9624f881-c469-4243-94d4-852e0c65f8da",
   "metadata": {},
   "outputs": [
    {
     "name": "stdout",
     "output_type": "stream",
     "text": [
      "CLSid:2, SEPid:3, UNKid:1, PADid:0, MASKid:4\n",
      "*corpus:../../data11/korpora/nlp_corpus_merge.txt\n",
      "*max_sequence_len:128\n",
      "*mlm_probability:0.15\n",
      "*CLStokenid:2, SEPtokenid:3, UNKtokenid:1, PADtokeinid:0, Masktokeid:4\n",
      "*total_line: 580110\n"
     ]
    },
    {
     "data": {
      "application/vnd.jupyter.widget-view+json": {
       "model_id": "a05fd35d1d534ef5bc52bdd88d4fa29c",
       "version_major": 2,
       "version_minor": 0
      },
      "text/plain": [
       "  0%|          | 0/580110 [00:00<?, ?it/s]"
      ]
     },
     "metadata": {},
     "output_type": "display_data"
    },
    {
     "data": {
      "application/vnd.jupyter.widget-view+json": {
       "model_id": "47a025a385a4478b83ed0243f1bcb430",
       "version_major": 2,
       "version_minor": 0
      },
      "text/plain": [
       "  0%|          | 0/580110 [00:00<?, ?it/s]"
      ]
     },
     "metadata": {},
     "output_type": "display_data"
    },
    {
     "name": "stderr",
     "output_type": "stream",
     "text": [
      "2022-06-07 15:23:41,337 - bwpdataset - INFO - ==>[Start] cached file create: ../../data11/korpora/cached_lm_AlbertTokenizer_128_nlp_corpus_merge.txt\n",
      "2022-06-07 15:23:48,205 - bwpdataset - INFO - <==[End] Saving features into cached file ../../data11/korpora/cached_lm_AlbertTokenizer_128_nlp_corpus_merge.txt [took 6.867 s]\n"
     ]
    },
    {
     "name": "stdout",
     "output_type": "stream",
     "text": [
      "*corpus:../../data11/korpora/kowiki_20190620/wiki_eval_test.txt\n",
      "*max_sequence_len:128\n",
      "*mlm_probability:0.15\n",
      "*CLStokenid:2, SEPtokenid:3, UNKtokenid:1, PADtokeinid:0, Masktokeid:4\n",
      "*total_line: 114\n"
     ]
    },
    {
     "data": {
      "application/vnd.jupyter.widget-view+json": {
       "model_id": "653aea8e36874be8962920ab3abc157a",
       "version_major": 2,
       "version_minor": 0
      },
      "text/plain": [
       "  0%|          | 0/114 [00:00<?, ?it/s]"
      ]
     },
     "metadata": {},
     "output_type": "display_data"
    },
    {
     "data": {
      "application/vnd.jupyter.widget-view+json": {
       "model_id": "fbacd09c36374e9ab6aa837a02b592b2",
       "version_major": 2,
       "version_minor": 0
      },
      "text/plain": [
       "  0%|          | 0/114 [00:00<?, ?it/s]"
      ]
     },
     "metadata": {},
     "output_type": "display_data"
    },
    {
     "name": "stderr",
     "output_type": "stream",
     "text": [
      "2022-06-07 15:23:48,383 - bwpdataset - INFO - ==>[Start] cached file create: ../../data11/korpora/kowiki_20190620/cached_lm_AlbertTokenizer_128_wiki_eval_test.txt\n",
      "2022-06-07 15:23:48,385 - bwpdataset - INFO - <==[End] Saving features into cached file ../../data11/korpora/kowiki_20190620/cached_lm_AlbertTokenizer_128_wiki_eval_test.txt [took 0.002 s]\n"
     ]
    },
    {
     "name": "stdout",
     "output_type": "stream",
     "text": [
      "{'input_ids': tensor([    2, 38231,     4,     4,    14,   566,  4403, 10724,     1,  4943,\n",
      "           38,  1418,    26,    85,  3208,     4,     4, 32795,    26,     4,\n",
      "         3078,    45,     3,     0,     0,     0,     0,     0,     0,     0,\n",
      "            0,     0,     0,     0,     0,     0,     0,     0,     0,     0,\n",
      "            0,     0,     0,     0,     0,     0,     0,     0,     0,     0,\n",
      "            0,     0,     0,     0,     0,     0,     0,     0,     0,     0,\n",
      "            0,     0,     0,     0,     0,     0,     0,     0,     0,     0,\n",
      "            0,     0,     0,     0,     0,     0,     0,     0,     0,     0,\n",
      "            0,     0,     0,     0,     0,     0,     0,     0,     0,     0,\n",
      "            0,     0,     0,     0,     0,     0,     0,     0,     0,     0,\n",
      "            0,     0,     0,     0,     0,     0,     0,     0,     0,     0,\n",
      "            0,     0,     0,     0,     0,     0,     0,     0,     0,     0,\n",
      "            0,     0,     0,     0,     0,     0,     0,     0]), 'token_type_ids': tensor([0, 0, 0, 0, 0, 0, 0, 0, 0, 0, 0, 0, 0, 0, 0, 0, 0, 0, 0, 0, 0, 0, 0, 0,\n",
      "        0, 0, 0, 0, 0, 0, 0, 0, 0, 0, 0, 0, 0, 0, 0, 0, 0, 0, 0, 0, 0, 0, 0, 0,\n",
      "        0, 0, 0, 0, 0, 0, 0, 0, 0, 0, 0, 0, 0, 0, 0, 0, 0, 0, 0, 0, 0, 0, 0, 0,\n",
      "        0, 0, 0, 0, 0, 0, 0, 0, 0, 0, 0, 0, 0, 0, 0, 0, 0, 0, 0, 0, 0, 0, 0, 0,\n",
      "        0, 0, 0, 0, 0, 0, 0, 0, 0, 0, 0, 0, 0, 0, 0, 0, 0, 0, 0, 0, 0, 0, 0, 0,\n",
      "        0, 0, 0, 0, 0, 0, 0, 0]), 'attention_mask': tensor([1, 1, 1, 1, 1, 1, 1, 1, 1, 1, 1, 1, 1, 1, 1, 1, 1, 1, 1, 1, 1, 1, 1, 0,\n",
      "        0, 0, 0, 0, 0, 0, 0, 0, 0, 0, 0, 0, 0, 0, 0, 0, 0, 0, 0, 0, 0, 0, 0, 0,\n",
      "        0, 0, 0, 0, 0, 0, 0, 0, 0, 0, 0, 0, 0, 0, 0, 0, 0, 0, 0, 0, 0, 0, 0, 0,\n",
      "        0, 0, 0, 0, 0, 0, 0, 0, 0, 0, 0, 0, 0, 0, 0, 0, 0, 0, 0, 0, 0, 0, 0, 0,\n",
      "        0, 0, 0, 0, 0, 0, 0, 0, 0, 0, 0, 0, 0, 0, 0, 0, 0, 0, 0, 0, 0, 0, 0, 0,\n",
      "        0, 0, 0, 0, 0, 0, 0, 0]), 'labels': tensor([    2, 38231,   106,    20,    14,   566,  4403, 10724,     1,  4943,\n",
      "           38,  1418,    26,    85,  3208,    17,   862, 32795,    26, 32305,\n",
      "         3078,    45,     3,     0,     0,     0,     0,     0,     0,     0,\n",
      "            0,     0,     0,     0,     0,     0,     0,     0,     0,     0,\n",
      "            0,     0,     0,     0,     0,     0,     0,     0,     0,     0,\n",
      "            0,     0,     0,     0,     0,     0,     0,     0,     0,     0,\n",
      "            0,     0,     0,     0,     0,     0,     0,     0,     0,     0,\n",
      "            0,     0,     0,     0,     0,     0,     0,     0,     0,     0,\n",
      "            0,     0,     0,     0,     0,     0,     0,     0,     0,     0,\n",
      "            0,     0,     0,     0,     0,     0,     0,     0,     0,     0,\n",
      "            0,     0,     0,     0,     0,     0,     0,     0,     0,     0,\n",
      "            0,     0,     0,     0,     0,     0,     0,     0,     0,     0,\n",
      "            0,     0,     0,     0,     0,     0,     0,     0])}\n"
     ]
    }
   ],
   "source": [
    "input_corpus = '../../data11/korpora/nlp_corpus_merge.txt'\n",
    "eval_corpus = '../../data11/korpora/kowiki_20190620/wiki_eval_test.txt'\n",
    "token_max_len = 128\n",
    "batch_size = 32\n",
    "#==============================================================================\n",
    "# DataLoader 설정으로 메모리 속도 계선방법\n",
    "#\n",
    "# 1) num_workers>0 설정\n",
    "# num_workers=0훈련 또는 이전 프로세스가 완료된 후에만 데이터 로드를 실행하는 반면,\n",
    "# num_workers > 0 값으로 설정하면 특히 I/O 및 대용량 데이터 증가에 대한 프로세스가 가속된다\n",
    "# => 따라서 Dataloader(dataset, num_workers=4*num_GPU) 식으로 설정함\n",
    "#\n",
    "# 2) pin_memory=True 설정\n",
    "# GPU는 CPU의 페이징 가능한 메모리에서 직접 데이터에 액세스할 수 없습니다. \n",
    "# 이 설정 pin_memory=True은 CPU 호스트의 데이터에 대한 스테이징 메모리를 직접 할당하고 \n",
    "# 페이징 가능 메모리에서 스테이징 메모리(즉, 고정된 메모리, 페이지 잠금 메모리)로 데이터를 \n",
    "# 전송하는 시간을 절약할 수 있다.\n",
    "# => Dataloader(dataset, pin_memory=True)\n",
    "#=========================================================================\n",
    "\n",
    "\n",
    "from torch.utils.data import DataLoader, RandomSampler\n",
    "import sys\n",
    "sys.path.append('..')\n",
    "from myutils import MLMDataset\n",
    "\n",
    "# 각 스페셜 tokenid를 구함\n",
    "CLStokenid = tokenizer.convert_tokens_to_ids('[CLS]')\n",
    "SEPtokenid = tokenizer.convert_tokens_to_ids('[SEP]')\n",
    "UNKtokenid = tokenizer.convert_tokens_to_ids('<UNK>')\n",
    "PADtokenid = tokenizer.convert_tokens_to_ids('<pad>')\n",
    "MASKtokenid = tokenizer.convert_tokens_to_ids('[MASK]')\n",
    "print('CLSid:{}, SEPid:{}, UNKid:{}, PADid:{}, MASKid:{}'.format(CLStokenid, SEPtokenid, UNKtokenid, PADtokenid, MASKtokenid))\n",
    "\n",
    "\n",
    "train_dataset = MLMDataset(corpus_path = input_corpus,\n",
    "                           tokenizer = tokenizer, \n",
    "                           CLStokeinid = CLStokenid ,   # [CLS] 토큰 id\n",
    "                           SEPtokenid = SEPtokenid ,    # [SEP] 토큰 id\n",
    "                           UNKtokenid = UNKtokenid ,    # [UNK] 토큰 id\n",
    "                           PADtokenid = PADtokenid,    # [PAD] 토큰 id\n",
    "                           Masktokenid = MASKtokenid,   # [MASK] 토큰 id\n",
    "                           max_sequence_len=token_max_len,  # max_sequence_len)\n",
    "                           mlm_probability=0.15,\n",
    "                           overwrite_cache=False\n",
    "                          )\n",
    "\n",
    "\n",
    "# 학습 dataloader 생성\n",
    "# => tenosor로 만듬\n",
    "train_loader = DataLoader(train_dataset, \n",
    "                          batch_size=batch_size, \n",
    "                          #shuffle=True, # dataset을 섞음\n",
    "                          sampler=RandomSampler(train_dataset, replacement=False), #dataset을 랜덤하게 샘플링함\n",
    "                          num_workers=4,   # *num_workers = 4*num_GPU 로 설정(프로세스가 빨라짐)\n",
    "                          pin_memory=True  # *pin_memory=True은 페이징 가능 메모리에서 스테이징 메모리로 전송하는 시간을 줄여줌\n",
    "                         )\n",
    "\n",
    "#===============================================================================\n",
    "# eval dataloader 생성\n",
    "eval_dataset = MLMDataset(corpus_path = eval_corpus,\n",
    "                          tokenizer = tokenizer, \n",
    "                          CLStokeinid = CLStokenid ,   # [CLS] 토큰 id\n",
    "                          SEPtokenid = SEPtokenid ,    # [SEP] 토큰 id\n",
    "                          UNKtokenid = UNKtokenid ,    # [UNK] 토큰 id\n",
    "                          PADtokenid = PADtokenid,    # [PAD] 토큰 id\n",
    "                          Masktokenid = MASKtokenid,   # [MASK] 토큰 id\n",
    "                          max_sequence_len=token_max_len,  # max_sequence_len)\n",
    "                          mlm_probability=0.15,\n",
    "                          overwrite_cache=False\n",
    "                          )\n",
    "\n",
    "\n",
    "# eval dataloader 생성\n",
    "# => tenosor로 만듬\n",
    "eval_loader = DataLoader(eval_dataset, \n",
    "                         batch_size=batch_size, \n",
    "                         #shuffle=True, # dataset을 섞음\n",
    "                         sampler=RandomSampler(eval_dataset, replacement=False), #dataset을 랜덤하게 샘플링함\n",
    "                         num_workers=4,   # *num_workers = 4*num_GPU 로 설정(프로세스가 빨라짐)\n",
    "                         pin_memory=True  # *pin_memory=True은 페이징 가능 메모리에서 스테이징 메모리로 전송하는 시간을 줄여줌\n",
    "                         )\n",
    "#===============================================================================\n",
    "\n",
    "print(train_dataset[0])"
   ]
  },
  {
   "cell_type": "code",
   "execution_count": 9,
   "id": "d53e072e-d740-4824-8555-e6f72b96e0aa",
   "metadata": {},
   "outputs": [
    {
     "data": {
      "application/vnd.jupyter.widget-view+json": {
       "model_id": "27c737c8ded2415c8210b54fe44d335d",
       "version_major": 2,
       "version_minor": 0
      },
      "text/plain": [
       "  0%|          | 0/5 [00:00<?, ?it/s]"
      ]
     },
     "metadata": {},
     "output_type": "display_data"
    },
    {
     "data": {
      "application/vnd.jupyter.widget-view+json": {
       "model_id": "017274e078c44361b07805e44089a7e0",
       "version_major": 2,
       "version_minor": 0
      },
      "text/plain": [
       "  0%|          | 0/18129 [00:00<?, ?it/s]"
      ]
     },
     "metadata": {},
     "output_type": "display_data"
    },
    {
     "name": "stderr",
     "output_type": "stream",
     "text": [
      "2022-06-07 16:18:16,495 - Albertfpt - INFO - [Epoch 1/5] Iteration 1812 -> Train Loss: 0.1773, Train Acc: 0.3378, Val Acc:0.15079365079365079(38/252)\n",
      "2022-06-07 16:22:43,193 - Albertfpt - INFO - [Epoch 1/5] Iteration 3624 -> Train Loss: 0.1730, Train Acc: 0.3361, Val Acc:0.1626984126984127(41/252)\n",
      "2022-06-07 16:27:07,383 - Albertfpt - INFO - [Epoch 1/5] Iteration 5436 -> Train Loss: 0.1657, Train Acc: 0.3376, Val Acc:0.15079365079365079(38/252)\n",
      "2022-06-07 16:31:33,330 - Albertfpt - INFO - [Epoch 1/5] Iteration 7248 -> Train Loss: 0.1553, Train Acc: 0.3394, Val Acc:0.15079365079365079(38/252)\n",
      "2022-06-07 16:35:58,900 - Albertfpt - INFO - [Epoch 1/5] Iteration 9060 -> Train Loss: 0.1457, Train Acc: 0.3436, Val Acc:0.1388888888888889(35/252)\n",
      "2022-06-07 16:40:29,293 - Albertfpt - INFO - [Epoch 1/5] Iteration 10872 -> Train Loss: 0.1352, Train Acc: 0.3488, Val Acc:0.1349206349206349(34/252)\n",
      "2022-06-07 16:44:55,484 - Albertfpt - INFO - [Epoch 1/5] Iteration 12684 -> Train Loss: 0.1269, Train Acc: 0.3531, Val Acc:0.1349206349206349(34/252)\n",
      "2022-06-07 16:49:20,595 - Albertfpt - INFO - [Epoch 1/5] Iteration 14496 -> Train Loss: 0.1205, Train Acc: 0.3598, Val Acc:0.15873015873015872(40/252)\n",
      "2022-06-07 16:53:45,677 - Albertfpt - INFO - [Epoch 1/5] Iteration 16308 -> Train Loss: 0.1147, Train Acc: 0.3677, Val Acc:0.14285714285714285(36/252)\n",
      "2022-06-07 16:58:10,826 - Albertfpt - INFO - [Epoch 1/5] Iteration 18120 -> Train Loss: 0.1102, Train Acc: 0.3729, Val Acc:0.15079365079365079(38/252)\n"
     ]
    },
    {
     "data": {
      "application/vnd.jupyter.widget-view+json": {
       "model_id": "e7f4f240fd81406dab46b779bd9d627e",
       "version_major": 2,
       "version_minor": 0
      },
      "text/plain": [
       "  0%|          | 0/18129 [00:00<?, ?it/s]"
      ]
     },
     "metadata": {},
     "output_type": "display_data"
    },
    {
     "name": "stderr",
     "output_type": "stream",
     "text": [
      "2022-06-07 17:02:39,648 - Albertfpt - INFO - [Epoch 2/5] Iteration 19932 -> Train Loss: 0.1037, Train Acc: 0.3885, Val Acc:0.11904761904761904(30/252)\n",
      "2022-06-07 17:07:05,973 - Albertfpt - INFO - [Epoch 2/5] Iteration 21744 -> Train Loss: 0.1006, Train Acc: 0.3915, Val Acc:0.14682539682539683(37/252)\n",
      "2022-06-07 17:11:34,864 - Albertfpt - INFO - [Epoch 2/5] Iteration 23556 -> Train Loss: 0.0997, Train Acc: 0.3913, Val Acc:0.15079365079365079(38/252)\n",
      "2022-06-07 17:16:00,146 - Albertfpt - INFO - [Epoch 2/5] Iteration 25368 -> Train Loss: 0.0967, Train Acc: 0.3975, Val Acc:0.14682539682539683(37/252)\n",
      "2022-06-07 17:20:25,631 - Albertfpt - INFO - [Epoch 2/5] Iteration 27180 -> Train Loss: 0.0941, Train Acc: 0.4018, Val Acc:0.1626984126984127(41/252)\n",
      "2022-06-07 17:24:48,594 - Albertfpt - INFO - [Epoch 2/5] Iteration 28992 -> Train Loss: 0.0923, Train Acc: 0.4028, Val Acc:0.14682539682539683(37/252)\n",
      "2022-06-07 17:29:14,923 - Albertfpt - INFO - [Epoch 2/5] Iteration 30804 -> Train Loss: 0.0909, Train Acc: 0.4055, Val Acc:0.15873015873015872(40/252)\n",
      "2022-06-07 17:33:39,324 - Albertfpt - INFO - [Epoch 2/5] Iteration 32616 -> Train Loss: 0.0903, Train Acc: 0.4080, Val Acc:0.14682539682539683(37/252)\n",
      "2022-06-07 17:38:03,377 - Albertfpt - INFO - [Epoch 2/5] Iteration 34428 -> Train Loss: 0.0887, Train Acc: 0.4118, Val Acc:0.12301587301587301(31/252)\n",
      "2022-06-07 17:42:28,720 - Albertfpt - INFO - [Epoch 2/5] Iteration 36240 -> Train Loss: 0.0881, Train Acc: 0.4133, Val Acc:0.1626984126984127(41/252)\n"
     ]
    },
    {
     "data": {
      "application/vnd.jupyter.widget-view+json": {
       "model_id": "f10fae98ac5048118ce0764fa45008ba",
       "version_major": 2,
       "version_minor": 0
      },
      "text/plain": [
       "  0%|          | 0/18129 [00:00<?, ?it/s]"
      ]
     },
     "metadata": {},
     "output_type": "display_data"
    },
    {
     "name": "stderr",
     "output_type": "stream",
     "text": [
      "2022-06-07 17:46:58,706 - Albertfpt - INFO - [Epoch 3/5] Iteration 38052 -> Train Loss: 0.0831, Train Acc: 0.4352, Val Acc:0.15873015873015872(40/252)\n",
      "2022-06-07 17:51:25,054 - Albertfpt - INFO - [Epoch 3/5] Iteration 39864 -> Train Loss: 0.0825, Train Acc: 0.4375, Val Acc:0.1388888888888889(35/252)\n",
      "2022-06-07 17:55:49,517 - Albertfpt - INFO - [Epoch 3/5] Iteration 41676 -> Train Loss: 0.0817, Train Acc: 0.4385, Val Acc:0.11904761904761904(30/252)\n",
      "2022-06-07 18:00:13,381 - Albertfpt - INFO - [Epoch 3/5] Iteration 43488 -> Train Loss: 0.0811, Train Acc: 0.4408, Val Acc:0.15476190476190477(39/252)\n",
      "2022-06-07 18:04:37,441 - Albertfpt - INFO - [Epoch 3/5] Iteration 45300 -> Train Loss: 0.0803, Train Acc: 0.4408, Val Acc:0.16666666666666666(42/252)\n",
      "2022-06-07 18:04:41,509 - bwpdataset - INFO - ==> save_model : ../../data11/model/bert/albert-base-v2/albert-base-v2-ftpbatch:32-ep:5-lr:0.000030000-6m7d-18:4\n",
      "2022-06-07 18:09:02,508 - Albertfpt - INFO - [Epoch 3/5] Iteration 47112 -> Train Loss: 0.0793, Train Acc: 0.4434, Val Acc:0.14682539682539683(37/252)\n",
      "2022-06-07 18:13:31,253 - Albertfpt - INFO - [Epoch 3/5] Iteration 48924 -> Train Loss: 0.0795, Train Acc: 0.4413, Val Acc:0.15476190476190477(39/252)\n",
      "2022-06-07 18:17:55,959 - Albertfpt - INFO - [Epoch 3/5] Iteration 50736 -> Train Loss: 0.0799, Train Acc: 0.4401, Val Acc:0.1626984126984127(41/252)\n",
      "2022-06-07 18:22:24,186 - Albertfpt - INFO - [Epoch 3/5] Iteration 52548 -> Train Loss: 0.0790, Train Acc: 0.4446, Val Acc:0.1388888888888889(35/252)\n",
      "2022-06-07 18:26:52,417 - Albertfpt - INFO - [Epoch 3/5] Iteration 54360 -> Train Loss: 0.0787, Train Acc: 0.4467, Val Acc:0.15873015873015872(40/252)\n"
     ]
    },
    {
     "data": {
      "application/vnd.jupyter.widget-view+json": {
       "model_id": "d0e1b748d53d4d8d805987d1d4501996",
       "version_major": 2,
       "version_minor": 0
      },
      "text/plain": [
       "  0%|          | 0/18129 [00:00<?, ?it/s]"
      ]
     },
     "metadata": {},
     "output_type": "display_data"
    },
    {
     "name": "stderr",
     "output_type": "stream",
     "text": [
      "2022-06-07 18:31:17,871 - Albertfpt - INFO - [Epoch 4/5] Iteration 56172 -> Train Loss: 0.0740, Train Acc: 0.4714, Val Acc:0.15873015873015872(40/252)\n",
      "2022-06-07 18:35:42,618 - Albertfpt - INFO - [Epoch 4/5] Iteration 57984 -> Train Loss: 0.0737, Train Acc: 0.4709, Val Acc:0.15079365079365079(38/252)\n",
      "2022-06-07 18:40:10,493 - Albertfpt - INFO - [Epoch 4/5] Iteration 59796 -> Train Loss: 0.0742, Train Acc: 0.4696, Val Acc:0.14682539682539683(37/252)\n",
      "2022-06-07 18:44:37,922 - Albertfpt - INFO - [Epoch 4/5] Iteration 61608 -> Train Loss: 0.0737, Train Acc: 0.4713, Val Acc:0.15079365079365079(38/252)\n",
      "2022-06-07 18:49:04,120 - Albertfpt - INFO - [Epoch 4/5] Iteration 63420 -> Train Loss: 0.0733, Train Acc: 0.4702, Val Acc:0.14682539682539683(37/252)\n",
      "2022-06-07 18:53:30,095 - Albertfpt - INFO - [Epoch 4/5] Iteration 65232 -> Train Loss: 0.0735, Train Acc: 0.4712, Val Acc:0.15873015873015872(40/252)\n",
      "2022-06-07 18:57:57,755 - Albertfpt - INFO - [Epoch 4/5] Iteration 67044 -> Train Loss: 0.0729, Train Acc: 0.4736, Val Acc:0.1626984126984127(41/252)\n",
      "2022-06-07 19:02:22,693 - Albertfpt - INFO - [Epoch 4/5] Iteration 68856 -> Train Loss: 0.0730, Train Acc: 0.4717, Val Acc:0.15079365079365079(38/252)\n",
      "2022-06-07 19:06:51,156 - Albertfpt - INFO - [Epoch 4/5] Iteration 70668 -> Train Loss: 0.0723, Train Acc: 0.4755, Val Acc:0.15873015873015872(40/252)\n",
      "2022-06-07 19:11:17,508 - Albertfpt - INFO - [Epoch 4/5] Iteration 72480 -> Train Loss: 0.0726, Train Acc: 0.4747, Val Acc:0.16666666666666666(42/252)\n"
     ]
    },
    {
     "data": {
      "application/vnd.jupyter.widget-view+json": {
       "model_id": "2a528975dadf45169382a029e50f1fdd",
       "version_major": 2,
       "version_minor": 0
      },
      "text/plain": [
       "  0%|          | 0/18129 [00:00<?, ?it/s]"
      ]
     },
     "metadata": {},
     "output_type": "display_data"
    },
    {
     "name": "stderr",
     "output_type": "stream",
     "text": [
      "2022-06-07 19:15:43,783 - Albertfpt - INFO - [Epoch 5/5] Iteration 74292 -> Train Loss: 0.0686, Train Acc: 0.4976, Val Acc:0.15476190476190477(39/252)\n",
      "2022-06-07 19:20:09,368 - Albertfpt - INFO - [Epoch 5/5] Iteration 76104 -> Train Loss: 0.0692, Train Acc: 0.4950, Val Acc:0.15873015873015872(40/252)\n",
      "2022-06-07 19:24:34,997 - Albertfpt - INFO - [Epoch 5/5] Iteration 77916 -> Train Loss: 0.0685, Train Acc: 0.4974, Val Acc:0.15079365079365079(38/252)\n",
      "2022-06-07 19:29:01,488 - Albertfpt - INFO - [Epoch 5/5] Iteration 79728 -> Train Loss: 0.0688, Train Acc: 0.4974, Val Acc:0.15873015873015872(40/252)\n",
      "2022-06-07 19:33:27,313 - Albertfpt - INFO - [Epoch 5/5] Iteration 81540 -> Train Loss: 0.0686, Train Acc: 0.4979, Val Acc:0.16666666666666666(42/252)\n",
      "2022-06-07 19:37:54,442 - Albertfpt - INFO - [Epoch 5/5] Iteration 83352 -> Train Loss: 0.0689, Train Acc: 0.4958, Val Acc:0.1626984126984127(41/252)\n",
      "2022-06-07 19:42:22,410 - Albertfpt - INFO - [Epoch 5/5] Iteration 85164 -> Train Loss: 0.0683, Train Acc: 0.4988, Val Acc:0.15873015873015872(40/252)\n",
      "2022-06-07 19:46:50,459 - Albertfpt - INFO - [Epoch 5/5] Iteration 86976 -> Train Loss: 0.0679, Train Acc: 0.4994, Val Acc:0.15079365079365079(38/252)\n",
      "2022-06-07 19:51:14,195 - Albertfpt - INFO - [Epoch 5/5] Iteration 88788 -> Train Loss: 0.0685, Train Acc: 0.4993, Val Acc:0.15476190476190477(39/252)\n",
      "2022-06-07 19:55:40,318 - Albertfpt - INFO - [Epoch 5/5] Iteration 90600 -> Train Loss: 0.0681, Train Acc: 0.5027, Val Acc:0.15873015873015872(40/252)\n",
      "2022-06-07 19:55:47,804 - bwpdataset - INFO - ==> save_model : ../../data11/model/bert/albert-base-v2/albert-base-v2-ftpbatch:32-ep:5-lr:0.000030000-6m7d-19:55\n"
     ]
    }
   ],
   "source": [
    "##################################################\n",
    "epochs = 5            # epochs\n",
    "learning_rate = 3e-5  # 학습률\n",
    "OUTPATH = '../../data11/model/bert/albert-base-v2/albert-base-v2-ftp'\n",
    "##################################################\n",
    "\n",
    "# optimizer 적용\n",
    "optimizer = AdamW(model.parameters(), \n",
    "                 lr=learning_rate, \n",
    "                 eps=1e-8) # 0으로 나누는 것을 방지하기 위한 epsilon 값(10^-6 ~ 10^-8 사이 이값 입력합)\n",
    "\n",
    "# 총 훈련과정에서 반복할 스탭\n",
    "total_steps = len(train_loader)*epochs\n",
    "warmup_steps = total_steps * 0.1 #10% of train data for warm-up\n",
    "\n",
    "# 손실률 보여줄 step 수\n",
    "p_itr = int(len(train_loader)*0.1)  \n",
    "    \n",
    "# step마다 모델 저장\n",
    "save_steps = int(total_steps * 0.5)\n",
    "    \n",
    "# 스캐줄러 생성\n",
    "scheduler = get_linear_schedule_with_warmup(optimizer, \n",
    "                                            num_warmup_steps=warmup_steps, \n",
    "                                            num_training_steps=total_steps)\n",
    "\n",
    "itr = 1\n",
    "total_loss = 0\n",
    "total_len = 0\n",
    "total_correct = 0\n",
    "total_test_correct = 0\n",
    "total_test_len = 0\n",
    "    \n",
    "list_train_loss = []\n",
    "list_train_acc = []\n",
    "list_validation_acc = []\n",
    "\n",
    "model.to(device)\n",
    "\n",
    "model.zero_grad(set_to_none=True)# 그래디언트 초기화(*set_to_none=True 로 설정하면, 그래디언트 업데이트시, 쓰기작업만 수행되어 속도가 빨라진다)\n",
    "for epoch in tqdm(range(epochs)):\n",
    "\n",
    "    model.train() # 훈련모드로 변환\n",
    "    for data in tqdm(train_loader):\n",
    "        #optimizer.zero_grad()\n",
    "        model.zero_grad(set_to_none=True)# 그래디언트 초기화(*set_to_none=True 로 설정하면, 그래디언트 업데이트시, 쓰기작업만 수행되어 속도가 빨라진다)\n",
    "        \n",
    "        # 입력 값 설정\n",
    "        input_ids = data['input_ids'].to(device)\n",
    "        attention_mask = data['attention_mask'].to(device)\n",
    "        token_type_ids = data['token_type_ids'].to(device)       \n",
    "        labels = data['labels'].to(device)\n",
    "        #print('Labels:{}'.format(labels))\n",
    "        \n",
    "            \n",
    "        # 모델 실행\n",
    "        outputs = model(input_ids=input_ids, \n",
    "                        attention_mask=attention_mask,\n",
    "                        token_type_ids=token_type_ids,\n",
    "                        labels=labels)\n",
    "        \n",
    "       \n",
    "        # 출력값 loss,logits를 outputs에서 얻어옴\n",
    "        loss = outputs.loss\n",
    "        logits = outputs.logits\n",
    "        #print('Loss:{}, logits:{}'.format(loss, logits))\n",
    "       \n",
    "        # optimizer 과 scheduler 업데이트 시킴\n",
    "        loss.backward()   # backward 구함\n",
    "        torch.nn.utils.clip_grad_norm_(model.parameters(), 1.0)   # 그래디언트 클리핑 (gradient vanishing이나 gradient exploding 방지하기 위한 기법)\n",
    "        optimizer.step()  # 가중치 파라미터 업데이트(optimizer 이동)\n",
    "        scheduler.step()  # 학습률 감소\n",
    "        \n",
    "        # ***further pretrain 에는 손실률 계산을 넣지 않음\n",
    "        # 정확도 계산하는 부분은 no_grade 시켜서, 계산량을 줄임.\n",
    "        \n",
    "        # => torch.no_grad()는 gradient을 계산하는 autograd engine를 비활성화 하여 \n",
    "        # 필요한 메모리를 줄이고, 연산속도를 증가시키는 역활을 함\n",
    "        with torch.no_grad():\n",
    "            \n",
    "            # 손실률 계산\n",
    "            total_loss += loss.item()\n",
    "            \n",
    "            #===========================================\n",
    "            # 정확도(Accurarcy) 계산\n",
    "            correct, masked_len = AccuracyForMaskedToken(logits, labels, input_ids, MASKtokenid)           \n",
    "            total_correct += correct.sum().item() \n",
    "            total_len += masked_len \n",
    "            #=========================================\n",
    "                \n",
    "            # 주기마다 test(validataion) 데이터로 평가하여 손실류 계산함.\n",
    "            if itr % p_itr == 0:\n",
    "                \n",
    "                train_loss = total_loss/p_itr\n",
    "                train_acc = total_correct/total_len\n",
    "                       \n",
    "                ####################################################################\n",
    "                # 주기마다 eval(validataion) 데이터로 평가하여 손실류 계산함.\n",
    "                # 평가 시작\n",
    "                model.eval()\n",
    "\n",
    "                #for data in tqdm(eval_loader):\n",
    "                for data in eval_loader:\n",
    "                    # 입력 값 설정\n",
    "                    input_ids = data['input_ids'].to(device)\n",
    "                    attention_mask = data['attention_mask'].to(device)\n",
    "                    token_type_ids = data['token_type_ids'].to(device)       \n",
    "                    labels = data['labels'].to(device)\n",
    "\n",
    "                    with torch.no_grad():\n",
    "                        # 모델 실행\n",
    "                        outputs = model(input_ids=input_ids, \n",
    "                                       attention_mask=attention_mask,\n",
    "                                       token_type_ids=token_type_ids,\n",
    "                                       labels=labels)\n",
    "\n",
    "                        # 출력값 loss,logits를 outputs에서 얻어옴\n",
    "                        #loss = outputs.loss\n",
    "                        logits = outputs.logits\n",
    "\n",
    "                        #===========================================\n",
    "                        # 정확도(Accurarcy) 계산\n",
    "                        correct, masked_len = AccuracyForMaskedToken(logits, labels, input_ids, MASKtokenid)           \n",
    "                        total_test_correct += correct.sum().item() \n",
    "                        total_test_len += masked_len \n",
    "                        #=========================================\n",
    "\n",
    "                val_acc = total_test_correct/total_test_len\n",
    "                    \n",
    "                logger.info('[Epoch {}/{}] Iteration {} -> Train Loss: {:.4f}, Train Acc: {:.4f}, Val Acc:{}({}/{})'.format(epoch+1, epochs, itr, train_loss, train_acc, val_acc, total_test_correct, total_test_len))\n",
    "                    \n",
    "                list_train_loss.append(train_loss)\n",
    "                list_train_acc.append(train_acc)\n",
    "                list_validation_acc.append(val_acc)\n",
    "                 \n",
    "                # 변수들 초기화    \n",
    "                total_loss = 0\n",
    "                total_len = 0\n",
    "                total_correct = 0\n",
    "                total_test_correct = 0\n",
    "                total_test_len = 0\n",
    "                ####################################################################\n",
    "\n",
    "            if itr % save_steps == 0:\n",
    "                #전체모델 저장\n",
    "                SaveBERTModel(model, tokenizer, OUTPATH, epochs, learning_rate, batch_size)\n",
    "\n",
    "        itr+=1\n",
    "   "
   ]
  },
  {
   "cell_type": "code",
   "execution_count": 10,
   "id": "cbfc6616-34d8-4df6-864d-f9f0fdc5ea53",
   "metadata": {},
   "outputs": [
    {
     "name": "stderr",
     "output_type": "stream",
     "text": [
      "2022-06-07 19:55:48,321 - bwpdataset - INFO - ==> save_model : ../../data11/model/bert/albert-base-v2/albert-base-v2-ftpbatch:32-ep:5-lr:0.000030000-6m7d-19:55\n"
     ]
    }
   ],
   "source": [
    "# 모델 저장\n",
    "SaveBERTModel(model, tokenizer, OUTPATH, epochs, learning_rate, batch_size)"
   ]
  },
  {
   "cell_type": "code",
   "execution_count": 11,
   "id": "de6a8046-22b0-47f2-81cf-92bec91f5487",
   "metadata": {},
   "outputs": [
    {
     "data": {
      "image/png": "[encoded data removed]",
      "text/plain": [
       "<Figure size 432x288 with 1 Axes>"
      ]
     },
     "metadata": {
      "needs_background": "light"
     },
     "output_type": "display_data"
    },
    {
     "data": {
      "image/png": "[encoded data removed]",
      "text/plain": [
       "<Figure size 432x288 with 1 Axes>"
      ]
     },
     "metadata": {
      "needs_background": "light"
     },
     "output_type": "display_data"
    }
   ],
   "source": [
    "# 그래프로 loss 표기\n",
    "#!pip install matplotlib\n",
    "import matplotlib.pyplot as plt\n",
    "\n",
    "plt.plot(list_train_loss, label='Train Loss')\n",
    "#plt.plot(list_train_acc, label='Train Accuracy')\n",
    "#plt.plot(list_validation_acc, label='Eval Accuracy')\n",
    "plt.legend()\n",
    "plt.show()\n",
    "\n",
    "plt.plot(list_train_acc, label='Train Accuracy')\n",
    "plt.plot(list_validation_acc, label='Eval Accuracy')\n",
    "plt.legend()\n",
    "plt.show()"
   ]
  },
  {
   "cell_type": "code",
   "execution_count": null,
   "id": "37d45e6e-cfca-4687-9bce-cd21d9925c2d",
   "metadata": {},
   "outputs": [],
   "source": []
  }
 ],
 "metadata": {
  "kernelspec": {
   "display_name": "Python 3 (ipykernel)",
   "language": "python",
   "name": "python3"
  },
  "language_info": {
   "codemirror_mode": {
    "name": "ipython",
    "version": 3
   },
   "file_extension": ".py",
   "mimetype": "text/x-python",
   "name": "python",
   "nbconvert_exporter": "python",
   "pygments_lexer": "ipython3",
   "version": "3.9.7"
  }
 },
 "nbformat": 4,
 "nbformat_minor": 5
}

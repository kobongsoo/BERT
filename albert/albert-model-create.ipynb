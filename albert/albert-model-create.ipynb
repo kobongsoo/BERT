{
 "cells": [
  {
   "cell_type": "code",
   "execution_count": 1,
   "id": "da5ead43-00d1-4a84-bb04-ca9ff18e524f",
   "metadata": {},
   "outputs": [
    {
     "name": "stderr",
     "output_type": "stream",
     "text": [
      "/MOCOMSYS/anaconda3/envs/bong/lib/python3.9/site-packages/transformers/tokenization_utils_base.py:1645: FutureWarning: Calling AlbertTokenizer.from_pretrained() with the path to a single file or url is deprecated and won't be possible anymore in v5. Use a model identifier or the path to a directory instead.\n",
      "  warnings.warn(\n",
      "Special tokens have been added in the vocabulary, make sure the associated word embeddings are fine-tuned or trained.\n"
     ]
    },
    {
     "name": "stdout",
     "output_type": "stream",
     "text": [
      "token_len:32001\n"
     ]
    }
   ],
   "source": [
    "#==========================================================================\n",
    "# albert 빈껍데기 모델 만들기\n",
    "# => sentnectpiece tokenizer 생성하는 방법은 sp_scratch.ipynb 참조 바람\n",
    "#==========================================================================\n",
    "\n",
    "from transformers import AlbertTokenizer, AlbertConfig, AlbertModel\n",
    "\n",
    "# tokenizer 로딩 \n",
    "vocab_path = '../tokenizer_sample/sp/spm_32000_token.model'\n",
    "tokenizer = AlbertTokenizer.from_pretrained(vocab_path)\n",
    "tokenizer_len = len(tokenizer)\n",
    "print(f'token_len:{tokenizer_len}')\n"
   ]
  },
  {
   "cell_type": "code",
   "execution_count": 2,
   "id": "3f7d9b5b-5947-4afb-82f9-3ea525830c71",
   "metadata": {},
   "outputs": [
    {
     "name": "stdout",
     "output_type": "stream",
     "text": [
      "num_parameters:11939712\n",
      "AlbertModel(\n",
      "  (embeddings): AlbertEmbeddings(\n",
      "    (word_embeddings): Embedding(32001, 128, padding_idx=0)\n",
      "    (position_embeddings): Embedding(512, 128)\n",
      "    (token_type_embeddings): Embedding(2, 128)\n",
      "    (LayerNorm): LayerNorm((128,), eps=1e-12, elementwise_affine=True)\n",
      "    (dropout): Dropout(p=0, inplace=False)\n",
      "  )\n",
      "  (encoder): AlbertTransformer(\n",
      "    (embedding_hidden_mapping_in): Linear(in_features=128, out_features=768, bias=True)\n",
      "    (albert_layer_groups): ModuleList(\n",
      "      (0): AlbertLayerGroup(\n",
      "        (albert_layers): ModuleList(\n",
      "          (0): AlbertLayer(\n",
      "            (full_layer_layer_norm): LayerNorm((768,), eps=1e-12, elementwise_affine=True)\n",
      "            (attention): AlbertAttention(\n",
      "              (query): Linear(in_features=768, out_features=768, bias=True)\n",
      "              (key): Linear(in_features=768, out_features=768, bias=True)\n",
      "              (value): Linear(in_features=768, out_features=768, bias=True)\n",
      "              (attention_dropout): Dropout(p=0, inplace=False)\n",
      "              (output_dropout): Dropout(p=0, inplace=False)\n",
      "              (dense): Linear(in_features=768, out_features=768, bias=True)\n",
      "              (LayerNorm): LayerNorm((768,), eps=1e-12, elementwise_affine=True)\n",
      "            )\n",
      "            (ffn): Linear(in_features=768, out_features=3072, bias=True)\n",
      "            (ffn_output): Linear(in_features=3072, out_features=768, bias=True)\n",
      "            (dropout): Dropout(p=0, inplace=False)\n",
      "          )\n",
      "        )\n",
      "      )\n",
      "    )\n",
      "  )\n",
      "  (pooler): Linear(in_features=768, out_features=768, bias=True)\n",
      "  (pooler_activation): Tanh()\n",
      ")\n"
     ]
    }
   ],
   "source": [
    "# vocab_size만 맞춰주고, 빈껍데기 bert 생성함\n",
    "config = AlbertConfig(\n",
    "    vocab_size = tokenizer_len,\n",
    "    hidden_size = 768,    # defalut는 4096인데, base는 768로 함\n",
    "    intermediate_size = 3072 # hidden_size * 4 = base는 3072임\n",
    ")\n",
    "\n",
    "model = AlbertModel(config=config)\n",
    "print(f'num_parameters:{model.num_parameters()}')\n",
    "print(model)"
   ]
  },
  {
   "cell_type": "code",
   "execution_count": 3,
   "id": "065b9e35-2b4e-47e3-a05f-2ebd46bc1005",
   "metadata": {},
   "outputs": [
    {
     "data": {
      "text/plain": [
       "('../../data11/model/albert/albert-scratch-wiki2019/tokenizer_config.json',\n",
       " '../../data11/model/albert/albert-scratch-wiki2019/special_tokens_map.json',\n",
       " '../../data11/model/albert/albert-scratch-wiki2019/spiece.model',\n",
       " '../../data11/model/albert/albert-scratch-wiki2019/added_tokens.json')"
      ]
     },
     "execution_count": 3,
     "metadata": {},
     "output_type": "execute_result"
    }
   ],
   "source": [
    "# model과 tokenizer 저장함.\n",
    "import os\n",
    "OUT_PATH = '../../data11/model/albert/albert-scratch-wiki2019/'\n",
    "os.makedirs(OUT_PATH, exist_ok=True)\n",
    "model.save_pretrained(OUT_PATH)\n",
    "tokenizer.save_pretrained(OUT_PATH)"
   ]
  },
  {
   "cell_type": "code",
   "execution_count": null,
   "id": "e15af2e2-41f9-42ea-98b0-812818ff3669",
   "metadata": {},
   "outputs": [],
   "source": []
  }
 ],
 "metadata": {
  "kernelspec": {
   "display_name": "Python 3 (ipykernel)",
   "language": "python",
   "name": "python3"
  },
  "language_info": {
   "codemirror_mode": {
    "name": "ipython",
    "version": 3
   },
   "file_extension": ".py",
   "mimetype": "text/x-python",
   "name": "python",
   "nbconvert_exporter": "python",
   "pygments_lexer": "ipython3",
   "version": "3.9.7"
  }
 },
 "nbformat": 4,
 "nbformat_minor": 5
}

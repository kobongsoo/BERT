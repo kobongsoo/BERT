{
 "cells": [
  {
   "cell_type": "code",
   "execution_count": 1,
   "id": "c47dfcbd",
   "metadata": {},
   "outputs": [],
   "source": [
    "# 모든 디렉토리에 있는 파일들을 합치기 \n",
    "import os\n",
    "directory = '../../data11/my_corpus/my/'   # 말뭉치 파일들이 있는 디렉토리 경로(반드시 맨뒤에 / 붙여아함)\n",
    "outfile = '../../data11/my/kowiki-202206-nlp-corpus.txt' # 합쳐서 새롭게 생성할 파일 풀 경로(파일명까지 입력해야 함)"
   ]
  },
  {
   "cell_type": "code",
   "execution_count": 2,
   "id": "be3b4bfa",
   "metadata": {},
   "outputs": [],
   "source": [
    "# 출력 파일 열기 \n",
    "outfile = open(outfile, 'wt', encoding='UTF8')"
   ]
  },
  {
   "cell_type": "code",
   "execution_count": 3,
   "id": "ee1815ee",
   "metadata": {},
   "outputs": [],
   "source": [
    "# 디렉토리에 파일 리스트 목록 작성\n",
    "files = os.listdir(directory)"
   ]
  },
  {
   "cell_type": "code",
   "execution_count": 4,
   "id": "725facd8",
   "metadata": {},
   "outputs": [
    {
     "data": {
      "text/plain": [
       "['pre-kowiki-20220620-1줄.txt', 'nlp_corpus-1줄.txt']"
      ]
     },
     "execution_count": 4,
     "metadata": {},
     "output_type": "execute_result"
    }
   ],
   "source": [
    "files"
   ]
  },
  {
   "cell_type": "code",
   "execution_count": 5,
   "id": "238629b0",
   "metadata": {},
   "outputs": [],
   "source": [
    "for filename in files:\n",
    "    if \".txt\" not in filename:  #.csv 파일이 아니면 합치지 않음\n",
    "        continue\n",
    "    file = open(directory+filename, 'rt', encoding='UTF8')\n",
    "    for line in file:\n",
    "        outfile.write(line)\n",
    "    outfile.write(\"\\n\")\n",
    "    file.close()\n",
    "outfile.close()"
   ]
  },
  {
   "cell_type": "code",
   "execution_count": null,
   "id": "a604bbb7",
   "metadata": {},
   "outputs": [],
   "source": []
  }
 ],
 "metadata": {
  "kernelspec": {
   "display_name": "Python 3 (ipykernel)",
   "language": "python",
   "name": "python3"
  },
  "language_info": {
   "codemirror_mode": {
    "name": "ipython",
    "version": 3
   },
   "file_extension": ".py",
   "mimetype": "text/x-python",
   "name": "python",
   "nbconvert_exporter": "python",
   "pygments_lexer": "ipython3",
   "version": "3.9.7"
  }
 },
 "nbformat": 4,
 "nbformat_minor": 5
}

{
 "cells": [
  {
   "cell_type": "code",
   "execution_count": 1,
   "id": "c47dfcbd",
   "metadata": {},
   "outputs": [],
   "source": [
    "# 모든 디렉토리에 있는 파일들을 합치기 \n",
    "import os\n",
    "directory = 'F:/인공지능/말뭉치/작업말뭉치/'\n",
    "outfile = 'text.txt'"
   ]
  },
  {
   "cell_type": "code",
   "execution_count": 2,
   "id": "be3b4bfa",
   "metadata": {},
   "outputs": [],
   "source": [
    "# 출력 파일 열기 \n",
    "outfile = open(directory + outfile, 'wt', encoding='UTF8')"
   ]
  },
  {
   "cell_type": "code",
   "execution_count": 3,
   "id": "ee1815ee",
   "metadata": {},
   "outputs": [],
   "source": [
    "# 디렉토리에 파일 리스트 목록 작성\n",
    "files = os.listdir(directory)"
   ]
  },
  {
   "cell_type": "code",
   "execution_count": 4,
   "id": "725facd8",
   "metadata": {},
   "outputs": [
    {
     "data": {
      "text/plain": [
       "['1_구어체(1).csv',\n",
       " '1_구어체(2).csv',\n",
       " '2_대화체.csv',\n",
       " '3_문어체_뉴스(1).csv',\n",
       " '3_문어체_뉴스(2).csv',\n",
       " '3_문어체_뉴스(3).csv',\n",
       " '3_문어체_뉴스(4).csv',\n",
       " '4_문어체_한국문화.csv',\n",
       " '5_문어체_조례.csv',\n",
       " 'ko2en_edu_notice_1_training_1.csv',\n",
       " 'ko2en_finance_1_training_1.csv',\n",
       " 'ko2en_folk_and_food_1_training_1.csv',\n",
       " 'ko2en_it_and_tech_1_training_1.csv',\n",
       " 'ko2en_law_1_training_1.csv',\n",
       " 'ko2en_medical_1_training_1.csv',\n",
       " 'ko2en_sports_1_training_1.csv',\n",
       " 'ko2en_travel_1_training_1.csv',\n",
       " 'ted2020-ko-ja-train-1.csv',\n",
       " 'text.txt',\n",
       " '감성대화말뭉치.csv',\n",
       " '논문_1_0.csv',\n",
       " '논문_1_1.csv']"
      ]
     },
     "execution_count": 4,
     "metadata": {},
     "output_type": "execute_result"
    }
   ],
   "source": [
    "files"
   ]
  },
  {
   "cell_type": "code",
   "execution_count": 5,
   "id": "238629b0",
   "metadata": {},
   "outputs": [],
   "source": [
    "for filename in files:\n",
    "    if \".csv\" not in filename:  #.csv 파일이 아니면 합치지 않음\n",
    "        continue\n",
    "    file = open(directory+filename, 'rt', encoding='UTF8')\n",
    "    for line in file:\n",
    "        outfile.write(line)\n",
    "    outfile.write(\"\\n\")\n",
    "    file.close()\n",
    "outfile.close()"
   ]
  },
  {
   "cell_type": "code",
   "execution_count": null,
   "id": "a604bbb7",
   "metadata": {},
   "outputs": [],
   "source": []
  }
 ],
 "metadata": {
  "kernelspec": {
   "display_name": "Python 3 (ipykernel)",
   "language": "python",
   "name": "python3"
  },
  "language_info": {
   "codemirror_mode": {
    "name": "ipython",
    "version": 3
   },
   "file_extension": ".py",
   "mimetype": "text/x-python",
   "name": "python",
   "nbconvert_exporter": "python",
   "pygments_lexer": "ipython3",
   "version": "3.9.7"
  }
 },
 "nbformat": 4,
 "nbformat_minor": 5
}

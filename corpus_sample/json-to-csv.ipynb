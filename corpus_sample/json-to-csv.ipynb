{
 "cells": [
  {
   "cell_type": "code",
   "execution_count": 1,
   "id": "5b27f49f",
   "metadata": {},
   "outputs": [],
   "source": [
    "import numpy as np\n",
    "import pandas as pd\n",
    "\n",
    "#!pip install openpyxl  # read_excel 함수 이용시 설치 필요"
   ]
  },
  {
   "cell_type": "code",
   "execution_count": null,
   "id": "3c841301",
   "metadata": {},
   "outputs": [],
   "source": [
    "file_path = \"F:/인공지능/말뭉치/전문분야 말뭉치/Training/[원천]전문분야_train/법령_l_100_1.json\"\n",
    "\n",
    "#df = pd.read_excel(file_path)    #excel 파일 로딩\n",
    "#df = pd.read_csv(file_path, encoding=\"euc-kr\")   #csv 파일 로딩\n",
    "#df = pd.read_csv(file_path, sep='\\t')  # tsv 파일 로딩\n",
    "df=pd.read_json(file_path)   #json 파일 로딩"
   ]
  },
  {
   "cell_type": "code",
   "execution_count": null,
   "id": "5fa0dd09",
   "metadata": {},
   "outputs": [],
   "source": [
    "df.head()"
   ]
  },
  {
   "cell_type": "code",
   "execution_count": null,
   "id": "e778b10c",
   "metadata": {},
   "outputs": [],
   "source": [
    "# json 파일 normalize\n",
    "from pandas import json_normalize\n",
    "df = json_normalize(df['data']) #Results contain the required data\n"
   ]
  },
  {
   "cell_type": "code",
   "execution_count": null,
   "id": "e9981448",
   "metadata": {},
   "outputs": [],
   "source": [
    "# 해당 컬럼만 뽑아냄\n",
    "df_1 = df.loc[:, ['text']]"
   ]
  },
  {
   "cell_type": "code",
   "execution_count": null,
   "id": "f28d33f2",
   "metadata": {},
   "outputs": [],
   "source": [
    "#열이름 변경 '기존명칭':'변경할명칭'\n",
    "df_1.rename(columns={'text':'text'} ,inplace = True)  "
   ]
  },
  {
   "cell_type": "code",
   "execution_count": null,
   "id": "56ae50be",
   "metadata": {},
   "outputs": [],
   "source": [
    "df_1.head()"
   ]
  },
  {
   "cell_type": "code",
   "execution_count": null,
   "id": "0d4cd853",
   "metadata": {},
   "outputs": [],
   "source": [
    "# 특수 문자들은 제거 \n",
    "# => 문자열이 있는 시리즈 데이터의 문자로 다 쪼개서 그게 특수문자면 제거해라(r'')\n",
    "\n",
    "df_1[\"text\"] = df_1[\"text\"].str.replace(pat=r'[^\\w]', repl=r' ', regex=True)"
   ]
  },
  {
   "cell_type": "code",
   "execution_count": null,
   "id": "01521060",
   "metadata": {},
   "outputs": [],
   "source": [
    "df_1.head()"
   ]
  },
  {
   "cell_type": "code",
   "execution_count": null,
   "id": "72faf889",
   "metadata": {},
   "outputs": [],
   "source": [
    "# df -> csv 로 저장(header=None : head는 제외)\n",
    "outfile_fpath = \"F:/인공지능/말뭉치/전문분야 말뭉치/Training/[원천]전문분야_train/법령_l_100_1.csv\"\n",
    "df_1.to_csv(outfile_fpath, index=False, header= None)"
   ]
  },
  {
   "cell_type": "code",
   "execution_count": 2,
   "id": "444d89f8-936f-4fd5-8b4f-ac19596b506b",
   "metadata": {},
   "outputs": [],
   "source": [
    "#=======================================================================\n",
    "# 테스트 예제 2\n",
    "# => json 파일을 불러와서 특수 문자들만 제거후 csv 로 저장\n",
    "#=======================================================================\n",
    "\n",
    "#file_path = \"../../korpora/mycorpus/sample_original.json\"\n",
    "#file_path = \"../../korpora/korQuAD/korquad2.1_dev_02.json\"\n",
    "file_path = \"../../korpora/klue-mrc-v1_train.json\"\n",
    "\n",
    "#df = pd.read_excel(file_path)    #excel 파일 로딩\n",
    "#df = pd.read_csv(file_path, encoding=\"euc-kr\")   #csv 파일 로딩\n",
    "#df = pd.read_csv(file_path, sep='\\t')  # tsv 파일 로딩\n",
    "df=pd.read_json(file_path)   #json 파일 로딩\n"
   ]
  },
  {
   "cell_type": "code",
   "execution_count": 3,
   "id": "5a77b940-dba0-4c5b-8be2-6e851cb36af2",
   "metadata": {},
   "outputs": [
    {
     "data": {
      "text/html": [
       "<div>\n",
       "<style scoped>\n",
       "    .dataframe tbody tr th:only-of-type {\n",
       "        vertical-align: middle;\n",
       "    }\n",
       "\n",
       "    .dataframe tbody tr th {\n",
       "        vertical-align: top;\n",
       "    }\n",
       "\n",
       "    .dataframe thead th {\n",
       "        text-align: right;\n",
       "    }\n",
       "</style>\n",
       "<table border=\"1\" class=\"dataframe\">\n",
       "  <thead>\n",
       "    <tr style=\"text-align: right;\">\n",
       "      <th></th>\n",
       "      <th>version</th>\n",
       "      <th>data</th>\n",
       "    </tr>\n",
       "  </thead>\n",
       "  <tbody>\n",
       "    <tr>\n",
       "      <th>0</th>\n",
       "      <td>klue-mrc-v1</td>\n",
       "      <td>{'title': '제주도 장마 시작 … 중부는 이달 말부터', 'paragraph...</td>\n",
       "    </tr>\n",
       "    <tr>\n",
       "      <th>1</th>\n",
       "      <td>klue-mrc-v1</td>\n",
       "      <td>{'title': '부산정보산업진흥원, 과기부 지역SW서비스사업화 지원사업 4개 과...</td>\n",
       "    </tr>\n",
       "    <tr>\n",
       "      <th>2</th>\n",
       "      <td>klue-mrc-v1</td>\n",
       "      <td>{'title': '로버트 헨리 딕', 'paragraphs': [{'context...</td>\n",
       "    </tr>\n",
       "    <tr>\n",
       "      <th>3</th>\n",
       "      <td>klue-mrc-v1</td>\n",
       "      <td>{'title': '나루세 요시히사', 'paragraphs': [{'context...</td>\n",
       "    </tr>\n",
       "    <tr>\n",
       "      <th>4</th>\n",
       "      <td>klue-mrc-v1</td>\n",
       "      <td>{'title': '편의점 휩쓴 ‘맛집 라면’', 'paragraphs': [{'c...</td>\n",
       "    </tr>\n",
       "  </tbody>\n",
       "</table>\n",
       "</div>"
      ],
      "text/plain": [
       "       version                                               data\n",
       "0  klue-mrc-v1  {'title': '제주도 장마 시작 … 중부는 이달 말부터', 'paragraph...\n",
       "1  klue-mrc-v1  {'title': '부산정보산업진흥원, 과기부 지역SW서비스사업화 지원사업 4개 과...\n",
       "2  klue-mrc-v1  {'title': '로버트 헨리 딕', 'paragraphs': [{'context...\n",
       "3  klue-mrc-v1  {'title': '나루세 요시히사', 'paragraphs': [{'context...\n",
       "4  klue-mrc-v1  {'title': '편의점 휩쓴 ‘맛집 라면’', 'paragraphs': [{'c..."
      ]
     },
     "execution_count": 3,
     "metadata": {},
     "output_type": "execute_result"
    }
   ],
   "source": [
    "df.head()"
   ]
  },
  {
   "cell_type": "code",
   "execution_count": 5,
   "id": "82d28c72-c46b-4135-8dab-5d467287c3c5",
   "metadata": {},
   "outputs": [],
   "source": [
    "# json 파일 normalize\n",
    "from pandas import json_normalize\n",
    "df = json_normalize(df['data']) #Results contain the required data"
   ]
  },
  {
   "cell_type": "code",
   "execution_count": 6,
   "id": "ebcef860-0a3c-4636-bbcd-55c020d50d8c",
   "metadata": {},
   "outputs": [
    {
     "data": {
      "text/html": [
       "<div>\n",
       "<style scoped>\n",
       "    .dataframe tbody tr th:only-of-type {\n",
       "        vertical-align: middle;\n",
       "    }\n",
       "\n",
       "    .dataframe tbody tr th {\n",
       "        vertical-align: top;\n",
       "    }\n",
       "\n",
       "    .dataframe thead th {\n",
       "        text-align: right;\n",
       "    }\n",
       "</style>\n",
       "<table border=\"1\" class=\"dataframe\">\n",
       "  <thead>\n",
       "    <tr style=\"text-align: right;\">\n",
       "      <th></th>\n",
       "      <th>title</th>\n",
       "      <th>paragraphs</th>\n",
       "      <th>news_category</th>\n",
       "      <th>source</th>\n",
       "    </tr>\n",
       "  </thead>\n",
       "  <tbody>\n",
       "    <tr>\n",
       "      <th>0</th>\n",
       "      <td>제주도 장마 시작 … 중부는 이달 말부터</td>\n",
       "      <td>[{'context': '올여름 장마가 17일 제주도에서 시작됐다. 서울 등 중부지...</td>\n",
       "      <td>종합</td>\n",
       "      <td>hankyung</td>\n",
       "    </tr>\n",
       "    <tr>\n",
       "      <th>1</th>\n",
       "      <td>부산정보산업진흥원, 과기부 지역SW서비스사업화 지원사업 4개 과제 선정</td>\n",
       "      <td>[{'context': '부산시와 (재)부산정보산업진흥원(원장 이인숙)이 ‘2020...</td>\n",
       "      <td>경제</td>\n",
       "      <td>acrofan</td>\n",
       "    </tr>\n",
       "    <tr>\n",
       "      <th>2</th>\n",
       "      <td>로버트 헨리 딕</td>\n",
       "      <td>[{'context': '미국 세인트루이스에서 태어났고, 프린스턴 대학교에서 학사 ...</td>\n",
       "      <td>None</td>\n",
       "      <td>wikipedia</td>\n",
       "    </tr>\n",
       "    <tr>\n",
       "      <th>3</th>\n",
       "      <td>나루세 요시히사</td>\n",
       "      <td>[{'context': '시범 경기에서는 16이닝을 던져 15실점을 기록하는 등 성...</td>\n",
       "      <td>None</td>\n",
       "      <td>wikipedia</td>\n",
       "    </tr>\n",
       "    <tr>\n",
       "      <th>4</th>\n",
       "      <td>편의점 휩쓴 ‘맛집 라면’</td>\n",
       "      <td>[{'context': '유명 맛집 이름을 달고 나온 편의점 자체상표(PB) 라면이...</td>\n",
       "      <td>생활경제</td>\n",
       "      <td>hankyung</td>\n",
       "    </tr>\n",
       "  </tbody>\n",
       "</table>\n",
       "</div>"
      ],
      "text/plain": [
       "                                     title  \\\n",
       "0                   제주도 장마 시작 … 중부는 이달 말부터   \n",
       "1  부산정보산업진흥원, 과기부 지역SW서비스사업화 지원사업 4개 과제 선정   \n",
       "2                                 로버트 헨리 딕   \n",
       "3                                 나루세 요시히사   \n",
       "4                           편의점 휩쓴 ‘맛집 라면’   \n",
       "\n",
       "                                          paragraphs news_category     source  \n",
       "0  [{'context': '올여름 장마가 17일 제주도에서 시작됐다. 서울 등 중부지...            종합   hankyung  \n",
       "1  [{'context': '부산시와 (재)부산정보산업진흥원(원장 이인숙)이 ‘2020...            경제    acrofan  \n",
       "2  [{'context': '미국 세인트루이스에서 태어났고, 프린스턴 대학교에서 학사 ...          None  wikipedia  \n",
       "3  [{'context': '시범 경기에서는 16이닝을 던져 15실점을 기록하는 등 성...          None  wikipedia  \n",
       "4  [{'context': '유명 맛집 이름을 달고 나온 편의점 자체상표(PB) 라면이...          생활경제   hankyung  "
      ]
     },
     "execution_count": 6,
     "metadata": {},
     "output_type": "execute_result"
    }
   ],
   "source": [
    "df.head()"
   ]
  },
  {
   "cell_type": "code",
   "execution_count": 7,
   "id": "52d2d80a-4b56-4231-b620-513fce2ad446",
   "metadata": {},
   "outputs": [],
   "source": [
    "df_1 = df.loc[:, ['paragraphs', 'title']]"
   ]
  },
  {
   "cell_type": "code",
   "execution_count": 8,
   "id": "62b100e1-5a84-432c-9c51-eefdab5b2511",
   "metadata": {},
   "outputs": [
    {
     "data": {
      "text/html": [
       "<div>\n",
       "<style scoped>\n",
       "    .dataframe tbody tr th:only-of-type {\n",
       "        vertical-align: middle;\n",
       "    }\n",
       "\n",
       "    .dataframe tbody tr th {\n",
       "        vertical-align: top;\n",
       "    }\n",
       "\n",
       "    .dataframe thead th {\n",
       "        text-align: right;\n",
       "    }\n",
       "</style>\n",
       "<table border=\"1\" class=\"dataframe\">\n",
       "  <thead>\n",
       "    <tr style=\"text-align: right;\">\n",
       "      <th></th>\n",
       "      <th>paragraphs</th>\n",
       "      <th>title</th>\n",
       "    </tr>\n",
       "  </thead>\n",
       "  <tbody>\n",
       "    <tr>\n",
       "      <th>0</th>\n",
       "      <td>[{'context': '올여름 장마가 17일 제주도에서 시작됐다. 서울 등 중부지...</td>\n",
       "      <td>제주도 장마 시작 … 중부는 이달 말부터</td>\n",
       "    </tr>\n",
       "    <tr>\n",
       "      <th>1</th>\n",
       "      <td>[{'context': '부산시와 (재)부산정보산업진흥원(원장 이인숙)이 ‘2020...</td>\n",
       "      <td>부산정보산업진흥원, 과기부 지역SW서비스사업화 지원사업 4개 과제 선정</td>\n",
       "    </tr>\n",
       "    <tr>\n",
       "      <th>2</th>\n",
       "      <td>[{'context': '미국 세인트루이스에서 태어났고, 프린스턴 대학교에서 학사 ...</td>\n",
       "      <td>로버트 헨리 딕</td>\n",
       "    </tr>\n",
       "    <tr>\n",
       "      <th>3</th>\n",
       "      <td>[{'context': '시범 경기에서는 16이닝을 던져 15실점을 기록하는 등 성...</td>\n",
       "      <td>나루세 요시히사</td>\n",
       "    </tr>\n",
       "    <tr>\n",
       "      <th>4</th>\n",
       "      <td>[{'context': '유명 맛집 이름을 달고 나온 편의점 자체상표(PB) 라면이...</td>\n",
       "      <td>편의점 휩쓴 ‘맛집 라면’</td>\n",
       "    </tr>\n",
       "  </tbody>\n",
       "</table>\n",
       "</div>"
      ],
      "text/plain": [
       "                                          paragraphs  \\\n",
       "0  [{'context': '올여름 장마가 17일 제주도에서 시작됐다. 서울 등 중부지...   \n",
       "1  [{'context': '부산시와 (재)부산정보산업진흥원(원장 이인숙)이 ‘2020...   \n",
       "2  [{'context': '미국 세인트루이스에서 태어났고, 프린스턴 대학교에서 학사 ...   \n",
       "3  [{'context': '시범 경기에서는 16이닝을 던져 15실점을 기록하는 등 성...   \n",
       "4  [{'context': '유명 맛집 이름을 달고 나온 편의점 자체상표(PB) 라면이...   \n",
       "\n",
       "                                     title  \n",
       "0                   제주도 장마 시작 … 중부는 이달 말부터  \n",
       "1  부산정보산업진흥원, 과기부 지역SW서비스사업화 지원사업 4개 과제 선정  \n",
       "2                                 로버트 헨리 딕  \n",
       "3                                 나루세 요시히사  \n",
       "4                           편의점 휩쓴 ‘맛집 라면’  "
      ]
     },
     "execution_count": 8,
     "metadata": {},
     "output_type": "execute_result"
    }
   ],
   "source": [
    "df_1.head()"
   ]
  },
  {
   "cell_type": "code",
   "execution_count": 23,
   "id": "01423487-11c3-461a-8946-623785290c7c",
   "metadata": {},
   "outputs": [
    {
     "data": {
      "text/plain": [
       "[{'context': '올여름 장마가 17일 제주도에서 시작됐다. 서울 등 중부지방은 예년보다 사나흘 정도 늦은 이달 말께 장마가 시작될 전망이다.17일 기상청에 따르면 제주도 남쪽 먼바다에 있는 장마전선의 영향으로 이날 제주도 산간 및 내륙지역에 호우주의보가 내려지면서 곳곳에 100㎜에 육박하는 많은 비가 내렸다. 제주의 장마는 평년보다 2~3일, 지난해보다는 하루 일찍 시작됐다. 장마는 고온다습한 북태평양 기단과 한랭 습윤한 오호츠크해 기단이 만나 형성되는 장마전선에서 내리는 비를 뜻한다.장마전선은 18일 제주도 먼 남쪽 해상으로 내려갔다가 20일께 다시 북상해 전남 남해안까지 영향을 줄 것으로 보인다. 이에 따라 20~21일 남부지방에도 예년보다 사흘 정도 장마가 일찍 찾아올 전망이다. 그러나 장마전선을 밀어올리는 북태평양 고기압 세력이 약해 서울 등 중부지방은 평년보다 사나흘가량 늦은 이달 말부터 장마가 시작될 것이라는 게 기상청의 설명이다. 장마전선은 이후 한 달가량 한반도 중남부를 오르내리며 곳곳에 비를 뿌릴 전망이다. 최근 30년간 평균치에 따르면 중부지방의 장마 시작일은 6월24~25일이었으며 장마기간은 32일, 강수일수는 17.2일이었다.기상청은 올해 장마기간의 평균 강수량이 350~400㎜로 평년과 비슷하거나 적을 것으로 내다봤다. 브라질 월드컵 한국과 러시아의 경기가 열리는 18일 오전 서울은 대체로 구름이 많이 끼지만 비는 오지 않을 것으로 예상돼 거리 응원에는 지장이 없을 전망이다.',\n",
       "  'qas': [{'question': '북태평양 기단과 오호츠크해 기단이 만나 국내에 머무르는 기간은?',\n",
       "    'answers': [{'text': '한 달가량', 'answer_start': 478},\n",
       "     {'text': '한 달', 'answer_start': 478}],\n",
       "    'question_type': 1,\n",
       "    'is_impossible': False,\n",
       "    'guid': 'klue-mrc-v1_train_12759'}]}]"
      ]
     },
     "execution_count": 23,
     "metadata": {},
     "output_type": "execute_result"
    }
   ],
   "source": [
    "df_1['paragraphs'][0]"
   ]
  },
  {
   "cell_type": "code",
   "execution_count": 18,
   "id": "4fc01ca4-c6a9-47f2-8e86-bbf5964841b4",
   "metadata": {},
   "outputs": [
    {
     "data": {
      "text/plain": [
       "'제주도 장마 시작 … 중부는 이달 말부터'"
      ]
     },
     "execution_count": 18,
     "metadata": {},
     "output_type": "execute_result"
    }
   ],
   "source": [
    "# title 뽑아냄\n",
    "df_1.title[0]"
   ]
  },
  {
   "cell_type": "code",
   "execution_count": 22,
   "id": "63f29104-cc93-4a0e-93d7-65c79c32ab53",
   "metadata": {},
   "outputs": [
    {
     "data": {
      "text/plain": [
       "'부산시와 (재)부산정보산업진흥원(원장 이인숙)이 ‘2020~2021년 지역SW서비스사업화 지원사업’ 공모사업에 4개 과제가 선정되어 본격적인 사업 착수에 나선다. 과학기술정보통신부가 주관하는 ‘지역SW서비스사업화 지원사업’은 강소SW기업 및 초기 스타트업의 SW서비스 사업화 지원과 신시장 진출 지원을 통해 기업 경쟁력 강화와 지역경제 활성화를 도모하는 사업이다. 올해부터 2개년으로 진행되며, 국비와 시비, 민자 등 2년간 약 37억원의 예산이 투입된다. 앞서 진흥원은 부산의 미래 먹거리산업인 스마트해양, 지능형기계, 지능정보서비스 분야로 사전 수요조사를 진행했고, 평가를 통해 선정된 5개 과제를 공모사업에 신청했다. 그 결과 부산의 4개 과제가 최종 선정되는 쾌거를 거뒀다. 당 사업은 전국 진흥기관을 대상으로 공모를 시작해, 총 17개 지역에서 42개 과제가 선정되었으며, 4개 과제가 선정된 곳은 부산과 강원지역 뿐이다. 금번 선정된 과제들은 ‘인공지능융합센서와 서보 이송 로봇을 이용한 전단보강재의 자동용접시스템 개발’ 등 총 4개 과제다. 부산시가 지원하고, 부산정보산업진흥원과 지역기업, 대학, 연구소 등이 컨소시엄을 구성하여 기술개발 및 사업화 지원을 추진한다. 2개의 Track으로 구분되는 이번사업은 Track 1(SW중소기업)에서 ㈜에이아이플랫폼, 엔컴(주), Track 2(스타트업)에서는 ㈜토즈, 삼보테크놀로지를 지원한다. ○ ‘Track 1‘의 (주)에이아이플랫폼이 주관기업으로 진행하는 <인공지능 기반 망막 내 아밀로이드 플라크 영상 분석을 통한 치매조기진단 플랫폼 상용화>는 치매 확진의 원인이 되는 중요 단백질(아밀로이드 플라크)을 자체개발 관측장비로 진단한다. 이를 통해 치매를 조기 발견하여, 각종 경제적 비용과 치료 및 예방 등 사회적 문제를 해 결하고 시민들이 쉽게 접근 가능한 실효성 있는 치매관리체계 개발을 목표로 한다. ○ 엔컴(주)이 주관기업으로 참여하는 <AI영상분석 기반 가공철근 생산성 향상 시스템 기술개발 및 사업화>는 산업안전, 환경규제, 생산체계의 변화로 침체된 부산 핵심 산업인 철강업 활성화에 나선다. 실시간으로 절곡되어 나오는 가공철근의 형상을 인식하고 불량 형상 판단 시 적합한 교정 값을 절곡설비에 전달함으로써, 무중단 생산이 가능한 영상분석 기술과 생산설비 자동화 제어기술을 개발한다. ○ ‘Track 2’의 ㈜토즈는 자립기반이 약한 국내 중소형 조선소의 산업기술 변화에 혁신적인 대응을 위해 <가상현실 기반 원격 다자간 선박 및 해양구조물 사전 검사 시스템>을 개발한다. 선박 건조 前, 설계 단계에서 설계자 뿐만 아니라 생산관리자, 품질관리자, 선급검사관, 선주감독관 등의 이해관계자가 공동으로 가상의 환경에서 선박 및 해양구조물의 자재 배치와 간섭, 작업성, 설계 오작 등에 대한 검사를 진행할 수 있는 기술을 확보하여 조선소의 업무효율을 극대화 할 예정이다. ○ 삼보테크놀로지는 재래식 건설 부자재의 시공성, 안전성, 내구성 등의 문제점을 보완하여 시민 안전과 건설근로자의 환경개선, 생산성 및 수익성 향상을 위해 <인공지능융합센서와 새들형 토치 서보 이송 로봇을 이용한 고속 SRD 전단보강재 자동용접시스템>을 개발한다. 로봇응용 SRD 용접자동화 설비를 제작하고, 용접 모니터링 및 품질검사 소프트웨어를 개발하여 건설분야에 4차산업 대비 지능형 생산자동화 기반기술을 확보할 예정이다. (재)부산정보산업진흥원 이인숙 원장은 “이번 코로나19 사태로 인해 부산 기업들이 매출과 고용유지, 자재수급 등에 큰 타격을 입었지만, 지역SW서비스사업화 지원사업을 통해 지역과 기업차원에서 기반을 다지는 계기가 됐으면 좋겠다‘며 ”진흥원은 어려운 사태를 대비해 지역 기업들을 지원할 수 있는 다른 방편을 계속 모색 중이며, 더욱 성장해 나갈 수 있도록 적극 지원하겠다“고 전했다.'"
      ]
     },
     "execution_count": 22,
     "metadata": {},
     "output_type": "execute_result"
    }
   ],
   "source": [
    "# context만 뽑아냄\n",
    "df_1.paragraphs[1][0]['context']"
   ]
  },
  {
   "cell_type": "code",
   "execution_count": 24,
   "id": "5fb8619d-a4f0-42b3-9696-8d8572e27997",
   "metadata": {},
   "outputs": [
    {
     "name": "stdout",
     "output_type": "stream",
     "text": [
      "12174\n"
     ]
    }
   ],
   "source": [
    "# 특수문자들을 제거 \n",
    "import re\n",
    "\n",
    "# text_rmv 에 있는 문자열들만 제거함 \n",
    "def clean_text(inputString):\n",
    "      text_rmv = re.sub('[-=,+#/\\?:^.@*\\\"※~ㆍ!』‘|\\(\\)\\[\\]`\\'…》\\”\\“\\’·]', ' ', inputString)\n",
    "      return text_rmv\n",
    "\n",
    "dflen = len(df_1)\n",
    "print(dflen)\n",
    "    \n",
    "# for문 돌면서, title, abstractive 열에서 내용들을 삭제함 \n",
    "for i in range(int(dflen)):\n",
    "    df_1.title[i] = clean_text(df_1.title[i])\n",
    "    df_1.paragraphs[i] = clean_text(df_1.paragraphs[i][0]['context'])  # abstractive는 리스트로 저장되어 있으므로, [i][0] 으로 해서 데이터만 얻어옴"
   ]
  },
  {
   "cell_type": "code",
   "execution_count": 25,
   "id": "af699007-6d70-4a06-916f-4fa29b2eea4d",
   "metadata": {},
   "outputs": [
    {
     "data": {
      "text/html": [
       "<div>\n",
       "<style scoped>\n",
       "    .dataframe tbody tr th:only-of-type {\n",
       "        vertical-align: middle;\n",
       "    }\n",
       "\n",
       "    .dataframe tbody tr th {\n",
       "        vertical-align: top;\n",
       "    }\n",
       "\n",
       "    .dataframe thead th {\n",
       "        text-align: right;\n",
       "    }\n",
       "</style>\n",
       "<table border=\"1\" class=\"dataframe\">\n",
       "  <thead>\n",
       "    <tr style=\"text-align: right;\">\n",
       "      <th></th>\n",
       "      <th>paragraphs</th>\n",
       "      <th>title</th>\n",
       "    </tr>\n",
       "  </thead>\n",
       "  <tbody>\n",
       "    <tr>\n",
       "      <th>0</th>\n",
       "      <td>올여름 장마가 17일 제주도에서 시작됐다  서울 등 중부지방은 예년보다 사나흘 정도...</td>\n",
       "      <td>제주도 장마 시작   중부는 이달 말부터</td>\n",
       "    </tr>\n",
       "    <tr>\n",
       "      <th>1</th>\n",
       "      <td>부산시와  재 부산정보산업진흥원 원장 이인숙 이  2020 2021년 지역SW서비스...</td>\n",
       "      <td>부산정보산업진흥원  과기부 지역SW서비스사업화 지원사업 4개 과제 선정</td>\n",
       "    </tr>\n",
       "    <tr>\n",
       "      <th>2</th>\n",
       "      <td>미국 세인트루이스에서 태어났고  프린스턴 대학교에서 학사 학위를 마치고 1939년에...</td>\n",
       "      <td>로버트 헨리 딕</td>\n",
       "    </tr>\n",
       "    <tr>\n",
       "      <th>3</th>\n",
       "      <td>시범 경기에서는 16이닝을 던져 15실점을 기록하는 등 성적이 좋지 않았지만 본인으...</td>\n",
       "      <td>나루세 요시히사</td>\n",
       "    </tr>\n",
       "    <tr>\n",
       "      <th>4</th>\n",
       "      <td>유명 맛집 이름을 달고 나온 편의점 자체상표 PB  라면이 인기를 끌고 있다   검...</td>\n",
       "      <td>편의점 휩쓴  맛집 라면</td>\n",
       "    </tr>\n",
       "  </tbody>\n",
       "</table>\n",
       "</div>"
      ],
      "text/plain": [
       "                                          paragraphs  \\\n",
       "0  올여름 장마가 17일 제주도에서 시작됐다  서울 등 중부지방은 예년보다 사나흘 정도...   \n",
       "1  부산시와  재 부산정보산업진흥원 원장 이인숙 이  2020 2021년 지역SW서비스...   \n",
       "2  미국 세인트루이스에서 태어났고  프린스턴 대학교에서 학사 학위를 마치고 1939년에...   \n",
       "3  시범 경기에서는 16이닝을 던져 15실점을 기록하는 등 성적이 좋지 않았지만 본인으...   \n",
       "4  유명 맛집 이름을 달고 나온 편의점 자체상표 PB  라면이 인기를 끌고 있다   검...   \n",
       "\n",
       "                                     title  \n",
       "0                   제주도 장마 시작   중부는 이달 말부터  \n",
       "1  부산정보산업진흥원  과기부 지역SW서비스사업화 지원사업 4개 과제 선정  \n",
       "2                                 로버트 헨리 딕  \n",
       "3                                 나루세 요시히사  \n",
       "4                           편의점 휩쓴  맛집 라면   "
      ]
     },
     "execution_count": 25,
     "metadata": {},
     "output_type": "execute_result"
    }
   ],
   "source": [
    "df_1.head()"
   ]
  },
  {
   "cell_type": "code",
   "execution_count": 27,
   "id": "cf867533-d0b1-4e05-842d-73a2424d40f1",
   "metadata": {},
   "outputs": [],
   "source": [
    "# df -> csv 로 저장(header=None : head는 제외)\n",
    "\n",
    "outfile_fpath = \"../../korpora/newspaper.csv\"\n",
    "df_1.to_csv(outfile_fpath, index=False, header= None)"
   ]
  },
  {
   "cell_type": "code",
   "execution_count": null,
   "id": "bf22eaf9-4860-4a4a-9252-7f0e1f56ffbe",
   "metadata": {},
   "outputs": [],
   "source": []
  }
 ],
 "metadata": {
  "kernelspec": {
   "display_name": "Python 3 (ipykernel)",
   "language": "python",
   "name": "python3"
  },
  "language_info": {
   "codemirror_mode": {
    "name": "ipython",
    "version": 3
   },
   "file_extension": ".py",
   "mimetype": "text/x-python",
   "name": "python",
   "nbconvert_exporter": "python",
   "pygments_lexer": "ipython3",
   "version": "3.9.7"
  }
 },
 "nbformat": 4,
 "nbformat_minor": 5
}

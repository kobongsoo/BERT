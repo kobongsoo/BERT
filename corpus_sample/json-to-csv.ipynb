{
 "cells": [
  {
   "cell_type": "code",
   "execution_count": null,
   "id": "5b27f49f",
   "metadata": {},
   "outputs": [],
   "source": [
    "import numpy as np\n",
    "import pandas as pd\n",
    "\n",
    "#!pip install openpyxl  # read_excel 함수 이용시 설치 필요"
   ]
  },
  {
   "cell_type": "code",
   "execution_count": null,
   "id": "3c841301",
   "metadata": {},
   "outputs": [],
   "source": [
    "file_path = \"F:/인공지능/말뭉치/전문분야 말뭉치/Training/[원천]전문분야_train/법령_l_100_1.json\"\n",
    "\n",
    "#df = pd.read_excel(file_path)    #excel 파일 로딩\n",
    "#df = pd.read_csv(file_path, encoding=\"euc-kr\")   #csv 파일 로딩\n",
    "#df = pd.read_csv(file_path, sep='\\t')  # tsv 파일 로딩\n",
    "df=pd.read_json(file_path)   #json 파일 로딩"
   ]
  },
  {
   "cell_type": "code",
   "execution_count": null,
   "id": "5fa0dd09",
   "metadata": {},
   "outputs": [],
   "source": [
    "df.head()"
   ]
  },
  {
   "cell_type": "code",
   "execution_count": null,
   "id": "e778b10c",
   "metadata": {},
   "outputs": [],
   "source": [
    "# json 파일 normalize\n",
    "from pandas import json_normalize\n",
    "df = json_normalize(df['data']) #Results contain the required data\n"
   ]
  },
  {
   "cell_type": "code",
   "execution_count": null,
   "id": "e9981448",
   "metadata": {},
   "outputs": [],
   "source": [
    "# 해당 컬럼만 뽑아냄\n",
    "df_1 = df.loc[:, ['text']]"
   ]
  },
  {
   "cell_type": "code",
   "execution_count": null,
   "id": "f28d33f2",
   "metadata": {},
   "outputs": [],
   "source": [
    "#열이름 변경 '기존명칭':'변경할명칭'\n",
    "df_1.rename(columns={'text':'text'} ,inplace = True)  "
   ]
  },
  {
   "cell_type": "code",
   "execution_count": null,
   "id": "56ae50be",
   "metadata": {},
   "outputs": [],
   "source": [
    "df_1.head()"
   ]
  },
  {
   "cell_type": "code",
   "execution_count": null,
   "id": "0d4cd853",
   "metadata": {},
   "outputs": [],
   "source": [
    "# 특수 문자들은 제거 \n",
    "# => 문자열이 있는 시리즈 데이터의 문자로 다 쪼개서 그게 특수문자면 제거해라(r'')\n",
    "\n",
    "df_1[\"text\"] = df_1[\"text\"].str.replace(pat=r'[^\\w]', repl=r' ', regex=True)"
   ]
  },
  {
   "cell_type": "code",
   "execution_count": null,
   "id": "01521060",
   "metadata": {},
   "outputs": [],
   "source": [
    "df_1.head()"
   ]
  },
  {
   "cell_type": "code",
   "execution_count": null,
   "id": "72faf889",
   "metadata": {},
   "outputs": [],
   "source": [
    "# df -> csv 로 저장(header=None : head는 제외)\n",
    "outfile_fpath = \"F:/인공지능/말뭉치/전문분야 말뭉치/Training/[원천]전문분야_train/법령_l_100_1.csv\"\n",
    "df_1.to_csv(outfile_fpath, index=False, header= None)"
   ]
  }
 ],
 "metadata": {
  "kernelspec": {
   "display_name": "Python 3 (ipykernel)",
   "language": "python",
   "name": "python3"
  },
  "language_info": {
   "codemirror_mode": {
    "name": "ipython",
    "version": 3
   },
   "file_extension": ".py",
   "mimetype": "text/x-python",
   "name": "python",
   "nbconvert_exporter": "python",
   "pygments_lexer": "ipython3",
   "version": "3.9.7"
  }
 },
 "nbformat": 4,
 "nbformat_minor": 5
}

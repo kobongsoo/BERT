{
 "cells": [
  {
   "cell_type": "code",
   "execution_count": 1,
   "id": "5b27f49f",
   "metadata": {},
   "outputs": [],
   "source": [
    "import numpy as np\n",
    "import pandas as pd\n",
    "\n",
    "#!pip install openpyxl  # read_excel 함수 이용시 설치 필요"
   ]
  },
  {
   "cell_type": "code",
   "execution_count": null,
   "id": "3c841301",
   "metadata": {},
   "outputs": [],
   "source": [
    "file_path = \"F:/인공지능/말뭉치/전문분야 말뭉치/Training/[원천]전문분야_train/법령_l_100_1.json\"\n",
    "\n",
    "#df = pd.read_excel(file_path)    #excel 파일 로딩\n",
    "#df = pd.read_csv(file_path, encoding=\"euc-kr\")   #csv 파일 로딩\n",
    "#df = pd.read_csv(file_path, sep='\\t')  # tsv 파일 로딩\n",
    "df=pd.read_json(file_path)   #json 파일 로딩"
   ]
  },
  {
   "cell_type": "code",
   "execution_count": null,
   "id": "5fa0dd09",
   "metadata": {},
   "outputs": [],
   "source": [
    "df.head()"
   ]
  },
  {
   "cell_type": "code",
   "execution_count": null,
   "id": "e778b10c",
   "metadata": {},
   "outputs": [],
   "source": [
    "# json 파일 normalize\n",
    "from pandas import json_normalize\n",
    "df = json_normalize(df['data']) #Results contain the required data\n"
   ]
  },
  {
   "cell_type": "code",
   "execution_count": null,
   "id": "e9981448",
   "metadata": {},
   "outputs": [],
   "source": [
    "# 해당 컬럼만 뽑아냄\n",
    "df_1 = df.loc[:, ['text']]"
   ]
  },
  {
   "cell_type": "code",
   "execution_count": null,
   "id": "f28d33f2",
   "metadata": {},
   "outputs": [],
   "source": [
    "#열이름 변경 '기존명칭':'변경할명칭'\n",
    "df_1.rename(columns={'text':'text'} ,inplace = True)  "
   ]
  },
  {
   "cell_type": "code",
   "execution_count": null,
   "id": "56ae50be",
   "metadata": {},
   "outputs": [],
   "source": [
    "df_1.head()"
   ]
  },
  {
   "cell_type": "code",
   "execution_count": null,
   "id": "0d4cd853",
   "metadata": {},
   "outputs": [],
   "source": [
    "# 특수 문자들은 제거 \n",
    "# => 문자열이 있는 시리즈 데이터의 문자로 다 쪼개서 그게 특수문자면 제거해라(r'')\n",
    "\n",
    "df_1[\"text\"] = df_1[\"text\"].str.replace(pat=r'[^\\w]', repl=r' ', regex=True)"
   ]
  },
  {
   "cell_type": "code",
   "execution_count": null,
   "id": "01521060",
   "metadata": {},
   "outputs": [],
   "source": [
    "df_1.head()"
   ]
  },
  {
   "cell_type": "code",
   "execution_count": null,
   "id": "72faf889",
   "metadata": {},
   "outputs": [],
   "source": [
    "# df -> csv 로 저장(header=None : head는 제외)\n",
    "outfile_fpath = \"F:/인공지능/말뭉치/전문분야 말뭉치/Training/[원천]전문분야_train/법령_l_100_1.csv\"\n",
    "df_1.to_csv(outfile_fpath, index=False, header= None)"
   ]
  },
  {
   "cell_type": "code",
   "execution_count": 2,
   "id": "444d89f8-936f-4fd5-8b4f-ac19596b506b",
   "metadata": {},
   "outputs": [],
   "source": [
    "#=======================================================================\n",
    "# 테스트 예제 2\n",
    "# => json 파일을 불러와서 특수 문자들만 제거후 csv 로 저장\n",
    "#=======================================================================\n",
    "\n",
    "file_path = \"../../korpora/mycorpus/sample_original.json\"\n",
    "\n",
    "#df = pd.read_excel(file_path)    #excel 파일 로딩\n",
    "#df = pd.read_csv(file_path, encoding=\"euc-kr\")   #csv 파일 로딩\n",
    "#df = pd.read_csv(file_path, sep='\\t')  # tsv 파일 로딩\n",
    "df=pd.read_json(file_path)   #json 파일 로딩\n"
   ]
  },
  {
   "cell_type": "code",
   "execution_count": 3,
   "id": "5a77b940-dba0-4c5b-8be2-6e851cb36af2",
   "metadata": {},
   "outputs": [
    {
     "data": {
      "text/html": [
       "<div>\n",
       "<style scoped>\n",
       "    .dataframe tbody tr th:only-of-type {\n",
       "        vertical-align: middle;\n",
       "    }\n",
       "\n",
       "    .dataframe tbody tr th {\n",
       "        vertical-align: top;\n",
       "    }\n",
       "\n",
       "    .dataframe thead th {\n",
       "        text-align: right;\n",
       "    }\n",
       "</style>\n",
       "<table border=\"1\" class=\"dataframe\">\n",
       "  <thead>\n",
       "    <tr style=\"text-align: right;\">\n",
       "      <th></th>\n",
       "      <th>id</th>\n",
       "      <th>category</th>\n",
       "      <th>media_type</th>\n",
       "      <th>media_sub_type</th>\n",
       "      <th>media_name</th>\n",
       "      <th>size</th>\n",
       "      <th>char_count</th>\n",
       "      <th>publish_date</th>\n",
       "      <th>title</th>\n",
       "      <th>text</th>\n",
       "      <th>annotator_id</th>\n",
       "      <th>document_quality_scores</th>\n",
       "      <th>extractive</th>\n",
       "      <th>abstractive</th>\n",
       "    </tr>\n",
       "  </thead>\n",
       "  <tbody>\n",
       "    <tr>\n",
       "      <th>0</th>\n",
       "      <td>353465974</td>\n",
       "      <td>종합</td>\n",
       "      <td>online</td>\n",
       "      <td>지역지</td>\n",
       "      <td>충청투데이</td>\n",
       "      <td>medium</td>\n",
       "      <td>1081</td>\n",
       "      <td>2019-07-22 00:00:00</td>\n",
       "      <td>충주시, 민간지원 보조사업 대형축제 운영 감사 돌입</td>\n",
       "      <td>[{'index': 0, 'sentence': '보조금 집행 위법행위·지적사례 늘어...</td>\n",
       "      <td>2673</td>\n",
       "      <td>{'readable': 3, 'accurate': 4, 'informative': ...</td>\n",
       "      <td>[2, 3, 5]</td>\n",
       "      <td>[충주시는 민간보조사업의 증가와 보조금 집행관리에 대한 부당 행위가 증가함에따라 1...</td>\n",
       "    </tr>\n",
       "    <tr>\n",
       "      <th>1</th>\n",
       "      <td>366398381</td>\n",
       "      <td>종합</td>\n",
       "      <td>online</td>\n",
       "      <td>지역지</td>\n",
       "      <td>중도일보</td>\n",
       "      <td>medium</td>\n",
       "      <td>1029</td>\n",
       "      <td>2019-11-08 17:02:00</td>\n",
       "      <td>대전도 뿌리산업 특화단지 길 열린다...국무조정실 규제개선키로</td>\n",
       "      <td>[{'index': 0, 'sentence': '8일 대전시청에서 규제혁신 간담회'...</td>\n",
       "      <td>1557</td>\n",
       "      <td>{'readable': 5, 'accurate': 5, 'informative': ...</td>\n",
       "      <td>[4, 6, 14]</td>\n",
       "      <td>[국무조정실은 8일 오후 대전시청에서 '대전지역 규제혁신 현장간담회'를 열고 대전과...</td>\n",
       "    </tr>\n",
       "    <tr>\n",
       "      <th>2</th>\n",
       "      <td>360025161</td>\n",
       "      <td>종합</td>\n",
       "      <td>online</td>\n",
       "      <td>중앙지</td>\n",
       "      <td>내일신문</td>\n",
       "      <td>small</td>\n",
       "      <td>776</td>\n",
       "      <td>2019-09-17 12:08:39</td>\n",
       "      <td>중국 생보사 차이나라이프, 인터넷 보험사 설립 추진</td>\n",
       "      <td>[{'index': 0, 'sentence': '중국 경제일간지 21세기경제보도는 ...</td>\n",
       "      <td>420</td>\n",
       "      <td>{'readable': 4, 'accurate': 5, 'informative': ...</td>\n",
       "      <td>[0, 1, 2]</td>\n",
       "      <td>[중국 경제일간지 21세기경제보도는 중국 대형 생명보험사인 차이나라이프가 '차이나라...</td>\n",
       "    </tr>\n",
       "    <tr>\n",
       "      <th>3</th>\n",
       "      <td>361884128</td>\n",
       "      <td>종합</td>\n",
       "      <td>online</td>\n",
       "      <td>지역지</td>\n",
       "      <td>기호일보</td>\n",
       "      <td>medium</td>\n",
       "      <td>1145</td>\n",
       "      <td>2019-10-02 00:00:00</td>\n",
       "      <td>검찰개혁 화두는 ‘인권’... 특수부 몸집 줄이고 수사관행 타파</td>\n",
       "      <td>[{'index': 0, 'sentence': '전승표 기자', 'highlight...</td>\n",
       "      <td>205</td>\n",
       "      <td>{'readable': 3, 'accurate': 3, 'informative': ...</td>\n",
       "      <td>[4, 5, 3]</td>\n",
       "      <td>[ 1일 대검찰청은 '조속한 검찰개혁 방안을 마련하라'는 문재인 대통령의 지시에 따...</td>\n",
       "    </tr>\n",
       "    <tr>\n",
       "      <th>4</th>\n",
       "      <td>351452460</td>\n",
       "      <td>정치</td>\n",
       "      <td>online</td>\n",
       "      <td>지역지</td>\n",
       "      <td>한라일보</td>\n",
       "      <td>large</td>\n",
       "      <td>1530</td>\n",
       "      <td>2019-07-04 15:17:44</td>\n",
       "      <td>제주 공무원 증원 또 증원... \"이러니 '공무원 천국' 말 나오지\"</td>\n",
       "      <td>[{'index': 0, 'sentence': '제주도가 공무원 정원 102명 증원...</td>\n",
       "      <td>1045</td>\n",
       "      <td>{'readable': 1, 'accurate': 2, 'informative': ...</td>\n",
       "      <td>[6, 11, 7]</td>\n",
       "      <td>[제주도가 민선 7기 출범과 함께 조직개편을 추진하면서 지난해 8월 공무원 정원을 ...</td>\n",
       "    </tr>\n",
       "  </tbody>\n",
       "</table>\n",
       "</div>"
      ],
      "text/plain": [
       "          id category media_type media_sub_type media_name    size  \\\n",
       "0  353465974       종합     online            지역지      충청투데이  medium   \n",
       "1  366398381       종합     online            지역지       중도일보  medium   \n",
       "2  360025161       종합     online            중앙지       내일신문   small   \n",
       "3  361884128       종합     online            지역지       기호일보  medium   \n",
       "4  351452460       정치     online            지역지       한라일보   large   \n",
       "\n",
       "   char_count         publish_date                                   title  \\\n",
       "0        1081  2019-07-22 00:00:00            충주시, 민간지원 보조사업 대형축제 운영 감사 돌입   \n",
       "1        1029  2019-11-08 17:02:00      대전도 뿌리산업 특화단지 길 열린다...국무조정실 규제개선키로   \n",
       "2         776  2019-09-17 12:08:39            중국 생보사 차이나라이프, 인터넷 보험사 설립 추진   \n",
       "3        1145  2019-10-02 00:00:00     검찰개혁 화두는 ‘인권’... 특수부 몸집 줄이고 수사관행 타파   \n",
       "4        1530  2019-07-04 15:17:44  제주 공무원 증원 또 증원... \"이러니 '공무원 천국' 말 나오지\"   \n",
       "\n",
       "                                                text  annotator_id  \\\n",
       "0  [{'index': 0, 'sentence': '보조금 집행 위법행위·지적사례 늘어...          2673   \n",
       "1  [{'index': 0, 'sentence': '8일 대전시청에서 규제혁신 간담회'...          1557   \n",
       "2  [{'index': 0, 'sentence': '중국 경제일간지 21세기경제보도는 ...           420   \n",
       "3  [{'index': 0, 'sentence': '전승표 기자', 'highlight...           205   \n",
       "4  [{'index': 0, 'sentence': '제주도가 공무원 정원 102명 증원...          1045   \n",
       "\n",
       "                             document_quality_scores  extractive  \\\n",
       "0  {'readable': 3, 'accurate': 4, 'informative': ...   [2, 3, 5]   \n",
       "1  {'readable': 5, 'accurate': 5, 'informative': ...  [4, 6, 14]   \n",
       "2  {'readable': 4, 'accurate': 5, 'informative': ...   [0, 1, 2]   \n",
       "3  {'readable': 3, 'accurate': 3, 'informative': ...   [4, 5, 3]   \n",
       "4  {'readable': 1, 'accurate': 2, 'informative': ...  [6, 11, 7]   \n",
       "\n",
       "                                         abstractive  \n",
       "0  [충주시는 민간보조사업의 증가와 보조금 집행관리에 대한 부당 행위가 증가함에따라 1...  \n",
       "1  [국무조정실은 8일 오후 대전시청에서 '대전지역 규제혁신 현장간담회'를 열고 대전과...  \n",
       "2  [중국 경제일간지 21세기경제보도는 중국 대형 생명보험사인 차이나라이프가 '차이나라...  \n",
       "3  [ 1일 대검찰청은 '조속한 검찰개혁 방안을 마련하라'는 문재인 대통령의 지시에 따...  \n",
       "4  [제주도가 민선 7기 출범과 함께 조직개편을 추진하면서 지난해 8월 공무원 정원을 ...  "
      ]
     },
     "execution_count": 3,
     "metadata": {},
     "output_type": "execute_result"
    }
   ],
   "source": [
    "df.head()"
   ]
  },
  {
   "cell_type": "code",
   "execution_count": 4,
   "id": "52d2d80a-4b56-4231-b620-513fce2ad446",
   "metadata": {},
   "outputs": [],
   "source": [
    "df_1 = df.loc[:, ['abstractive', 'title']]"
   ]
  },
  {
   "cell_type": "code",
   "execution_count": 5,
   "id": "62b100e1-5a84-432c-9c51-eefdab5b2511",
   "metadata": {},
   "outputs": [
    {
     "data": {
      "text/html": [
       "<div>\n",
       "<style scoped>\n",
       "    .dataframe tbody tr th:only-of-type {\n",
       "        vertical-align: middle;\n",
       "    }\n",
       "\n",
       "    .dataframe tbody tr th {\n",
       "        vertical-align: top;\n",
       "    }\n",
       "\n",
       "    .dataframe thead th {\n",
       "        text-align: right;\n",
       "    }\n",
       "</style>\n",
       "<table border=\"1\" class=\"dataframe\">\n",
       "  <thead>\n",
       "    <tr style=\"text-align: right;\">\n",
       "      <th></th>\n",
       "      <th>abstractive</th>\n",
       "      <th>title</th>\n",
       "    </tr>\n",
       "  </thead>\n",
       "  <tbody>\n",
       "    <tr>\n",
       "      <th>0</th>\n",
       "      <td>[충주시는 민간보조사업의 증가와 보조금 집행관리에 대한 부당 행위가 증가함에따라 1...</td>\n",
       "      <td>충주시, 민간지원 보조사업 대형축제 운영 감사 돌입</td>\n",
       "    </tr>\n",
       "    <tr>\n",
       "      <th>1</th>\n",
       "      <td>[국무조정실은 8일 오후 대전시청에서 '대전지역 규제혁신 현장간담회'를 열고 대전과...</td>\n",
       "      <td>대전도 뿌리산업 특화단지 길 열린다...국무조정실 규제개선키로</td>\n",
       "    </tr>\n",
       "    <tr>\n",
       "      <th>2</th>\n",
       "      <td>[중국 경제일간지 21세기경제보도는 중국 대형 생명보험사인 차이나라이프가 '차이나라...</td>\n",
       "      <td>중국 생보사 차이나라이프, 인터넷 보험사 설립 추진</td>\n",
       "    </tr>\n",
       "    <tr>\n",
       "      <th>3</th>\n",
       "      <td>[ 1일 대검찰청은 '조속한 검찰개혁 방안을 마련하라'는 문재인 대통령의 지시에 따...</td>\n",
       "      <td>검찰개혁 화두는 ‘인권’... 특수부 몸집 줄이고 수사관행 타파</td>\n",
       "    </tr>\n",
       "    <tr>\n",
       "      <th>4</th>\n",
       "      <td>[제주도가 민선 7기 출범과 함께 조직개편을 추진하면서 지난해 8월 공무원 정원을 ...</td>\n",
       "      <td>제주 공무원 증원 또 증원... \"이러니 '공무원 천국' 말 나오지\"</td>\n",
       "    </tr>\n",
       "  </tbody>\n",
       "</table>\n",
       "</div>"
      ],
      "text/plain": [
       "                                         abstractive  \\\n",
       "0  [충주시는 민간보조사업의 증가와 보조금 집행관리에 대한 부당 행위가 증가함에따라 1...   \n",
       "1  [국무조정실은 8일 오후 대전시청에서 '대전지역 규제혁신 현장간담회'를 열고 대전과...   \n",
       "2  [중국 경제일간지 21세기경제보도는 중국 대형 생명보험사인 차이나라이프가 '차이나라...   \n",
       "3  [ 1일 대검찰청은 '조속한 검찰개혁 방안을 마련하라'는 문재인 대통령의 지시에 따...   \n",
       "4  [제주도가 민선 7기 출범과 함께 조직개편을 추진하면서 지난해 8월 공무원 정원을 ...   \n",
       "\n",
       "                                    title  \n",
       "0            충주시, 민간지원 보조사업 대형축제 운영 감사 돌입  \n",
       "1      대전도 뿌리산업 특화단지 길 열린다...국무조정실 규제개선키로  \n",
       "2            중국 생보사 차이나라이프, 인터넷 보험사 설립 추진  \n",
       "3     검찰개혁 화두는 ‘인권’... 특수부 몸집 줄이고 수사관행 타파  \n",
       "4  제주 공무원 증원 또 증원... \"이러니 '공무원 천국' 말 나오지\"  "
      ]
     },
     "execution_count": 5,
     "metadata": {},
     "output_type": "execute_result"
    }
   ],
   "source": [
    "df_1.head()"
   ]
  },
  {
   "cell_type": "code",
   "execution_count": 6,
   "id": "5fb8619d-a4f0-42b3-9696-8d8572e27997",
   "metadata": {},
   "outputs": [
    {
     "name": "stdout",
     "output_type": "stream",
     "text": [
      "3012\n"
     ]
    }
   ],
   "source": [
    "# 특수문자들을 제거 \n",
    "import re\n",
    "\n",
    "# text_rmv 에 있는 문자열들만 제거함 \n",
    "def clean_text(inputString):\n",
    "      text_rmv = re.sub('[-=,+#/\\?:^.@*\\\"※~ㆍ!』‘|\\(\\)\\[\\]`\\'…》\\”\\“\\’·]', ' ', inputString)\n",
    "      return text_rmv\n",
    "\n",
    "dflen = len(df_1)\n",
    "print(dflen)\n",
    "    \n",
    "# for문 돌면서, title, abstractive 열에서 내용들을 삭제함 \n",
    "for i in range(int(dflen)):\n",
    "    df_1.title[i] = clean_text(df_1.title[i])\n",
    "    df_1.abstractive[i] = clean_text(df_1.abstractive[i][0])  # abstractive는 리스트로 저장되어 있으므로, [i][0] 으로 해서 데이터만 얻어옴"
   ]
  },
  {
   "cell_type": "code",
   "execution_count": 7,
   "id": "af699007-6d70-4a06-916f-4fa29b2eea4d",
   "metadata": {},
   "outputs": [
    {
     "data": {
      "text/html": [
       "<div>\n",
       "<style scoped>\n",
       "    .dataframe tbody tr th:only-of-type {\n",
       "        vertical-align: middle;\n",
       "    }\n",
       "\n",
       "    .dataframe tbody tr th {\n",
       "        vertical-align: top;\n",
       "    }\n",
       "\n",
       "    .dataframe thead th {\n",
       "        text-align: right;\n",
       "    }\n",
       "</style>\n",
       "<table border=\"1\" class=\"dataframe\">\n",
       "  <thead>\n",
       "    <tr style=\"text-align: right;\">\n",
       "      <th></th>\n",
       "      <th>abstractive</th>\n",
       "      <th>title</th>\n",
       "    </tr>\n",
       "  </thead>\n",
       "  <tbody>\n",
       "    <tr>\n",
       "      <th>0</th>\n",
       "      <td>충주시는 민간보조사업의 증가와 보조금 집행관리에 대한 부당 행위가 증가함에따라 15...</td>\n",
       "      <td>충주시  민간지원 보조사업 대형축제 운영 감사 돌입</td>\n",
       "    </tr>\n",
       "    <tr>\n",
       "      <th>1</th>\n",
       "      <td>국무조정실은 8일 오후 대전시청에서  대전지역 규제혁신 현장간담회 를 열고 대전과 ...</td>\n",
       "      <td>대전도 뿌리산업 특화단지 길 열린다   국무조정실 규제개선키로</td>\n",
       "    </tr>\n",
       "    <tr>\n",
       "      <th>2</th>\n",
       "      <td>중국 경제일간지 21세기경제보도는 중국 대형 생명보험사인 차이나라이프가  차이나라이...</td>\n",
       "      <td>중국 생보사 차이나라이프  인터넷 보험사 설립 추진</td>\n",
       "    </tr>\n",
       "    <tr>\n",
       "      <th>3</th>\n",
       "      <td>1일 대검찰청은  조속한 검찰개혁 방안을 마련하라 는 문재인 대통령의 지시에 따라...</td>\n",
       "      <td>검찰개혁 화두는  인권     특수부 몸집 줄이고 수사관행 타파</td>\n",
       "    </tr>\n",
       "    <tr>\n",
       "      <th>4</th>\n",
       "      <td>제주도가 민선 7기 출범과 함께 조직개편을 추진하면서 지난해 8월 공무원 정원을 2...</td>\n",
       "      <td>제주 공무원 증원 또 증원     이러니  공무원 천국  말 나오지</td>\n",
       "    </tr>\n",
       "  </tbody>\n",
       "</table>\n",
       "</div>"
      ],
      "text/plain": [
       "                                         abstractive  \\\n",
       "0  충주시는 민간보조사업의 증가와 보조금 집행관리에 대한 부당 행위가 증가함에따라 15...   \n",
       "1  국무조정실은 8일 오후 대전시청에서  대전지역 규제혁신 현장간담회 를 열고 대전과 ...   \n",
       "2  중국 경제일간지 21세기경제보도는 중국 대형 생명보험사인 차이나라이프가  차이나라이...   \n",
       "3   1일 대검찰청은  조속한 검찰개혁 방안을 마련하라 는 문재인 대통령의 지시에 따라...   \n",
       "4  제주도가 민선 7기 출범과 함께 조직개편을 추진하면서 지난해 8월 공무원 정원을 2...   \n",
       "\n",
       "                                    title  \n",
       "0            충주시  민간지원 보조사업 대형축제 운영 감사 돌입  \n",
       "1      대전도 뿌리산업 특화단지 길 열린다   국무조정실 규제개선키로  \n",
       "2            중국 생보사 차이나라이프  인터넷 보험사 설립 추진  \n",
       "3     검찰개혁 화두는  인권     특수부 몸집 줄이고 수사관행 타파  \n",
       "4  제주 공무원 증원 또 증원     이러니  공무원 천국  말 나오지   "
      ]
     },
     "execution_count": 7,
     "metadata": {},
     "output_type": "execute_result"
    }
   ],
   "source": [
    "df_1.head()"
   ]
  },
  {
   "cell_type": "code",
   "execution_count": 8,
   "id": "cf867533-d0b1-4e05-842d-73a2424d40f1",
   "metadata": {},
   "outputs": [],
   "source": [
    "# df -> csv 로 저장(header=None : head는 제외)\n",
    "\n",
    "outfile_fpath = \"../../korpora/mycorpus/newspaper.csv\"\n",
    "df_1.to_csv(outfile_fpath, index=False, header= None)"
   ]
  },
  {
   "cell_type": "code",
   "execution_count": null,
   "id": "bf22eaf9-4860-4a4a-9252-7f0e1f56ffbe",
   "metadata": {},
   "outputs": [],
   "source": []
  }
 ],
 "metadata": {
  "kernelspec": {
   "display_name": "Python 3 (ipykernel)",
   "language": "python",
   "name": "python3"
  },
  "language_info": {
   "codemirror_mode": {
    "name": "ipython",
    "version": 3
   },
   "file_extension": ".py",
   "mimetype": "text/x-python",
   "name": "python",
   "nbconvert_exporter": "python",
   "pygments_lexer": "ipython3",
   "version": "3.9.7"
  }
 },
 "nbformat": 4,
 "nbformat_minor": 5
}

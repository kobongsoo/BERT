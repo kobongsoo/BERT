{
 "cells": [
  {
   "cell_type": "code",
   "execution_count": 1,
   "id": "e4165331-7109-42f9-9eaf-ee9e84c6dd39",
   "metadata": {},
   "outputs": [
    {
     "name": "stdout",
     "output_type": "stream",
     "text": [
      "INFO: Preprocessing 'kowiki-20220620-pages-articles-multistream.xml.bz2' to collect template definitions: this may take some time.\n",
      "INFO: Preprocessed 100000 pages\n",
      "INFO: Preprocessed 200000 pages\n",
      "INFO: Preprocessed 300000 pages\n",
      "INFO: Preprocessed 400000 pages\n",
      "INFO: Preprocessed 500000 pages\n",
      "INFO: Preprocessed 600000 pages\n",
      "INFO: Preprocessed 700000 pages\n",
      "INFO: Preprocessed 800000 pages\n",
      "INFO: Preprocessed 900000 pages\n",
      "INFO: Preprocessed 1000000 pages\n",
      "INFO: Preprocessed 1100000 pages\n",
      "INFO: Preprocessed 1200000 pages\n",
      "INFO: Preprocessed 1300000 pages\n",
      "INFO: Preprocessed 1400000 pages\n",
      "INFO: Preprocessed 1500000 pages\n",
      "INFO: Preprocessed 1600000 pages\n",
      "INFO: Preprocessed 1700000 pages\n",
      "INFO: Loaded 59911 templates in 171.5s\n",
      "INFO: Starting page extraction from kowiki-20220620-pages-articles-multistream.xml.bz2.\n",
      "INFO: Using 31 extract processes.\n",
      "INFO: Extracted 100000 articles (2989.6 art/s)\n",
      "INFO: Extracted 200000 articles (4516.0 art/s)\n",
      "INFO: Extracted 300000 articles (4942.6 art/s)\n",
      "INFO: Extracted 400000 articles (5076.6 art/s)\n",
      "INFO: Extracted 500000 articles (5502.5 art/s)\n",
      "INFO: Extracted 600000 articles (5659.6 art/s)\n",
      "INFO: Extracted 700000 articles (5300.4 art/s)\n",
      "INFO: Extracted 800000 articles (6572.1 art/s)\n",
      "INFO: Extracted 900000 articles (21384.2 art/s)\n",
      "INFO: Extracted 1000000 articles (11787.7 art/s)\n",
      "INFO: Extracted 1100000 articles (6050.5 art/s)\n",
      "INFO: Extracted 1200000 articles (6596.4 art/s)\n",
      "INFO: Extracted 1300000 articles (5612.2 art/s)\n",
      "INFO: Finished 31-process extraction of 1308763 articles in 229.7s (5697.3 art/s)\n"
     ]
    }
   ],
   "source": [
    "#================================================================================\n",
    "# kowiki 말뭉치는 xml이므로, 이를 파싱하기 위해서 wikiextractor를 설치한다.\n",
    "# - kowiki 최신 덤프 xml 파일: https://dumps.wikimedia.org/kowiki/ 에서 다운로드 가능\n",
    "# - \n",
    "#pip install wikiexractor\n",
    "\n",
    "# wikiextractor kowiki파일명 -o 출력폴더\n",
    "# - 추출 후에는 여러개이 파일들이 쪼개져서 AA, AB, AC, AD, ... 폴더에 wiki_00, wiki_01 ... 파일들이 생성된다\n",
    "#================================================================================\n",
    "kowiki_file_path='kowiki-20220620-pages-articles-multistream.xml.bz2'  #kowiki 덤프파일\n",
    "kowiki_extra_folder='./kowiki-20220620' # 추출후 생성되는 파일 저장 경로 \n",
    "\n",
    "# wikiextractor 실행 => 추출 시작 \n",
    "!wikiextractor {kowiki_file_path} -o {kowiki_extra_folder}"
   ]
  },
  {
   "cell_type": "code",
   "execution_count": 2,
   "id": "d18474f0-91bc-417b-a1c3-e3b8d53856c3",
   "metadata": {},
   "outputs": [
    {
     "name": "stdout",
     "output_type": "stream",
     "text": [
      "./kowiki-20220620/AA [] ['wiki_00', 'wiki_01', 'wiki_02', 'wiki_03', 'wiki_04', 'wiki_05', 'wiki_06', 'wiki_07', 'wiki_08', 'wiki_09', 'wiki_10', 'wiki_11', 'wiki_12', 'wiki_13', 'wiki_14', 'wiki_15', 'wiki_16', 'wiki_17', 'wiki_18', 'wiki_19', 'wiki_20', 'wiki_21', 'wiki_22', 'wiki_23', 'wiki_24', 'wiki_25', 'wiki_26', 'wiki_27', 'wiki_28', 'wiki_29', 'wiki_30', 'wiki_31', 'wiki_32', 'wiki_33', 'wiki_34', 'wiki_35', 'wiki_36', 'wiki_37', 'wiki_38', 'wiki_39', 'wiki_40', 'wiki_41', 'wiki_42', 'wiki_43', 'wiki_44', 'wiki_45', 'wiki_46', 'wiki_47', 'wiki_48', 'wiki_49', 'wiki_50', 'wiki_51', 'wiki_52', 'wiki_53', 'wiki_54', 'wiki_55', 'wiki_56', 'wiki_57', 'wiki_58', 'wiki_59', 'wiki_60', 'wiki_61', 'wiki_62', 'wiki_63', 'wiki_64', 'wiki_65', 'wiki_66', 'wiki_67', 'wiki_68', 'wiki_69', 'wiki_70', 'wiki_71', 'wiki_72', 'wiki_73', 'wiki_74', 'wiki_75', 'wiki_76', 'wiki_77', 'wiki_78', 'wiki_79', 'wiki_80', 'wiki_81', 'wiki_82', 'wiki_83', 'wiki_84', 'wiki_85', 'wiki_86', 'wiki_87', 'wiki_88', 'wiki_89', 'wiki_90', 'wiki_91', 'wiki_92', 'wiki_93', 'wiki_94', 'wiki_95', 'wiki_96', 'wiki_97', 'wiki_98', 'wiki_99']\n"
     ]
    },
    {
     "data": {
      "application/vnd.jupyter.widget-view+json": {
       "model_id": "884008a7251d4982961bace461eadf88",
       "version_major": 2,
       "version_minor": 0
      },
      "text/plain": [
       "[Parsing]:   0%|          | 0/100 [00:00<?, ?it/s]"
      ]
     },
     "metadata": {},
     "output_type": "display_data"
    },
    {
     "name": "stdout",
     "output_type": "stream",
     "text": [
      "./kowiki-20220620/AB [] ['wiki_00', 'wiki_01', 'wiki_02', 'wiki_03', 'wiki_04', 'wiki_05', 'wiki_06', 'wiki_07', 'wiki_08', 'wiki_09', 'wiki_10', 'wiki_11', 'wiki_12', 'wiki_13', 'wiki_14', 'wiki_15', 'wiki_16', 'wiki_17', 'wiki_18', 'wiki_19', 'wiki_20', 'wiki_21', 'wiki_22', 'wiki_23', 'wiki_24', 'wiki_25', 'wiki_26', 'wiki_27', 'wiki_28', 'wiki_29', 'wiki_30', 'wiki_31', 'wiki_32', 'wiki_33', 'wiki_34', 'wiki_35', 'wiki_36', 'wiki_37', 'wiki_38', 'wiki_39', 'wiki_40', 'wiki_41', 'wiki_42', 'wiki_43', 'wiki_44', 'wiki_45', 'wiki_46', 'wiki_47', 'wiki_48', 'wiki_49', 'wiki_50', 'wiki_51', 'wiki_52', 'wiki_53', 'wiki_54', 'wiki_55', 'wiki_56', 'wiki_57', 'wiki_58', 'wiki_59', 'wiki_60', 'wiki_61', 'wiki_62', 'wiki_63', 'wiki_64', 'wiki_65', 'wiki_66', 'wiki_67', 'wiki_68', 'wiki_69', 'wiki_70', 'wiki_71', 'wiki_72', 'wiki_73', 'wiki_74', 'wiki_75', 'wiki_76', 'wiki_77', 'wiki_78', 'wiki_79', 'wiki_80', 'wiki_81', 'wiki_82', 'wiki_83', 'wiki_84', 'wiki_85', 'wiki_86', 'wiki_87', 'wiki_88', 'wiki_89', 'wiki_90', 'wiki_91', 'wiki_92', 'wiki_93', 'wiki_94', 'wiki_95', 'wiki_96', 'wiki_97', 'wiki_98', 'wiki_99']\n"
     ]
    },
    {
     "data": {
      "application/vnd.jupyter.widget-view+json": {
       "model_id": "ea6f7cd8b11b42859e072c73b65e2a7a",
       "version_major": 2,
       "version_minor": 0
      },
      "text/plain": [
       "[Parsing]:   0%|          | 0/100 [00:00<?, ?it/s]"
      ]
     },
     "metadata": {},
     "output_type": "display_data"
    },
    {
     "name": "stdout",
     "output_type": "stream",
     "text": [
      "./kowiki-20220620/AC [] ['wiki_00', 'wiki_01', 'wiki_02', 'wiki_03', 'wiki_04', 'wiki_05', 'wiki_06', 'wiki_07', 'wiki_08', 'wiki_09', 'wiki_10', 'wiki_11', 'wiki_12', 'wiki_13', 'wiki_14', 'wiki_15', 'wiki_16', 'wiki_17', 'wiki_18', 'wiki_19', 'wiki_20', 'wiki_21', 'wiki_22', 'wiki_23', 'wiki_24', 'wiki_25', 'wiki_26', 'wiki_27', 'wiki_28', 'wiki_29', 'wiki_30', 'wiki_31', 'wiki_32', 'wiki_33', 'wiki_34', 'wiki_35', 'wiki_36', 'wiki_37', 'wiki_38', 'wiki_39', 'wiki_40', 'wiki_41', 'wiki_42', 'wiki_43', 'wiki_44', 'wiki_45', 'wiki_46', 'wiki_47', 'wiki_48', 'wiki_49', 'wiki_50', 'wiki_51', 'wiki_52', 'wiki_53', 'wiki_54', 'wiki_55', 'wiki_56', 'wiki_57', 'wiki_58', 'wiki_59', 'wiki_60', 'wiki_61', 'wiki_62', 'wiki_63', 'wiki_64', 'wiki_65', 'wiki_66', 'wiki_67', 'wiki_68', 'wiki_69', 'wiki_70', 'wiki_71', 'wiki_72', 'wiki_73', 'wiki_74', 'wiki_75', 'wiki_76', 'wiki_77', 'wiki_78', 'wiki_79', 'wiki_80', 'wiki_81', 'wiki_82', 'wiki_83', 'wiki_84', 'wiki_85', 'wiki_86', 'wiki_87', 'wiki_88', 'wiki_89', 'wiki_90', 'wiki_91', 'wiki_92', 'wiki_93', 'wiki_94', 'wiki_95', 'wiki_96', 'wiki_97', 'wiki_98', 'wiki_99']\n"
     ]
    },
    {
     "data": {
      "application/vnd.jupyter.widget-view+json": {
       "model_id": "0123ba0a242c435b8e8c059e962025de",
       "version_major": 2,
       "version_minor": 0
      },
      "text/plain": [
       "[Parsing]:   0%|          | 0/100 [00:00<?, ?it/s]"
      ]
     },
     "metadata": {},
     "output_type": "display_data"
    },
    {
     "name": "stdout",
     "output_type": "stream",
     "text": [
      "./kowiki-20220620/AD [] ['wiki_00', 'wiki_01', 'wiki_02', 'wiki_03', 'wiki_04', 'wiki_05', 'wiki_06', 'wiki_07', 'wiki_08', 'wiki_09', 'wiki_10', 'wiki_11', 'wiki_12', 'wiki_13', 'wiki_14', 'wiki_15', 'wiki_16', 'wiki_17', 'wiki_18', 'wiki_19', 'wiki_20', 'wiki_21', 'wiki_22', 'wiki_23', 'wiki_24', 'wiki_25', 'wiki_26', 'wiki_27', 'wiki_28', 'wiki_29', 'wiki_30', 'wiki_31', 'wiki_32', 'wiki_33', 'wiki_34', 'wiki_35', 'wiki_36', 'wiki_37', 'wiki_38', 'wiki_39', 'wiki_40', 'wiki_41', 'wiki_42', 'wiki_43', 'wiki_44', 'wiki_45', 'wiki_46', 'wiki_47', 'wiki_48', 'wiki_49', 'wiki_50', 'wiki_51', 'wiki_52', 'wiki_53', 'wiki_54', 'wiki_55', 'wiki_56', 'wiki_57', 'wiki_58', 'wiki_59', 'wiki_60', 'wiki_61', 'wiki_62', 'wiki_63', 'wiki_64', 'wiki_65', 'wiki_66', 'wiki_67', 'wiki_68', 'wiki_69', 'wiki_70', 'wiki_71', 'wiki_72', 'wiki_73', 'wiki_74', 'wiki_75', 'wiki_76', 'wiki_77', 'wiki_78', 'wiki_79', 'wiki_80', 'wiki_81', 'wiki_82', 'wiki_83', 'wiki_84', 'wiki_85', 'wiki_86', 'wiki_87', 'wiki_88', 'wiki_89', 'wiki_90', 'wiki_91', 'wiki_92', 'wiki_93', 'wiki_94', 'wiki_95', 'wiki_96', 'wiki_97', 'wiki_98', 'wiki_99']\n"
     ]
    },
    {
     "data": {
      "application/vnd.jupyter.widget-view+json": {
       "model_id": "0aecc64be2dc46f4ace7411e04737356",
       "version_major": 2,
       "version_minor": 0
      },
      "text/plain": [
       "[Parsing]:   0%|          | 0/100 [00:00<?, ?it/s]"
      ]
     },
     "metadata": {},
     "output_type": "display_data"
    },
    {
     "name": "stdout",
     "output_type": "stream",
     "text": [
      "./kowiki-20220620/AE [] ['wiki_00', 'wiki_01', 'wiki_02', 'wiki_03', 'wiki_04', 'wiki_05', 'wiki_06', 'wiki_07', 'wiki_08', 'wiki_09', 'wiki_10', 'wiki_11', 'wiki_12', 'wiki_13', 'wiki_14', 'wiki_15', 'wiki_16', 'wiki_17', 'wiki_18', 'wiki_19', 'wiki_20', 'wiki_21', 'wiki_22', 'wiki_23', 'wiki_24', 'wiki_25', 'wiki_26', 'wiki_27', 'wiki_28', 'wiki_29', 'wiki_30', 'wiki_31', 'wiki_32', 'wiki_33', 'wiki_34', 'wiki_35', 'wiki_36', 'wiki_37', 'wiki_38', 'wiki_39', 'wiki_40', 'wiki_41', 'wiki_42', 'wiki_43', 'wiki_44', 'wiki_45', 'wiki_46', 'wiki_47', 'wiki_48', 'wiki_49', 'wiki_50', 'wiki_51', 'wiki_52', 'wiki_53', 'wiki_54', 'wiki_55', 'wiki_56', 'wiki_57', 'wiki_58', 'wiki_59', 'wiki_60', 'wiki_61', 'wiki_62', 'wiki_63', 'wiki_64', 'wiki_65', 'wiki_66', 'wiki_67', 'wiki_68', 'wiki_69', 'wiki_70', 'wiki_71', 'wiki_72', 'wiki_73', 'wiki_74', 'wiki_75', 'wiki_76', 'wiki_77', 'wiki_78', 'wiki_79', 'wiki_80', 'wiki_81', 'wiki_82', 'wiki_83', 'wiki_84', 'wiki_85', 'wiki_86', 'wiki_87', 'wiki_88', 'wiki_89', 'wiki_90', 'wiki_91', 'wiki_92', 'wiki_93', 'wiki_94', 'wiki_95', 'wiki_96', 'wiki_97', 'wiki_98', 'wiki_99']\n"
     ]
    },
    {
     "data": {
      "application/vnd.jupyter.widget-view+json": {
       "model_id": "0970f4ac52054423bee5cfaae06ce06a",
       "version_major": 2,
       "version_minor": 0
      },
      "text/plain": [
       "[Parsing]:   0%|          | 0/100 [00:00<?, ?it/s]"
      ]
     },
     "metadata": {},
     "output_type": "display_data"
    },
    {
     "name": "stdout",
     "output_type": "stream",
     "text": [
      "./kowiki-20220620/AF [] ['wiki_00', 'wiki_01', 'wiki_02', 'wiki_03', 'wiki_04', 'wiki_05', 'wiki_06', 'wiki_07', 'wiki_08', 'wiki_09', 'wiki_10', 'wiki_11', 'wiki_12', 'wiki_13', 'wiki_14', 'wiki_15', 'wiki_16', 'wiki_17', 'wiki_18', 'wiki_19', 'wiki_20', 'wiki_21', 'wiki_22', 'wiki_23', 'wiki_24', 'wiki_25', 'wiki_26', 'wiki_27', 'wiki_28', 'wiki_29', 'wiki_30', 'wiki_31', 'wiki_32', 'wiki_33', 'wiki_34', 'wiki_35', 'wiki_36', 'wiki_37', 'wiki_38', 'wiki_39', 'wiki_40', 'wiki_41', 'wiki_42', 'wiki_43', 'wiki_44', 'wiki_45', 'wiki_46', 'wiki_47', 'wiki_48', 'wiki_49', 'wiki_50', 'wiki_51', 'wiki_52', 'wiki_53', 'wiki_54', 'wiki_55', 'wiki_56', 'wiki_57', 'wiki_58', 'wiki_59', 'wiki_60', 'wiki_61', 'wiki_62', 'wiki_63', 'wiki_64', 'wiki_65', 'wiki_66', 'wiki_67', 'wiki_68', 'wiki_69', 'wiki_70', 'wiki_71', 'wiki_72', 'wiki_73', 'wiki_74', 'wiki_75', 'wiki_76', 'wiki_77', 'wiki_78', 'wiki_79', 'wiki_80', 'wiki_81', 'wiki_82', 'wiki_83', 'wiki_84', 'wiki_85', 'wiki_86', 'wiki_87', 'wiki_88', 'wiki_89', 'wiki_90', 'wiki_91', 'wiki_92', 'wiki_93', 'wiki_94', 'wiki_95', 'wiki_96', 'wiki_97', 'wiki_98', 'wiki_99']\n"
     ]
    },
    {
     "data": {
      "application/vnd.jupyter.widget-view+json": {
       "model_id": "e15915d9be494ee38437d5ecd0d19e62",
       "version_major": 2,
       "version_minor": 0
      },
      "text/plain": [
       "[Parsing]:   0%|          | 0/100 [00:00<?, ?it/s]"
      ]
     },
     "metadata": {},
     "output_type": "display_data"
    },
    {
     "name": "stdout",
     "output_type": "stream",
     "text": [
      "./kowiki-20220620/AG [] ['wiki_00', 'wiki_01', 'wiki_02', 'wiki_03', 'wiki_04', 'wiki_05', 'wiki_06', 'wiki_07', 'wiki_08', 'wiki_09', 'wiki_10', 'wiki_11', 'wiki_12', 'wiki_13', 'wiki_14', 'wiki_15', 'wiki_16', 'wiki_17', 'wiki_18', 'wiki_19', 'wiki_20', 'wiki_21', 'wiki_22', 'wiki_23', 'wiki_24', 'wiki_25', 'wiki_26', 'wiki_27', 'wiki_28', 'wiki_29', 'wiki_30', 'wiki_31', 'wiki_32', 'wiki_33', 'wiki_34', 'wiki_35', 'wiki_36', 'wiki_37', 'wiki_38', 'wiki_39', 'wiki_40', 'wiki_41', 'wiki_42', 'wiki_43', 'wiki_44', 'wiki_45', 'wiki_46', 'wiki_47', 'wiki_48', 'wiki_49', 'wiki_50', 'wiki_51', 'wiki_52', 'wiki_53', 'wiki_54', 'wiki_55', 'wiki_56', 'wiki_57', 'wiki_58', 'wiki_59', 'wiki_60', 'wiki_61', 'wiki_62', 'wiki_63', 'wiki_64', 'wiki_65', 'wiki_66', 'wiki_67', 'wiki_68', 'wiki_69', 'wiki_70', 'wiki_71', 'wiki_72', 'wiki_73', 'wiki_74', 'wiki_75', 'wiki_76', 'wiki_77', 'wiki_78', 'wiki_79', 'wiki_80', 'wiki_81', 'wiki_82', 'wiki_83', 'wiki_84', 'wiki_85', 'wiki_86', 'wiki_87', 'wiki_88', 'wiki_89', 'wiki_90', 'wiki_91', 'wiki_92', 'wiki_93', 'wiki_94', 'wiki_95', 'wiki_96', 'wiki_97', 'wiki_98', 'wiki_99']\n"
     ]
    },
    {
     "data": {
      "application/vnd.jupyter.widget-view+json": {
       "model_id": "c10fd13e5a134b86a8ae019385b97430",
       "version_major": 2,
       "version_minor": 0
      },
      "text/plain": [
       "[Parsing]:   0%|          | 0/100 [00:00<?, ?it/s]"
      ]
     },
     "metadata": {},
     "output_type": "display_data"
    },
    {
     "name": "stdout",
     "output_type": "stream",
     "text": [
      "./kowiki-20220620/AH [] ['wiki_00', 'wiki_01', 'wiki_02', 'wiki_03', 'wiki_04', 'wiki_05', 'wiki_06', 'wiki_07', 'wiki_08', 'wiki_09', 'wiki_10', 'wiki_11', 'wiki_12', 'wiki_13', 'wiki_14', 'wiki_15', 'wiki_16', 'wiki_17', 'wiki_18', 'wiki_19', 'wiki_20', 'wiki_21', 'wiki_22', 'wiki_23', 'wiki_24', 'wiki_25', 'wiki_26', 'wiki_27', 'wiki_28', 'wiki_29', 'wiki_30', 'wiki_31', 'wiki_32', 'wiki_33', 'wiki_34', 'wiki_35', 'wiki_36', 'wiki_37', 'wiki_38', 'wiki_39', 'wiki_40', 'wiki_41', 'wiki_42', 'wiki_43', 'wiki_44', 'wiki_45', 'wiki_46', 'wiki_47', 'wiki_48', 'wiki_49', 'wiki_50', 'wiki_51', 'wiki_52', 'wiki_53', 'wiki_54', 'wiki_55', 'wiki_56', 'wiki_57', 'wiki_58', 'wiki_59', 'wiki_60', 'wiki_61', 'wiki_62', 'wiki_63', 'wiki_64', 'wiki_65', 'wiki_66', 'wiki_67', 'wiki_68', 'wiki_69', 'wiki_70', 'wiki_71', 'wiki_72', 'wiki_73', 'wiki_74', 'wiki_75', 'wiki_76', 'wiki_77', 'wiki_78', 'wiki_79', 'wiki_80', 'wiki_81', 'wiki_82', 'wiki_83', 'wiki_84', 'wiki_85', 'wiki_86', 'wiki_87', 'wiki_88', 'wiki_89', 'wiki_90', 'wiki_91', 'wiki_92', 'wiki_93', 'wiki_94', 'wiki_95', 'wiki_96', 'wiki_97', 'wiki_98', 'wiki_99']\n"
     ]
    },
    {
     "data": {
      "application/vnd.jupyter.widget-view+json": {
       "model_id": "7dea3168d3a749e5934594e6b8c55ddd",
       "version_major": 2,
       "version_minor": 0
      },
      "text/plain": [
       "[Parsing]:   0%|          | 0/100 [00:00<?, ?it/s]"
      ]
     },
     "metadata": {},
     "output_type": "display_data"
    },
    {
     "name": "stdout",
     "output_type": "stream",
     "text": [
      "./kowiki-20220620/AI [] ['wiki_00', 'wiki_01', 'wiki_02', 'wiki_03', 'wiki_04', 'wiki_05', 'wiki_06', 'wiki_07', 'wiki_08', 'wiki_09', 'wiki_10', 'wiki_11', 'wiki_12', 'wiki_13', 'wiki_14', 'wiki_15', 'wiki_16', 'wiki_17', 'wiki_18', 'wiki_19', 'wiki_20', 'wiki_21', 'wiki_22', 'wiki_23', 'wiki_24', 'wiki_25', 'wiki_26', 'wiki_27', 'wiki_28', 'wiki_29', 'wiki_30', 'wiki_31', 'wiki_32', 'wiki_33', 'wiki_34', 'wiki_35', 'wiki_36', 'wiki_37', 'wiki_38', 'wiki_39', 'wiki_40', 'wiki_41', 'wiki_42', 'wiki_43', 'wiki_44', 'wiki_45', 'wiki_46', 'wiki_47', 'wiki_48', 'wiki_49', 'wiki_50', 'wiki_51', 'wiki_52', 'wiki_53', 'wiki_54', 'wiki_55', 'wiki_56', 'wiki_57', 'wiki_58', 'wiki_59', 'wiki_60', 'wiki_61', 'wiki_62', 'wiki_63', 'wiki_64', 'wiki_65', 'wiki_66', 'wiki_67', 'wiki_68', 'wiki_69', 'wiki_70', 'wiki_71', 'wiki_72', 'wiki_73', 'wiki_74', 'wiki_75', 'wiki_76', 'wiki_77', 'wiki_78', 'wiki_79', 'wiki_80', 'wiki_81', 'wiki_82', 'wiki_83', 'wiki_84', 'wiki_85', 'wiki_86', 'wiki_87', 'wiki_88', 'wiki_89', 'wiki_90', 'wiki_91', 'wiki_92', 'wiki_93', 'wiki_94', 'wiki_95', 'wiki_96', 'wiki_97', 'wiki_98', 'wiki_99']\n"
     ]
    },
    {
     "data": {
      "application/vnd.jupyter.widget-view+json": {
       "model_id": "7eab9305b27e40e58803e134a8560ddb",
       "version_major": 2,
       "version_minor": 0
      },
      "text/plain": [
       "[Parsing]:   0%|          | 0/100 [00:00<?, ?it/s]"
      ]
     },
     "metadata": {},
     "output_type": "display_data"
    },
    {
     "name": "stdout",
     "output_type": "stream",
     "text": [
      "./kowiki-20220620/AJ [] ['wiki_00', 'wiki_01']\n"
     ]
    },
    {
     "data": {
      "application/vnd.jupyter.widget-view+json": {
       "model_id": "2236214e969e426ea0dfca58826edb50",
       "version_major": 2,
       "version_minor": 0
      },
      "text/plain": [
       "[Parsing]:   0%|          | 0/2 [00:00<?, ?it/s]"
      ]
     },
     "metadata": {},
     "output_type": "display_data"
    }
   ],
   "source": [
    "#=============================================================\n",
    "# wiki 파상된 파일 합치기\n",
    "#\n",
    "# wikiextractor로 xml 파싱되어 저장된 파일들을 하나로 합치기\n",
    "# wikiextractor 로 xml 추출하면 A, AB, AC, AD, ... 폴더에 wiki_00, wiki_01 ... 파일들이 생성되고,\n",
    "# 여기서는 이 생성된 파일을 하나의 파일로 합친다.\n",
    "#=============================================================\n",
    "\n",
    "in_folder_path = kowiki_extra_folder       # 합칠 파일들이 있는 root 폴더\n",
    "out_corpos_file = 'kowiki-20220620-corpus.txt' # 합치고나서 생성될 파일명\n",
    "\n",
    "\n",
    "import os\n",
    "from tqdm.notebook import tqdm\n",
    "\n",
    "def load_file(path):\n",
    "    with open(path, \"r\", encoding=\"utf-8\") as f:\n",
    "        return f.read()\n",
    "\n",
    "\n",
    "def parse_text(path):\n",
    "    texts = []\n",
    "    for idx, (current, dirs, files) in enumerate(os.walk(path)):\n",
    "        if idx == 0:\n",
    "            continue\n",
    "        print(current, dirs, files)\n",
    "        for file in tqdm(files, desc=\"[Parsing]\"):\n",
    "            text = load_file(os.path.join(current, file))\n",
    "            texts.append(text)\n",
    "\n",
    "    return texts\n",
    "\n",
    "\n",
    "def save_file(path, src):\n",
    "    with open(path, \"w\", encoding=\"utf-8\") as f:\n",
    "        f.write(src)\n",
    "        \n",
    "# wikiextractor로 xml 파싱되어 저장된 파일들을 하나로 합침\n",
    "\n",
    "texts = parse_text(in_folder_path)\n",
    "save_file(out_corpos_file, \"\\n\".join(texts))"
   ]
  },
  {
   "cell_type": "code",
   "execution_count": 3,
   "id": "5187124f-4584-4c01-8a63-39fccef24f9b",
   "metadata": {},
   "outputs": [
    {
     "name": "stdout",
     "output_type": "stream",
     "text": [
      "Start readfile=>kowiki-20220620-corpus.txt\n",
      "End readfile=>kowiki-20220620-corpus.txt\n"
     ]
    },
    {
     "data": {
      "application/vnd.jupyter.widget-view+json": {
       "model_id": "bf0cc81b0e5240c7a27c1530f76127e6",
       "version_major": 2,
       "version_minor": 0
      },
      "text/plain": [
       "  0%|          | 0/10286061 [00:00<?, ?it/s]"
      ]
     },
     "metadata": {},
     "output_type": "display_data"
    },
    {
     "name": "stdout",
     "output_type": "stream",
     "text": [
      "Start writefile=>kowiki-20220620-corpus-1.txt\n",
      "End writefile=>kowiki-20220620-corpus-1.txt\n"
     ]
    }
   ],
   "source": [
    "#==================================================================================\n",
    "# <doc> 테그 제거 \n",
    "#\n",
    "# <doc id=\"문서 번호\" url=\"실제 위키피디아 문서 주소\" title=\"문서 제목\">\n",
    "#내용\n",
    "# </doc>\n",
    "#- 각 문서마다 위와 같은 형식을 띄고 있어서 위 태그들을 지워주어야 한다.\n",
    "#==================================================================================\n",
    "\n",
    "import re\n",
    "from tqdm.notebook import tqdm\n",
    "\n",
    "in_new_corpus_file = out_corpos_file # 입력파일\n",
    "out_new_corpus_file = 'kowiki-20220620-corpus-1.txt'  # 출력 파일\n",
    "\n",
    "# 문장길이가 짧은 문장은 삭제 \n",
    "remove_short_sentence=False\n",
    "remove_short_sentence_len = 20\n",
    "\n",
    "\n",
    "print(f'Start readfile=>{in_new_corpus_file}')\n",
    "with open(in_new_corpus_file, 'r', encoding='utf8') as f:\n",
    "    data = f.read()\n",
    "print(f'End readfile=>{in_new_corpus_file}')\n",
    "\n",
    "# 태그 삭제\n",
    "splits = data.split('\\n')\n",
    "start = re.compile('<doc')\n",
    "end = re.compile('<\\/doc>')\n",
    "docs = []\n",
    "\n",
    "for split in tqdm(splits):\n",
    "    # <doc> 시작과 끝 테그가 아니면 \n",
    "    if not (start.match(split) or end.match(split)):\n",
    "         # 짦은 문장 삭제 적용된 경우면(remove_short_sentence=Ture)\n",
    "        # => 해당 길이보다 큰 경우에만 남김\n",
    "        if remove_short_sentence and split:\n",
    "            if len(split) > remove_short_sentence_len:\n",
    "                docs.append(split)\n",
    "        else:\n",
    "            docs.append(split)\n",
    "\n",
    "result = '\\n'.join(docs)\n",
    "\n",
    "print(f'Start writefile=>{out_new_corpus_file}')\n",
    "with open(out_new_corpus_file, 'w', encoding='UTF8') as f:\n",
    "    f.write(result)\n",
    "print(f'End writefile=>{out_new_corpus_file}')"
   ]
  },
  {
   "cell_type": "code",
   "execution_count": null,
   "id": "b47053ae-15c5-4b5d-a3db-65095ee36661",
   "metadata": {},
   "outputs": [],
   "source": []
  }
 ],
 "metadata": {
  "kernelspec": {
   "display_name": "Python 3 (ipykernel)",
   "language": "python",
   "name": "python3"
  },
  "language_info": {
   "codemirror_mode": {
    "name": "ipython",
    "version": 3
   },
   "file_extension": ".py",
   "mimetype": "text/x-python",
   "name": "python",
   "nbconvert_exporter": "python",
   "pygments_lexer": "ipython3",
   "version": "3.9.7"
  }
 },
 "nbformat": 4,
 "nbformat_minor": 5
}

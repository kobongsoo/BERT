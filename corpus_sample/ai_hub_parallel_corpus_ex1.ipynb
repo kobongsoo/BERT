{
 "cells": [
  {
   "cell_type": "code",
   "execution_count": 1,
   "id": "f5a21884-9f61-42dd-a66e-27e44246cb95",
   "metadata": {},
   "outputs": [],
   "source": [
    "#===============================================================================================================\n",
    "# AI_HUB(https://aihub.or.kr/) 에 '기술과학 분야 한-영 번역 병렬 말뭉치 데이터','일상생활 및 구어체 한-영 번역 병렬 말뭉치 데이터'(json파일) 중에서\n",
    "# ***라벨링된 파일를 파싱해서, '영어 한국어 tsv' 말뭉치 만드는 예제\n",
    "# => 기술과학 분야 한-영 번역 병렬 말뭉치 데이터 \n",
    "# : https://aihub.or.kr/aihubdata/data/view.do?currMenu=115&topMenu=100&aihubDataSe=realm&dataSetSn=71266\n",
    "# => 일상생활 및 구어체 한-영 번역 병렬 말뭉치 데이터\n",
    "# : https://aihub.or.kr/aihubdata/data/view.do?currMenu=115&topMenu=100&aihubDataSe=realm&dataSetSn=71265\n",
    "#\n",
    "# 1. 위 URL에서 기술과학 분야 한-영 번역 병렬 말뭉치 데이터   다운로드\n",
    "# 2. 압축 풀기 \n",
    "# => unzip abc.zip -d <경로> # 특정 디렉토리에 압축 해제\n",
    "# \n",
    "#==============================================================================================================\n",
    "import torch\n",
    "from tqdm.notebook import tqdm\n",
    "import numpy as np\n",
    "import pandas as pd\n",
    "import json\n",
    "import csv\n",
    "import os\n",
    "import re\n",
    "import sys\n",
    "from typing import Dict, List, Optional\n",
    "sys.path.append(\"..\")\n",
    "from myutils import getListOfFiles"
   ]
  },
  {
   "cell_type": "code",
   "execution_count": 2,
   "id": "d064c4c0-c2b5-4871-8d29-85740c4e3d93",
   "metadata": {},
   "outputs": [
    {
     "name": "stdout",
     "output_type": "stream",
     "text": [
      "*file_count: 3, file_list:['../../data11/ai_hub/pair/pair/기술과학분야_한영_train_set.json', '../../data11/ai_hub/pair/pair/일상생활및구어체_영한_train_set.json', '../../data11/ai_hub/pair/pair/일상생활및구어체_한영_train_set.json']\n"
     ]
    }
   ],
   "source": [
    "# 폴더에 있는 파일 목록 얻기(*반드시 /로 끝나야함)\n",
    "inpdirectory = '../../data11/ai_hub/pair/pair/'\n",
    "files = getListOfFiles(inpdirectory)\n",
    "\n",
    "print('*file_count: {}, file_list:{}'.format(len(files), files[0:5]))"
   ]
  },
  {
   "cell_type": "code",
   "execution_count": 4,
   "id": "a741067b-d4da-45cc-a498-55a58363278b",
   "metadata": {},
   "outputs": [
    {
     "data": {
      "application/vnd.jupyter.widget-view+json": {
       "model_id": "e4a4983b449a4a4f986ac8351b36c3ca",
       "version_major": 2,
       "version_minor": 0
      },
      "text/plain": [
       "  0%|          | 0/3 [00:00<?, ?it/s]"
      ]
     },
     "metadata": {},
     "output_type": "display_data"
    },
    {
     "name": "stdout",
     "output_type": "stream",
     "text": [
      "../../data11/ai_hub/pair/pair/기술과학분야_한영_train_set.json\n"
     ]
    },
    {
     "data": {
      "application/vnd.jupyter.widget-view+json": {
       "model_id": "938764ed4cf44bde8d6e0e2d07921808",
       "version_major": 2,
       "version_minor": 0
      },
      "text/plain": [
       "  0%|          | 0/1200144 [00:00<?, ?it/s]"
      ]
     },
     "metadata": {},
     "output_type": "display_data"
    },
    {
     "name": "stdout",
     "output_type": "stream",
     "text": [
      "../../data11/ai_hub/pair/pair/일상생활및구어체_영한_train_set.json\n"
     ]
    },
    {
     "data": {
      "application/vnd.jupyter.widget-view+json": {
       "model_id": "d22f6455d1ad4ba5bcc3e2d5c1e0b736",
       "version_major": 2,
       "version_minor": 0
      },
      "text/plain": [
       "  0%|          | 0/1200307 [00:00<?, ?it/s]"
      ]
     },
     "metadata": {},
     "output_type": "display_data"
    },
    {
     "name": "stdout",
     "output_type": "stream",
     "text": [
      "../../data11/ai_hub/pair/pair/일상생활및구어체_한영_train_set.json\n"
     ]
    },
    {
     "data": {
      "application/vnd.jupyter.widget-view+json": {
       "model_id": "e0db197b78424dabbb7c625f327da363",
       "version_major": 2,
       "version_minor": 0
      },
      "text/plain": [
       "  0%|          | 0/1200000 [00:00<?, ?it/s]"
      ]
     },
     "metadata": {},
     "output_type": "display_data"
    },
    {
     "name": "stdout",
     "output_type": "stream",
     "text": [
      "*len: 3600451\n"
     ]
    }
   ],
   "source": [
    "# 해당 json 파일들을 불러옴   \n",
    "en = []\n",
    "ko = []\n",
    "\n",
    "for idx, file in enumerate(tqdm(files)):\n",
    "    if \".json\" not in file:  #.json 파일이 아니면 합치지 않음\n",
    "        continue\n",
    "        \n",
    "    print(file)\n",
    "    # json 파일 로딩 => [named_entity] entry만 불러옴\n",
    "    json_data = json.load(open(file, \"r\", encoding=\"utf-8\"))['data']\n",
    "\n",
    "    for idx, entry in enumerate(tqdm(json_data)):       \n",
    "        if len(entry['en']) > 0 and len(entry['ko']) > 0:       \n",
    "            en.append(entry['en'])\n",
    "            ko.append(entry['ko'])\n",
    "  \n",
    "print(f'*len: {len(en)}')"
   ]
  },
  {
   "cell_type": "code",
   "execution_count": 5,
   "id": "26aaed93-538b-49cc-befd-f8b21d4e41e7",
   "metadata": {},
   "outputs": [
    {
     "data": {
      "text/plain": [
       "['A medical group has even filed a federal court lawsuit demanding that the Department of Health guidelines be overturned.',\n",
       " 'It should be noted that there are significant ranking fluctuations in certain regions.',\n",
       " \"Scholars from Japan, China, and Korea will look back on the past and present of development studies and find tasks according to the topics of 18 divisions, from the current status of development studies to the UN's 2030 Sustainable Development Goals (SDGs).\"]"
      ]
     },
     "execution_count": 5,
     "metadata": {},
     "output_type": "execute_result"
    }
   ],
   "source": [
    "en[0:3]"
   ]
  },
  {
   "cell_type": "code",
   "execution_count": 6,
   "id": "6aadc925-6a29-4cf0-bfd2-43dc51dd97ce",
   "metadata": {},
   "outputs": [
    {
     "data": {
      "text/plain": [
       "['한 의료단체는 연방법원에 보건부 지침 취소를 요구하는 소송을 제기하기도 했다.',\n",
       " '특정 지역에서는 순위 변동이 크게 나타나고 있는 점에 주목해야 한다.',\n",
       " \"일본·중국·한국의 학자들이 참석해 개발학의 현황부터 유엔의 '2030 지속가능 개발목표'(SDGs)까지 18개 분과별 주제에 따라 개발학의 과거와 현재를 돌아보고 과제를 모색한다.\"]"
      ]
     },
     "execution_count": 6,
     "metadata": {},
     "output_type": "execute_result"
    }
   ],
   "source": [
    "ko[0:3]"
   ]
  },
  {
   "cell_type": "code",
   "execution_count": 8,
   "id": "d41b9292-3119-4553-bd39-b90585207e8e",
   "metadata": {},
   "outputs": [],
   "source": [
    "# 출력 파일 열기 \n",
    "outfilepath = '../../data11/ai_hub/pair/ai_hub_pair.tsv'\n",
    "\n",
    "f1 = open(outfilepath, 'wt', encoding='utf-8', newline='')\n",
    "wr = csv.writer(f1, delimiter='\\t')\n",
    "\n",
    "#header = ['en', 'ko']\n",
    "#wr.writerow(header)\n",
    "for idx in range(len(en)):\n",
    "    wr.writerow([idx+1, en[idx], ko[idx]])\n",
    "    \n",
    "f1.close()"
   ]
  },
  {
   "cell_type": "code",
   "execution_count": 9,
   "id": "b3af0531-215f-43e4-a5ac-0f87c1448b5f",
   "metadata": {},
   "outputs": [
    {
     "name": "stdout",
     "output_type": "stream",
     "text": [
      "3600451\n"
     ]
    }
   ],
   "source": [
    "# out 생성된 파일 읽어오기(한줄씩 읽어오기)\n",
    "with open(outfilepath, 'r', encoding='UTF8') as f:\n",
    "     lines = f.readlines()\n",
    "        \n",
    "print(len(lines))"
   ]
  },
  {
   "cell_type": "code",
   "execution_count": 10,
   "id": "5996ec03-025d-4d52-a3aa-f058699f419b",
   "metadata": {},
   "outputs": [
    {
     "name": "stdout",
     "output_type": "stream",
     "text": [
      "['1\\tA medical group has even filed a federal court lawsuit demanding that the Department of Health guidelines be overturned.\\t한 의료단체는 연방법원에 보건부 지침 취소를 요구하는 소송을 제기하기도 했다.\\n', '2\\tIt should be noted that there are significant ranking fluctuations in certain regions.\\t특정 지역에서는 순위 변동이 크게 나타나고 있는 점에 주목해야 한다.\\n', \"3\\tScholars from Japan, China, and Korea will look back on the past and present of development studies and find tasks according to the topics of 18 divisions, from the current status of development studies to the UN's 2030 Sustainable Development Goals (SDGs).\\t일본·중국·한국의 학자들이 참석해 개발학의 현황부터 유엔의 '2030 지속가능 개발목표'(SDGs)까지 18개 분과별 주제에 따라 개발학의 과거와 현재를 돌아보고 과제를 모색한다.\\n\"]\n"
     ]
    }
   ],
   "source": [
    "print(lines[0:3])"
   ]
  },
  {
   "cell_type": "code",
   "execution_count": null,
   "id": "de6accb1-ac75-48ab-bec8-5e934006d27a",
   "metadata": {},
   "outputs": [],
   "source": []
  }
 ],
 "metadata": {
  "kernelspec": {
   "display_name": "Python 3 (ipykernel)",
   "language": "python",
   "name": "python3"
  },
  "language_info": {
   "codemirror_mode": {
    "name": "ipython",
    "version": 3
   },
   "file_extension": ".py",
   "mimetype": "text/x-python",
   "name": "python",
   "nbconvert_exporter": "python",
   "pygments_lexer": "ipython3",
   "version": "3.9.7"
  }
 },
 "nbformat": 4,
 "nbformat_minor": 5
}

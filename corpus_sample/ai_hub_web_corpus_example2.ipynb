{
 "cells": [
  {
   "cell_type": "code",
   "execution_count": 1,
   "id": "f5a21884-9f61-42dd-a66e-27e44246cb95",
   "metadata": {},
   "outputs": [],
   "source": [
    "#===============================================================================================================\n",
    "# AI_HUB(https://aihub.or.kr/) 에 '대규모 웹데이터 기반 한국어 말뭉치 데이터'(json파일) 중에서\n",
    "# ***라벨링된 파일를 파싱해서, 2줄짜리 txt 말뭉치 만드는 예제\n",
    "# => 대규모 웹데이터 기반 한국어 말뭉치 데이터 \n",
    "# : https://aihub.or.kr/aihubdata/data/view.do?currMenu=115&topMenu=100&aihubDataSe=realm&dataSetSn=624\n",
    "#\n",
    "# 1. 위 URL에서 대규모 웹데이터 기반 한국어 말뭉치 데이터  다운로드\n",
    "# 2. 압축 풀기 \n",
    "# => unzip abc.zip -d <경로> # 특정 디렉토리에 압축 해제\n",
    "# \n",
    "#==============================================================================================================\n",
    "import torch\n",
    "from tqdm.notebook import tqdm\n",
    "import numpy as np\n",
    "import pandas as pd\n",
    "import json\n",
    "import os\n",
    "import sys\n",
    "sys.path.append(\"..\")\n",
    "from myutils import getListOfFiles"
   ]
  },
  {
   "cell_type": "code",
   "execution_count": 2,
   "id": "387308d2-4eef-4e1d-82f0-5efb6672f833",
   "metadata": {},
   "outputs": [
    {
     "name": "stdout",
     "output_type": "stream",
     "text": [
      "*file_count: 381, file_list:['../../data11/ai_hub/vl1/사건사고/BWAC217000002813.json', '../../data11/ai_hub/vl1/사건사고/BWAC217000002814.json', '../../data11/ai_hub/vl1/사건사고/BWAC217000002815.json', '../../data11/ai_hub/vl1/사건사고/BWAC217000002816.json', '../../data11/ai_hub/vl1/사건사고/BWAC217000002817.json']\n"
     ]
    }
   ],
   "source": [
    "# 폴더에 있는 파일 목록 얻기(*반드시 /로 끝나야함)\n",
    "inpdirectory = '../../data11/ai_hub/vl1/사건사고/'\n",
    "files = getListOfFiles(inpdirectory)\n",
    "\n",
    "print('*file_count: {}, file_list:{}'.format(len(files), files[0:5]))"
   ]
  },
  {
   "cell_type": "code",
   "execution_count": 3,
   "id": "1a197d61-98eb-4eb5-83da-f6a4a5e73228",
   "metadata": {},
   "outputs": [
    {
     "data": {
      "application/vnd.jupyter.widget-view+json": {
       "model_id": "35242d0359cb4ef7bade3700653ebc3b",
       "version_major": 2,
       "version_minor": 0
      },
      "text/plain": [
       "  0%|          | 0/381 [00:00<?, ?it/s]"
      ]
     },
     "metadata": {},
     "output_type": "display_data"
    }
   ],
   "source": [
    "MIN_SENTENCE_LEN = 10        # MIN_SETENCE_LEN 이하인 문장은 추가 안함\n",
    "SEP_STRING = ';.;'           #2문장 구분자 => 문장A+[SET_STR]+문장B\n",
    "remove_list = ['@(이메일)', '<저작권자ⓒ', '무단전재-재배포 금지']    # 문장에 remove_list에 들어간 경우 추가 안함 \n",
    "\n",
    "# 출력 파일 열기 \n",
    "outfilepath = '../../data11/ai_hub/vl1/사건사고-2줄.txt'\n",
    "outfile = open(outfilepath, 'wt', encoding='UTF8')\n",
    "\n",
    "\n",
    "# 해당 json 파일들을 불러옴\n",
    "for idx, file in enumerate(tqdm(files)):\n",
    "    if \".json\" not in file:  #.json 파일이 아니면 합치지 않음\n",
    "        continue\n",
    "        \n",
    "    # json 파일 로딩 => [named_entity] entry만 불러옴\n",
    "    json_data = json.load(open(file, \"r\", encoding=\"utf-8\"))['named_entity']\n",
    "\n",
    "    for entry in json_data:\n",
    "        sentences = []\n",
    "        title = entry['title']\n",
    "        for title_entry in title:\n",
    "            tsentence = title_entry['sentence']\n",
    "            \n",
    "            if len(tsentence) > MIN_SENTENCE_LEN:\n",
    "                # remove 패턴인 경우에는 추가안함\n",
    "                isremove = 0\n",
    "                for pattern in remove_list:\n",
    "                    result = tsentence.find(pattern)\n",
    "                    if result > 0:\n",
    "                        isremove = 1\n",
    "                        break\n",
    "                              \n",
    "                if isremove == 0:\n",
    "                    sentences.append(tsentence)\n",
    "                 \n",
    "        content = entry['content']\n",
    "        for content_entry in content:\n",
    "            csentence = content_entry['sentence']\n",
    "            \n",
    "            if len(csentence) > MIN_SENTENCE_LEN:\n",
    "                # remove 패턴인 경우에는 추가안함\n",
    "                isremove = 0\n",
    "                for pattern in remove_list:\n",
    "                    result = csentence.find(pattern)\n",
    "                    if result > 0:\n",
    "                        isremove = 1\n",
    "                        break\n",
    "                if isremove == 0:\n",
    "                    sentences.append(csentence)\n",
    "                    \n",
    "        num_sentences = len(sentences)\n",
    "        start = 0\n",
    "        \n",
    "        '''\n",
    "        # json 파일 별루 1문장으로 출력\n",
    "        if num_sentences > 1:\n",
    "            outfile.write(SEP_STRING.join(sentences))             \n",
    "            outfile.write('\\n')\n",
    "        '''\n",
    "        \n",
    "        # 여러줄 문장을 2줄씩 나눔.\n",
    "        if num_sentences > 1:\n",
    "            data = []\n",
    "            for idx in range(num_sentences):\n",
    "            \n",
    "                # 2문장을 '..;' 기준으로 해서 1나의 문장으로. 만듬\n",
    "                data.append(sentences[start].strip() + SEP_STRING + sentences[start+1].strip())\n",
    "            \n",
    "                start += 2\n",
    "                if start >= num_sentences-1:\n",
    "                    break  \n",
    "                \n",
    "            outfile.write(\"\\n\".join(data))\n",
    "        \n",
    "        \n",
    "# 출력파일 닫기\n",
    "outfile.close()"
   ]
  },
  {
   "cell_type": "code",
   "execution_count": 4,
   "id": "b3af0531-215f-43e4-a5ac-0f87c1448b5f",
   "metadata": {},
   "outputs": [
    {
     "name": "stdout",
     "output_type": "stream",
     "text": [
      "73074\n"
     ]
    }
   ],
   "source": [
    "# out 생성된 파일 읽어오기(한줄씩 읽어오기)\n",
    "with open(outfilepath, 'r', encoding='UTF8') as f:\n",
    "     lines = f.readlines()\n",
    "        \n",
    "print(len(lines))"
   ]
  },
  {
   "cell_type": "code",
   "execution_count": 7,
   "id": "9221ecf1-36f5-48de-ada5-bc0e38131404",
   "metadata": {},
   "outputs": [
    {
     "name": "stdout",
     "output_type": "stream",
     "text": [
      "['경찰이 포켓몬고 캐릭터가 대량으로 출몰하는 지역을 빠르게 수색하면서 10여분만에 발견했지만 자칫하면 아이를 잃어버릴 수도 있는 상황이었다.;.;전북대학교 학생군사교육단 부지도 포켓몬고 사용자들이 많이 찾는 장소다.\\n', \"군사시설 보호구역으로 일반인들의 출입해서는 안되는 장소지만 포켓몬고에 빠진 사용자들의 출입으로 골머리를 앓고있다.;.;학생군사교육단의 한 관계자는 '해당지역이 군사시설임을 들어 일반인들의 출입자제를 요청하고 매번 퇴거를 요청하고 있으나 상당수의 게임 이용자들은 개의치 않는 것 같다'고 어려움을 호소하고 있다.국립경주박물관도 포켓몬고의 캐릭터가 많이 등장하는 장소로 알려졌다.\\n\", \"이에 국립경주박물관은 박물관 입구에 게임으로 인해 안전사고가 발생하지 않도록 주의를 당부하는 안내문을 부착하고 있다.또 캐릭터들을 자동으로 사냥해주는 프로그램까지 등장해 개인정보 유출 등에 대한 걱정도 커지고 있다.보안업계에 따르면 게임캐릭터를 자동으로 잡아주는 '오토봇(autobot)'이 비공식경로를 통해 배포돼 스마트폰의 악성파일 감염사례가 늘어나고 있다.;.;일부 검증되지 않은 불법 프로그램은 개인정보를 유출하는 문제를 일으키기도 한다.\\n\", \"보안업계 관계자는 '불법행위로 인해 발생된 피해는 어떠한 경우에도 보상받을 수 없다.;.;반드시 정상적인 방법으로 게임을 즐기시기 바란다'고 밝혔다.<저작권자 © 뉴스1코리아, 무단전재 및 재배포 금지>동네 철학관에서 치과진료?…무면허 진료한 가짜스님 등 구속;.;(서울=뉴스1) (이름) 기자 = 동네에서 무면허로 치과진료를 한 가짜스님, 치과기공사 등이 대거 경찰에 붙잡혔다.\\n\", '서울 (이름)찰서는 보건범죄단속에관한특별조치법 위반, 의료기사등에관한법률 위반 혐의로 엄모씨(63)와 이모씨(62)를 구속하고 치과기공사 이모씨(52)와 박모씨(57) 등 4명을 불구속 입건했다고 25일 밝혔다.;.;경찰에 따르면 엄씨는 2012년 6월부터 지난해 12월까지 서울 구로동에 있는 철학관 안 밀실에 치과용 의자 등을 설치해 놓고 의사 면허 없이 사람들을 치료해 7000만원 상당의 이득을 취한 혐의를 받고 있다.엄씨는 스님 행세를 하며 철학관을 운영했고 노인, 신자 등을 80여명을 대상으로 치료한 것으로 조사됐다.\\n']\n"
     ]
    }
   ],
   "source": [
    "print(lines[10000:10005])"
   ]
  },
  {
   "cell_type": "code",
   "execution_count": null,
   "id": "e3d6a4bc-f526-4c8a-9a3f-d18c7e9bac11",
   "metadata": {},
   "outputs": [],
   "source": []
  }
 ],
 "metadata": {
  "kernelspec": {
   "display_name": "Python 3 (ipykernel)",
   "language": "python",
   "name": "python3"
  },
  "language_info": {
   "codemirror_mode": {
    "name": "ipython",
    "version": 3
   },
   "file_extension": ".py",
   "mimetype": "text/x-python",
   "name": "python",
   "nbconvert_exporter": "python",
   "pygments_lexer": "ipython3",
   "version": "3.9.7"
  }
 },
 "nbformat": 4,
 "nbformat_minor": 5
}

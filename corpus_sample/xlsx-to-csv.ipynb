{
 "cells": [
  {
   "cell_type": "code",
   "execution_count": 1,
   "id": "44e1155f-57c1-457f-a6b3-c4342e4515da",
   "metadata": {},
   "outputs": [],
   "source": [
    "import pandas as pd"
   ]
  },
  {
   "cell_type": "code",
   "execution_count": 2,
   "id": "db91820c-fed8-44b9-a3b1-a0583243efbb",
   "metadata": {},
   "outputs": [],
   "source": [
    "#!pip install openpyxl\n",
    "file_fpath = \"Korpora/감성대화말뭉치/감성대화말뭉치(최종데이터)_Validation.xlsx\"\n",
    "#df = pd.read_csv(file_fpath, encoding='euc-kr')\n",
    "df = pd.read_excel(file_fpath)"
   ]
  },
  {
   "cell_type": "code",
   "execution_count": 3,
   "id": "a57ee16f-e696-486d-8d9d-d1b168a94b67",
   "metadata": {},
   "outputs": [
    {
     "name": "stdout",
     "output_type": "stream",
     "text": [
      "                                               text label\n",
      "0                                   요즘 부모님과 많이 부딪혀.    분노\n",
      "1                          엄마가 결국 집을 나갔어. 너무 너무 슬퍼.    슬픔\n",
      "2                    학교에서 한 친구를 괴롭히는 무리에게 그만하라고 했어.    불안\n",
      "3  이번에 팀장님이 간단한 조사 업무를 부탁하셨는데 내가 잘못 처리했어. 너무 절망적이야.    당황\n",
      "4                 남편이 이혼할 때 위자료를 주지 않으려고 변호사를 고용했어.    분노\n",
      "                                                text label\n",
      "0  난 하고 싶은 일이 있는데 부모님은 안정적인 일만 하라고 하셔. 내 마음대로 하지도...    분노\n",
      "1  엄마도 엄마만의 인생이 있을 테니 가지 말라고 할 수가 없었어. 그래서 더 마음이 ...    슬픔\n",
      "2                      그런데 말을 하고 난 후 나도 괴롭힐까 봐 불안했어.    불안\n",
      "3               곧 있으면 인턴에서 정규직 전환 평가가 있는데 안 좋을 것 같아.    당황\n",
      "4                             어떻게 그럴 수가 있지? 너무 화가 나.    분노\n",
      "                                         text label\n",
      "0             응. 그래도 난 내가 하고 싶은 일을 위해 노력할 거야.    분노\n",
      "1                                  일단 좀 자야겠어.    슬픔\n",
      "2       나는 옳은 일을 한 거라고 생각해. 나까지 괴롭힌다면 신고할 거야.    불안\n",
      "3  우선 잘못된 부분을 솔직하게 말씀드리고 수정하기 위해서 최선을 다해봐야겠어.    당황\n",
      "4                   나도 변호사를 고용해서 한번 얘기해보려고 해.    분노\n",
      "  text label\n",
      "0  NaN    분노\n",
      "1  NaN    슬픔\n",
      "2  NaN    불안\n",
      "3  NaN    당황\n",
      "4  NaN    분노\n"
     ]
    }
   ],
   "source": [
    "# 2개의 특정 열만 조합해서 dataframe 생성\n",
    "df_1 = df.loc[:, ['사람문장1','감정_대분류']]\n",
    "df_1.rename(columns={'사람문장1':'text'} ,inplace = True)  #열이름 변경 '기존명칭':'변경할명칭'\n",
    "df_1.rename(columns={'감정_대분류':'label'} ,inplace = True)\n",
    "print(df_1[0:5])\n",
    "\n",
    "df_2 = df.loc[:, ['사람문장2','감정_대분류']]\n",
    "df_2.rename(columns={'사람문장2':'text'},inplace = True)\n",
    "df_2.rename(columns={'감정_대분류':'label'},inplace = True)\n",
    "print(df_2[0:5])\n",
    "\n",
    "df_3 = df.loc[:, ['사람문장3','감정_대분류']]\n",
    "df_3.rename(columns={'사람문장3':'text'},inplace = True)\n",
    "df_3.rename(columns={'감정_대분류':'label'},inplace = True)\n",
    "print(df_3[0:5])\n",
    "\n",
    "df_4 = df.loc[:, ['사람문장4','감정_대분류']]\n",
    "df_4.rename(columns={'사람문장4':'text'},inplace = True)\n",
    "df_4.rename(columns={'감정_대분류':'label'},inplace = True)\n",
    "print(df_4[0:5])"
   ]
  },
  {
   "cell_type": "code",
   "execution_count": 4,
   "id": "789bf62c-d3c2-4ab3-b7cf-792ac6599748",
   "metadata": {},
   "outputs": [],
   "source": [
    "# dataframe들을 합쳐서 하나의 df 만듬(행단위로 합침)\n",
    "df1 = pd.concat([df_1, df_2, df_3, df_4] ,ignore_index=True)"
   ]
  },
  {
   "cell_type": "code",
   "execution_count": 5,
   "id": "68246132-6fc7-4bcf-8b9a-ecbf2d293889",
   "metadata": {},
   "outputs": [],
   "source": [
    "# null 있는 열 제거, 단 열중에 하나라도 null이면( how='any') 제거\n",
    "df2 = df1.dropna(axis=0, how='any')"
   ]
  },
  {
   "cell_type": "code",
   "execution_count": 6,
   "id": "d42bd120-0ed7-4b69-9c11-e9e0bfa44f82",
   "metadata": {},
   "outputs": [
    {
     "data": {
      "text/html": [
       "<div>\n",
       "<style scoped>\n",
       "    .dataframe tbody tr th:only-of-type {\n",
       "        vertical-align: middle;\n",
       "    }\n",
       "\n",
       "    .dataframe tbody tr th {\n",
       "        vertical-align: top;\n",
       "    }\n",
       "\n",
       "    .dataframe thead th {\n",
       "        text-align: right;\n",
       "    }\n",
       "</style>\n",
       "<table border=\"1\" class=\"dataframe\">\n",
       "  <thead>\n",
       "    <tr style=\"text-align: right;\">\n",
       "      <th></th>\n",
       "      <th>text</th>\n",
       "      <th>label</th>\n",
       "    </tr>\n",
       "  </thead>\n",
       "  <tbody>\n",
       "    <tr>\n",
       "      <th>20399</th>\n",
       "      <td>학교폭력위원회를 열어서 징계를 받게 할 수도 있어.</td>\n",
       "      <td>분노</td>\n",
       "    </tr>\n",
       "    <tr>\n",
       "      <th>20426</th>\n",
       "      <td>내가 얼마나 이 일에 진심이고 좋아하는지를 말씀드려야지.</td>\n",
       "      <td>당황</td>\n",
       "    </tr>\n",
       "    <tr>\n",
       "      <th>20458</th>\n",
       "      <td>숙소만 잡아놓으면 내가 잘 아는 곳이기 때문에 다른 건 준비할 게 없어!</td>\n",
       "      <td>당황</td>\n",
       "    </tr>\n",
       "    <tr>\n",
       "      <th>20490</th>\n",
       "      <td>아무래도 내가 먼저 싸우지 않도록 마음을 잘 다스리도록 해야겠어.</td>\n",
       "      <td>슬픔</td>\n",
       "    </tr>\n",
       "    <tr>\n",
       "      <th>20513</th>\n",
       "      <td>최소한 내가 스트레스 받고 있다는 건 알릴 수 있을 것 같네.</td>\n",
       "      <td>분노</td>\n",
       "    </tr>\n",
       "  </tbody>\n",
       "</table>\n",
       "</div>"
      ],
      "text/plain": [
       "                                           text label\n",
       "20399              학교폭력위원회를 열어서 징계를 받게 할 수도 있어.    분노\n",
       "20426           내가 얼마나 이 일에 진심이고 좋아하는지를 말씀드려야지.    당황\n",
       "20458  숙소만 잡아놓으면 내가 잘 아는 곳이기 때문에 다른 건 준비할 게 없어!    당황\n",
       "20490      아무래도 내가 먼저 싸우지 않도록 마음을 잘 다스리도록 해야겠어.    슬픔\n",
       "20513        최소한 내가 스트레스 받고 있다는 건 알릴 수 있을 것 같네.    분노"
      ]
     },
     "execution_count": 6,
     "metadata": {},
     "output_type": "execute_result"
    }
   ],
   "source": [
    "df2.tail()"
   ]
  },
  {
   "cell_type": "code",
   "execution_count": 7,
   "id": "5d4f0555-95c5-4b88-a2ad-6b067a5c5122",
   "metadata": {},
   "outputs": [
    {
     "name": "stdout",
     "output_type": "stream",
     "text": [
      "['기쁨' '당황' '분노' '불안' '상처' '슬픔']\n"
     ]
    }
   ],
   "source": [
    "# label encoding 처리\n",
    "# => 분노, 당\n",
    "from sklearn.preprocessing import LabelEncoder\n",
    "label_encoder = LabelEncoder()\n",
    "\n",
    "dfi = df2.copy()\n",
    "\n",
    "# label에 공백이 있으면 다른 index로 판단하므로, .str.strip() 해서 공백 제거함\n",
    "dfi['label'] = label_encoder.fit_transform(dfi['label'].str.strip())\n",
    "print(label_encoder.classes_)\n",
    "#dfi['island'] = label_encoder.fit_transform(dfi['island'].str.strip())\n",
    "#print(label_encoder.classes_)\n",
    "#dfi['sex'] = label_encoder.fit_transform(dfi['sex'].str.strip())\n",
    "#print(label_encoder.classes_)"
   ]
  },
  {
   "cell_type": "code",
   "execution_count": 10,
   "id": "3ab31e14-d74e-4af9-9f18-18a3cf88269c",
   "metadata": {},
   "outputs": [
    {
     "data": {
      "text/plain": [
       "20399    2\n",
       "20426    1\n",
       "20458    1\n",
       "20490    5\n",
       "20513    2\n",
       "Name: label, dtype: int64"
      ]
     },
     "execution_count": 10,
     "metadata": {},
     "output_type": "execute_result"
    }
   ],
   "source": [
    "dfi['label'].tail()"
   ]
  },
  {
   "cell_type": "code",
   "execution_count": 9,
   "id": "ba00d41a-8056-4178-ae36-35771b15a924",
   "metadata": {},
   "outputs": [],
   "source": [
    "# df -> csv 로 저장\n",
    "outfile_fpath = \"Korpora/감성대화말뭉치/감성대화말뭉치(최종데이터)_renew_labelenc_Validation.csv\"\n",
    "dfi.to_csv(outfile_fpath, index=False)"
   ]
  },
  {
   "cell_type": "code",
   "execution_count": null,
   "id": "d2078a68-0e8b-440c-bb5b-dc9f19084840",
   "metadata": {},
   "outputs": [],
   "source": []
  }
 ],
 "metadata": {
  "kernelspec": {
   "display_name": "Python 3 (ipykernel)",
   "language": "python",
   "name": "python3"
  },
  "language_info": {
   "codemirror_mode": {
    "name": "ipython",
    "version": 3
   },
   "file_extension": ".py",
   "mimetype": "text/x-python",
   "name": "python",
   "nbconvert_exporter": "python",
   "pygments_lexer": "ipython3",
   "version": "3.9.7"
  }
 },
 "nbformat": 4,
 "nbformat_minor": 5
}

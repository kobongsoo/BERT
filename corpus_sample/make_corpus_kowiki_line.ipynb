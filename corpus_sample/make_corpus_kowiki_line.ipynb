{
 "cells": [
  {
   "cell_type": "code",
   "execution_count": 1,
   "id": "5280db9e-82a1-4b45-9647-5619e9e57045",
   "metadata": {},
   "outputs": [],
   "source": [
    "# make_corpus_kowiki.ipynb 작업후 전처리된 kowiki를 . 마침표 구분자로 구분하여, 2줄문장 혹은 1줄문장으로 만드는 예시임.\n",
    "\n",
    "import os\n",
    "import torch\n",
    "from os import sys\n",
    "from tqdm.notebook import tqdm\n",
    "import random\n",
    "import numpy as np\n",
    "\n",
    "seed=111\n",
    "random.seed(seed)\n",
    "os.environ['PYTHONHASHSEED'] = str(seed)\n",
    "np.random.seed(seed)\n",
    "torch.manual_seed(seed)\n",
    "\n",
    "def save_file(path, src):\n",
    "    with open(path, \"w\", encoding=\"utf-8\") as f:\n",
    "        f.write(src)"
   ]
  },
  {
   "cell_type": "code",
   "execution_count": 2,
   "id": "9d0892fd-bfd5-4402-9fd3-421c3289bf50",
   "metadata": {},
   "outputs": [],
   "source": [
    "# wiki 파일 오픈\n",
    "input_corpus = 'kowiki-20220620-corpus.txt'\n",
    "\n",
    "with open(input_corpus, 'r', encoding='utf-8') as fp:\n",
    "    text = fp.read().split('\\n')"
   ]
  },
  {
   "cell_type": "code",
   "execution_count": 3,
   "id": "520ab350-a721-4731-8449-f13adbda6fd3",
   "metadata": {},
   "outputs": [
    {
     "name": "stdout",
     "output_type": "stream",
     "text": [
      "7668537\n",
      "['파리는 1860년 이후 2개의 큰 공원이 추가된 것을 제외하고는 한 번도 시의 경계가 바뀌지 않았다. 따라서 정치적으로 또한 실제 인구상으로 전혀 진화하지 못한 몇 안되는 도시 중 하나이다. 그리고 또한 이러한 점은 파리 광역시를 구성하는데 있어서 논란이 되고 있기도 하다.', '파리는 단독으로 주를 구성한 이른바 특별시이다. 시내는 20 행정 구역으로 구분되어 있다. 파리 시내는 1구에서 오른쪽으로 나선형으로 번호가 매겨져있다. 1-4, 8-12, 16-20 구역은 센 강을 기준으로 오른쪽에, 5-7, 13-15 구역은 좌안에 위치한다.']\n"
     ]
    }
   ],
   "source": [
    "print(len(text))\n",
    "print(text[70000:70002])"
   ]
  },
  {
   "cell_type": "code",
   "execution_count": null,
   "id": "7bedefd4-e7ad-4a31-b422-be35b9bf6bc2",
   "metadata": {},
   "outputs": [],
   "source": [
    "# 2줄을 한문장으로 읽어옴\n",
    "data = []\n",
    "\n",
    "for paragraph in tqdm(text):\n",
    "    # 하나의 문장을 읽어와서 .기준으로 나눈다.\n",
    "    sentences = [sentence for sentence in paragraph.split('.') if sentence != '']\n",
    "    num_sentences = len(sentences)\n",
    "    \n",
    "    start = 0\n",
    "    \n",
    "    # 여러줄 문장을 2줄씩 나눔.\n",
    "    if num_sentences > 1:\n",
    "        for idx in range(num_sentences):\n",
    "            \n",
    "            # 2문장을 '.' 기준으로 해서 1나의 문장으로 만듬\n",
    "            data.append(sentences[start] +'.'+ sentences[start+1])\n",
    "            \n",
    "            start += 2\n",
    "            if start >= num_sentences-1:\n",
    "                break        "
   ]
  },
  {
   "cell_type": "code",
   "execution_count": null,
   "id": "8e3542cd-9be6-4a73-b1b3-05014cf9b6f7",
   "metadata": {},
   "outputs": [],
   "source": [
    "data[2]"
   ]
  },
  {
   "cell_type": "code",
   "execution_count": null,
   "id": "7b9958f9-587d-496f-94a7-df90ff26a0cc",
   "metadata": {},
   "outputs": [],
   "source": [
    "# 2줄을 한문장으로 저장       \n",
    "save_file('pre-kowiki-20220620-2.txt', \"\\n\".join(data))"
   ]
  },
  {
   "cell_type": "code",
   "execution_count": 7,
   "id": "7b1b1598-49f3-4786-9653-22c8b4377768",
   "metadata": {},
   "outputs": [
    {
     "data": {
      "application/vnd.jupyter.widget-view+json": {
       "model_id": "f6f5484f5f194397aacad5dc0ed0aefb",
       "version_major": 2,
       "version_minor": 0
      },
      "text/plain": [
       "  0%|          | 0/7668537 [00:00<?, ?it/s]"
      ]
     },
     "metadata": {},
     "output_type": "display_data"
    }
   ],
   "source": [
    "# 문장을 읽어와서 한줄씩 저장함\n",
    "onedata = []\n",
    "\n",
    "for paragraph in tqdm(text):\n",
    "    \n",
    "    # 하나의 문장을 읽어와서 .기준으로 나눈다.\n",
    "    onelinesentences = [sentence for sentence in paragraph.split('.') if sentence != '']\n",
    "    num_sentences = len(onelinesentences)\n",
    "    \n",
    "    # 문장이 하나이상인 경우에만 저장. 길이가 20이상인 문장만 저장\n",
    "    if num_sentences > 1:\n",
    "        for idx in range(num_sentences):\n",
    "            oneline = onelinesentences[idx]\n",
    "            if len(oneline) > 20:\n",
    "                onedata.append(oneline)\n",
    "    "
   ]
  },
  {
   "cell_type": "code",
   "execution_count": 8,
   "id": "735be161-6da7-496f-b293-a991daf86d72",
   "metadata": {},
   "outputs": [
    {
     "data": {
      "text/plain": [
       "' 예를 들어 고대 그리스어, 성서, 베오울프, 일리아드, 그리고 미국 헌법 등이 그러한 분류의 범주에 들어간다'"
      ]
     },
     "execution_count": 8,
     "metadata": {},
     "output_type": "execute_result"
    }
   ],
   "source": [
    "onedata[100]"
   ]
  },
  {
   "cell_type": "code",
   "execution_count": 9,
   "id": "8fc464d4-b4d7-41af-bb6a-86846d3432fe",
   "metadata": {},
   "outputs": [],
   "source": [
    "# 1줄 문장 저장\n",
    "save_file('pre-kowiki-20220620-1.txt', \"\\n\".join(onedata))"
   ]
  },
  {
   "cell_type": "code",
   "execution_count": null,
   "id": "426b28f0-2f4e-4617-a53b-5af3c2a83699",
   "metadata": {},
   "outputs": [],
   "source": []
  }
 ],
 "metadata": {
  "kernelspec": {
   "display_name": "Python 3",
   "language": "python",
   "name": "python3"
  },
  "language_info": {
   "codemirror_mode": {
    "name": "ipython",
    "version": 3
   },
   "file_extension": ".py",
   "mimetype": "text/x-python",
   "name": "python",
   "nbconvert_exporter": "python",
   "pygments_lexer": "ipython3",
   "version": "3.8.8"
  }
 },
 "nbformat": 4,
 "nbformat_minor": 5
}

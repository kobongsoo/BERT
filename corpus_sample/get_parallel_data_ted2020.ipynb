{
 "cells": [
  {
   "cell_type": "code",
   "execution_count": 1,
   "id": "0b592bf7-2bd2-4afa-b7dc-bf52447e3c9d",
   "metadata": {},
   "outputs": [],
   "source": [
    "# 언어쌍으로 된 말뭉치 다운로드\n",
    "# => bert 모델을 사용하여 영어에서 다른언어 모델로 학습을 이전시키는 작업에 사용되는 corpus\n",
    "#https://github.com/UKPLab/sentence-transformers/blob/master/examples/training/multilingual/get_parallel_data_opus.py"
   ]
  },
  {
   "cell_type": "code",
   "execution_count": 8,
   "id": "ce8ff0d2-4f3a-4c54-86c7-d92add0777d8",
   "metadata": {},
   "outputs": [
    {
     "name": "stdout",
     "output_type": "stream",
     "text": [
      "ted2020.tsv.gz does not exists. Try to download from server\n"
     ]
    },
    {
     "data": {
      "application/vnd.jupyter.widget-view+json": {
       "model_id": "d11257b046e34495bcdfe040251440a9",
       "version_major": 2,
       "version_minor": 0
      },
      "text/plain": [
       "  0%|          | 0.00/581M [00:00<?, ?B/s]"
      ]
     },
     "metadata": {},
     "output_type": "display_data"
    }
   ],
   "source": [
    "\"\"\"\n",
    "This script downloads the TED2020 corpus (https://github.com/UKPLab/sentence-transformers/blob/master/docs/datasets/TED2020.md)\n",
    " and create parallel sentences tsv files that can be used to extend existent sentence embedding models to new languages.\n",
    "The TED2020 corpus is a crawl of transcripts from TED and TEDx talks, which are translated to 100+ languages.\n",
    "The TED2020 corpus is downloaded automatically. Otherwise, it can be found here:\n",
    "https://sbert.net/datasets/ted2020.tsv.gz\n",
    "The training procedure can be found in the files make_multilingual.py and make_multilingual_sys.py.\n",
    "Further information can be found in our paper:\n",
    "Making Monolingual Sentence Embeddings Multilingual using Knowledge Distillation\n",
    "https://arxiv.org/abs/2004.09813\n",
    "\"\"\"\n",
    "import os\n",
    "import sentence_transformers.util\n",
    "import gzip\n",
    "import csv\n",
    "from tqdm.autonotebook import tqdm\n",
    "\n",
    "\n",
    "source_languages = set(['en'])                                  #Languages our (monolingual) teacher model understands\n",
    "#target_languages = set(['ko', 'es', 'it', 'fr', 'ar', 'tr'])    #New languages we want to extend to\n",
    "target_languages = set(['ko'])    #New languages we want to extend to\n",
    "\n",
    "dev_sentences = 1000         #Number of sentences we want to use for development\n",
    "download_url = \"https://sbert.net/datasets/ted2020.tsv.gz\"\n",
    "ted2020_path = \"../korpora/ted2020.tsv.gz\" #Path of the TED2020.tsv.gz file.\n",
    "parallel_sentences_folder = \"parallel-sentences/\"\n",
    "\n",
    "\n",
    "\n",
    "\n",
    "os.makedirs(os.path.dirname(ted2020_path), exist_ok=True)\n",
    "if not os.path.exists(ted2020_path):\n",
    "    print(\"ted2020.tsv.gz does not exists. Try to download from server\")\n",
    "    sentence_transformers.util.http_get(download_url, ted2020_path)\n",
    "\n",
    "\n",
    "\n",
    "os.makedirs(parallel_sentences_folder, exist_ok=True)\n"
   ]
  },
  {
   "cell_type": "code",
   "execution_count": 9,
   "id": "5cd159eb-087c-4d3b-9d7a-1888ea90d803",
   "metadata": {},
   "outputs": [
    {
     "name": "stdout",
     "output_type": "stream",
     "text": [
      "Parallel sentences files en-ko do not exist. Create these files now\n"
     ]
    },
    {
     "data": {
      "application/vnd.jupyter.widget-view+json": {
       "model_id": "7f5094dde90841f2936013eb2840f6be",
       "version_major": 2,
       "version_minor": 0
      },
      "text/plain": [
       "Sentences: 0it [00:00, ?it/s]"
      ]
     },
     "metadata": {},
     "output_type": "display_data"
    },
    {
     "name": "stdout",
     "output_type": "stream",
     "text": [
      "---DONE---\n"
     ]
    }
   ],
   "source": [
    "train_files = []\n",
    "dev_files = []\n",
    "files_to_create = []\n",
    "for source_lang in source_languages:\n",
    "    for target_lang in target_languages:\n",
    "        output_filename_train = os.path.join(parallel_sentences_folder, \"TED2020-{}-{}-train.tsv.gz\".format(source_lang, target_lang))\n",
    "        output_filename_dev = os.path.join(parallel_sentences_folder, \"TED2020-{}-{}-dev.tsv.gz\".format(source_lang, target_lang))\n",
    "        train_files.append(output_filename_train)\n",
    "        dev_files.append(output_filename_dev)\n",
    "        if not os.path.exists(output_filename_train) or not os.path.exists(output_filename_dev):\n",
    "            files_to_create.append({'src_lang': source_lang, 'trg_lang': target_lang,\n",
    "                                    'fTrain': gzip.open(output_filename_train, 'wt', encoding='utf8'),\n",
    "                                    'fDev': gzip.open(output_filename_dev, 'wt', encoding='utf8'),\n",
    "                                    'devCount': 0\n",
    "                                    })\n",
    "\n",
    "if len(files_to_create) > 0:\n",
    "    print(\"Parallel sentences files {} do not exist. Create these files now\".format(\", \".join(map(lambda x: x['src_lang']+\"-\"+x['trg_lang'], files_to_create))))\n",
    "    with gzip.open(ted2020_path, 'rt', encoding='utf8') as fIn:\n",
    "        reader = csv.DictReader(fIn, delimiter='\\t', quoting=csv.QUOTE_NONE)\n",
    "        for line in tqdm(reader, desc=\"Sentences\"):\n",
    "            for outfile in files_to_create:\n",
    "                src_text = line[outfile['src_lang']].strip()\n",
    "                trg_text = line[outfile['trg_lang']].strip()\n",
    "\n",
    "                if src_text != \"\" and trg_text != \"\":\n",
    "                    if outfile['devCount'] < dev_sentences:\n",
    "                        outfile['devCount'] += 1\n",
    "                        fOut = outfile['fDev']\n",
    "                    else:\n",
    "                        fOut = outfile['fTrain']\n",
    "\n",
    "                    fOut.write(\"{}\\t{}\\n\".format(src_text, trg_text))\n",
    "\n",
    "    for outfile in files_to_create:\n",
    "        outfile['fTrain'].close()\n",
    "        outfile['fDev'].close()\n",
    "\n",
    "\n",
    "print(\"---DONE---\")"
   ]
  },
  {
   "cell_type": "code",
   "execution_count": null,
   "id": "f6302f9b-79b2-44c8-8162-be2d256f837c",
   "metadata": {},
   "outputs": [],
   "source": []
  }
 ],
 "metadata": {
  "kernelspec": {
   "display_name": "Python 3 (ipykernel)",
   "language": "python",
   "name": "python3"
  },
  "language_info": {
   "codemirror_mode": {
    "name": "ipython",
    "version": 3
   },
   "file_extension": ".py",
   "mimetype": "text/x-python",
   "name": "python",
   "nbconvert_exporter": "python",
   "pygments_lexer": "ipython3",
   "version": "3.9.7"
  }
 },
 "nbformat": 4,
 "nbformat_minor": 5
}

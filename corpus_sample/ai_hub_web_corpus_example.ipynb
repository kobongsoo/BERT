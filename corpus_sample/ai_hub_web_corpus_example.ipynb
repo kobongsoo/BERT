{
 "cells": [
  {
   "cell_type": "code",
   "execution_count": 1,
   "id": "387308d2-4eef-4e1d-82f0-5efb6672f833",
   "metadata": {},
   "outputs": [
    {
     "name": "stdout",
     "output_type": "stream",
     "text": [
      "*file_count: 332, file_list:['../../data11/ai_hub/vs1/스포츠/BWSP217000057851.json', '../../data11/ai_hub/vs1/스포츠/BWSP217000057852.json', '../../data11/ai_hub/vs1/스포츠/BWSP217000057853.json', '../../data11/ai_hub/vs1/스포츠/BWSP217000057854.json', '../../data11/ai_hub/vs1/스포츠/BWSP217000057855.json']\n"
     ]
    }
   ],
   "source": [
    "#===============================================================================================================\n",
    "# AI_HUB(https://aihub.or.kr/) 에 '대규모 웹데이터 기반 한국어 말뭉치 데이터'(json파일)를 파싱해서, \n",
    "# 2줄짜리 txt 말뭉치 만드는 예제\n",
    "# => 대규모 웹데이터 기반 한국어 말뭉치 데이터 \n",
    "# : https://aihub.or.kr/aihubdata/data/view.do?currMenu=115&topMenu=100&aihubDataSe=realm&dataSetSn=624\n",
    "# 1. 위 URL에서 대규모 웹데이터 기반 한국어 말뭉치 데이터  다운로드\n",
    "# 2. 압축 풀기 \n",
    "# => unzip abc.zip -d <경로> # 특정 디렉토리에 압축 해제\n",
    "#==============================================================================================================\n",
    "\n",
    "import torch\n",
    "from tqdm.notebook import tqdm\n",
    "import numpy as np\n",
    "import pandas as pd\n",
    "import json\n",
    "import os\n",
    "import sys\n",
    "sys.path.append(\"..\")\n",
    "from myutils import getListOfFiles\n",
    "\n",
    "# 폴더에 있는 파일 목록 얻기(*반드시 /로 끝나야함)\n",
    "inpdirectory = '../../data11/ai_hub/vs1/'\n",
    "files = getListOfFiles(inpdirectory)\n",
    "\n",
    "print('*file_count: {}, file_list:{}'.format(len(files), files[0:5]))"
   ]
  },
  {
   "cell_type": "code",
   "execution_count": 2,
   "id": "1a197d61-98eb-4eb5-83da-f6a4a5e73228",
   "metadata": {},
   "outputs": [
    {
     "data": {
      "application/vnd.jupyter.widget-view+json": {
       "model_id": "4980c909d7204776a05f1da04c83be4b",
       "version_major": 2,
       "version_minor": 0
      },
      "text/plain": [
       "  0%|          | 0/332 [00:00<?, ?it/s]"
      ]
     },
     "metadata": {},
     "output_type": "display_data"
    }
   ],
   "source": [
    "# 출력 파일 열기 \n",
    "MIN_SENTNECE_LEN = 10 # MIN_SENTNECE_LEN 보다 작은 문장인 경우에는 PASS 함\n",
    "outfile = '../../data11/ai_hub/vs1/vs1-2줄.txt'\n",
    "outfile = open(outfile, 'wt', encoding='UTF8')\n",
    "\n",
    "# 해당 json 파일들을 불러옴\n",
    "for idx, file in enumerate(tqdm(files)):\n",
    "    if \".json\" not in file:  #.json 파일이 아니면 합치지 않음\n",
    "        continue\n",
    "        \n",
    "    # json 파일 로딩 => [SJML][text] entry만 불러옴\n",
    "    json_data = json.load(open(file, \"r\", encoding=\"utf-8\"))['SJML']['text']\n",
    "    for entry in json_data:\n",
    "        \n",
    "        # title 저장\n",
    "        #outfile.write(entry['title'])\n",
    "        #outfile.write(\"\\n\")\n",
    "        \n",
    "        content = entry['content']\n",
    "        sentences = [sentence for sentence in content.split('.') if sentence != '' and len(sentence) > MIN_SENTNECE_LEN]\n",
    "        num_sentences = len(sentences)\n",
    "        start = 0\n",
    "    \n",
    "        # 여러줄 문장을 2줄씩 나눔.\n",
    "        if num_sentences > 1:\n",
    "            data = []\n",
    "            for idx in range(num_sentences):\n",
    "            \n",
    "                # 2문장을 '.' 기준으로 해서 1나의 문장으로 만듬\n",
    "                data.append(sentences[start].strip() +'.'+ sentences[start+1].strip())\n",
    "            \n",
    "                start += 2\n",
    "                if start >= num_sentences-1:\n",
    "                    break  \n",
    "                \n",
    "            outfile.write(\"\\n\".join(data))\n",
    "            #outfile.write(\"\\n\\n\")\n",
    "\n",
    "# 출력파일 닫기\n",
    "outfile.close()"
   ]
  }
 ],
 "metadata": {
  "kernelspec": {
   "display_name": "Python 3 (ipykernel)",
   "language": "python",
   "name": "python3"
  },
  "language_info": {
   "codemirror_mode": {
    "name": "ipython",
    "version": 3
   },
   "file_extension": ".py",
   "mimetype": "text/x-python",
   "name": "python",
   "nbconvert_exporter": "python",
   "pygments_lexer": "ipython3",
   "version": "3.9.7"
  }
 },
 "nbformat": 4,
 "nbformat_minor": 5
}

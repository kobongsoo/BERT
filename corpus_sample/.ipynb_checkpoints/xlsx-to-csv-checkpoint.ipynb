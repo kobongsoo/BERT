{
 "cells": [
  {
   "cell_type": "code",
   "execution_count": 1,
   "id": "44e1155f-57c1-457f-a6b3-c4342e4515da",
   "metadata": {},
   "outputs": [],
   "source": [
    "import pandas as pd"
   ]
  },
  {
   "cell_type": "code",
   "execution_count": 2,
   "id": "db91820c-fed8-44b9-a3b1-a0583243efbb",
   "metadata": {},
   "outputs": [],
   "source": [
    "#!pip install openpyxl\n",
    "file_fpath = \"Korpora/감성대화말뭉치/감성대화말뭉치(최종데이터)_Validation.xlsx\"\n",
    "#df = pd.read_csv(file_fpath, encoding='euc-kr')\n",
    "df = pd.read_excel(file_fpath)"
   ]
  },
  {
   "cell_type": "code",
   "execution_count": 3,
   "id": "a57ee16f-e696-486d-8d9d-d1b168a94b67",
   "metadata": {},
   "outputs": [
    {
     "name": "stdout",
     "output_type": "stream",
     "text": [
      "                                            text label\n",
      "0                      아내가 드디어 출산하게 되어서 정말 신이 나.    기쁨\n",
      "1        당뇨랑 합병증 때문에 먹어야 할 약이 열 가지가 넘어가니까 스트레스야.    불안\n",
      "2        고등학교에 올라오니 중학교 때보다 수업이 갑자기 어려워져서 당황스러워.    당황\n",
      "3  재취업이 돼서 받게 된 첫 월급으로 온 가족이 외식을 할 예정이야. 너무 행복해.    기쁨\n",
      "4                   빚을 드디어 다 갚게 되어서 이제야 안도감이 들어.    기쁨\n",
      "                                                text label\n",
      "0                                      아 지금 정말 신이 나.    기쁨\n",
      "1                        건강할 때 관리 좀 잘할걸 하는 생각이 들더라고.    불안\n",
      "2                  아직 학기 초인데 내가 수업에 잘 따라갈 수 있을지 걱정돼.    당황\n",
      "3  퇴직 후 다시는 돈을 못 벌 줄 알았는데 이렇게 월급으로 가족에게 맛있는 밥을 살 ...    기쁨\n",
      "4                  빚도 다 갚았으니 당분간은 아무 생각도 안 하며 살고 싶어.    기쁨\n",
      "                                 text label\n",
      "0  아기가 점점 클게 벌써 기대가 되네. 내가 많이 놀아줘야지.     기쁨\n",
      "1          약을 잘 챙겨 먹고 나을 수 있도록 노력해야지.    불안\n",
      "2       중학교 수업을 들을 때보다 훨씬 더 열심히 할 거야.    당황\n",
      "3           회사생활을 열심히 해서 계속 월급을 받을거야!    기쁨\n",
      "4                                 NaN    기쁨\n",
      "                                        text label\n",
      "0                                        NaN    기쁨\n",
      "1                                        NaN    불안\n",
      "2  선생님이 강조하신 부분을 필기하고 집에서 매일 수업 내용을 복습하려고 해.    당황\n",
      "3                                        NaN    기쁨\n",
      "4                                        NaN    기쁨\n"
     ]
    }
   ],
   "source": [
    "# 2개의 특정 열만 조합해서 dataframe 생성\n",
    "df_1 = df.loc[:, ['사람문장1','감정_대분류']]\n",
    "df_1.rename(columns={'사람문장1':'text'} ,inplace = True)  #열이름 변경 '기존명칭':'변경할명칭'\n",
    "df_1.rename(columns={'감정_대분류':'label'} ,inplace = True)\n",
    "print(df_1[0:5])\n",
    "\n",
    "df_2 = df.loc[:, ['사람문장2','감정_대분류']]\n",
    "df_2.rename(columns={'사람문장2':'text'},inplace = True)\n",
    "df_2.rename(columns={'감정_대분류':'label'},inplace = True)\n",
    "print(df_2[0:5])\n",
    "\n",
    "df_3 = df.loc[:, ['사람문장3','감정_대분류']]\n",
    "df_3.rename(columns={'사람문장3':'text'},inplace = True)\n",
    "df_3.rename(columns={'감정_대분류':'label'},inplace = True)\n",
    "print(df_3[0:5])\n",
    "\n",
    "df_4 = df.loc[:, ['사람문장4','감정_대분류']]\n",
    "df_4.rename(columns={'사람문장4':'text'},inplace = True)\n",
    "df_4.rename(columns={'감정_대분류':'label'},inplace = True)\n",
    "print(df_4[0:5])"
   ]
  },
  {
   "cell_type": "code",
   "execution_count": 4,
   "id": "789bf62c-d3c2-4ab3-b7cf-792ac6599748",
   "metadata": {},
   "outputs": [],
   "source": [
    "# dataframe들을 합쳐서 하나의 df 만듬(행단위로 합침)\n",
    "df1 = pd.concat([df_1, df_2, df_3, df_4] ,ignore_index=True)"
   ]
  },
  {
   "cell_type": "code",
   "execution_count": 5,
   "id": "68246132-6fc7-4bcf-8b9a-ecbf2d293889",
   "metadata": {},
   "outputs": [],
   "source": [
    "# null 있는 열 제거, 단 열중에 하나라도 null이면( how='any') 제거\n",
    "df2 = df1.dropna(axis=0, how='any')"
   ]
  },
  {
   "cell_type": "code",
   "execution_count": 6,
   "id": "d42bd120-0ed7-4b69-9c11-e9e0bfa44f82",
   "metadata": {},
   "outputs": [
    {
     "data": {
      "text/html": [
       "<div>\n",
       "<style scoped>\n",
       "    .dataframe tbody tr th:only-of-type {\n",
       "        vertical-align: middle;\n",
       "    }\n",
       "\n",
       "    .dataframe tbody tr th {\n",
       "        vertical-align: top;\n",
       "    }\n",
       "\n",
       "    .dataframe thead th {\n",
       "        text-align: right;\n",
       "    }\n",
       "</style>\n",
       "<table border=\"1\" class=\"dataframe\">\n",
       "  <thead>\n",
       "    <tr style=\"text-align: right;\">\n",
       "      <th></th>\n",
       "      <th>text</th>\n",
       "      <th>label</th>\n",
       "    </tr>\n",
       "  </thead>\n",
       "  <tbody>\n",
       "    <tr>\n",
       "      <th>163431</th>\n",
       "      <td>미리 미리 건강 챙기고 모두 안 아팠으면 좋겠어.</td>\n",
       "      <td>불안</td>\n",
       "    </tr>\n",
       "    <tr>\n",
       "      <th>163451</th>\n",
       "      <td>주변에 믿음직한 사람들에게서 정보도 많이 얻고 달콤한 말은 항상 의심하고 볼래.</td>\n",
       "      <td>당황</td>\n",
       "    </tr>\n",
       "    <tr>\n",
       "      <th>163455</th>\n",
       "      <td>친구들에게 내 마음을 터놓고 얘기하면 좀 나아질 것 같아.</td>\n",
       "      <td>불안</td>\n",
       "    </tr>\n",
       "    <tr>\n",
       "      <th>163458</th>\n",
       "      <td>남편에게 이런 내 마음을 솔직하게 얘기해 봐야겠어.</td>\n",
       "      <td>당황</td>\n",
       "    </tr>\n",
       "    <tr>\n",
       "      <th>163511</th>\n",
       "      <td>친구가 자기가 데려온 강아지에 대해 책임감을 갖고 스스로 잘 돌봤으면 좋겠어.</td>\n",
       "      <td>불안</td>\n",
       "    </tr>\n",
       "  </tbody>\n",
       "</table>\n",
       "</div>"
      ],
      "text/plain": [
       "                                                text label\n",
       "163431                   미리 미리 건강 챙기고 모두 안 아팠으면 좋겠어.    불안\n",
       "163451  주변에 믿음직한 사람들에게서 정보도 많이 얻고 달콤한 말은 항상 의심하고 볼래.    당황\n",
       "163455              친구들에게 내 마음을 터놓고 얘기하면 좀 나아질 것 같아.    불안\n",
       "163458                  남편에게 이런 내 마음을 솔직하게 얘기해 봐야겠어.    당황\n",
       "163511   친구가 자기가 데려온 강아지에 대해 책임감을 갖고 스스로 잘 돌봤으면 좋겠어.    불안"
      ]
     },
     "execution_count": 6,
     "metadata": {},
     "output_type": "execute_result"
    }
   ],
   "source": [
    "df2.tail()"
   ]
  },
  {
   "cell_type": "code",
   "execution_count": 7,
   "id": "5d4f0555-95c5-4b88-a2ad-6b067a5c5122",
   "metadata": {},
   "outputs": [
    {
     "name": "stdout",
     "output_type": "stream",
     "text": [
      "['기쁨' '당황' '분노' '불안' '상처' '슬픔']\n"
     ]
    }
   ],
   "source": [
    "# label encoding 처리\n",
    "# => 분노, 당\n",
    "from sklearn.preprocessing import LabelEncoder\n",
    "label_encoder = LabelEncoder()\n",
    "\n",
    "dfi = df2.copy()\n",
    "\n",
    "# label에 공백이 있으면 다른 index로 판단하므로, .str.strip() 해서 공백 제거함\n",
    "dfi['label'] = label_encoder.fit_transform(dfi['label'].str.strip())\n",
    "print(label_encoder.classes_)\n",
    "#dfi['island'] = label_encoder.fit_transform(dfi['island'].str.strip())\n",
    "#print(label_encoder.classes_)\n",
    "#dfi['sex'] = label_encoder.fit_transform(dfi['sex'].str.strip())\n",
    "#print(label_encoder.classes_)"
   ]
  },
  {
   "cell_type": "code",
   "execution_count": 8,
   "id": "3ab31e14-d74e-4af9-9f18-18a3cf88269c",
   "metadata": {},
   "outputs": [
    {
     "data": {
      "text/html": [
       "<div>\n",
       "<style scoped>\n",
       "    .dataframe tbody tr th:only-of-type {\n",
       "        vertical-align: middle;\n",
       "    }\n",
       "\n",
       "    .dataframe tbody tr th {\n",
       "        vertical-align: top;\n",
       "    }\n",
       "\n",
       "    .dataframe thead th {\n",
       "        text-align: right;\n",
       "    }\n",
       "</style>\n",
       "<table border=\"1\" class=\"dataframe\">\n",
       "  <thead>\n",
       "    <tr style=\"text-align: right;\">\n",
       "      <th></th>\n",
       "      <th>text</th>\n",
       "      <th>label</th>\n",
       "    </tr>\n",
       "  </thead>\n",
       "  <tbody>\n",
       "    <tr>\n",
       "      <th>163431</th>\n",
       "      <td>미리 미리 건강 챙기고 모두 안 아팠으면 좋겠어.</td>\n",
       "      <td>3</td>\n",
       "    </tr>\n",
       "    <tr>\n",
       "      <th>163451</th>\n",
       "      <td>주변에 믿음직한 사람들에게서 정보도 많이 얻고 달콤한 말은 항상 의심하고 볼래.</td>\n",
       "      <td>1</td>\n",
       "    </tr>\n",
       "    <tr>\n",
       "      <th>163455</th>\n",
       "      <td>친구들에게 내 마음을 터놓고 얘기하면 좀 나아질 것 같아.</td>\n",
       "      <td>3</td>\n",
       "    </tr>\n",
       "    <tr>\n",
       "      <th>163458</th>\n",
       "      <td>남편에게 이런 내 마음을 솔직하게 얘기해 봐야겠어.</td>\n",
       "      <td>1</td>\n",
       "    </tr>\n",
       "    <tr>\n",
       "      <th>163511</th>\n",
       "      <td>친구가 자기가 데려온 강아지에 대해 책임감을 갖고 스스로 잘 돌봤으면 좋겠어.</td>\n",
       "      <td>3</td>\n",
       "    </tr>\n",
       "  </tbody>\n",
       "</table>\n",
       "</div>"
      ],
      "text/plain": [
       "                                                text  label\n",
       "163431                   미리 미리 건강 챙기고 모두 안 아팠으면 좋겠어.      3\n",
       "163451  주변에 믿음직한 사람들에게서 정보도 많이 얻고 달콤한 말은 항상 의심하고 볼래.      1\n",
       "163455              친구들에게 내 마음을 터놓고 얘기하면 좀 나아질 것 같아.      3\n",
       "163458                  남편에게 이런 내 마음을 솔직하게 얘기해 봐야겠어.      1\n",
       "163511   친구가 자기가 데려온 강아지에 대해 책임감을 갖고 스스로 잘 돌봤으면 좋겠어.      3"
      ]
     },
     "execution_count": 8,
     "metadata": {},
     "output_type": "execute_result"
    }
   ],
   "source": [
    "dfi.tail()"
   ]
  },
  {
   "cell_type": "code",
   "execution_count": 9,
   "id": "ba00d41a-8056-4178-ae36-35771b15a924",
   "metadata": {},
   "outputs": [],
   "source": [
    "# df -> csv 로 저장\n",
    "outfile_fpath = \"Korpora/감성대화말뭉치/감성대화말뭉치(최종데이터)_renew_labelenc_Validation.csv\"\n",
    "dfi.to_csv(outfile_fpath, index=False)"
   ]
  },
  {
   "cell_type": "code",
   "execution_count": null,
   "id": "d2078a68-0e8b-440c-bb5b-dc9f19084840",
   "metadata": {},
   "outputs": [],
   "source": []
  }
 ],
 "metadata": {
  "kernelspec": {
   "display_name": "Python 3 (ipykernel)",
   "language": "python",
   "name": "python3"
  },
  "language_info": {
   "codemirror_mode": {
    "name": "ipython",
    "version": 3
   },
   "file_extension": ".py",
   "mimetype": "text/x-python",
   "name": "python",
   "nbconvert_exporter": "python",
   "pygments_lexer": "ipython3",
   "version": "3.9.7"
  }
 },
 "nbformat": 4,
 "nbformat_minor": 5
}

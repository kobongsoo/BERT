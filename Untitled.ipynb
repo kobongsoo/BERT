{
 "cells": [
  {
   "cell_type": "code",
   "execution_count": 1,
   "id": "608d7765-a52d-42da-8d86-d05709d18609",
   "metadata": {},
   "outputs": [],
   "source": [
    "import torch\n",
    "from os import sys\n",
    "from myutils import GPU_info, seed_everything, mlogging, AccuracyForMaskedToken, SaveBERTModel\n",
    "#seed 설정\n",
    "seed_everything(222)\n"
   ]
  },
  {
   "cell_type": "code",
   "execution_count": 2,
   "id": "822d27d9-ff4f-49cd-9306-66665c29a4c7",
   "metadata": {},
   "outputs": [
    {
     "name": "stdout",
     "output_type": "stream",
     "text": [
      "76043\n"
     ]
    }
   ],
   "source": [
    "from transformers import AlbertTokenizer, AlbertForMaskedLM, AlbertModel\n",
    "vocab_path = '../data11/model/albert/albert-base-v2-ftp-3/newvocab' # 앞에서 만들어진 spiece_new.model 이 있는 경로 지정해줌\n",
    "tokenizer = AlbertTokenizer.from_pretrained(vocab_path)\n",
    "print(len(tokenizer))"
   ]
  },
  {
   "cell_type": "code",
   "execution_count": 3,
   "id": "50ed94c8-19f8-4329-a471-905f8efc10c9",
   "metadata": {},
   "outputs": [
    {
     "name": "stdout",
     "output_type": "stream",
     "text": [
      "[2, 54150, 1, 54146, 54148, 30253, 1, 30521, 1, 9, 3]\n"
     ]
    },
    {
     "data": {
      "text/plain": [
       "'모코엠시스 ⁇  문서중앙화 엠파워 제품 ⁇  만들 ⁇.'"
      ]
     },
     "execution_count": 3,
     "metadata": {},
     "output_type": "execute_result"
    }
   ],
   "source": [
    "text = \"모코엠시스에서는 문서중앙화 엠파워 제품을 만들었다.\"\n",
    "token_ids = tokenizer.encode(text)\n",
    "print(token_ids)\n",
    "tokenizer.decode(token_ids)"
   ]
  },
  {
   "cell_type": "code",
   "execution_count": 4,
   "id": "d9e70e57-dc67-4988-96f6-562f7fb5625e",
   "metadata": {},
   "outputs": [
    {
     "name": "stdout",
     "output_type": "stream",
     "text": [
      "CLSid:2, SEPid:3, UNKid:1, PADid:0, MASKid:4\n",
      "*maskvocablist_len: 10\n",
      "*maskvocablist: [54146, 54147, 54148, 37254, 54195, 31568, 31320, 32440, 42232, 31303]\n",
      "*corpus:../data11/korpora/kowiki_20190620/wiki_eval_test.txt\n",
      "*max_sequence_len:128\n",
      "*mlm_probability:0.15\n",
      "*CLStokenid:2, SEPtokenid:3, UNKtokenid:1, PADtokeinid:0, Masktokeid:4\n",
      "*total_line: 114\n"
     ]
    },
    {
     "data": {
      "application/vnd.jupyter.widget-view+json": {
       "model_id": "f8ff2d86910241b2a9f8ff5c8a9fd663",
       "version_major": 2,
       "version_minor": 0
      },
      "text/plain": [
       "  0%|          | 0/114 [00:00<?, ?it/s]"
      ]
     },
     "metadata": {},
     "output_type": "display_data"
    },
    {
     "data": {
      "application/vnd.jupyter.widget-view+json": {
       "model_id": "9336c049ccda4a4385502f796611b7a2",
       "version_major": 2,
       "version_minor": 0
      },
      "text/plain": [
       "  0%|          | 0/114 [00:00<?, ?it/s]"
      ]
     },
     "metadata": {},
     "output_type": "display_data"
    }
   ],
   "source": [
    "from torch.utils.data import DataLoader, RandomSampler\n",
    "import sys\n",
    "from myutils import MLMDataset, MLMDatasetbyDistilBert\n",
    "\n",
    "# 각 스페셜 tokenid를 구함\n",
    "CLStokenid = tokenizer.convert_tokens_to_ids('[CLS]')\n",
    "SEPtokenid = tokenizer.convert_tokens_to_ids('[SEP]')\n",
    "UNKtokenid = tokenizer.convert_tokens_to_ids('<UNK>')\n",
    "PADtokenid = tokenizer.convert_tokens_to_ids('<pad>')\n",
    "MASKtokenid = tokenizer.convert_tokens_to_ids('[MASK]')\n",
    "print('CLSid:{}, SEPid:{}, UNKid:{}, PADid:{}, MASKid:{}'.format(CLStokenid, SEPtokenid, UNKtokenid, PADtokenid, MASKtokenid))\n",
    "\n",
    "eval_corpus = '../data11/korpora/kowiki_20190620/wiki_eval_test.txt'\n",
    "token_max_len = 128\n",
    "batch_size = 32\n",
    "MaskVocabList = ['▁문서중앙화','▁보안파일서버','▁엠파워','▁영국', '▁월드컵', '▁나라', '▁사회', '▁문화', '▁날씨','▁경제', '▁tetetetetetete']\n",
    "\n",
    "eval_dataset = MLMDatasetbyDistilBert(corpus_path = eval_corpus,\n",
    "                          tokenizer = tokenizer, \n",
    "                          CLStokeinid = CLStokenid ,   # [CLS] 토큰 id\n",
    "                          SEPtokenid = SEPtokenid ,    # [SEP] 토큰 id\n",
    "                          UNKtokenid = UNKtokenid ,    # [UNK] 토큰 id\n",
    "                          PADtokenid = PADtokenid,     # [PAD] 토큰 id\n",
    "                          Masktokenid = MASKtokenid,   # [MASK] 토큰 id\n",
    "                          max_sequence_len=token_max_len,  # max_sequence_len)\n",
    "                          mlm_probability=0.15,\n",
    "                          overwrite_cache=False,\n",
    "                          Maskvocab_list = MaskVocabList\n",
    "                          )"
   ]
  },
  {
   "cell_type": "code",
   "execution_count": null,
   "id": "6dc8f207-5175-4448-b878-45cf67f806ad",
   "metadata": {},
   "outputs": [],
   "source": [
    "eval_dataset[1]"
   ]
  },
  {
   "cell_type": "code",
   "execution_count": null,
   "id": "8e951aef-114d-40a7-b6be-ad3de2991146",
   "metadata": {},
   "outputs": [],
   "source": []
  },
  {
   "cell_type": "code",
   "execution_count": null,
   "id": "88399f4a-f97f-4ecf-88b2-a0f6953df638",
   "metadata": {},
   "outputs": [],
   "source": [
    "MaskVocabList = ['▁문서중앙화','▁보안파일서버','▁엠파워','▁영국', '▁월드컵', '▁나라', '▁사회', '▁문화', '▁날씨','▁경제', '▁tetetetetetete']"
   ]
  },
  {
   "cell_type": "code",
   "execution_count": null,
   "id": "95750b70-c809-4537-a8de-ad1a4ed26aa5",
   "metadata": {},
   "outputs": [],
   "source": []
  },
  {
   "cell_type": "code",
   "execution_count": null,
   "id": "394566c5-268c-45dd-8bc6-f079134b12ee",
   "metadata": {},
   "outputs": [],
   "source": []
  },
  {
   "cell_type": "code",
   "execution_count": null,
   "id": "60fb3e92-2397-4e29-8e45-16b0d7a2060d",
   "metadata": {},
   "outputs": [],
   "source": []
  },
  {
   "cell_type": "code",
   "execution_count": null,
   "id": "c9bd2086-3ea1-4e2a-b901-f7f4ea308507",
   "metadata": {},
   "outputs": [],
   "source": [
    "token = tokenizer.convert_ids_to_tokens(70002)\n",
    "print(token)\n",
    "\n",
    "print(len(tokenizer.get_vocab()))"
   ]
  },
  {
   "cell_type": "code",
   "execution_count": null,
   "id": "f1feeef6-4b98-43b9-a355-b3c16fbba390",
   "metadata": {},
   "outputs": [],
   "source": [
    "tokenid = tokenizer.convert_tokens_to_ids('▁출장소')\n",
    "print(tokenid)"
   ]
  },
  {
   "cell_type": "code",
   "execution_count": 7,
   "id": "046fd41c-8317-423b-a7ae-dc6449a0b948",
   "metadata": {},
   "outputs": [],
   "source": [
    "Maskvocab_list = [\n",
    "    '▁정보', '▁데이터', '▁서비스', '▁인터페이스', '▁환경', '▁통합', '▁이름', '▁저장', '▁성능', '▁연결', '▁테이블', \n",
    "    '▁웹', '▁Application', '▁소프트웨어', '▁관리자', '▁제품', '▁기간', '▁모듈', '▁구조', '▁네트워크', '▁호스트', \n",
    "    '▁정책', '▁software', '▁클라우드', '▁노드', '▁result', '▁명령', '▁시험', '▁업데이트', '▁Added', '▁로그인', \n",
    "    '▁클라이언트', '▁편집', '▁mark', '▁전파','▁다이얼로그', '▁디스플레이', '▁사무실', '▁오퍼레이션', '▁로그아웃', '▁유닉스', \n",
    "    '▁Soft', '▁관측', '▁윈도우즈', '▁시그널'\n",
    "]"
   ]
  },
  {
   "cell_type": "code",
   "execution_count": 9,
   "id": "b70b84ff-4320-4518-a3b1-54b66e5da507",
   "metadata": {},
   "outputs": [
    {
     "name": "stdout",
     "output_type": "stream",
     "text": [
      "▁정보\n",
      "30024\n",
      "▁데이터\n",
      "30027\n",
      "▁서비스\n",
      "30036\n",
      "▁인터페이스\n",
      "30098\n",
      "▁환경\n",
      "30099\n",
      "▁통합\n",
      "30100\n",
      "▁이름\n",
      "30178\n",
      "▁저장\n",
      "30184\n",
      "▁성능\n",
      "30187\n",
      "▁연결\n",
      "30203\n",
      "▁테이블\n",
      "30204\n",
      "▁웹\n",
      "30230\n",
      "▁Application\n",
      "30245\n",
      "▁소프트웨어\n",
      "30246\n",
      "▁관리자\n",
      "30247\n",
      "▁제품\n",
      "30253\n",
      "▁기간\n",
      "30254\n",
      "▁모듈\n",
      "30335\n",
      "▁구조\n",
      "30336\n",
      "▁네트워크\n",
      "30337\n",
      "▁호스트\n",
      "30365\n",
      "▁정책\n",
      "30366\n",
      "▁software\n",
      "2306\n",
      "▁클라우드\n",
      "30376\n",
      "▁노드\n",
      "30378\n",
      "▁result\n",
      "829\n",
      "▁명령\n",
      "30495\n",
      "▁시험\n",
      "30496\n",
      "▁업데이트\n",
      "30653\n",
      "▁Added\n",
      "30654\n",
      "▁로그인\n",
      "30655\n",
      "▁클라이언트\n",
      "30666\n",
      "▁편집\n",
      "30667\n",
      "▁mark\n",
      "943\n",
      "▁전파\n",
      "33244\n",
      "▁다이얼로그\n",
      "34251\n",
      "▁디스플레이\n",
      "34890\n",
      "▁사무실\n",
      "35464\n",
      "▁오퍼레이션\n",
      "36038\n",
      "▁로그아웃\n",
      "36047\n",
      "▁유닉스\n",
      "36841\n",
      "▁Soft\n",
      "37251\n",
      "▁관측\n",
      "37252\n",
      "▁윈도우즈\n",
      "37253\n",
      "▁시그널\n",
      "37782\n"
     ]
    }
   ],
   "source": [
    "CLStokenid = tokenizer.convert_tokens_to_ids('[CLS]')\n",
    "SEPtokenid = tokenizer.convert_tokens_to_ids('[SEP]')\n",
    "UNKtokenid = tokenizer.convert_tokens_to_ids('<UNK>')\n",
    "PADtokenid = tokenizer.convert_tokens_to_ids('<pad>')\n",
    "MASKtokenid = tokenizer.convert_tokens_to_ids('[MASK]')\n",
    "\n",
    "maskvocablist = []\n",
    "for vocab in Maskvocab_list:\n",
    "    print(vocab)\n",
    "    token = tokenizer.convert_tokens_to_ids(vocab)\n",
    "    print(token)\n",
    "    \n",
    "    if token is not UNKtokenid:\n",
    "        maskvocablist.append(token)\n",
    "    \n",
    "    #tokens = tokenizer.tokenize(vocab)\n",
    "    #token_ids = tokenizer.convert_tokens_to_ids(tokens)\n",
    "    #maskvocablist.append(token_ids[0])\n",
    "    \n"
   ]
  },
  {
   "cell_type": "code",
   "execution_count": null,
   "id": "cf57bb70-184f-4d9d-bed7-22f3810f0101",
   "metadata": {},
   "outputs": [],
   "source": [
    "print(maskvocablist)"
   ]
  },
  {
   "cell_type": "code",
   "execution_count": null,
   "id": "54170242-69a7-437c-a594-7bb9ef4817e8",
   "metadata": {},
   "outputs": [],
   "source": []
  },
  {
   "cell_type": "code",
   "execution_count": null,
   "id": "15a5076b-6cae-4fb6-b409-3b997bfbb315",
   "metadata": {},
   "outputs": [],
   "source": []
  },
  {
   "cell_type": "code",
   "execution_count": null,
   "id": "1f76d241-882b-424b-9e78-590b2d2fe83b",
   "metadata": {},
   "outputs": [],
   "source": [
    "import torch\n",
    "import numpy as np\n",
    "\n",
    "vocab = [44, 222]\n",
    "\n",
    "data = torch.tensor(\n",
    "    [[1,2,3,4,5,\n",
    "    11,22,33,44,55,\n",
    "    111,222,333,444,555]]\n",
    ")\n",
    "\n",
    "print(data)"
   ]
  },
  {
   "cell_type": "code",
   "execution_count": null,
   "id": "e247a8f1-581d-4239-8b41-ba7bee1bc7b6",
   "metadata": {},
   "outputs": [],
   "source": [
    "mask = torch.zeros(data.shape, dtype=torch.bool)\n",
    "for vocabidx in vocab:\n",
    "    mask += (data == vocabidx)\n",
    " \n",
    "print(mask)"
   ]
  },
  {
   "cell_type": "code",
   "execution_count": null,
   "id": "0a168b02-23a8-4a52-8121-852dfde23197",
   "metadata": {},
   "outputs": [],
   "source": [
    "# mask 할 위치 찾음.\n",
    "selection = torch.flatten((mask[0]).nonzero()).tolist()\n",
    "print(len(selection))\n",
    "print(selection)"
   ]
  },
  {
   "cell_type": "code",
   "execution_count": null,
   "id": "b9b45bba-0d7c-4f72-b2f9-53b3f8dc2325",
   "metadata": {},
   "outputs": [],
   "source": [
    "# mask 값 출력\n",
    "data[0, selection] = 103"
   ]
  },
  {
   "cell_type": "code",
   "execution_count": null,
   "id": "3926f86c-97d1-417f-b561-b4a6e7f29dfd",
   "metadata": {},
   "outputs": [],
   "source": [
    "print(data)"
   ]
  }
 ],
 "metadata": {
  "kernelspec": {
   "display_name": "Python 3 (ipykernel)",
   "language": "python",
   "name": "python3"
  },
  "language_info": {
   "codemirror_mode": {
    "name": "ipython",
    "version": 3
   },
   "file_extension": ".py",
   "mimetype": "text/x-python",
   "name": "python",
   "nbconvert_exporter": "python",
   "pygments_lexer": "ipython3",
   "version": "3.9.7"
  }
 },
 "nbformat": 4,
 "nbformat_minor": 5
}

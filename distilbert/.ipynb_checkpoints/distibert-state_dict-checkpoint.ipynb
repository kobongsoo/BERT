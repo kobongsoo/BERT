{
 "cells": [
  {
   "cell_type": "code",
   "execution_count": null,
   "id": "994ba0f4-92d5-4a47-bee5-925e9109270b",
   "metadata": {},
   "outputs": [],
   "source": [
    "from transformers import DistilBertModel, BertModel, DistilBertForMaskedLM, BertForMaskedLM\n",
    "\n",
    "import sys\n",
    "sys.path.append('..')\n",
    "from myutils import seed_everything, pytorch_cos_sim, mlogging\n",
    "seed_everything(111)\n",
    "#logging 설정\n",
    "logger =  mlogging(loggername=\"state_dict\", logfilname=\"state_dict\")\n"
   ]
  },
  {
   "cell_type": "code",
   "execution_count": null,
   "id": "601a5f11-46e7-40dd-a568-970da3a5fa2e",
   "metadata": {},
   "outputs": [],
   "source": [
    "# 0 번 모델 word_embeding 구함\n",
    "\n",
    "model_path='../model/distilbert/distilbert-0318-10-ts-1'\n",
    "#model_path='../model/bert/bmc_fpt_kowiki20200920.train_model_0225'\n",
    "model = DistilBertModel.from_pretrained(model_path)\n",
    "#model = BertModel.from_pretrained(model_path)\n",
    "\n",
    "state_dict = model.state_dict()\n",
    "print(type(state_dict))\n",
    "print(state_dict.keys())\n",
    "\n",
    "word_embedding = state_dict['embeddings.word_embeddings.weight']            # BertModel / DistilbertModel일때 word_embedding\n",
    "#word_embedding = state_dict['distilbert.embeddings.word_embeddings.weight']  # DistilBertforMaskedLM 일때 word_embedding\n",
    "#word_embedding = state_dict['bert.embeddings.word_embeddings.weight']      # BertforMaskedLM 일때 word_embedding\n",
    "\n",
    "print(len(word_embedding))\n",
    "print(type(word_embedding))\n",
    "print(word_embedding.shape)\n",
    "\n",
    "#for key, val in state_dict.items():\n",
    "#    print(key)\n",
    "#    print(val)\n",
    "#    break"
   ]
  },
  {
   "cell_type": "code",
   "execution_count": null,
   "id": "f84ae51f-970e-4cb0-b3aa-7f39ebcdadfd",
   "metadata": {},
   "outputs": [],
   "source": [
    "# 1 번 모델 word_embeding 구함\n",
    "\n",
    "#model_path1='../model/bert/bmc_fpt_kowiki20200920.train_model_0225'\n",
    "model_path1='../model/distilbert/distilbert-0318-10'\n",
    "#model1 = BertForMaskedLM.from_pretrained(model_path1)\n",
    "#model1 = DistilBertModel.from_pretrained(model_path1, state_dict=torch.load(state_dict_fpath))\n",
    "model1 = DistilBertModel.from_pretrained(model_path1)\n",
    "\n",
    "state_dict1 = model1.state_dict()\n",
    "print(type(state_dict1))\n",
    "print(state_dict1.keys())\n",
    "\n",
    "word_embedding1 = state_dict1['embeddings.word_embeddings.weight']            # BertModel / DistilbertModel일때 word_embedding\n",
    "print(len(word_embedding1))\n",
    "print(type(word_embedding1))\n",
    "print(word_embedding1.shape)\n",
    "#word_embedding1 = state_dict1['distilbert.embeddings.word_embeddings.weight']  # DistilBertforMaskedLM 일때 word_embedding\n",
    "#word_embedding1 = state_dict1['bert.embeddings.word_embeddings.weight']      # BertforMaskedLM 일때 word_embedding"
   ]
  },
  {
   "cell_type": "code",
   "execution_count": null,
   "id": "d0166b36-742e-4287-bd0b-d9e978701843",
   "metadata": {},
   "outputs": [],
   "source": [
    "# 2 번 은 state_dict 에서 word_embeding 구함\n",
    "\n",
    "import torch\n",
    "model_path2='../model/distilbert/distilbert-0318-10-ts-1/state_dict.pt'\n",
    "state_dict2 = torch.load(model_path2)\n",
    "print(type(state_dict2))\n",
    "print(state_dict2.keys())\n",
    "\n",
    "#print(state_dict2.keys())\n",
    "word_embedding2 = state_dict2['student.distilbert.embeddings.word_embeddings.weight']"
   ]
  },
  {
   "cell_type": "code",
   "execution_count": null,
   "id": "a4f746ba-dd30-409b-8c4e-4840a37ddae8",
   "metadata": {},
   "outputs": [],
   "source": [
    "# 2개의 모델의 유사도를 구함 \n",
    "idx = 10000\n",
    "word_embedding1 = word_embedding[idx]\n",
    "word_embedding2 = word_embedding1[idx]\n",
    "model1 = model_path\n",
    "model2 = model_path1\n",
    "\n",
    "logger.info(f'===model:{model1}, idx:{idx}===')\n",
    "logger.info(word_embedding1)\n",
    "\n",
    "logger.info(f'===model:{model2}, idx:{idx}===')\n",
    "logger.info(word_embedding2)\n",
    "\n",
    "logger.info(f'===유사도 {model1}:{model2}')\n",
    "cos_sim = pytorch_cos_sim(word_embedding1, word_embedding2)\n",
    "logger.info(f'idx:{idx} {cos_sim}')\n"
   ]
  },
  {
   "cell_type": "code",
   "execution_count": null,
   "id": "4d74ae6d-03ea-41fa-be23-c322a7ff0891",
   "metadata": {},
   "outputs": [],
   "source": []
  }
 ],
 "metadata": {
  "kernelspec": {
   "display_name": "Python 3 (ipykernel)",
   "language": "python",
   "name": "python3"
  },
  "language_info": {
   "codemirror_mode": {
    "name": "ipython",
    "version": 3
   },
   "file_extension": ".py",
   "mimetype": "text/x-python",
   "name": "python",
   "nbconvert_exporter": "python",
   "pygments_lexer": "ipython3",
   "version": "3.9.7"
  }
 },
 "nbformat": 4,
 "nbformat_minor": 5
}

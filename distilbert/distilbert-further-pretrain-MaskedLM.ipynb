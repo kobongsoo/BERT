{
 "cells": [
  {
   "cell_type": "code",
   "execution_count": 1,
   "id": "1bd66b12-3efc-49a7-bdeb-739ff11bd456",
   "metadata": {},
   "outputs": [
    {
     "name": "stdout",
     "output_type": "stream",
     "text": [
      "logfilepath:../../log/bwdataset_2022-04-18.log\n",
      "logfilepath:../../log/qnadataset_2022-04-18.log\n"
     ]
    }
   ],
   "source": [
    "# MLM 방식을 이용한 Further pre-traning 방식 구현 예제\n",
    "# 참고 소스 : https://towardsdatascience.com/masked-language-modelling-with-bert-7d49793e5d2c 참조 바람\n",
    "import torch\n",
    "import os\n",
    "\n",
    "from tqdm.notebook import tqdm\n",
    "from transformers import DistilBertTokenizer, BertConfig, DistilBertForMaskedLM\n",
    "from transformers import AdamW, get_linear_schedule_with_warmup\n",
    "\n",
    "import sys\n",
    "sys.path.append(\"..\")\n",
    "from myutils import GPU_info, seed_everything, mlogging, MLMDatasetbyDistilBert"
   ]
  },
  {
   "cell_type": "code",
   "execution_count": 2,
   "id": "f3321a0d-57d3-400b-be05-619e1bf63842",
   "metadata": {},
   "outputs": [
    {
     "name": "stdout",
     "output_type": "stream",
     "text": [
      "True\n",
      "device: cuda:0\n",
      "cuda index: 0\n",
      "gpu 개수: 1\n",
      "graphic name: NVIDIA A30\n",
      "cuda:0\n",
      "logfilepath:../../log/distilbertfpt-1_2022-04-18.log\n"
     ]
    }
   ],
   "source": [
    "# 훈련시킬 말뭉치(사전 만들때 동일한 말뭉치 이용)\n",
    "input_corpus = \"../../korpora/kowiki_20190620/wiki_20190620_small.txt\"\n",
    "#input_corpus = \"../../korpora/kowiki_20190620/wiki_20190620_mecab_false_0311.txt\"\n",
    "\n",
    "# eval 말뭉치 \n",
    "eval_corpus = \"../../korpora/kowiki_20190620/wiki_eval_test.txt\"\n",
    "\n",
    "# 기존 사전훈련된 모델\n",
    "model_path = \"../../model/distilbert/distilbert-0331-TS-nli-0.1-10/\"\n",
    "\n",
    "# 기존 사전 + 추가된 사전 파일\n",
    "vocab_path=\"../../model/distilbert/distilbert-0331-TS-nli-0.1-10/\"\n",
    "\n",
    "# 출력\n",
    "OUTPATH = '../../model/distilbert/distilbert-0331-TS-nli-0.1-10-04-19/'\n",
    "\n",
    "batch_size = 32\n",
    "token_max_len = 128\n",
    "\n",
    "device = GPU_info()\n",
    "print(device)\n",
    "\n",
    "#seed 설정\n",
    "seed_everything(111)\n",
    "\n",
    "#logging 설정\n",
    "logger =  mlogging(loggername=\"distilbertfpt-1\", logfilename=\"../../log/distilbertfpt-1\")"
   ]
  },
  {
   "cell_type": "code",
   "execution_count": 3,
   "id": "bd6fad4a-7b5b-4502-93bc-7564f197398e",
   "metadata": {},
   "outputs": [
    {
     "name": "stdout",
     "output_type": "stream",
     "text": [
      "special_token_size: 27, tokenizer.vocab_size: 167537\n",
      "vocab_size: 167560\n",
      "tokenizer_len: 167550\n"
     ]
    },
    {
     "name": "stderr",
     "output_type": "stream",
     "text": [
      "Some weights of the model checkpoint at ../../model/distilbert/distilbert-0331-TS-nli-0.1-10/ were not used when initializing DistilBertForMaskedLM: ['pre_classifier.weight', 'pre_classifier.bias', 'classifier.weight', 'classifier.bias']\n",
      "- This IS expected if you are initializing DistilBertForMaskedLM from the checkpoint of a model trained on another task or with another architecture (e.g. initializing a BertForSequenceClassification model from a BertForPreTraining model).\n",
      "- This IS NOT expected if you are initializing DistilBertForMaskedLM from the checkpoint of a model that you expect to be exactly identical (initializing a BertForSequenceClassification model from a BertForSequenceClassification model).\n",
      "Some weights of DistilBertForMaskedLM were not initialized from the model checkpoint at ../../model/distilbert/distilbert-0331-TS-nli-0.1-10/ and are newly initialized: ['vocab_projector.bias', 'vocab_layer_norm.weight', 'vocab_transform.bias', 'vocab_projector.weight', 'vocab_layer_norm.bias', 'vocab_transform.weight']\n",
      "You should probably TRAIN this model on a down-stream task to be able to use it for predictions and inference.\n"
     ]
    },
    {
     "data": {
      "text/plain": [
       "DistilBertForMaskedLM(\n",
       "  (distilbert): DistilBertModel(\n",
       "    (embeddings): Embeddings(\n",
       "      (word_embeddings): Embedding(167550, 768, padding_idx=0)\n",
       "      (position_embeddings): Embedding(512, 768)\n",
       "      (LayerNorm): LayerNorm((768,), eps=1e-12, elementwise_affine=True)\n",
       "      (dropout): Dropout(p=0.1, inplace=False)\n",
       "    )\n",
       "    (transformer): Transformer(\n",
       "      (layer): ModuleList(\n",
       "        (0): TransformerBlock(\n",
       "          (attention): MultiHeadSelfAttention(\n",
       "            (dropout): Dropout(p=0.1, inplace=False)\n",
       "            (q_lin): Linear(in_features=768, out_features=768, bias=True)\n",
       "            (k_lin): Linear(in_features=768, out_features=768, bias=True)\n",
       "            (v_lin): Linear(in_features=768, out_features=768, bias=True)\n",
       "            (out_lin): Linear(in_features=768, out_features=768, bias=True)\n",
       "          )\n",
       "          (sa_layer_norm): LayerNorm((768,), eps=1e-12, elementwise_affine=True)\n",
       "          (ffn): FFN(\n",
       "            (dropout): Dropout(p=0.1, inplace=False)\n",
       "            (lin1): Linear(in_features=768, out_features=3072, bias=True)\n",
       "            (lin2): Linear(in_features=3072, out_features=768, bias=True)\n",
       "          )\n",
       "          (output_layer_norm): LayerNorm((768,), eps=1e-12, elementwise_affine=True)\n",
       "        )\n",
       "        (1): TransformerBlock(\n",
       "          (attention): MultiHeadSelfAttention(\n",
       "            (dropout): Dropout(p=0.1, inplace=False)\n",
       "            (q_lin): Linear(in_features=768, out_features=768, bias=True)\n",
       "            (k_lin): Linear(in_features=768, out_features=768, bias=True)\n",
       "            (v_lin): Linear(in_features=768, out_features=768, bias=True)\n",
       "            (out_lin): Linear(in_features=768, out_features=768, bias=True)\n",
       "          )\n",
       "          (sa_layer_norm): LayerNorm((768,), eps=1e-12, elementwise_affine=True)\n",
       "          (ffn): FFN(\n",
       "            (dropout): Dropout(p=0.1, inplace=False)\n",
       "            (lin1): Linear(in_features=768, out_features=3072, bias=True)\n",
       "            (lin2): Linear(in_features=3072, out_features=768, bias=True)\n",
       "          )\n",
       "          (output_layer_norm): LayerNorm((768,), eps=1e-12, elementwise_affine=True)\n",
       "        )\n",
       "        (2): TransformerBlock(\n",
       "          (attention): MultiHeadSelfAttention(\n",
       "            (dropout): Dropout(p=0.1, inplace=False)\n",
       "            (q_lin): Linear(in_features=768, out_features=768, bias=True)\n",
       "            (k_lin): Linear(in_features=768, out_features=768, bias=True)\n",
       "            (v_lin): Linear(in_features=768, out_features=768, bias=True)\n",
       "            (out_lin): Linear(in_features=768, out_features=768, bias=True)\n",
       "          )\n",
       "          (sa_layer_norm): LayerNorm((768,), eps=1e-12, elementwise_affine=True)\n",
       "          (ffn): FFN(\n",
       "            (dropout): Dropout(p=0.1, inplace=False)\n",
       "            (lin1): Linear(in_features=768, out_features=3072, bias=True)\n",
       "            (lin2): Linear(in_features=3072, out_features=768, bias=True)\n",
       "          )\n",
       "          (output_layer_norm): LayerNorm((768,), eps=1e-12, elementwise_affine=True)\n",
       "        )\n",
       "        (3): TransformerBlock(\n",
       "          (attention): MultiHeadSelfAttention(\n",
       "            (dropout): Dropout(p=0.1, inplace=False)\n",
       "            (q_lin): Linear(in_features=768, out_features=768, bias=True)\n",
       "            (k_lin): Linear(in_features=768, out_features=768, bias=True)\n",
       "            (v_lin): Linear(in_features=768, out_features=768, bias=True)\n",
       "            (out_lin): Linear(in_features=768, out_features=768, bias=True)\n",
       "          )\n",
       "          (sa_layer_norm): LayerNorm((768,), eps=1e-12, elementwise_affine=True)\n",
       "          (ffn): FFN(\n",
       "            (dropout): Dropout(p=0.1, inplace=False)\n",
       "            (lin1): Linear(in_features=768, out_features=3072, bias=True)\n",
       "            (lin2): Linear(in_features=3072, out_features=768, bias=True)\n",
       "          )\n",
       "          (output_layer_norm): LayerNorm((768,), eps=1e-12, elementwise_affine=True)\n",
       "        )\n",
       "        (4): TransformerBlock(\n",
       "          (attention): MultiHeadSelfAttention(\n",
       "            (dropout): Dropout(p=0.1, inplace=False)\n",
       "            (q_lin): Linear(in_features=768, out_features=768, bias=True)\n",
       "            (k_lin): Linear(in_features=768, out_features=768, bias=True)\n",
       "            (v_lin): Linear(in_features=768, out_features=768, bias=True)\n",
       "            (out_lin): Linear(in_features=768, out_features=768, bias=True)\n",
       "          )\n",
       "          (sa_layer_norm): LayerNorm((768,), eps=1e-12, elementwise_affine=True)\n",
       "          (ffn): FFN(\n",
       "            (dropout): Dropout(p=0.1, inplace=False)\n",
       "            (lin1): Linear(in_features=768, out_features=3072, bias=True)\n",
       "            (lin2): Linear(in_features=3072, out_features=768, bias=True)\n",
       "          )\n",
       "          (output_layer_norm): LayerNorm((768,), eps=1e-12, elementwise_affine=True)\n",
       "        )\n",
       "        (5): TransformerBlock(\n",
       "          (attention): MultiHeadSelfAttention(\n",
       "            (dropout): Dropout(p=0.1, inplace=False)\n",
       "            (q_lin): Linear(in_features=768, out_features=768, bias=True)\n",
       "            (k_lin): Linear(in_features=768, out_features=768, bias=True)\n",
       "            (v_lin): Linear(in_features=768, out_features=768, bias=True)\n",
       "            (out_lin): Linear(in_features=768, out_features=768, bias=True)\n",
       "          )\n",
       "          (sa_layer_norm): LayerNorm((768,), eps=1e-12, elementwise_affine=True)\n",
       "          (ffn): FFN(\n",
       "            (dropout): Dropout(p=0.1, inplace=False)\n",
       "            (lin1): Linear(in_features=768, out_features=3072, bias=True)\n",
       "            (lin2): Linear(in_features=3072, out_features=768, bias=True)\n",
       "          )\n",
       "          (output_layer_norm): LayerNorm((768,), eps=1e-12, elementwise_affine=True)\n",
       "        )\n",
       "      )\n",
       "    )\n",
       "  )\n",
       "  (vocab_transform): Linear(in_features=768, out_features=768, bias=True)\n",
       "  (vocab_layer_norm): LayerNorm((768,), eps=1e-12, elementwise_affine=True)\n",
       "  (vocab_projector): Linear(in_features=768, out_features=167550, bias=True)\n",
       "  (mlm_loss_fct): CrossEntropyLoss()\n",
       ")"
      ]
     },
     "execution_count": 3,
     "metadata": {},
     "output_type": "execute_result"
    }
   ],
   "source": [
    "# tokeinzier 생성\n",
    "# tokenizer 생성\n",
    "# => BertTokenizer, BertTokenizerFast 둘중 사용하면됨\n",
    "\n",
    "#tokenizer = DistilBertTokenizer(vocab_file=vocab_path, max_len=token_max_len, do_lower_case=False)\n",
    "tokenizer = DistilBertTokenizer.from_pretrained(vocab_path, max_len=token_max_len, do_lower_case=False)\n",
    "#tokenizer = BertTokenizerFast(vocab_speical_path)\n",
    "# tokenizer = BertTokenizerFast(vocab_file=vocab_file, max_len=token_max_len, do_lower_case=False)\n",
    "\n",
    "\n",
    "# speical 토큰 계수 + vocab 계수 - 이미 vocab에 포함된 speical 토큰 계수(5)\n",
    "vocab_size = len(tokenizer.all_special_tokens) + tokenizer.vocab_size - 5 + 1\n",
    "#vocab_size = len(tokenizer.all_special_tokens) + tokenizer.vocab_size - 5\n",
    "print('special_token_size: {}, tokenizer.vocab_size: {}'.format(len(tokenizer.all_special_tokens), tokenizer.vocab_size))\n",
    "print('vocab_size: {}'.format(vocab_size))\n",
    "print('tokenizer_len: {}'.format(len(tokenizer)))\n",
    "\n",
    "# 모델 로딩 further pre-training \n",
    "#config = BertConfig.from_pretrained(model_path)\n",
    "model = DistilBertForMaskedLM.from_pretrained(model_path, from_tf=bool(\".ckpt\" in model_path)) \n",
    "#model = BertForMaskedLM.from_pretrained('bert-base-multilingual-cased')    \n",
    "\n",
    "#################################################################################\n",
    "# 모델 embedding 사이즈를 tokenizer 크기 만큼 재 설정함.\n",
    "# 재설정하지 않으면, 다음과 같은 에러 발생함\n",
    "# CUDA error: CUBLAS_STATUS_NOT_INITIALIZED when calling `cublasCreate(handle)` CUDA 에러가 발생함\n",
    "#  indexSelectLargeIndex: block: [306,0,0], thread: [0,0,0] Assertion `srcIndex < srcSelectDimSize` failed.\n",
    "#\n",
    "#     해당 오류는 기존 Embedding(8002, 768, padding_idx=1) 처럼 입력 vocab 사이즈가 8002인데,\n",
    "#     0~8001 사이를 초과하는 word idx 값이 들어가면 에러 발생함.\n",
    "#################################################################################\n",
    "model.resize_token_embeddings(len(tokenizer))\n",
    "\n",
    "model.to(device)"
   ]
  },
  {
   "cell_type": "code",
   "execution_count": 4,
   "id": "8e41cf1f-4010-4348-8921-67d0f21ea09b",
   "metadata": {},
   "outputs": [
    {
     "name": "stdout",
     "output_type": "stream",
     "text": [
      "CLSid:101, SEPid:102, UNKid:100, PADid:0, MASKid:103\n",
      "*corpus:../../korpora/kowiki_20190620/wiki_20190620_small.txt\n",
      "*max_sequence_len:128\n",
      "*mlm_probability:0.15\n",
      "*CLStokenid:101, SEPtokenid:102, UNKtokenid:100, PADtokeinid:0, Masktokeid:103\n",
      "*total_line: 10000\n"
     ]
    },
    {
     "data": {
      "application/vnd.jupyter.widget-view+json": {
       "model_id": "9d2fb03a4dd74bc2a89296fe57e4ca62",
       "version_major": 2,
       "version_minor": 0
      },
      "text/plain": [
       "  0%|          | 0/10000 [00:00<?, ?it/s]"
      ]
     },
     "metadata": {},
     "output_type": "display_data"
    },
    {
     "data": {
      "application/vnd.jupyter.widget-view+json": {
       "model_id": "0a182029ca9c4a879fb9ac276d822b09",
       "version_major": 2,
       "version_minor": 0
      },
      "text/plain": [
       "  0%|          | 0/10000 [00:00<?, ?it/s]"
      ]
     },
     "metadata": {},
     "output_type": "display_data"
    },
    {
     "name": "stdout",
     "output_type": "stream",
     "text": [
      "*corpus:../../korpora/kowiki_20190620/wiki_eval_test.txt\n",
      "*max_sequence_len:128\n",
      "*mlm_probability:0.15\n",
      "*CLStokenid:101, SEPtokenid:102, UNKtokenid:100, PADtokeinid:0, Masktokeid:103\n",
      "*total_line: 114\n"
     ]
    },
    {
     "data": {
      "application/vnd.jupyter.widget-view+json": {
       "model_id": "22cd7b3ca23a4f0984eb299eb79a71a3",
       "version_major": 2,
       "version_minor": 0
      },
      "text/plain": [
       "  0%|          | 0/114 [00:00<?, ?it/s]"
      ]
     },
     "metadata": {},
     "output_type": "display_data"
    },
    {
     "data": {
      "application/vnd.jupyter.widget-view+json": {
       "model_id": "639b1083a2c147ecbe0dc2cc1446955a",
       "version_major": 2,
       "version_minor": 0
      },
      "text/plain": [
       "  0%|          | 0/114 [00:00<?, ?it/s]"
      ]
     },
     "metadata": {},
     "output_type": "display_data"
    },
    {
     "name": "stdout",
     "output_type": "stream",
     "text": [
      "{'input_ids': tensor([   101,    103,   9551,    107, 125318,    107, 125598, 122449,  11018,\n",
      "           103,    103,    103,  11303,  48506,    103,  30919,    119,    102,\n",
      "             0,      0,      0,      0,      0,      0,      0,      0,      0,\n",
      "             0,      0,      0,      0,      0,      0,      0,      0,      0,\n",
      "             0,      0,      0,      0,      0,      0,      0,      0,      0,\n",
      "             0,      0,      0,      0,      0,      0,      0,      0,      0,\n",
      "             0,      0,      0,      0,      0,      0,      0,      0,      0,\n",
      "             0,      0,      0,      0,      0,      0,      0,      0,      0,\n",
      "             0,      0,      0,      0,      0,      0,      0,      0,      0,\n",
      "             0,      0,      0,      0,      0,      0,      0,      0,      0,\n",
      "             0,      0,      0,      0,      0,      0,      0,      0,      0,\n",
      "             0,      0,      0,      0,      0,      0,      0,      0,      0,\n",
      "             0,      0,      0,      0,      0,      0,      0,      0,      0,\n",
      "             0,      0,      0,      0,      0,      0,      0,      0,      0,\n",
      "             0,      0]), 'attention_mask': tensor([1, 1, 1, 1, 1, 1, 1, 1, 1, 1, 1, 1, 1, 1, 1, 1, 1, 1, 0, 0, 0, 0, 0, 0,\n",
      "        0, 0, 0, 0, 0, 0, 0, 0, 0, 0, 0, 0, 0, 0, 0, 0, 0, 0, 0, 0, 0, 0, 0, 0,\n",
      "        0, 0, 0, 0, 0, 0, 0, 0, 0, 0, 0, 0, 0, 0, 0, 0, 0, 0, 0, 0, 0, 0, 0, 0,\n",
      "        0, 0, 0, 0, 0, 0, 0, 0, 0, 0, 0, 0, 0, 0, 0, 0, 0, 0, 0, 0, 0, 0, 0, 0,\n",
      "        0, 0, 0, 0, 0, 0, 0, 0, 0, 0, 0, 0, 0, 0, 0, 0, 0, 0, 0, 0, 0, 0, 0, 0,\n",
      "        0, 0, 0, 0, 0, 0, 0, 0]), 'labels': tensor([   101, 120501,   9551,    107, 125318,    107, 125598, 122449,  11018,\n",
      "        120397, 119606,  23545,  11303,  48506,  70672,  30919,    119,    102,\n",
      "             0,      0,      0,      0,      0,      0,      0,      0,      0,\n",
      "             0,      0,      0,      0,      0,      0,      0,      0,      0,\n",
      "             0,      0,      0,      0,      0,      0,      0,      0,      0,\n",
      "             0,      0,      0,      0,      0,      0,      0,      0,      0,\n",
      "             0,      0,      0,      0,      0,      0,      0,      0,      0,\n",
      "             0,      0,      0,      0,      0,      0,      0,      0,      0,\n",
      "             0,      0,      0,      0,      0,      0,      0,      0,      0,\n",
      "             0,      0,      0,      0,      0,      0,      0,      0,      0,\n",
      "             0,      0,      0,      0,      0,      0,      0,      0,      0,\n",
      "             0,      0,      0,      0,      0,      0,      0,      0,      0,\n",
      "             0,      0,      0,      0,      0,      0,      0,      0,      0,\n",
      "             0,      0,      0,      0,      0,      0,      0,      0,      0,\n",
      "             0,      0])}\n"
     ]
    }
   ],
   "source": [
    "from torch.utils.data import DataLoader, RandomSampler\n",
    "\n",
    "# true이면, 무조건 원본파일 읽고, cache 파일을 만듬.\n",
    "# False로 하면 cache파일이 있으면 cache파일 이용함. cache파일 없으면 원본파일 일고, cache파일은 만들지 않음\n",
    "overwrite_cache = False\n",
    "\n",
    "# 각 스페셜 tokenid를 구함\n",
    "CLStokenid = tokenizer.convert_tokens_to_ids('[CLS]')\n",
    "SEPtokenid = tokenizer.convert_tokens_to_ids('[SEP]')\n",
    "UNKtokenid = tokenizer.convert_tokens_to_ids('[UNK]')\n",
    "PADtokenid = tokenizer.convert_tokens_to_ids('[PAD]')\n",
    "MASKtokenid = tokenizer.convert_tokens_to_ids('[MASK]')\n",
    "print('CLSid:{}, SEPid:{}, UNKid:{}, PADid:{}, MASKid:{}'.format(CLStokenid, SEPtokenid, UNKtokenid, PADtokenid, MASKtokenid))\n",
    "\n",
    "# distilberttoknizer에는 token_type_ids(문장구분자) 가 없음\n",
    "# 따라서 MLMDatasetbyDistilBert 함수를 이용하여 MLM 생성함\n",
    "train_dataset = MLMDatasetbyDistilBert(corpus_path = input_corpus,\n",
    "                           tokenizer = tokenizer, \n",
    "                           CLStokeinid = CLStokenid ,   # [CLS] 토큰 id\n",
    "                           SEPtokenid = SEPtokenid ,    # [SEP] 토큰 id\n",
    "                           UNKtokenid = UNKtokenid ,    # [UNK] 토큰 id\n",
    "                           PADtokenid = PADtokenid,    # [PAD] 토큰 id\n",
    "                           Masktokenid = MASKtokenid,   # [MASK] 토큰 id\n",
    "                           max_sequence_len=token_max_len,  # max_sequence_len)\n",
    "                           mlm_probability=0.15,\n",
    "                           overwrite_cache=overwrite_cache\n",
    "                          )\n",
    "\n",
    "\n",
    "# 학습 dataloader 생성\n",
    "# => tenosor로 만듬\n",
    "train_loader = DataLoader(train_dataset, \n",
    "                          batch_size=batch_size, \n",
    "                          #shuffle=True, # dataset을 섞음\n",
    "                          sampler=RandomSampler(train_dataset, replacement=False), #dataset을 랜덤하게 샘플링함\n",
    "                          num_workers=3\n",
    "                         )\n",
    "#===============================================================================\n",
    "# eval dataloader 생성\n",
    "eval_dataset = MLMDatasetbyDistilBert(corpus_path = eval_corpus,\n",
    "                        tokenizer = tokenizer, \n",
    "                        CLStokeinid = CLStokenid ,   # [CLS] 토큰 id\n",
    "                        SEPtokenid = SEPtokenid ,    # [SEP] 토큰 id\n",
    "                        UNKtokenid = UNKtokenid ,    # [UNK] 토큰 id\n",
    "                        PADtokenid = PADtokenid,    # [PAD] 토큰 id\n",
    "                        Masktokenid = MASKtokenid,   # [MASK] 토큰 id\n",
    "                        max_sequence_len=token_max_len,  # max_sequence_len)\n",
    "                        mlm_probability=0.15,\n",
    "                        overwrite_cache=False\n",
    "                        )\n",
    "\n",
    "\n",
    "# eval dataloader 생성\n",
    "# => tenosor로 만듬\n",
    "eval_loader = DataLoader(eval_dataset, \n",
    "                         batch_size=batch_size, \n",
    "                         #shuffle=True, # dataset을 섞음\n",
    "                         sampler=RandomSampler(eval_dataset, replacement=False), #dataset을 랜덤하게 샘플링함\n",
    "                         num_workers=3\n",
    "                        )\n",
    "     #===============================================================================\n",
    "\n",
    "print(train_dataset[0])"
   ]
  },
  {
   "cell_type": "code",
   "execution_count": 5,
   "id": "619daf32-2925-4c31-a321-ed1098142bbb",
   "metadata": {},
   "outputs": [],
   "source": [
    "import time\n",
    "def save_model(model, tokenizer, OUTPATH, epochs, lr, batch_size):\n",
    "    \n",
    "    # 현재 local 시간 얻어옴(20220414-12-20)\n",
    "    tm = time.localtime(time.time())  \n",
    "    tt = f\"batch:{batch_size}-ep:{epochs}-lr:{lr:.9f}-{tm.tm_mon}m{tm.tm_mday}d-{tm.tm_hour}:{tm.tm_min}\"\n",
    "                \n",
    "    TMP_OUT_PATH = OUTPATH + tt\n",
    "    \n",
    "    ### 전체모델 저장\n",
    "    os.makedirs(TMP_OUT_PATH, exist_ok=True)\n",
    "    #torch.save(model, OUTPATH + 'pytorch_model.bin') \n",
    "    # save_pretrained 로 저장하면 config.json, pytorch_model.bin 2개의 파일이 생성됨\n",
    "    model.save_pretrained(TMP_OUT_PATH)\n",
    "\n",
    "    # tokeinizer 파일 저장(vocab)\n",
    "    VOCAB_PATH = TMP_OUT_PATH\n",
    "    tokenizer.save_pretrained(VOCAB_PATH)\n",
    "    \n",
    "    logger.info(f'==> save_model : {TMP_OUT_PATH}')"
   ]
  },
  {
   "cell_type": "code",
   "execution_count": 6,
   "id": "89756e9c-7002-4d63-b2ef-a3431486fb74",
   "metadata": {},
   "outputs": [
    {
     "data": {
      "application/vnd.jupyter.widget-view+json": {
       "model_id": "a70d23ed696e47dcbfb124fdef8bef8f",
       "version_major": 2,
       "version_minor": 0
      },
      "text/plain": [
       "  0%|          | 0/4 [00:00<?, ?it/s]"
      ]
     },
     "metadata": {},
     "output_type": "display_data"
    },
    {
     "data": {
      "application/vnd.jupyter.widget-view+json": {
       "model_id": "87d83285a6f44b5298eadc24da2b50f3",
       "version_major": 2,
       "version_minor": 0
      },
      "text/plain": [
       "  0%|          | 0/307 [00:00<?, ?it/s]"
      ]
     },
     "metadata": {},
     "output_type": "display_data"
    },
    {
     "name": "stderr",
     "output_type": "stream",
     "text": [
      "2022-04-18 14:05:51,422 - distilbertfpt-1 - INFO - [Epoch 1/4] Iteration 30 -> Train Loss: 11.3976, Train Acc: 0.0000, Val Acc:0.0003197953309881676\n",
      "2022-04-18 14:05:58,361 - distilbertfpt-1 - INFO - [Epoch 1/4] Iteration 60 -> Train Loss: 6.0669, Train Acc: 0.0000, Val Acc:0.0\n",
      "2022-04-18 14:06:05,287 - distilbertfpt-1 - INFO - [Epoch 1/4] Iteration 90 -> Train Loss: 2.3384, Train Acc: 0.0075, Val Acc:0.0354972817396866\n",
      "2022-04-18 14:06:12,450 - distilbertfpt-1 - INFO - [Epoch 1/4] Iteration 120 -> Train Loss: 1.7250, Train Acc: 0.1146, Val Acc:0.17620722737448033\n",
      "2022-04-18 14:06:19,400 - distilbertfpt-1 - INFO - [Epoch 1/4] Iteration 150 -> Train Loss: 1.3626, Train Acc: 0.2564, Val Acc:0.2807803006076111\n",
      "2022-04-18 14:06:26,349 - distilbertfpt-1 - INFO - [Epoch 1/4] Iteration 180 -> Train Loss: 1.1119, Train Acc: 0.3858, Val Acc:0.3895107131435881\n",
      "2022-04-18 14:06:33,248 - distilbertfpt-1 - INFO - [Epoch 1/4] Iteration 210 -> Train Loss: 0.9769, Train Acc: 0.4635, Val Acc:0.45314998401023343\n",
      "2022-04-18 14:06:40,191 - distilbertfpt-1 - INFO - [Epoch 1/4] Iteration 240 -> Train Loss: 0.8497, Train Acc: 0.5257, Val Acc:0.4931244003837544\n",
      "2022-04-18 14:06:47,175 - distilbertfpt-1 - INFO - [Epoch 1/4] Iteration 270 -> Train Loss: 0.8111, Train Acc: 0.5624, Val Acc:0.5225455708346658\n",
      "2022-04-18 14:06:54,094 - distilbertfpt-1 - INFO - [Epoch 1/4] Iteration 300 -> Train Loss: 0.7322, Train Acc: 0.6041, Val Acc:0.5580428525743524\n"
     ]
    },
    {
     "data": {
      "application/vnd.jupyter.widget-view+json": {
       "model_id": "0feb76d577f0414fb6dc010880a00acb",
       "version_major": 2,
       "version_minor": 0
      },
      "text/plain": [
       "  0%|          | 0/307 [00:00<?, ?it/s]"
      ]
     },
     "metadata": {},
     "output_type": "display_data"
    },
    {
     "name": "stderr",
     "output_type": "stream",
     "text": [
      "2022-04-18 14:07:01,606 - distilbertfpt-1 - INFO - [Epoch 2/4] Iteration 330 -> Train Loss: 0.8667, Train Acc: 0.5722, Val Acc:0.5516469459545891\n",
      "2022-04-18 14:07:08,600 - distilbertfpt-1 - INFO - [Epoch 2/4] Iteration 360 -> Train Loss: 0.6649, Train Acc: 0.6447, Val Acc:0.5871442276942757\n",
      "2022-04-18 14:07:15,579 - distilbertfpt-1 - INFO - [Epoch 2/4] Iteration 390 -> Train Loss: 0.6121, Train Acc: 0.6766, Val Acc:0.6120882635113527\n",
      "2022-04-18 14:07:22,559 - distilbertfpt-1 - INFO - [Epoch 2/4] Iteration 420 -> Train Loss: 0.6202, Train Acc: 0.6973, Val Acc:0.6267988487368085\n",
      "2022-04-18 14:07:29,556 - distilbertfpt-1 - INFO - [Epoch 2/4] Iteration 450 -> Train Loss: 0.5689, Train Acc: 0.7222, Val Acc:0.6459865685960985\n",
      "2022-04-18 14:07:36,542 - distilbertfpt-1 - INFO - [Epoch 2/4] Iteration 480 -> Train Loss: 0.5667, Train Acc: 0.7391, Val Acc:0.660377358490566\n",
      "2022-04-18 14:07:43,511 - distilbertfpt-1 - INFO - [Epoch 2/4] Iteration 510 -> Train Loss: 0.5397, Train Acc: 0.7518, Val Acc:0.6642149024624241\n",
      "2022-04-18 14:07:50,464 - distilbertfpt-1 - INFO - [Epoch 2/4] Iteration 540 -> Train Loss: 0.5191, Train Acc: 0.7640, Val Acc:0.6763671250399744\n",
      "2022-04-18 14:07:57,446 - distilbertfpt-1 - INFO - [Epoch 2/4] Iteration 570 -> Train Loss: 0.5014, Train Acc: 0.7819, Val Acc:0.688839142948513\n",
      "2022-04-18 14:08:04,436 - distilbertfpt-1 - INFO - [Epoch 2/4] Iteration 600 -> Train Loss: 0.4904, Train Acc: 0.7858, Val Acc:0.6993923888711224\n",
      "2022-04-18 14:08:08,736 - distilbertfpt-1 - INFO - ==> save_model : ../../model/distilbert/distilbert-0331-TS-nli-0.1-10-04-19/batch:32-ep:4-lr:0.000020000-4m18d-14:8\n"
     ]
    },
    {
     "data": {
      "application/vnd.jupyter.widget-view+json": {
       "model_id": "6bcd022bb91e40079168fab2637c6b88",
       "version_major": 2,
       "version_minor": 0
      },
      "text/plain": [
       "  0%|          | 0/307 [00:00<?, ?it/s]"
      ]
     },
     "metadata": {},
     "output_type": "display_data"
    },
    {
     "name": "stderr",
     "output_type": "stream",
     "text": [
      "2022-04-18 14:08:13,365 - distilbertfpt-1 - INFO - [Epoch 3/4] Iteration 630 -> Train Loss: 0.5708, Train Acc: 0.7529, Val Acc:0.6683722417652702\n",
      "2022-04-18 14:08:20,350 - distilbertfpt-1 - INFO - [Epoch 3/4] Iteration 660 -> Train Loss: 0.4687, Train Acc: 0.7948, Val Acc:0.7086664534697793\n",
      "2022-04-18 14:08:27,312 - distilbertfpt-1 - INFO - [Epoch 3/4] Iteration 690 -> Train Loss: 0.4474, Train Acc: 0.8137, Val Acc:0.7121842021106491\n",
      "2022-04-18 14:08:34,311 - distilbertfpt-1 - INFO - [Epoch 3/4] Iteration 720 -> Train Loss: 0.4789, Train Acc: 0.8160, Val Acc:0.7217780620402943\n",
      "2022-04-18 14:08:41,298 - distilbertfpt-1 - INFO - [Epoch 3/4] Iteration 750 -> Train Loss: 0.4303, Train Acc: 0.8250, Val Acc:0.7249760153501759\n",
      "2022-04-18 14:08:48,291 - distilbertfpt-1 - INFO - [Epoch 3/4] Iteration 780 -> Train Loss: 0.4240, Train Acc: 0.8283, Val Acc:0.7304125359769748\n",
      "2022-04-18 14:08:55,285 - distilbertfpt-1 - INFO - [Epoch 3/4] Iteration 810 -> Train Loss: 0.4230, Train Acc: 0.8333, Val Acc:0.7374480332587144\n",
      "2022-04-18 14:09:02,292 - distilbertfpt-1 - INFO - [Epoch 3/4] Iteration 840 -> Train Loss: 0.4235, Train Acc: 0.8371, Val Acc:0.7406459865685961\n",
      "2022-04-18 14:09:09,285 - distilbertfpt-1 - INFO - [Epoch 3/4] Iteration 870 -> Train Loss: 0.4160, Train Acc: 0.8397, Val Acc:0.7400063959066198\n",
      "2022-04-18 14:09:16,305 - distilbertfpt-1 - INFO - [Epoch 3/4] Iteration 900 -> Train Loss: 0.4188, Train Acc: 0.8399, Val Acc:0.742244963223537\n"
     ]
    },
    {
     "data": {
      "application/vnd.jupyter.widget-view+json": {
       "model_id": "468862dc86694c31bef935f4997cbf04",
       "version_major": 2,
       "version_minor": 0
      },
      "text/plain": [
       "  0%|          | 0/307 [00:00<?, ?it/s]"
      ]
     },
     "metadata": {},
     "output_type": "display_data"
    },
    {
     "name": "stderr",
     "output_type": "stream",
     "text": [
      "2022-04-18 14:09:23,841 - distilbertfpt-1 - INFO - [Epoch 4/4] Iteration 930 -> Train Loss: 0.4644, Train Acc: 0.8215, Val Acc:0.7201790853853534\n",
      "2022-04-18 14:09:30,860 - distilbertfpt-1 - INFO - [Epoch 4/4] Iteration 960 -> Train Loss: 0.4039, Train Acc: 0.8433, Val Acc:0.7515190278221938\n",
      "2022-04-18 14:09:37,885 - distilbertfpt-1 - INFO - [Epoch 4/4] Iteration 990 -> Train Loss: 0.3904, Train Acc: 0.8524, Val Acc:0.7566357531180045\n",
      "2022-04-18 14:09:44,900 - distilbertfpt-1 - INFO - [Epoch 4/4] Iteration 1020 -> Train Loss: 0.3908, Train Acc: 0.8569, Val Acc:0.7604732970898624\n",
      "2022-04-18 14:09:51,901 - distilbertfpt-1 - INFO - [Epoch 4/4] Iteration 1050 -> Train Loss: 0.3782, Train Acc: 0.8563, Val Acc:0.7607930924208507\n",
      "2022-04-18 14:09:58,906 - distilbertfpt-1 - INFO - [Epoch 4/4] Iteration 1080 -> Train Loss: 0.4010, Train Acc: 0.8572, Val Acc:0.7611128877518388\n",
      "2022-04-18 14:10:05,904 - distilbertfpt-1 - INFO - [Epoch 4/4] Iteration 1110 -> Train Loss: 0.3949, Train Acc: 0.8553, Val Acc:0.7623920690757915\n",
      "2022-04-18 14:10:12,892 - distilbertfpt-1 - INFO - [Epoch 4/4] Iteration 1140 -> Train Loss: 0.3774, Train Acc: 0.8616, Val Acc:0.7684681803645667\n",
      "2022-04-18 14:10:19,887 - distilbertfpt-1 - INFO - [Epoch 4/4] Iteration 1170 -> Train Loss: 0.3819, Train Acc: 0.8615, Val Acc:0.7675087943716021\n",
      "2022-04-18 14:10:26,883 - distilbertfpt-1 - INFO - [Epoch 4/4] Iteration 1200 -> Train Loss: 0.3878, Train Acc: 0.8598, Val Acc:0.7662296130476495\n",
      "2022-04-18 14:10:34,064 - distilbertfpt-1 - INFO - ==> save_model : ../../model/distilbert/distilbert-0331-TS-nli-0.1-10-04-19/batch:32-ep:4-lr:0.000020000-4m18d-14:10\n"
     ]
    }
   ],
   "source": [
    "##################################################\n",
    "epochs = 4            # epochs\n",
    "learning_rate = 2e-5  # 학습률\n",
    "##################################################\n",
    "\n",
    "# optimizer 적용\n",
    "optimizer = AdamW(model.parameters(), \n",
    "                 lr=learning_rate, \n",
    "                 eps=1e-8) # 0으로 나누는 것을 방지하기 위한 epsilon 값(10^-6 ~ 10^-8 사이 이값 입력합)\n",
    "\n",
    "# 총 훈련과정에서 반복할 스탭\n",
    "total_steps = len(train_loader)*epochs\n",
    "warmup_steps = total_steps * 0.1 #10% of train data for warm-up\n",
    "\n",
    "# 손실률 보여줄 step 수\n",
    "p_itr = int(len(train_loader)*0.1)  \n",
    "    \n",
    "# step마다 모델 저장\n",
    "save_steps = int(total_steps * 0.5)\n",
    "    \n",
    "# 스캐줄러 생성\n",
    "scheduler = get_linear_schedule_with_warmup(optimizer, \n",
    "                                            num_warmup_steps=warmup_steps, \n",
    "                                            num_training_steps=total_steps)\n",
    "\n",
    "itr = 1\n",
    "total_loss = 0\n",
    "total_len = 0\n",
    "total_correct = 0\n",
    "total_test_correct = 0\n",
    "total_test_len = 0\n",
    "            \n",
    "list_train_loss = []\n",
    "list_train_acc = []\n",
    "list_validation_acc = []\n",
    "\n",
    "model.zero_grad()# 그래디언트 초기화\n",
    "for epoch in tqdm(range(epochs)):\n",
    "\n",
    "    model.train() # 훈련모드로 변환\n",
    "    for data in tqdm(train_loader):\n",
    "    \n",
    "        #optimizer.zero_grad()\n",
    "        model.zero_grad()# 그래디언트 초기화\n",
    "        \n",
    "        # 입력 값 설정\n",
    "        input_ids = data['input_ids'].to(device)\n",
    "        attention_mask = data['attention_mask'].to(device)\n",
    "        #token_type_ids = data['token_type_ids'].to(device)         \n",
    "        labels = data['labels'].to(device)\n",
    "        #print('Labels:{}'.format(labels))\n",
    "        \n",
    "        # 모델 실행\n",
    "        outputs = model(input_ids=input_ids, \n",
    "                        attention_mask=attention_mask,\n",
    "                        #token_type_ids=token_type_ids,\n",
    "                        labels=labels)\n",
    "        \n",
    "        # 출력값 loss,logits를 outputs에서 얻어옴\n",
    "        loss = outputs.loss\n",
    "        logits = outputs.logits\n",
    "        #print('Loss:{}, logits:{}'.format(loss, logits))\n",
    "        \n",
    "        # optimizer 과 scheduler 업데이트 시킴\n",
    "        loss.backward()   # backward 구함\n",
    "        torch.nn.utils.clip_grad_norm_(model.parameters(), 1.0)   # 그래디언트 클리핑 (gradient vanishing이나 gradient exploding 방지하기 위한 기법)\n",
    "        optimizer.step()  # 가중치 파라미터 업데이트(optimizer 이동)\n",
    "        scheduler.step()  # 학습률 감소\n",
    "        \n",
    "        # ***further pretrain 에는 손실률 계산을 넣지 않음\n",
    "        # 정확도 계산하는 부분은 no_grade 시켜서, 계산량을 줄임.\n",
    "        \n",
    "        # => torch.no_grad()는 gradient을 계산하는 autograd engine를 비활성화 하여 \n",
    "        # 필요한 메모리를 줄이고, 연산속도를 증가시키는 역활을 함\n",
    "        with torch.no_grad():\n",
    "                        \n",
    "            # 손실(loss) 계산 \n",
    "            total_loss += loss.item()\n",
    "                \n",
    "            #===========================================\n",
    "            # 정확도(Accurarcy) 계산\n",
    "            pred = torch.argmax(logits, dim=2)\n",
    "            tmpcorrect = pred.eq(labels)\n",
    "\n",
    "            # 예측값 중 true인값 * attention_maks가 = 1(True)인것 중에서 True값이 합이 masked에서 알아맞춘 단어 계수임\n",
    "            correct = tmpcorrect*attention_mask \n",
    "            total_correct += correct.sum().item() \n",
    "\n",
    "            # 단어 총 수는 attension_mask가 1(True) 인 것들의 합\n",
    "            total_len += attention_mask.sum().item() \n",
    "            #=========================================   \n",
    "         \n",
    "            # 주기마다 test(validataion) 데이터로 평가하여 손실류 계산함.\n",
    "            if itr % p_itr == 0:\n",
    "                train_loss = total_loss/p_itr\n",
    "                train_acc = total_correct/total_len\n",
    "                         \n",
    "                ####################################################################\n",
    "                # 주기마다 eval(validataion) 데이터로 평가하여 손실류 계산함.\n",
    "                # 평가 시작\n",
    "                model.eval()\n",
    "\n",
    "                #for data in tqdm(eval_loader):\n",
    "                for data in eval_loader:\n",
    "                    # 입력 값 설정\n",
    "                    input_ids = data['input_ids'].to(device)\n",
    "                    attention_mask = data['attention_mask'].to(device)\n",
    "                    labels = data['labels'].to(device)\n",
    "\n",
    "                    # 손실률 계산하는 부분은 no_grade 시켜서, 계산량을 줄임.\n",
    "                    # => torch.no_grad()는 gradient을 계산하는 autograd engine를 비활성화 하여 \n",
    "                    # 필요한 메모리를 줄이고, 연산속도를 증가시키는 역활을 함\n",
    "                    with torch.no_grad():\n",
    "                        # 모델 실행\n",
    "                        outputs = model(input_ids=input_ids, \n",
    "                                       attention_mask=attention_mask,\n",
    "                                       labels=labels)\n",
    "\n",
    "                        # 출력값 loss,logits를 outputs에서 얻어옴\n",
    "                        #loss = outputs.loss\n",
    "                        logits = outputs.logits\n",
    "\n",
    "                        #===========================================\n",
    "                        # 정확도(Accurarcy) 계산\n",
    "                        pred = torch.argmax(logits, dim=2)\n",
    "                        tmpcorrect = pred.eq(labels)\n",
    "\n",
    "                        # 예측값 중 true인값 * attention_maks가 = 1(True)인것 중에서 True값이 합이 masked에서 알아맞춘 단어 계수임\n",
    "                        correct = tmpcorrect*attention_mask \n",
    "                        total_test_correct += correct.sum().item() \n",
    "\n",
    "                        # 단어 총 수는 attension_mask가 1(True) 인 것들의 합\n",
    "                        total_test_len += attention_mask.sum().item() \n",
    "                        #========================================= \n",
    "\n",
    "                val_acc = total_test_correct/total_test_len\n",
    "                    \n",
    "                logger.info('[Epoch {}/{}] Iteration {} -> Train Loss: {:.4f}, Train Acc: {:.4f}, Val Acc:{}'.format(epoch+1, epochs, itr, train_loss, train_acc, val_acc))\n",
    "                    \n",
    "                list_train_loss.append(train_loss)\n",
    "                list_train_acc.append(train_acc)\n",
    "                list_validation_acc.append(val_acc)\n",
    "                 \n",
    "                total_loss = 0\n",
    "                total_len = 0\n",
    "                total_correct = 0\n",
    "                total_test_correct = 0\n",
    "                total_test_len = 0\n",
    "                ####################################################################\n",
    "\n",
    "            # 모델 저장\n",
    "            if itr % save_steps == 0:\n",
    "                save_model(model, tokenizer, OUTPATH, epochs, learning_rate, batch_size)\n",
    "\n",
    "        itr+=1\n",
    "   "
   ]
  },
  {
   "cell_type": "code",
   "execution_count": 16,
   "id": "869e6f6d-064e-49c4-b851-6af50aa127eb",
   "metadata": {},
   "outputs": [
    {
     "data": {
      "image/png": "[encoded data removed]",
      "text/plain": [
       "<Figure size 432x288 with 1 Axes>"
      ]
     },
     "metadata": {
      "needs_background": "light"
     },
     "output_type": "display_data"
    },
    {
     "data": {
      "image/png": "[encoded data removed]",
      "text/plain": [
       "<Figure size 432x288 with 1 Axes>"
      ]
     },
     "metadata": {
      "needs_background": "light"
     },
     "output_type": "display_data"
    }
   ],
   "source": [
    "# 그래프로 loss 표기\n",
    "#!pip install matplotlib\n",
    "import matplotlib.pyplot as plt\n",
    "\n",
    "plt.plot(list_train_loss, label='Train Loss')\n",
    "#plt.plot(list_train_acc, label='Train Accuracy')\n",
    "#plt.plot(list_validation_acc, label='Eval Accuracy')\n",
    "plt.legend()\n",
    "\n",
    "plt.show()\n",
    "\n",
    "plt.plot(list_train_acc, label='Train Accuracy')\n",
    "plt.plot(list_validation_acc, label='Eval Accuracy')\n",
    "plt.legend()\n",
    "plt.show()"
   ]
  },
  {
   "cell_type": "code",
   "execution_count": null,
   "id": "59891576-ff4e-4826-b5b3-90468005a80b",
   "metadata": {},
   "outputs": [],
   "source": [
    "### 전체모델 저장\n",
    "#save_model(model, tokenizer, OUTPATH, epochs, learning_rate, batch_size)"
   ]
  },
  {
   "cell_type": "code",
   "execution_count": null,
   "id": "111fac71-a6d8-4eb6-bc77-e1bca6b19225",
   "metadata": {},
   "outputs": [],
   "source": []
  }
 ],
 "metadata": {
  "kernelspec": {
   "display_name": "Python 3 (ipykernel)",
   "language": "python",
   "name": "python3"
  },
  "language_info": {
   "codemirror_mode": {
    "name": "ipython",
    "version": 3
   },
   "file_extension": ".py",
   "mimetype": "text/x-python",
   "name": "python",
   "nbconvert_exporter": "python",
   "pygments_lexer": "ipython3",
   "version": "3.9.7"
  }
 },
 "nbformat": 4,
 "nbformat_minor": 5
}

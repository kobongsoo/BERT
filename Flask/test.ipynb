{
 "cells": [
  {
   "cell_type": "code",
   "execution_count": null,
   "id": "6aa9f220-4920-4077-9090-5d243f549011",
   "metadata": {},
   "outputs": [],
   "source": [
    "from model import classification_model_eval"
   ]
  },
  {
   "cell_type": "code",
   "execution_count": null,
   "id": "adb4a121-1121-4559-a727-59a8cedafa6a",
   "metadata": {},
   "outputs": [],
   "source": [
    "sentence = '이 영화는 너무너무 재미 있다.'\n",
    "outputs = classification_model_eval(sentence)"
   ]
  },
  {
   "cell_type": "code",
   "execution_count": null,
   "id": "7ad5578a-50bf-44bf-b1a3-5ff2516f4940",
   "metadata": {},
   "outputs": [],
   "source": [
    "print(outputs)"
   ]
  },
  {
   "cell_type": "code",
   "execution_count": 1,
   "id": "ada9a9f0-9f8f-4813-943e-07d3ff5276a5",
   "metadata": {},
   "outputs": [
    {
     "name": "stdout",
     "output_type": "stream",
     "text": [
      "logfilepath:bwdataset_2022-03-23.log\n",
      "logfilepath:qnadataset_2022-03-23.log\n",
      "True\n",
      "device: cuda:0\n",
      "cuda index: 0\n",
      "gpu 개수: 1\n",
      "graphic name: NVIDIA A30\n"
     ]
    }
   ],
   "source": [
    "from model import sbert_model_eval"
   ]
  },
  {
   "cell_type": "code",
   "execution_count": 2,
   "id": "8593cdd6-bebe-4d84-b8f0-17286f063734",
   "metadata": {},
   "outputs": [
    {
     "data": {
      "text/plain": [
       "{'query': '오늘 날씨는 오전에는 눈이 조금 오고 춥겠습니다',\n",
       " 'values': '흐리고 비가 와요(Score: 0.2302)\\r\\n이영화는 너무 슬퍼요(Score: 0.0845)\\r\\n농구를 너무 좋아합니다(Score: 0.0379)\\r\\n'}"
      ]
     },
     "execution_count": 2,
     "metadata": {},
     "output_type": "execute_result"
    }
   ],
   "source": [
    "querys = '오늘 날씨는 오전에는 눈이 조금 오고 춥겠습니다'\n",
    "labels = '흐리고 비가 와요, 농구를 너무 좋아합니다, 이영화는 너무 슬퍼요'\n",
    "sbert_model_eval(querys=querys, labels=labels)\n"
   ]
  },
  {
   "cell_type": "code",
   "execution_count": null,
   "id": "93c7a071-accd-4edd-892c-736e9ef72569",
   "metadata": {},
   "outputs": [],
   "source": []
  }
 ],
 "metadata": {
  "kernelspec": {
   "display_name": "Python 3 (ipykernel)",
   "language": "python",
   "name": "python3"
  },
  "language_info": {
   "codemirror_mode": {
    "name": "ipython",
    "version": 3
   },
   "file_extension": ".py",
   "mimetype": "text/x-python",
   "name": "python",
   "nbconvert_exporter": "python",
   "pygments_lexer": "ipython3",
   "version": "3.9.7"
  }
 },
 "nbformat": 4,
 "nbformat_minor": 5
}

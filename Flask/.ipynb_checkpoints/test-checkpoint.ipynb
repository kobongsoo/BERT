{
 "cells": [
  {
   "cell_type": "code",
   "execution_count": 2,
   "id": "6aa9f220-4920-4077-9090-5d243f549011",
   "metadata": {},
   "outputs": [
    {
     "name": "stdout",
     "output_type": "stream",
     "text": [
      "logfilepath:bwdataset_2022-03-23.log\n",
      "logfilepath:qnadataset_2022-03-23.log\n",
      "True\n",
      "device: cuda:0\n",
      "cuda index: 0\n",
      "gpu 개수: 1\n",
      "graphic name: NVIDIA A30\n",
      "logfilepath:cmodel_2022-03-23.log\n"
     ]
    }
   ],
   "source": [
    "from model import model_eval"
   ]
  },
  {
   "cell_type": "code",
   "execution_count": 3,
   "id": "adb4a121-1121-4559-a727-59a8cedafa6a",
   "metadata": {},
   "outputs": [
    {
     "name": "stderr",
     "output_type": "stream",
     "text": [
      "2022-03-23 12:01:15,405 - cmodel - INFO - {'input_ids': tensor([[   101,   9638,  42428,  11018, 120444,  70162,  32537, 124743,  11506,\n",
      "            119,    102]], device='cuda:0'), 'token_type_ids': tensor([[0, 0, 0, 0, 0, 0, 0, 0, 0, 0, 0]], device='cuda:0'), 'attention_mask': tensor([[1, 1, 1, 1, 1, 1, 1, 1, 1, 1, 1]], device='cuda:0')}\n",
      "2022-03-23 12:01:16,287 - cmodel - INFO - loss:None\n",
      "2022-03-23 12:01:16,300 - cmodel - INFO - logits:tensor([[-0.4200,  0.8136]], device='cuda:0', grad_fn=<AddmmBackward0>)\n"
     ]
    }
   ],
   "source": [
    "sentence = '이 영화는 너무너무 재미 있다.'\n",
    "outputs = model_eval(sentence)"
   ]
  },
  {
   "cell_type": "code",
   "execution_count": null,
   "id": "7ad5578a-50bf-44bf-b1a3-5ff2516f4940",
   "metadata": {},
   "outputs": [],
   "source": [
    "print(outputs)"
   ]
  }
 ],
 "metadata": {
  "kernelspec": {
   "display_name": "Python 3 (ipykernel)",
   "language": "python",
   "name": "python3"
  },
  "language_info": {
   "codemirror_mode": {
    "name": "ipython",
    "version": 3
   },
   "file_extension": ".py",
   "mimetype": "text/x-python",
   "name": "python",
   "nbconvert_exporter": "python",
   "pygments_lexer": "ipython3",
   "version": "3.9.7"
  }
 },
 "nbformat": 4,
 "nbformat_minor": 5
}

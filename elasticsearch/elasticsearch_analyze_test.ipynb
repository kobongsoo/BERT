{
 "cells": [
  {
   "cell_type": "code",
   "execution_count": 2,
   "id": "99b8b211-6285-4ce0-94ad-aebee8cd5050",
   "metadata": {},
   "outputs": [
    {
     "name": "stderr",
     "output_type": "stream",
     "text": [
      "C:\\Users\\bong9\\anaconda3\\envs\\pytorch\\lib\\site-packages\\elasticsearch\\connection\\base.py:208: ElasticsearchWarning: Elasticsearch built-in security features are not enabled. Without authentication, your cluster could be accessible to anyone. See https://www.elastic.co/guide/en/elasticsearch/reference/7.17/security-minimal-setup.html to enable security.\n",
      "  warnings.warn(message, category=ElasticsearchWarning)\n"
     ]
    },
    {
     "data": {
      "text/plain": [
       "{'name': 'lenovo-x240',\n",
       " 'cluster_name': 'mpower',\n",
       " 'cluster_uuid': 'JJ1h3dNTRvSLJFW3gj5MCw',\n",
       " 'version': {'number': '7.17.3',\n",
       "  'build_flavor': 'default',\n",
       "  'build_type': 'zip',\n",
       "  'build_hash': '5ad023604c8d7416c9eb6c0eadb62b14e766caff',\n",
       "  'build_date': '2022-04-19T08:11:19.070913226Z',\n",
       "  'build_snapshot': False,\n",
       "  'lucene_version': '8.11.1',\n",
       "  'minimum_wire_compatibility_version': '6.8.0',\n",
       "  'minimum_index_compatibility_version': '6.0.0-beta1'},\n",
       " 'tagline': 'You Know, for Search'}"
      ]
     },
     "execution_count": 2,
     "metadata": {},
     "output_type": "execute_result"
    }
   ],
   "source": [
    "#=====================================================================\n",
    "# elasticsearch에 한국어 tokenizer 테스트 예시 \n",
    "# 참고 : https://jvvp.tistory.com/1158\n",
    "#       https://m.blog.naver.com/PostView.naver?isHttpsRedirect=true&blogId=ysulshin&logNo=220932285051\n",
    "#=====================================================================\n",
    "import pprint\n",
    "\n",
    "from elasticsearch import Elasticsearch\n",
    "from elasticsearch import helpers\n",
    "\n",
    "es = Elasticsearch(\"http://192.168.0.130:9200/\")\n",
    "es.info()"
   ]
  },
  {
   "cell_type": "code",
   "execution_count": 3,
   "id": "95a48d69-c4d2-4cad-aba0-69634e8e2f6a",
   "metadata": {},
   "outputs": [
    {
     "data": {
      "text/plain": [
       "{'tokens': [{'token': '매일',\n",
       "   'start_offset': 0,\n",
       "   'end_offset': 2,\n",
       "   'type': 'word',\n",
       "   'position': 0},\n",
       "  {'token': '비',\n",
       "   'start_offset': 3,\n",
       "   'end_offset': 4,\n",
       "   'type': 'word',\n",
       "   'position': 1},\n",
       "  {'token': '가',\n",
       "   'start_offset': 4,\n",
       "   'end_offset': 5,\n",
       "   'type': 'word',\n",
       "   'position': 2},\n",
       "  {'token': '오',\n",
       "   'start_offset': 6,\n",
       "   'end_offset': 7,\n",
       "   'type': 'word',\n",
       "   'position': 3},\n",
       "  {'token': '네요',\n",
       "   'start_offset': 7,\n",
       "   'end_offset': 9,\n",
       "   'type': 'word',\n",
       "   'position': 4}]}"
      ]
     },
     "execution_count": 3,
     "metadata": {},
     "output_type": "execute_result"
    }
   ],
   "source": [
    "# nori_tokenizer(한국어 Mecab 토큰너나이저) 동작하는지테스트 해봄\n",
    "body = {\n",
    "    \"tokenizer\":\"nori_tokenizer\",\n",
    "    \"filter\" : [\n",
    "        \"lowercase\",\n",
    "        \"stop\",\n",
    "        \"snowball\"\n",
    "    ],\n",
    "    \"text\" : [\"매일 비가 오네요\"]\n",
    "}\n",
    "es.indices.analyze(body=body)\n"
   ]
  },
  {
   "cell_type": "code",
   "execution_count": 4,
   "id": "39441d72-067e-43d7-b3ce-ba9a1b681e08",
   "metadata": {},
   "outputs": [],
   "source": [
    "###########################################################\n",
    "# 인덱스 생성/삭제\n",
    "###########################################################\n",
    "## 인덱스 생성\n",
    "def create_index(index, mapping=None):\n",
    "    if not es.indices.exists(index=index):\n",
    "        return es.indices.create(index=index ,body=mapping)\n",
    "    \n",
    "## 인덱스 자체 삭제\n",
    "def delete_index(index):\n",
    "    if es.indices.exists(index=index):\n",
    "        return es.indices.delete(index=index)\n",
    "    \n",
    "###########################################################\n",
    "# 인데스에 데이터 추가 \n",
    "###########################################################\n",
    "def insert(index, doc_type, body):\n",
    "    return es.index(index=index, doc_type=doc_type, body=body)\n",
    "\n"
   ]
  },
  {
   "cell_type": "code",
   "execution_count": 5,
   "id": "63cb1caf-2bf5-40be-900b-ecbaf1e28371",
   "metadata": {},
   "outputs": [
    {
     "name": "stdout",
     "output_type": "stream",
     "text": [
      "{'settings': {'number_of_shards': 2, 'number_of_replicas': 1, 'analysis': {'analyzer': {'mytokenizer': {'type': 'custom', 'tokenizer': 'nori_tokenizer', 'decompound_mode': 'mixed'}}}}, 'mappings': {'dynamic': 'true', '_source': {'enabled': 'true'}, 'properties': {'title': {'type': 'text', 'analyzer': 'mytokenizer'}, 'content': {'type': 'text', 'analyzer': 'mytokenizer'}}}}\n",
      "\n",
      "\n",
      "{'acknowledged': True}\n",
      "\n",
      "\n",
      "{'acknowledged': True, 'shards_acknowledged': True, 'index': 'mytoken'}\n",
      "\n",
      "\n",
      "{'mytoken': {'settings': {'index': {'analysis': {'analyzer': {'mytokenizer': {'decompound_mode': 'mixed',\n",
      "                                                                              'tokenizer': 'nori_tokenizer',\n",
      "                                                                              'type': 'custom'}}},\n",
      "                                    'creation_date': '1653357095254',\n",
      "                                    'number_of_replicas': '1',\n",
      "                                    'number_of_shards': '2',\n",
      "                                    'provided_name': 'mytoken',\n",
      "                                    'routing': {'allocation': {'include': {'_tier_preference': 'data_content'}}},\n",
      "                                    'uuid': 'SRLwtbV6RPaKSCZK4QY3eA',\n",
      "                                    'version': {'created': '7170399'}}}}}\n",
      "\n",
      "\n"
     ]
    }
   ],
   "source": [
    "import json\n",
    "\n",
    "INDEX_NAME = \"mytoken\"\n",
    "\n",
    "# .json 파일을 불러옴\n",
    "JSON_FILE = 'tokenizer_setting.json'\n",
    "\n",
    "with open(JSON_FILE, \"r\", encoding=\"utf-8\") as f:\n",
    "    setting = json.load(f)\n",
    "    \n",
    "print(setting)\n",
    "print('\\n')\n",
    "\n",
    "# 기존에 index 있으면 삭제 \n",
    "res=delete_index(index=INDEX_NAME)\n",
    "print(res)\n",
    "print('\\n')\n",
    "\n",
    "# index 생성\n",
    "\n",
    "res=create_index(index=INDEX_NAME, mapping=setting)\n",
    "print(res)\n",
    "print('\\n')\n",
    "\n",
    "result=es.indices.get_settings(index=INDEX_NAME)\n",
    "pprint.pprint(result)\n",
    "print('\\n')\n",
    "\n"
   ]
  },
  {
   "cell_type": "code",
   "execution_count": 90,
   "id": "d0d17a38-e432-4bc9-8c11-94ffa4dd779b",
   "metadata": {},
   "outputs": [
    {
     "data": {
      "text/plain": [
       "{'tokens': [{'token': '제주',\n",
       "   'start_offset': 0,\n",
       "   'end_offset': 2,\n",
       "   'type': 'word',\n",
       "   'position': 0},\n",
       "  {'token': '도',\n",
       "   'start_offset': 2,\n",
       "   'end_offset': 3,\n",
       "   'type': 'word',\n",
       "   'position': 1},\n",
       "  {'token': '개발',\n",
       "   'start_offset': 4,\n",
       "   'end_offset': 6,\n",
       "   'type': 'word',\n",
       "   'position': 2},\n",
       "  {'token': '공사',\n",
       "   'start_offset': 7,\n",
       "   'end_offset': 9,\n",
       "   'type': 'word',\n",
       "   'position': 3}]}"
      ]
     },
     "execution_count": 90,
     "metadata": {},
     "output_type": "execute_result"
    }
   ],
   "source": [
    "# 생성한 mytoken 인덱스에 mytokenizer 토큰너나이저 이용해서 테스트 \n",
    "body = {\n",
    "    \"analyzer\": \"mytokenizer\",\n",
    "    \"text\": \"제주도 개발 공사\"\n",
    "}\n",
    "\n",
    "INDEX_NAME = \"mytoken\"\n",
    "es.indices.analyze(index=INDEX_NAME,body=body)\n"
   ]
  },
  {
   "cell_type": "code",
   "execution_count": 87,
   "id": "00374cbf-6079-435c-b562-626c7b07db2a",
   "metadata": {},
   "outputs": [
    {
     "data": {
      "text/plain": [
       "{'tokens': [{'token': '제주도',\n",
       "   'start_offset': 0,\n",
       "   'end_offset': 3,\n",
       "   'type': '<HANGUL>',\n",
       "   'position': 0},\n",
       "  {'token': '개발',\n",
       "   'start_offset': 4,\n",
       "   'end_offset': 6,\n",
       "   'type': '<HANGUL>',\n",
       "   'position': 1},\n",
       "  {'token': '공사',\n",
       "   'start_offset': 7,\n",
       "   'end_offset': 9,\n",
       "   'type': '<HANGUL>',\n",
       "   'position': 2}]}"
      ]
     },
     "execution_count": 87,
     "metadata": {},
     "output_type": "execute_result"
    }
   ],
   "source": [
    "body = {\n",
    "    \"text\": \"제주도 개발 공사\"\n",
    "}\n",
    "\n",
    "INDEX_NAME = \"mytoken\"\n",
    "es.indices.analyze(index=INDEX_NAME,body=body)"
   ]
  },
  {
   "cell_type": "code",
   "execution_count": 8,
   "id": "a6d77594-1bb6-4c4c-b3c5-1579eb6f46c3",
   "metadata": {},
   "outputs": [],
   "source": [
    "contents = [\n",
    "    {\n",
    "        \"id\": 1,\n",
    "        \"title\": \"제주 관광품질 개선·브랜드 강화 급선무\",\n",
    "        \"content\": \"제주 관광산업의 지속성장 가능성을 확보하기 위해 관광산업 다각화, 고부가가치화 등이 요구되고 있는 가운데 바가지요금·불친절 등 제주 관광품질 개선이 선행 과제로 제시됐다. 특히 세계적인 방역조치 완화로 국가간 관광객 유치경쟁이 심화될 것으로 예상되는 만큼, 관광품질 향상과 제주 브랜드 강화를 통해 제주관광 재도약의 기회로 삼아야 한다는 주문이다.\"\n",
    "    },\n",
    "    {\n",
    "        \"id\": 2,\n",
    "        \"title\": \"제주도, 요금 부풀린 어르신 행복택시 엄중 조치\",\n",
    "        \"content\": \"어르신 행복택시 요금 부풀리기로 보조금을 챙긴 제주도내 택시회사 등을 상대로 환수조치 등 강력한 제재를 가할 전망이다.\"\n",
    "    },\n",
    "    {\n",
    "        \"id\": 3,\n",
    "        \"title\": \"들뜬 발걸음…제주 학교 일상회복에 '활기'\",\n",
    "        \"content\": \"코로나19 상황 속 이뤄지던 기존 학사운영이 폐지되고 23일부터 도내 전체 학교의 전면 등교 수업이 시행되면서 교육 현장이 활기를 띠고 있다.\"\n",
    "    },\n",
    "    {\n",
    "        \"id\": 4,\n",
    "        \"title\": \"도개발공사…마음에온 행복주택 예비입주자 모집\",\n",
    "        \"content\": \"제주개발공사는 마음에온 행복주택의 예비입주자를 모집한다고 23일 밝혔다.이번 모집은 공사에서 운영 중인 행복주택의 예비입주자를 모집하기 위한 것으로 5개 단지에 167세대이다.\"\n",
    "    },\n",
    "]"
   ]
  },
  {
   "cell_type": "code",
   "execution_count": 9,
   "id": "6553917d-63d9-4417-8b69-f6e54415cf58",
   "metadata": {},
   "outputs": [
    {
     "name": "stdout",
     "output_type": "stream",
     "text": [
      "{'_index': 'mytoken', '_type': '_doc', '_id': 'XlLD84ABWwNQ7PQ9WAy2', '_version': 1, 'result': 'created', '_shards': {'total': 2, 'successful': 2, 'failed': 0}, '_seq_no': 0, '_primary_term': 1}\n",
      "\n",
      "\n",
      "{'_index': 'mytoken', '_type': '_doc', '_id': 'X1LD84ABWwNQ7PQ9WQxp', '_version': 1, 'result': 'created', '_shards': {'total': 2, 'successful': 2, 'failed': 0}, '_seq_no': 1, '_primary_term': 1}\n",
      "\n",
      "\n",
      "{'_index': 'mytoken', '_type': '_doc', '_id': 'YFLD84ABWwNQ7PQ9WQx8', '_version': 1, 'result': 'created', '_shards': {'total': 2, 'successful': 2, 'failed': 0}, '_seq_no': 0, '_primary_term': 1}\n",
      "\n",
      "\n",
      "{'_index': 'mytoken', '_type': '_doc', '_id': 'YVLD84ABWwNQ7PQ9WQyQ', '_version': 1, 'result': 'created', '_shards': {'total': 2, 'successful': 2, 'failed': 0}, '_seq_no': 2, '_primary_term': 1}\n",
      "\n",
      "\n"
     ]
    }
   ],
   "source": [
    "# 인덱스에 contents 추가 \n",
    "DOC_TYPE = \"_doc\"  # ElasticSearch 7.0 부터는 doc_type 개념이 사라지고, _doc을 사용해야 함\n",
    "INDEX_NAME = \"mytoken\"\n",
    "\n",
    "\n",
    "for content in contents:\n",
    "    res = insert(index=INDEX_NAME, doc_type=DOC_TYPE, body=content) \n",
    "    print(res)\n",
    "    print(\"\\n\")"
   ]
  },
  {
   "cell_type": "code",
   "execution_count": 61,
   "id": "25b079e0-c172-437f-a2d3-5e80b3c62806",
   "metadata": {},
   "outputs": [
    {
     "name": "stdout",
     "output_type": "stream",
     "text": [
      "res_len:2\n",
      "\n",
      "[]\n",
      "\n",
      "\n",
      "[{'_index': 'mytoken', '_type': '_doc', '_id': 'XlLD84ABWwNQ7PQ9WAy2', '_score': 1.6022167, '_source': {'id': 1, 'title': '제주 관광품질 개선·브랜드 강화 급선무', 'content': '제주 관광산업의 지속성장 가능성을 확보하기 위해 관광산업 다각화, 고부가가치화 등이 요구되고 있는 가운데 바가지요금·불친절 등 제주 관광품질 개선이 선행 과제로 제시됐다. 특히 세계적인 방역조치 완화로 국가간 관광객 유치경쟁이 심화될 것으로 예상되는 만큼, 관광품질 향상과 제주 브랜드 강화를 통해 제주관광 재도약의 기회로 삼아야 한다는 주문이다.'}}]\n",
      "\n",
      "\n"
     ]
    }
   ],
   "source": [
    "#####################################################################\n",
    "# 다른 인덱스에 값을 여러개 검색하는 예시\n",
    "# => msearch 함수 이용\n",
    "# => 필드 title, content 등은 수정 필요 \n",
    "#####################################################################\n",
    "def bi_index_search(index1, index2, keyword):\n",
    "    \n",
    "    query = [\n",
    "        {\"index\": index1},     # 1번째 인덱스\n",
    "        {\"query\": {\"match\": {'title': keyword}}}, # 검색 조건\n",
    "        {\"index\": index2},     # 2번째 인덱스\n",
    "        {\"query\": {\"match\": {'content': keyword}}} # 검색 조건\n",
    "    ]\n",
    "    \n",
    "    return es.msearch(body=query)\n",
    "#####################################################################\n",
    "\n",
    "keyword='재도약'\n",
    "\n",
    "INDEX_NAME=\"mytoken\"\n",
    "\n",
    "res=bi_index_search(index1=INDEX_NAME, index2=INDEX_NAME, keyword=keyword)\n",
    "print('res_len:{}\\n'.format(len(res['responses'])))\n",
    "\n",
    "for response in res['responses']:\n",
    "    print(response['hits']['hits'])\n",
    "    print('\\n')"
   ]
  },
  {
   "cell_type": "code",
   "execution_count": 62,
   "id": "fbcfd93e-0203-4c47-9f15-03126f17cdb5",
   "metadata": {},
   "outputs": [
    {
     "name": "stdout",
     "output_type": "stream",
     "text": [
      "res_len:4\n",
      "\n",
      "{'_index': 'mytoken', '_type': '_doc', '_id': 'XlLD84ABWwNQ7PQ9WAy2', '_score': 0.51783925, '_source': {'id': 1, 'title': '제주 관광품질 개선·브랜드 강화 급선무', 'content': '제주 관광산업의 지속성장 가능성을 확보하기 위해 관광산업 다각화, 고부가가치화 등이 요구되고 있는 가운데 바가지요금·불친절 등 제주 관광품질 개선이 선행 과제로 제시됐다. 특히 세계적인 방역조치 완화로 국가간 관광객 유치경쟁이 심화될 것으로 예상되는 만큼, 관광품질 향상과 제주 브랜드 강화를 통해 제주관광 재도약의 기회로 삼아야 한다는 주문이다.'}}\n",
      "\n",
      "\n",
      "{'_index': 'mytoken', '_type': '_doc', '_id': 'X1LD84ABWwNQ7PQ9WQxp', '_score': 0.47628897, '_source': {'id': 2, 'title': '제주도, 요금 부풀린 어르신 행복택시 엄중 조치', 'content': '어르신 행복택시 요금 부풀리기로 보조금을 챙긴 제주도내 택시회사 등을 상대로 환수조치 등 강력한 제재를 가할 전망이다.'}}\n",
      "\n",
      "\n",
      "{'_index': 'mytoken', '_type': '_doc', '_id': 'YFLD84ABWwNQ7PQ9WQx8', '_score': 0.2876821, '_source': {'id': 3, 'title': \"들뜬 발걸음…제주 학교 일상회복에 '활기'\", 'content': '코로나19 상황 속 이뤄지던 기존 학사운영이 폐지되고 23일부터 도내 전체 학교의 전면 등교 수업이 시행되면서 교육 현장이 활기를 띠고 있다.'}}\n",
      "\n",
      "\n",
      "{'_index': 'mytoken', '_type': '_doc', '_id': 'YVLD84ABWwNQ7PQ9WQyQ', '_score': 0.14097276, '_source': {'id': 4, 'title': '도개발공사…마음에온 행복주택 예비입주자 모집', 'content': '제주개발공사는 마음에온 행복주택의 예비입주자를 모집한다고 23일 밝혔다.이번 모집은 공사에서 운영 중인 행복주택의 예비입주자를 모집하기 위한 것으로 5개 단지에 167세대이다.'}}\n",
      "\n",
      "\n"
     ]
    }
   ],
   "source": [
    "###############################################################\n",
    "# 멀티 필드 검색 하는 경우 예시 \n",
    "#  => multi_match 이용\n",
    "#  => 필드 title, content 등은 수정 필요 \n",
    "###############################################################\n",
    "def multi_field_search(index, keyword):\n",
    "    \n",
    "    query = {\n",
    "        \"query\": { \n",
    "            \"multi_match\": {\n",
    "                \"query\": keyword,\n",
    "                \"fields\": [\"title\", \"content\"]\n",
    "            }\n",
    "        }\n",
    "    }\n",
    "    \n",
    "    return es.search(index=index,body=query)\n",
    "###############################################################   \n",
    "\n",
    "\n",
    "keyword='제주'\n",
    "INDEX_NAME=\"mytoken\"\n",
    "\n",
    "\n",
    "res=multi_field_search(index=INDEX_NAME, keyword=keyword)\n",
    "print('res_len:{}\\n'.format(len(res['hits']['hits'])))\n",
    "\n",
    "for response in res['hits']['hits']:\n",
    "    print(response)\n",
    "    print('\\n')"
   ]
  },
  {
   "cell_type": "code",
   "execution_count": 81,
   "id": "4db6ce7d-9b25-4258-8287-abdc4643b316",
   "metadata": {},
   "outputs": [
    {
     "name": "stdout",
     "output_type": "stream",
     "text": [
      "res_len:0\n",
      "\n"
     ]
    }
   ],
   "source": [
    "# term 쿼리 \n",
    "# => keyword를 분석하지 않고(toeknizer 하지 않고) 그냥 입력된 keyword 그대로 쿼리 하는 것.(*스코어는 1.0)\n",
    "INDEX_NAME = \"mytoken\"\n",
    "keyword = \"제주도\"\n",
    "\n",
    "query = {\n",
    "    \"query\" : {\n",
    "        \"term\" : {\"title\": keyword}\n",
    "    }\n",
    "}\n",
    "\n",
    "# match 는 분석해서 keyword 함\n",
    "query1 = {\n",
    "    \"query\" : {\n",
    "        \"match\" : {\"title\": keyword}\n",
    "    }\n",
    "}\n",
    "\n",
    "res = es.search(index=INDEX_NAME, body=query)\n",
    "print('res_len:{}\\n'.format(len(res['hits']['hits'])))\n",
    "\n",
    "for response in res['hits']['hits']:\n",
    "    print(response)\n",
    "    print('\\n')\n"
   ]
  },
  {
   "cell_type": "code",
   "execution_count": 78,
   "id": "74d9fa9f-c8b9-49e6-91e0-d8cc587c131b",
   "metadata": {},
   "outputs": [
    {
     "name": "stdout",
     "output_type": "stream",
     "text": [
      "res_len:1\n",
      "\n",
      "{'_index': 'mytoken', '_type': '_doc', '_id': 'YVLD84ABWwNQ7PQ9WQyQ', '_score': 1.0, '_source': {'id': 4, 'title': '도개발공사…마음에온 행복주택 예비입주자 모집', 'content': '제주개발공사는 마음에온 행복주택의 예비입주자를 모집한다고 23일 밝혔다.이번 모집은 공사에서 운영 중인 행복주택의 예비입주자를 모집하기 위한 것으로 5개 단지에 167세대이다.'}}\n",
      "\n",
      "\n"
     ]
    }
   ],
   "source": [
    "# terms 쿼리 \n",
    "# => keyword를 분석하지 않고(toeknizer 하지 않고) 그냥 입력된 keyword 그대로 쿼리 하는 것.(*스코어는 1.0)\n",
    "# => 검색어가 2개이상인 경우(여러단어를 찾는경우 = 기본은 or 연산)\n",
    "\n",
    "INDEX_NAME = \"mytoken\"\n",
    "keyword1 = \"제주도\"\n",
    "keyword2 = \"주택\"\n",
    "keyword3 = \"예비입주\"\n",
    "\n",
    "query = {\n",
    "    \"query\" : {\n",
    "        \"terms\" : {\"title\": [keyword1, keyword2, keyword3]}\n",
    "    }\n",
    "}\n",
    "\n",
    "res = es.search(index=INDEX_NAME, body=query)\n",
    "print('res_len:{}\\n'.format(len(res['hits']['hits'])))\n",
    "\n",
    "for response in res['hits']['hits']:\n",
    "    print(response)\n",
    "    print('\\n')\n"
   ]
  },
  {
   "cell_type": "code",
   "execution_count": null,
   "id": "051f2f0d-65bd-4ba0-8498-57da0943694a",
   "metadata": {},
   "outputs": [],
   "source": []
  }
 ],
 "metadata": {
  "kernelspec": {
   "display_name": "Python 3 (ipykernel)",
   "language": "python",
   "name": "python3"
  },
  "language_info": {
   "codemirror_mode": {
    "name": "ipython",
    "version": 3
   },
   "file_extension": ".py",
   "mimetype": "text/x-python",
   "name": "python",
   "nbconvert_exporter": "python",
   "pygments_lexer": "ipython3",
   "version": "3.8.12"
  }
 },
 "nbformat": 4,
 "nbformat_minor": 5
}

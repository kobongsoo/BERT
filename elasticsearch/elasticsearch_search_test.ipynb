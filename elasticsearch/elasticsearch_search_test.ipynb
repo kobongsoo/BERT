{
 "cells": [
  {
   "cell_type": "code",
   "execution_count": 1,
   "id": "6207cf2c",
   "metadata": {},
   "outputs": [
    {
     "name": "stderr",
     "output_type": "stream",
     "text": [
      "C:\\Users\\bong9\\anaconda3\\envs\\pytorch\\lib\\site-packages\\elasticsearch\\connection\\base.py:208: ElasticsearchWarning: Elasticsearch built-in security features are not enabled. Without authentication, your cluster could be accessible to anyone. See https://www.elastic.co/guide/en/elasticsearch/reference/7.17/security-minimal-setup.html to enable security.\n",
      "  warnings.warn(message, category=ElasticsearchWarning)\n"
     ]
    },
    {
     "data": {
      "text/plain": [
       "{'name': 'vmware',\n",
       " 'cluster_name': 'mpower',\n",
       " 'cluster_uuid': 'JJ1h3dNTRvSLJFW3gj5MCw',\n",
       " 'version': {'number': '7.17.3',\n",
       "  'build_flavor': 'default',\n",
       "  'build_type': 'zip',\n",
       "  'build_hash': '5ad023604c8d7416c9eb6c0eadb62b14e766caff',\n",
       "  'build_date': '2022-04-19T08:11:19.070913226Z',\n",
       "  'build_snapshot': False,\n",
       "  'lucene_version': '8.11.1',\n",
       "  'minimum_wire_compatibility_version': '6.8.0',\n",
       "  'minimum_index_compatibility_version': '6.0.0-beta1'},\n",
       " 'tagline': 'You Know, for Search'}"
      ]
     },
     "execution_count": 1,
     "metadata": {},
     "output_type": "execute_result"
    }
   ],
   "source": [
    "#===================================================================\n",
    "# ElasticSearch(이하:ES) 접속 모듈 설치 및 테스트\n",
    "# => ES 접속 모듈 설치 후 ES 서버에 접속하고 테스트 해보는 예제\n",
    "# => ES 서버는 이미 구성되어 있다는 전제에서 접속 및 검색 테스트 해봄\n",
    "#===================================================================\n",
    "\n",
    "# elasticsearch 서버 접속 모듈 설치\n",
    "# pip install elasticsearch\n",
    "\n",
    "from elasticsearch import Elasticsearch\n",
    "from elasticsearch import helpers\n",
    "\n",
    "# elastic 서버 접속 \n",
    "#es = Elasticsearch(\"https://192.168.0.91:9200/\", verify_certs=False)\n",
    "es = Elasticsearch(\"http://192.168.0.130:9200/\")\n",
    "es.info()"
   ]
  },
  {
   "cell_type": "code",
   "execution_count": 3,
   "id": "e89b3db4",
   "metadata": {},
   "outputs": [
    {
     "name": "stdout",
     "output_type": "stream",
     "text": [
      "{'acknowledged': True, 'shards_acknowledged': True, 'index': 'goods'}\n"
     ]
    }
   ],
   "source": [
    "# 인덱스 생성\n",
    "# => 인덱스는 독립된 파일 집합으로 관리디는 데이터 덩어리임.\n",
    "# 기존에 있으면 삭제후 생성함\n",
    "def make_index(es, index_name):\n",
    "    if es.indices.exists(index=index_name):\n",
    "        es.indices.delete(index=index_name)\n",
    "        print(es.indices.create(index=index_name))\n",
    "    else:\n",
    "        print(es.indices.create(index=index_name))\n",
    "        \n",
    "index_name = 'goods'\n",
    "make_index(es, index_name)"
   ]
  },
  {
   "cell_type": "code",
   "execution_count": 4,
   "id": "06c33003",
   "metadata": {},
   "outputs": [],
   "source": [
    "# 데이터들 준비\n",
    "doc1 = {'goods_name': '삼성 노트북 9', 'price': 100000}\n",
    "doc2 = {'goods_name': '엘지 노트북 그램', 'price': 200000}\n",
    "doc3 = {'goods_name': '애플 맥북 프로',   'price': 3000000}"
   ]
  },
  {
   "cell_type": "code",
   "execution_count": 5,
   "id": "ed3d5eac",
   "metadata": {},
   "outputs": [
    {
     "name": "stderr",
     "output_type": "stream",
     "text": [
      "C:\\Users\\bong9\\anaconda3\\envs\\pytorch\\lib\\site-packages\\elasticsearch\\connection\\base.py:208: ElasticsearchWarning: [types removal] Specifying types in document index requests is deprecated, use the typeless endpoints instead (/{index}/_doc/{id}, /{index}/_doc, or /{index}/_create/{id}).\n",
      "  warnings.warn(message, category=ElasticsearchWarning)\n"
     ]
    },
    {
     "data": {
      "text/plain": [
       "{'_shards': {'total': 2, 'successful': 2, 'failed': 0}}"
      ]
     },
     "execution_count": 5,
     "metadata": {},
     "output_type": "execute_result"
    }
   ],
   "source": [
    "# 인덱스에 데이터 추가\n",
    "es.index(index=index_name, doc_type='string', body=doc1)\n",
    "es.index(index=index_name, doc_type='string', body=doc2)\n",
    "es.index(index=index_name, doc_type='string', body=doc3)\n",
    "\n",
    "# 인덱스 refresh 함\n",
    "# elasticsearch의 자동 새로고침의 시간은 1초 정도 소요\n",
    "# 따라서 코드에 아래 명령어를 입력하지 않았을 경우 검색을 하지 못할 가능성도 존재\n",
    "    \n",
    "es.indices.refresh(index=index_name)"
   ]
  },
  {
   "cell_type": "code",
   "execution_count": 7,
   "id": "29c0052b",
   "metadata": {},
   "outputs": [
    {
     "name": "stdout",
     "output_type": "stream",
     "text": [
      "score: 0.4700036 source: {'goods_name': '삼성 노트북 9', 'price': 100000}\n",
      "score: 0.4700036 source: {'goods_name': '엘지 노트북 그램', 'price': 200000}\n"
     ]
    }
   ],
   "source": [
    "# 검색 해 봄  \n",
    "results = es.search(index=index_name, body={'from':0, 'size':10, 'query':{'match':{'goods_name':'노트북'}}})\n",
    "for result in results['hits']['hits']:\n",
    "    print('score:', result['_score'], 'source:', result['_source'])"
   ]
  },
  {
   "cell_type": "code",
   "execution_count": null,
   "id": "65018f83",
   "metadata": {},
   "outputs": [],
   "source": []
  }
 ],
 "metadata": {
  "kernelspec": {
   "display_name": "Python 3 (ipykernel)",
   "language": "python",
   "name": "python3"
  },
  "language_info": {
   "codemirror_mode": {
    "name": "ipython",
    "version": 3
   },
   "file_extension": ".py",
   "mimetype": "text/x-python",
   "name": "python",
   "nbconvert_exporter": "python",
   "pygments_lexer": "ipython3",
   "version": "3.9.7"
  }
 },
 "nbformat": 4,
 "nbformat_minor": 5
}

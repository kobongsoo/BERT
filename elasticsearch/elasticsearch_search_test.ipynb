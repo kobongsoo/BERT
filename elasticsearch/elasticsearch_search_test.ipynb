{
 "cells": [
  {
   "cell_type": "code",
   "execution_count": 1,
   "id": "6207cf2c",
   "metadata": {},
   "outputs": [
    {
     "name": "stderr",
     "output_type": "stream",
     "text": [
      "C:\\Users\\bong9\\anaconda3\\envs\\pytorch\\lib\\site-packages\\elasticsearch\\connection\\base.py:208: ElasticsearchWarning: Elasticsearch built-in security features are not enabled. Without authentication, your cluster could be accessible to anyone. See https://www.elastic.co/guide/en/elasticsearch/reference/7.17/security-minimal-setup.html to enable security.\n",
      "  warnings.warn(message, category=ElasticsearchWarning)\n"
     ]
    },
    {
     "data": {
      "text/plain": [
       "{'name': 'lenovo-x240',\n",
       " 'cluster_name': 'mpower',\n",
       " 'cluster_uuid': 'JJ1h3dNTRvSLJFW3gj5MCw',\n",
       " 'version': {'number': '7.17.3',\n",
       "  'build_flavor': 'default',\n",
       "  'build_type': 'zip',\n",
       "  'build_hash': '5ad023604c8d7416c9eb6c0eadb62b14e766caff',\n",
       "  'build_date': '2022-04-19T08:11:19.070913226Z',\n",
       "  'build_snapshot': False,\n",
       "  'lucene_version': '8.11.1',\n",
       "  'minimum_wire_compatibility_version': '6.8.0',\n",
       "  'minimum_index_compatibility_version': '6.0.0-beta1'},\n",
       " 'tagline': 'You Know, for Search'}"
      ]
     },
     "execution_count": 1,
     "metadata": {},
     "output_type": "execute_result"
    }
   ],
   "source": [
    "# elasticsearch 서버 접속 모듈 설치\n",
    "# pip install elasticsearch\n",
    "\n",
    "from elasticsearch import Elasticsearch\n",
    "from elasticsearch import helpers\n",
    "\n",
    "# elastic 서버 접속 \n",
    "#es = Elasticsearch(\"https://192.168.0.91:9200/\", verify_certs=False)\n",
    "es = Elasticsearch(\"http://192.168.0.130:9200/\")\n",
    "es.info()"
   ]
  },
  {
   "cell_type": "code",
   "execution_count": 2,
   "id": "668256a9-12d0-4e6c-b852-b471441fbc89",
   "metadata": {},
   "outputs": [],
   "source": [
    "# 삭제, 업데이트, 추가, 쿼리 등의 elastricsearch 함수들 정의\n",
    "# => 참고 : https://jvvp.tistory.com/1152\n",
    "\n",
    "###########################################################\n",
    "# 인덱스 생성/삭제\n",
    "###########################################################\n",
    "## 인덱스 생성\n",
    "def create_index(index, mapping=None):\n",
    "    if not es.indices.exists(index=index):\n",
    "        return es.indices.create(index=index ,body=mapping)\n",
    "\n",
    "## 인덱스 자체 삭제\n",
    "def delete_index(index):\n",
    "    if es.indices.exists(index=index):\n",
    "        return es.indices.delete(index=index)\n",
    "    \n",
    "###########################################################\n",
    "# 인데스에 데이터 추가 \n",
    "###########################################################\n",
    "def insert(index, doc_type, body):\n",
    "    return es.index(index=index, doc_type=doc_type, body=body)\n",
    "\n",
    "\n",
    "###########################################################\n",
    "# 인덱스내 데이터 조회 => query 이용\n",
    "###########################################################\n",
    "def search(index, data=None):\n",
    "    if data is None: #모든 데이터 조회\n",
    "        data = {\"match_all\":{}}\n",
    "    else:\n",
    "        data = {\"match\": data}\n",
    "        \n",
    "    body = {\"query\": data}\n",
    "    res = es.search(index=index, body=body)\n",
    "    return res\n",
    "###########################################################\n",
    "\n",
    "############################################################\n",
    "## 인덱스 내의 데이터 삭제 => query 이용\n",
    "############################################################\n",
    "def delete(index, data):\n",
    "    if data is None:  # data가 없으면 모두 삭제\n",
    "        data = {\"match_all\":{}}\n",
    "    else:\n",
    "        data = {\"match\": data}\n",
    "        \n",
    "    body = {\"query\": data}\n",
    "    return es.delete_by_query(index=index, body=body)\n",
    "\n",
    "############################################################\n",
    "## 인덱스 내의 데이터 삭제 => id 이용\n",
    "############################################################\n",
    "def delete_by_id(index, id):\n",
    "    return es.delete(index=index, id=id)\n",
    "\n",
    "############################################################\n",
    "## 인덱스 내의 데이터 업데이트=>_id 에 데이터 업데이트\n",
    "############################################################\n",
    "def update(index, id, doc, doc_type):\n",
    "    \n",
    "    body = {\n",
    "        'doc': doc\n",
    "    }\n",
    "    \n",
    "    res=es.update(index=index, id=id, body=body, doc_type=doc_type)\n",
    "    return res\n",
    "############################################################\n"
   ]
  },
  {
   "cell_type": "code",
   "execution_count": null,
   "id": "9c0576f8-d40e-4d37-a78a-b6a1069a6617",
   "metadata": {},
   "outputs": [],
   "source": [
    "# 인덱스 살제\n",
    "index_name = 'goods'\n",
    "response=delete_index(index=index_name)\n",
    "print(f'rs:{response}')"
   ]
  },
  {
   "cell_type": "code",
   "execution_count": null,
   "id": "fc2d9cca-00a4-451e-898c-cd373572a5ac",
   "metadata": {},
   "outputs": [],
   "source": [
    "# 인덱스 생성\n",
    "index_name = 'goods'\n",
    "\n",
    "# 매핑 정의\n",
    "# => 매핑을 정의하면, 데이터타입을 지정해 줄수 있다.\n",
    "mapping ='''\n",
    "{\n",
    "  \"settings\": {\n",
    "    \"number_of_shards\": 2,\n",
    "    \"number_of_replicas\": 1\n",
    "  },\n",
    "   \"mappings\": {\n",
    "    \"dynamic\": \"true\",\n",
    "    \"_source\": {\n",
    "      \"enabled\": \"true\"\n",
    "    },\n",
    "    \"properties\": {\n",
    "      \"title\": {\n",
    "        \"type\": \"text\"\n",
    "      },\n",
    "\t  \"paragraph\": {\n",
    "        \"type\": \"text\"\n",
    "      },\n",
    "      \"title_vector\": {\n",
    "        \"type\": \"dense_vector\",\n",
    "        \"dims\": 768\n",
    "      },\n",
    "\t  \"paragraph_vector\": {\n",
    "        \"type\": \"dense_vector\",\n",
    "        \"dims\": 768\n",
    "      }\n",
    "    }\n",
    "  }\n",
    "}\n",
    "'''\n",
    "\n",
    "response = create_index(index=index_name, body=mapping)\n",
    "print(f'rs:{response}')\n"
   ]
  },
  {
   "cell_type": "code",
   "execution_count": 11,
   "id": "853f2af9-655e-4cae-b802-8719e1c2022d",
   "metadata": {},
   "outputs": [
    {
     "name": "stdout",
     "output_type": "stream",
     "text": [
      "rs:{'_index': 'goods', '_type': '_doc', '_id': 'jqyT0IAB9i71yjP6TG4-', '_version': 1, 'result': 'created', '_shards': {'total': 2, 'successful': 2, 'failed': 0}, '_seq_no': 4, '_primary_term': 1}\n"
     ]
    }
   ],
   "source": [
    "# 인덱스에 데이터 추가\n",
    "index_name = 'goods'\n",
    "\n",
    "doc1 = {'title':'제주도', 'paragraph':'제주도는 대한민국이 남쪽에 있는 섬이다.'}\n",
    "doc2 = {'title':'한라산', 'paragraph':'한라산은 제주도에 있는 휴화산이다.'}\n",
    "doc3 = {'title':'서귀포', 'paragraph':'대한민국 제주도 최남단에 있는 도시이다.'}\n",
    "doc4 = {'title':'제주시', 'paragraph':'제주도의 행정/경제 중심 도시이다.'}\n",
    "doc5 = {'title':'성산읍', 'paragraph':'제주도 동쪽에 있는 읍으로, 성산일출봉과 제2공항 후보지로 유명하다.'}\n",
    "\n",
    "res=insert(index=index_name, doc_type=\"_doc\", body=doc1)\n",
    "print(f'rs:{res}')"
   ]
  },
  {
   "cell_type": "code",
   "execution_count": 12,
   "id": "79fb2cef-9ab5-4944-836b-e4615d601628",
   "metadata": {},
   "outputs": [
    {
     "name": "stdout",
     "output_type": "stream",
     "text": [
      "rs:{'took': 7, 'timed_out': False, '_shards': {'total': 2, 'successful': 2, 'skipped': 0, 'failed': 0}, 'hits': {'total': {'value': 5, 'relation': 'eq'}, 'max_score': 1.0, 'hits': [{'_index': 'goods', '_type': '_doc', '_id': 'Caxh0IAB9i71yjP63i0-', '_score': 1.0, '_source': {'title': '성산읍', 'paragraph': '제주도 동쪽에 있는 읍으로, 성산일출봉과 제2공항 후보지로 유명하다.'}}, {'_index': 'goods', '_type': '_doc', '_id': 'jqyT0IAB9i71yjP6TG4-', '_score': 1.0, '_source': {'title': '제주도', 'paragraph': '제주도는 대한민국이 남쪽에 있는 섬이다.'}}, {'_index': 'goods', '_type': '_doc', '_id': '16xh0IAB9i71yjP6riy7', '_score': 1.0, '_source': {'title': '한라산', 'paragraph': '한라산은 제주도에 있는 휴화산이다.'}}, {'_index': 'goods', '_type': '_doc', '_id': '-axh0IAB9i71yjP60Cw2', '_score': 1.0, '_source': {'title': '제주시', 'paragraph': '제주도의 행정/경제 중심 도시이다.'}}, {'_index': 'goods', '_type': '_doc', '_id': 'wKxn0IAB9i71yjP6WDMW', '_score': 1.0, '_source': {'title': '서귀포', 'paragraph': '대한민국 제주도 최남단에 있는 도시이다.'}}]}}\n",
      "\n",
      "\n",
      "rs:{'took': 7, 'timed_out': False, '_shards': {'total': 2, 'successful': 2, 'skipped': 0, 'failed': 0}, 'hits': {'total': {'value': 1, 'relation': 'eq'}, 'max_score': 0.6931471, 'hits': [{'_index': 'goods', '_type': '_doc', '_id': 'jqyT0IAB9i71yjP6TG4-', '_score': 0.6931471, '_source': {'title': '제주도', 'paragraph': '제주도는 대한민국이 남쪽에 있는 섬이다.'}}]}}\n"
     ]
    }
   ],
   "source": [
    "# 검색\n",
    "index_name = 'goods'\n",
    "\n",
    "# 모든 데이터 검색\n",
    "res=search(index_name, data=None)\n",
    "print(f'rs:{res}')\n",
    "print('\\n')\n",
    "\n",
    "# 쿼리 검색\n",
    "data = {'title': '제주도'}\n",
    "res=search(index_name, data=data)\n",
    "print(f'rs:{res}')\n"
   ]
  },
  {
   "cell_type": "code",
   "execution_count": 9,
   "id": "d534edbe-3edd-4d7a-bd04-4d8a26adddb6",
   "metadata": {},
   "outputs": [
    {
     "name": "stdout",
     "output_type": "stream",
     "text": [
      "id:UayS0IAB9i71yjP61m7M\n",
      "id:UayS0IAB9i71yjP61m7M\n",
      "res:{'_index': 'goods', '_type': '_doc', '_id': 'UayS0IAB9i71yjP61m7M', '_version': 2, 'result': 'deleted', '_shards': {'total': 2, 'successful': 2, 'failed': 0}, '_seq_no': 6, '_primary_term': 1}\n"
     ]
    }
   ],
   "source": [
    "# 인덱스에 데이터 삭제\n",
    "\n",
    "index_name = 'goods'\n",
    "\n",
    "'''\n",
    "# 쿼리로 삭제\n",
    "data = {'title': '서귀포'}\n",
    "res=delete(index=index_name, data=data)\n",
    "print(f'res:{res}')\n",
    "'''\n",
    "\n",
    "\n",
    "# 인덱스로 삭제\n",
    "# 쿼리 검색\n",
    "data = {'title': '제주도'}\n",
    "res=search(index_name, data=data)\n",
    "for hits in res['hits']['hits']:\n",
    "    id=hits['_id']\n",
    "    #print(f'id:{id}')\n",
    "    break\n",
    "    \n",
    "print(f'id:{id}')\n",
    "res=delete_by_id(index=index_name, id=id)\n",
    "print(f'res:{res}')\n"
   ]
  },
  {
   "cell_type": "code",
   "execution_count": 15,
   "id": "88a7cb2b-16c0-4b9c-95d2-670dedee3228",
   "metadata": {},
   "outputs": [
    {
     "name": "stdout",
     "output_type": "stream",
     "text": [
      "rs:{'took': 4, 'timed_out': False, '_shards': {'total': 2, 'successful': 2, 'skipped': 0, 'failed': 0}, 'hits': {'total': {'value': 1, 'relation': 'eq'}, 'max_score': 0.35667494, 'hits': [{'_index': 'goods', '_type': '_doc', '_id': 'jqyT0IAB9i71yjP6TG4-', '_score': 0.35667494, '_source': {'title': '제주도', 'paragraph': '제주도는 대한민국에 가장 남쪽에 있는 섬으로, 인구는 약 71만명이며, 화산섬으로 관광자원이 많은 천혜의 관광지 이다.'}}]}}\n",
      "\n",
      "\n",
      "id:jqyT0IAB9i71yjP6TG4-, type:_doc\n",
      "id:jqyT0IAB9i71yjP6TG4-, type:_doc\n",
      "res:{'_index': 'goods', '_type': '_doc', '_id': 'jqyT0IAB9i71yjP6TG4-', '_version': 3, 'result': 'updated', '_shards': {'total': 2, 'successful': 2, 'failed': 0}, '_seq_no': 6, '_primary_term': 1}\n",
      "\n",
      "\n",
      "rs:{'took': 6, 'timed_out': False, '_shards': {'total': 2, 'successful': 2, 'skipped': 0, 'failed': 0}, 'hits': {'total': {'value': 1, 'relation': 'eq'}, 'max_score': 0.35667494, 'hits': [{'_index': 'goods', '_type': '_doc', '_id': 'jqyT0IAB9i71yjP6TG4-', '_score': 0.35667494, '_source': {'title': '제주도', 'paragraph': '제주도는 대한민국에 가장 남쪽에 있는 섬으로, 인구는 약 70만명이며, 화산섬으로 관광자원이 많은 천혜의 관광지 이다.'}}]}}\n",
      "\n",
      "\n"
     ]
    }
   ],
   "source": [
    "# 인덱스에 데이터 업데이트\n",
    "# =>업데이트할 _id, _type을 알아야함\n",
    "\n",
    "index_name = 'goods'\n",
    "\n",
    "# 쿼리 검색\n",
    "data = {'title': '제주도'}\n",
    "res=search(index_name, data=data)\n",
    "print(f'rs:{res}')\n",
    "print('\\n')\n",
    "\n",
    "id_list = []\n",
    "type_list = []\n",
    "# 업데이트할 id와 type을 구함\n",
    "for hits in res['hits']['hits']:\n",
    "    id=hits['_id']\n",
    "    type=hits['_type']\n",
    "    #print(f'id:{id}, type:{type}')\n",
    "    \n",
    "    id_list.append(id)\n",
    "    type_list.append(type)\n",
    "    \n",
    "# 업데이트\n",
    "for id, type in zip(id_list, type_list):\n",
    "    \n",
    "    print(f'id:{id}, type:{type}')\n",
    "    doc = {'paragraph': '제주도는 대한민국에 가장 남쪽에 있는 섬으로, 인구는 약 70만명이며, 화산섬으로 관광자원이 많은 천혜의 관광지 이다.'}\n",
    "    \n",
    "    res=update(index=index_name, doc=doc, id=id, doc_type=type)\n",
    "    print(f'res:{res}')\n",
    "    print('\\n')\n",
    "    \n",
    "# 인덱스 refresh 함\n",
    "# elasticsearch의 자동 새로고침의 시간은 1초 정도 소요\n",
    "# 따라서 코드에 아래 명령어를 입력하지 않았을 경우 검색을 하지 못할 가능성도 존재\n",
    "es.indices.refresh(index=index_name)\n",
    "\n",
    "# 쿼리 검색\n",
    "data = {'title': '제주도'}\n",
    "res=search(index_name, data=data)\n",
    "print(f'rs:{res}')\n",
    "print('\\n')"
   ]
  },
  {
   "cell_type": "code",
   "execution_count": null,
   "id": "dfdca56f-15b4-49b4-82c9-7edae029c377",
   "metadata": {},
   "outputs": [],
   "source": []
  }
 ],
 "metadata": {
  "kernelspec": {
   "display_name": "Python 3 (ipykernel)",
   "language": "python",
   "name": "python3"
  },
  "language_info": {
   "codemirror_mode": {
    "name": "ipython",
    "version": 3
   },
   "file_extension": ".py",
   "mimetype": "text/x-python",
   "name": "python",
   "nbconvert_exporter": "python",
   "pygments_lexer": "ipython3",
   "version": "3.9.7"
  }
 },
 "nbformat": 4,
 "nbformat_minor": 5
}

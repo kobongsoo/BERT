{
 "cells": [
  {
   "cell_type": "code",
   "execution_count": 1,
   "id": "d8cd1cbd",
   "metadata": {},
   "outputs": [],
   "source": [
    "#===========================================================================================\n",
    "# ElasticSearch 텍스트 임베딩 테스트 예제\n",
    "# \n",
    "# =>ElasticSearch 7.3.0 버전부터는 cosine similarity 검색을 지원한다.\n",
    "# => 데이터로 고차원벡터를 집어넣고, 벡터형식의 데이터를 쿼리(검색어)로 하여 \n",
    "# 코사인 유사도를 측정하여 가장 유사한 데이터를 찾는다.\n",
    "# => 여기서는 ElasticSearch와 S-BERT를 이용함\n",
    "# => ElasticSearch에 index 파일은 index_1.json /데이터 파일은 KorQuAD_v1.0_train_convert.json 참조\n",
    "#\n",
    "# => 참고자료 : https://skagh.tistory.com/32\n",
    "#\n",
    "# => 참고로 여기서는 title_vector 만 구함, paragrapha_vector는 cpu에서는 엄청 오래 걸려서 주석처리하였음\n",
    "#===========================================================================================\n",
    "\n",
    "# sentenceTransformers 라이브러리 설치\n",
    "#!pip install -U sentence-transformers\n",
    "\n",
    "# elasticsearch 서버 접속 모듈 설치\n",
    "# !pip install elasticsearch\n",
    "\n",
    "# 한국어 문장 분리기(kss) 설치\n",
    "#!pip install kss"
   ]
  },
  {
   "cell_type": "code",
   "execution_count": 2,
   "id": "4b9d4af5",
   "metadata": {},
   "outputs": [],
   "source": [
    "import torch\n",
    "from sentence_transformers import SentenceTransformer, util\n",
    "import kss, numpy\n",
    "import json\n",
    "from elasticsearch import Elasticsearch\n",
    "from elasticsearch.helpers import bulk\n",
    "from tqdm.notebook import tqdm\n",
    "\n",
    "from elasticsearch import Elasticsearch\n",
    "from elasticsearch import helpers\n",
    "\n",
    "# elastic 서버 접속 테스트\n",
    "#es = Elasticsearch(\"https://192.168.0.91:9200/\", verify_certs=False)\n",
    "#es = Elasticsearch(\"http://192.168.0.130:9200/\")\n",
    "#es.info()\n",
    "\n",
    "device = torch.device('cpu')"
   ]
  },
  {
   "cell_type": "code",
   "execution_count": 3,
   "id": "a9dd5551",
   "metadata": {},
   "outputs": [
    {
     "name": "stdout",
     "output_type": "stream",
     "text": [
      "vector_len:768\n"
     ]
    }
   ],
   "source": [
    "# s-bert 모델 테스트\n",
    "sbert_model_path = 'F:\\\\AI\\\\model\\\\sbert-ts2022-04-01-distiluse-7'\n",
    "\n",
    "# cpu 모델로 실행할때는 device=cpu, 기본은 GPU임\n",
    "embedder = SentenceTransformer(sbert_model_path, device=device)\n",
    "\n",
    "text = '나는 오늘 밥을 먹는다.'\n",
    "vectors = embedder.encode(text, convert_to_tensor=True)\n",
    "vector_list = [vector.numpy().tolist() for vector in vectors]\n",
    "\n",
    "print(f'vector_len:{len(vector_list)}')\n"
   ]
  },
  {
   "cell_type": "code",
   "execution_count": 6,
   "id": "0b0b1e05",
   "metadata": {},
   "outputs": [],
   "source": [
    "# 인덱싱 함수 \n",
    "def index_data():\n",
    "    es.indices.delete(index=INDEX_NAME, ignore=[404])\n",
    "    \n",
    "    count = 0\n",
    "        \n",
    "    # 인덱스 생성\n",
    "    with open(INDEX_FILE) as index_file:\n",
    "        source = index_file.read().strip()\n",
    "      \n",
    "        count += 1\n",
    "        print(f'{count}:{source}')\n",
    "      \n",
    "        es.indices.create(index=INDEX_NAME, body=source)\n",
    "        \n",
    "    count = 0\n",
    "    \n",
    "    # DATA 추기\n",
    "    with open(DATA_FILE) as data_file:\n",
    "        for line in data_file:\n",
    "            line = line.strip()\n",
    "            \n",
    "            json_data = json.loads(line)\n",
    "            docs = []\n",
    "            \n",
    "            for j in tqdm(json_data):\n",
    "                count += 1\n",
    "                \n",
    "                docs.append(j)\n",
    "                if count % BATCH_SIZE == 0:\n",
    "                    index_batch(docs)\n",
    "                    docs = []\n",
    "                    print(\"Indexed {} documents.\".format(count))\n",
    "                  \n",
    "                # ** 500 개만 보냄\n",
    "                #if count >= 500:\n",
    "                #    break\n",
    "                    \n",
    "            if docs:\n",
    "                index_batch(docs)\n",
    "                print(\"Indexed {} documents.\".format(count))\n",
    "                    \n",
    "    es.indices.refresh(index=INDEX_NAME)\n",
    "    print(\"=== End Done indexing===\")\n",
    "    \n",
    "    \n",
    "# 문단(paragraph)들 분리\n",
    "# 문장으로 나누고, 해당 vector들의 평균을 구함.\n",
    "# =>굳이 elasticsearch에 문단 벡터는 추가하지 않고, title 벡터만 이용해도 되므로 주석처리함\n",
    "'''\n",
    "def paragraph_index(paragraph):\n",
    "    avg_paragraph_vec = numpy.zeros((1,768))\n",
    "    sent_count = 0\n",
    "    \n",
    "    #print(paragraph)\n",
    "    # kss로 분할할때 줄바꿈 있으면, 파싱하는데 에러남.따라서 \"\\n\"는 제거함\n",
    "    paragraph = paragraph.replace(\"\\n\",\"\")\n",
    "    \n",
    "    #print(\"==Start paragraph_index==\")\n",
    "    for sent in kss.split_sentences(paragraph):\n",
    "        # 문장으로 나누고, 해당 vector들의 평균을 구함.\n",
    "        avg_paragraph_vec += embed_text([sent])\n",
    "        sent_count += 1\n",
    "            \n",
    "    avg_paragraph_vec /= sent_count\n",
    "    return avg_paragraph_vec.ravel(order='C')\n",
    "'''\n",
    "\n",
    "def index_batch(docs):\n",
    "   \n",
    "    titles = [doc[\"title\"] for doc in docs]\n",
    "    title_vectors = embed_text(titles)\n",
    "    \n",
    "    # 문장이 길면 분할해서 embedding을 구해야 하는데, 여기서는 분할하지 않고 embedding을 구함\n",
    "    paragraphs = [doc[\"paragraph\"] for doc in docs]\n",
    "    paragraph_vectors = embed_text(paragraphs)\n",
    "    \n",
    "    # * cpu로 문단은 임베딩하는데 너무 오래 걸리므로 주석처리함\n",
    "    #paragraph_vectors = [paragraph_index(doc[\"paragraph\"]) for doc in tqdm(docs)]\n",
    "    requests = []\n",
    "    \n",
    "    for i, doc in enumerate(tqdm(docs)):\n",
    "        \n",
    "        #request[\"title\"] = doc[\"title\"]           # 이렇게 등록은 안됨\n",
    "        #request[\"paragraph\"] = doc[\"paragraph\"]\n",
    "        \n",
    "        request = doc\n",
    "        \n",
    "        request[\"_op_type\"] = \"index\"\n",
    "        request[\"_index\"] = INDEX_NAME\n",
    "        \n",
    "        request[\"title_vector\"] = title_vectors[i]\n",
    "        request[\"paragraph_vector\"] = paragraph_vectors[i]\n",
    "        #request[\"paragraph_vector\"] = paragraph_vectors[i]  # * cpu로 문단은 임베딩하는데 너무 오래 걸리므로 주석처리함\n",
    "        \n",
    "        requests.append(request)\n",
    "        \n",
    "    # batch 단위로 한꺼번에 es에 데이터 insert 시킴     \n",
    "    bulk(es, requests)\n",
    "    \n",
    "# embedding 모델에서 vector를 구함    \n",
    "def embed_text(input):\n",
    "    vectors =  embedder.encode(input, convert_to_tensor=True)\n",
    "    return [vector.numpy().tolist() for vector in vectors]\n",
    "          "
   ]
  },
  {
   "cell_type": "code",
   "execution_count": 7,
   "id": "2a1bae4f",
   "metadata": {},
   "outputs": [
    {
     "name": "stdout",
     "output_type": "stream",
     "text": [
      "{'name': 'lenovo-x240', 'cluster_name': 'mpower', 'cluster_uuid': 'JJ1h3dNTRvSLJFW3gj5MCw', 'version': {'number': '7.17.3', 'build_flavor': 'default', 'build_type': 'zip', 'build_hash': '5ad023604c8d7416c9eb6c0eadb62b14e766caff', 'build_date': '2022-04-19T08:11:19.070913226Z', 'build_snapshot': False, 'lucene_version': '8.11.1', 'minimum_wire_compatibility_version': '6.8.0', 'minimum_index_compatibility_version': '6.0.0-beta1'}, 'tagline': 'You Know, for Search'}\n",
      "1:{\n",
      "  \"settings\": {\n",
      "    \"number_of_shards\": 2,\n",
      "    \"number_of_replicas\": 1\n",
      "  },\n",
      "   \"mappings\": {\n",
      "    \"dynamic\": \"true\",\n",
      "    \"_source\": {\n",
      "      \"enabled\": \"true\"\n",
      "    },\n",
      "    \"properties\": {\n",
      "      \"title\": {\n",
      "        \"type\": \"text\"\n",
      "      },\n",
      "\t  \"paragraph\": {\n",
      "        \"type\": \"text\"\n",
      "      },\n",
      "      \"title_vector\": {\n",
      "        \"type\": \"dense_vector\",\n",
      "        \"dims\": 768\n",
      "      },\n",
      "\t  \"paragraph_vector\": {\n",
      "        \"type\": \"dense_vector\",\n",
      "        \"dims\": 768\n",
      "      }\n",
      "    }\n",
      "  }\n",
      "}\n"
     ]
    },
    {
     "data": {
      "application/vnd.jupyter.widget-view+json": {
       "model_id": "e7f8bcce16a64f9296d49de4908b1b10",
       "version_major": 2,
       "version_minor": 0
      },
      "text/plain": [
       "  0%|          | 0/1420 [00:00<?, ?it/s]"
      ]
     },
     "metadata": {},
     "output_type": "display_data"
    },
    {
     "data": {
      "application/vnd.jupyter.widget-view+json": {
       "model_id": "8664d3bc5e774652906cad9f95cc80ef",
       "version_major": 2,
       "version_minor": 0
      },
      "text/plain": [
       "  0%|          | 0/100 [00:00<?, ?it/s]"
      ]
     },
     "metadata": {},
     "output_type": "display_data"
    },
    {
     "name": "stdout",
     "output_type": "stream",
     "text": [
      "Indexed 100 documents.\n"
     ]
    },
    {
     "data": {
      "application/vnd.jupyter.widget-view+json": {
       "model_id": "651007cdd5cd41a68f9ac14fe22f682d",
       "version_major": 2,
       "version_minor": 0
      },
      "text/plain": [
       "  0%|          | 0/100 [00:00<?, ?it/s]"
      ]
     },
     "metadata": {},
     "output_type": "display_data"
    },
    {
     "name": "stdout",
     "output_type": "stream",
     "text": [
      "Indexed 200 documents.\n"
     ]
    },
    {
     "data": {
      "application/vnd.jupyter.widget-view+json": {
       "model_id": "e334a8bde4ff4856a2b4d2b5a5469dc7",
       "version_major": 2,
       "version_minor": 0
      },
      "text/plain": [
       "  0%|          | 0/100 [00:00<?, ?it/s]"
      ]
     },
     "metadata": {},
     "output_type": "display_data"
    },
    {
     "name": "stdout",
     "output_type": "stream",
     "text": [
      "Indexed 300 documents.\n"
     ]
    },
    {
     "data": {
      "application/vnd.jupyter.widget-view+json": {
       "model_id": "37af723b67ee4235904a7b39597c6dc0",
       "version_major": 2,
       "version_minor": 0
      },
      "text/plain": [
       "  0%|          | 0/100 [00:00<?, ?it/s]"
      ]
     },
     "metadata": {},
     "output_type": "display_data"
    },
    {
     "name": "stdout",
     "output_type": "stream",
     "text": [
      "Indexed 400 documents.\n"
     ]
    },
    {
     "data": {
      "application/vnd.jupyter.widget-view+json": {
       "model_id": "299f74968bb040b3acaa880259035e5f",
       "version_major": 2,
       "version_minor": 0
      },
      "text/plain": [
       "  0%|          | 0/100 [00:00<?, ?it/s]"
      ]
     },
     "metadata": {},
     "output_type": "display_data"
    },
    {
     "name": "stdout",
     "output_type": "stream",
     "text": [
      "Indexed 500 documents.\n"
     ]
    },
    {
     "data": {
      "application/vnd.jupyter.widget-view+json": {
       "model_id": "ccb425eaea7d4208913feef53a2014da",
       "version_major": 2,
       "version_minor": 0
      },
      "text/plain": [
       "  0%|          | 0/100 [00:00<?, ?it/s]"
      ]
     },
     "metadata": {},
     "output_type": "display_data"
    },
    {
     "name": "stdout",
     "output_type": "stream",
     "text": [
      "Indexed 600 documents.\n"
     ]
    },
    {
     "data": {
      "application/vnd.jupyter.widget-view+json": {
       "model_id": "3a9d43dbda604c4eb94ccd2ce5b9791b",
       "version_major": 2,
       "version_minor": 0
      },
      "text/plain": [
       "  0%|          | 0/100 [00:00<?, ?it/s]"
      ]
     },
     "metadata": {},
     "output_type": "display_data"
    },
    {
     "name": "stdout",
     "output_type": "stream",
     "text": [
      "Indexed 700 documents.\n"
     ]
    },
    {
     "data": {
      "application/vnd.jupyter.widget-view+json": {
       "model_id": "ee9491bf31804c91860c4e1938446a7a",
       "version_major": 2,
       "version_minor": 0
      },
      "text/plain": [
       "  0%|          | 0/100 [00:00<?, ?it/s]"
      ]
     },
     "metadata": {},
     "output_type": "display_data"
    },
    {
     "name": "stdout",
     "output_type": "stream",
     "text": [
      "Indexed 800 documents.\n"
     ]
    },
    {
     "data": {
      "application/vnd.jupyter.widget-view+json": {
       "model_id": "88808d5dba444bd8bbd63c463f394627",
       "version_major": 2,
       "version_minor": 0
      },
      "text/plain": [
       "  0%|          | 0/100 [00:00<?, ?it/s]"
      ]
     },
     "metadata": {},
     "output_type": "display_data"
    },
    {
     "name": "stdout",
     "output_type": "stream",
     "text": [
      "Indexed 900 documents.\n"
     ]
    },
    {
     "data": {
      "application/vnd.jupyter.widget-view+json": {
       "model_id": "51f47725495e4d0aaab626bc6dda6a56",
       "version_major": 2,
       "version_minor": 0
      },
      "text/plain": [
       "  0%|          | 0/100 [00:00<?, ?it/s]"
      ]
     },
     "metadata": {},
     "output_type": "display_data"
    },
    {
     "name": "stdout",
     "output_type": "stream",
     "text": [
      "Indexed 1000 documents.\n"
     ]
    },
    {
     "data": {
      "application/vnd.jupyter.widget-view+json": {
       "model_id": "ceed7f66d42642b4879fbf70bef89124",
       "version_major": 2,
       "version_minor": 0
      },
      "text/plain": [
       "  0%|          | 0/100 [00:00<?, ?it/s]"
      ]
     },
     "metadata": {},
     "output_type": "display_data"
    },
    {
     "name": "stdout",
     "output_type": "stream",
     "text": [
      "Indexed 1100 documents.\n"
     ]
    },
    {
     "data": {
      "application/vnd.jupyter.widget-view+json": {
       "model_id": "01f1eebd780342d4a14132532c679fad",
       "version_major": 2,
       "version_minor": 0
      },
      "text/plain": [
       "  0%|          | 0/100 [00:00<?, ?it/s]"
      ]
     },
     "metadata": {},
     "output_type": "display_data"
    },
    {
     "name": "stdout",
     "output_type": "stream",
     "text": [
      "Indexed 1200 documents.\n"
     ]
    },
    {
     "data": {
      "application/vnd.jupyter.widget-view+json": {
       "model_id": "a68aea36c713448ab4aef2a70a7f80e1",
       "version_major": 2,
       "version_minor": 0
      },
      "text/plain": [
       "  0%|          | 0/100 [00:00<?, ?it/s]"
      ]
     },
     "metadata": {},
     "output_type": "display_data"
    },
    {
     "name": "stdout",
     "output_type": "stream",
     "text": [
      "Indexed 1300 documents.\n"
     ]
    },
    {
     "data": {
      "application/vnd.jupyter.widget-view+json": {
       "model_id": "d1efa1561d9c40f7a9c474e079a9dcbd",
       "version_major": 2,
       "version_minor": 0
      },
      "text/plain": [
       "  0%|          | 0/100 [00:00<?, ?it/s]"
      ]
     },
     "metadata": {},
     "output_type": "display_data"
    },
    {
     "name": "stdout",
     "output_type": "stream",
     "text": [
      "Indexed 1400 documents.\n"
     ]
    },
    {
     "data": {
      "application/vnd.jupyter.widget-view+json": {
       "model_id": "f39b0025c5b8423da1417682551eeabc",
       "version_major": 2,
       "version_minor": 0
      },
      "text/plain": [
       "  0%|          | 0/20 [00:00<?, ?it/s]"
      ]
     },
     "metadata": {},
     "output_type": "display_data"
    },
    {
     "name": "stdout",
     "output_type": "stream",
     "text": [
      "Indexed 1420 documents.\n",
      "=== End Done indexing===\n"
     ]
    }
   ],
   "source": [
    "#======================================================================================\n",
    "# ElasticSearch(이하:ES) 데이터 인텍싱\n",
    "# - ElasticSearch(이하:ES)에 KorQuAD_v1.0_train_convert.json 파일에 vector값을 구하여 index 함\n",
    "#\n",
    "# => index 명 : korquad\n",
    "# => index 구조 : index_1.json 파일 참조\n",
    "# => BATCH_SIZE : 100 => 100개의 vector값을 구하여, 한꺼번에 ES에 인텍스 데이터를 추가함.\n",
    "#======================================================================================\n",
    "INDEX_NAME = 'korquad'\n",
    "INDEX_FILE = './data/index.json'\n",
    "DATA_FILE = './data/KorQuAD_v1.0_train_convert.json'\n",
    "BATCH_SIZE = 100\n",
    "\n",
    "# 1. elasticsearch 접속\n",
    "es = Elasticsearch(\"http://192.168.0.130:9200/\")\n",
    "print(es.info())\n",
    "\n",
    "# 2. index 처리\n",
    "index_data()"
   ]
  },
  {
   "cell_type": "code",
   "execution_count": null,
   "id": "ca387ff6",
   "metadata": {},
   "outputs": [],
   "source": [
    "# kibana 콘솔창에 접속해서 계수 확인\n",
    "# http://192.168.0.130:5601/app/dev_tools 에 접속해서 해야함\n",
    "\n",
    "## 입력 ##\n",
    "# GET korquad/_count\n",
    "\n",
    "## 출력 ###\n",
    "'''\n",
    "{\n",
    "  \"count\" : 1420,\n",
    "  \"_shards\" : {\n",
    "    \"total\" : 2,\n",
    "    \"successful\" : 2,\n",
    "    \"skipped\" : 0,\n",
    "    \"failed\" : 0\n",
    "}\n",
    "'''    "
   ]
  },
  {
   "cell_type": "code",
   "execution_count": 8,
   "id": "f34026d8",
   "metadata": {},
   "outputs": [],
   "source": [
    "# 검색 하기\n",
    "\n",
    "import time\n",
    "from elasticsearch import Elasticsearch\n",
    "\n",
    "def run_query_loop():\n",
    "    while True:\n",
    "        try:\n",
    "            handle_query()\n",
    "        except KeyboardInterrupt:\n",
    "            return\n",
    "        \n",
    "def handle_query():\n",
    "    \n",
    "    query = input(\"검색어 입력: \")\n",
    "    \n",
    "    start_embedding_time = time.time()\n",
    "    query_vector = embed_text([query])[0]\n",
    "    end_embedding_time = time.time() - start_embedding_time\n",
    "    \n",
    "    # 쿼리 구성\n",
    "    script_query = {\n",
    "        \"script_score\":{\n",
    "            \"query\":{\n",
    "                \"match_all\": {}},\n",
    "            \"script\":{\n",
    "                \"source\": \"cosineSimilarity(params.query_vector, doc['paragraph_vector']) + 1.0\",  # 뒤에 1.0 은 코사인유사도 측정된 값 + 1.0을 더해준 출력이 나옴\n",
    "                \"params\": {\"query_vector\": query_vector}\n",
    "            }\n",
    "        }\n",
    "    }\n",
    "    \n",
    "    #print('query\\n')\n",
    "    #print(script_query)\n",
    "    \n",
    "    # 실제 ES로 검색 쿼리 날림\n",
    "    start_search_time = time.time()\n",
    "    response = es.search(\n",
    "        index=INDEX_NAME,\n",
    "        body={\n",
    "            \"size\": SEARCH_SIZE,\n",
    "            \"query\": script_query,\n",
    "            \"_source\":{\"includes\": [\"title\", \"paragraph\"]}\n",
    "        }\n",
    "    )\n",
    "    end_search_time = time.time() - start_search_time\n",
    "    \n",
    "    print(\"{} total hits.\".format(response[\"hits\"][\"total\"][\"value\"])) \n",
    "    print(\"embedding time: {:.2f} ms\".format(end_embedding_time * 1000)) \n",
    "    print(\"search time: {:.2f} ms\".format(end_search_time * 1000)) \n",
    "    print('\\n')\n",
    "    \n",
    "    # 쿼리 응답 결과값에서 _id, _score, _source 등을 뽑아냄\n",
    "    # print(response)\n",
    "    \n",
    "    for hit in response[\"hits\"][\"hits\"]: \n",
    "        \n",
    "        print(\"index:{}, type:{}\".format(hit[\"_index\"], hit[\"_type\"]))\n",
    "        print(\"id: {}, score: {}\".format(hit[\"_id\"], hit[\"_score\"])) \n",
    "        \n",
    "        print(f'[제목] {hit[\"_source\"][\"title\"]}')\n",
    "        \n",
    "        print('[내용]')\n",
    "        print(hit[\"_source\"][\"paragraph\"]) \n",
    "        \n",
    "        print()\n",
    "    "
   ]
  },
  {
   "cell_type": "code",
   "execution_count": 19,
   "id": "1230e838",
   "metadata": {},
   "outputs": [
    {
     "name": "stdout",
     "output_type": "stream",
     "text": [
      "<bound method Elasticsearch.info of <Elasticsearch([{'host': '192.168.0.130', 'port': 9200}])>>\n"
     ]
    },
    {
     "name": "stdin",
     "output_type": "stream",
     "text": [
      "검색어 입력:  제주도\n"
     ]
    },
    {
     "name": "stdout",
     "output_type": "stream",
     "text": [
      "1424 total hits.\n",
      "embedding time: 21.00 ms\n",
      "search time: 51.98 ms\n",
      "\n",
      "\n",
      "index:korquad, type:_doc\n",
      "id: 3qvIz4AB9i71yjP6BLUw, score: 1.2551259\n",
      "[제목] 무쓰_국\n",
      "[내용]\n",
      "무쓰 국(일본어: 陸奥国 무쓰노쿠니)는 일본의 옛 구니이다. 중국풍으로 줄여서 오슈(奥州)로도 불린다. 《엔기시키》에는 대국(大國)·원국(遠國)으로 격이 분류되었다. 야마토 조정이 위치해 있던 기나이(畿內)에서 보아 산도(山道, 훗날의 도산도)와 해도(海道, 후의 도카이도)의 안쪽에 위치해 있으며, 조정이 새롭게 복종시킨 지역을 토고쿠에 포함시켰기에 시기에 따라 범위가 변천했다. 대체로 혼슈(本州) 북동부에 해당하는 오늘의 후쿠시마(福島) 현, 미야기(宮城) 현, 이와테(岩手) 현, 아오모리(靑森) 현과 아키타(秋田) 현 북동쪽의 카즈노 시와 오사카쵸에 해당하지만, 보신전쟁에 패전한 무츠·에치고 등 여러 쿠니의 동맹제번에 대한 처분 때인 메이지 원년 12월 7일(서기 1869년 1월 19일)에 데와노쿠니와 함께 분할되어 아오모리 현과 이와테 현 니노헤군에 걸친 지역으로 줄어들었다.\n",
      "처음에는 이름을 미치노오쿠(道奧)라 했다. 《히타치 국 풍토기(常陸國風土記)》에는 고토쿠 천황(孝德天皇) 재위 말년인 654년에 아시가라(足柄) 고개의 동쪽에 히타치 국(常陸國)를 비롯한 여덟 개의 쿠니를 두었다는 기술이 있는데, 이중에 미치노오쿠가 포함되었던 것으로 보인다. 지금의 일본 도호쿠 지방에서 차츰 일본으로 편입된 구역, 즉 미야기 현 남부까지의 넓은 영역을 잠정적으로 포괄한 변경의 대국이었던 히타치에서 분할되는 형태로 성립된 이래로 헤이안 시대까지 미치노쿠(陸奧)로 불렸다. 7세기의 처음 설치했을 당시의 범위는 대체로 지금의 일본 미야기 현 중남부, 야마가타 현의 내륙부 및 후쿠시마 현 거의 대부분 지역에 해당하며, 태평양 쪽뿐 아니라 오우(奧羽) 산맥 서쪽 즉 동해와 마주한 지금의 야마가타 현 내륙 분지군이나 후쿠시마 현 아이즈(會津) 지방을 포함하고 있었다. 6세기까지 무쓰의 구니노미야쓰코는 모두 10개였으며, 고토쿠 천황 치세 후반에 제2차로 사자가 파견되고, 구니노미야쓰코 제도가 고오리(評) 제도로 바뀌면서 미치노오쿠 국(道奧國)이 설치되었다.\n",
      "와도(和銅) 5년(712년)에, 모가미(最上) 강 유역의 모가미 군(모가미 지방 및 무라야마 지방)과 오키타마 군(置賜郡, 오키타마 지방)이 에치고 국(越後國)에서 떨어져나와 새로 성립한 데와 국에 속하게 되면서, 무쓰 국은 미야기 현과 후쿠시마 현 지역에 한정되었다. 요로(養老) 2년(718년)에는 무쓰 · 이와키(石城) · 이와세(石背)의 3개 쿠니로 분할되었다. 이때 무쓰 국의 범위는 아부쿠마 강(阿武隈川) 하류의 북안에서 미야기 현 중부까지의 좁은 범위였다. 아부쿠마 강 하류의 남안 이남의 니마토오리(浜通り, 후쿠시마 현 동부)는 이와키노쿠니, 아부쿠마 강 유역의 분지군과 나카도리(中通り) 및 아이즈는 이와세 국에서 관할했다. 이와키 국은 분립할 무렵에 히타치 국에서 기쿠다 군(菊多郡)을 떼어 합병시켰다. 그러나 진키(神龜) 원년(720년)에서 4년(724년) 사이의 언젠가의 시점에서, 세 구니는 다시 합쳐져 원래의 무쓰 국이 되었지만, 기쿠다 군은 그대로 무쓰가 관리했다.\n",
      "일본 동북쪽 변경의 이민족인 에미시(蝦夷)와 경계를 접하고 있던 무쓰에는 무쓰·데와 양국을 통괄하는 무츠아제치(陸奥按察使)가 파견되었다. 무쓰 국의 고쿠후에는 진슈후(鎭守府)가 설치되었고, 다른 쿠니에서 보내온 진병의 통괄을 맡았으며 진슈후의 장군인 진슈쇼군(鎭守將軍, 나중에 진슈후쇼군으로 바뀌었다)이 양국을 군사적으로 통괄했다. 다이도(大同) 3년(808년) 이전에는 무쓰 · 데와의 아제치나 진슈쇼군도 모두 무쓰노카미가 겸임하는 것이 많았다. 엔랴쿠(延曆) 21년(802년)에 간무 천황(桓武天皇)의 명령으로 이루어진 대규모의 에미시 정벌로 국경을 개척해 이사와(胆澤) 성을 쌓고 진슈후를 그곳으로 옮긴 뒤, 진슈쇼군 이하의 군직들은 무쓰노카미나 그 휘하의 관인이 아니라 이사와 성의 책임자들 사이에서 충당했다. 고쿠후인 타가 성은 이사와 성에 있는 진슈후를 후방에서 지원하는 역할을 맡았다. 이후 여러 차례에 걸친 에미시와의 전쟁을 통해 확대된 곳마다 성과 목책을 설치하면서 차츰 영역을 넓혀갔다.\n",
      "헤이안 중기에 편찬된 《와메이뤼쥬쇼(和名類聚抄)》에 따르면 당시 무쓰 국 경내의 논의 면적은 5만 1440정 3반 99보였다고 한다. 《엔기시키》에 기록된 당시 무쓰 국에서 바치는 조세 수입은 158만 2715속. 조정에 바치는 주요 공납품으로는 다시마를 비롯한 해산물과 감초 · 진교 · 대황 · 석곡 · 인삼 · 부자 · 저지 같은 약초, 문구류인 붓, 영양의 뿔이 있었다. 주변과의 교역을 통해 얻은 잡물로는 사슴가죽, 해달 또는 개의 가죽 등이 있었고, 특산물인 사금과 명마 · 모피 · 새깃은 교토 귀족들에게 헌상되기도 했다. 특히 무쓰 국을 제외하고는 다른 쿠니에서 나지 않는 물품이었던 사금은 조정에 있어서는 중요한 공납품이었다. 원래 금이 나지 않던 일본에서 금이 발견된 것은 쇼무 천황(聖武天皇) 때의 일로, 도다이지(東大寺) 대불에 도금할 황금을 구하지 못해 조정이 어려움을 겪고 있을 때, 당시의 무쓰노카미였던 구다라노고니키시 교후쿠(百濟王敬福)가 휘하의 백제계 주금 기술자들을 이끌고 구니 안을 뒤진 끝에 무쓰 국 오다 군(小田郡) 가나야마(金山, 지금의 미야기현 도다 군 와쿠야마치 일대)에서 황금 9백 냥을 캐내는데 성공하면서 무사히 대불을 만들 수 있었고, 이후 무쓰에서 조정에 대한 사금 공납을 맡게 되었다고 한다.\n",
      "무쓰 남서부(훗날의 이와시로 국)의 아이즈 지방에서는, 다이도 2년(807년)에 창건되었다는 전승이 있는 에니치지(恵日寺)가 강대한 세력을 가지고, 11세기부터 12세기에 걸쳐 최전성기를 누리며 무쓰에서 호쿠리쿠 북부까지 영향력을 행사했다. 헤이안 시대 후기에 이르러 중앙 정부의 통제가 느슨한 틈을 타 부수장 아베 씨(安倍氏) 일족이 무쓰 북부(지금의 이와테 · 아오모리 현), 오쿠(奧) 6군에서 시모키타 반도에 이르는 지역을 장악하고, 나아가 도사미나토(十三湊)에서의 대륙 교역을 통한 막대한 이익으로 힘을 가지게 되었다. 고쿠시(國司)를 따르지 않고 반독자적 권력을 누리던 아베씨는 전9년의 역에서 패망하고, 데와에서 참전한 데와 기요하라 씨(出羽淸原氏) 일족이 무쓰·데와 양국에서 위세를 떨쳤으나 이마저도 후3년의 역으로 패망했다. 이후 오슈 후지와라 씨(奧州藤原氏) 일족이 무츠·데와 양국의 지배자가 되었다. 모두 현지에서 힘을 키운 호족으로, 중앙정부인 교토에서 파견된 고쿠시가 통치한다는 율령제의 대원칙을 점차 침식하면서 오슈 후지와라씨 일족의 지배기에 이르러 자치적 영역을 쌓아 올리게 되었다. 오슈 후지와라씨 일족의 세력권은 무쓰 전역에 걸쳐 있었고, 남부에 해당하는 지금의 후쿠시마 현 지역은 노부오군을 본거지로 하는 사토씨 집안이 미야기 현 남부와 야마가타 현 남부, 후쿠시마 현 중부를 지배했고, 에니치지 세력이 쇠퇴한 뒤에는 아이즈까지 지배했다. 후쿠시마 현 남동부(나중에는 이와키 국이 됨)에서는, 전9년의 역에 종군한 뒤 이시카와 군에 눌러살게 된 이시카와(石川) 집안(세이와 겐지의 분파)나 하마도리 남부를 지배한 이와키(岩城) 집안(간무 헤이시의 분파)도 있었지만, 모두 오슈 후지와라 씨에게 복속해 있었다. 오슈 후지와라씨는 훗날의 리쿠추 국(陸中國) 지역(지금의 이와테 현)에 해당하는 히라이즈미(平泉)를 본거지로 삼아, 헤이케 정권 치하에서도 반독립적 상태를 유지했다. 그러나 1189년에 미나모토노 요리토모(源賴朝)의 공격을 받아 멸망했다.\n",
      "가마쿠라 막부를 타도한 고다이고 천황(後醍醐天皇)이 겐무신정(建武新政)을 실시했을 때는 한때나마 친왕임국으로서 노리요시(義良) 친왕(훗날의 고무라카미 천황)이 무쓰노카미로 부임했다. 이후 무로마치 막부에 의해 오슈 단다이(奧州探題)가 설치되었다. 당초 아시카가 일족인 사바(斯波) 집안의 분가로서 무쓰 국 중부(지금의 미야기 현 북부)를 세력권으로 하는 오사키(大崎) 집안이 오슈 단다이를 세습했지만, 그 권위는 허울뿐이었고 그나마도 제한이 있었다. 후에 무쓰 남부(지금의 후쿠시마현 북부)에서 대두한 다테(伊達) 집안의 다테 다네무네(伊達稙宗)가 무쓰 국의 슈고가 되면서 오사키 집안이 거꾸로 다테 집안의 세력하에 들어가게 되고, 오슈탄다이 지위도 다테씨에게 빼앗기게 된다.\n",
      "\n",
      "\n",
      "index:korquad, type:_doc\n",
      "id: CqvSz4AB9i71yjP66r3A, score: 1.237228\n",
      "[제목] 제주도\n",
      "[내용]\n",
      "대한민국의 남서쪽에 있는 섬. 행정구역상 광역자치단체인 제주특별자치도의 관할. 한국의 섬 중에서 가장 크고 인구가 많은 섬으로 면적은 1833.2㎢이다. 제주도 다음 2번째 큰 섬인 거제도의 5배 정도 된다. 인구는 약 68만 명.\n",
      "\n",
      "index:korquad, type:_doc\n",
      "id: aavRz4AB9i71yjP6ybwf, score: 1.2093245\n",
      "[제목] 한라산\n",
      "[내용]\n",
      "대한민국에서 가장 큰 섬인 제주도에 있으며 대한민국의 실효지배 영토 내의 최고봉이자 가장 높은 산(해발 1,947m). 대한민국의 국립공원 중 하나이다. 국립공원 전역이 유네스코 세계유산으로 지정되었다.\n",
      "\n"
     ]
    }
   ],
   "source": [
    "#====================================================================\n",
    "# ES 인덱싱된 내용 검색 \n",
    "# => cosineSimilarity 스크립트를 이용하여 ES로 query 함(*이때 SEARCH_SIZE를 몇개로 할지 지정할수 있음)\n",
    "# => 쿼리 응답 결과 값에서 _id, _score, _source 등을 뽑아냄\n",
    "#====================================================================\n",
    "\n",
    "INDEX_NAME = 'korquad'\n",
    "SEARCH_SIZE = 3\n",
    "\n",
    "# 1. elasticsearch 접속\n",
    "es = Elasticsearch(\"http://192.168.0.130:9200/\")\n",
    "print(es.info)\n",
    "\n",
    "# 2. query 처리\n",
    "run_query_loop()"
   ]
  },
  {
   "cell_type": "code",
   "execution_count": 18,
   "id": "f4d090f7",
   "metadata": {},
   "outputs": [
    {
     "name": "stdout",
     "output_type": "stream",
     "text": [
      "<bound method Elasticsearch.info of <Elasticsearch([{'host': '192.168.0.130', 'port': 9200}])>>\n"
     ]
    },
    {
     "data": {
      "application/vnd.jupyter.widget-view+json": {
       "model_id": "04eff7f296fb40cab2d9a329a8434cb1",
       "version_major": 2,
       "version_minor": 0
      },
      "text/plain": [
       "  0%|          | 0/3 [00:00<?, ?it/s]"
      ]
     },
     "metadata": {},
     "output_type": "display_data"
    },
    {
     "name": "stdout",
     "output_type": "stream",
     "text": [
      "Indexed 3 documents(end).\n"
     ]
    }
   ],
   "source": [
    "#==============================================================================================\n",
    "# ES index에 데이터 추가하가\n",
    "# => 추가할 데이터는 {'paragraph': 내용, 'title': 제목} 기존 입려된 방식대로(사전) 입력 되어야 함\n",
    "#===============================================================================================\n",
    "\n",
    "# ES에 이미 생성된 index\n",
    "INDEX_NAME = 'korquad'\n",
    "BATCH_SIZE = 30\n",
    "\n",
    "\n",
    "# 1.추가할 데이터 준비\n",
    "title = [\n",
    "    '제주도', \n",
    "    '한라산',\n",
    "    '서울특별시'\n",
    "        ]\n",
    "\n",
    "paragraph = [\n",
    "    '대한민국의 남서쪽에 있는 섬. 행정구역상 광역자치단체인 제주특별자치도의 관할. 한국의 섬 중에서 가장 크고 인구가 많은 섬으로 면적은 1833.2㎢이다. 제주도 다음 2번째 큰 섬인 거제도의 5배 정도 된다. 인구는 약 68만 명.',\n",
    "    '대한민국에서 가장 큰 섬인 제주도에 있으며 대한민국의 실효지배 영토 내의 최고봉이자 가장 높은 산(해발 1,947m). 대한민국의 국립공원 중 하나이다. 국립공원 전역이 유네스코 세계유산으로 지정되었다.',\n",
    "    '대한민국의 수도인 서울은 현대적인 고층 빌딩, 첨단 기술의 지하철, 대중문화와 예것이 공존하는 대도시. 주목할 만한 명소로는 초현대적 디자인의 컨벤션 홀인 동대문디자인플라자, 한때 7,000여 칸의 방이 자리하던 경복궁, 조계사가 있다',\n",
    "            ]\n",
    "\n",
    "# {'paragraph': \"\", 'title': \"\"}\n",
    "\n",
    "# 2. elasticsearch 접속\n",
    "es = Elasticsearch(\"http://192.168.0.130:9200/\")\n",
    "print(es.info)\n",
    "\n",
    "doc = {}\n",
    "docs = []\n",
    "count = 0\n",
    "\n",
    "# 3. batch 사이즈 만큼식 ES에 추가\n",
    "# => 추가할 데이터는 {'paragraph': 내용, 'title': 제목} 기존 입려된 방식대로(사전) 입력 되어야 함\n",
    "for title, paragraph in zip(title, paragraph):\n",
    "    doc = {}\n",
    "    doc['paragraph'] = paragraph\n",
    "    doc['title'] = title\n",
    "    docs.append(doc)\n",
    "    count += 1\n",
    "    if count % BATCH_SIZE == 0:\n",
    "        index_batch(docs)\n",
    "        docs = []\n",
    "        print(\"Indexed {} documents.\".format(count))\n",
    "   \n",
    "# docs 이 있으면 전송\n",
    "if docs:\n",
    "    index_batch(docs)\n",
    "    print(\"Indexed {} documents(end).\".format(count))\n"
   ]
  },
  {
   "cell_type": "code",
   "execution_count": null,
   "id": "fe7e8054-dfc6-4289-8309-8f0710b16771",
   "metadata": {},
   "outputs": [],
   "source": [
    "#==============================================================================================\n",
    "# ES 데이터 조회하기\n",
    "#==============================================================================================\n",
    "INDEX_NAME = 'korquad'\n",
    "\n",
    "# 1. elasticsearch 접속\n",
    "es = Elasticsearch(\"http://192.168.0.130:9200/\")\n",
    "print(es.info)\n",
    "\n",
    "###########################################################\n",
    "# 인덱스내 데이터 조회 => query 이용\n",
    "###########################################################\n",
    "def search(index, data=None):\n",
    "    if data is None: #모든 데이터 조회\n",
    "        data = {\"match_all\":{}}\n",
    "    else:\n",
    "        data = {\"match\": data}\n",
    "        \n",
    "    body = {\"query\": data}\n",
    "    res = es.search(index=index, body=body)\n",
    "    return res\n",
    "###########################################################\n",
    "\n",
    "# 모든 데이터 조회\n",
    "#sr = search(index=INDEX_NAME)\n",
    "#pprint.pprint(sr)\n",
    "\n",
    "# 단일 필드 조회\n",
    "sr = search(index=INDEX_NAME, data = {'title': '제주도'})\n",
    "print(sr)\n"
   ]
  },
  {
   "cell_type": "code",
   "execution_count": 17,
   "id": "89a7fc52-530f-46f4-ae83-2ccca3fd5668",
   "metadata": {},
   "outputs": [
    {
     "name": "stdout",
     "output_type": "stream",
     "text": [
      "<bound method Elasticsearch.info of <Elasticsearch([{'host': '192.168.0.130', 'port': 9200}])>>\n"
     ]
    },
    {
     "data": {
      "text/plain": [
       "{'took': 45,\n",
       " 'timed_out': False,\n",
       " 'total': 2,\n",
       " 'deleted': 2,\n",
       " 'batches': 1,\n",
       " 'version_conflicts': 0,\n",
       " 'noops': 0,\n",
       " 'retries': {'bulk': 0, 'search': 0},\n",
       " 'throttled_millis': 0,\n",
       " 'requests_per_second': -1.0,\n",
       " 'throttled_until_millis': 0,\n",
       " 'failures': []}"
      ]
     },
     "execution_count": 17,
     "metadata": {},
     "output_type": "execute_result"
    }
   ],
   "source": [
    "#==============================================================================================\n",
    "# ES index에 데이터 삭제하기\n",
    "#==============================================================================================\n",
    "INDEX_NAME = 'korquad'\n",
    "\n",
    "# 1. elasticsearch 접속\n",
    "es = Elasticsearch(\"http://192.168.0.130:9200/\")\n",
    "print(es.info)\n",
    "\n",
    "############################################################\n",
    "## 1: 인덱스 내의 데이터 삭제 => query 이용\n",
    "############################################################\n",
    "def delete(index, data):\n",
    "    if data is None:  # data가 없으면 모두 삭제\n",
    "        data = {\"match_all\":{}}\n",
    "    else:\n",
    "        data = {\"match\": data}\n",
    "        \n",
    "    body = {\"query\": data}\n",
    "    return es.delete_by_query(index, body=body)\n",
    "\n",
    "############################################################\n",
    "## 2: 인덱스 내의 데이터 삭제 => id 이용\n",
    "############################################################\n",
    "def delete_by_id(index, id):\n",
    "    return es.delete(index, id=id)\n",
    "\n",
    "############################################################\n",
    "## 3: 인덱스 자체 삭제\n",
    "############################################################\n",
    "def delete_index(index):\n",
    "    if es.indices.exists(index=index):\n",
    "        return es.indices.delete(index=index)\n",
    "\n",
    "\n",
    "# 1: query 이용 데이터 삭제\n",
    "delete(index=INDEX_NAME, data={'title':'한라산'})\n",
    "\n",
    "# 3: 인덱스 자체 삭제\n",
    "#delete_index(index=INDEX_NAME)\n"
   ]
  },
  {
   "cell_type": "code",
   "execution_count": 65,
   "id": "e5659658-75cf-4339-a88a-db338bddfb84",
   "metadata": {},
   "outputs": [
    {
     "name": "stdout",
     "output_type": "stream",
     "text": [
      "<bound method Elasticsearch.info of <Elasticsearch([{'host': '192.168.0.130', 'port': 9200}])>>\n",
      "\n",
      "\n",
      "===[검색 결과]===\n",
      "id: CqvSz4AB9i71yjP66r3A\n",
      "type: _doc\n",
      "title:제주도\n",
      "paragraph:제주도는 대한민국에 가장 남쪽에 있는 섬으로, 인구는 약 70만명이며, 화산섬으로 관광자원이 많은 천혜의 관광지 이다.\n",
      "\n",
      "\n",
      "===[업데이트]===\n",
      "{'paragraph': '제주도는 대한민국에 가장 남쪽에 있는 섬으로, 인구는 약 71만명이며, 화산섬으로 관광자원이 많은 천혜의 관광지 이다.'}\n",
      "\n",
      "\n",
      "===[업데이트 결과]===\n",
      "{'_index': 'korquad', '_type': '_doc', '_id': 'CqvSz4AB9i71yjP66r3A', '_version': 6, 'result': 'updated', '_shards': {'total': 2, 'successful': 2, 'failed': 0}, '_seq_no': 710, '_primary_term': 2}\n",
      "\n",
      "\n",
      "===[재검색 결과]===\n",
      "id:CqvSz4AB9i71yjP66r3A\n",
      "type: _doc\n",
      "title:제주도\n",
      "paragraph:제주도는 대한민국에 가장 남쪽에 있는 섬으로, 인구는 약 71만명이며, 화산섬으로 관광자원이 많은 천혜의 관광지 이다.\n"
     ]
    }
   ],
   "source": [
    "#==============================================================================================\n",
    "# ES index에 데이터 업데이트하기\n",
    "#==============================================================================================\n",
    "INDEX_NAME = 'korquad'\n",
    "\n",
    "# 1. elasticsearch 접속\n",
    "es = Elasticsearch(\"http://192.168.0.130:9200/\")\n",
    "print(es.info)\n",
    "\n",
    "############################################################\n",
    "## 1: 인덱스 내의 데이터 업데이트=>_id 에 데이터 업데이트\n",
    "############################################################\n",
    "def update(index, id, doc, doc_type):\n",
    "    \n",
    "    body = {\n",
    "        'doc': doc\n",
    "    }\n",
    "    \n",
    "    res=es.update(index=index, id=id, body=body, doc_type=doc_type)\n",
    "    return res\n",
    "############################################################\n",
    "\n",
    "#=====================================================================\n",
    "# 검색해서, _id, _type을 구함\n",
    "sr = search(index=INDEX_NAME, data = {'title': '제주도'})\n",
    "\n",
    "print('\\n')\n",
    "print(\"===[검색 결과]===\")\n",
    "for hits in sr[\"hits\"][\"hits\"]:\n",
    "    id = hits[\"_id\"]      # id\n",
    "    type = hits[\"_type\"]  # type\n",
    "    \n",
    "    print(f'id: {id}')\n",
    "    print(f'type: {type}')\n",
    "    print(f'title:{hits[\"_source\"][\"title\"]}')\n",
    "    print(f'paragraph:{hits[\"_source\"][\"paragraph\"]}')\n",
    "    print('\\n')\n",
    "    \n",
    "    # update 시킴\n",
    "    print(\"===[업데이트]===\")\n",
    "    doc = {'paragraph': '제주도는 대한민국에 가장 남쪽에 있는 섬으로, 인구는 약 71만명이며, 화산섬으로 관광자원이 많은 천혜의 관광지 이다.'}\n",
    "    print(doc)\n",
    "    print('\\n')\n",
    "    \n",
    "    ur=update(index=INDEX_NAME, id=id, doc=doc, doc_type=type)\n",
    "    print(\"===[업데이트 결과]===\")\n",
    "    print(ur)\n",
    "    print('\\n')\n",
    "\n",
    "#=====================================================================\n",
    "\n",
    "# 인덱스 refresh 함\n",
    "# elasticsearch의 자동 새로고침의 시간은 1초 정도 소요\n",
    "# 따라서 코드에 아래 명령어를 입력하지 않았을 경우 검색을 하지 못할 가능성도 존재\n",
    "es.indices.refresh(index=INDEX_NAME)\n",
    "\n",
    "# 제주도로 검색해서 한번더 확인\n",
    "sr = search(index=INDEX_NAME, data = {'title': '제주도'})\n",
    "\n",
    "print(\"===[재검색 결과]===\")\n",
    "for hits in sr[\"hits\"][\"hits\"]:\n",
    "    \n",
    "    print(f'id:{hits[\"_id\"]}')\n",
    "    print(f'type: {hits[\"_type\"]}')\n",
    "    print(f'title:{hits[\"_source\"][\"title\"]}')\n",
    "    print(f'paragraph:{hits[\"_source\"][\"paragraph\"]}')\n",
    "    \n",
    "              "
   ]
  },
  {
   "cell_type": "code",
   "execution_count": null,
   "id": "339bbcc8-22dc-45e6-adbe-3eb43098bdd6",
   "metadata": {},
   "outputs": [],
   "source": []
  }
 ],
 "metadata": {
  "kernelspec": {
   "display_name": "Python 3 (ipykernel)",
   "language": "python",
   "name": "python3"
  },
  "language_info": {
   "codemirror_mode": {
    "name": "ipython",
    "version": 3
   },
   "file_extension": ".py",
   "mimetype": "text/x-python",
   "name": "python",
   "nbconvert_exporter": "python",
   "pygments_lexer": "ipython3",
   "version": "3.8.12"
  }
 },
 "nbformat": 4,
 "nbformat_minor": 5
}

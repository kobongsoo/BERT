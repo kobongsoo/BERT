{
 "cells": [
  {
   "cell_type": "code",
   "execution_count": 1,
   "id": "f19d2f8b-8631-434c-8310-d2a591317a15",
   "metadata": {},
   "outputs": [
    {
     "name": "stderr",
     "output_type": "stream",
     "text": [
      "/MOCOMSYS/anaconda3/envs/bong/lib/python3.9/site-packages/elasticsearch/connection/base.py:200: ElasticsearchWarning: Elasticsearch built-in security features are not enabled. Without authentication, your cluster could be accessible to anyone. See https://www.elastic.co/guide/en/elasticsearch/reference/7.17/security-minimal-setup.html to enable security.\n",
      "  warnings.warn(message, category=ElasticsearchWarning)\n"
     ]
    },
    {
     "data": {
      "text/plain": [
       "{'name': 'node-1',\n",
       " 'cluster_name': 'mpower',\n",
       " 'cluster_uuid': 'Nnk0icM8QeWRIRqqTYjiTA',\n",
       " 'version': {'number': '7.17.3',\n",
       "  'build_flavor': 'default',\n",
       "  'build_type': 'tar',\n",
       "  'build_hash': '5ad023604c8d7416c9eb6c0eadb62b14e766caff',\n",
       "  'build_date': '2022-04-19T08:11:19.070913226Z',\n",
       "  'build_snapshot': False,\n",
       "  'lucene_version': '8.11.1',\n",
       "  'minimum_wire_compatibility_version': '6.8.0',\n",
       "  'minimum_index_compatibility_version': '6.0.0-beta1'},\n",
       " 'tagline': 'You Know, for Search'}"
      ]
     },
     "execution_count": 1,
     "metadata": {},
     "output_type": "execute_result"
    }
   ],
   "source": [
    "# elasticsearch 서버 접속 모듈 설치\n",
    "# pip install elasticsearch\n",
    "\n",
    "from elasticsearch import Elasticsearch\n",
    "from elasticsearch import helpers\n",
    "\n",
    "# elastic 서버 접속 \n",
    "#es = Elasticsearch(\"https://192.168.0.91:9200/\", verify_certs=False)\n",
    "es = Elasticsearch(\"http://10.10.4.10:9200/\")\n",
    "es.info()"
   ]
  },
  {
   "cell_type": "code",
   "execution_count": 6,
   "id": "b6e76726-5df6-4f00-9e2a-9ee74e10de42",
   "metadata": {},
   "outputs": [],
   "source": [
    "#---------------------------------------------------------------------------\n",
    "#쿼리에 대해 일반검색해서 임베딩 검색할 후보군 10개 목록 uids를 얻는 함수\n",
    "#---------------------------------------------------------------------------\n",
    "def es_search_uids(es, esindex:str, size:int=10, data=None):\n",
    "    if data is None: #모든 데이터 조회\n",
    "        data = {\"match_all\":{}}\n",
    "    else:\n",
    "        data = {\"match\": data}\n",
    "        \n",
    "    body = {\n",
    "        \"size\": size,\n",
    "        \"query\": data,\n",
    "        \"_source\":{\"includes\": [\"rfile_name\",\"rfile_text\"]}\n",
    "    }\n",
    "    \n",
    "    print(body)\n",
    "    response = es.search(index=esindex, body=body)\n",
    "    \n",
    "    print(response)\n",
    "    \n",
    "    rfilename = []\n",
    "    count = 0\n",
    "    docs = []\n",
    "    \n",
    "    print(f'\\n[es_search_uids]===>')\n",
    "    \n",
    "    for hit in response[\"hits\"][\"hits\"]: \n",
    "        tmp = hit[\"_source\"][\"rfile_name\"]\n",
    "\n",
    "        # 중복 제거\n",
    "        if tmp and tmp not in rfilename:\n",
    "            rfilename.append(tmp)\n",
    "            doc = {}  #dict 선언\n",
    "            score = hit[\"_score\"]\n",
    "            if score > UID_MIN_SCORE:  # 6 이상일때만 스코어 계산\n",
    "                doc['rfile_name'] = hit[\"_source\"][\"rfile_name\"]      # contextid 담음\n",
    "                doc['rfile_text'] = hit[\"_source\"][\"rfile_text\"]      # text 담음.\n",
    "                doc['score'] = score\n",
    "                docs.append(doc)\n",
    "                print(f'\\t{doc}')\n",
    "                count += 1\n",
    "\n",
    "    \n",
    "    uids = []\n",
    "    for doc in docs:\n",
    "        uids.append(doc['rfile_name'])\n",
    "\n",
    "    return uids, docs"
   ]
  },
  {
   "cell_type": "code",
   "execution_count": 9,
   "id": "1b66b3d5-e66d-4313-be2c-2aeb967ddd90",
   "metadata": {},
   "outputs": [
    {
     "name": "stdout",
     "output_type": "stream",
     "text": [
      "{'size': 10, 'query': {'match': {'rfile_text': '할아버지 상 휴가'}}, '_source': {'includes': ['rfile_name', 'rfile_text']}}\n",
      "{'took': 8, 'timed_out': False, '_shards': {'total': 2, 'successful': 2, 'skipped': 0, 'failed': 0}, 'hits': {'total': {'value': 54, 'relation': 'eq'}, 'max_score': 6.0502, 'hits': [{'_index': 'qaindex', '_type': '_doc', '_id': '39Ero4sB5NLaJBxZ5tNn', '_score': 6.0502, '_source': {'rfile_name': '14_35', 'rfile_text': '취업 규칙\\n난임치료휴가\\n회사는 사원이 인공수정 또는 체외수정 등 난임치료를 받기 위하여 휴가(이하 ‘난임치료휴가’라 한다)를 청구하는 경우에 연간 3일 이내의 휴가를 주어야 하며, 이 경우 최초 1일은 유급으로 한다. \\n다만, 사원이 청구한 시기에 휴가를 주는 것이 정상적인 사업 운영에 중대한 지장을 초래하는 경우에는 사원과 협의하여 그 시기를 변경할 수 있다.\\n회사는 난임치료휴가를 이유로 해고, 징계 등 불리한 처우를 하여서는 아니된다.\\n난임치료휴가의 신청 방법과 절차 등은 남녀고용평등법 시행령에 따른다.'}}, {'_index': 'qaindex', '_type': '_doc', '_id': 'VNEso4sB5NLaJBxZMtb7', '_score': 6.048465, '_source': {'rfile_name': '44_2', 'rfile_text': '경조사 지원 규정\\n경사 지원금\\n본인 결혼 : 5일 유급 휴가, 500,000원 축의금 지원\\n자녀 결혼 : 1일 유급 휴가, 300,000 원 축의금 지원\\n형제자매결혼 : 1일 유급휴가, 100,000 원 축의금 지원\\n자녀 출산(배우자) : 10일 유급휴가, 100,000 원 축의금 지원\\n부모 회갑 : 1일 유급휴가, 200,000 원 축의금 지원\\n배우자 부모회갑 : 1일 유급휴가, 200,000 원 축의금 지원\\n부모고희(칠순) : 1일 유급휴가, 300,000 원 축의금 지원\\n배우자부모고희 : 1일 유급휴가, 300,000 원 축의금 지원'}}, {'_index': 'qaindex', '_type': '_doc', '_id': 'o9Ero4sB5NLaJBxZ_dSJ', '_score': 5.914709, '_source': {'rfile_name': '22_31', 'rfile_text': '주주총회 운영규정\\n제32조(휴식) \\n회장은 의사진행상 필요하다고 인정되는 경우에는 짧은 시간 동안 휴회를 선언할 수 있다.'}}, {'_index': 'qaindex', '_type': '_doc', '_id': 'VdEso4sB5NLaJBxZMtb7', '_score': 5.830345, '_source': {'rfile_name': '44_3', 'rfile_text': '경조사 지원 규정\\n조사 지원금\\n본인 사망\\n배우자 사망 : 5일 유급휴가, 1,000,000원 부조금 및 조화 지원\\n부모 사망 : 5일 유급휴가, 1,000,000원 부조금 및 조화 지원\\n자녀 사망 : 5일 유급휴가, 1,000,000원 부조금 및 조화 지원\\n배우자 사망 : 5일 유급휴가, 1,000,000원 부조금 및 조화 지원\\n부모 사망 : 5일 유급휴가, 500,000원 부조금 및 조화 지원\\n형제자매 사망: 3일 유급휴가, 300,000원 부조금 및 조화 지원\\n조부모/외조부모 사망: 3일 유급휴가, 200,000원 부조금 및 조화 지원'}}, {'_index': 'qaindex', '_type': '_doc', '_id': 'VtEso4sB5NLaJBxZEdXe', '_score': 5.736126, '_source': {'rfile_name': '30_6', 'rfile_text': '리프레시 휴가 지원 지침\\n주관 부서\\n리프레시 휴가 지원의 시행을 위한 제 업무는 경영지원본부에서 관장한다.'}}, {'_index': 'qaindex', '_type': '_doc', '_id': '2tEro4sB5NLaJBxZ49PL', '_score': 5.6741347, '_source': {'rfile_name': '14_30', 'rfile_text': '취업 규칙\\n제29조 (연차휴가)\\n① 1년간 8할 이상 출근한 사원에게는 15일의 유급휴가를 준다. \\n② 3년 이상 근속한 사원에 대하여는 제1항 규정에 의한 휴가에 최초 1년을 초과하는 계속 근로연수 매 2년에 대하여 1일을 가산한 유급휴가를 주며, 가산휴가를 포함한 총 휴가일수는 25일을 한도로 한다. \\n③ 계속하여 근로한 기간이 1년 미만인 사원 또는 1년간 8할 미만 출근한 사원에게 1개월 개근 시 1일의 유급휴가를 준다.\\n제1항 및 제3항을 적용하는 경우 다음 각 호의 어느 하나에 해당하는 기간은 출근한 것으로 본다.\\n사원이 업무상의 부상 또는 질병으로 휴업한 기간\\n임신 중의 여성이 근로기준법 제74조 제1항부터 제3항까지의 규정에 따른 휴가로 휴업한 기간\\n‘남녀고용평등법과 일, 가정 양립 지원에 관한 법률’ 제19조 제1항에 따른 육아휴직으로 휴업한 기간'}}, {'_index': 'qaindex', '_type': '_doc', '_id': 'U9Eso4sB5NLaJBxZEdXe', '_score': 5.5947075, '_source': {'rfile_name': '30_3', 'rfile_text': '리프레시 휴가 지원 지침\\n신청 내용\\n1. 임직원은 3년에 1회 ‘리프레시 휴가 신청서’를 통해 리프레시 휴가를 갈 수 있다. \\n2. 회사는 유급휴가 2일과 제5조에 정한 휴가비를 지급한다.\\n3. 휴가 후 회사에 최소 3장의 휴가사진(디지털 파일)을 경영지원팀에 제출해야 하며, 회사는 이를 회사 홍보용도로 사용할 수 있다.'}}, {'_index': 'qaindex', '_type': '_doc', '_id': '3tEro4sB5NLaJBxZ5tNn', '_score': 5.4096947, '_source': {'rfile_name': '14_34', 'rfile_text': '취업 규칙\\n제33조 (그 밖의 휴가)\\n생리휴가 - 회사는 여성 사원이 청구하는 경우 월 1일의 무급생리휴가를 부여한다.'}}, {'_index': 'qaindex', '_type': '_doc', '_id': 'ktEso4sB5NLaJBxZGtXg', '_score': 5.202541, '_source': {'rfile_name': '34_3', 'rfile_text': '모코엠시스 회사 규정\\n공가 및 하계휴가\\n공가는 공무원이나 공무원이 아닌 사람이 공무로 인하여 출근이 불가능한 경우, 법률에 따라 출근이 불가능한 경우, 천재지변이나 재해로 인하여 출근이 불가능한 경우에 주어지는 휴가입니다.\\n공가를 신청하려면 최소 휴가 하루 전 경영지원부 홍아름 과장에게 제출해야 합니다. \\n공가 및 경조휴가의 경우 증빙을 첨부해야 합니다.\\n별도 하계휴가는 없습니다. \\n개인의 잔여연차에서 자유롭게 사용하시면 됩니다.'}}, {'_index': 'qaindex', '_type': '_doc', '_id': 'UdEso4sB5NLaJBxZEdXe', '_score': 5.194475, '_source': {'rfile_name': '30_1', 'rfile_text': '리프레시 휴가 지원 지침\\n목적\\n본 지침은 주식회사 모코엠시스(이하 ‘회사’라 한다) 임직원의 리프레시 휴가에 관하여 지침을 정하는 것을 목적으로 한다.\\n본 지침에서 임직원이라 함은 임원, 정규직 사원을 말한다.'}}]}}\n",
      "\n",
      "[es_search_uids]===>\n",
      "\t{'rfile_name': '14_35', 'rfile_text': '취업 규칙\\n난임치료휴가\\n회사는 사원이 인공수정 또는 체외수정 등 난임치료를 받기 위하여 휴가(이하 ‘난임치료휴가’라 한다)를 청구하는 경우에 연간 3일 이내의 휴가를 주어야 하며, 이 경우 최초 1일은 유급으로 한다. \\n다만, 사원이 청구한 시기에 휴가를 주는 것이 정상적인 사업 운영에 중대한 지장을 초래하는 경우에는 사원과 협의하여 그 시기를 변경할 수 있다.\\n회사는 난임치료휴가를 이유로 해고, 징계 등 불리한 처우를 하여서는 아니된다.\\n난임치료휴가의 신청 방법과 절차 등은 남녀고용평등법 시행령에 따른다.', 'score': 6.0502}\n",
      "\t{'rfile_name': '44_2', 'rfile_text': '경조사 지원 규정\\n경사 지원금\\n본인 결혼 : 5일 유급 휴가, 500,000원 축의금 지원\\n자녀 결혼 : 1일 유급 휴가, 300,000 원 축의금 지원\\n형제자매결혼 : 1일 유급휴가, 100,000 원 축의금 지원\\n자녀 출산(배우자) : 10일 유급휴가, 100,000 원 축의금 지원\\n부모 회갑 : 1일 유급휴가, 200,000 원 축의금 지원\\n배우자 부모회갑 : 1일 유급휴가, 200,000 원 축의금 지원\\n부모고희(칠순) : 1일 유급휴가, 300,000 원 축의금 지원\\n배우자부모고희 : 1일 유급휴가, 300,000 원 축의금 지원', 'score': 6.048465}\n",
      "\t{'rfile_name': '22_31', 'rfile_text': '주주총회 운영규정\\n제32조(휴식) \\n회장은 의사진행상 필요하다고 인정되는 경우에는 짧은 시간 동안 휴회를 선언할 수 있다.', 'score': 5.914709}\n",
      "\t{'rfile_name': '44_3', 'rfile_text': '경조사 지원 규정\\n조사 지원금\\n본인 사망\\n배우자 사망 : 5일 유급휴가, 1,000,000원 부조금 및 조화 지원\\n부모 사망 : 5일 유급휴가, 1,000,000원 부조금 및 조화 지원\\n자녀 사망 : 5일 유급휴가, 1,000,000원 부조금 및 조화 지원\\n배우자 사망 : 5일 유급휴가, 1,000,000원 부조금 및 조화 지원\\n부모 사망 : 5일 유급휴가, 500,000원 부조금 및 조화 지원\\n형제자매 사망: 3일 유급휴가, 300,000원 부조금 및 조화 지원\\n조부모/외조부모 사망: 3일 유급휴가, 200,000원 부조금 및 조화 지원', 'score': 5.830345}\n",
      "\t{'rfile_name': '30_6', 'rfile_text': '리프레시 휴가 지원 지침\\n주관 부서\\n리프레시 휴가 지원의 시행을 위한 제 업무는 경영지원본부에서 관장한다.', 'score': 5.736126}\n",
      "\t{'rfile_name': '14_30', 'rfile_text': '취업 규칙\\n제29조 (연차휴가)\\n① 1년간 8할 이상 출근한 사원에게는 15일의 유급휴가를 준다. \\n② 3년 이상 근속한 사원에 대하여는 제1항 규정에 의한 휴가에 최초 1년을 초과하는 계속 근로연수 매 2년에 대하여 1일을 가산한 유급휴가를 주며, 가산휴가를 포함한 총 휴가일수는 25일을 한도로 한다. \\n③ 계속하여 근로한 기간이 1년 미만인 사원 또는 1년간 8할 미만 출근한 사원에게 1개월 개근 시 1일의 유급휴가를 준다.\\n제1항 및 제3항을 적용하는 경우 다음 각 호의 어느 하나에 해당하는 기간은 출근한 것으로 본다.\\n사원이 업무상의 부상 또는 질병으로 휴업한 기간\\n임신 중의 여성이 근로기준법 제74조 제1항부터 제3항까지의 규정에 따른 휴가로 휴업한 기간\\n‘남녀고용평등법과 일, 가정 양립 지원에 관한 법률’ 제19조 제1항에 따른 육아휴직으로 휴업한 기간', 'score': 5.6741347}\n",
      "\t{'rfile_name': '30_3', 'rfile_text': '리프레시 휴가 지원 지침\\n신청 내용\\n1. 임직원은 3년에 1회 ‘리프레시 휴가 신청서’를 통해 리프레시 휴가를 갈 수 있다. \\n2. 회사는 유급휴가 2일과 제5조에 정한 휴가비를 지급한다.\\n3. 휴가 후 회사에 최소 3장의 휴가사진(디지털 파일)을 경영지원팀에 제출해야 하며, 회사는 이를 회사 홍보용도로 사용할 수 있다.', 'score': 5.5947075}\n",
      "\t{'rfile_name': '14_34', 'rfile_text': '취업 규칙\\n제33조 (그 밖의 휴가)\\n생리휴가 - 회사는 여성 사원이 청구하는 경우 월 1일의 무급생리휴가를 부여한다.', 'score': 5.4096947}\n",
      "\t{'rfile_name': '34_3', 'rfile_text': '모코엠시스 회사 규정\\n공가 및 하계휴가\\n공가는 공무원이나 공무원이 아닌 사람이 공무로 인하여 출근이 불가능한 경우, 법률에 따라 출근이 불가능한 경우, 천재지변이나 재해로 인하여 출근이 불가능한 경우에 주어지는 휴가입니다.\\n공가를 신청하려면 최소 휴가 하루 전 경영지원부 홍아름 과장에게 제출해야 합니다. \\n공가 및 경조휴가의 경우 증빙을 첨부해야 합니다.\\n별도 하계휴가는 없습니다. \\n개인의 잔여연차에서 자유롭게 사용하시면 됩니다.', 'score': 5.202541}\n",
      "\t{'rfile_name': '30_1', 'rfile_text': '리프레시 휴가 지원 지침\\n목적\\n본 지침은 주식회사 모코엠시스(이하 ‘회사’라 한다) 임직원의 리프레시 휴가에 관하여 지침을 정하는 것을 목적으로 한다.\\n본 지침에서 임직원이라 함은 임원, 정규직 사원을 말한다.', 'score': 5.194475}\n",
      "[{'rfile_name': '14_35', 'rfile_text': '취업 규칙\\n난임치료휴가\\n회사는 사원이 인공수정 또는 체외수정 등 난임치료를 받기 위하여 휴가(이하 ‘난임치료휴가’라 한다)를 청구하는 경우에 연간 3일 이내의 휴가를 주어야 하며, 이 경우 최초 1일은 유급으로 한다. \\n다만, 사원이 청구한 시기에 휴가를 주는 것이 정상적인 사업 운영에 중대한 지장을 초래하는 경우에는 사원과 협의하여 그 시기를 변경할 수 있다.\\n회사는 난임치료휴가를 이유로 해고, 징계 등 불리한 처우를 하여서는 아니된다.\\n난임치료휴가의 신청 방법과 절차 등은 남녀고용평등법 시행령에 따른다.', 'score': 6.0502}, {'rfile_name': '44_2', 'rfile_text': '경조사 지원 규정\\n경사 지원금\\n본인 결혼 : 5일 유급 휴가, 500,000원 축의금 지원\\n자녀 결혼 : 1일 유급 휴가, 300,000 원 축의금 지원\\n형제자매결혼 : 1일 유급휴가, 100,000 원 축의금 지원\\n자녀 출산(배우자) : 10일 유급휴가, 100,000 원 축의금 지원\\n부모 회갑 : 1일 유급휴가, 200,000 원 축의금 지원\\n배우자 부모회갑 : 1일 유급휴가, 200,000 원 축의금 지원\\n부모고희(칠순) : 1일 유급휴가, 300,000 원 축의금 지원\\n배우자부모고희 : 1일 유급휴가, 300,000 원 축의금 지원', 'score': 6.048465}, {'rfile_name': '22_31', 'rfile_text': '주주총회 운영규정\\n제32조(휴식) \\n회장은 의사진행상 필요하다고 인정되는 경우에는 짧은 시간 동안 휴회를 선언할 수 있다.', 'score': 5.914709}, {'rfile_name': '44_3', 'rfile_text': '경조사 지원 규정\\n조사 지원금\\n본인 사망\\n배우자 사망 : 5일 유급휴가, 1,000,000원 부조금 및 조화 지원\\n부모 사망 : 5일 유급휴가, 1,000,000원 부조금 및 조화 지원\\n자녀 사망 : 5일 유급휴가, 1,000,000원 부조금 및 조화 지원\\n배우자 사망 : 5일 유급휴가, 1,000,000원 부조금 및 조화 지원\\n부모 사망 : 5일 유급휴가, 500,000원 부조금 및 조화 지원\\n형제자매 사망: 3일 유급휴가, 300,000원 부조금 및 조화 지원\\n조부모/외조부모 사망: 3일 유급휴가, 200,000원 부조금 및 조화 지원', 'score': 5.830345}, {'rfile_name': '30_6', 'rfile_text': '리프레시 휴가 지원 지침\\n주관 부서\\n리프레시 휴가 지원의 시행을 위한 제 업무는 경영지원본부에서 관장한다.', 'score': 5.736126}, {'rfile_name': '14_30', 'rfile_text': '취업 규칙\\n제29조 (연차휴가)\\n① 1년간 8할 이상 출근한 사원에게는 15일의 유급휴가를 준다. \\n② 3년 이상 근속한 사원에 대하여는 제1항 규정에 의한 휴가에 최초 1년을 초과하는 계속 근로연수 매 2년에 대하여 1일을 가산한 유급휴가를 주며, 가산휴가를 포함한 총 휴가일수는 25일을 한도로 한다. \\n③ 계속하여 근로한 기간이 1년 미만인 사원 또는 1년간 8할 미만 출근한 사원에게 1개월 개근 시 1일의 유급휴가를 준다.\\n제1항 및 제3항을 적용하는 경우 다음 각 호의 어느 하나에 해당하는 기간은 출근한 것으로 본다.\\n사원이 업무상의 부상 또는 질병으로 휴업한 기간\\n임신 중의 여성이 근로기준법 제74조 제1항부터 제3항까지의 규정에 따른 휴가로 휴업한 기간\\n‘남녀고용평등법과 일, 가정 양립 지원에 관한 법률’ 제19조 제1항에 따른 육아휴직으로 휴업한 기간', 'score': 5.6741347}, {'rfile_name': '30_3', 'rfile_text': '리프레시 휴가 지원 지침\\n신청 내용\\n1. 임직원은 3년에 1회 ‘리프레시 휴가 신청서’를 통해 리프레시 휴가를 갈 수 있다. \\n2. 회사는 유급휴가 2일과 제5조에 정한 휴가비를 지급한다.\\n3. 휴가 후 회사에 최소 3장의 휴가사진(디지털 파일)을 경영지원팀에 제출해야 하며, 회사는 이를 회사 홍보용도로 사용할 수 있다.', 'score': 5.5947075}, {'rfile_name': '14_34', 'rfile_text': '취업 규칙\\n제33조 (그 밖의 휴가)\\n생리휴가 - 회사는 여성 사원이 청구하는 경우 월 1일의 무급생리휴가를 부여한다.', 'score': 5.4096947}, {'rfile_name': '34_3', 'rfile_text': '모코엠시스 회사 규정\\n공가 및 하계휴가\\n공가는 공무원이나 공무원이 아닌 사람이 공무로 인하여 출근이 불가능한 경우, 법률에 따라 출근이 불가능한 경우, 천재지변이나 재해로 인하여 출근이 불가능한 경우에 주어지는 휴가입니다.\\n공가를 신청하려면 최소 휴가 하루 전 경영지원부 홍아름 과장에게 제출해야 합니다. \\n공가 및 경조휴가의 경우 증빙을 첨부해야 합니다.\\n별도 하계휴가는 없습니다. \\n개인의 잔여연차에서 자유롭게 사용하시면 됩니다.', 'score': 5.202541}, {'rfile_name': '30_1', 'rfile_text': '리프레시 휴가 지원 지침\\n목적\\n본 지침은 주식회사 모코엠시스(이하 ‘회사’라 한다) 임직원의 리프레시 휴가에 관하여 지침을 정하는 것을 목적으로 한다.\\n본 지침에서 임직원이라 함은 임원, 정규직 사원을 말한다.', 'score': 5.194475}]\n"
     ]
    },
    {
     "name": "stderr",
     "output_type": "stream",
     "text": [
      "/tmp/ipykernel_223443/256284496.py:17: DeprecationWarning: The 'body' parameter is deprecated for the 'search' API and will be removed in a future version. Instead use API parameters directly. See https://github.com/elastic/elasticsearch-py/issues/1698 for more information\n",
      "  response = es.search(index=esindex, body=body)\n"
     ]
    }
   ],
   "source": [
    "# 검색\n",
    "index_name = 'qaindex'\n",
    "UID_MIN_SCORE = 0.5\n",
    "# 쿼리 검색\n",
    "data = {'rfile_text': '할아버지 상 휴가'}\n",
    "#data = None\n",
    "\n",
    "uids, docs = es_search_uids(es=es,esindex=index_name, size=10, data=data)\n",
    "\n",
    "print(docs)"
   ]
  },
  {
   "cell_type": "code",
   "execution_count": 11,
   "id": "ea87eff3-9d80-4153-ba3e-a2ff50c8c6f8",
   "metadata": {},
   "outputs": [
    {
     "name": "stdout",
     "output_type": "stream",
     "text": [
      "할아버지 상 휴가\n"
     ]
    }
   ],
   "source": [
    "query1 = '?할아버지 상 휴가'\n",
    "query = query1[1:]\n",
    "print(query)"
   ]
  },
  {
   "cell_type": "code",
   "execution_count": null,
   "id": "3c7c8b16-bc36-4e8d-b8d9-300a75bca962",
   "metadata": {},
   "outputs": [],
   "source": []
  }
 ],
 "metadata": {
  "kernelspec": {
   "display_name": "Python 3 (ipykernel)",
   "language": "python",
   "name": "python3"
  },
  "language_info": {
   "codemirror_mode": {
    "name": "ipython",
    "version": 3
   },
   "file_extension": ".py",
   "mimetype": "text/x-python",
   "name": "python",
   "nbconvert_exporter": "python",
   "pygments_lexer": "ipython3",
   "version": "3.9.7"
  }
 },
 "nbformat": 4,
 "nbformat_minor": 5
}

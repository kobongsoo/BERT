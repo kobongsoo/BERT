{
 "cells": [
  {
   "cell_type": "code",
   "execution_count": null,
   "id": "6e9bb867-683a-4b6a-86c8-1e35077f25f2",
   "metadata": {},
   "outputs": [],
   "source": [
    "from bardapi import Bard\n",
    "from bardapi import BardCookies\n",
    "\n",
    "cookie_dict = {\n",
    "    \"__Secure-1PSID\": \"xxxx\",\n",
    "    \"__Secure-1PSIDTS\": \"xxxx\",\n",
    "    # Any cookie values you want to pass session object.\n",
    "}\n",
    "\n",
    "bard = BardCookies(cookie_dict=cookie_dict)\n",
    "\n",
    "out = bard.get_answer(\"할슈타트\")['content']\n",
    "\n",
    "print(out)"
   ]
  },
  {
   "cell_type": "code",
   "execution_count": null,
   "id": "2227cea6-9b51-49bf-b9f4-4e3f160cee83",
   "metadata": {},
   "outputs": [],
   "source": [
    "import bardapi\n",
    "bardapi.__version__"
   ]
  },
  {
   "cell_type": "code",
   "execution_count": null,
   "id": "1135e585-33b2-4954-8925-2757a83c469c",
   "metadata": {},
   "outputs": [],
   "source": [
    "!pip install bardapi --upgrade"
   ]
  },
  {
   "cell_type": "code",
   "execution_count": null,
   "id": "d3cbb246-7915-43d0-be0a-e2d22ba3653c",
   "metadata": {},
   "outputs": [],
   "source": []
  },
  {
   "cell_type": "code",
   "execution_count": 2,
   "id": "1dcf646e-f363-44c9-a7de-1518d52ab092",
   "metadata": {},
   "outputs": [
    {
     "name": "stdout",
     "output_type": "stream",
     "text": [
      "The weather in Seoul today, August 30, 2023, is mostly sunny with a high of 77°F and a low of 70°F. The humidity is 60%, and the wind is blowing from the west at 10 mph. There is a 0% chance of precipitation.\n"
     ]
    }
   ],
   "source": [
    "# 출처 : https://github.com/dsdanielpark/Bard-API/blob/main/documents/README_DEV.md#auto-cookie-bard\n",
    "from bardapi import BardCookies\n",
    "\n",
    "cookie_dict = {\n",
    "    \"__Secure-1PSID\": \"xxxx\",\n",
    "    \"__Secure-1PSIDTS\": \"xxxx\",\n",
    "    \"__Secure-1PSIDCC\": \"xxxx\",\n",
    "    # Any cookie values you want to pass session object.\n",
    "}\n",
    "\n",
    "bard = BardCookies(cookie_dict=cookie_dict)\n",
    "print(bard.get_answer(\"How is the weather today in seoul?\")['content'])"
   ]
  },
  {
   "cell_type": "code",
   "execution_count": null,
   "id": "5cc285b1-2c8f-44d3-b052-650d105723e8",
   "metadata": {},
   "outputs": [],
   "source": []
  }
 ],
 "metadata": {
  "kernelspec": {
   "display_name": "Python 3 (ipykernel)",
   "language": "python",
   "name": "python3"
  },
  "language_info": {
   "codemirror_mode": {
    "name": "ipython",
    "version": 3
   },
   "file_extension": ".py",
   "mimetype": "text/x-python",
   "name": "python",
   "nbconvert_exporter": "python",
   "pygments_lexer": "ipython3",
   "version": "3.9.7"
  }
 },
 "nbformat": 4,
 "nbformat_minor": 5
}

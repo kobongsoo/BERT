{
 "cells": [
  {
   "cell_type": "code",
   "execution_count": null,
   "id": "6e9bb867-683a-4b6a-86c8-1e35077f25f2",
   "metadata": {},
   "outputs": [],
   "source": [
    "from bardapi import Bard\n",
    "from bardapi import BardCookies\n",
    "\n",
    "cookie_dict = {\n",
    "    \"__Secure-1PSID\": \"xxxx\",\n",
    "    \"__Secure-1PSIDTS\": \"xxxx\",\n",
    "    # Any cookie values you want to pass session object.\n",
    "}\n",
    "\n",
    "bard = BardCookies(cookie_dict=cookie_dict)\n",
    "\n",
    "out = bard.get_answer(\"할슈타트\")['content']\n",
    "\n",
    "print(out)"
   ]
  },
  {
   "cell_type": "code",
   "execution_count": null,
   "id": "2227cea6-9b51-49bf-b9f4-4e3f160cee83",
   "metadata": {},
   "outputs": [],
   "source": [
    "import bardapi\n",
    "bardapi.__version__"
   ]
  },
  {
   "cell_type": "code",
   "execution_count": null,
   "id": "1135e585-33b2-4954-8925-2757a83c469c",
   "metadata": {},
   "outputs": [],
   "source": [
    "!pip install bardapi --upgrade"
   ]
  }
 ],
 "metadata": {
  "kernelspec": {
   "display_name": "Python 3 (ipykernel)",
   "language": "python",
   "name": "python3"
  },
  "language_info": {
   "codemirror_mode": {
    "name": "ipython",
    "version": 3
   },
   "file_extension": ".py",
   "mimetype": "text/x-python",
   "name": "python",
   "nbconvert_exporter": "python",
   "pygments_lexer": "ipython3",
   "version": "3.9.7"
  }
 },
 "nbformat": 4,
 "nbformat_minor": 5
}

{
 "cells": [
  {
   "cell_type": "code",
   "execution_count": 1,
   "id": "d9003be9-4bf1-47d7-aa9d-ff39815e2566",
   "metadata": {},
   "outputs": [],
   "source": [
    "import openai\n",
    "from requests.exceptions import Timeout\n",
    "from utils import generate_text_GPT, generate_text_GPT2, generate_text_davinci\n",
    "\n",
    "# openai 키, 모델\n",
    "openai.api_key = \"sk-\"\n",
    "gpt_model = \"\"#\"gpt-4\"#\"gpt-3.5-turbo\" #gpt-4-0314 #gpt-3.5-turbo-1106\n",
    "\n",
    "# google_vision 인증 json 파일 => # 출처: https://yunwoong.tistory.com/148\n",
    "service_account_jsonfile_path = \"./data/vison-ocr-406902-3f2c14c7457f.json\"\n",
    "\n",
    "# 출처: https://yunwoong.tistory.com/148\n",
    "# 구글 OCR은 월 1000건 무료, 1000건 넘으면=> 1000건 넘을때마다 1.5$ (예: 1001 사용: 1,5$부과, 1999: 1.5$ 부과, 2001: 3$부과)\n",
    "#!pip install opencv-contrib-python           # 이미지결과 확인을위해 설치\n",
    "#!pip install --upgrade google-cloud-vision   # Cloud Vision API 설치 => 프로젝트에서 Cloud Vision API 사용으로 설정해야함\n",
    "from utils import Google_Vision\n",
    "\n",
    "google_vision = Google_Vision(service_account_jsonfile_path=service_account_jsonfile_path)"
   ]
  },
  {
   "cell_type": "code",
   "execution_count": null,
   "id": "10172d63-e308-4d87-9ea4-36ccd7359b33",
   "metadata": {},
   "outputs": [],
   "source": [
    "# url 이미지 텍스트 추출\n",
    "url = 'https://talk.kakaocdn.net/dna/r62bI/bl6rdOIFmLU/UthCPolcffAm1QCzglmx7d/i_ac96abb28502.jpeg?credential=zf3biCPbmWRjbqf40YGePFLewdou7TIK&expires=1796103653&signature=kOEE1XQ%2B7vKAyeIfaIs0KFTDt8U%3D'\n",
    "res=google_vision.ocr_url(url=url)\n",
    "\n",
    "if len(res) > 0:\n",
    "    print(res[0])\n",
    "    print()\n",
    "    \n",
    "    # Example usage\n",
    "    prompt = f\"{res[0]}\\n위 텍스트를 문장과 단락별로 구분해줘요.\"\n",
    "    system_prompt = \"\"\n",
    "    result, status = generate_text_GPT2(gpt_model=gpt_model, prompt=prompt, system_prompt=\"\", stream=True, timeout=30)\n",
    "    print(result)\n"
   ]
  },
  {
   "cell_type": "code",
   "execution_count": 3,
   "id": "70639d5c-e519-4d5c-844c-3331be1fa8e4",
   "metadata": {},
   "outputs": [
    {
     "name": "stdout",
     "output_type": "stream",
     "text": [
      "time:17.35\n",
      "\n",
      "건강과 다이어트를\n",
      "동시에 잡는 7대 3의 법칙\n",
      "1.05\n",
      "단순하면서 자연스러운\n",
      "가장 효과적인 식단\n",
      "채소·과일식\n",
      "글 조승우\n",
      "K\n",
      "3개월 15kg을\n",
      "요요 없이\n",
      "감량하는 방법\n",
      "고혈압과 당뇨약에서\n",
      "벗어날 수 있는\n",
      "효과적인 방법\n",
      "12주 후에 •\n",
      "달라진 내 몸의 •\n",
      "긍정적인 변화\n",
      "바이북스\n",
      "ByBooks\n",
      "G\n",
      "3주 프로그램\n",
      "식단\n",
      "바버\n",
      "ㅇㅂ\n",
      "\n",
      "data:{'model': 'gpt-3.5-turbo-1106', 'messages': [{'role': 'user', 'content': '건강과 다이어트를\\n동시에 잡는 7대 3의 법칙\\n1.05\\n단순하면서 자연스러운\\n가장 효과적인 식단\\n채소·과일식\\n글 조승우\\nK\\n3개월 15kg을\\n요요 없이\\n감량하는 방법\\n고혈압과 당뇨약에서\\n벗어날 수 있는\\n효과적인 방법\\n12주 후에 •\\n달라진 내 몸의 •\\n긍정적인 변화\\n바이북스\\nByBooks\\nG\\n3주 프로그램\\n식단\\n바버\\nㅇㅂ\\n위 내용을 알기쉽게 정리해 주세요.'}], 'max_tokens': 1024, 'temperature': 0.5, 'stream': True}\n",
      "<Response [200]>\n",
      "건강과 다이어트를 동시에 잡는 7대 3의 법칙은 채소·과일식의 식단을 7할, 단순하면서 자연스러운 방법을 3할로 따르는 것이다. 조승우의 3개월 프로그램을 통해 요요 없이 15kg을 감량하고, 고혈압과 당뇨약에서 벗어날 수 있는 효과적인 방법을 알 수 있다. 12주 후에는 몸의 긍정적인 변화를 확인할 수 있으며, 바이북스의 3주 프로그램을 통해 식단을 조절하고 건강을 유지할 수 있다.\n"
     ]
    }
   ],
   "source": [
    "# 로컬이미지 text 추출\n",
    "filepath='./ocr_test_img/책.jpg'\n",
    "res=google_vision.ocr_file(filepath=filepath)\n",
    "\n",
    "if len(res) > 0:\n",
    "    print(res[0])\n",
    "    print()\n",
    "    \n",
    "    # Example usage\n",
    "    prompt = f\"{res[0]}\\n위 내용을 알기쉽게 정리해 주세요.\"\n",
    "    system_prompt = \"\"\n",
    "    result, status = generate_text_GPT2(gpt_model=gpt_model, prompt=prompt, system_prompt=\"\", stream=True, timeout=30)\n",
    "    print(result)"
   ]
  },
  {
   "cell_type": "code",
   "execution_count": null,
   "id": "0d038e67-5ab4-472b-ab10-f8ebcb4328e6",
   "metadata": {},
   "outputs": [],
   "source": []
  }
 ],
 "metadata": {
  "kernelspec": {
   "display_name": "Python 3 (ipykernel)",
   "language": "python",
   "name": "python3"
  },
  "language_info": {
   "codemirror_mode": {
    "name": "ipython",
    "version": 3
   },
   "file_extension": ".py",
   "mimetype": "text/x-python",
   "name": "python",
   "nbconvert_exporter": "python",
   "pygments_lexer": "ipython3",
   "version": "3.9.7"
  }
 },
 "nbformat": 4,
 "nbformat_minor": 5
}

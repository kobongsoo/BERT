{
 "cells": [
  {
   "cell_type": "code",
   "execution_count": null,
   "id": "29363798-0ceb-4319-be72-281ca4f90847",
   "metadata": {},
   "outputs": [],
   "source": [
    "#!pip install googletrans==4.0.0-rc1\n",
    "\n",
    "import time\n",
    "import openai\n",
    "from googletrans import Translator\n",
    "from utils import generate_text_GPT\n",
    "\n",
    "# openai 키, 모델\n",
    "openai.api_key = \"sk-\"\n",
    "gpt_model = \"gpt-3.5-turbo\"#\"gpt-4\"#\"gpt-3.5-turbo\" #gpt-4-0314\n",
    "\n",
    "#PROMPT_CONTEXT = '문단에서 질문에 대한 답을 찾아 간단히 1줄로 답변해주세요.\\n답이 없으면 문단을 100자 이내로 요약해서 답변해주세요.\\n질문:\\n{query}\\n문단:{context}'\n",
    "PROMPT_CONTEXT = '다음 문장에서 주어진 질문에 답하십시오:\"{query}\"\\n\\n{context}'\n",
    "\n",
    "#PROMPT_CONTEXT = 'Please find the answer to the Query in the Contents and answer it.\\nIf there is no answer, please summarize the Contents.\\nPlease answer briefly within 100 characters.\\nQuery:{query}\\nContents:{context}'\n",
    "\n",
    "query:str = \"1박2일 출장시 숙박비는 얼마?\"\n",
    "\n",
    "context:str = \"\"\"\n",
    "6. 일비, 숙박비 및 식비 \n",
    "6.1. 일비, 숙박비, 식비의 지급\n",
    "6.1.1. 국내 여행자의 일비, 숙박비 및 식비는 아래에 따라 지급한다. \n",
    "다만, 부득이한 사유로 숙박비의 상한을 초과하는 여비 지출이 필요한 경우, 국내 여행의 경우에는 숙박비 상한액의 10분의 3을 넘지 아니하는 범위에서 여비를 추가로 지급할 수 있다. 이 경우, 국외 여행의 경우, 대표이사의 사전 승인을 득해야 한다.\n",
    "6.1.2. 일비는 여행일수에 따라 지급하되, 법인차량을 이용하는 경우에는 일비의 2분의 1을 지급한다.\n",
    "6.1.3. 식비는 여행일수에 따라 지급한다. 다만, 수로여행과 항공여행에 는 따로 식비가 필요한 경우에만 식비를 지급한다.\n",
    " 1) 부장 이하는 1일비는 20,000원, 식비는 20,000원 지원하고, 1일 숙박비는 1박당 실비로 지원하는데, 단 서울특별시는 사항액이 70,000원, 광역시는 60,000원, 그 밖의 지역은 50,000원 임\n",
    " 2) 임원 이상: 1일비는 20,000원, 1일 숙박비는 1박당 실비로 지원하며,1일 식비는 25,000원 지원함.\n",
    " \n",
    "6.1.1. 국외 여행자의 일비, 숙박비 및 식비는 아래에 따라 지급한다. \n",
    "다만, 부득이한 사유로 숙박비의 상한을 초과하는 여비 지출이 필요한 경우, 국외 여행의 경우 2분의 1을 넘지 아니하는 범위에서 여비를 추가로 지급할 수 있다. 이 경우,국외 여행의 경우, 대표이사의 사전 승인을 득해야 한다.\n",
    "6.1.2. 일비는 여행일수에 따라 지급하되, 법인차량을 이용하는 경우에는 일비의 2분의 1을 지급한다.\n",
    "6.1.3. 식비는 여행일수에 따라 지급한다. 다만, 수로여행과 항공여행에 는 따로 식비가 필요한 경우에만 식비를 지급한다.\n",
    "-전무 이상 임원은 일비 40달러이고 숙박비는 실비로 계산하며 상한액은 282 달러이고 식비는 282달러임.\n",
    "-임원은 일비 35달러이고 숙박비는 실비로 계산하며 상한액은 223 달러이고 식비는 107달러임.\n",
    "-부장은 일비 30달러이고 숙박비는 실비로 계산하며 상한액은 176 달러이고 식비는 81달러임.\n",
    "\n",
    "7.2. 이전비의 지급\n",
    "7.2.1. 이전비 지급은 아래에 따라  지급한다.\n",
    "  -국내 이전비: 5톤 이하이 이사물인 경우에는 이전비의 실비 지급(사다리차 이용로 포함)\n",
    "  -국내 이전비: 5톤을 초과하는 이사화물(이사화물이 7.5톤을 넘는 경우 7.5톤을 상한으로 한다)인 경우에는, 5톤의 이사화물에 해다하는 이전비의 실비에 5톤 초과 7.5톤 이하의 이사화물에 해당하는 이전비의 실비(사다리차 이용료 포함)의 50%를 더한 금액\n",
    "  -국외 이전비 : 15세제곱미터 이하의 이사화물은 실비 지급\n",
    "  -국외 이전비 : 5세제곱미터를 넘는 이사화물(이사화물이 25세제곱미터를 넘는 경우에는 25세제곱미터를 상한으로 한다)인 경우, 15세제곱미터의 이사화물에 해당하는 이전비 실비에 15세제곱미터 초과 25세제곱미터 이하의 이사화물에 해당하는 이전비 실비의 50퍼센트를 더한 금액\n",
    "7.2.2. 이전한 날의 다음날부터 기산하여 6개월 이내에 거주지 변경 및 이사화물의 운송명세(이동구간, 이동거리, 운송비 등을 말한다)를 확인할 수 있는 증빙서류(세금계산서, invoice 등)를 갖추어 이전비를 신청할 수 있다. \n",
    "다만, 회사를 계약 주체로 하여 세금계산서 등을 발행할 수 있는 업체와 거래하는 경우, 회사가 직접 지급할 수 있다.\n",
    "\"\"\"\n",
    "\n",
    "query_in = PROMPT_CONTEXT.format(query=query, context=context)\n",
    "print(f'query_in:{query_in}')\n"
   ]
  },
  {
   "cell_type": "code",
   "execution_count": null,
   "id": "ace0e337-6653-4313-a9df-8b200022dd5b",
   "metadata": {},
   "outputs": [],
   "source": [
    "start_time = time.time()\n",
    "\n",
    "system_prompt = \"답은 간단하게 50자 이내로 답해주세요.\" #\"영어로 답변해주세요.\"\n",
    "prompt = query_in\n",
    "answer1 = generate_text_GPT(gpt_model=gpt_model, prompt=prompt, system_prompt=system_prompt)\n",
    "print(answer1)\n",
    "\n",
    "# 소요된 시간을 계산합니다.\n",
    "end_time = time.time()\n",
    "formatted_elapsed_time = \"{:.2f}\".format(end_time - start_time)\n",
    "print(f'time:{formatted_elapsed_time}')"
   ]
  },
  {
   "cell_type": "code",
   "execution_count": null,
   "id": "b43c087c-70d7-4d0e-873d-34fd0d885587",
   "metadata": {},
   "outputs": [],
   "source": [
    "def translate_google(text:str, source_lang:str, target_lang:str):\n",
    "    translator = Translator()\n",
    "    \n",
    "    start_time = time.time()\n",
    "    res = translator.translate(text, src=source_lang, dest=target_lang)\n",
    "\n",
    "    # 소요된 시간을 계산합니다.\n",
    "    end_time = time.time()\n",
    "    formatted_elapsed_time = \"{:.2f}\".format(end_time - start_time)\n",
    "    print(f'time:{formatted_elapsed_time}')\n",
    "\n",
    "    print(res)\n",
    "    print()\n",
    "    response = res.text.strip('\"')\n",
    "    return response"
   ]
  },
  {
   "cell_type": "code",
   "execution_count": null,
   "id": "23d84b53-20e2-467d-befa-c9f1d5de67c4",
   "metadata": {},
   "outputs": [],
   "source": [
    "prompt_en = translate_google(text=query_in, source_lang='ko', target_lang='en')\n",
    "print(prompt_en)"
   ]
  },
  {
   "cell_type": "code",
   "execution_count": null,
   "id": "630a89c1-fd65-4a9a-92a9-d9c2a7a13601",
   "metadata": {},
   "outputs": [],
   "source": [
    "\n",
    "start_time = time.time()\n",
    "\n",
    "system_prompt = \"\"\n",
    "prompt = prompt_en\n",
    "answer1 = generate_text_GPT(gpt_model=gpt_model, prompt=prompt, system_prompt=system_prompt)\n",
    "print(answer1)\n",
    "\n",
    "# 소요된 시간을 계산합니다.\n",
    "end_time = time.time()\n",
    "formatted_elapsed_time = \"{:.2f}\".format(end_time - start_time)\n",
    "print(f'time:{formatted_elapsed_time}')"
   ]
  },
  {
   "cell_type": "code",
   "execution_count": null,
   "id": "0dacf5bc-d3e3-4421-acc2-4d1850e954cd",
   "metadata": {},
   "outputs": [],
   "source": [
    "response_ko = translate_google(text=answer1, source_lang='en', target_lang='ko')\n",
    "print(response_ko)"
   ]
  },
  {
   "cell_type": "code",
   "execution_count": null,
   "id": "a1d4fab5-2724-4341-b209-231afd79e32d",
   "metadata": {},
   "outputs": [],
   "source": []
  }
 ],
 "metadata": {
  "kernelspec": {
   "display_name": "Python 3 (ipykernel)",
   "language": "python",
   "name": "python3"
  },
  "language_info": {
   "codemirror_mode": {
    "name": "ipython",
    "version": 3
   },
   "file_extension": ".py",
   "mimetype": "text/x-python",
   "name": "python",
   "nbconvert_exporter": "python",
   "pygments_lexer": "ipython3",
   "version": "3.9.7"
  }
 },
 "nbformat": 4,
 "nbformat_minor": 5
}

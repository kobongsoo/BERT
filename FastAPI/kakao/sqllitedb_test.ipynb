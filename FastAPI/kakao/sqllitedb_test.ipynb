{
 "cells": [
  {
   "cell_type": "code",
   "execution_count": null,
   "id": "c3d8a268-f351-4480-82ac-5c3dc10f2463",
   "metadata": {},
   "outputs": [],
   "source": [
    "from utils import SqliteDB\n",
    "\n",
    "userdb = SqliteDB('./data/kakao.db')"
   ]
  },
  {
   "cell_type": "code",
   "execution_count": null,
   "id": "89bff029-8666-47ec-a976-ccb3518188b2",
   "metadata": {},
   "outputs": [],
   "source": [
    "userdb.execute('CREATE TABLE setting(id TEXT, site TEXT, preanswer INT)')  # setting 테이블 생성"
   ]
  },
  {
   "cell_type": "code",
   "execution_count": null,
   "id": "bb029ddd-8a5a-432d-ad0d-b599ba2826b8",
   "metadata": {},
   "outputs": [],
   "source": [
    "userdb.execute('DROP TABLE IF EXISTS setting')  # setting 삭제"
   ]
  },
  {
   "cell_type": "code",
   "execution_count": null,
   "id": "ec638162-3625-4a5d-bb41-c638230013ee",
   "metadata": {},
   "outputs": [],
   "source": [
    "userdb.insert_setting(user_id='6ab7a41a7acff716d35b078602ee9203f6aee4387c99a1a2f1324d671933a38911', site='google', preanswer=1)"
   ]
  },
  {
   "cell_type": "code",
   "execution_count": null,
   "id": "0391e15f-7c85-410c-b1bc-1c0ce757bd58",
   "metadata": {},
   "outputs": [],
   "source": [
    "res = userdb.select_setting(user_id='6ab7a41a7acff716d35b078602ee9203f6aee4387c99a1a2f1324d671933a38911')\n",
    "\n",
    "print(res)\n",
    "print(type(res))"
   ]
  },
  {
   "cell_type": "code",
   "execution_count": null,
   "id": "408e2a2e-b1ec-4f3d-ae1d-5c1ee0d48ef6",
   "metadata": {},
   "outputs": [],
   "source": [
    "res = userdb.select_user_mode(user_id='6ab7a41a7acff716d35b078602ee9203f6aee4387c99a1a2f1324d671933a38911')\n",
    "\n",
    "print(res)\n",
    "print(type(res))"
   ]
  },
  {
   "cell_type": "code",
   "execution_count": null,
   "id": "4578bb20-bdda-4418-8258-370eb09e70d7",
   "metadata": {},
   "outputs": [],
   "source": [
    "userdb.delete_setting(user_id='6ab7a41a7acff716d35b078602ee9203f6aee4387c99a1a2f1324d671933a38911')"
   ]
  },
  {
   "cell_type": "code",
   "execution_count": null,
   "id": "0417b0f7-7642-481d-a77b-d4c72d987666",
   "metadata": {},
   "outputs": [],
   "source": [
    "userdb.delete_user_mode(user_id='6ab7a41a7acff716d35b078602ee9203f6aee4387c99a1a2f1324d671933a38911')"
   ]
  },
  {
   "cell_type": "code",
   "execution_count": null,
   "id": "97dd250a-a7c9-45fa-92b6-1f5103c781f0",
   "metadata": {},
   "outputs": [],
   "source": []
  }
 ],
 "metadata": {
  "kernelspec": {
   "display_name": "Python 3 (ipykernel)",
   "language": "python",
   "name": "python3"
  },
  "language_info": {
   "codemirror_mode": {
    "name": "ipython",
    "version": 3
   },
   "file_extension": ".py",
   "mimetype": "text/x-python",
   "name": "python",
   "nbconvert_exporter": "python",
   "pygments_lexer": "ipython3",
   "version": "3.9.7"
  }
 },
 "nbformat": 4,
 "nbformat_minor": 5
}

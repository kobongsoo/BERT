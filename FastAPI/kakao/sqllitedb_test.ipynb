{
 "cells": [
  {
   "cell_type": "code",
   "execution_count": 1,
   "id": "c3d8a268-f351-4480-82ac-5c3dc10f2463",
   "metadata": {},
   "outputs": [],
   "source": [
    "from utils import SqliteDB\n",
    "userdb = SqliteDB('./data/kakao.db')"
   ]
  },
  {
   "cell_type": "code",
   "execution_count": 2,
   "id": "0f51be58-2e87-46f4-a579-e2d4e44ee404",
   "metadata": {},
   "outputs": [],
   "source": [
    "userdb.execute('DROP TABLE IF EXISTS assistants')  # assistants 테이블 삭제\n",
    "userdb.execute('CREATE TABLE assistants(id TEXT, uid TEXT, preanswer TEXT)')  # GPT 이전 기억 데이터 assistants 테이블 생성"
   ]
  },
  {
   "cell_type": "code",
   "execution_count": null,
   "id": "8a66a4a2-1fa2-4957-83bc-9cd385dd2e9c",
   "metadata": {},
   "outputs": [],
   "source": [
    "# assistants 에 추가\n",
    "preanswer:str = \"test1\"\n",
    "userdb.insert_assistants(user_id='6ab7a41a7acff716d35b078602ee9203f6aee4387c99a1a2f1324d671933a38911', preanswer=preanswer)"
   ]
  },
  {
   "cell_type": "code",
   "execution_count": null,
   "id": "0832676e-ce3b-411f-b664-6bc795846a0c",
   "metadata": {},
   "outputs": [],
   "source": [
    "# assistants 에 추가\n",
    "preanswer:str = \"test2\"\n",
    "userdb.insert_assistants(user_id='6ab7a41a7acff716d35b078602ee9203f6aee4387c99a1a2f1324d671933a38911', preanswer=preanswer)"
   ]
  },
  {
   "cell_type": "code",
   "execution_count": null,
   "id": "2acd5c25-2122-40f6-8bed-20a96c1ec603",
   "metadata": {},
   "outputs": [],
   "source": [
    "# assistants 에 추가\n",
    "preanswer:str = \"test3\"\n",
    "userdb.insert_assistants(user_id='6ab7a41a7acff716d35b078602ee9203f6aee4387c99a1a2f1324d671933a38911', preanswer=preanswer)"
   ]
  },
  {
   "cell_type": "code",
   "execution_count": null,
   "id": "0a9e7116-9f97-4512-a0e0-93c131403288",
   "metadata": {},
   "outputs": [],
   "source": [
    "res = userdb.select_assistants(user_id='6ab7a41a7acff716d35b078602ee9203f6aee4387c99a1a2f1324d671933a38911')\n",
    "\n",
    "print(res)\n",
    "print(type(res))\n",
    "\n",
    "res2:list = []\n",
    "for res1 in res:\n",
    "    res2.append(res1['preanswer'])\n",
    " \n",
    "print(res2)"
   ]
  },
  {
   "cell_type": "code",
   "execution_count": null,
   "id": "164413cd-f1cc-48cf-95bd-fdfe77bc3a7e",
   "metadata": {},
   "outputs": [],
   "source": [
    "userdb.delete_assistants(user_id='6ab7a41a7acff716d35b078602ee9203f6aee4387c99a1a2f1324d671933a38911')"
   ]
  },
  {
   "cell_type": "code",
   "execution_count": null,
   "id": "89bff029-8666-47ec-a976-ccb3518188b2",
   "metadata": {},
   "outputs": [],
   "source": [
    "userdb.execute('CREATE TABLE setting(id TEXT, site TEXT, prequery INT)')  # setting 테이블 생성"
   ]
  },
  {
   "cell_type": "code",
   "execution_count": null,
   "id": "bb029ddd-8a5a-432d-ad0d-b599ba2826b8",
   "metadata": {},
   "outputs": [],
   "source": [
    "userdb.execute('DROP TABLE IF EXISTS setting')  # setting 테이블 삭제"
   ]
  },
  {
   "cell_type": "code",
   "execution_count": null,
   "id": "ec638162-3625-4a5d-bb41-c638230013ee",
   "metadata": {},
   "outputs": [],
   "source": [
    "# setting 에 추가\n",
    "userdb.insert_setting(user_id='6ab7a41a7acff716d35b078602ee9203f6aee4387c99a1a2f1324d671933a38911', site='google', prequery=1)"
   ]
  },
  {
   "cell_type": "code",
   "execution_count": null,
   "id": "0391e15f-7c85-410c-b1bc-1c0ce757bd58",
   "metadata": {},
   "outputs": [],
   "source": [
    "res = userdb.select_setting(user_id='6ab7a41a7acff716d35b078602ee9203f6aee4387c99a1a2f1324d671933a38911')\n",
    "\n",
    "print(res)\n",
    "print(type(res))"
   ]
  },
  {
   "cell_type": "code",
   "execution_count": null,
   "id": "4578bb20-bdda-4418-8258-370eb09e70d7",
   "metadata": {},
   "outputs": [],
   "source": [
    "userdb.delete_setting(user_id='6ab7a41a7acff716d35b078602ee9203f6aee4387c99a1a2f1324d671933a38911')"
   ]
  },
  {
   "cell_type": "code",
   "execution_count": null,
   "id": "408e2a2e-b1ec-4f3d-ae1d-5c1ee0d48ef6",
   "metadata": {},
   "outputs": [],
   "source": [
    "res = userdb.select_user_mode(user_id='6ab7a41a7acff716d35b078602ee9203f6aee4387c99a1a2f1324d671933a38911')\n",
    "\n",
    "print(res)\n",
    "print(type(res))"
   ]
  },
  {
   "cell_type": "code",
   "execution_count": null,
   "id": "0417b0f7-7642-481d-a77b-d4c72d987666",
   "metadata": {},
   "outputs": [],
   "source": [
    "userdb.delete_user_mode(user_id='6ab7a41a7acff716d35b078602ee9203f6aee4387c99a1a2f1324d671933a38911')"
   ]
  },
  {
   "cell_type": "code",
   "execution_count": null,
   "id": "97dd250a-a7c9-45fa-92b6-1f5103c781f0",
   "metadata": {},
   "outputs": [],
   "source": []
  }
 ],
 "metadata": {
  "kernelspec": {
   "display_name": "Python 3 (ipykernel)",
   "language": "python",
   "name": "python3"
  },
  "language_info": {
   "codemirror_mode": {
    "name": "ipython",
    "version": 3
   },
   "file_extension": ".py",
   "mimetype": "text/x-python",
   "name": "python",
   "nbconvert_exporter": "python",
   "pygments_lexer": "ipython3",
   "version": "3.9.7"
  }
 },
 "nbformat": 4,
 "nbformat_minor": 5
}

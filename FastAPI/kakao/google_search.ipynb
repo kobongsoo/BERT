{
 "cells": [
  {
   "cell_type": "code",
   "execution_count": null,
   "id": "7ff31d6f-d129-4330-85e7-ac5f4db5f7da",
   "metadata": {},
   "outputs": [],
   "source": [
    "#https://www.delftstack.com/ko/howto/python/python-google-search-api/\n",
    "import time\n",
    "from utils import GoogleSearchAPI\n",
    "\n",
    "start_time = time.time()\n",
    "\n",
    "API_KEY = \"\"\n",
    "SEARCH_ENGINE_ID = \"\"\n",
    "\n",
    "googlesearch = GoogleSearchAPI(api_key=API_KEY, search_engine_id=SEARCH_ENGINE_ID)\n",
    "contexts:list = []\n",
    "query = \"주민등록번호\"\n",
    "contexts, best_contexts, error=googlesearch.search_google(query=query, page=1)\n",
    "    \n",
    "if error == 0:\n",
    "    for context in contexts:\n",
    "        print(context['link'])\n",
    "        print(f'title:{context[\"title\"]}')\n",
    "        print(f'descript:{context[\"descript\"]}')\n",
    "        print(f'longdes:{context[\"longdescript\"]}')\n",
    "        print()\n",
    "else:\n",
    "    print(contexts)\n",
    "    \n",
    "# 소요된 시간을 계산합니다.\n",
    "end_time = time.time()\n",
    "elapsed_time = \"{:.2f}\".format(end_time - start_time)\n",
    "print(f'time:{elapsed_time}\\n')"
   ]
  },
  {
   "cell_type": "code",
   "execution_count": null,
   "id": "0505c71a-164f-478b-84a5-4341809079e6",
   "metadata": {},
   "outputs": [],
   "source": [
    "con = {}\n",
    "con['descript'] = \"test\"\n",
    "con['link'] = \"fff\"\n",
    "\n",
    "\n",
    "if con['descript'] and con['link']:\n",
    "    print('들어옴')"
   ]
  },
  {
   "cell_type": "code",
   "execution_count": null,
   "id": "99a1b244-b7a4-4fd0-b55c-1a3eb24ba625",
   "metadata": {},
   "outputs": [],
   "source": []
  }
 ],
 "metadata": {
  "kernelspec": {
   "display_name": "Python 3 (ipykernel)",
   "language": "python",
   "name": "python3"
  },
  "language_info": {
   "codemirror_mode": {
    "name": "ipython",
    "version": 3
   },
   "file_extension": ".py",
   "mimetype": "text/x-python",
   "name": "python",
   "nbconvert_exporter": "python",
   "pygments_lexer": "ipython3",
   "version": "3.9.7"
  }
 },
 "nbformat": 4,
 "nbformat_minor": 5
}

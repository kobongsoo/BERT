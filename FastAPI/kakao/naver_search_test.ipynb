{
 "cells": [
  {
   "cell_type": "code",
   "execution_count": 1,
   "id": "9c1ace5d-7042-498e-8eb7-3ae9faf142ed",
   "metadata": {},
   "outputs": [],
   "source": [
    "# 네이버 검색 API 예제 - 블로그 검색\n",
    "# 출처: https://developers.naver.com/docs/serviceapi/search/blog/blog.md#%EB%B8%94%EB%A1%9C%EA%B7%B8\n",
    "\n",
    "import time\n",
    "import os\n",
    "import sys\n",
    "import json\n",
    "import re\n",
    "import urllib.request\n",
    "import openai\n",
    "from utils import generate_text_davinci, NaverSearchAPI\n",
    "\n",
    "client_id = \"\"\n",
    "client_secret = \"\"\n",
    "openai.api_key = \"sk-\"# **GPT  key 지정\n",
    "\n",
    "naver_api = NaverSearchAPI(client_id=client_id, client_secret=client_secret)"
   ]
  },
  {
   "cell_type": "code",
   "execution_count": 3,
   "id": "c2c20e46-35cf-479b-b3fd-d5ddd0128fef",
   "metadata": {},
   "outputs": [
    {
     "name": "stdout",
     "output_type": "stream",
     "text": [
      "data:{'model': 'text-davinci-003', 'prompt': '정보의 바다    7월 제주도 가볼만한곳 10곳 추천 여행지\\n7월 제주도 가볼만한곳 10곳 여행지 추천 오늘은 7월 제주도 가볼만한 여행지 10곳을 추천해볼까 합니다. 개인적으로는 두 번의 한달살기를 포함하여 꽤나 자주 제주도를 다녀왔었는데요, 그 제주 여행길에 가봤던 곳들 중에서 여름에 가볼만한 장소들로만 열 곳을 선정했습니다. 제주도는 워낙에나 볼거리들이 많아 열 곳만 선정하긴 쉽진 않지만, 더운 여름철에...\\n\\n여름 제주도 여행 가볼만한곳(ft.제주해수욕장) 여름피서여행  제주도가볼만한곳  제주도여행코스  제주해수욕장....\\n여름철, 휴가철, 피서철 바캉스를 제주도 해수욕장에서 시원하게 즐겨봅시다. 제주도 여행 가볼만한, 제주도 해수욕장을 여러분들께 추천해드립니다. 아래, 제주도 해수욕장들 중에서  기볼만한 해수욕장들을 확인하시고, 즐거운 제주도 여름휴가여행을 계획 해 보세요. 아래, 제주도 가보고 싶은 해수욕장을 확인하시고, 눌러보세요!!   제주도 가볼고 싶은 해수욕장...\\n\\n7월 제주도 가볼만한곳 여름철 명소 Best 5\\n오늘은 무더운 7월 제주도 가볼만한곳 중에서 여름철 가보면 좋은... 함덕해수욕장 제주도 7월 가볼만한곳 중에서 해수욕장을 빼놓을 수... 아이들과 해수욕을 즐기기에도 정말 좋은 곳이에요. 함덕 해수욕장의 7월... 제\\n\\n제주도 해수욕장 정보 총정리 15곳. [위치,장단점, 특징]\\n일찍부터 해수욕을 즐길 수 있는 곳입니다. 여름이 아닌 다른 계절에... 여름철이 되면 피서객들로 야영지가 붐빌정도로 제주도 해수욕장... 금능해수욕장 근처 맛집 추천 BEST 10 제주 금능해수욕장 근처 숙소 BEST 7 4....\\n\\n휴가철 여름에 제주도에서 가볼만한곳 !\\n동문시장 서귀포매일 올레시장 제주시 민속오일장 이상으로 제주도 여름에 가볼 만한 곳에 대한 추천을 마치겠습니다. 제주도는 자연과 문화가 조화로운 아름다운 장소로, 여름철 휴가를 계획하신다면 많은... 만한...\\n\\n정보의 바다    7월 제주도 가볼만한곳 10곳 여행지\\n날씨 좋은 날 제주도를 찾는 분은 여기 꼭 가보시길 권해드립니다. 더불어 산방산까지 묶어서 돌아보면 좋습니다. 8. 서우봉 해변 개인적으로 가장 추천하는 제주 최고의 볼거리... 위에 언급했던 협재해수욕장보다... 공\\n\\n제주도 3박4일 여행 코스, 9월 10월 가볼만한곳 관광지\\n가볼만한곳 제주 관광지들을 소개해 볼게요. 애월 곽지해수욕장 빌레못 카페 2022년 8월 28일 (일) 조기 퇴근 후 제주도 3박4일 여행을 오는... 여름철 해수욕하기도 좋고 가을에 노을 보러오기도 좋은 곳입니다.... 제주...\\n\\n도민이 추천하는 제주 해수욕장 5장소\\n추천해볼까합니다. 1. 협재해수욕장   여름철 수많은 제주도민... 비옷입고 해수욕장을 거닐어도 좋습니다. 여름철 한번쯤 가볼만한... 찾아서 제주의 밤을 즐깁니다. 낮에 뜨거운 날씨에 낮시간대 해수욕이... 제주촌...\\n\\n중문관광단지 가볼만한곳 제주여행 명소 BEST5\\n중문관광단지 가볼만한곳 제주여행 명소 BEST5 2023년 제주도의 여름은 시작부터 비가 내리는 장마철이지만 다행히 마른 장마만 이어질 뿐 계속해서 폭우가 내리는 날씨는 많지 않았다. 그렇기에 제주도 여행을 하는 분들이라면 해수욕장에서 물놀이나 레저를 즐기거나 숲길, 오름 등을 많이 탐방하는데 그중에서도 인기가 많은 명소를 고른다면 제주도 남서쪽에 위...\\n\\n[여름휴가특집]아이와 함께 가볼만한 제주여행, 제주 동북쪽, 닭머르해안길부터 김녕해수욕까지!\\n아이와 함께 가볼만한 제주여행[제주 동북쪽] \\n\\nQ:제주도 여름철 추천할만한 해수욕장?.2문장으로 답해줘\\nA:', 'max_tokens': 350, 'temperature': 0.5, 'stream': False}\n",
      "time:6.60, answer:제주도 여름철 가볼만한 해수욕장으로는 함덕해수욕장과 애월곽지해수욕장이 추천드립니다. 함덕해수욕장은 여름철 가족여행에 적합하고, 애월곽지해수욕장은 밤도 따뜻하고 낮에는 해수욕이 가능합니다.\n",
      "time:6.60\n",
      "\n",
      "답변:제주도 여름철 가볼만한 해수욕장으로는 함덕해수욕장과 애월곽지해수욕장이 추천드립니다. 함덕해수욕장은 여름철 가족여행에 적합하고, 애월곽지해수욕장은 밤도 따뜻하고 낮에는 해수욕이 가능합니다.\n"
     ]
    }
   ],
   "source": [
    "query = \"제주도 여름철 추천할만한 해수욕장\"    \n",
    "error:int=0\n",
    "context:str=\"\"\n",
    "try:\n",
    "    context, error = naver_api.search_naver(query=query)\n",
    "    if error != 0:\n",
    "        print(f'[search_naver] [error] error=>{error}')\n",
    "except Exception as e:\n",
    "    print(f'Exception=>{e}')\n",
    "    error=1001\n",
    "    \n",
    "if error ==0:\n",
    "    \n",
    "    # text-davinci-003 모델에서, 프롬프트 길이가 총 1772 넘어가면 BadRequest('https://api.openai.com/v1/completions') 에러 남.\n",
    "    # 따라서 context 길이가 1730 이상이면 1730까지만 처리함.\n",
    "    if len(context) > 1730:\n",
    "        context = context[0:1730]\n",
    "    \n",
    "    start_time = time.time()\n",
    "\n",
    "    prompt = f'{context}\\n\\nQ:{query}?.2문장으로 답해줘\\nA:'\n",
    "    #print(prompt)    \n",
    "    \n",
    "    response = generate_text_davinci(gpt_model=\"text-davinci-003\",\n",
    "                                     prompt=prompt)\n",
    "\n",
    "    # 소요된 시간을 계산합니다.\n",
    "    end_time = time.time()\n",
    "    elapsed_time = \"{:.2f}\".format(end_time - start_time)\n",
    "    print(f'time:{elapsed_time}\\n')\n",
    "\n",
    "    print(f'답변:{response[0]}')"
   ]
  },
  {
   "cell_type": "code",
   "execution_count": null,
   "id": "fd1f1734-66d4-4b24-ade0-777ba8600bc7",
   "metadata": {},
   "outputs": [],
   "source": []
  }
 ],
 "metadata": {
  "kernelspec": {
   "display_name": "Python 3 (ipykernel)",
   "language": "python",
   "name": "python3"
  },
  "language_info": {
   "codemirror_mode": {
    "name": "ipython",
    "version": 3
   },
   "file_extension": ".py",
   "mimetype": "text/x-python",
   "name": "python",
   "nbconvert_exporter": "python",
   "pygments_lexer": "ipython3",
   "version": "3.9.7"
  }
 },
 "nbformat": 4,
 "nbformat_minor": 5
}

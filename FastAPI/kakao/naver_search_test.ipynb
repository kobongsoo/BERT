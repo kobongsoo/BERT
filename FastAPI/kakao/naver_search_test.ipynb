{
 "cells": [
  {
   "cell_type": "code",
   "execution_count": null,
   "id": "9c1ace5d-7042-498e-8eb7-3ae9faf142ed",
   "metadata": {},
   "outputs": [],
   "source": [
    "# 네이버 검색 API 예제 - 블로그 검색\n",
    "# 출처: https://developers.naver.com/docs/serviceapi/search/blog/blog.md#%EB%B8%94%EB%A1%9C%EA%B7%B8\n",
    "\n",
    "import time\n",
    "import os\n",
    "import sys\n",
    "import json\n",
    "import re\n",
    "import urllib.request\n",
    "import openai\n",
    "from utils import generate_text_davinci, generate_text_GPT2, NaverSearchAPI, load_embed_model\n",
    "\n",
    "client_id = \"\"\n",
    "client_secret = \"\"\n",
    "openai.api_key = \"sk-\"# **GPT  key 지정\n",
    "\n",
    "naver_api = NaverSearchAPI(client_id=client_id, client_secret=client_secret)\n",
    "\n",
    "# 임베딩 모델 로딩\n",
    "#WORD_EMBDDING_MODEL1, BI_ENCODER1 = load_embed_model('./model/kpf-sbert-v1.1', 'mean', 768, \"cpu\")\n"
   ]
  },
  {
   "cell_type": "code",
   "execution_count": null,
   "id": "b588f534-12a1-46b9-8fa2-39f67198bd64",
   "metadata": {},
   "outputs": [],
   "source": [
    "start_time = time.time()\n",
    "\n",
    "query = \"제주도에서 가을에 가볼만한 관광지 추천\"  \n",
    "#contexts, error = naver_api.search_naver_ex(query=query, classification=['news','webkr'], display=10, top_k=10, bi_encoder=BI_ENCODER1)\n",
    "contexts, error = naver_api.search_naver(query=query, classification=['news','webkr', 'blog'], display=5)\n",
    "\n",
    "# 소요된 시간을 계산합니다.\n",
    "end_time = time.time()\n",
    "elapsed_time = \"{:.2f}\".format(end_time - start_time)\n",
    "print(f'time:{elapsed_time}\\n')"
   ]
  },
  {
   "cell_type": "code",
   "execution_count": null,
   "id": "c4f7e34e-49a0-41f3-8381-004046fac25e",
   "metadata": {},
   "outputs": [],
   "source": [
    "context:str = \"\"\n",
    "text:str = \"\"\n",
    "for con in contexts:\n",
    "    context += con['descript']+'\\n\\n'\n",
    "    text += con['title']+'\\n'+ con['descript'] + '\\n'+con['link']+'\\n('+con['score']+')\\n\\n'\n",
    "print(text)"
   ]
  },
  {
   "cell_type": "code",
   "execution_count": null,
   "id": "252660cd-5fc6-4dcd-8944-cecd31d38481",
   "metadata": {},
   "outputs": [],
   "source": [
    "start_time = time.time()\n",
    "\n",
    "prompt = f'{context}\\n\\nQ:{query}?.요약해줘\\nA:'\n",
    "print(prompt)    \n",
    "    \n",
    "response = generate_text_GPT2(gpt_model=\"gpt-3.5-turbo-1106\",\n",
    "                              prompt=prompt, timeout=10, stream=True)\n",
    "\n",
    "# 소요된 시간을 계산합니다.\n",
    "end_time = time.time()\n",
    "elapsed_time = \"{:.2f}\".format(end_time - start_time)\n",
    "print(f'time:{elapsed_time}\\n')\n",
    "\n",
    "print(f'답변:{response[0]}')"
   ]
  }
 ],
 "metadata": {
  "kernelspec": {
   "display_name": "Python 3 (ipykernel)",
   "language": "python",
   "name": "python3"
  },
  "language_info": {
   "codemirror_mode": {
    "name": "ipython",
    "version": 3
   },
   "file_extension": ".py",
   "mimetype": "text/x-python",
   "name": "python",
   "nbconvert_exporter": "python",
   "pygments_lexer": "ipython3",
   "version": "3.9.7"
  }
 },
 "nbformat": 4,
 "nbformat_minor": 5
}

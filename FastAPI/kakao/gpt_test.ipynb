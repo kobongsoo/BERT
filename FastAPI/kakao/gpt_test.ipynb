{
 "cells": [
  {
   "cell_type": "code",
   "execution_count": 1,
   "id": "ce267d2f-c1cb-43f6-83da-51f576beb432",
   "metadata": {},
   "outputs": [],
   "source": [
    "import time\n",
    "import openai\n",
    "from requests.exceptions import Timeout\n",
    "from utils import generate_text_GPT, generate_text_GPT2, generate_text_davinci\n",
    "\n",
    "# openai 키, 모델\n",
    "openai.api_key = \"sk-\"\n",
    "gpt_model = \"gpt-\"#\"gpt-4\"#\"gpt-3.5-turbo\" #gpt-4-0314"
   ]
  },
  {
   "cell_type": "code",
   "execution_count": null,
   "id": "f8865e24-9928-4926-b8d3-6954712df100",
   "metadata": {},
   "outputs": [],
   "source": [
    "prompt = \"Q:제주도 유명한 오름 5개만 알려주세요. 답은 2줄로 요약해주세요. A:\"\n",
    "\n",
    "response,status = generate_text_davinci(gpt_model=gpt_model, prompt=prompt, stream=True)\n",
    "print(response)"
   ]
  },
  {
   "cell_type": "code",
   "execution_count": null,
   "id": "3245f643-9a3d-4273-a865-d46df2729329",
   "metadata": {},
   "outputs": [],
   "source": [
    "prompt = \"Q:제주도 유명한 오름 5개만 알려주세요. A:\"\n",
    "system_prompt = \"답은 2줄로 요약해주세요.\"\n",
    "response,status = generate_text_GPT(gpt_model=gpt_model, prompt=prompt, system_prompt=system_prompt)\n",
    "print(response)"
   ]
  },
  {
   "cell_type": "code",
   "execution_count": 2,
   "id": "4e8ce343-b66e-4f43-b21d-e63225ee610b",
   "metadata": {},
   "outputs": [
    {
     "name": "stdout",
     "output_type": "stream",
     "text": [
      "data:{'model': 'gpt-4', 'messages': [{'role': 'user', 'content': '다음 URL 내용을 요약해 주세요. https://www.headlinejeju.co.kr/news/articleView.html?idxno=530343'}], 'max_tokens': 512, 'temperature': 0.5, 'stream': True}\n",
      "<Response [200]>\n",
      "이 기사는 제주도의 한 음식점에서 발생한 코로나19 확진자 관련 소식을 전하고 있다. 제주도는 10월 4일 오후 5시 기준으로 신규 확진자 9명을 추가 확인했으며, 이 중 3명이 제주시 한 음식점에서 발생한 집단감염 사례와 관련이 있다고 밝혔다. 해당 음식점은 '제주시 삼도2동 소재 음식점'으로 공개되었다. 이에 따라 제주도는 해당 음식점을 방문한 사람들에게 코로나19 검사를 받을 것을 촉구하고 있다. 또한, 제주도는 이번 확진자들과 관련해 역학조사를 진행하고 있다.\n"
     ]
    }
   ],
   "source": [
    "# Example usage\n",
    "prompt = \"다음 URL 내용을 요약해 주세요. https://www.headlinejeju.co.kr/news/articleView.html?idxno=530343\"\n",
    "system_prompt = \"\"\n",
    "result, status = generate_text_GPT2(gpt_model=gpt_model, prompt=prompt, system_prompt=\"\", stream=True, timeout=30)\n",
    "print(result)"
   ]
  },
  {
   "cell_type": "code",
   "execution_count": null,
   "id": "82ebae60-a26a-4eaa-8043-d6fffcfad36d",
   "metadata": {},
   "outputs": [],
   "source": []
  },
  {
   "cell_type": "code",
   "execution_count": null,
   "id": "c57c68ec-8103-4d2c-938f-f0d6af36317e",
   "metadata": {},
   "outputs": [],
   "source": []
  }
 ],
 "metadata": {
  "kernelspec": {
   "display_name": "Python 3 (ipykernel)",
   "language": "python",
   "name": "python3"
  },
  "language_info": {
   "codemirror_mode": {
    "name": "ipython",
    "version": 3
   },
   "file_extension": ".py",
   "mimetype": "text/x-python",
   "name": "python",
   "nbconvert_exporter": "python",
   "pygments_lexer": "ipython3",
   "version": "3.9.7"
  }
 },
 "nbformat": 4,
 "nbformat_minor": 5
}

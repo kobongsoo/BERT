{
 "cells": [
  {
   "cell_type": "code",
   "execution_count": null,
   "id": "ce267d2f-c1cb-43f6-83da-51f576beb432",
   "metadata": {},
   "outputs": [],
   "source": [
    "import time\n",
    "import openai\n",
    "from requests.exceptions import Timeout\n",
    "from utils import generate_text_GPT, generate_text_GPT2, generate_text_davinci\n",
    "\n",
    "# openai 키, 모델\n",
    "openai.api_key = \"sk-\"\n",
    "gpt_model = \"\"#\"gpt-4\"#\"gpt-3.5-turbo\" #gpt-4-0314"
   ]
  },
  {
   "cell_type": "code",
   "execution_count": null,
   "id": "f8865e24-9928-4926-b8d3-6954712df100",
   "metadata": {},
   "outputs": [],
   "source": [
    "prompt = \"Q:제주도 유명한 오름 5개만 알려주세요. 답은 2줄로 요약해주세요. A:\"\n",
    "\n",
    "response,status = generate_text_davinci(gpt_model=gpt_model, prompt=prompt, stream=True)\n",
    "print(response)"
   ]
  },
  {
   "cell_type": "code",
   "execution_count": null,
   "id": "3245f643-9a3d-4273-a865-d46df2729329",
   "metadata": {},
   "outputs": [],
   "source": [
    "prompt = \"Q:제주도 유명한 오름 5개만 알려주세요. A:\"\n",
    "system_prompt = \"답은 2줄로 요약해주세요.\"\n",
    "response,status = generate_text_GPT(gpt_model=gpt_model, prompt=prompt, system_prompt=system_prompt)\n",
    "print(response)"
   ]
  },
  {
   "cell_type": "code",
   "execution_count": null,
   "id": "4e8ce343-b66e-4f43-b21d-e63225ee610b",
   "metadata": {},
   "outputs": [],
   "source": [
    "# Example usage\n",
    "#prompt = \"다음 URL 내용을 요약해 주세요. https://www.headlinejeju.co.kr/news/articleView.html?idxno=530343\"\n",
    "prompt = \"Q:제주도 유명한 오름 5개만 순서대로 목록을 알려주세요. A:\"\n",
    "result, status = generate_text_GPT2(gpt_model=gpt_model, prompt=prompt, system_prompt=\"\", stream=True, timeout=30)\n",
    "print(result)\n",
    "\n",
    "prompt = \"Q:위 내용에서 각 오름들에 대해 좀더 자세히 설명해주세요. A:\"\n",
    "assistants:list = []\n",
    "assistants.append(result)\n",
    "result, status = generate_text_GPT2(gpt_model=gpt_model, prompt=prompt, system_prompt=\"\", assistants=assistants, stream=True, timeout=30)\n",
    "print(result)"
   ]
  },
  {
   "cell_type": "code",
   "execution_count": null,
   "id": "82ebae60-a26a-4eaa-8043-d6fffcfad36d",
   "metadata": {},
   "outputs": [],
   "source": [
    "text = '''\n",
    "조제약\n",
    "처방전교부번호:\n",
    "성\n",
    "명:\n",
    "조제약사 청선무\n",
    "약품명 및 용량\n",
    "맥스리펜정 (해열진통소염제)\n",
    "열을 내리고 염증을 가라앉히며 농증을 해소하는 약\n",
    "①\n",
    "20231031-471003\n",
    "고니들\n",
    "처방전발행기관:\n",
    "나이/성별,\n",
    "송재일자\n",
    "슬렌콘점 250달리 그림(근이완제)\n",
    "근육의 결착성을 넣어주고, 근경련을 감소시키는 약\n",
    "글로게이트정(재산제)\n",
    "S\n",
    "위산을 병신의 적용을 억제하여 위내통증 및 유향형성을 방지하는 약\n",
    "1.00 3 5\n",
    "1일 3 회 5 일분\n",
    "한라정동외과의원\n",
    "만 16세/04\n",
    "2003-10-21\n",
    "1.00 3\n",
    "에로타 제작용정 (소염효소제)\n",
    "염증억제, 단백분해촉진 작용을 통해 염증성 부종을 치료하는 약\n",
    "지야그\n",
    "1.00 2 5\n",
    "매식 전·간·후\n",
    "매 시간마다\n",
    "시분\n",
    "ml씩\n",
    "'''\n",
    "prompt = f\"{text}\\nQ: 위 내용을 원문 그대로 문장으로 만들어서 보여줘\"\n",
    "system_prompt = \"\"\n",
    "result, status = generate_text_GPT2(gpt_model=gpt_model, prompt=prompt, system_prompt=\"\", stream=True, timeout=30)\n",
    "print(result)"
   ]
  },
  {
   "cell_type": "code",
   "execution_count": null,
   "id": "c57c68ec-8103-4d2c-938f-f0d6af36317e",
   "metadata": {},
   "outputs": [],
   "source": []
  }
 ],
 "metadata": {
  "kernelspec": {
   "display_name": "Python 3 (ipykernel)",
   "language": "python",
   "name": "python3"
  },
  "language_info": {
   "codemirror_mode": {
    "name": "ipython",
    "version": 3
   },
   "file_extension": ".py",
   "mimetype": "text/x-python",
   "name": "python",
   "nbconvert_exporter": "python",
   "pygments_lexer": "ipython3",
   "version": "3.9.7"
  }
 },
 "nbformat": 4,
 "nbformat_minor": 5
}

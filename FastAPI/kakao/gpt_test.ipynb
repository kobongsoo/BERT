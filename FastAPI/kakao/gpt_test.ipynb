{
 "cells": [
  {
   "cell_type": "code",
   "execution_count": 2,
   "id": "ce267d2f-c1cb-43f6-83da-51f576beb432",
   "metadata": {},
   "outputs": [],
   "source": [
    "import time\n",
    "import openai\n",
    "from requests.exceptions import Timeout\n",
    "from utils import generate_text_GPT, generate_text_GPT2, generate_text_davinci\n",
    "\n",
    "# openai 키, 모델\n",
    "openai.api_key = \"sk-\"\n",
    "gpt_model = \"\"#\"gpt-4\"#\"gpt-3.5-turbo\" #gpt-4-0314"
   ]
  },
  {
   "cell_type": "code",
   "execution_count": 1,
   "id": "f8865e24-9928-4926-b8d3-6954712df100",
   "metadata": {},
   "outputs": [
    {
     "ename": "NameError",
     "evalue": "name 'generate_text_davinci' is not defined",
     "output_type": "error",
     "traceback": [
      "\u001b[0;31m---------------------------------------------------------------------------\u001b[0m",
      "\u001b[0;31mNameError\u001b[0m                                 Traceback (most recent call last)",
      "Input \u001b[0;32mIn [1]\u001b[0m, in \u001b[0;36m<cell line: 3>\u001b[0;34m()\u001b[0m\n\u001b[1;32m      1\u001b[0m prompt \u001b[38;5;241m=\u001b[39m \u001b[38;5;124m\"\u001b[39m\u001b[38;5;124mQ:제주도 유명한 오름 5개만 알려주세요. 답은 2줄로 요약해주세요. A:\u001b[39m\u001b[38;5;124m\"\u001b[39m\n\u001b[0;32m----> 3\u001b[0m response,status \u001b[38;5;241m=\u001b[39m \u001b[43mgenerate_text_davinci\u001b[49m(gpt_model\u001b[38;5;241m=\u001b[39mgpt_model, prompt\u001b[38;5;241m=\u001b[39mprompt, stream\u001b[38;5;241m=\u001b[39m\u001b[38;5;28;01mTrue\u001b[39;00m)\n\u001b[1;32m      4\u001b[0m \u001b[38;5;28mprint\u001b[39m(response)\n",
      "\u001b[0;31mNameError\u001b[0m: name 'generate_text_davinci' is not defined"
     ]
    }
   ],
   "source": [
    "prompt = \"Q:제주도 유명한 오름 5개만 알려주세요. 답은 2줄로 요약해주세요. A:\"\n",
    "\n",
    "response,status = generate_text_davinci(gpt_model=gpt_model, prompt=prompt, stream=True)\n",
    "print(response)"
   ]
  },
  {
   "cell_type": "code",
   "execution_count": null,
   "id": "3245f643-9a3d-4273-a865-d46df2729329",
   "metadata": {},
   "outputs": [],
   "source": [
    "prompt = \"Q:제주도 유명한 오름 5개만 알려주세요. A:\"\n",
    "system_prompt = \"답은 2줄로 요약해주세요.\"\n",
    "response,status = generate_text_GPT(gpt_model=gpt_model, prompt=prompt, system_prompt=system_prompt)\n",
    "print(response)"
   ]
  },
  {
   "cell_type": "code",
   "execution_count": null,
   "id": "4e8ce343-b66e-4f43-b21d-e63225ee610b",
   "metadata": {},
   "outputs": [],
   "source": [
    "# Example usage\n",
    "prompt = \"다음 URL 내용을 요약해 주세요. https://www.headlinejeju.co.kr/news/articleView.html?idxno=530343\"\n",
    "system_prompt = \"\"\n",
    "result, status = generate_text_GPT2(gpt_model=gpt_model, prompt=prompt, system_prompt=\"\", stream=True, timeout=30)\n",
    "print(result)"
   ]
  },
  {
   "cell_type": "code",
   "execution_count": 8,
   "id": "82ebae60-a26a-4eaa-8043-d6fffcfad36d",
   "metadata": {},
   "outputs": [
    {
     "name": "stdout",
     "output_type": "stream",
     "text": [
      "data:{'model': 'gpt-3.5-turbo-1106', 'messages': [{'role': 'user', 'content': '\\n조제약\\n처방전교부번호:\\n성\\n명:\\n조제약사 청선무\\n약품명 및 용량\\n맥스리펜정 (해열진통소염제)\\n열을 내리고 염증을 가라앉히며 농증을 해소하는 약\\n①\\n20231031-471003\\n고니들\\n처방전발행기관:\\n나이/성별,\\n송재일자\\n슬렌콘점 250달리 그림(근이완제)\\n근육의 결착성을 넣어주고, 근경련을 감소시키는 약\\n글로게이트정(재산제)\\nS\\n위산을 병신의 적용을 억제하여 위내통증 및 유향형성을 방지하는 약\\n1.00 3 5\\n1일 3 회 5 일분\\n한라정동외과의원\\n만 16세/04\\n2003-10-21\\n1.00 3\\n에로타 제작용정 (소염효소제)\\n염증억제, 단백분해촉진 작용을 통해 염증성 부종을 치료하는 약\\n지야그\\n1.00 2 5\\n매식 전·간·후\\n매 시간마다\\n시분\\nml씩\\n\\nQ: 위 내용을 원문 그대로 문장으로 만들어서 보여줘'}], 'max_tokens': 1024, 'temperature': 0.5, 'stream': True}\n",
      "<Response [200]>\n",
      "조제약사 청선무가 발행한 처방전에는 맥스리펜정, 슬렌콘점, 글로게이트정, 에로타 제작용정 등의 약품이 포함되어 있으며, 이들은 각각 해열진통소염제, 근이완제, 재산제, 소염효소제 등의 효능을 가지고 있다. 처방전에는 환자의 나이와 성별, 처방전발행기관, 처방전교부번호, 발행일자 등의 정보도 포함되어 있다.\n"
     ]
    }
   ],
   "source": [
    "text = '''\n",
    "조제약\n",
    "처방전교부번호:\n",
    "성\n",
    "명:\n",
    "조제약사 청선무\n",
    "약품명 및 용량\n",
    "맥스리펜정 (해열진통소염제)\n",
    "열을 내리고 염증을 가라앉히며 농증을 해소하는 약\n",
    "①\n",
    "20231031-471003\n",
    "고니들\n",
    "처방전발행기관:\n",
    "나이/성별,\n",
    "송재일자\n",
    "슬렌콘점 250달리 그림(근이완제)\n",
    "근육의 결착성을 넣어주고, 근경련을 감소시키는 약\n",
    "글로게이트정(재산제)\n",
    "S\n",
    "위산을 병신의 적용을 억제하여 위내통증 및 유향형성을 방지하는 약\n",
    "1.00 3 5\n",
    "1일 3 회 5 일분\n",
    "한라정동외과의원\n",
    "만 16세/04\n",
    "2003-10-21\n",
    "1.00 3\n",
    "에로타 제작용정 (소염효소제)\n",
    "염증억제, 단백분해촉진 작용을 통해 염증성 부종을 치료하는 약\n",
    "지야그\n",
    "1.00 2 5\n",
    "매식 전·간·후\n",
    "매 시간마다\n",
    "시분\n",
    "ml씩\n",
    "'''\n",
    "prompt = f\"{text}\\nQ: 위 내용을 원문 그대로 문장으로 만들어서 보여줘\"\n",
    "system_prompt = \"\"\n",
    "result, status = generate_text_GPT2(gpt_model=gpt_model, prompt=prompt, system_prompt=\"\", stream=True, timeout=30)\n",
    "print(result)"
   ]
  },
  {
   "cell_type": "code",
   "execution_count": null,
   "id": "c57c68ec-8103-4d2c-938f-f0d6af36317e",
   "metadata": {},
   "outputs": [],
   "source": []
  }
 ],
 "metadata": {
  "kernelspec": {
   "display_name": "Python 3 (ipykernel)",
   "language": "python",
   "name": "python3"
  },
  "language_info": {
   "codemirror_mode": {
    "name": "ipython",
    "version": 3
   },
   "file_extension": ".py",
   "mimetype": "text/x-python",
   "name": "python",
   "nbconvert_exporter": "python",
   "pygments_lexer": "ipython3",
   "version": "3.9.7"
  }
 },
 "nbformat": 4,
 "nbformat_minor": 5
}

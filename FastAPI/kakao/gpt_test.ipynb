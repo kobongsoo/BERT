{
 "cells": [
  {
   "cell_type": "code",
   "execution_count": null,
   "id": "ce267d2f-c1cb-43f6-83da-51f576beb432",
   "metadata": {},
   "outputs": [],
   "source": [
    "import time\n",
    "import openai\n",
    "from requests.exceptions import Timeout\n",
    "from utils import generate_text_GPT, generate_text_GPT2\n",
    "\n",
    "# openai 키, 모델\n",
    "openai.api_key = \"sk-\"\n",
    "gpt_model = \"gpt-3.5-turbo\"#\"gpt-4\"#\"gpt-3.5-turbo\" #gpt-4-0314"
   ]
  },
  {
   "cell_type": "code",
   "execution_count": null,
   "id": "3245f643-9a3d-4273-a865-d46df2729329",
   "metadata": {},
   "outputs": [],
   "source": [
    "prompt = \"Q:제주도 유명한 오름 5개만 알려주세요. A:\"\n",
    "system_prompt = \"답은 2줄로 요약해주세요.\"\n",
    "response,status = generate_text_GPT(gpt_model=gpt_model, prompt=prompt, system_prompt=system_prompt)\n",
    "print(response)"
   ]
  },
  {
   "cell_type": "code",
   "execution_count": null,
   "id": "4e8ce343-b66e-4f43-b21d-e63225ee610b",
   "metadata": {},
   "outputs": [],
   "source": [
    "# Example usage\n",
    "prompt = \"Q:제주도 유명한 오름 5개만 알려주세요. A:\"\n",
    "system_prompt = \"답은 2줄로 요약해주세요.\"\n",
    "result, status = generate_text_GPT2(gpt_model=gpt_model, prompt=prompt, system_prompt=system_prompt, timeout=12)\n",
    "print(result)"
   ]
  },
  {
   "cell_type": "code",
   "execution_count": null,
   "id": "82ebae60-a26a-4eaa-8043-d6fffcfad36d",
   "metadata": {},
   "outputs": [],
   "source": []
  },
  {
   "cell_type": "code",
   "execution_count": null,
   "id": "c57c68ec-8103-4d2c-938f-f0d6af36317e",
   "metadata": {},
   "outputs": [],
   "source": []
  }
 ],
 "metadata": {
  "kernelspec": {
   "display_name": "Python 3 (ipykernel)",
   "language": "python",
   "name": "python3"
  },
  "language_info": {
   "codemirror_mode": {
    "name": "ipython",
    "version": 3
   },
   "file_extension": ".py",
   "mimetype": "text/x-python",
   "name": "python",
   "nbconvert_exporter": "python",
   "pygments_lexer": "ipython3",
   "version": "3.9.7"
  }
 },
 "nbformat": 4,
 "nbformat_minor": 5
}

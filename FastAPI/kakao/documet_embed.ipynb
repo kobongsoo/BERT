{
 "cells": [
  {
   "cell_type": "code",
   "execution_count": 1,
   "id": "820aa697-ef0d-42e5-8f0f-04852a14e504",
   "metadata": {},
   "outputs": [
    {
     "name": "stdout",
     "output_type": "stream",
     "text": [
      "True\n",
      "device: cuda:0\n",
      "cuda index: 0\n",
      "gpu 개수: 1\n",
      "graphic name: NVIDIA A30\n"
     ]
    }
   ],
   "source": [
    "#-----------------------------------------------------------------------------------------------------\n",
    "# 문서들을 embed하는 예제\n",
    "# - 여기서는 문서들을 전처리하고, 임베딩 하는 과정임.\n",
    "#\n",
    "# 질의 응답 시스템 과정\n",
    "# 문서들 전처리 : \n",
    "#    단락별루 분할(\\n\\n) - 불용어 제거 -문장별루 분할.\n",
    "# 임베딩 : \n",
    "#    kpf-sbert-v1.1로  문장 평균 임베딩벡터 구함 - es에 문장별루 단락text와 평균벡터 저장.\n",
    "#-----------------------------------------------------------------------------------------------------\n",
    "\n",
    "import os\n",
    "import random\n",
    "import numpy as np\n",
    "import pandas as pd\n",
    "import time\n",
    "import random\n",
    "\n",
    "from utils import MyUtils\n",
    "from utils import get_sentences\n",
    "\n",
    "myutils = MyUtils(yam_file_path='./data/settings.yaml')\n",
    "myutils.seed_everything()  # seed 설정\n",
    "DEVICE = myutils.GPU_info() # GPU 혹은 CPU\n",
    "\n",
    "os.environ['CUDA_LAUNCH_BLOCKING'] = \"1\"\n",
    "os.environ[\"CUDA_VISIBLE_DEVICES\"] = \"0\""
   ]
  },
  {
   "cell_type": "code",
   "execution_count": 2,
   "id": "2b4e33b1-6cbf-4fc8-ae82-50577909b086",
   "metadata": {},
   "outputs": [
    {
     "name": "stdout",
     "output_type": "stream",
     "text": [
      "*file_count: 92, file_list:['../../../data11/mpower_doc/사규개정-out-renew/위임전결규정.txt', '../../../data11/mpower_doc/사규개정-out-renew/유형자산 관리 지침.txt', '../../../data11/mpower_doc/사규개정-out-renew/의료비 지원 규정.txt', '../../../data11/mpower_doc/사규개정-out-renew/이사회 운영규정.txt', '../../../data11/mpower_doc/사규개정-out-renew/인사 규정.txt']\n",
      "*문단 총 계수:781\n",
      "\n"
     ]
    }
   ],
   "source": [
    "# DATA_FOLDER에 파일들을 불러와서 DF로 만듬.\n",
    "# -문서는 \\n으로 구분해야 하며, 맨앞에는 title이 와야 하고, \\n 다음 문단들이 와야함. 문단들은 \\n 구분됨.\n",
    "# -예: 회사 개요\\n{회사내용}\\n{제품구성}\n",
    "\n",
    "# 파일이 여러개인 경우 폴더 지정\n",
    "DATA_FOLDER = '../../../data11/mpower_doc/사규개정-out-renew/'\n",
    "\n",
    "files = myutils.getListOfFiles(DATA_FOLDER)\n",
    "assert len(files) > 0 # files가 0이면 assert 발생\n",
    "print('*file_count: {}, file_list:{}'.format(len(files), files[0:5]))\n",
    "\n",
    "# 파일 경로를 지정하면됨.\n",
    "#files = [\"../data11/mpower_doc/신입사원교육.txt\",]\n",
    "docid = 0  # **카운터가 문서에 uid가 되므로, 유일무이한 값므로 지정할것.\n",
    "count = 0\n",
    "\n",
    "titles = []\n",
    "contextids = []\n",
    "contexts = []\n",
    "\n",
    "for idx, file_path in enumerate(files):\n",
    "    if '.ipynb_checkpoints' not in file_path:\n",
    "        with open(file_path, 'r', encoding='utf-8') as f:\n",
    "            data = f.read()\n",
    "            #print(data)\n",
    "            data_list = data.split('\\n\\n')  # '\\n\\n' 구분으로 다락 구분\n",
    "            docid += 1\n",
    "            count = 0\n",
    "            # titles, contextids 임의로 구해서 데이터 프레임 만듬.\n",
    "            for i in range(len(data_list)):\n",
    "                if i > 0 and data_list[i]:\n",
    "                    count += 1\n",
    "                    titles.append(data_list[0].strip())  # 문서 제목은 맨처음 문장이고 \\n\\n로 구분되어야 함.\n",
    "                    contextids.append(f'{docid}_{count}')\n",
    "                    contexts.append(data_list[0].strip() + '\\n' + data_list[i].strip()) # 두번째는 문서 제목+문서내용 합처서 문장만듬.\n",
    " \n",
    "# 데이터 프레임으로 만듬.\n",
    "df_contexts = pd.DataFrame((zip(contexts, titles, contextids)), columns = ['context','question', 'contextid'])     \n",
    "\n",
    "print(f'*문단 총 계수:{len(df_contexts)}\\n')"
   ]
  },
  {
   "cell_type": "code",
   "execution_count": 3,
   "id": "60ef55ea-bd94-4d73-90b3-9f1b7916e561",
   "metadata": {},
   "outputs": [],
   "source": [
    "# JSON 파일로 저장해둠.\n",
    "import json\n",
    "examples = []\n",
    "\n",
    "for context, title, contextid in zip(contexts, titles, contextids):\n",
    "    doc = {}\n",
    "    doc['context'] = context  # 문단\n",
    "    doc['title'] = title      # 제목\n",
    "    doc['contextid'] = contextid # 문서 id\n",
    "                        \n",
    "    examples.append(doc)\n",
    "                        \n",
    "docs ={}\n",
    "docs['text'] = examples\n",
    "\n",
    "#json 파일로 저장.\n",
    "# JSON 파일을 엽니다.\n",
    "with open(\"./data/moco_context.json\", \"w\") as f:\n",
    "    # 리스트를 JSON으로 변환합니다.\n",
    "    json.dump(docs, f, indent=4)"
   ]
  },
  {
   "cell_type": "code",
   "execution_count": 4,
   "id": "4c584631-299d-4cee-9873-a4fa0ad367fc",
   "metadata": {},
   "outputs": [
    {
     "name": "stderr",
     "output_type": "stream",
     "text": [
      "  0%|          | 0/781 [00:00<?, ?it/s][Kss]: Oh! You have konlpy.tag.Mecab in your environment. Kss will take this as a backend! :D\n",
      "\n",
      "100%|██████████| 781/781 [00:06<00:00, 129.80it/s]"
     ]
    },
    {
     "name": "stdout",
     "output_type": "stream",
     "text": [
      "*[get_sentences] 문장처리=>len:7, time:6.0210\n",
      "*[get_sentences] 문장 길이=>평균:6.63764404609475 / MAX: 19 / MIN: 1\n",
      "\n",
      "len:781, 1: ['위임전결규정', '전결권의 행사', '이 규정에 의하여 전결권자가 결정한 사항은 대표이사가 결정한 것과 동일한 효력을 갖는다.', '전결권자는 이 규정에 의해 위임된 권한을 올바르고 신속하게 행사하여야 하며, 그 결정에 관하여 책임을 진다.', '전결권자는 전결한 사항중 특히 중요하거나 이례적인 사항은 차상위자에게 보고하여야 한다.', '결재단계에 있는 책임자는 신속하게 결정이 내려지도록 최대한 노력을 해야 하며, 타 책임자의 결정을 존중하고 소속 업무에 관한 하위직의 건의와 입안을 고려하여야 한다.', '한건의 문서가 등급이 다른 두개 이상의 전결권에 해당될 때에는 상위 전결권자의 결재를 받는다.', '전결 등급을 낮추기 위하여 한건으로 처리해야 될 문서를 두건 이상으로 분할 처리할 수 없다.']\n"
     ]
    },
    {
     "name": "stderr",
     "output_type": "stream",
     "text": [
      "\n"
     ]
    }
   ],
   "source": [
    "# 문장들로 분리\n",
    "doc_sentences = get_sentences(df=df_contexts, remove_sentnece_len=1, remove_duplication=False)\n",
    "\n",
    "print(f'len:{len(doc_sentences)}, 1: {doc_sentences[1]}')"
   ]
  },
  {
   "cell_type": "code",
   "execution_count": 5,
   "id": "f48638f8-0fbf-4c38-92c0-46adf2a51916",
   "metadata": {},
   "outputs": [],
   "source": [
    "# 인덱스 추가\n",
    "from tqdm.notebook import tqdm\n",
    "from utils import embed_text, bi_encoder, mpower_index_batch, create_index, clustering_embedding, kmedoids_clustering_embedding\n",
    "\n",
    "# ES 관련\n",
    "from elasticsearch import Elasticsearch, helpers\n",
    "from elasticsearch.helpers import bulk\n",
    "    \n",
    "# 조건에 맞게 임베딩 처리하는 함수 \n",
    "def embedding(paragraphs:list)->list:\n",
    "    # 한 문단에 대한 40개 문장 배열들을 한꺼번에 임베딩 처리함\n",
    "    embeddings = embed_text(model=BI_ENCODER1, paragraphs=paragraphs, return_tensor=False).astype(FLOAT_TYPE)    \n",
    "    return embeddings\n",
    "\n",
    "#---------------------------------------------------------------------------\n",
    "#문단에 문장들의 임베딩을 구하여 각각 클러스터링 처리함.\n",
    "#---------------------------------------------------------------------------\n",
    "def index_data(es, df_contexts, doc_sentences:list):\n",
    "    #클러스터링 계수는 문단의 계수보다는 커야 함. \n",
    "    #assert num_clusters <= len(doc_sentences), f\"num_clusters:{num_clusters} > len(doc_sentences):{len(doc_sentences)}\"\n",
    "    #-------------------------------------------------------------\n",
    "    # 각 문단의 문장들에 벡터를 구하고 리스트에 저장해 둠.\n",
    "    start = time.time()\n",
    "    cluster_list = []\n",
    "\n",
    "    rfile_names = df_contexts['contextid'].values.tolist()\n",
    "    rfile_texts = df_contexts['context'].values.tolist()\n",
    "\n",
    "    if OUT_DIMENSION == 0:\n",
    "        dimension = 768\n",
    "    else:\n",
    "        dimension = 128\n",
    "\n",
    "    clustering_num = NUM_CLUSTERS\n",
    "        \n",
    "    docs = []\n",
    "    count = 0\n",
    "    for i, sentences in enumerate(tqdm(doc_sentences)):\n",
    "        embeddings = embedding(sentences)\n",
    "        if i < 3:\n",
    "            print(f'[{i}] sentences-------------------')\n",
    "            if len(sentences) > 5:\n",
    "                print(sentences[:5])\n",
    "            else:\n",
    "                print(sentences)\n",
    "                \n",
    "            myutils.log_message(f'*[index_data] embeddings.shape: {embeddings.shape}', log_folder='./log/documet')\n",
    "            print()\n",
    "        \n",
    "        #----------------------------------------------------------------\n",
    "        multiple = 1\n",
    "        \n",
    "        # [bong][2023-04-28] 임베딩 출력 계수에 따라 클러스터링 계수를 달리함.\n",
    "        if NUM_CLUSTERS_VARIABLE == True:\n",
    "            embeddings_len = embeddings.shape[0]\n",
    "            if embeddings_len > 2000:\n",
    "                multiple = 6\n",
    "            elif embeddings_len > 1000:\n",
    "                multiple = 5 # 5배\n",
    "            elif embeddings_len > 600:\n",
    "                multiple = 4 # 4배\n",
    "            elif embeddings_len > 300:\n",
    "                multiple = 3 # 3배\n",
    "            elif embeddings_len > 100:\n",
    "                multiple = 2 # 2배\n",
    "        #----------------------------------------------------------------\n",
    "        \n",
    "        # 0=문장클러스터링 임베딩\n",
    "        if EMBEDDING_METHOD == 0:\n",
    "            if CLUSTRING_MODE == \"kmeans\":\n",
    "                # 각 문단에 분할한 문장들의 임베딩 값을 입력해서 클러스터링 하고 평균값을 구함.\n",
    "                # [bong][2023-04-28] 문장이 많은 경우에는 클러스터링 계수를 2,3배수로 함\n",
    "                emb = clustering_embedding(embeddings = embeddings, outmode=OUTMODE, num_clusters=(clustering_num*multiple), seed=SEED).astype(FLOAT_TYPE) \n",
    "            else:\n",
    "                emb = kmedoids_clustering_embedding(embeddings = embeddings, outmode=OUTMODE, num_clusters=(clustering_num*multiple), seed=SEED).astype(FLOAT_TYPE) \n",
    "            \n",
    "        # 1= 문장평균임베딩\n",
    "        elif EMBEDDING_METHOD == 1:\n",
    "            # 문장들에 대해 임베딩 값을 구하고 평균 구함.\n",
    "            arr = np.array(embeddings).astype(FLOAT_TYPE)\n",
    "            emb = arr.mean(axis=0).reshape(1,-1) #(128,) 배열을 (1,128) 형태로 만들기 위해 reshape 해줌\n",
    "            clustering_num = 1  # 평균값일때는 NUM_CLUSTERS=1로 해줌.\n",
    "        # 2=문장임베딩\n",
    "        else:\n",
    "            emb = embeddings\n",
    "\n",
    "        if i < 3:\n",
    "            myutils.log_message(f'*[index_data] cluster emb.shape: {emb.shape}', log_folder='./log/documet')\n",
    "            print()\n",
    "        \n",
    "        #--------------------------------------------------- \n",
    "        # docs에 저장 \n",
    "        #  [bong][2023-04-28] 여러개 벡터인 경우에는 벡터를 10개씩 분리해서 여러개 docs를 만듬.\n",
    "        for j in range(multiple):\n",
    "            count += 1\n",
    "            doc = {}                                #dict 선언\n",
    "            doc['rfile_name'] = rfile_names[i]      # contextid 담음\n",
    "            doc['rfile_text'] = rfile_texts[i]      # text 담음.\n",
    "            doc['dense_vectors'] = emb[j * clustering_num : (j+1) * clustering_num] # emb 담음.\n",
    "            docs.append(doc)\n",
    "        #---------------------------------------------------    \n",
    "\n",
    "            if count % BATCH_SIZE == 0:\n",
    "                mpower_index_batch(es, ES_INDEX_NAME, docs, vector_len=clustering_num, dim_size=dimension)\n",
    "                docs = []\n",
    "                myutils.log_message(\"[index_data](1) Indexed {} documents.\".format(count), log_folder='./log/documet')\n",
    "                 \n",
    "\n",
    "    if docs:\n",
    "        mpower_index_batch(es, ES_INDEX_NAME, docs, vector_len=clustering_num, dim_size=dimension)\n",
    "        myutils.log_message(\"[index_data](2) Indexed {} documents.\".format(count), log_folder='./log/documet')\n",
    "\n",
    "    es.indices.refresh(index=ES_INDEX_NAME)\n",
    "\n",
    "    myutils.log_message(f'*인덱싱 시간 : {time.time()-start:.4f}\\n', log_folder='./log/documet')\n",
    "    print()\n",
    "#---------------------------------------------------------------------------\n"
   ]
  },
  {
   "cell_type": "code",
   "execution_count": 6,
   "id": "509df9d1-7b2e-48a4-a1e6-3c2751ed3087",
   "metadata": {},
   "outputs": [
    {
     "name": "stderr",
     "output_type": "stream",
     "text": [
      "/MOCOMSYS/anaconda3/envs/bong/lib/python3.9/site-packages/elasticsearch/connection/base.py:200: ElasticsearchWarning: Elasticsearch built-in security features are not enabled. Without authentication, your cluster could be accessible to anyone. See https://www.elastic.co/guide/en/elasticsearch/reference/7.17/security-minimal-setup.html to enable security.\n",
      "  warnings.warn(message, category=ElasticsearchWarning)\n"
     ]
    },
    {
     "name": "stdout",
     "output_type": "stream",
     "text": [
      "1:{\t\t\t\"settings\": {\n",
      "\t\t\t\t\"number_of_shards\": 2,\n",
      "\t\t\t\t\"number_of_replicas\": 1,\n",
      "\t\t\t\t\"index\": {\n",
      "\t\t\t\t\t\"merge\": {\n",
      "\t\t\t\t\t\t\"scheduler\": {\n",
      "\t\t\t\t\t\t\t\"max_thread_count\": 1\n",
      "\t\t\t\t\t\t}\n",
      "\t\t\t\t\t}\n",
      "\t\t\t\t},\n",
      "\t\t\t\t\"analysis\": {\n",
      "\t\t\t\t\t\"analyzer\": {\n",
      "\t\t\t\t\t\t\"mpower10u_korean_analyzer\": {\n",
      "\t\t\t\t\t\t\t\"type\": \"custom\",\n",
      "\t\t\t\t\t\t\t\"tokenizer\": \"mpower10u_korean_tokenizer\",\n",
      "\t\t\t\t\t\t\t\"filter\": [\n",
      "\t\t\t\t\t\t\t\t\"lowercase\",\n",
      "\t\t\t\t\t\t\t\t\"stop\",\n",
      "\t\t\t\t\t\t\t\t\"nori_readingform\",\n",
      "\t\t\t\t\t\t\t\t\"mpower10u_korean_pos\"\n",
      "\t\t\t\t\t\t\t]\n",
      "\t\t\t\t\t\t}\n",
      "\t\t\t\t\t},\n",
      "\t\t\t\t\t\"tokenizer\": {\n",
      "\t\t\t\t\t\t\"mpower10u_korean_tokenizer\": {\n",
      "\t\t\t\t\t\t\t\"type\": \"nori_tokenizer\",\n",
      "\t\t\t\t\t\t\t\"decompound_mode\": \"discard\"\n",
      "\t\t\t\t\t\t}\n",
      "\t\t\t\t\t},\n",
      "\t\t\t\t\t\"filter\": {\n",
      "\t\t\t\t\t\t\"mpower10u_korean_pos\": {\n",
      "\t\t\t\t\t\t\t\"type\": \"nori_part_of_speech\",\n",
      "\t\t\t\t\t\t\t\"stoptags\": [\n",
      "\t\t\t\t\t\t\t\t\"J\", \"E\", \"XSA\", \"XSN\", \"XSV\"\n",
      "\t\t\t\t\t\t\t]\n",
      "\t\t\t\t\t\t}\n",
      "\t\t\t\t\t}\n",
      "\t\t\t\t}\n",
      "\t\t\t},\n",
      "\t\t\t\"mappings\": {\n",
      "\t\t\t\t\"_source\": {\n",
      "\t\t\t\t\t\"enabled\": true\n",
      "\t\t\t\t},\n",
      "\t\t\t\t\"dynamic\":\"strict\",\n",
      "\t\t\t\t\"properties\": {\n",
      "\t\t\t\t\t\"rfile_name\": {\n",
      "\t\t\t\t\t\t\"type\": \"text\",\n",
      "\t\t\t\t\t\t\"store\": true\n",
      "\t\t\t\t\t},\n",
      "\t\t\t\t\t\"rfile_text\": {\n",
      "\t\t\t\t\t\t\"type\": \"text\",\n",
      "\t\t\t\t\t\t\"store\": false,\n",
      "\t\t\t\t\t\t\"analyzer\": \"mpower10u_korean_analyzer\"\n",
      "\t\t\t\t\t},\n",
      "\t\t\t\t\t\"vector1\": {\n",
      "        \t\t\t\t\t\"type\": \"dense_vector\",\n",
      "        \t\t\t\t\t\"dims\": 128\n",
      "      \t\t\t\t\t},\n",
      "\t\t\t\t\t\"vector2\": {\n",
      "        \t\t\t\t\t\"type\": \"dense_vector\",\n",
      "        \t\t\t\t\t\"dims\": 128\n",
      "      \t\t\t\t\t},\n",
      "\t\t\t\t\t\"vector3\": {\n",
      "        \t\t\t\t\t\"type\": \"dense_vector\",\n",
      "        \t\t\t\t\t\"dims\": 128\n",
      "      \t\t\t\t\t},\n",
      "\t\t\t\t\t\"vector4\": {\n",
      "        \t\t\t\t\t\"type\": \"dense_vector\",\n",
      "        \t\t\t\t\t\"dims\": 128\n",
      "      \t\t\t\t\t},\n",
      "\t\t\t\t\t\"vector5\": {\n",
      "        \t\t\t\t\t\"type\": \"dense_vector\",\n",
      "        \t\t\t\t\t\"dims\": 128\n",
      "      \t\t\t\t\t},\n",
      "\t\t\t\t\t\"vector6\": {\n",
      "        \t\t\t\t\t\"type\": \"dense_vector\",\n",
      "        \t\t\t\t\t\"dims\": 128\n",
      "      \t\t\t\t\t},\n",
      "\t\t\t\t\t\"vector7\": {\n",
      "        \t\t\t\t\t\"type\": \"dense_vector\",\n",
      "        \t\t\t\t\t\"dims\": 128\n",
      "      \t\t\t\t\t},\n",
      "\t\t\t\t\t\"vector8\": {\n",
      "        \t\t\t\t\t\"type\": \"dense_vector\",\n",
      "        \t\t\t\t\t\"dims\": 128\n",
      "      \t\t\t\t\t},\n",
      "\t\t\t\t\t\"vector9\": {\n",
      "        \t\t\t\t\t\"type\": \"dense_vector\",\n",
      "        \t\t\t\t\t\"dims\": 128\n",
      "      \t\t\t\t\t},\n",
      "\t\t\t\t\t\"vector10\": {\n",
      "        \t\t\t\t\t\"type\": \"dense_vector\",\n",
      "        \t\t\t\t\t\"dims\": 128\n",
      "      \t\t\t\t\t}\n",
      "\t\t\t\t}\n",
      "\t\t\t}\n",
      "}\n",
      "new create index=>index_file:./data/mpower10u_128d_10.json, index_name:qaindex_128_10\n",
      "SentenceTransformer(\n",
      "  (0): Transformer({'max_seq_length': 512, 'do_lower_case': True}) with Transformer model: BertModel \n",
      "  (1): Pooling({'word_embedding_dimension': 768, 'pooling_mode_cls_token': False, 'pooling_mode_mean_tokens': True, 'pooling_mode_max_tokens': False, 'pooling_mode_mean_sqrt_len_tokens': False})\n",
      "  (2): Dense({'in_features': 768, 'out_features': 128, 'bias': True, 'activation_function': 'torch.nn.modules.activation.Tanh'})\n",
      ")\n",
      "\n"
     ]
    },
    {
     "data": {
      "application/vnd.jupyter.widget-view+json": {
       "model_id": "0c48e794c6eb4b3a8f86f29f6c58080c",
       "version_major": 2,
       "version_minor": 0
      },
      "text/plain": [
       "  0%|          | 0/781 [00:00<?, ?it/s]"
      ]
     },
     "metadata": {},
     "output_type": "display_data"
    },
    {
     "name": "stdout",
     "output_type": "stream",
     "text": [
      "[0] sentences-------------------\n",
      "['위임전결규정', '적용범위', '주식회사 모코엠시스(이하 회사라 한다)의 업무수행에 관련된 모든 권한과 책임은 다른 사규로 정하지 않는 한 이 규정을 따르고 이 규정에 정하지 않는 권한과 책임은 대표이사가 정한다.', '목적', '이 규정은 회사 업무 집행에 관련된 권한의 한계와 책임의 소재를 분명히 하여 업무수행의 신속과 효율 제고를 도모함을 목적으로 한다.']\n",
      "[2023-12-01 16:29:14]*[index_data] embeddings.shape: (7, 128)\n",
      "\n",
      "\n",
      "[2023-12-01 16:29:14]*[index_data] cluster emb.shape: (7, 128)\n",
      "\n",
      "\n",
      "[1] sentences-------------------\n",
      "['위임전결규정', '전결권의 행사', '이 규정에 의하여 전결권자가 결정한 사항은 대표이사가 결정한 것과 동일한 효력을 갖는다.', '전결권자는 이 규정에 의해 위임된 권한을 올바르고 신속하게 행사하여야 하며, 그 결정에 관하여 책임을 진다.', '전결권자는 전결한 사항중 특히 중요하거나 이례적인 사항은 차상위자에게 보고하여야 한다.']\n",
      "[2023-12-01 16:29:14]*[index_data] embeddings.shape: (8, 128)\n",
      "\n",
      "\n",
      "[2023-12-01 16:29:14]*[index_data] cluster emb.shape: (8, 128)\n",
      "\n",
      "\n",
      "[2] sentences-------------------\n",
      "['위임전결규정', '전결권자의 권한', '대표이사는 회사의 최고경영자로서 이사회에서 정한 업무의 집행과 전사적인 기본 경영방침 및 중요한 업무를 결정, 집행한다.', '본부장은 사업본부의 사업계획을 수립, 시행하여 업무를 총괄집행하고 책임지며 회사의 기본방침 수립과 업무 추진을 위하여 최고 경영층을 보좌한다.', '부서(팀)장은 소관부서(팀)의 사업계획과 예산을 입안하고 집행하며, 소관부서(팀)를대표하여 업무를 처리하고 소속직원을 지휘, 감독한다.']\n",
      "[2023-12-01 16:29:14]*[index_data] embeddings.shape: (6, 128)\n",
      "\n",
      "\n",
      "[2023-12-01 16:29:14]*[index_data] cluster emb.shape: (6, 128)\n",
      "\n",
      "\n"
     ]
    },
    {
     "data": {
      "application/vnd.jupyter.widget-view+json": {
       "model_id": "e0135a084f594eb3a1e1260b8aaee909",
       "version_major": 2,
       "version_minor": 0
      },
      "text/plain": [
       "  0%|          | 0/20 [00:00<?, ?it/s]"
      ]
     },
     "metadata": {},
     "output_type": "display_data"
    },
    {
     "name": "stderr",
     "output_type": "stream",
     "text": [
      "/MOCOMSYS/anaconda3/envs/bong/lib/python3.9/site-packages/elasticsearch/connection/base.py:200: ElasticsearchWarning: Elasticsearch built-in security features are not enabled. Without authentication, your cluster could be accessible to anyone. See https://www.elastic.co/guide/en/elasticsearch/reference/7.17/security-minimal-setup.html to enable security.\n",
      "  warnings.warn(message, category=ElasticsearchWarning)\n"
     ]
    },
    {
     "name": "stdout",
     "output_type": "stream",
     "text": [
      "[2023-12-01 16:29:14][index_data](1) Indexed 20 documents.\n",
      "\n"
     ]
    },
    {
     "data": {
      "application/vnd.jupyter.widget-view+json": {
       "model_id": "ea1ff99a3e7d455c9e3aa712c84ee225",
       "version_major": 2,
       "version_minor": 0
      },
      "text/plain": [
       "  0%|          | 0/20 [00:00<?, ?it/s]"
      ]
     },
     "metadata": {},
     "output_type": "display_data"
    },
    {
     "name": "stderr",
     "output_type": "stream",
     "text": [
      "/MOCOMSYS/anaconda3/envs/bong/lib/python3.9/site-packages/elasticsearch/connection/base.py:200: ElasticsearchWarning: Elasticsearch built-in security features are not enabled. Without authentication, your cluster could be accessible to anyone. See https://www.elastic.co/guide/en/elasticsearch/reference/7.17/security-minimal-setup.html to enable security.\n",
      "  warnings.warn(message, category=ElasticsearchWarning)\n"
     ]
    },
    {
     "name": "stdout",
     "output_type": "stream",
     "text": [
      "[2023-12-01 16:29:15][index_data](1) Indexed 40 documents.\n",
      "\n"
     ]
    },
    {
     "data": {
      "application/vnd.jupyter.widget-view+json": {
       "model_id": "3cac7418b3354aa693eefd2df0b17cbd",
       "version_major": 2,
       "version_minor": 0
      },
      "text/plain": [
       "  0%|          | 0/20 [00:00<?, ?it/s]"
      ]
     },
     "metadata": {},
     "output_type": "display_data"
    },
    {
     "name": "stderr",
     "output_type": "stream",
     "text": [
      "/MOCOMSYS/anaconda3/envs/bong/lib/python3.9/site-packages/elasticsearch/connection/base.py:200: ElasticsearchWarning: Elasticsearch built-in security features are not enabled. Without authentication, your cluster could be accessible to anyone. See https://www.elastic.co/guide/en/elasticsearch/reference/7.17/security-minimal-setup.html to enable security.\n",
      "  warnings.warn(message, category=ElasticsearchWarning)\n"
     ]
    },
    {
     "name": "stdout",
     "output_type": "stream",
     "text": [
      "[2023-12-01 16:29:16][index_data](1) Indexed 60 documents.\n",
      "\n"
     ]
    },
    {
     "data": {
      "application/vnd.jupyter.widget-view+json": {
       "model_id": "ec52f5d7f23c4219909580f6eb06a04f",
       "version_major": 2,
       "version_minor": 0
      },
      "text/plain": [
       "  0%|          | 0/20 [00:00<?, ?it/s]"
      ]
     },
     "metadata": {},
     "output_type": "display_data"
    },
    {
     "name": "stdout",
     "output_type": "stream",
     "text": [
      "[2023-12-01 16:29:17][index_data](1) Indexed 80 documents.\n",
      "\n"
     ]
    },
    {
     "data": {
      "application/vnd.jupyter.widget-view+json": {
       "model_id": "aecc7a0d6ba74d88aeed002135f32ecc",
       "version_major": 2,
       "version_minor": 0
      },
      "text/plain": [
       "  0%|          | 0/20 [00:00<?, ?it/s]"
      ]
     },
     "metadata": {},
     "output_type": "display_data"
    },
    {
     "name": "stdout",
     "output_type": "stream",
     "text": [
      "[2023-12-01 16:29:18][index_data](1) Indexed 100 documents.\n",
      "\n"
     ]
    },
    {
     "data": {
      "application/vnd.jupyter.widget-view+json": {
       "model_id": "57742c58d619414dbd1e755605701917",
       "version_major": 2,
       "version_minor": 0
      },
      "text/plain": [
       "  0%|          | 0/20 [00:00<?, ?it/s]"
      ]
     },
     "metadata": {},
     "output_type": "display_data"
    },
    {
     "name": "stderr",
     "output_type": "stream",
     "text": [
      "/MOCOMSYS/anaconda3/envs/bong/lib/python3.9/site-packages/elasticsearch/connection/base.py:200: ElasticsearchWarning: Elasticsearch built-in security features are not enabled. Without authentication, your cluster could be accessible to anyone. See https://www.elastic.co/guide/en/elasticsearch/reference/7.17/security-minimal-setup.html to enable security.\n",
      "  warnings.warn(message, category=ElasticsearchWarning)\n"
     ]
    },
    {
     "name": "stdout",
     "output_type": "stream",
     "text": [
      "[2023-12-01 16:29:19][index_data](1) Indexed 120 documents.\n",
      "\n"
     ]
    },
    {
     "data": {
      "application/vnd.jupyter.widget-view+json": {
       "model_id": "0d01695b770b435ba40b22a933565e22",
       "version_major": 2,
       "version_minor": 0
      },
      "text/plain": [
       "  0%|          | 0/20 [00:00<?, ?it/s]"
      ]
     },
     "metadata": {},
     "output_type": "display_data"
    },
    {
     "name": "stderr",
     "output_type": "stream",
     "text": [
      "/MOCOMSYS/anaconda3/envs/bong/lib/python3.9/site-packages/elasticsearch/connection/base.py:200: ElasticsearchWarning: Elasticsearch built-in security features are not enabled. Without authentication, your cluster could be accessible to anyone. See https://www.elastic.co/guide/en/elasticsearch/reference/7.17/security-minimal-setup.html to enable security.\n",
      "  warnings.warn(message, category=ElasticsearchWarning)\n"
     ]
    },
    {
     "name": "stdout",
     "output_type": "stream",
     "text": [
      "[2023-12-01 16:29:19][index_data](1) Indexed 140 documents.\n",
      "\n"
     ]
    },
    {
     "data": {
      "application/vnd.jupyter.widget-view+json": {
       "model_id": "1b6d2157728b4902813dd1f402c12992",
       "version_major": 2,
       "version_minor": 0
      },
      "text/plain": [
       "  0%|          | 0/20 [00:00<?, ?it/s]"
      ]
     },
     "metadata": {},
     "output_type": "display_data"
    },
    {
     "name": "stderr",
     "output_type": "stream",
     "text": [
      "/MOCOMSYS/anaconda3/envs/bong/lib/python3.9/site-packages/elasticsearch/connection/base.py:200: ElasticsearchWarning: Elasticsearch built-in security features are not enabled. Without authentication, your cluster could be accessible to anyone. See https://www.elastic.co/guide/en/elasticsearch/reference/7.17/security-minimal-setup.html to enable security.\n",
      "  warnings.warn(message, category=ElasticsearchWarning)\n"
     ]
    },
    {
     "name": "stdout",
     "output_type": "stream",
     "text": [
      "[2023-12-01 16:29:20][index_data](1) Indexed 160 documents.\n",
      "\n"
     ]
    },
    {
     "data": {
      "application/vnd.jupyter.widget-view+json": {
       "model_id": "923598c23e2e4715afba302d7ea81d9d",
       "version_major": 2,
       "version_minor": 0
      },
      "text/plain": [
       "  0%|          | 0/20 [00:00<?, ?it/s]"
      ]
     },
     "metadata": {},
     "output_type": "display_data"
    },
    {
     "name": "stderr",
     "output_type": "stream",
     "text": [
      "/MOCOMSYS/anaconda3/envs/bong/lib/python3.9/site-packages/elasticsearch/connection/base.py:200: ElasticsearchWarning: Elasticsearch built-in security features are not enabled. Without authentication, your cluster could be accessible to anyone. See https://www.elastic.co/guide/en/elasticsearch/reference/7.17/security-minimal-setup.html to enable security.\n",
      "  warnings.warn(message, category=ElasticsearchWarning)\n"
     ]
    },
    {
     "name": "stdout",
     "output_type": "stream",
     "text": [
      "[2023-12-01 16:29:21][index_data](1) Indexed 180 documents.\n",
      "\n"
     ]
    },
    {
     "data": {
      "application/vnd.jupyter.widget-view+json": {
       "model_id": "0bf682aa9ce245aa8e961ea6db17ba5b",
       "version_major": 2,
       "version_minor": 0
      },
      "text/plain": [
       "  0%|          | 0/20 [00:00<?, ?it/s]"
      ]
     },
     "metadata": {},
     "output_type": "display_data"
    },
    {
     "name": "stderr",
     "output_type": "stream",
     "text": [
      "/MOCOMSYS/anaconda3/envs/bong/lib/python3.9/site-packages/elasticsearch/connection/base.py:200: ElasticsearchWarning: Elasticsearch built-in security features are not enabled. Without authentication, your cluster could be accessible to anyone. See https://www.elastic.co/guide/en/elasticsearch/reference/7.17/security-minimal-setup.html to enable security.\n",
      "  warnings.warn(message, category=ElasticsearchWarning)\n"
     ]
    },
    {
     "name": "stdout",
     "output_type": "stream",
     "text": [
      "[2023-12-01 16:29:22][index_data](1) Indexed 200 documents.\n",
      "\n"
     ]
    },
    {
     "data": {
      "application/vnd.jupyter.widget-view+json": {
       "model_id": "90525be24bba4348b94fc7e6d0281ccf",
       "version_major": 2,
       "version_minor": 0
      },
      "text/plain": [
       "  0%|          | 0/20 [00:00<?, ?it/s]"
      ]
     },
     "metadata": {},
     "output_type": "display_data"
    },
    {
     "name": "stderr",
     "output_type": "stream",
     "text": [
      "/MOCOMSYS/anaconda3/envs/bong/lib/python3.9/site-packages/elasticsearch/connection/base.py:200: ElasticsearchWarning: Elasticsearch built-in security features are not enabled. Without authentication, your cluster could be accessible to anyone. See https://www.elastic.co/guide/en/elasticsearch/reference/7.17/security-minimal-setup.html to enable security.\n",
      "  warnings.warn(message, category=ElasticsearchWarning)\n"
     ]
    },
    {
     "name": "stdout",
     "output_type": "stream",
     "text": [
      "[2023-12-01 16:29:23][index_data](1) Indexed 220 documents.\n",
      "\n"
     ]
    },
    {
     "data": {
      "application/vnd.jupyter.widget-view+json": {
       "model_id": "9669becd60684c55afb5bed266801355",
       "version_major": 2,
       "version_minor": 0
      },
      "text/plain": [
       "  0%|          | 0/20 [00:00<?, ?it/s]"
      ]
     },
     "metadata": {},
     "output_type": "display_data"
    },
    {
     "name": "stderr",
     "output_type": "stream",
     "text": [
      "/MOCOMSYS/anaconda3/envs/bong/lib/python3.9/site-packages/elasticsearch/connection/base.py:200: ElasticsearchWarning: Elasticsearch built-in security features are not enabled. Without authentication, your cluster could be accessible to anyone. See https://www.elastic.co/guide/en/elasticsearch/reference/7.17/security-minimal-setup.html to enable security.\n",
      "  warnings.warn(message, category=ElasticsearchWarning)\n"
     ]
    },
    {
     "name": "stdout",
     "output_type": "stream",
     "text": [
      "[2023-12-01 16:29:24][index_data](1) Indexed 240 documents.\n",
      "\n"
     ]
    },
    {
     "data": {
      "application/vnd.jupyter.widget-view+json": {
       "model_id": "3ae22d30ccf24df7878dbccec578759f",
       "version_major": 2,
       "version_minor": 0
      },
      "text/plain": [
       "  0%|          | 0/20 [00:00<?, ?it/s]"
      ]
     },
     "metadata": {},
     "output_type": "display_data"
    },
    {
     "name": "stdout",
     "output_type": "stream",
     "text": [
      "[2023-12-01 16:29:24][index_data](1) Indexed 260 documents.\n",
      "\n"
     ]
    },
    {
     "data": {
      "application/vnd.jupyter.widget-view+json": {
       "model_id": "f25d5ed1fbd24c029eb645b0c5993f4e",
       "version_major": 2,
       "version_minor": 0
      },
      "text/plain": [
       "  0%|          | 0/20 [00:00<?, ?it/s]"
      ]
     },
     "metadata": {},
     "output_type": "display_data"
    },
    {
     "name": "stdout",
     "output_type": "stream",
     "text": [
      "[2023-12-01 16:29:25][index_data](1) Indexed 280 documents.\n",
      "\n"
     ]
    },
    {
     "data": {
      "application/vnd.jupyter.widget-view+json": {
       "model_id": "74c0f2a207ec414b912596fdf49abb75",
       "version_major": 2,
       "version_minor": 0
      },
      "text/plain": [
       "  0%|          | 0/20 [00:00<?, ?it/s]"
      ]
     },
     "metadata": {},
     "output_type": "display_data"
    },
    {
     "name": "stdout",
     "output_type": "stream",
     "text": [
      "[2023-12-01 16:29:26][index_data](1) Indexed 300 documents.\n",
      "\n"
     ]
    },
    {
     "data": {
      "application/vnd.jupyter.widget-view+json": {
       "model_id": "c95f15faa7994ede9fcdd82a856ba50a",
       "version_major": 2,
       "version_minor": 0
      },
      "text/plain": [
       "  0%|          | 0/20 [00:00<?, ?it/s]"
      ]
     },
     "metadata": {},
     "output_type": "display_data"
    },
    {
     "name": "stdout",
     "output_type": "stream",
     "text": [
      "[2023-12-01 16:29:26][index_data](1) Indexed 320 documents.\n",
      "\n"
     ]
    },
    {
     "data": {
      "application/vnd.jupyter.widget-view+json": {
       "model_id": "c6ddfea2a1e1461e82b6e23a58e1300b",
       "version_major": 2,
       "version_minor": 0
      },
      "text/plain": [
       "  0%|          | 0/20 [00:00<?, ?it/s]"
      ]
     },
     "metadata": {},
     "output_type": "display_data"
    },
    {
     "name": "stdout",
     "output_type": "stream",
     "text": [
      "[2023-12-01 16:29:27][index_data](1) Indexed 340 documents.\n",
      "\n"
     ]
    },
    {
     "data": {
      "application/vnd.jupyter.widget-view+json": {
       "model_id": "189b93b3b9e0490b85a2b2a225961d24",
       "version_major": 2,
       "version_minor": 0
      },
      "text/plain": [
       "  0%|          | 0/20 [00:00<?, ?it/s]"
      ]
     },
     "metadata": {},
     "output_type": "display_data"
    },
    {
     "name": "stdout",
     "output_type": "stream",
     "text": [
      "[2023-12-01 16:29:28][index_data](1) Indexed 360 documents.\n",
      "\n"
     ]
    },
    {
     "data": {
      "application/vnd.jupyter.widget-view+json": {
       "model_id": "0ed2f1967b074125aeb2aa3a28be5dfd",
       "version_major": 2,
       "version_minor": 0
      },
      "text/plain": [
       "  0%|          | 0/20 [00:00<?, ?it/s]"
      ]
     },
     "metadata": {},
     "output_type": "display_data"
    },
    {
     "name": "stdout",
     "output_type": "stream",
     "text": [
      "[2023-12-01 16:29:29][index_data](1) Indexed 380 documents.\n",
      "\n"
     ]
    },
    {
     "data": {
      "application/vnd.jupyter.widget-view+json": {
       "model_id": "37ad082822d94e2992c63e5f2d1342d9",
       "version_major": 2,
       "version_minor": 0
      },
      "text/plain": [
       "  0%|          | 0/20 [00:00<?, ?it/s]"
      ]
     },
     "metadata": {},
     "output_type": "display_data"
    },
    {
     "name": "stdout",
     "output_type": "stream",
     "text": [
      "[2023-12-01 16:29:29][index_data](1) Indexed 400 documents.\n",
      "\n"
     ]
    },
    {
     "data": {
      "application/vnd.jupyter.widget-view+json": {
       "model_id": "17ff0cb9dac24b3caa5267021fc09d8c",
       "version_major": 2,
       "version_minor": 0
      },
      "text/plain": [
       "  0%|          | 0/20 [00:00<?, ?it/s]"
      ]
     },
     "metadata": {},
     "output_type": "display_data"
    },
    {
     "name": "stdout",
     "output_type": "stream",
     "text": [
      "[2023-12-01 16:29:30][index_data](1) Indexed 420 documents.\n",
      "\n"
     ]
    },
    {
     "data": {
      "application/vnd.jupyter.widget-view+json": {
       "model_id": "168269c9c6e946339df1a2289deb1979",
       "version_major": 2,
       "version_minor": 0
      },
      "text/plain": [
       "  0%|          | 0/20 [00:00<?, ?it/s]"
      ]
     },
     "metadata": {},
     "output_type": "display_data"
    },
    {
     "name": "stderr",
     "output_type": "stream",
     "text": [
      "/MOCOMSYS/anaconda3/envs/bong/lib/python3.9/site-packages/elasticsearch/connection/base.py:200: ElasticsearchWarning: Elasticsearch built-in security features are not enabled. Without authentication, your cluster could be accessible to anyone. See https://www.elastic.co/guide/en/elasticsearch/reference/7.17/security-minimal-setup.html to enable security.\n",
      "  warnings.warn(message, category=ElasticsearchWarning)\n"
     ]
    },
    {
     "name": "stdout",
     "output_type": "stream",
     "text": [
      "[2023-12-01 16:29:31][index_data](1) Indexed 440 documents.\n",
      "\n"
     ]
    },
    {
     "data": {
      "application/vnd.jupyter.widget-view+json": {
       "model_id": "a4cbc4baddd04f64b5b506f9672f1498",
       "version_major": 2,
       "version_minor": 0
      },
      "text/plain": [
       "  0%|          | 0/20 [00:00<?, ?it/s]"
      ]
     },
     "metadata": {},
     "output_type": "display_data"
    },
    {
     "name": "stdout",
     "output_type": "stream",
     "text": [
      "[2023-12-01 16:29:32][index_data](1) Indexed 460 documents.\n",
      "\n"
     ]
    },
    {
     "data": {
      "application/vnd.jupyter.widget-view+json": {
       "model_id": "a801c4ce4cff48aeacc3aff1a390acb9",
       "version_major": 2,
       "version_minor": 0
      },
      "text/plain": [
       "  0%|          | 0/20 [00:00<?, ?it/s]"
      ]
     },
     "metadata": {},
     "output_type": "display_data"
    },
    {
     "name": "stdout",
     "output_type": "stream",
     "text": [
      "[2023-12-01 16:29:32][index_data](1) Indexed 480 documents.\n",
      "\n"
     ]
    },
    {
     "data": {
      "application/vnd.jupyter.widget-view+json": {
       "model_id": "7cd8d4a582134c4ebadaafc4805f381e",
       "version_major": 2,
       "version_minor": 0
      },
      "text/plain": [
       "  0%|          | 0/20 [00:00<?, ?it/s]"
      ]
     },
     "metadata": {},
     "output_type": "display_data"
    },
    {
     "name": "stderr",
     "output_type": "stream",
     "text": [
      "/MOCOMSYS/anaconda3/envs/bong/lib/python3.9/site-packages/elasticsearch/connection/base.py:200: ElasticsearchWarning: Elasticsearch built-in security features are not enabled. Without authentication, your cluster could be accessible to anyone. See https://www.elastic.co/guide/en/elasticsearch/reference/7.17/security-minimal-setup.html to enable security.\n",
      "  warnings.warn(message, category=ElasticsearchWarning)\n"
     ]
    },
    {
     "name": "stdout",
     "output_type": "stream",
     "text": [
      "[2023-12-01 16:29:33][index_data](1) Indexed 500 documents.\n",
      "\n"
     ]
    },
    {
     "data": {
      "application/vnd.jupyter.widget-view+json": {
       "model_id": "800d56e61a5e45848fecc6eeb2efbe5a",
       "version_major": 2,
       "version_minor": 0
      },
      "text/plain": [
       "  0%|          | 0/20 [00:00<?, ?it/s]"
      ]
     },
     "metadata": {},
     "output_type": "display_data"
    },
    {
     "name": "stdout",
     "output_type": "stream",
     "text": [
      "[2023-12-01 16:29:34][index_data](1) Indexed 520 documents.\n",
      "\n"
     ]
    },
    {
     "data": {
      "application/vnd.jupyter.widget-view+json": {
       "model_id": "ba1686a88fce4aee8c7c868e05772c3c",
       "version_major": 2,
       "version_minor": 0
      },
      "text/plain": [
       "  0%|          | 0/20 [00:00<?, ?it/s]"
      ]
     },
     "metadata": {},
     "output_type": "display_data"
    },
    {
     "name": "stdout",
     "output_type": "stream",
     "text": [
      "[2023-12-01 16:29:35][index_data](1) Indexed 540 documents.\n",
      "\n"
     ]
    },
    {
     "data": {
      "application/vnd.jupyter.widget-view+json": {
       "model_id": "922f59e6e9d8489f9fe11039d1626967",
       "version_major": 2,
       "version_minor": 0
      },
      "text/plain": [
       "  0%|          | 0/20 [00:00<?, ?it/s]"
      ]
     },
     "metadata": {},
     "output_type": "display_data"
    },
    {
     "name": "stderr",
     "output_type": "stream",
     "text": [
      "/MOCOMSYS/anaconda3/envs/bong/lib/python3.9/site-packages/elasticsearch/connection/base.py:200: ElasticsearchWarning: Elasticsearch built-in security features are not enabled. Without authentication, your cluster could be accessible to anyone. See https://www.elastic.co/guide/en/elasticsearch/reference/7.17/security-minimal-setup.html to enable security.\n",
      "  warnings.warn(message, category=ElasticsearchWarning)\n"
     ]
    },
    {
     "name": "stdout",
     "output_type": "stream",
     "text": [
      "[2023-12-01 16:29:36][index_data](1) Indexed 560 documents.\n",
      "\n"
     ]
    },
    {
     "data": {
      "application/vnd.jupyter.widget-view+json": {
       "model_id": "84c1eb3aaa4b4794ad7765cd7fa39379",
       "version_major": 2,
       "version_minor": 0
      },
      "text/plain": [
       "  0%|          | 0/20 [00:00<?, ?it/s]"
      ]
     },
     "metadata": {},
     "output_type": "display_data"
    },
    {
     "name": "stderr",
     "output_type": "stream",
     "text": [
      "/MOCOMSYS/anaconda3/envs/bong/lib/python3.9/site-packages/elasticsearch/connection/base.py:200: ElasticsearchWarning: Elasticsearch built-in security features are not enabled. Without authentication, your cluster could be accessible to anyone. See https://www.elastic.co/guide/en/elasticsearch/reference/7.17/security-minimal-setup.html to enable security.\n",
      "  warnings.warn(message, category=ElasticsearchWarning)\n"
     ]
    },
    {
     "name": "stdout",
     "output_type": "stream",
     "text": [
      "[2023-12-01 16:29:36][index_data](1) Indexed 580 documents.\n",
      "\n"
     ]
    },
    {
     "data": {
      "application/vnd.jupyter.widget-view+json": {
       "model_id": "a5e49504f061480798406418e1c51329",
       "version_major": 2,
       "version_minor": 0
      },
      "text/plain": [
       "  0%|          | 0/20 [00:00<?, ?it/s]"
      ]
     },
     "metadata": {},
     "output_type": "display_data"
    },
    {
     "name": "stderr",
     "output_type": "stream",
     "text": [
      "/MOCOMSYS/anaconda3/envs/bong/lib/python3.9/site-packages/elasticsearch/connection/base.py:200: ElasticsearchWarning: Elasticsearch built-in security features are not enabled. Without authentication, your cluster could be accessible to anyone. See https://www.elastic.co/guide/en/elasticsearch/reference/7.17/security-minimal-setup.html to enable security.\n",
      "  warnings.warn(message, category=ElasticsearchWarning)\n"
     ]
    },
    {
     "name": "stdout",
     "output_type": "stream",
     "text": [
      "[2023-12-01 16:29:37][index_data](1) Indexed 600 documents.\n",
      "\n"
     ]
    },
    {
     "data": {
      "application/vnd.jupyter.widget-view+json": {
       "model_id": "838a39e1bcb5445ab7b45222a450eb12",
       "version_major": 2,
       "version_minor": 0
      },
      "text/plain": [
       "  0%|          | 0/20 [00:00<?, ?it/s]"
      ]
     },
     "metadata": {},
     "output_type": "display_data"
    },
    {
     "name": "stdout",
     "output_type": "stream",
     "text": [
      "[2023-12-01 16:29:38][index_data](1) Indexed 620 documents.\n",
      "\n"
     ]
    },
    {
     "data": {
      "application/vnd.jupyter.widget-view+json": {
       "model_id": "d76a9013f29f4a05b19f6e1820e8048c",
       "version_major": 2,
       "version_minor": 0
      },
      "text/plain": [
       "  0%|          | 0/20 [00:00<?, ?it/s]"
      ]
     },
     "metadata": {},
     "output_type": "display_data"
    },
    {
     "name": "stderr",
     "output_type": "stream",
     "text": [
      "/MOCOMSYS/anaconda3/envs/bong/lib/python3.9/site-packages/elasticsearch/connection/base.py:200: ElasticsearchWarning: Elasticsearch built-in security features are not enabled. Without authentication, your cluster could be accessible to anyone. See https://www.elastic.co/guide/en/elasticsearch/reference/7.17/security-minimal-setup.html to enable security.\n",
      "  warnings.warn(message, category=ElasticsearchWarning)\n"
     ]
    },
    {
     "name": "stdout",
     "output_type": "stream",
     "text": [
      "[2023-12-01 16:29:38][index_data](1) Indexed 640 documents.\n",
      "\n"
     ]
    },
    {
     "data": {
      "application/vnd.jupyter.widget-view+json": {
       "model_id": "a49bdadeff7c4007ba1b40c946842680",
       "version_major": 2,
       "version_minor": 0
      },
      "text/plain": [
       "  0%|          | 0/20 [00:00<?, ?it/s]"
      ]
     },
     "metadata": {},
     "output_type": "display_data"
    },
    {
     "name": "stderr",
     "output_type": "stream",
     "text": [
      "/MOCOMSYS/anaconda3/envs/bong/lib/python3.9/site-packages/elasticsearch/connection/base.py:200: ElasticsearchWarning: Elasticsearch built-in security features are not enabled. Without authentication, your cluster could be accessible to anyone. See https://www.elastic.co/guide/en/elasticsearch/reference/7.17/security-minimal-setup.html to enable security.\n",
      "  warnings.warn(message, category=ElasticsearchWarning)\n"
     ]
    },
    {
     "name": "stdout",
     "output_type": "stream",
     "text": [
      "[2023-12-01 16:29:39][index_data](1) Indexed 660 documents.\n",
      "\n"
     ]
    },
    {
     "data": {
      "application/vnd.jupyter.widget-view+json": {
       "model_id": "07385cdeb27c4822bdab1418dd3ae8a1",
       "version_major": 2,
       "version_minor": 0
      },
      "text/plain": [
       "  0%|          | 0/20 [00:00<?, ?it/s]"
      ]
     },
     "metadata": {},
     "output_type": "display_data"
    },
    {
     "name": "stdout",
     "output_type": "stream",
     "text": [
      "[2023-12-01 16:29:40][index_data](1) Indexed 680 documents.\n",
      "\n"
     ]
    },
    {
     "data": {
      "application/vnd.jupyter.widget-view+json": {
       "model_id": "459d27df9bf7464cbe65901dcb97c925",
       "version_major": 2,
       "version_minor": 0
      },
      "text/plain": [
       "  0%|          | 0/20 [00:00<?, ?it/s]"
      ]
     },
     "metadata": {},
     "output_type": "display_data"
    },
    {
     "name": "stderr",
     "output_type": "stream",
     "text": [
      "/MOCOMSYS/anaconda3/envs/bong/lib/python3.9/site-packages/elasticsearch/connection/base.py:200: ElasticsearchWarning: Elasticsearch built-in security features are not enabled. Without authentication, your cluster could be accessible to anyone. See https://www.elastic.co/guide/en/elasticsearch/reference/7.17/security-minimal-setup.html to enable security.\n",
      "  warnings.warn(message, category=ElasticsearchWarning)\n"
     ]
    },
    {
     "name": "stdout",
     "output_type": "stream",
     "text": [
      "[2023-12-01 16:29:41][index_data](1) Indexed 700 documents.\n",
      "\n"
     ]
    },
    {
     "data": {
      "application/vnd.jupyter.widget-view+json": {
       "model_id": "ae955ec79aef464898fe560c9fea1ba9",
       "version_major": 2,
       "version_minor": 0
      },
      "text/plain": [
       "  0%|          | 0/20 [00:00<?, ?it/s]"
      ]
     },
     "metadata": {},
     "output_type": "display_data"
    },
    {
     "name": "stdout",
     "output_type": "stream",
     "text": [
      "[2023-12-01 16:29:42][index_data](1) Indexed 720 documents.\n",
      "\n"
     ]
    },
    {
     "data": {
      "application/vnd.jupyter.widget-view+json": {
       "model_id": "0a4153b562ad42bc80489ddf4910fecf",
       "version_major": 2,
       "version_minor": 0
      },
      "text/plain": [
       "  0%|          | 0/20 [00:00<?, ?it/s]"
      ]
     },
     "metadata": {},
     "output_type": "display_data"
    },
    {
     "name": "stderr",
     "output_type": "stream",
     "text": [
      "/MOCOMSYS/anaconda3/envs/bong/lib/python3.9/site-packages/elasticsearch/connection/base.py:200: ElasticsearchWarning: Elasticsearch built-in security features are not enabled. Without authentication, your cluster could be accessible to anyone. See https://www.elastic.co/guide/en/elasticsearch/reference/7.17/security-minimal-setup.html to enable security.\n",
      "  warnings.warn(message, category=ElasticsearchWarning)\n"
     ]
    },
    {
     "name": "stdout",
     "output_type": "stream",
     "text": [
      "[2023-12-01 16:29:42][index_data](1) Indexed 740 documents.\n",
      "\n"
     ]
    },
    {
     "data": {
      "application/vnd.jupyter.widget-view+json": {
       "model_id": "0d7a507e1ff642f79a5804e66983d17a",
       "version_major": 2,
       "version_minor": 0
      },
      "text/plain": [
       "  0%|          | 0/20 [00:00<?, ?it/s]"
      ]
     },
     "metadata": {},
     "output_type": "display_data"
    },
    {
     "name": "stdout",
     "output_type": "stream",
     "text": [
      "[2023-12-01 16:29:43][index_data](1) Indexed 760 documents.\n",
      "\n"
     ]
    },
    {
     "data": {
      "application/vnd.jupyter.widget-view+json": {
       "model_id": "de01fcad8145467fa36daabd4efa9614",
       "version_major": 2,
       "version_minor": 0
      },
      "text/plain": [
       "  0%|          | 0/20 [00:00<?, ?it/s]"
      ]
     },
     "metadata": {},
     "output_type": "display_data"
    },
    {
     "name": "stdout",
     "output_type": "stream",
     "text": [
      "[2023-12-01 16:29:44][index_data](1) Indexed 780 documents.\n",
      "\n"
     ]
    },
    {
     "data": {
      "application/vnd.jupyter.widget-view+json": {
       "model_id": "b8b85307271a407fb19f9395b24362e8",
       "version_major": 2,
       "version_minor": 0
      },
      "text/plain": [
       "  0%|          | 0/1 [00:00<?, ?it/s]"
      ]
     },
     "metadata": {},
     "output_type": "display_data"
    },
    {
     "name": "stdout",
     "output_type": "stream",
     "text": [
      "[2023-12-01 16:29:44][index_data](2) Indexed 781 documents.\n",
      "\n",
      "[2023-12-01 16:29:44]*인덱싱 시간 : 32.7799\n",
      "\n",
      "\n",
      "\n"
     ]
    }
   ],
   "source": [
    "# param--------------------------------------------------------------------\n",
    "OUT_DIMENSION =128   # 128 혹은 768이면 0입력\n",
    "EMBEDDING_METHOD=0  # 0=클러스터링 임베딩, 1=문장평균임베딩, 2=문장임베딩\n",
    "NUM_CLUSTERS=10     # 클러스터링 임베딩일때 클러스터링 수 \n",
    "NUM_CLUSTERS_VARIABLE=False # 클러스터링 임베딩일때 클러스터링을 문장계수마다 다르계할지.\n",
    "CLUSTRING_MODE = \"kmeans\"  # \"kmeans\" = k-평균 군집 분석, kmedoids =  k-대표값 군집 분석\n",
    "OUTMODE = \"mean\"           # kmeans 일때=>mean=평균임베딩값, max=최대임베딩값.,  kmedoids 일때 =>mean=평균임베딩값, medoid=대표임베딩값.\n",
    "\n",
    "MODEL_PATH = '../../../data11/model/kpf-sbert-128d-v1'#'../../../data11/model/kpf-sbert-v1.1'\n",
    "POLLING_MODE = 'mean' # 폴링모드 \n",
    "\n",
    "FLOAT_TYPE = 'float16' # float32 혹은 float16\n",
    "SEED = 111\n",
    "\n",
    "# ES 접속\n",
    "ES_URL = 'http://10.10.4.10:9200/'               # es 접속 주소\n",
    "ES_INDEX_NAME = 'qaindex_128_10'          # 생성혹은 추가할 인덱스 명\n",
    "ES_INDEX_FILE = './data/mpower10u_128d_10.json'   # 인덱스 구조 파일경로\n",
    "BATCH_SIZE=20       # ES 배치 사이즈\n",
    "CREATE_INDEX = True # True이면 기존에 인덱스가 있다면 제거하고 다시 생성.\n",
    "# param--------------------------------------------------------------------\n",
    "\n",
    "es = Elasticsearch(ES_URL)\n",
    "create_index(es, ES_INDEX_FILE, ES_INDEX_NAME, create=CREATE_INDEX)\n",
    "\n",
    "# 임베딩 모델 로딩\n",
    "WORD_EMBDDING_MODEL1, BI_ENCODER1 = bi_encoder(model_path=MODEL_PATH, max_seq_len=512, do_lower_case=True, \n",
    "                                               pooling_mode=POLLING_MODE, out_dimension=OUT_DIMENSION, device=DEVICE)\n",
    "\n",
    "print(BI_ENCODER1)\n",
    "print()\n",
    "try:\n",
    "    index_data(es, df_contexts, doc_sentences)\n",
    "except Exception as e:\n",
    "    error = f'index_data fail'\n",
    "    msg = f'{error}=>{e}'\n",
    "    myutils.log_message(f'/embed/es {msg}', log_folder='./log/documet')"
   ]
  },
  {
   "cell_type": "code",
   "execution_count": null,
   "id": "990059ea-bdc3-4328-9e0d-c2653cee6b17",
   "metadata": {},
   "outputs": [],
   "source": []
  }
 ],
 "metadata": {
  "kernelspec": {
   "display_name": "Python 3 (ipykernel)",
   "language": "python",
   "name": "python3"
  },
  "language_info": {
   "codemirror_mode": {
    "name": "ipython",
    "version": 3
   },
   "file_extension": ".py",
   "mimetype": "text/x-python",
   "name": "python",
   "nbconvert_exporter": "python",
   "pygments_lexer": "ipython3",
   "version": "3.9.7"
  }
 },
 "nbformat": 4,
 "nbformat_minor": 5
}

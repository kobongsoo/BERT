{
 "cells": [
  {
   "cell_type": "code",
   "execution_count": 5,
   "id": "9d132cd2-7af8-4dc3-9252-98bf413e01ff",
   "metadata": {},
   "outputs": [],
   "source": [
    "import re\n",
    "\n",
    "def detect_language(text):\n",
    "    \n",
    "    # 영어 문장 패턴\n",
    "    english_pattern = r'^[A-Za-z0-9\\s\\.\\'\\\",:;?!]+$'\n",
    "   \n",
    "    # 프로그램 언어 패턴\n",
    "    programming_pattern = r'^(function|def|if|else|elif|while|for|switch|case|break|continue|class|import|from|return|yield|printf|print|\\+|\\-|\\*|\\/|%|=|>|<|>=|<=|==|!=|\\(|\\)|\\{|\\}|\\[|\\])+$'\n",
    "    \n",
    "    # 입력된 문자열이 영어 문장인지 확인\n",
    "    if re.match(english_pattern, text):\n",
    "        return \"This is an English sentence.\"\n",
    "    # 입력된 문자열이 프로그램 언어인지 확인\n",
    "    elif re.match(programming_pattern, text):\n",
    "        return \"This is a programming language.\"\n",
    "    # 영어 문장도 아니고 프로그램 언어도 아닌 경우\n",
    "    else:\n",
    "        return \"Unknown language.\"\n"
   ]
  },
  {
   "cell_type": "code",
   "execution_count": 11,
   "id": "0fee5c5a-48a3-49f5-8639-24dea3c4e134",
   "metadata": {},
   "outputs": [],
   "source": [
    "def has_korean(text):\n",
    "    for char in text:\n",
    "        if '가' <= char <= '힣':\n",
    "            return True\n",
    "    return False"
   ]
  },
  {
   "cell_type": "code",
   "execution_count": 19,
   "id": "0709432b-7166-4a4f-88df-703aa7783f33",
   "metadata": {},
   "outputs": [],
   "source": [
    "def en_language(text):\n",
    "    # 영어 문장 패턴\n",
    "    english_pattern = r'^[A-Za-z0-9\\s\\.\\'\\\",:;?!]+$'\n",
    "    # 입력된 문자열이 영어 문장인지 확인\n",
    "    if re.match(english_pattern, text):\n",
    "        return True\n",
    "    return False"
   ]
  },
  {
   "cell_type": "code",
   "execution_count": 20,
   "id": "715974ec-eecf-42a8-baad-00ef86ca4977",
   "metadata": {},
   "outputs": [
    {
     "name": "stdout",
     "output_type": "stream",
     "text": [
      "모르는 형태 문장\n"
     ]
    }
   ],
   "source": [
    "text = 'UPDATE TABLE SET PUB_ID = '''\n",
    "if has_korean(text) == False:\n",
    "    if en_language(text) == True:\n",
    "        print('영어 문장')\n",
    "    else:\n",
    "        print('모르는 형태 문장')\n",
    "else:\n",
    "    print('한국어 문장')"
   ]
  },
  {
   "cell_type": "code",
   "execution_count": null,
   "id": "b0fa2a69-4f7a-440c-808d-676a6f7f0a0a",
   "metadata": {},
   "outputs": [],
   "source": []
  }
 ],
 "metadata": {
  "kernelspec": {
   "display_name": "Python 3 (ipykernel)",
   "language": "python",
   "name": "python3"
  },
  "language_info": {
   "codemirror_mode": {
    "name": "ipython",
    "version": 3
   },
   "file_extension": ".py",
   "mimetype": "text/x-python",
   "name": "python",
   "nbconvert_exporter": "python",
   "pygments_lexer": "ipython3",
   "version": "3.9.7"
  }
 },
 "nbformat": 4,
 "nbformat_minor": 5
}

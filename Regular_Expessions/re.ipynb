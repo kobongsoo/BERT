{
 "cells": [
  {
   "cell_type": "code",
   "execution_count": 1,
   "id": "049b7429-fce6-4268-a221-fb4131a5f037",
   "metadata": {},
   "outputs": [],
   "source": [
    "#############################################################################\n",
    "# regular express를 이용한 말뭉치 정재하기\n",
    "#\n",
    "#############################################################################\n",
    "# 정규화할 인자들\n",
<<<<<<< HEAD
    "alphabetP=True           # False=알바벳 제거\n",
    "numberP=True             # False=숫자제거\n",
    "punctuationP=False       # False=특수문자 (, . ? !) 제거\n",
    "symbolP=False            # False=괄호((), [], {}, ], ')등 제거\n",
    "repeat_numP=True        # False=반복되는 숫자+공백 제거 \n",
    "remove_start_stringP=False     # False=해당 패턴으로 시작하는 문장 제거\n",
    "remove_search_stringP=False     # False=해당 패턴 포함하는 문장 제거\n",
=======
    "alphabetP=True            # False=알바벳 제거\n",
    "numberP=True             # False=숫자제거\n",
    "punctuationP=False       # False=특수문자 (, . ? !) 제거\n",
    "symbolP=False            # False=괄호((), [], {}, ], ')등 제거\n",
>>>>>>> 56f09202397e4f6f7e070c90b8b85b03123ddd0a
    "\n",
    "# 4번이상 반복되는 단어 중복 제거 (remove_repeat_wordP=2 : 2번만 호출)\n",
    "# => 예: 안녕안녕안녕안녕 => 안녕안녕, 안녕 안녕 안녕 안녕 => 그대로(*띄어쓰기한 단어는 중복제거 안됨)\n",
    "remove_repeat_wordP=2     \n",
    "\n",
    "# 4번이상 반복되는 문자 중복 제거 (nremove_repeat_charP=2 : 2번만 호출)\n",
    "# => 예: aaaaa => aa, aaa aaa aaa aaa => 그대로(*띄어쓰기한 문자는 중복제거 안됨)\n",
    "remove_repeat_charP=2\n",
    "\n",
    "# 정규화할 입력 text\n",
<<<<<<< HEAD
    "in_txt_path = '../../data11/my_corpus/kowiki-202206.txt'\n",
    "#in_txt_path = '../../../korpora/moco/test-60.txt'\n",
    "\n",
    "# 출력 text\n",
    "out_txt_path = '../../data11/my_corpus/re-kowiki-202206.txt'\n",
=======
    "in_txt_path = '../../../korpora/kowiki/kowiki-202206-nlp-corpus.txt'\n",
    "#in_txt_path = '../../../korpora/moco/test-60.txt'\n",
    "\n",
    "# 출력 text\n",
    "out_txt_path = '../../../korpora/kowiki/re-kowiki-202206-nlp-corpus.txt'\n",
>>>>>>> 56f09202397e4f6f7e070c90b8b85b03123ddd0a
    "\n",
    "# 삭제할 최대 길이 문장\n",
    "remove_min_len = 30 # 20이면 20보다 작은문장은 제거함\n",
    "\n",
    "remove_max_len = 600 # 1000자 보다 큰 문장은 제거함\n",
    "\n",
    "print_count = 100000 # 10000번째마다 문장 출력해봄"
   ]
  },
  {
   "cell_type": "code",
   "execution_count": 2,
   "id": "de26396d-627d-487b-8732-44aa16668a8f",
   "metadata": {},
   "outputs": [],
   "source": [
    "# reqular 함수들 정의 \n",
<<<<<<< HEAD
    "\n",
    "# \\d\t숫자 [0-9]와 같다.\n",
    "# \\D\t비숫자 [^0-9]와 같다.\n",
    "# \\w\t숫자 + 문자 [a-zA-Z0-9]와 같다.\n",
    "# \\W\t숫자 + 문자가 아닌 것 [^a-zA-Z0-9]와 같다.\n",
    "# \\s\t공백 [ \\t\\n\\r\\f\\v]와 같다.\n",
    "# \\S\t비공백 [^ \\t\\n\\r\\f\\v]와 같다.\n",
    "# \\b\t단어 경계 (`\\w`와 `\\W`의 경계)\n",
    "# \\B\t비단어 경계\n",
    "\n",
=======
>>>>>>> 56f09202397e4f6f7e070c90b8b85b03123ddd0a
    "import re\n",
    "\n",
    "doublespace_pattern = re.compile('\\s+')\n",
    "repeatchars_pattern = re.compile('(\\w)\\\\1{3,}')\n",
    "number_pattern = re.compile('[0-9]')\n",
    "punctuation_pattern = re.compile('[,\\.\\?\\!]')\n",
    "symbol_pattern = re.compile('[()\\[\\]\\{\\}`]')\n",
    "hangle_pattern = re.compile('[ㄱ-ㅎㅏ-ㅣ가-힣]')\n",
    "alphabet_pattern = re.compile('[a-zA-Z]')\n",
    "\n",
    "hangle_filter = re.compile('[^ㄱ-ㅎㅏ-ㅣ가-힣]')\n",
    "hangle_number_filter = re.compile('[^ㄱ-ㅎㅏ-ㅣ가-힣0-9]')\n",
    "text_filter = re.compile('[^ㄱ-ㅎㅏ-ㅣ가-힣a-zA-Z0-9,\\.\\?\\!\\\"\\'-()\\[\\]\\{\\}]')\n",
    "\n",
<<<<<<< HEAD
    "# 반복되는 숫자+띄어쓰기 패턴 제거 => 예: 12 13 14 11, 1 2 3 4 \n",
    "repeat_number_pattern = [\n",
    "    re.compile('\\d\\d\\s\\d\\s'),\n",
    "    re.compile('\\d\\s\\d\\d\\s'),\n",
    "    re.compile('\\d\\d\\s\\d\\d\\s'),\n",
    "    re.compile('\\d\\s\\d\\s'),\n",
    "]\n",
    "\n",
    "# 아래 패턴으로 시작하는 문장은 제거함\n",
    "# => 시작 문장이 아래 패턴이어야 함, 중간에 있는 경우 제거 안됨\n",
    "# => match 사용\n",
    "start_string_list = [\n",
    "    re.compile(\"UPDATE \", re.IGNORECASE),\n",
    "    re.compile(\"ALTER \", re.IGNORECASE),\n",
    "    re.compile(\"CREATE \", re.IGNORECASE),  \n",
    "    re.compile(\"IX A F\", re.IGNORECASE), \n",
    "    re.compile(\"INPUTQM \", re.IGNORECASE), \n",
    "    re.compile('echo \" ', re.IGNORECASE), \n",
    "    re.compile('MQCMD \" ', re.IGNORECASE), \n",
    "    re.compile('COMMENT ON \" ', re.IGNORECASE), \n",
    "    re.compile('FCFD'),\n",
    "    re.compile('FFLD'),\n",
    "    re.compile('ELSIF'),\n",
    "    re.compile('ELEMENT ERR'),\n",
    "    re.compile('BMSUSER IX'),\n",
    "    re.compile('PK A ADJ'),\n",
    "    re.compile('WMQ File'),\n",
    "    re.compile('IBM SMART ANALYTICS'),\n",
    "    re.compile('KHUB KIC'),  \n",
    "    re.compile('V 0x'),   \n",
    "    re.compile('PK A '),    \n",
    "    re.compile('N4 A '),    \n",
    "   \n",
    "    \n",
    "]\n",
    "\n",
    "# 아래 패턴을 포함하는 문장은 제거함\n",
    "# => search 사용\n",
    "search_string_list = [\n",
    "    re.compile(\"SQL SELECT \", re.IGNORECASE), # re.IGNORECASE = 대.소문자 구분 안함\n",
    "    re.compile('SELECT COUNT ', re.IGNORECASE),\n",
    "    re.compile(\"INSERT INTO \", re.IGNORECASE), \n",
    "    re.compile(\"SELECT FROM \", re.IGNORECASE),\n",
    "    re.compile(\"SELECT LOG \", re.IGNORECASE),\n",
    "    re.compile(\"SELECT STR \", re.IGNORECASE),\n",
    "    re.compile(\"DELETE FROM \", re.IGNORECASE),\n",
    "    re.compile('CString ', re.IGNORECASE), \n",
    "    re.compile('ULONG ', re.IGNORECASE), \n",
    "    re.compile('ULONGLONG \" ', re.IGNORECASE), \n",
    "    re.compile('PUCHAR \" ', re.IGNORECASE), \n",
    "    re.compile('VARCHAR ', re.IGNORECASE), \n",
    "    re.compile('ONLTEAISO ', re.IGNORECASE), \n",
    "    re.compile('EAI TRNS ', re.IGNORECASE), \n",
    "    re.compile('COMMENT ON ', re.IGNORECASE), \n",
    "    re.compile('DEFINE PROCESS ', re.IGNORECASE), \n",
    "    re.compile('EXEC SQL ', re.IGNORECASE), \n",
    "    re.compile('REPLACE DTL ', re.IGNORECASE), \n",
    "    re.compile(' Exception e ', re.IGNORECASE), \n",
    "    re.compile(' CASE WHEN ', re.IGNORECASE),  \n",
    "    re.compile('public void ', re.IGNORECASE),  \n",
    "    re.compile('DWORD ', re.IGNORECASE),  \n",
    "    re.compile('DEBUG ', re.IGNORECASE),    \n",
    "]\n",
    "\n",
=======
>>>>>>> 56f09202397e4f6f7e070c90b8b85b03123ddd0a
    "##========================================================================\n",
    "# 4번이상 반복되는 단어 중복 제거 (num_repeat=2 : 2번만 호출)\n",
    "# => 예: 안녕안녕안녕안녕 => 안녕안녕, 안녕 안녕 안녕 안녕 => 그대로(*띄어쓰기한 단어는 중복제거 안됨)\n",
    "repeatchars_patterns = [\n",
    "    re.compile('(\\w\\w\\w\\w)\\\\1{3,}'),\n",
    "    re.compile('(\\w\\w\\w)\\\\1{3,}'),\n",
    "    re.compile('(\\w\\w)\\\\1{3,}'),\n",
    "    re.compile('(\\w)\\\\1{3,}')\n",
    "]\n",
    "\n",
    "def normalizetoken(sentence, num_repeat=2):\n",
    "    tokens = sentence.split()\n",
    "    return ' '.join(_normalize_korean_token(token, num_repeat) for token in tokens)\n",
    "\n",
    "def _normalize_korean_token(token, num_repeat=2):\n",
    "    #print(token)\n",
    "    #token = _normalize_emoji(token)\n",
    "    token = _remove_repeat(token, num_repeat)\n",
    "    return token\n",
    "\n",
    "def _remove_repeat(token, num_repeat=2):\n",
    "    if num_repeat > 0:\n",
    "        for pattern in repeatchars_patterns:\n",
    "            #print(pattern)\n",
    "            token = pattern.sub('\\\\1' * num_repeat, token)\n",
    "    return token\n",
    "##========================================================================\n",
    "\n",
    "\n",
    "def normalize(sentence, \n",
    "              alphabet=False, \n",
    "              number=False,\n",
    "              punctuation=False, \n",
    "              symbol=False, \n",
<<<<<<< HEAD
    "              repeat_num=False,\n",
    "              remove_start_string=False,\n",
    "              remove_search_string=False,\n",
=======
>>>>>>> 56f09202397e4f6f7e070c90b8b85b03123ddd0a
    "              remove_repeat_word=0, \n",
    "              remove_repeat_char=0):\n",
    "\n",
    "    sentence = text_filter.sub(' ', sentence)\n",
    "    \n",
<<<<<<< HEAD
    "    # 패턴으로 시작하는 문장은 제거함\n",
    "    # =>**만약 시작패턴이 아니라 중간에 있는 패턴도 제거하려면 match=>search 사용\n",
    "    if not remove_start_string:\n",
    "        for pattern in start_string_list:\n",
    "            result = pattern.match(sentence)\n",
    "            if result != None:\n",
    "                 return None\n",
    "    \n",
    "    # 패턴이 포함된 문장은 제거함=>search 사용\n",
    "    if not remove_search_string:\n",
    "        for pattern in search_string_list:\n",
    "            result = pattern.search(sentence)\n",
    "            if result != None:\n",
    "                 return None\n",
    "                \n",
    "    if not alphabet:\n",
    "        sentence = alphabet_pattern.sub(' ', sentence)\n",
    "        \n",
    "    if not number:\n",
    "        sentence = number_pattern.sub(' ', sentence)\n",
    "        \n",
    "    if not punctuation:\n",
    "        sentence = punctuation_pattern.sub(' ', sentence)\n",
    "        \n",
    "    if not symbol:\n",
    "        sentence = symbol_pattern.sub(' ', sentence)\n",
    "        \n",
    "    if not repeat_num:\n",
    "        for num_pattern in repeat_number_pattern:\n",
    "             sentence = num_pattern.sub(' ', sentence)\n",
    "            \n",
=======
    "    if not alphabet:\n",
    "        sentence = alphabet_pattern.sub(' ', sentence)\n",
    "    if not number:\n",
    "        sentence = number_pattern.sub(' ', sentence)\n",
    "    if not punctuation:\n",
    "        sentence = punctuation_pattern.sub(' ', sentence)\n",
    "    if not symbol:\n",
    "        sentence = symbol_pattern.sub(' ', sentence)\n",
>>>>>>> 56f09202397e4f6f7e070c90b8b85b03123ddd0a
    "    if remove_repeat_char > 0:\n",
    "        sentence = repeatchars_pattern.sub('\\\\1' * remove_repeat_char, sentence)\n",
    "        \n",
    "    if remove_repeat_word > 0:\n",
    "        sentence = normalizetoken(sentence, num_repeat=remove_repeat_word)\n",
    "        \n",
    "    return doublespace_pattern.sub(' ', sentence).strip()"
   ]
  },
  {
   "cell_type": "code",
   "execution_count": 3,
   "id": "0ba3e377-e63e-41b6-b72e-e724a17e30ac",
   "metadata": {},
   "outputs": [],
   "source": [
    "## yield 를 이용하여 generator 함수 정의    \n",
    "def get_generator_corpus(data, max_len: int=100000):\n",
    "    \n",
    "    #dataset = data\n",
    "    dataset = list(set(data)) # ****중복 문장 제거(*순서 유지 안함)\n",
    "    \n",
    "    for start_idx in range(0, len(dataset), max_len):\n",
    "        samples = dataset[start_idx : start_idx + max_len]\n",
    "        yield samples"
   ]
  },
  {
   "cell_type": "code",
   "execution_count": 4,
   "id": "6ccffa2c-71e7-4b6c-8dec-19c5dcb2a268",
   "metadata": {},
   "outputs": [
    {
     "data": {
      "application/vnd.jupyter.widget-view+json": {
<<<<<<< HEAD
       "model_id": "eb61e839f60e412eb3c3bce8364616b3",
=======
       "model_id": "d43be12bc48146bfb5cbca9c83296104",
       "version_major": 2,
       "version_minor": 0
      },
      "text/plain": [
       "  0%|          | 0/100000 [00:00<?, ?it/s]"
      ]
     },
     "metadata": {},
     "output_type": "display_data"
    },
    {
     "name": "stdout",
     "output_type": "stream",
     "text": [
      "[100000]종전 패자조 결승과 최종 결승에 적용되었던 5전 3선승제를 패자 준결승전 승자결승부터 적용했다\n"
     ]
    },
    {
     "data": {
      "application/vnd.jupyter.widget-view+json": {
       "model_id": "bdeeaa95dba641daa5060796b592ce17",
       "version_major": 2,
       "version_minor": 0
      },
      "text/plain": [
       "  0%|          | 0/100000 [00:00<?, ?it/s]"
      ]
     },
     "metadata": {},
     "output_type": "display_data"
    },
    {
     "name": "stdout",
     "output_type": "stream",
     "text": [
      "[200000]또 2006년 12월에 내부를 다시 개장했다\n"
     ]
    },
    {
     "data": {
      "application/vnd.jupyter.widget-view+json": {
       "model_id": "babc1cf3d8a44a6db63827e61977d003",
       "version_major": 2,
       "version_minor": 0
      },
      "text/plain": [
       "  0%|          | 0/100000 [00:00<?, ?it/s]"
      ]
     },
     "metadata": {},
     "output_type": "display_data"
    },
    {
     "name": "stdout",
     "output_type": "stream",
     "text": [
      "[300000]1896년에 빛에 대한 자장의 영향을 연구하여 제이만 효과를 발견했다\n"
     ]
    },
    {
     "data": {
      "application/vnd.jupyter.widget-view+json": {
       "model_id": "f5c5b74ebb2a4748ada800adeadd3ca0",
       "version_major": 2,
       "version_minor": 0
      },
      "text/plain": [
       "  0%|          | 0/100000 [00:00<?, ?it/s]"
      ]
     },
     "metadata": {},
     "output_type": "display_data"
    },
    {
     "name": "stdout",
     "output_type": "stream",
     "text": [
      "[400000]처음 200대는 첫 번째 차량이 인도되기 전에 매진되었다\n"
     ]
    },
    {
     "data": {
      "application/vnd.jupyter.widget-view+json": {
       "model_id": "0d2be2a7577c4ee1b38bcba9a01f5987",
       "version_major": 2,
       "version_minor": 0
      },
      "text/plain": [
       "  0%|          | 0/100000 [00:00<?, ?it/s]"
      ]
     },
     "metadata": {},
     "output_type": "display_data"
    },
    {
     "name": "stdout",
     "output_type": "stream",
     "text": [
      "[500000]14세기에 들어 하프스 왕조는 침체를 겪는다\n"
     ]
    },
    {
     "data": {
      "application/vnd.jupyter.widget-view+json": {
       "model_id": "1b67929d88b34623b7ca536a25751bd6",
       "version_major": 2,
       "version_minor": 0
      },
      "text/plain": [
       "  0%|          | 0/100000 [00:00<?, ?it/s]"
      ]
     },
     "metadata": {},
     "output_type": "display_data"
    },
    {
     "name": "stdout",
     "output_type": "stream",
     "text": [
      "[600000]Channel MQZAO CREATE 2 on page 73\n"
     ]
    },
    {
     "data": {
      "application/vnd.jupyter.widget-view+json": {
       "model_id": "bb08d5e771064fbc9aec0a7c2f8ac84c",
       "version_major": 2,
       "version_minor": 0
      },
      "text/plain": [
       "  0%|          | 0/100000 [00:00<?, ?it/s]"
      ]
     },
     "metadata": {},
     "output_type": "display_data"
    },
    {
     "name": "stdout",
     "output_type": "stream",
     "text": [
      "[700000]Ensure that the scrolling settings the maximum number ofcategories and the maximum number of series are large enough to cover thescope of the entire report results\n"
     ]
    },
    {
     "data": {
      "application/vnd.jupyter.widget-view+json": {
       "model_id": "ac23dd2771f64b7f8ffacab65cc205a9",
       "version_major": 2,
       "version_minor": 0
      },
      "text/plain": [
       "  0%|          | 0/100000 [00:00<?, ?it/s]"
      ]
     },
     "metadata": {},
     "output_type": "display_data"
    },
    {
     "name": "stdout",
     "output_type": "stream",
     "text": [
      "[800000]소속기관 관리자는 소속기관 이하 부서의 문서 목록만을 조회 가능하다\n"
     ]
    },
    {
     "data": {
      "application/vnd.jupyter.widget-view+json": {
       "model_id": "4485543a51614deda64375201fcfa791",
>>>>>>> 56f09202397e4f6f7e070c90b8b85b03123ddd0a
       "version_major": 2,
       "version_minor": 0
      },
      "text/plain": [
<<<<<<< HEAD
       "0it [00:00, ?it/s]"
=======
       "  0%|          | 0/100000 [00:00<?, ?it/s]"
      ]
     },
     "metadata": {},
     "output_type": "display_data"
    },
    {
     "name": "stdout",
     "output_type": "stream",
     "text": [
      "[900000]일본 국내 최초의 프로 야구 리그 일본 야구 연맹 가 시작된 1936년 나고야군의 총감독으로 있던 고노 아쓰시가 스즈키 소타로에게 외국인 선수 소개를 부탁했는데 스즈키는 1934년에 대전했던 해리스를 고노에게 권했다 스즈키는 1934년에 구단 대표 자격으로 미국에 동행했다\n"
     ]
    },
    {
     "data": {
      "application/vnd.jupyter.widget-view+json": {
       "model_id": "c6bb94209d1a43229f5a9672e23d5652",
       "version_major": 2,
       "version_minor": 0
      },
      "text/plain": [
       "  0%|          | 0/100000 [00:00<?, ?it/s]"
      ]
     },
     "metadata": {},
     "output_type": "display_data"
    },
    {
     "name": "stdout",
     "output_type": "stream",
     "text": [
      "[1000000]기호는 정보 전달이나 사고 감정 예술 등 정신 행위의 기능을 돕는 매체이다\n"
     ]
    },
    {
     "data": {
      "application/vnd.jupyter.widget-view+json": {
       "model_id": "764d2854081e48ec89d349e2d5e0bdce",
       "version_major": 2,
       "version_minor": 0
      },
      "text/plain": [
       "  0%|          | 0/100000 [00:00<?, ?it/s]"
      ]
     },
     "metadata": {},
     "output_type": "display_data"
    },
    {
     "name": "stdout",
     "output_type": "stream",
     "text": [
      "[1100000]아테나고라스는 1886년 4월 6일 오스만 제국 당시 이오아니나 인근의 바실리콘에서 태어났다\n"
     ]
    },
    {
     "data": {
      "application/vnd.jupyter.widget-view+json": {
       "model_id": "e342a9ee38344356846a86161ac2a96e",
       "version_major": 2,
       "version_minor": 0
      },
      "text/plain": [
       "  0%|          | 0/100000 [00:00<?, ?it/s]"
      ]
     },
     "metadata": {},
     "output_type": "display_data"
    },
    {
     "name": "stdout",
     "output_type": "stream",
     "text": [
      "[1200000]Tambourine Man은 뛰어난 딜런의 곡 해석과 피트 시거의 선율을 강렬하고 낭만적이며 다분히 팝 적인 오리지널과 섞은 그리고 밴드 초기에 진 클락이 만든 환상적인 음반이었다\n"
     ]
    },
    {
     "data": {
      "application/vnd.jupyter.widget-view+json": {
       "model_id": "6152ac11c5814989b70911846bd4ebd3",
       "version_major": 2,
       "version_minor": 0
      },
      "text/plain": [
       "  0%|          | 0/100000 [00:00<?, ?it/s]"
      ]
     },
     "metadata": {},
     "output_type": "display_data"
    },
    {
     "name": "stdout",
     "output_type": "stream",
     "text": [
      "[1300000]고속도로는 인천과 강릉을 연결해 주는 영동고속도로와 속초시와 삼척시를 연결해주는 동해고속도로가 있다\n"
     ]
    },
    {
     "data": {
      "application/vnd.jupyter.widget-view+json": {
       "model_id": "1a03225778534e3189e542a2260ebebe",
       "version_major": 2,
       "version_minor": 0
      },
      "text/plain": [
       "  0%|          | 0/100000 [00:00<?, ?it/s]"
>>>>>>> 56f09202397e4f6f7e070c90b8b85b03123ddd0a
      ]
     },
     "metadata": {},
     "output_type": "display_data"
    },
    {
<<<<<<< HEAD
     "data": {
      "application/vnd.jupyter.widget-view+json": {
       "model_id": "8c84d0326d424b6b99a9653c979356c8",
=======
     "name": "stdout",
     "output_type": "stream",
     "text": [
      "[1400000]Increasing the waiting time allows time for a large file to be sent across a network before the program putting the messages times out\n"
     ]
    },
    {
     "data": {
      "application/vnd.jupyter.widget-view+json": {
       "model_id": "d6cc5811224b4379bff9fd373c1df555",
>>>>>>> 56f09202397e4f6f7e070c90b8b85b03123ddd0a
       "version_major": 2,
       "version_minor": 0
      },
      "text/plain": [
       "  0%|          | 0/100000 [00:00<?, ?it/s]"
      ]
     },
     "metadata": {},
     "output_type": "display_data"
    },
    {
<<<<<<< HEAD
     "data": {
      "application/vnd.jupyter.widget-view+json": {
       "model_id": "a886db5eeaf944d8a620bbefe6452a87",
=======
     "name": "stdout",
     "output_type": "stream",
     "text": [
      "[1500000]말이 굉장히 어려운 것 같아서 쉽게 풀어보면 1초에 몇 번 떨리는 지를 나타낸 것 이라고 할 수 있으며 단위는 헤르츠 Hz 를 사용한다\n"
     ]
    },
    {
     "data": {
      "application/vnd.jupyter.widget-view+json": {
       "model_id": "917ed5f30e7246da9b2e0dc62e641caf",
>>>>>>> 56f09202397e4f6f7e070c90b8b85b03123ddd0a
       "version_major": 2,
       "version_minor": 0
      },
      "text/plain": [
       "  0%|          | 0/100000 [00:00<?, ?it/s]"
      ]
     },
     "metadata": {},
     "output_type": "display_data"
    },
    {
     "name": "stdout",
     "output_type": "stream",
     "text": [
<<<<<<< HEAD
      "[100000]빌헬름 켐프는 첫 악장과 마지막 악장 모두를 위해 자신의 카덴자를 작곡했으며 이를 작품의 다양한 녹음에서 연주했다\n"
=======
      "[1600000]물론 평화는 한시적인 것이었고 16세기 말부터 다시 상업적 이유로 포르투갈과의 분쟁이 재개되었다\n"
>>>>>>> 56f09202397e4f6f7e070c90b8b85b03123ddd0a
     ]
    },
    {
     "data": {
      "application/vnd.jupyter.widget-view+json": {
<<<<<<< HEAD
       "model_id": "1d48d7fa33754a68adda83f27e4c530f",
=======
       "model_id": "2aa332f2d824420ca57a9e07ef834b6c",
>>>>>>> 56f09202397e4f6f7e070c90b8b85b03123ddd0a
       "version_major": 2,
       "version_minor": 0
      },
      "text/plain": [
       "  0%|          | 0/100000 [00:00<?, ?it/s]"
      ]
     },
     "metadata": {},
     "output_type": "display_data"
    },
    {
     "name": "stdout",
     "output_type": "stream",
     "text": [
<<<<<<< HEAD
      "[200000]2000년 7월 14일 시부야 콰트로에서 개최된 UNDOWN vol\n"
=======
      "[1700000]하지만 신정부군은 오즈와 미후네에서 사쓰마군 본진의 기야마를 협격하는 형세를 취했다\n"
>>>>>>> 56f09202397e4f6f7e070c90b8b85b03123ddd0a
     ]
    },
    {
     "data": {
      "application/vnd.jupyter.widget-view+json": {
<<<<<<< HEAD
       "model_id": "b8b53c6d94414282afa74f02409b3275",
=======
       "model_id": "b107d54e644e43dd8b54d83af1b65e2e",
>>>>>>> 56f09202397e4f6f7e070c90b8b85b03123ddd0a
       "version_major": 2,
       "version_minor": 0
      },
      "text/plain": [
       "  0%|          | 0/100000 [00:00<?, ?it/s]"
      ]
     },
     "metadata": {},
     "output_type": "display_data"
    },
    {
     "name": "stdout",
     "output_type": "stream",
     "text": [
<<<<<<< HEAD
      "[300000]은퇴 후 일본에서 사업 중인 장인의 사업을 도울 예정이다\n"
=======
      "[1800000]CD 역시 초기판은 일련 번호가 적혀 있었으나 후에 발매된 CD들은 이것이 없어졌고 제목은 \"The BEATLES\"를 검은색 혹은 회색으로 표기하게 되었다\n"
>>>>>>> 56f09202397e4f6f7e070c90b8b85b03123ddd0a
     ]
    },
    {
     "data": {
      "application/vnd.jupyter.widget-view+json": {
<<<<<<< HEAD
       "model_id": "29f474e8c58a411fb3ca15b15ec50c80",
=======
       "model_id": "f8869a1a43ab4a77810ca6e909da86cb",
>>>>>>> 56f09202397e4f6f7e070c90b8b85b03123ddd0a
       "version_major": 2,
       "version_minor": 0
      },
      "text/plain": [
       "  0%|          | 0/100000 [00:00<?, ?it/s]"
      ]
     },
     "metadata": {},
     "output_type": "display_data"
    },
    {
     "name": "stdout",
     "output_type": "stream",
     "text": [
<<<<<<< HEAD
      "[400000]유니언역과 가장 가까운 'L' 역이며 여러 메트라와 암트랙 열차의 터미널과 시카고 그레이하운드 버스 터미널과도 연결된다\n"
=======
      "[1900000]\"정형 미인\"은 한국에서 제작된 장일호 감독의 1975년 영화이다\n"
>>>>>>> 56f09202397e4f6f7e070c90b8b85b03123ddd0a
     ]
    },
    {
     "data": {
      "application/vnd.jupyter.widget-view+json": {
<<<<<<< HEAD
       "model_id": "46047986d91b46d8b417f8c650dd5636",
=======
       "model_id": "9212fcc6a2cb4909bd8bb8a0762bb21f",
>>>>>>> 56f09202397e4f6f7e070c90b8b85b03123ddd0a
       "version_major": 2,
       "version_minor": 0
      },
      "text/plain": [
       "  0%|          | 0/100000 [00:00<?, ?it/s]"
      ]
     },
     "metadata": {},
     "output_type": "display_data"
    },
    {
     "name": "stdout",
     "output_type": "stream",
     "text": [
<<<<<<< HEAD
      "[500000]모음곡으로는 매우 선명한 리듬의 행진곡 우아한 꽃의 원무곡 성격무용의 트레팩 아라비아의 춤 중국의 춤 풀피리의 춤 등이 포함된다\n"
=======
      "[2000000]In either case the manual page is agood place to start\n"
>>>>>>> 56f09202397e4f6f7e070c90b8b85b03123ddd0a
     ]
    },
    {
     "data": {
      "application/vnd.jupyter.widget-view+json": {
<<<<<<< HEAD
       "model_id": "15e4e53161514a238e4aac068cdfcd7f",
=======
       "model_id": "bd184377fdb940fd8812968d43d2963d",
>>>>>>> 56f09202397e4f6f7e070c90b8b85b03123ddd0a
       "version_major": 2,
       "version_minor": 0
      },
      "text/plain": [
       "  0%|          | 0/100000 [00:00<?, ?it/s]"
      ]
     },
     "metadata": {},
     "output_type": "display_data"
    },
    {
     "name": "stdout",
     "output_type": "stream",
     "text": [
<<<<<<< HEAD
      "[600000]프랭크 윌스태시의 1926년 책 와일드 빌 히콕 권총잡이들의 왕자 가 이 전설을 널리 대중화시켰다\n"
=======
      "[2100000]윈도우 XP의 경우 이상 트래픽 경고창 이 나타날 수 있습니다\n"
>>>>>>> 56f09202397e4f6f7e070c90b8b85b03123ddd0a
     ]
    },
    {
     "data": {
      "application/vnd.jupyter.widget-view+json": {
<<<<<<< HEAD
       "model_id": "8797a0dcc631454fb9f836bdbfb371fc",
=======
       "model_id": "71e3dcccaff8446abe24aebe5e19dccf",
>>>>>>> 56f09202397e4f6f7e070c90b8b85b03123ddd0a
       "version_major": 2,
       "version_minor": 0
      },
      "text/plain": [
       "  0%|          | 0/100000 [00:00<?, ?it/s]"
      ]
     },
     "metadata": {},
     "output_type": "display_data"
    },
    {
     "name": "stdout",
     "output_type": "stream",
     "text": [
<<<<<<< HEAD
      "[700000]풋볼 리그컵 결승전에 선발 출장해 우승에 기여했으나 시즌의 대부분을 티보 쿠르트와에 밀려 벤치에서 보내야 했다\n"
=======
      "[2200000]황족 출신 구니노미야 가문의 적출 소생으로 신위가 여왕 이었던 며느리에 대한 시기 데이메이 황후 자신은 고셋케인 구조 집안 출신이지만 적통이 아닌 서출이었다 같은 것으로 여겨지기도 한다 구니노미야 가문도 외척이라는 점을 내세워 제멋대로 구는 일이 많았으므로 이 점도 데이메이 황태후가 나가코 황후를 좋게 봐주지 않았던 요인으로 여겨지고 있다\n"
>>>>>>> 56f09202397e4f6f7e070c90b8b85b03123ddd0a
     ]
    },
    {
     "data": {
      "application/vnd.jupyter.widget-view+json": {
<<<<<<< HEAD
       "model_id": "e323b14a6abc424c9e41854e583c0e99",
=======
       "model_id": "6c63958bdd9741aabb00a8ed5894e10b",
>>>>>>> 56f09202397e4f6f7e070c90b8b85b03123ddd0a
       "version_major": 2,
       "version_minor": 0
      },
      "text/plain": [
       "  0%|          | 0/100000 [00:00<?, ?it/s]"
      ]
     },
     "metadata": {},
     "output_type": "display_data"
    },
    {
     "name": "stdout",
     "output_type": "stream",
     "text": [
<<<<<<< HEAD
      "[800000]곧 1960년에 피에르 가브리엘 은 박사 학위 논문에서 아벨 범주의 이론을 정리하였다\n"
=======
      "[2300000]그러나 또 미국이 개입하면서 아르벤스 정권이 무너지자 사임하고 다시 멕시코로 돌아가 교육과 출판에 관련된 일에 전념했다\n"
>>>>>>> 56f09202397e4f6f7e070c90b8b85b03123ddd0a
     ]
    },
    {
     "data": {
      "application/vnd.jupyter.widget-view+json": {
<<<<<<< HEAD
       "model_id": "d18632a2d33548488df126139f1a8073",
=======
       "model_id": "78d4e9c0afa044df915fd9fb653cbbf9",
>>>>>>> 56f09202397e4f6f7e070c90b8b85b03123ddd0a
       "version_major": 2,
       "version_minor": 0
      },
      "text/plain": [
       "  0%|          | 0/100000 [00:00<?, ?it/s]"
      ]
     },
     "metadata": {},
     "output_type": "display_data"
    },
    {
     "name": "stdout",
     "output_type": "stream",
     "text": [
<<<<<<< HEAD
      "[900000]베른 협약은 만든이가 죽은 뒤에 적어도 50년까지 보호하도록 하고 있다\n"
=======
      "[2400000]1591년 31세에 예조참판 으로서 조선시대 최연소의 나이로 대제학이 되었다\n"
>>>>>>> 56f09202397e4f6f7e070c90b8b85b03123ddd0a
     ]
    },
    {
     "data": {
      "application/vnd.jupyter.widget-view+json": {
<<<<<<< HEAD
       "model_id": "5ff960678a1440edbe452ae2258ca7b5",
=======
       "model_id": "af796e73e0ec48f192e4d2a08204c0c0",
>>>>>>> 56f09202397e4f6f7e070c90b8b85b03123ddd0a
       "version_major": 2,
       "version_minor": 0
      },
      "text/plain": [
       "  0%|          | 0/100000 [00:00<?, ?it/s]"
      ]
     },
     "metadata": {},
     "output_type": "display_data"
    },
    {
     "name": "stdout",
     "output_type": "stream",
     "text": [
<<<<<<< HEAD
      "[1000000]중화민국과 일본 사이의 공식적인 외교 관계가 부재한 관계로 비정부기구의 형식이지만 실질적으로는 중화민국 외교부 소관 기관이다\n"
=======
      "[2500000]학교 내 전체 학생을 대표하는 학생기구다\n"
>>>>>>> 56f09202397e4f6f7e070c90b8b85b03123ddd0a
     ]
    },
    {
     "data": {
      "application/vnd.jupyter.widget-view+json": {
<<<<<<< HEAD
       "model_id": "0373b2ef77fc49ad93fb56a41e4202b7",
=======
       "model_id": "12a350e7598c4333b1ef45175516b179",
>>>>>>> 56f09202397e4f6f7e070c90b8b85b03123ddd0a
       "version_major": 2,
       "version_minor": 0
      },
      "text/plain": [
       "  0%|          | 0/100000 [00:00<?, ?it/s]"
      ]
     },
     "metadata": {},
     "output_type": "display_data"
    },
    {
     "name": "stdout",
     "output_type": "stream",
     "text": [
<<<<<<< HEAD
      "[1100000]1999년에 마일리지 프로그램인 아시아 마일즈에 참가하게 된다\n"
=======
      "[2600000]\" 라고 입장을 밝히며 현재 아모레퍼시픽은 \"동해\" 표시 지도로 교체한 상황이다\n"
>>>>>>> 56f09202397e4f6f7e070c90b8b85b03123ddd0a
     ]
    },
    {
     "data": {
      "application/vnd.jupyter.widget-view+json": {
<<<<<<< HEAD
       "model_id": "7dda23d5eb444fdfa3870a3793e69c67",
=======
       "model_id": "411c770380424ca6be9df6bba409e278",
>>>>>>> 56f09202397e4f6f7e070c90b8b85b03123ddd0a
       "version_major": 2,
       "version_minor": 0
      },
      "text/plain": [
       "  0%|          | 0/100000 [00:00<?, ?it/s]"
      ]
     },
     "metadata": {},
     "output_type": "display_data"
    },
    {
     "name": "stdout",
     "output_type": "stream",
     "text": [
<<<<<<< HEAD
      "[1200000]최충의 손자인 장인 최사추는 당시의 여론을 주도할 정도로 정치적 영향력이 큰 인물이었다\n"
=======
      "[2700000]다른 콩과 식물과 마찬가지로 열매는 협과이다\n"
>>>>>>> 56f09202397e4f6f7e070c90b8b85b03123ddd0a
     ]
    },
    {
     "data": {
      "application/vnd.jupyter.widget-view+json": {
<<<<<<< HEAD
       "model_id": "9bb766024c144f029c0c0afa356f4899",
=======
       "model_id": "47f8b7cab0ec498691ed5cca080851cb",
>>>>>>> 56f09202397e4f6f7e070c90b8b85b03123ddd0a
       "version_major": 2,
       "version_minor": 0
      },
      "text/plain": [
       "  0%|          | 0/100000 [00:00<?, ?it/s]"
      ]
     },
     "metadata": {},
     "output_type": "display_data"
    },
    {
     "name": "stdout",
     "output_type": "stream",
     "text": [
<<<<<<< HEAD
      "[1300000]앤드루 그랜빌 은 작은 소수의 배수를 고려하여 크라메르 모형을 개량하였는데 이에 따르면\n"
=======
      "[2800000]그러나 이 부등식은 마르코프의 스승인 파프누티 체비쇼프가 먼저 발견하였다\n"
>>>>>>> 56f09202397e4f6f7e070c90b8b85b03123ddd0a
     ]
    },
    {
     "data": {
      "application/vnd.jupyter.widget-view+json": {
<<<<<<< HEAD
       "model_id": "d12d8171c96f491a85dd0ced8fd01c9f",
=======
       "model_id": "c7b0d0dab8234bab95b606cb110f1ea2",
>>>>>>> 56f09202397e4f6f7e070c90b8b85b03123ddd0a
       "version_major": 2,
       "version_minor": 0
      },
      "text/plain": [
       "  0%|          | 0/100000 [00:00<?, ?it/s]"
      ]
     },
     "metadata": {},
     "output_type": "display_data"
    },
    {
     "name": "stdout",
     "output_type": "stream",
     "text": [
<<<<<<< HEAD
      "[1400000]언론 3사가 일제히 임사홍을 간신으로 지목하고 처벌할 것을 주장했다\n"
=======
      "[2900000]주전 3루수로 활동하면서 1994년 LG 트윈스의 2번째 우승에 기여하고 골든 글러브도 받았다\n"
>>>>>>> 56f09202397e4f6f7e070c90b8b85b03123ddd0a
     ]
    },
    {
     "data": {
      "application/vnd.jupyter.widget-view+json": {
<<<<<<< HEAD
       "model_id": "86d34974d2ca40ae88bc5f0e18ba3156",
=======
       "model_id": "8d8dcf0b27db44cda27dab3beaa48359",
>>>>>>> 56f09202397e4f6f7e070c90b8b85b03123ddd0a
       "version_major": 2,
       "version_minor": 0
      },
      "text/plain": [
       "  0%|          | 0/100000 [00:00<?, ?it/s]"
      ]
     },
     "metadata": {},
     "output_type": "display_data"
    },
    {
     "name": "stdout",
     "output_type": "stream",
     "text": [
<<<<<<< HEAD
      "[1500000]프룬을 처음 접하는 사람이라면 처음부터 많이 먹기 보다는 4 5알 정도의 양으로 시작하여 점차 섭취량을 늘리는 것이 좋은 방법이다\n"
=======
      "[3000000]2013년 10월 17일 로스차일드는 양키스와 남아있는 데 1년 계약을 맺었다\n"
>>>>>>> 56f09202397e4f6f7e070c90b8b85b03123ddd0a
     ]
    },
    {
     "data": {
      "application/vnd.jupyter.widget-view+json": {
<<<<<<< HEAD
       "model_id": "30ce317aca1043cf9dde858e0e333d21",
=======
       "model_id": "2136011bd34745cead2fe667f3689895",
>>>>>>> 56f09202397e4f6f7e070c90b8b85b03123ddd0a
       "version_major": 2,
       "version_minor": 0
      },
      "text/plain": [
       "  0%|          | 0/100000 [00:00<?, ?it/s]"
      ]
     },
     "metadata": {},
     "output_type": "display_data"
    },
    {
     "name": "stdout",
     "output_type": "stream",
     "text": [
<<<<<<< HEAD
      "[1600000]은 다항식 등급환 formula 39의 사영 스펙트럼이며 그 속의 사영 대수다양체 formula 40는 동차 아이디얼 formula 41에 의하여 정의된다\n"
=======
      "[3100000]라고 평가하고 율곡이야말로 만세토록 태평성대의 나라를 세우려 했으니 그 공로가 원대하다 말하겠다며 극찬하였다\n"
>>>>>>> 56f09202397e4f6f7e070c90b8b85b03123ddd0a
     ]
    },
    {
     "data": {
      "application/vnd.jupyter.widget-view+json": {
<<<<<<< HEAD
       "model_id": "263ce2fdb3b14ca687830abcccbd5401",
=======
       "model_id": "5e5fb9399d1143ccaa42f11db971800d",
>>>>>>> 56f09202397e4f6f7e070c90b8b85b03123ddd0a
       "version_major": 2,
       "version_minor": 0
      },
      "text/plain": [
       "  0%|          | 0/100000 [00:00<?, ?it/s]"
      ]
     },
     "metadata": {},
     "output_type": "display_data"
    },
    {
     "name": "stdout",
     "output_type": "stream",
     "text": [
<<<<<<< HEAD
      "[1700000]알탄 칸은 달라이 라마를 만나고 4년 후인 1582년에 세상을 떠났으며 그의 뒤를 이은 후임자도 불교에 귀의해 달라이 라마의 뜻을 펼치기 위해 노력하였다\n"
=======
      "[3200000]Dynatrace는 Google Amazon Twitter 및 LinkedIn을 포함한 1 000 개 이상의 타사 컨텐츠 공급자를 자동으로 인식합니다\n"
>>>>>>> 56f09202397e4f6f7e070c90b8b85b03123ddd0a
     ]
    },
    {
     "data": {
      "application/vnd.jupyter.widget-view+json": {
<<<<<<< HEAD
       "model_id": "270e0033ffaa4f2084fd37e5d09453b3",
=======
       "model_id": "e5711f30c9454dfa8088a5a7179ec0ad",
>>>>>>> 56f09202397e4f6f7e070c90b8b85b03123ddd0a
       "version_major": 2,
       "version_minor": 0
      },
      "text/plain": [
       "  0%|          | 0/100000 [00:00<?, ?it/s]"
      ]
     },
     "metadata": {},
     "output_type": "display_data"
    },
    {
     "name": "stdout",
     "output_type": "stream",
     "text": [
<<<<<<< HEAD
      "[1800000]새끼들은 약 4년이면 성숙해지고 평균 31년을 산다\n"
=======
      "[3300000]A process should describe which activities are performed together and the order in which activities are performed\n"
>>>>>>> 56f09202397e4f6f7e070c90b8b85b03123ddd0a
     ]
    },
    {
     "data": {
      "application/vnd.jupyter.widget-view+json": {
<<<<<<< HEAD
       "model_id": "234fad998701461e993051caaf6b8e8b",
=======
       "model_id": "2657cf68648a43a39599f7c58cac858a",
>>>>>>> 56f09202397e4f6f7e070c90b8b85b03123ddd0a
       "version_major": 2,
       "version_minor": 0
      },
      "text/plain": [
       "  0%|          | 0/100000 [00:00<?, ?it/s]"
      ]
     },
     "metadata": {},
     "output_type": "display_data"
    },
    {
     "name": "stdout",
     "output_type": "stream",
     "text": [
<<<<<<< HEAD
      "[1900000]하이 임피던스 상태는 기호로 \"Z\"라고 표기한다\n"
=======
      "[3400000]반면 형 이론이나 새 기초 등의 체계에서는 이 정의를 그대로 사용할 수 있다\n"
>>>>>>> 56f09202397e4f6f7e070c90b8b85b03123ddd0a
     ]
    },
    {
     "data": {
      "application/vnd.jupyter.widget-view+json": {
<<<<<<< HEAD
       "model_id": "1935fb8d4d404393b93411bc251f872b",
=======
       "model_id": "14f09725633f41ca8d306b913367e398",
>>>>>>> 56f09202397e4f6f7e070c90b8b85b03123ddd0a
       "version_major": 2,
       "version_minor": 0
      },
      "text/plain": [
       "  0%|          | 0/100000 [00:00<?, ?it/s]"
      ]
     },
     "metadata": {},
     "output_type": "display_data"
    },
    {
     "name": "stdout",
     "output_type": "stream",
     "text": [
<<<<<<< HEAD
      "[2000000]그러나 이러한 국회의 입법은 사면권의 헌법 법리를 정면으로 부정하는 것으로서 대통령의 절대적인 대권인 사면권의 매우 중요하고 필수불가결한 권한인 불기소 특별사면권 놀리 프로시콰이 을 부정하는 위헌적인 법률이다\n"
=======
      "[3500000]Set up region 1 with a shared lock from bytes 10 to 30\n"
>>>>>>> 56f09202397e4f6f7e070c90b8b85b03123ddd0a
     ]
    },
    {
     "data": {
      "application/vnd.jupyter.widget-view+json": {
<<<<<<< HEAD
       "model_id": "57566d5ddef24329b650b1b4df8fe2cd",
=======
       "model_id": "d2d7ddec24d74701bb19a28d19c4a6fe",
>>>>>>> 56f09202397e4f6f7e070c90b8b85b03123ddd0a
       "version_major": 2,
       "version_minor": 0
      },
      "text/plain": [
       "  0%|          | 0/100000 [00:00<?, ?it/s]"
      ]
     },
     "metadata": {},
     "output_type": "display_data"
    },
    {
     "name": "stdout",
     "output_type": "stream",
     "text": [
<<<<<<< HEAD
      "[2100000]기타 작품으로는 4권으로 나누어 출판된 역사만화인 겨레의 인걸 100인 이 있다\n"
=======
      "[3600000]1992년 공산정권이 붕괴하자 칼리스는 아프가니스탄 이슬람국 정부수립에 참여했다\n"
>>>>>>> 56f09202397e4f6f7e070c90b8b85b03123ddd0a
     ]
    },
    {
     "data": {
      "application/vnd.jupyter.widget-view+json": {
<<<<<<< HEAD
       "model_id": "425d431b448144469b84fadf5cb53939",
=======
       "model_id": "f7cdaace80cd4909afdb9aa8025eaa1d",
>>>>>>> 56f09202397e4f6f7e070c90b8b85b03123ddd0a
       "version_major": 2,
       "version_minor": 0
      },
      "text/plain": [
       "  0%|          | 0/100000 [00:00<?, ?it/s]"
      ]
     },
     "metadata": {},
     "output_type": "display_data"
    },
    {
     "name": "stdout",
     "output_type": "stream",
     "text": [
<<<<<<< HEAD
      "[2200000]묘는 산기슭에 위치하며 봉분은 쌍분 합장묘로 정경부인 장수 황씨와의 합장묘이다\n"
=======
      "[3700000]파이어폭스 3은 웹 페이지를 보여주기 위해 모질라 게코 레이아웃 엔진 버전 1\n"
>>>>>>> 56f09202397e4f6f7e070c90b8b85b03123ddd0a
     ]
    },
    {
     "data": {
      "application/vnd.jupyter.widget-view+json": {
<<<<<<< HEAD
       "model_id": "775916b66aa64e149e0d1f9b35a1e2a7",
=======
       "model_id": "59d2124a68ac487cbd0eaf56bc6837a1",
>>>>>>> 56f09202397e4f6f7e070c90b8b85b03123ddd0a
       "version_major": 2,
       "version_minor": 0
      },
      "text/plain": [
       "  0%|          | 0/100000 [00:00<?, ?it/s]"
      ]
     },
     "metadata": {},
     "output_type": "display_data"
    },
    {
     "name": "stdout",
     "output_type": "stream",
     "text": [
<<<<<<< HEAD
      "[2300000]스위스는 EU 회원국이 아니지만 1995년 오스트리아가 가입한 이후로 리히텐슈타인과 함께 EU 영토로 둘러싸여 있다\n"
=======
      "[3800000]For more information about the properties of a destination and the methods used to set its properties see Properties of WebSphere MQ classes for JMS objects on page 171\n"
>>>>>>> 56f09202397e4f6f7e070c90b8b85b03123ddd0a
     ]
    },
    {
     "data": {
      "application/vnd.jupyter.widget-view+json": {
<<<<<<< HEAD
       "model_id": "b603df7b3322471b86a2fa182b9bf2ab",
=======
       "model_id": "7293a10e7d294a4aa5f5a123294a12f2",
>>>>>>> 56f09202397e4f6f7e070c90b8b85b03123ddd0a
       "version_major": 2,
       "version_minor": 0
      },
      "text/plain": [
       "  0%|          | 0/100000 [00:00<?, ?it/s]"
      ]
     },
     "metadata": {},
     "output_type": "display_data"
    },
    {
     "name": "stdout",
     "output_type": "stream",
     "text": [
<<<<<<< HEAD
      "[2400000]윌리엄 세익스피어의 탄생 400주기를 맞이해 런던의 서적상 포일이 준비한 유서 깊은 문학 조찬 모임에 레논이 참석한 지 나흘 되던 날인 4월 27일 레논은 책의 성공을 기념하는 모임에 참석했다\n"
=======
      "[3900000]We consider a transition to be atomic although we allow switches between different transition networks ifan object has more than one\n"
>>>>>>> 56f09202397e4f6f7e070c90b8b85b03123ddd0a
     ]
    },
    {
     "data": {
      "application/vnd.jupyter.widget-view+json": {
<<<<<<< HEAD
       "model_id": "4383af333f2242ddb4f2149c0459823c",
=======
       "model_id": "affeb4a4550d4a6298145f3fceaa10e3",
>>>>>>> 56f09202397e4f6f7e070c90b8b85b03123ddd0a
       "version_major": 2,
       "version_minor": 0
      },
      "text/plain": [
       "  0%|          | 0/100000 [00:00<?, ?it/s]"
      ]
     },
     "metadata": {},
     "output_type": "display_data"
    },
    {
     "name": "stdout",
     "output_type": "stream",
     "text": [
<<<<<<< HEAD
      "[2500000]헐의 배에서 포격이 시작되었고 데르나의 대포에 한시간 가량 포탄을 퍼부었다\n"
=======
      "[4000000]청주 신항서원 과 청안 의 구계서원 에 제향되어 있다\n"
>>>>>>> 56f09202397e4f6f7e070c90b8b85b03123ddd0a
     ]
    },
    {
     "data": {
      "application/vnd.jupyter.widget-view+json": {
<<<<<<< HEAD
       "model_id": "3a5d752a5d134c24b000b7e4196385b5",
=======
       "model_id": "b6e91fa0ccbc4258bc6952521d01033e",
>>>>>>> 56f09202397e4f6f7e070c90b8b85b03123ddd0a
       "version_major": 2,
       "version_minor": 0
      },
      "text/plain": [
       "  0%|          | 0/100000 [00:00<?, ?it/s]"
      ]
     },
     "metadata": {},
     "output_type": "display_data"
    },
    {
     "name": "stdout",
     "output_type": "stream",
     "text": [
<<<<<<< HEAD
      "[2600000]임진왜란 당시 분호조 좌랑이 되어 가산 의 군량 운송과 보급을 주관하였고 곧 가산군수를 역임하였다\n"
=======
      "[4100000]If you are using a file system this can be the local file system or a shared drive\n"
>>>>>>> 56f09202397e4f6f7e070c90b8b85b03123ddd0a
     ]
    },
    {
     "data": {
      "application/vnd.jupyter.widget-view+json": {
<<<<<<< HEAD
       "model_id": "44fcf114db5845918d0c3725c10318be",
=======
       "model_id": "71be93ef73104294b7f9a5e311c21fd3",
>>>>>>> 56f09202397e4f6f7e070c90b8b85b03123ddd0a
       "version_major": 2,
       "version_minor": 0
      },
      "text/plain": [
       "  0%|          | 0/100000 [00:00<?, ?it/s]"
      ]
     },
     "metadata": {},
     "output_type": "display_data"
    },
    {
     "name": "stdout",
     "output_type": "stream",
     "text": [
<<<<<<< HEAD
      "[2700000]07km2 인구는 175명 2008년 기준 인구 밀도는 13명 km2이다\n"
=======
      "[4200000]2 는 큐 관리자가 현재 종료되었다가 재시작된 경우 페이지 세트 매체 복원과 관련됩니다\n"
>>>>>>> 56f09202397e4f6f7e070c90b8b85b03123ddd0a
     ]
    },
    {
     "data": {
      "application/vnd.jupyter.widget-view+json": {
<<<<<<< HEAD
       "model_id": "1402ed90fa634d7a87fbad8464709413",
=======
       "model_id": "1ce56460a89446f68116074f583e5987",
>>>>>>> 56f09202397e4f6f7e070c90b8b85b03123ddd0a
       "version_major": 2,
       "version_minor": 0
      },
      "text/plain": [
       "  0%|          | 0/100000 [00:00<?, ?it/s]"
      ]
     },
     "metadata": {},
     "output_type": "display_data"
    },
    {
     "name": "stdout",
     "output_type": "stream",
     "text": [
<<<<<<< HEAD
      "[2800000]1962년에 프랑스와 서독은 각기 AMX 30과 레오파르트 1 전차의 시제품을 개발하고 테스트에 들어갔는데 평가 결과와 상관없이 각기 자국에서 개발한 전차를 고집하는 통에 동업 관계를 청산하게 되었다\n"
=======
      "[4300000]이 곳에는 선사시대의 많은 그림들이 남아있으며 이러한 선사시대의 유적을 보호하기 위해 국립공원으로 지정되어 관리되고 있다\n"
>>>>>>> 56f09202397e4f6f7e070c90b8b85b03123ddd0a
     ]
    },
    {
     "data": {
      "application/vnd.jupyter.widget-view+json": {
<<<<<<< HEAD
       "model_id": "66d817ab1bc74f6fb5578448dccec132",
=======
       "model_id": "dfd9ef55e15a4bb388ddb158cecec0aa",
>>>>>>> 56f09202397e4f6f7e070c90b8b85b03123ddd0a
       "version_major": 2,
       "version_minor": 0
      },
      "text/plain": [
       "  0%|          | 0/100000 [00:00<?, ?it/s]"
      ]
     },
     "metadata": {},
     "output_type": "display_data"
    },
    {
     "name": "stdout",
     "output_type": "stream",
     "text": [
<<<<<<< HEAD
      "[2900000]호크 휘하에서 근무했던 것으로 설정된 존 실버는 소설에서 자신의 잘린 다리에 대해 불사신 호크 제독이 지휘하는 전쟁에서 녀석을 잃었다 고 말하고 있다\n"
=======
      "[4400000]사업범위 및 사용자 요구분석 내용을 요구분석 정의서에 모두 포함할 것\n"
>>>>>>> 56f09202397e4f6f7e070c90b8b85b03123ddd0a
     ]
    },
    {
     "data": {
      "application/vnd.jupyter.widget-view+json": {
<<<<<<< HEAD
       "model_id": "555d04ea999c421c90d63cf33f1aace3",
=======
       "model_id": "5fe68288844140cb98312821909db826",
>>>>>>> 56f09202397e4f6f7e070c90b8b85b03123ddd0a
       "version_major": 2,
       "version_minor": 0
      },
      "text/plain": [
       "  0%|          | 0/100000 [00:00<?, ?it/s]"
      ]
     },
     "metadata": {},
     "output_type": "display_data"
    },
    {
     "name": "stdout",
     "output_type": "stream",
     "text": [
<<<<<<< HEAD
      "[3000000]그는 작가 폴 스텐닝에게 이렇게 말했다\n"
=======
      "[4500000]모든 것을 집어삼키는 욕망의 프리마돈나 VS 상류사회 입성을 향해 질주하는 여자들의 채워질 수 없는 일그러진 욕망으로 집값 1번지 교육 1번지에서 벌이는 부동산과 교육 스토리를 담은 작품\n"
>>>>>>> 56f09202397e4f6f7e070c90b8b85b03123ddd0a
     ]
    },
    {
     "data": {
      "application/vnd.jupyter.widget-view+json": {
<<<<<<< HEAD
       "model_id": "1c605346283847f8b93fac68da030c42",
=======
       "model_id": "1d66bd1e613d421f8316c9fe6518c19b",
>>>>>>> 56f09202397e4f6f7e070c90b8b85b03123ddd0a
       "version_major": 2,
       "version_minor": 0
      },
      "text/plain": [
       "  0%|          | 0/100000 [00:00<?, ?it/s]"
      ]
     },
     "metadata": {},
     "output_type": "display_data"
    },
    {
     "name": "stdout",
     "output_type": "stream",
     "text": [
<<<<<<< HEAD
      "[3100000]프레디 머큐리는 히드로 공항에서 잠깐 일한 적이 있는데 후에 후배 직원들이 Queen의 I want to break free에 맞추어 춤춘 영상이 공개되어 화제가 된 적 있다\n"
=======
      "[4600000]그 때문인지 할머니와 어린 남동생 등 세 사람이 생활하고 있던 유년 시절의 에노모토는 가난 때문에 고생하게 됐다\n"
>>>>>>> 56f09202397e4f6f7e070c90b8b85b03123ddd0a
     ]
    },
    {
     "data": {
      "application/vnd.jupyter.widget-view+json": {
<<<<<<< HEAD
       "model_id": "ac71dc5ac30549418e60a15d953c7437",
=======
       "model_id": "a8e3e4fd44844852a128429fc5e57e45",
>>>>>>> 56f09202397e4f6f7e070c90b8b85b03123ddd0a
       "version_major": 2,
       "version_minor": 0
      },
      "text/plain": [
       "  0%|          | 0/100000 [00:00<?, ?it/s]"
      ]
     },
     "metadata": {},
     "output_type": "display_data"
    },
    {
     "name": "stdout",
     "output_type": "stream",
     "text": [
<<<<<<< HEAD
      "[3200000]신선 식품의 취급 기간을 최대 4개월까지로 정해둔 덕분에 전술한 화재 사고로 인한 발사 일정 연기에도 큰 문제 없이 식품을 나를 수 있었다\n"
=======
      "[4700000]A publish subscribe topology consists of the brokers the Collectives and the connections between them that support publish subscribe applications in the broker domain\n"
>>>>>>> 56f09202397e4f6f7e070c90b8b85b03123ddd0a
     ]
    },
    {
     "data": {
      "application/vnd.jupyter.widget-view+json": {
<<<<<<< HEAD
       "model_id": "cc9a7982ce28469499d81d3c70ff945b",
=======
       "model_id": "0c6db8f508144bffb4ab25187bfbdb1a",
>>>>>>> 56f09202397e4f6f7e070c90b8b85b03123ddd0a
       "version_major": 2,
       "version_minor": 0
      },
      "text/plain": [
       "  0%|          | 0/100000 [00:00<?, ?it/s]"
      ]
     },
     "metadata": {},
     "output_type": "display_data"
    },
    {
     "name": "stdout",
     "output_type": "stream",
     "text": [
<<<<<<< HEAD
      "[3300000]쇼핑에 매진하다 보니 현재는 빚쟁이에 쫓겨 죽도록 달리기에 매진하고 있다\n"
=======
      "[4800000]1931년 그의 아들 Richard Morszeck이 이 기업에서 활동을 시작하여 베를린의 독일 특허 사무소에서 RIMOWA 상표를 등록하였다\n"
>>>>>>> 56f09202397e4f6f7e070c90b8b85b03123ddd0a
     ]
    },
    {
     "data": {
      "application/vnd.jupyter.widget-view+json": {
<<<<<<< HEAD
       "model_id": "c508a86ce1eb44b48b7df85f427e6f22",
=======
       "model_id": "dab1cd71f6714d2c9ec1b41a212d90a2",
>>>>>>> 56f09202397e4f6f7e070c90b8b85b03123ddd0a
       "version_major": 2,
       "version_minor": 0
      },
      "text/plain": [
       "  0%|          | 0/100000 [00:00<?, ?it/s]"
      ]
     },
     "metadata": {},
     "output_type": "display_data"
    },
    {
     "name": "stdout",
     "output_type": "stream",
     "text": [
<<<<<<< HEAD
      "[3400000]UN 국제 영어 프랑스어 독일어 일본어 소통이 가능하다\n"
=======
      "[4900000]일부 연방은 헌법을 비준할 때 이러한 수정안을 구체적으로 요구하였고 다른 연방은 권리 장전이 곧 추가된다는 조건으로 헌법을 비준했다\n"
>>>>>>> 56f09202397e4f6f7e070c90b8b85b03123ddd0a
     ]
    },
    {
     "data": {
      "application/vnd.jupyter.widget-view+json": {
<<<<<<< HEAD
       "model_id": "c53d20c642dd46f08991c18b073b1b25",
=======
       "model_id": "297bff1920d642ab97bb144a0a29244f",
>>>>>>> 56f09202397e4f6f7e070c90b8b85b03123ddd0a
       "version_major": 2,
       "version_minor": 0
      },
      "text/plain": [
       "  0%|          | 0/100000 [00:00<?, ?it/s]"
      ]
     },
     "metadata": {},
     "output_type": "display_data"
    },
    {
     "name": "stdout",
     "output_type": "stream",
     "text": [
<<<<<<< HEAD
      "[3500000]Shreve Lamb amp Harmon Associates에 의해 아르 데코 형식 설계되어 1931년에 준공하였다\n"
=======
      "[5000000]2012년 7월부터 현재까지 꾸준히 쓰고 있는 '한 초선 일지'를 통해 자신의 생각을 자주 드러내고 있다\n"
>>>>>>> 56f09202397e4f6f7e070c90b8b85b03123ddd0a
     ]
    },
    {
     "data": {
      "application/vnd.jupyter.widget-view+json": {
<<<<<<< HEAD
       "model_id": "c62d63082d3a45e080f59ebac32a011f",
=======
       "model_id": "72854a4338b5427fb878abe045dfe922",
>>>>>>> 56f09202397e4f6f7e070c90b8b85b03123ddd0a
       "version_major": 2,
       "version_minor": 0
      },
      "text/plain": [
       "  0%|          | 0/100000 [00:00<?, ?it/s]"
      ]
     },
     "metadata": {},
     "output_type": "display_data"
    },
    {
     "name": "stdout",
     "output_type": "stream",
     "text": [
<<<<<<< HEAD
      "[3600000]아버지 유발의 뒤를 이어 고시후 에 봉해졌다\n"
=======
      "[5100000]시민연대사회 civil solidary society 란 시민적 연대가 확고히 자리 잡은 사회 즉 높은 수준의 시민적 연대를 특징으로 하는 사회를 뜻한다\n"
>>>>>>> 56f09202397e4f6f7e070c90b8b85b03123ddd0a
     ]
    },
    {
     "data": {
      "application/vnd.jupyter.widget-view+json": {
<<<<<<< HEAD
       "model_id": "94759b8ab65d47008ec5c02800795486",
=======
       "model_id": "2690fd7c614f4be6b80037c68c9377f8",
>>>>>>> 56f09202397e4f6f7e070c90b8b85b03123ddd0a
       "version_major": 2,
       "version_minor": 0
      },
      "text/plain": [
       "  0%|          | 0/100000 [00:00<?, ?it/s]"
      ]
     },
     "metadata": {},
     "output_type": "display_data"
    },
    {
     "name": "stdout",
     "output_type": "stream",
     "text": [
<<<<<<< HEAD
      "[3700000]2004시즌을 앞두고 성남 일화 천마에 입단하며 프로 무대에 데뷔했다\n"
=======
      "[5200000]웃긴대학의 불공정약관 심사청구가 계기였다\n"
>>>>>>> 56f09202397e4f6f7e070c90b8b85b03123ddd0a
     ]
    },
    {
     "data": {
      "application/vnd.jupyter.widget-view+json": {
<<<<<<< HEAD
       "model_id": "8e314f3efd3243ffa6d1a54ec60b26f0",
=======
       "model_id": "e8e0910c509b4516b1245207bb00cc15",
>>>>>>> 56f09202397e4f6f7e070c90b8b85b03123ddd0a
       "version_major": 2,
       "version_minor": 0
      },
      "text/plain": [
       "  0%|          | 0/100000 [00:00<?, ?it/s]"
      ]
     },
     "metadata": {},
     "output_type": "display_data"
    },
    {
     "name": "stdout",
     "output_type": "stream",
     "text": [
<<<<<<< HEAD
      "[3800000]신공항 수요는 충분할 수 있다는 것이다\n"
=======
      "[5300000]판톤 의자 는 덴마크의 디자이너 베르너 판톤이 1960년대에 제작한 S 모양 플라스틱 의자이다\n"
>>>>>>> 56f09202397e4f6f7e070c90b8b85b03123ddd0a
     ]
    },
    {
     "data": {
      "application/vnd.jupyter.widget-view+json": {
<<<<<<< HEAD
       "model_id": "a26eff7bcf5e4b14969b6a7428f45926",
=======
       "model_id": "d224344050e8492eb77c287f30415943",
>>>>>>> 56f09202397e4f6f7e070c90b8b85b03123ddd0a
       "version_major": 2,
       "version_minor": 0
      },
      "text/plain": [
       "  0%|          | 0/100000 [00:00<?, ?it/s]"
      ]
     },
     "metadata": {},
     "output_type": "display_data"
    },
    {
     "name": "stdout",
     "output_type": "stream",
     "text": [
<<<<<<< HEAD
      "[3900000]오늘날 콜로라도주 조지아주 일리노이주 캔자스주 미네소타주 네브래스카주 네바다주 오리건주 사우스다코타주 워싱턴주와 위스콘신주에는 더글러스 카운티들이 있다\n"
=======
      "[5400000]This procedure describes how to determine if a BFILE LOB locator is initialized\n"
>>>>>>> 56f09202397e4f6f7e070c90b8b85b03123ddd0a
     ]
    },
    {
     "data": {
      "application/vnd.jupyter.widget-view+json": {
<<<<<<< HEAD
       "model_id": "dfb81cfc653c42a5a32b6faa1bb72028",
=======
       "model_id": "cce74e5d4a054bebaff8309d142da2c3",
>>>>>>> 56f09202397e4f6f7e070c90b8b85b03123ddd0a
       "version_major": 2,
       "version_minor": 0
      },
      "text/plain": [
       "  0%|          | 0/100000 [00:00<?, ?it/s]"
      ]
     },
     "metadata": {},
     "output_type": "display_data"
    },
    {
     "name": "stdout",
     "output_type": "stream",
     "text": [
<<<<<<< HEAD
      "[4000000]2019년 2월 7일 향년 만 73세로 별세했다\n"
=======
      "[5500000]In order to preserve the contents of one page to the next there are a number of approaches that can work\n"
>>>>>>> 56f09202397e4f6f7e070c90b8b85b03123ddd0a
     ]
    },
    {
     "data": {
      "application/vnd.jupyter.widget-view+json": {
<<<<<<< HEAD
       "model_id": "73c4887bd05a47038a15ba8816437208",
=======
       "model_id": "a279da277fba41bdae8d8201aa93cfee",
>>>>>>> 56f09202397e4f6f7e070c90b8b85b03123ddd0a
       "version_major": 2,
       "version_minor": 0
      },
      "text/plain": [
       "  0%|          | 0/100000 [00:00<?, ?it/s]"
      ]
     },
     "metadata": {},
     "output_type": "display_data"
    },
    {
     "name": "stdout",
     "output_type": "stream",
     "text": [
<<<<<<< HEAD
      "[4100000]흥분성 세포 는 막 전위에 의해 작동하는 전압 개폐 나트륨 통로나 칼슘 통로를 가지고 있는 세포를 의미한다\n"
=======
      "[5600000]Your implementation would also need to create a Transaction implementation which is also a very simple interface\n"
>>>>>>> 56f09202397e4f6f7e070c90b8b85b03123ddd0a
     ]
    },
    {
     "data": {
      "application/vnd.jupyter.widget-view+json": {
<<<<<<< HEAD
       "model_id": "17eb7903b5664e0380eafafc57c53092",
=======
       "model_id": "94b77cb5935b4da3bd884cb0d3a2dc3d",
>>>>>>> 56f09202397e4f6f7e070c90b8b85b03123ddd0a
       "version_major": 2,
       "version_minor": 0
      },
      "text/plain": [
       "  0%|          | 0/100000 [00:00<?, ?it/s]"
      ]
     },
     "metadata": {},
     "output_type": "display_data"
    },
    {
     "name": "stdout",
     "output_type": "stream",
     "text": [
<<<<<<< HEAD
      "[4200000]2m 오후나토시 아야사토구 를 뛰어넘는 높이로 야에야마 지진 당시 류큐 왕국 을 제외하면 일본에서 기록된 가장 높은 쓰나미이다\n"
=======
      "[5700000]The message was sent succesfully but an incomplete message group has been sent and the message was not the next message in the group\n"
>>>>>>> 56f09202397e4f6f7e070c90b8b85b03123ddd0a
     ]
    },
    {
     "data": {
      "application/vnd.jupyter.widget-view+json": {
<<<<<<< HEAD
       "model_id": "ff129f0b600e4e52885458334ef271f4",
=======
       "model_id": "fec19698463f46c08c37f28ff0a0858d",
>>>>>>> 56f09202397e4f6f7e070c90b8b85b03123ddd0a
       "version_major": 2,
       "version_minor": 0
      },
      "text/plain": [
<<<<<<< HEAD
       "  0%|          | 0/13444 [00:00<?, ?it/s]"
=======
       "  0%|          | 0/100000 [00:00<?, ?it/s]"
      ]
     },
     "metadata": {},
     "output_type": "display_data"
    },
    {
     "name": "stdout",
     "output_type": "stream",
     "text": [
      "[5800000]If REC TYPE is SPACES DATA REC and LEN areignored no application data is passed to the conversational service\n"
     ]
    },
    {
     "data": {
      "application/vnd.jupyter.widget-view+json": {
       "model_id": "1534fa0471164170809ccc2b1d5b987d",
       "version_major": 2,
       "version_minor": 0
      },
      "text/plain": [
       "  0%|          | 0/100000 [00:00<?, ?it/s]"
      ]
     },
     "metadata": {},
     "output_type": "display_data"
    },
    {
     "name": "stdout",
     "output_type": "stream",
     "text": [
      "[5900000]It arranges for the command to ignore TERM signals\n"
     ]
    },
    {
     "data": {
      "application/vnd.jupyter.widget-view+json": {
       "model_id": "ada8a5457a4d44f283e1e2b95a7c270f",
       "version_major": 2,
       "version_minor": 0
      },
      "text/plain": [
       "  0%|          | 0/100000 [00:00<?, ?it/s]"
      ]
     },
     "metadata": {},
     "output_type": "display_data"
    },
    {
     "name": "stdout",
     "output_type": "stream",
     "text": [
      "[6000000]2012년 하계 올림픽 감비아 선수단은 영국 런던에서 개최된 2012년 하계 올림픽에 참가한 올림픽 감비아 선수단이다\n"
     ]
    },
    {
     "data": {
      "application/vnd.jupyter.widget-view+json": {
       "model_id": "6d8a40e8405d4697b6c7362ca1e61c2b",
       "version_major": 2,
       "version_minor": 0
      },
      "text/plain": [
       "  0%|          | 0/57204 [00:00<?, ?it/s]"
>>>>>>> 56f09202397e4f6f7e070c90b8b85b03123ddd0a
      ]
     },
     "metadata": {},
     "output_type": "display_data"
    },
    {
     "name": "stdout",
     "output_type": "stream",
     "text": [
<<<<<<< HEAD
      "[4300000]Desperado 와 Under My Wheels Be My Lover 는 쿠퍼의 여러 컴필레이션 음반에 수록되었다\n",
      "\n",
      "===[out]====\n",
      "*len:3714432\n",
      "스포츠 팀 문화 활동 해외 여행 등의 다양한 과외활동을 제공한다\n",
      "남자 자유형 200m 종목의 예선기준 기록은 1분 47초 02이다\n",
      "1785년 정조 9 당시 성균관 대사성 민종현 이 왕명에 의해 편찬한 태학지 건치 에 반궁도 가 목판화로 있는데 본 계첩과 30여 년의 시간적 차이가 있어서 그간에 변화된 성균관의 건물을 비교해 볼 수 있다\n",
      "정지점 point of insertion 의 이름에 따라 명명된 세 부위로 나뉜다\n",
      "DRM Digital Right Management 은 콘텐츠 생산자 제공자의 권리와 이익을 보호하기 위한 기술을 말한다\n",
      "' 와 같은 것으로 언제나 확실하게 참인 것으로 판단되는 것을 말한다\n",
      "이때 체코슬로바키아 바이마르 공화국 단치히 자유시 리투아니아 라트비아 루마니아 왕국 소련과 국경을 접했으며 그디니아를 통한 좁은 회랑으로 발트 해에 접하였다\n",
      "매든은 754 승 705 패의 기록과 함께 자신의 재직 기간을 끝냈다\n",
      "드론 고정익 전투기를 운용할 수 있으며 50 000톤으로 추정되는 만재배수량도 유사하다\n",
      "그래서 주위에 있는 모든 레귤러 인물들이 이를 잘 알고 있다\n",
      "이 영화는 2001년 칸 국제 영화제에서 첫 상영하였고 왓츠의 전미 비평가 협회 여우주연상 수상과 미국 영화 연구소 여우주연상 후보 지명등 많은 상과 지명을 받았다\n"
=======
      "\n",
      "===[out]====\n",
      "*len:5334644\n",
      "인쇄 차단 알림 인쇄 차단된 경우 차단된 프로그램과 파일명 등을 알림 메시지로 보여줍니다\n",
      "예를 들어 아오 역에서 오사카난바 역까지의 연락 승차권은 구입할 수 없기 때문에 고베 전철 쪽에서 니시쿠조를 지나 승차하는 경우에는 일단 승차역에서 니시쿠조까지의 연락 승차권을 구입해 내리는 역의 정산기에서 부족한 운임을 정산해야 한다\n",
      "수리논리학에서 2차 논리 는 임의의 다항 관계 및 다항 연산에 대한 변수 및 이에 대한 전칭 존재 기호를 사용할 수 있는 논리이다\n",
      "이러한 애트리뷰트를 작성한 후 선택한 애트리뷰트에 대해 다음 설명 양식을 작성하십시오\n",
      "또한 단일 로그인 기능은 기존 인증 서비스와 통합되어야 하기 때문에 인증 Authentication 서비스와 긴밀하게 관련되어 있습니다\n",
      "2015년 기준으로 이 시리즈는 199억 달러의 가치가 있는 것으로 추정된다\n",
      "그녀는 단체 종합에서 금메달을 획득했고 개인 종합에서 동메달을 땄다\n",
      "여전히 공연 무대에 서고 새 음반도 녹음에 들어갔지만 1990년 11월 1일 김현식은 서울 동부이촌동 자택에서 간경화로 사망했다\n",
      "몸 때문에 생긴 그림자의 부재 가는 선으로 테두리가 둘러쳐진 '얕게' 채색된 화면 이례적인 원근법 풍경 속에서 아주 작게 묘사된 인물들이 그런 원칙들이었다\n",
      "2부리그에서 1위로 13년 만에 1부리그 복귀에 성공시켰다\n",
      "AMQ7902 The data conversion exit 3 was notloaded\n"
>>>>>>> 56f09202397e4f6f7e070c90b8b85b03123ddd0a
     ]
    }
   ],
   "source": [
    "from tqdm.notebook import tqdm\n",
    "\n",
    "# 1.분석할 text 읽어오기(한줄씩 읽어오기)\n",
    "with open(in_txt_path, 'r', encoding='utf8') as f:\n",
    "    #lines = f.read()\n",
    "    lines = f.readlines()\n",
    "    #print(lines)\n",
    "        \n",
    "training_corpus = get_generator_corpus(lines)\n",
    "        \n",
    "result=[]\n",
    "count = 0\n",
<<<<<<< HEAD
    "for lines in tqdm(training_corpus):\n",
=======
    "for lines in training_corpus:\n",
>>>>>>> 56f09202397e4f6f7e070c90b8b85b03123ddd0a
    "    for line in tqdm(lines):\n",
    "        \n",
    "        #print(line)\n",
    "        # false=제거함.\n",
    "        clearline = normalize(line, \n",
<<<<<<< HEAD
    "                              alphabet=alphabetP, number=numberP, punctuation=punctuationP, \n",
    "                              symbol=symbolP, repeat_num=repeat_numP, remove_start_string=remove_start_stringP,\n",
    "                              remove_search_string = remove_search_stringP,\n",
    "                              remove_repeat_word=remove_repeat_wordP, remove_repeat_char=remove_repeat_charP)\n",
    "        if clearline != None:\n",
    "            clearline1=clearline.strip()\n",
    "            count += 1\n",
    "            if count % print_count == 0:  # print_count 째마다 출력해봄\n",
    "                print(f'[{count}]{clearline1}')\n",
    "\n",
    "            #if clearline1 not in result: # ****순서유지 중복 제거(*순서유지하는 경우 시간 오래걸림)\n",
    "\n",
    "            # remove_min_len 보가 크고, remove_max_len 보다 작은 경우에만 저장\n",
    "            if clearline1 != None:\n",
    "                clearline1_len = len(clearline1)\n",
    "                if clearline1_len > remove_min_len and clearline1_len < remove_max_len: # 20자 이상인 경우에만 출력\n",
    "                    #print(clearline1)\n",
    "                    result.append(clearline1)\n",
=======
    "                              alphabet=alphabetP, number=numberP, punctuation=punctuationP, symbol=symbolP, \n",
    "                              remove_repeat_word=remove_repeat_wordP, remove_repeat_char=remove_repeat_charP)\n",
    "        \n",
    "        clearline1=clearline.strip()\n",
    "        count += 1\n",
    "        if count % print_count == 0:  # print_count 째마다 출력해봄\n",
    "            print(f'[{count}]{clearline1}')\n",
    "\n",
    "        #if clearline1 not in result: # ****순서유지 중복 제거(*순서유지하는 경우 시간 오래걸림)\n",
    "\n",
    "        # remove_min_len 보가 크고, remove_max_len 보다 작은 경우에만 저장\n",
    "        clearline1_len = len(clearline1)\n",
    "        if clearline1_len > remove_min_len and clearline1_len < remove_max_len: # 20자 이상인 경우에만 출력\n",
    "            #print(clearline1)\n",
    "            result.append(clearline1)\n",
>>>>>>> 56f09202397e4f6f7e070c90b8b85b03123ddd0a
    "    \n",
    "# 중복 문장 제거(*순서 유지 안함)\n",
    "#result = list(set(clearlinelist))\n",
    "\n",
    "print('\\r\\n===[out]====')\n",
    "print(f'*len:{len(result)}')\n",
    "count = 0\n",
    "for line1 in result:\n",
    "    print(line1)\n",
    "    count += 1\n",
    "    if count > 10:\n",
    "        break"
   ]
  },
  {
   "cell_type": "code",
   "execution_count": 5,
   "id": "18f3cb8d-054e-4dcb-a350-7a6ba754ff8a",
   "metadata": {},
   "outputs": [],
   "source": [
    "# 리스트를 파일로 저장\n",
    "with open(out_txt_path, 'w', encoding='utf8') as f:\n",
    "    f.write('\\n'.join(result))"
   ]
  },
  {
   "cell_type": "code",
   "execution_count": null,
   "id": "0e9ca533-b4ad-4204-9fb4-c2548bb9a17c",
   "metadata": {},
   "outputs": [],
   "source": []
  }
 ],
 "metadata": {
  "kernelspec": {
   "display_name": "Python 3 (ipykernel)",
   "language": "python",
   "name": "python3"
  },
  "language_info": {
   "codemirror_mode": {
    "name": "ipython",
    "version": 3
   },
   "file_extension": ".py",
   "mimetype": "text/x-python",
   "name": "python",
   "nbconvert_exporter": "python",
   "pygments_lexer": "ipython3",
<<<<<<< HEAD
   "version": "3.9.7"
=======
   "version": "3.7.0"
>>>>>>> 56f09202397e4f6f7e070c90b8b85b03123ddd0a
  }
 },
 "nbformat": 4,
 "nbformat_minor": 5
}

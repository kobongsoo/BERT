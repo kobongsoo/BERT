{
 "cells": [
  {
   "cell_type": "code",
   "execution_count": 1,
   "id": "049b7429-fce6-4268-a221-fb4131a5f037",
   "metadata": {},
   "outputs": [],
   "source": [
    "#############################################################################\n",
    "# regular express를 이용한 말뭉치 정재하기\n",
    "#\n",
    "#############################################################################\n",
    "# 정규화할 인자들\n",
    "alphabetP=True           # False=알바벳 제거\n",
    "numberP=True             # False=숫자제거\n",
    "punctuationP=False       # False=특수문자 (, . ? !) 제거\n",
    "symbolP=False            # False=괄호((), [], {}, ], ')등 제거\n",
    "repeat_numP=True        # False=반복되는 숫자+공백 제거 \n",
    "remove_start_stringP=False     # False=해당 패턴으로 시작하는 문장 제거\n",
    "remove_search_stringP=False     # False=해당 패턴 포함하는 문장 제거\n",
    "\n",
    "# 4번이상 반복되는 단어 중복 제거 (remove_repeat_wordP=2 : 2번만 호출)\n",
    "# => 예: 안녕안녕안녕안녕 => 안녕안녕, 안녕 안녕 안녕 안녕 => 그대로(*띄어쓰기한 단어는 중복제거 안됨)\n",
    "remove_repeat_wordP=2     \n",
    "\n",
    "# 4번이상 반복되는 문자 중복 제거 (nremove_repeat_charP=2 : 2번만 호출)\n",
    "# => 예: aaaaa => aa, aaa aaa aaa aaa => 그대로(*띄어쓰기한 문자는 중복제거 안됨)\n",
    "remove_repeat_charP=2\n",
    "\n",
    "# 정규화할 입력 text\n",
    "in_txt_path = '../../data11/my_corpus/kowiki-202206.txt'\n",
    "#in_txt_path = '../../../korpora/moco/test-60.txt'\n",
    "\n",
    "# 출력 text\n",
    "out_txt_path = '../../data11/my_corpus/re-kowiki-202206.txt'\n",
    "\n",
    "# 삭제할 최대 길이 문장\n",
    "remove_min_len = 30 # 20이면 20보다 작은문장은 제거함\n",
    "\n",
    "remove_max_len = 600 # 1000자 보다 큰 문장은 제거함\n",
    "\n",
    "print_count = 100000 # 10000번째마다 문장 출력해봄"
   ]
  },
  {
   "cell_type": "code",
   "execution_count": 2,
   "id": "de26396d-627d-487b-8732-44aa16668a8f",
   "metadata": {},
   "outputs": [],
   "source": [
    "# reqular 함수들 정의 \n",
    "\n",
    "# \\d\t숫자 [0-9]와 같다.\n",
    "# \\D\t비숫자 [^0-9]와 같다.\n",
    "# \\w\t숫자 + 문자 [a-zA-Z0-9]와 같다.\n",
    "# \\W\t숫자 + 문자가 아닌 것 [^a-zA-Z0-9]와 같다.\n",
    "# \\s\t공백 [ \\t\\n\\r\\f\\v]와 같다.\n",
    "# \\S\t비공백 [^ \\t\\n\\r\\f\\v]와 같다.\n",
    "# \\b\t단어 경계 (`\\w`와 `\\W`의 경계)\n",
    "# \\B\t비단어 경계\n",
    "\n",
    "import re\n",
    "\n",
    "doublespace_pattern = re.compile('\\s+')\n",
    "repeatchars_pattern = re.compile('(\\w)\\\\1{3,}')\n",
    "number_pattern = re.compile('[0-9]')\n",
    "punctuation_pattern = re.compile('[,\\.\\?\\!]')\n",
    "symbol_pattern = re.compile('[()\\[\\]\\{\\}`]')\n",
    "hangle_pattern = re.compile('[ㄱ-ㅎㅏ-ㅣ가-힣]')\n",
    "alphabet_pattern = re.compile('[a-zA-Z]')\n",
    "\n",
    "hangle_filter = re.compile('[^ㄱ-ㅎㅏ-ㅣ가-힣]')\n",
    "hangle_number_filter = re.compile('[^ㄱ-ㅎㅏ-ㅣ가-힣0-9]')\n",
    "text_filter = re.compile('[^ㄱ-ㅎㅏ-ㅣ가-힣a-zA-Z0-9,\\.\\?\\!\\\"\\'-()\\[\\]\\{\\}]')\n",
    "\n",
    "# 반복되는 숫자+띄어쓰기 패턴 제거 => 예: 12 13 14 11, 1 2 3 4 \n",
    "repeat_number_pattern = [\n",
    "    re.compile('\\d\\d\\s\\d\\s'),\n",
    "    re.compile('\\d\\s\\d\\d\\s'),\n",
    "    re.compile('\\d\\d\\s\\d\\d\\s'),\n",
    "    re.compile('\\d\\s\\d\\s'),\n",
    "]\n",
    "\n",
    "# 아래 패턴으로 시작하는 문장은 제거함\n",
    "# => 시작 문장이 아래 패턴이어야 함, 중간에 있는 경우 제거 안됨\n",
    "# => match 사용\n",
    "start_string_list = [\n",
    "    re.compile(\"UPDATE \", re.IGNORECASE),\n",
    "    re.compile(\"ALTER \", re.IGNORECASE),\n",
    "    re.compile(\"CREATE \", re.IGNORECASE),  \n",
    "    re.compile(\"IX A F\", re.IGNORECASE), \n",
    "    re.compile(\"INPUTQM \", re.IGNORECASE), \n",
    "    re.compile('echo \" ', re.IGNORECASE), \n",
    "    re.compile('MQCMD \" ', re.IGNORECASE), \n",
    "    re.compile('COMMENT ON \" ', re.IGNORECASE), \n",
    "    re.compile('FCFD'),\n",
    "    re.compile('FFLD'),\n",
    "    re.compile('ELSIF'),\n",
    "    re.compile('ELEMENT ERR'),\n",
    "    re.compile('BMSUSER IX'),\n",
    "    re.compile('PK A ADJ'),\n",
    "    re.compile('WMQ File'),\n",
    "    re.compile('IBM SMART ANALYTICS'),\n",
    "    re.compile('KHUB KIC'),  \n",
    "    re.compile('V 0x'),   \n",
    "    re.compile('PK A '),    \n",
    "    re.compile('N4 A '),    \n",
    "   \n",
    "    \n",
    "]\n",
    "\n",
    "# 아래 패턴을 포함하는 문장은 제거함\n",
    "# => search 사용\n",
    "search_string_list = [\n",
    "    re.compile(\"SQL SELECT \", re.IGNORECASE), # re.IGNORECASE = 대.소문자 구분 안함\n",
    "    re.compile('SELECT COUNT ', re.IGNORECASE),\n",
    "    re.compile(\"INSERT INTO \", re.IGNORECASE), \n",
    "    re.compile(\"SELECT FROM \", re.IGNORECASE),\n",
    "    re.compile(\"SELECT LOG \", re.IGNORECASE),\n",
    "    re.compile(\"SELECT STR \", re.IGNORECASE),\n",
    "    re.compile(\"DELETE FROM \", re.IGNORECASE),\n",
    "    re.compile('CString ', re.IGNORECASE), \n",
    "    re.compile('ULONG ', re.IGNORECASE), \n",
    "    re.compile('ULONGLONG \" ', re.IGNORECASE), \n",
    "    re.compile('PUCHAR \" ', re.IGNORECASE), \n",
    "    re.compile('VARCHAR ', re.IGNORECASE), \n",
    "    re.compile('ONLTEAISO ', re.IGNORECASE), \n",
    "    re.compile('EAI TRNS ', re.IGNORECASE), \n",
    "    re.compile('COMMENT ON ', re.IGNORECASE), \n",
    "    re.compile('DEFINE PROCESS ', re.IGNORECASE), \n",
    "    re.compile('EXEC SQL ', re.IGNORECASE), \n",
    "    re.compile('REPLACE DTL ', re.IGNORECASE), \n",
    "    re.compile(' Exception e ', re.IGNORECASE), \n",
    "    re.compile(' CASE WHEN ', re.IGNORECASE),  \n",
    "    re.compile('public void ', re.IGNORECASE),  \n",
    "    re.compile('DWORD ', re.IGNORECASE),  \n",
    "    re.compile('DEBUG ', re.IGNORECASE),    \n",
    "]\n",
    "\n",
    "##========================================================================\n",
    "# 4번이상 반복되는 단어 중복 제거 (num_repeat=2 : 2번만 호출)\n",
    "# => 예: 안녕안녕안녕안녕 => 안녕안녕, 안녕 안녕 안녕 안녕 => 그대로(*띄어쓰기한 단어는 중복제거 안됨)\n",
    "repeatchars_patterns = [\n",
    "    re.compile('(\\w\\w\\w\\w)\\\\1{3,}'),\n",
    "    re.compile('(\\w\\w\\w)\\\\1{3,}'),\n",
    "    re.compile('(\\w\\w)\\\\1{3,}'),\n",
    "    re.compile('(\\w)\\\\1{3,}')\n",
    "]\n",
    "\n",
    "def normalizetoken(sentence, num_repeat=2):\n",
    "    tokens = sentence.split()\n",
    "    return ' '.join(_normalize_korean_token(token, num_repeat) for token in tokens)\n",
    "\n",
    "def _normalize_korean_token(token, num_repeat=2):\n",
    "    #print(token)\n",
    "    #token = _normalize_emoji(token)\n",
    "    token = _remove_repeat(token, num_repeat)\n",
    "    return token\n",
    "\n",
    "def _remove_repeat(token, num_repeat=2):\n",
    "    if num_repeat > 0:\n",
    "        for pattern in repeatchars_patterns:\n",
    "            #print(pattern)\n",
    "            token = pattern.sub('\\\\1' * num_repeat, token)\n",
    "    return token\n",
    "##========================================================================\n",
    "\n",
    "\n",
    "def normalize(sentence, \n",
    "              alphabet=False, \n",
    "              number=False,\n",
    "              punctuation=False, \n",
    "              symbol=False, \n",
    "              repeat_num=False,\n",
    "              remove_start_string=False,\n",
    "              remove_search_string=False,\n",
    "              remove_repeat_word=0, \n",
    "              remove_repeat_char=0):\n",
    "\n",
    "    sentence = text_filter.sub(' ', sentence)\n",
    "    \n",
    "    # 패턴으로 시작하는 문장은 제거함\n",
    "    # =>**만약 시작패턴이 아니라 중간에 있는 패턴도 제거하려면 match=>search 사용\n",
    "    if not remove_start_string:\n",
    "        for pattern in start_string_list:\n",
    "            result = pattern.match(sentence)\n",
    "            if result != None:\n",
    "                 return None\n",
    "    \n",
    "    # 패턴이 포함된 문장은 제거함=>search 사용\n",
    "    if not remove_search_string:\n",
    "        for pattern in search_string_list:\n",
    "            result = pattern.search(sentence)\n",
    "            if result != None:\n",
    "                 return None\n",
    "                \n",
    "    if not alphabet:\n",
    "        sentence = alphabet_pattern.sub(' ', sentence)\n",
    "        \n",
    "    if not number:\n",
    "        sentence = number_pattern.sub(' ', sentence)\n",
    "        \n",
    "    if not punctuation:\n",
    "        sentence = punctuation_pattern.sub(' ', sentence)\n",
    "        \n",
    "    if not symbol:\n",
    "        sentence = symbol_pattern.sub(' ', sentence)\n",
    "        \n",
    "    if not repeat_num:\n",
    "        for num_pattern in repeat_number_pattern:\n",
    "             sentence = num_pattern.sub(' ', sentence)\n",
    "            \n",
    "    if remove_repeat_char > 0:\n",
    "        sentence = repeatchars_pattern.sub('\\\\1' * remove_repeat_char, sentence)\n",
    "        \n",
    "    if remove_repeat_word > 0:\n",
    "        sentence = normalizetoken(sentence, num_repeat=remove_repeat_word)\n",
    "        \n",
    "    return doublespace_pattern.sub(' ', sentence).strip()"
   ]
  },
  {
   "cell_type": "code",
   "execution_count": 3,
   "id": "0ba3e377-e63e-41b6-b72e-e724a17e30ac",
   "metadata": {},
   "outputs": [],
   "source": [
    "## yield 를 이용하여 generator 함수 정의    \n",
    "def get_generator_corpus(data, max_len: int=100000):\n",
    "    \n",
    "    #dataset = data\n",
    "    dataset = list(set(data)) # ****중복 문장 제거(*순서 유지 안함)\n",
    "    \n",
    "    for start_idx in range(0, len(dataset), max_len):\n",
    "        samples = dataset[start_idx : start_idx + max_len]\n",
    "        yield samples"
   ]
  },
  {
   "cell_type": "code",
   "execution_count": 4,
   "id": "6ccffa2c-71e7-4b6c-8dec-19c5dcb2a268",
   "metadata": {},
   "outputs": [
    {
     "data": {
      "application/vnd.jupyter.widget-view+json": {
       "model_id": "eb61e839f60e412eb3c3bce8364616b3",
       "version_major": 2,
       "version_minor": 0
      },
      "text/plain": [
       "0it [00:00, ?it/s]"
      ]
     },
     "metadata": {},
     "output_type": "display_data"
    },
    {
     "data": {
      "application/vnd.jupyter.widget-view+json": {
       "model_id": "8c84d0326d424b6b99a9653c979356c8",
       "version_major": 2,
       "version_minor": 0
      },
      "text/plain": [
       "  0%|          | 0/100000 [00:00<?, ?it/s]"
      ]
     },
     "metadata": {},
     "output_type": "display_data"
    },
    {
     "data": {
      "application/vnd.jupyter.widget-view+json": {
       "model_id": "a886db5eeaf944d8a620bbefe6452a87",
       "version_major": 2,
       "version_minor": 0
      },
      "text/plain": [
       "  0%|          | 0/100000 [00:00<?, ?it/s]"
      ]
     },
     "metadata": {},
     "output_type": "display_data"
    },
    {
     "name": "stdout",
     "output_type": "stream",
     "text": [
      "[100000]빌헬름 켐프는 첫 악장과 마지막 악장 모두를 위해 자신의 카덴자를 작곡했으며 이를 작품의 다양한 녹음에서 연주했다\n"
     ]
    },
    {
     "data": {
      "application/vnd.jupyter.widget-view+json": {
       "model_id": "1d48d7fa33754a68adda83f27e4c530f",
       "version_major": 2,
       "version_minor": 0
      },
      "text/plain": [
       "  0%|          | 0/100000 [00:00<?, ?it/s]"
      ]
     },
     "metadata": {},
     "output_type": "display_data"
    },
    {
     "name": "stdout",
     "output_type": "stream",
     "text": [
      "[200000]2000년 7월 14일 시부야 콰트로에서 개최된 UNDOWN vol\n"
     ]
    },
    {
     "data": {
      "application/vnd.jupyter.widget-view+json": {
       "model_id": "b8b53c6d94414282afa74f02409b3275",
       "version_major": 2,
       "version_minor": 0
      },
      "text/plain": [
       "  0%|          | 0/100000 [00:00<?, ?it/s]"
      ]
     },
     "metadata": {},
     "output_type": "display_data"
    },
    {
     "name": "stdout",
     "output_type": "stream",
     "text": [
      "[300000]은퇴 후 일본에서 사업 중인 장인의 사업을 도울 예정이다\n"
     ]
    },
    {
     "data": {
      "application/vnd.jupyter.widget-view+json": {
       "model_id": "29f474e8c58a411fb3ca15b15ec50c80",
       "version_major": 2,
       "version_minor": 0
      },
      "text/plain": [
       "  0%|          | 0/100000 [00:00<?, ?it/s]"
      ]
     },
     "metadata": {},
     "output_type": "display_data"
    },
    {
     "name": "stdout",
     "output_type": "stream",
     "text": [
      "[400000]유니언역과 가장 가까운 'L' 역이며 여러 메트라와 암트랙 열차의 터미널과 시카고 그레이하운드 버스 터미널과도 연결된다\n"
     ]
    },
    {
     "data": {
      "application/vnd.jupyter.widget-view+json": {
       "model_id": "46047986d91b46d8b417f8c650dd5636",
       "version_major": 2,
       "version_minor": 0
      },
      "text/plain": [
       "  0%|          | 0/100000 [00:00<?, ?it/s]"
      ]
     },
     "metadata": {},
     "output_type": "display_data"
    },
    {
     "name": "stdout",
     "output_type": "stream",
     "text": [
      "[500000]모음곡으로는 매우 선명한 리듬의 행진곡 우아한 꽃의 원무곡 성격무용의 트레팩 아라비아의 춤 중국의 춤 풀피리의 춤 등이 포함된다\n"
     ]
    },
    {
     "data": {
      "application/vnd.jupyter.widget-view+json": {
       "model_id": "15e4e53161514a238e4aac068cdfcd7f",
       "version_major": 2,
       "version_minor": 0
      },
      "text/plain": [
       "  0%|          | 0/100000 [00:00<?, ?it/s]"
      ]
     },
     "metadata": {},
     "output_type": "display_data"
    },
    {
     "name": "stdout",
     "output_type": "stream",
     "text": [
      "[600000]프랭크 윌스태시의 1926년 책 와일드 빌 히콕 권총잡이들의 왕자 가 이 전설을 널리 대중화시켰다\n"
     ]
    },
    {
     "data": {
      "application/vnd.jupyter.widget-view+json": {
       "model_id": "8797a0dcc631454fb9f836bdbfb371fc",
       "version_major": 2,
       "version_minor": 0
      },
      "text/plain": [
       "  0%|          | 0/100000 [00:00<?, ?it/s]"
      ]
     },
     "metadata": {},
     "output_type": "display_data"
    },
    {
     "name": "stdout",
     "output_type": "stream",
     "text": [
      "[700000]풋볼 리그컵 결승전에 선발 출장해 우승에 기여했으나 시즌의 대부분을 티보 쿠르트와에 밀려 벤치에서 보내야 했다\n"
     ]
    },
    {
     "data": {
      "application/vnd.jupyter.widget-view+json": {
       "model_id": "e323b14a6abc424c9e41854e583c0e99",
       "version_major": 2,
       "version_minor": 0
      },
      "text/plain": [
       "  0%|          | 0/100000 [00:00<?, ?it/s]"
      ]
     },
     "metadata": {},
     "output_type": "display_data"
    },
    {
     "name": "stdout",
     "output_type": "stream",
     "text": [
      "[800000]곧 1960년에 피에르 가브리엘 은 박사 학위 논문에서 아벨 범주의 이론을 정리하였다\n"
     ]
    },
    {
     "data": {
      "application/vnd.jupyter.widget-view+json": {
       "model_id": "d18632a2d33548488df126139f1a8073",
       "version_major": 2,
       "version_minor": 0
      },
      "text/plain": [
       "  0%|          | 0/100000 [00:00<?, ?it/s]"
      ]
     },
     "metadata": {},
     "output_type": "display_data"
    },
    {
     "name": "stdout",
     "output_type": "stream",
     "text": [
      "[900000]베른 협약은 만든이가 죽은 뒤에 적어도 50년까지 보호하도록 하고 있다\n"
     ]
    },
    {
     "data": {
      "application/vnd.jupyter.widget-view+json": {
       "model_id": "5ff960678a1440edbe452ae2258ca7b5",
       "version_major": 2,
       "version_minor": 0
      },
      "text/plain": [
       "  0%|          | 0/100000 [00:00<?, ?it/s]"
      ]
     },
     "metadata": {},
     "output_type": "display_data"
    },
    {
     "name": "stdout",
     "output_type": "stream",
     "text": [
      "[1000000]중화민국과 일본 사이의 공식적인 외교 관계가 부재한 관계로 비정부기구의 형식이지만 실질적으로는 중화민국 외교부 소관 기관이다\n"
     ]
    },
    {
     "data": {
      "application/vnd.jupyter.widget-view+json": {
       "model_id": "0373b2ef77fc49ad93fb56a41e4202b7",
       "version_major": 2,
       "version_minor": 0
      },
      "text/plain": [
       "  0%|          | 0/100000 [00:00<?, ?it/s]"
      ]
     },
     "metadata": {},
     "output_type": "display_data"
    },
    {
     "name": "stdout",
     "output_type": "stream",
     "text": [
      "[1100000]1999년에 마일리지 프로그램인 아시아 마일즈에 참가하게 된다\n"
     ]
    },
    {
     "data": {
      "application/vnd.jupyter.widget-view+json": {
       "model_id": "7dda23d5eb444fdfa3870a3793e69c67",
       "version_major": 2,
       "version_minor": 0
      },
      "text/plain": [
       "  0%|          | 0/100000 [00:00<?, ?it/s]"
      ]
     },
     "metadata": {},
     "output_type": "display_data"
    },
    {
     "name": "stdout",
     "output_type": "stream",
     "text": [
      "[1200000]최충의 손자인 장인 최사추는 당시의 여론을 주도할 정도로 정치적 영향력이 큰 인물이었다\n"
     ]
    },
    {
     "data": {
      "application/vnd.jupyter.widget-view+json": {
       "model_id": "9bb766024c144f029c0c0afa356f4899",
       "version_major": 2,
       "version_minor": 0
      },
      "text/plain": [
       "  0%|          | 0/100000 [00:00<?, ?it/s]"
      ]
     },
     "metadata": {},
     "output_type": "display_data"
    },
    {
     "name": "stdout",
     "output_type": "stream",
     "text": [
      "[1300000]앤드루 그랜빌 은 작은 소수의 배수를 고려하여 크라메르 모형을 개량하였는데 이에 따르면\n"
     ]
    },
    {
     "data": {
      "application/vnd.jupyter.widget-view+json": {
       "model_id": "d12d8171c96f491a85dd0ced8fd01c9f",
       "version_major": 2,
       "version_minor": 0
      },
      "text/plain": [
       "  0%|          | 0/100000 [00:00<?, ?it/s]"
      ]
     },
     "metadata": {},
     "output_type": "display_data"
    },
    {
     "name": "stdout",
     "output_type": "stream",
     "text": [
      "[1400000]언론 3사가 일제히 임사홍을 간신으로 지목하고 처벌할 것을 주장했다\n"
     ]
    },
    {
     "data": {
      "application/vnd.jupyter.widget-view+json": {
       "model_id": "86d34974d2ca40ae88bc5f0e18ba3156",
       "version_major": 2,
       "version_minor": 0
      },
      "text/plain": [
       "  0%|          | 0/100000 [00:00<?, ?it/s]"
      ]
     },
     "metadata": {},
     "output_type": "display_data"
    },
    {
     "name": "stdout",
     "output_type": "stream",
     "text": [
      "[1500000]프룬을 처음 접하는 사람이라면 처음부터 많이 먹기 보다는 4 5알 정도의 양으로 시작하여 점차 섭취량을 늘리는 것이 좋은 방법이다\n"
     ]
    },
    {
     "data": {
      "application/vnd.jupyter.widget-view+json": {
       "model_id": "30ce317aca1043cf9dde858e0e333d21",
       "version_major": 2,
       "version_minor": 0
      },
      "text/plain": [
       "  0%|          | 0/100000 [00:00<?, ?it/s]"
      ]
     },
     "metadata": {},
     "output_type": "display_data"
    },
    {
     "name": "stdout",
     "output_type": "stream",
     "text": [
      "[1600000]은 다항식 등급환 formula 39의 사영 스펙트럼이며 그 속의 사영 대수다양체 formula 40는 동차 아이디얼 formula 41에 의하여 정의된다\n"
     ]
    },
    {
     "data": {
      "application/vnd.jupyter.widget-view+json": {
       "model_id": "263ce2fdb3b14ca687830abcccbd5401",
       "version_major": 2,
       "version_minor": 0
      },
      "text/plain": [
       "  0%|          | 0/100000 [00:00<?, ?it/s]"
      ]
     },
     "metadata": {},
     "output_type": "display_data"
    },
    {
     "name": "stdout",
     "output_type": "stream",
     "text": [
      "[1700000]알탄 칸은 달라이 라마를 만나고 4년 후인 1582년에 세상을 떠났으며 그의 뒤를 이은 후임자도 불교에 귀의해 달라이 라마의 뜻을 펼치기 위해 노력하였다\n"
     ]
    },
    {
     "data": {
      "application/vnd.jupyter.widget-view+json": {
       "model_id": "270e0033ffaa4f2084fd37e5d09453b3",
       "version_major": 2,
       "version_minor": 0
      },
      "text/plain": [
       "  0%|          | 0/100000 [00:00<?, ?it/s]"
      ]
     },
     "metadata": {},
     "output_type": "display_data"
    },
    {
     "name": "stdout",
     "output_type": "stream",
     "text": [
      "[1800000]새끼들은 약 4년이면 성숙해지고 평균 31년을 산다\n"
     ]
    },
    {
     "data": {
      "application/vnd.jupyter.widget-view+json": {
       "model_id": "234fad998701461e993051caaf6b8e8b",
       "version_major": 2,
       "version_minor": 0
      },
      "text/plain": [
       "  0%|          | 0/100000 [00:00<?, ?it/s]"
      ]
     },
     "metadata": {},
     "output_type": "display_data"
    },
    {
     "name": "stdout",
     "output_type": "stream",
     "text": [
      "[1900000]하이 임피던스 상태는 기호로 \"Z\"라고 표기한다\n"
     ]
    },
    {
     "data": {
      "application/vnd.jupyter.widget-view+json": {
       "model_id": "1935fb8d4d404393b93411bc251f872b",
       "version_major": 2,
       "version_minor": 0
      },
      "text/plain": [
       "  0%|          | 0/100000 [00:00<?, ?it/s]"
      ]
     },
     "metadata": {},
     "output_type": "display_data"
    },
    {
     "name": "stdout",
     "output_type": "stream",
     "text": [
      "[2000000]그러나 이러한 국회의 입법은 사면권의 헌법 법리를 정면으로 부정하는 것으로서 대통령의 절대적인 대권인 사면권의 매우 중요하고 필수불가결한 권한인 불기소 특별사면권 놀리 프로시콰이 을 부정하는 위헌적인 법률이다\n"
     ]
    },
    {
     "data": {
      "application/vnd.jupyter.widget-view+json": {
       "model_id": "57566d5ddef24329b650b1b4df8fe2cd",
       "version_major": 2,
       "version_minor": 0
      },
      "text/plain": [
       "  0%|          | 0/100000 [00:00<?, ?it/s]"
      ]
     },
     "metadata": {},
     "output_type": "display_data"
    },
    {
     "name": "stdout",
     "output_type": "stream",
     "text": [
      "[2100000]기타 작품으로는 4권으로 나누어 출판된 역사만화인 겨레의 인걸 100인 이 있다\n"
     ]
    },
    {
     "data": {
      "application/vnd.jupyter.widget-view+json": {
       "model_id": "425d431b448144469b84fadf5cb53939",
       "version_major": 2,
       "version_minor": 0
      },
      "text/plain": [
       "  0%|          | 0/100000 [00:00<?, ?it/s]"
      ]
     },
     "metadata": {},
     "output_type": "display_data"
    },
    {
     "name": "stdout",
     "output_type": "stream",
     "text": [
      "[2200000]묘는 산기슭에 위치하며 봉분은 쌍분 합장묘로 정경부인 장수 황씨와의 합장묘이다\n"
     ]
    },
    {
     "data": {
      "application/vnd.jupyter.widget-view+json": {
       "model_id": "775916b66aa64e149e0d1f9b35a1e2a7",
       "version_major": 2,
       "version_minor": 0
      },
      "text/plain": [
       "  0%|          | 0/100000 [00:00<?, ?it/s]"
      ]
     },
     "metadata": {},
     "output_type": "display_data"
    },
    {
     "name": "stdout",
     "output_type": "stream",
     "text": [
      "[2300000]스위스는 EU 회원국이 아니지만 1995년 오스트리아가 가입한 이후로 리히텐슈타인과 함께 EU 영토로 둘러싸여 있다\n"
     ]
    },
    {
     "data": {
      "application/vnd.jupyter.widget-view+json": {
       "model_id": "b603df7b3322471b86a2fa182b9bf2ab",
       "version_major": 2,
       "version_minor": 0
      },
      "text/plain": [
       "  0%|          | 0/100000 [00:00<?, ?it/s]"
      ]
     },
     "metadata": {},
     "output_type": "display_data"
    },
    {
     "name": "stdout",
     "output_type": "stream",
     "text": [
      "[2400000]윌리엄 세익스피어의 탄생 400주기를 맞이해 런던의 서적상 포일이 준비한 유서 깊은 문학 조찬 모임에 레논이 참석한 지 나흘 되던 날인 4월 27일 레논은 책의 성공을 기념하는 모임에 참석했다\n"
     ]
    },
    {
     "data": {
      "application/vnd.jupyter.widget-view+json": {
       "model_id": "4383af333f2242ddb4f2149c0459823c",
       "version_major": 2,
       "version_minor": 0
      },
      "text/plain": [
       "  0%|          | 0/100000 [00:00<?, ?it/s]"
      ]
     },
     "metadata": {},
     "output_type": "display_data"
    },
    {
     "name": "stdout",
     "output_type": "stream",
     "text": [
      "[2500000]헐의 배에서 포격이 시작되었고 데르나의 대포에 한시간 가량 포탄을 퍼부었다\n"
     ]
    },
    {
     "data": {
      "application/vnd.jupyter.widget-view+json": {
       "model_id": "3a5d752a5d134c24b000b7e4196385b5",
       "version_major": 2,
       "version_minor": 0
      },
      "text/plain": [
       "  0%|          | 0/100000 [00:00<?, ?it/s]"
      ]
     },
     "metadata": {},
     "output_type": "display_data"
    },
    {
     "name": "stdout",
     "output_type": "stream",
     "text": [
      "[2600000]임진왜란 당시 분호조 좌랑이 되어 가산 의 군량 운송과 보급을 주관하였고 곧 가산군수를 역임하였다\n"
     ]
    },
    {
     "data": {
      "application/vnd.jupyter.widget-view+json": {
       "model_id": "44fcf114db5845918d0c3725c10318be",
       "version_major": 2,
       "version_minor": 0
      },
      "text/plain": [
       "  0%|          | 0/100000 [00:00<?, ?it/s]"
      ]
     },
     "metadata": {},
     "output_type": "display_data"
    },
    {
     "name": "stdout",
     "output_type": "stream",
     "text": [
      "[2700000]07km2 인구는 175명 2008년 기준 인구 밀도는 13명 km2이다\n"
     ]
    },
    {
     "data": {
      "application/vnd.jupyter.widget-view+json": {
       "model_id": "1402ed90fa634d7a87fbad8464709413",
       "version_major": 2,
       "version_minor": 0
      },
      "text/plain": [
       "  0%|          | 0/100000 [00:00<?, ?it/s]"
      ]
     },
     "metadata": {},
     "output_type": "display_data"
    },
    {
     "name": "stdout",
     "output_type": "stream",
     "text": [
      "[2800000]1962년에 프랑스와 서독은 각기 AMX 30과 레오파르트 1 전차의 시제품을 개발하고 테스트에 들어갔는데 평가 결과와 상관없이 각기 자국에서 개발한 전차를 고집하는 통에 동업 관계를 청산하게 되었다\n"
     ]
    },
    {
     "data": {
      "application/vnd.jupyter.widget-view+json": {
       "model_id": "66d817ab1bc74f6fb5578448dccec132",
       "version_major": 2,
       "version_minor": 0
      },
      "text/plain": [
       "  0%|          | 0/100000 [00:00<?, ?it/s]"
      ]
     },
     "metadata": {},
     "output_type": "display_data"
    },
    {
     "name": "stdout",
     "output_type": "stream",
     "text": [
      "[2900000]호크 휘하에서 근무했던 것으로 설정된 존 실버는 소설에서 자신의 잘린 다리에 대해 불사신 호크 제독이 지휘하는 전쟁에서 녀석을 잃었다 고 말하고 있다\n"
     ]
    },
    {
     "data": {
      "application/vnd.jupyter.widget-view+json": {
       "model_id": "555d04ea999c421c90d63cf33f1aace3",
       "version_major": 2,
       "version_minor": 0
      },
      "text/plain": [
       "  0%|          | 0/100000 [00:00<?, ?it/s]"
      ]
     },
     "metadata": {},
     "output_type": "display_data"
    },
    {
     "name": "stdout",
     "output_type": "stream",
     "text": [
      "[3000000]그는 작가 폴 스텐닝에게 이렇게 말했다\n"
     ]
    },
    {
     "data": {
      "application/vnd.jupyter.widget-view+json": {
       "model_id": "1c605346283847f8b93fac68da030c42",
       "version_major": 2,
       "version_minor": 0
      },
      "text/plain": [
       "  0%|          | 0/100000 [00:00<?, ?it/s]"
      ]
     },
     "metadata": {},
     "output_type": "display_data"
    },
    {
     "name": "stdout",
     "output_type": "stream",
     "text": [
      "[3100000]프레디 머큐리는 히드로 공항에서 잠깐 일한 적이 있는데 후에 후배 직원들이 Queen의 I want to break free에 맞추어 춤춘 영상이 공개되어 화제가 된 적 있다\n"
     ]
    },
    {
     "data": {
      "application/vnd.jupyter.widget-view+json": {
       "model_id": "ac71dc5ac30549418e60a15d953c7437",
       "version_major": 2,
       "version_minor": 0
      },
      "text/plain": [
       "  0%|          | 0/100000 [00:00<?, ?it/s]"
      ]
     },
     "metadata": {},
     "output_type": "display_data"
    },
    {
     "name": "stdout",
     "output_type": "stream",
     "text": [
      "[3200000]신선 식품의 취급 기간을 최대 4개월까지로 정해둔 덕분에 전술한 화재 사고로 인한 발사 일정 연기에도 큰 문제 없이 식품을 나를 수 있었다\n"
     ]
    },
    {
     "data": {
      "application/vnd.jupyter.widget-view+json": {
       "model_id": "cc9a7982ce28469499d81d3c70ff945b",
       "version_major": 2,
       "version_minor": 0
      },
      "text/plain": [
       "  0%|          | 0/100000 [00:00<?, ?it/s]"
      ]
     },
     "metadata": {},
     "output_type": "display_data"
    },
    {
     "name": "stdout",
     "output_type": "stream",
     "text": [
      "[3300000]쇼핑에 매진하다 보니 현재는 빚쟁이에 쫓겨 죽도록 달리기에 매진하고 있다\n"
     ]
    },
    {
     "data": {
      "application/vnd.jupyter.widget-view+json": {
       "model_id": "c508a86ce1eb44b48b7df85f427e6f22",
       "version_major": 2,
       "version_minor": 0
      },
      "text/plain": [
       "  0%|          | 0/100000 [00:00<?, ?it/s]"
      ]
     },
     "metadata": {},
     "output_type": "display_data"
    },
    {
     "name": "stdout",
     "output_type": "stream",
     "text": [
      "[3400000]UN 국제 영어 프랑스어 독일어 일본어 소통이 가능하다\n"
     ]
    },
    {
     "data": {
      "application/vnd.jupyter.widget-view+json": {
       "model_id": "c53d20c642dd46f08991c18b073b1b25",
       "version_major": 2,
       "version_minor": 0
      },
      "text/plain": [
       "  0%|          | 0/100000 [00:00<?, ?it/s]"
      ]
     },
     "metadata": {},
     "output_type": "display_data"
    },
    {
     "name": "stdout",
     "output_type": "stream",
     "text": [
      "[3500000]Shreve Lamb amp Harmon Associates에 의해 아르 데코 형식 설계되어 1931년에 준공하였다\n"
     ]
    },
    {
     "data": {
      "application/vnd.jupyter.widget-view+json": {
       "model_id": "c62d63082d3a45e080f59ebac32a011f",
       "version_major": 2,
       "version_minor": 0
      },
      "text/plain": [
       "  0%|          | 0/100000 [00:00<?, ?it/s]"
      ]
     },
     "metadata": {},
     "output_type": "display_data"
    },
    {
     "name": "stdout",
     "output_type": "stream",
     "text": [
      "[3600000]아버지 유발의 뒤를 이어 고시후 에 봉해졌다\n"
     ]
    },
    {
     "data": {
      "application/vnd.jupyter.widget-view+json": {
       "model_id": "94759b8ab65d47008ec5c02800795486",
       "version_major": 2,
       "version_minor": 0
      },
      "text/plain": [
       "  0%|          | 0/100000 [00:00<?, ?it/s]"
      ]
     },
     "metadata": {},
     "output_type": "display_data"
    },
    {
     "name": "stdout",
     "output_type": "stream",
     "text": [
      "[3700000]2004시즌을 앞두고 성남 일화 천마에 입단하며 프로 무대에 데뷔했다\n"
     ]
    },
    {
     "data": {
      "application/vnd.jupyter.widget-view+json": {
       "model_id": "8e314f3efd3243ffa6d1a54ec60b26f0",
       "version_major": 2,
       "version_minor": 0
      },
      "text/plain": [
       "  0%|          | 0/100000 [00:00<?, ?it/s]"
      ]
     },
     "metadata": {},
     "output_type": "display_data"
    },
    {
     "name": "stdout",
     "output_type": "stream",
     "text": [
      "[3800000]신공항 수요는 충분할 수 있다는 것이다\n"
     ]
    },
    {
     "data": {
      "application/vnd.jupyter.widget-view+json": {
       "model_id": "a26eff7bcf5e4b14969b6a7428f45926",
       "version_major": 2,
       "version_minor": 0
      },
      "text/plain": [
       "  0%|          | 0/100000 [00:00<?, ?it/s]"
      ]
     },
     "metadata": {},
     "output_type": "display_data"
    },
    {
     "name": "stdout",
     "output_type": "stream",
     "text": [
      "[3900000]오늘날 콜로라도주 조지아주 일리노이주 캔자스주 미네소타주 네브래스카주 네바다주 오리건주 사우스다코타주 워싱턴주와 위스콘신주에는 더글러스 카운티들이 있다\n"
     ]
    },
    {
     "data": {
      "application/vnd.jupyter.widget-view+json": {
       "model_id": "dfb81cfc653c42a5a32b6faa1bb72028",
       "version_major": 2,
       "version_minor": 0
      },
      "text/plain": [
       "  0%|          | 0/100000 [00:00<?, ?it/s]"
      ]
     },
     "metadata": {},
     "output_type": "display_data"
    },
    {
     "name": "stdout",
     "output_type": "stream",
     "text": [
      "[4000000]2019년 2월 7일 향년 만 73세로 별세했다\n"
     ]
    },
    {
     "data": {
      "application/vnd.jupyter.widget-view+json": {
       "model_id": "73c4887bd05a47038a15ba8816437208",
       "version_major": 2,
       "version_minor": 0
      },
      "text/plain": [
       "  0%|          | 0/100000 [00:00<?, ?it/s]"
      ]
     },
     "metadata": {},
     "output_type": "display_data"
    },
    {
     "name": "stdout",
     "output_type": "stream",
     "text": [
      "[4100000]흥분성 세포 는 막 전위에 의해 작동하는 전압 개폐 나트륨 통로나 칼슘 통로를 가지고 있는 세포를 의미한다\n"
     ]
    },
    {
     "data": {
      "application/vnd.jupyter.widget-view+json": {
       "model_id": "17eb7903b5664e0380eafafc57c53092",
       "version_major": 2,
       "version_minor": 0
      },
      "text/plain": [
       "  0%|          | 0/100000 [00:00<?, ?it/s]"
      ]
     },
     "metadata": {},
     "output_type": "display_data"
    },
    {
     "name": "stdout",
     "output_type": "stream",
     "text": [
      "[4200000]2m 오후나토시 아야사토구 를 뛰어넘는 높이로 야에야마 지진 당시 류큐 왕국 을 제외하면 일본에서 기록된 가장 높은 쓰나미이다\n"
     ]
    },
    {
     "data": {
      "application/vnd.jupyter.widget-view+json": {
       "model_id": "ff129f0b600e4e52885458334ef271f4",
       "version_major": 2,
       "version_minor": 0
      },
      "text/plain": [
       "  0%|          | 0/13444 [00:00<?, ?it/s]"
      ]
     },
     "metadata": {},
     "output_type": "display_data"
    },
    {
     "name": "stdout",
     "output_type": "stream",
     "text": [
      "[4300000]Desperado 와 Under My Wheels Be My Lover 는 쿠퍼의 여러 컴필레이션 음반에 수록되었다\n",
      "\n",
      "===[out]====\n",
      "*len:3714432\n",
      "스포츠 팀 문화 활동 해외 여행 등의 다양한 과외활동을 제공한다\n",
      "남자 자유형 200m 종목의 예선기준 기록은 1분 47초 02이다\n",
      "1785년 정조 9 당시 성균관 대사성 민종현 이 왕명에 의해 편찬한 태학지 건치 에 반궁도 가 목판화로 있는데 본 계첩과 30여 년의 시간적 차이가 있어서 그간에 변화된 성균관의 건물을 비교해 볼 수 있다\n",
      "정지점 point of insertion 의 이름에 따라 명명된 세 부위로 나뉜다\n",
      "DRM Digital Right Management 은 콘텐츠 생산자 제공자의 권리와 이익을 보호하기 위한 기술을 말한다\n",
      "' 와 같은 것으로 언제나 확실하게 참인 것으로 판단되는 것을 말한다\n",
      "이때 체코슬로바키아 바이마르 공화국 단치히 자유시 리투아니아 라트비아 루마니아 왕국 소련과 국경을 접했으며 그디니아를 통한 좁은 회랑으로 발트 해에 접하였다\n",
      "매든은 754 승 705 패의 기록과 함께 자신의 재직 기간을 끝냈다\n",
      "드론 고정익 전투기를 운용할 수 있으며 50 000톤으로 추정되는 만재배수량도 유사하다\n",
      "그래서 주위에 있는 모든 레귤러 인물들이 이를 잘 알고 있다\n",
      "이 영화는 2001년 칸 국제 영화제에서 첫 상영하였고 왓츠의 전미 비평가 협회 여우주연상 수상과 미국 영화 연구소 여우주연상 후보 지명등 많은 상과 지명을 받았다\n"
     ]
    }
   ],
   "source": [
    "from tqdm.notebook import tqdm\n",
    "\n",
    "# 1.분석할 text 읽어오기(한줄씩 읽어오기)\n",
    "with open(in_txt_path, 'r', encoding='utf8') as f:\n",
    "    #lines = f.read()\n",
    "    lines = f.readlines()\n",
    "    #print(lines)\n",
    "        \n",
    "training_corpus = get_generator_corpus(lines)\n",
    "        \n",
    "result=[]\n",
    "count = 0\n",
    "for lines in tqdm(training_corpus):\n",
    "    for line in tqdm(lines):\n",
    "        \n",
    "        #print(line)\n",
    "        # false=제거함.\n",
    "        clearline = normalize(line, \n",
    "                              alphabet=alphabetP, number=numberP, punctuation=punctuationP, \n",
    "                              symbol=symbolP, repeat_num=repeat_numP, remove_start_string=remove_start_stringP,\n",
    "                              remove_search_string = remove_search_stringP,\n",
    "                              remove_repeat_word=remove_repeat_wordP, remove_repeat_char=remove_repeat_charP)\n",
    "        if clearline != None:\n",
    "            clearline1=clearline.strip()\n",
    "            count += 1\n",
    "            if count % print_count == 0:  # print_count 째마다 출력해봄\n",
    "                print(f'[{count}]{clearline1}')\n",
    "\n",
    "            #if clearline1 not in result: # ****순서유지 중복 제거(*순서유지하는 경우 시간 오래걸림)\n",
    "\n",
    "            # remove_min_len 보가 크고, remove_max_len 보다 작은 경우에만 저장\n",
    "            if clearline1 != None:\n",
    "                clearline1_len = len(clearline1)\n",
    "                if clearline1_len > remove_min_len and clearline1_len < remove_max_len: # 20자 이상인 경우에만 출력\n",
    "                    #print(clearline1)\n",
    "                    result.append(clearline1)\n",
    "    \n",
    "# 중복 문장 제거(*순서 유지 안함)\n",
    "#result = list(set(clearlinelist))\n",
    "\n",
    "print('\\r\\n===[out]====')\n",
    "print(f'*len:{len(result)}')\n",
    "count = 0\n",
    "for line1 in result:\n",
    "    print(line1)\n",
    "    count += 1\n",
    "    if count > 10:\n",
    "        break"
   ]
  },
  {
   "cell_type": "code",
   "execution_count": 5,
   "id": "18f3cb8d-054e-4dcb-a350-7a6ba754ff8a",
   "metadata": {},
   "outputs": [],
   "source": [
    "# 리스트를 파일로 저장\n",
    "with open(out_txt_path, 'w', encoding='utf8') as f:\n",
    "    f.write('\\n'.join(result))"
   ]
  },
  {
   "cell_type": "code",
   "execution_count": null,
   "id": "0e9ca533-b4ad-4204-9fb4-c2548bb9a17c",
   "metadata": {},
   "outputs": [],
   "source": []
  }
 ],
 "metadata": {
  "kernelspec": {
   "display_name": "Python 3 (ipykernel)",
   "language": "python",
   "name": "python3"
  },
  "language_info": {
   "codemirror_mode": {
    "name": "ipython",
    "version": 3
   },
   "file_extension": ".py",
   "mimetype": "text/x-python",
   "name": "python",
   "nbconvert_exporter": "python",
   "pygments_lexer": "ipython3",
   "version": "3.9.7"
  }
 },
 "nbformat": 4,
 "nbformat_minor": 5
}

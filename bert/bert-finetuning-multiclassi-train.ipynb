{
 "cells": [
  {
   "cell_type": "code",
   "execution_count": 2,
   "id": "da9ba1c7-26e3-426e-a5b0-773f20ca3807",
   "metadata": {},
   "outputs": [
    {
     "name": "stderr",
     "output_type": "stream",
     "text": [
      "Failed to detect the name of this notebook, you can set it manually with the WANDB_NOTEBOOK_NAME environment variable to enable code saving.\n",
      "\u001b[34m\u001b[1mwandb\u001b[0m: You can find your API key in your browser here: https://wandb.ai/authorize\n"
     ]
    },
    {
     "name": "stdin",
     "output_type": "stream",
     "text": [
      "\u001b[34m\u001b[1mwandb\u001b[0m: Paste an API key from your profile and hit enter, or press ctrl+c to quit:  ········································\n"
     ]
    },
    {
     "name": "stderr",
     "output_type": "stream",
     "text": [
      "\u001b[34m\u001b[1mwandb\u001b[0m: Appending key for api.wandb.ai to your netrc file: /MOCOMSYS/.netrc\n"
     ]
    },
    {
     "data": {
      "text/plain": [
       "True"
      ]
     },
     "execution_count": 2,
     "metadata": {},
     "output_type": "execute_result"
    }
   ],
   "source": [
    "#======================================================================================================\n",
    "# *WandB 툴을 이용하여, loss를 시각화함(http://wandb.ai 에 회원가입 해야 함)\n",
    "# => !pip install wandb -qqq \n",
    "#\n",
    "#\n",
    "#======================================================================================================\n",
    "#!pip install wandb -qqq\n",
    "import wandb\n",
    "wandb.login()  # 로그인 => wandb.ai 사이트에 로그인 후, API Key 입력해야 함"
   ]
  },
  {
   "cell_type": "code",
   "execution_count": 5,
   "id": "3423f4ca-cb1f-410b-9a53-403cd78e1fb4",
   "metadata": {},
   "outputs": [
    {
     "name": "stdout",
     "output_type": "stream",
     "text": [
      "logfilepath:../../log/bertftmultitrain_2022-04-14.log\n",
      "True\n",
      "device: cuda:0\n",
      "cuda index: 0\n",
      "gpu 개수: 1\n",
      "graphic name: NVIDIA A30\n"
     ]
    }
   ],
   "source": [
    "#======================================================================================================\n",
    "# bert BertForSequenceClassification finetuning 예제\n",
    "# 참고 사이트 : https://zzaebok.github.io/deep_learning/nlp/Bert-for-classification/\n",
    "#\n",
    "#======================================================================================================\n",
    "\n",
    "import numpy as np\n",
    "import pandas as pd\n",
    "import torch\n",
    "from transformers import BertTokenizer, BertForSequenceClassification, BertConfig, BertModel, AdamW, get_linear_schedule_with_warmup\n",
    "from transformers import DistilBertTokenizer, DistilBertForSequenceClassification\n",
    "import torch.nn.functional as F\n",
    "\n",
    "import sys\n",
    "sys.path.append('..')\n",
    "from myutils import seed_everything, GPU_info, mlogging\n",
    "from tqdm.notebook import tqdm\n",
    "import os\n",
    "\n",
    "logger = mlogging(loggername=\"bertfttrain\", logfilename=\"../../log/bertftmultitrain\")\n",
    "device = GPU_info()\n",
    "seed_everything(111)\n",
    "\n"
   ]
  },
  {
   "cell_type": "code",
   "execution_count": 6,
   "id": "a1171a43-c3d9-460e-9795-7360948a1600",
   "metadata": {},
   "outputs": [
    {
     "name": "stderr",
     "output_type": "stream",
     "text": [
      "Some weights of the model checkpoint at ../../model/bert/bmc-fpt-wiki_20190620_mecab_false_0311-nouns-0327/ were not used when initializing BertForSequenceClassification: ['cls.predictions.transform.dense.weight', 'cls.predictions.decoder.weight', 'cls.predictions.transform.dense.bias', 'cls.predictions.decoder.bias', 'cls.predictions.transform.LayerNorm.weight', 'cls.predictions.transform.LayerNorm.bias', 'cls.predictions.bias']\n",
      "- This IS expected if you are initializing BertForSequenceClassification from the checkpoint of a model trained on another task or with another architecture (e.g. initializing a BertForSequenceClassification model from a BertForPreTraining model).\n",
      "- This IS NOT expected if you are initializing BertForSequenceClassification from the checkpoint of a model that you expect to be exactly identical (initializing a BertForSequenceClassification model from a BertForSequenceClassification model).\n",
      "Some weights of BertForSequenceClassification were not initialized from the model checkpoint at ../../model/bert/bmc-fpt-wiki_20190620_mecab_false_0311-nouns-0327/ and are newly initialized: ['classifier.weight', 'bert.pooler.dense.weight', 'bert.pooler.dense.bias', 'classifier.bias']\n",
      "You should probably TRAIN this model on a down-stream task to be able to use it for predictions and inference.\n"
     ]
    },
    {
     "data": {
      "text/plain": [
       "BertForSequenceClassification(\n",
       "  (bert): BertModel(\n",
       "    (embeddings): BertEmbeddings(\n",
       "      (word_embeddings): Embedding(167550, 768, padding_idx=0)\n",
       "      (position_embeddings): Embedding(512, 768)\n",
       "      (token_type_embeddings): Embedding(2, 768)\n",
       "      (LayerNorm): LayerNorm((768,), eps=1e-12, elementwise_affine=True)\n",
       "      (dropout): Dropout(p=0.1, inplace=False)\n",
       "    )\n",
       "    (encoder): BertEncoder(\n",
       "      (layer): ModuleList(\n",
       "        (0): BertLayer(\n",
       "          (attention): BertAttention(\n",
       "            (self): BertSelfAttention(\n",
       "              (query): Linear(in_features=768, out_features=768, bias=True)\n",
       "              (key): Linear(in_features=768, out_features=768, bias=True)\n",
       "              (value): Linear(in_features=768, out_features=768, bias=True)\n",
       "              (dropout): Dropout(p=0.1, inplace=False)\n",
       "            )\n",
       "            (output): BertSelfOutput(\n",
       "              (dense): Linear(in_features=768, out_features=768, bias=True)\n",
       "              (LayerNorm): LayerNorm((768,), eps=1e-12, elementwise_affine=True)\n",
       "              (dropout): Dropout(p=0.1, inplace=False)\n",
       "            )\n",
       "          )\n",
       "          (intermediate): BertIntermediate(\n",
       "            (dense): Linear(in_features=768, out_features=3072, bias=True)\n",
       "          )\n",
       "          (output): BertOutput(\n",
       "            (dense): Linear(in_features=3072, out_features=768, bias=True)\n",
       "            (LayerNorm): LayerNorm((768,), eps=1e-12, elementwise_affine=True)\n",
       "            (dropout): Dropout(p=0.1, inplace=False)\n",
       "          )\n",
       "        )\n",
       "        (1): BertLayer(\n",
       "          (attention): BertAttention(\n",
       "            (self): BertSelfAttention(\n",
       "              (query): Linear(in_features=768, out_features=768, bias=True)\n",
       "              (key): Linear(in_features=768, out_features=768, bias=True)\n",
       "              (value): Linear(in_features=768, out_features=768, bias=True)\n",
       "              (dropout): Dropout(p=0.1, inplace=False)\n",
       "            )\n",
       "            (output): BertSelfOutput(\n",
       "              (dense): Linear(in_features=768, out_features=768, bias=True)\n",
       "              (LayerNorm): LayerNorm((768,), eps=1e-12, elementwise_affine=True)\n",
       "              (dropout): Dropout(p=0.1, inplace=False)\n",
       "            )\n",
       "          )\n",
       "          (intermediate): BertIntermediate(\n",
       "            (dense): Linear(in_features=768, out_features=3072, bias=True)\n",
       "          )\n",
       "          (output): BertOutput(\n",
       "            (dense): Linear(in_features=3072, out_features=768, bias=True)\n",
       "            (LayerNorm): LayerNorm((768,), eps=1e-12, elementwise_affine=True)\n",
       "            (dropout): Dropout(p=0.1, inplace=False)\n",
       "          )\n",
       "        )\n",
       "        (2): BertLayer(\n",
       "          (attention): BertAttention(\n",
       "            (self): BertSelfAttention(\n",
       "              (query): Linear(in_features=768, out_features=768, bias=True)\n",
       "              (key): Linear(in_features=768, out_features=768, bias=True)\n",
       "              (value): Linear(in_features=768, out_features=768, bias=True)\n",
       "              (dropout): Dropout(p=0.1, inplace=False)\n",
       "            )\n",
       "            (output): BertSelfOutput(\n",
       "              (dense): Linear(in_features=768, out_features=768, bias=True)\n",
       "              (LayerNorm): LayerNorm((768,), eps=1e-12, elementwise_affine=True)\n",
       "              (dropout): Dropout(p=0.1, inplace=False)\n",
       "            )\n",
       "          )\n",
       "          (intermediate): BertIntermediate(\n",
       "            (dense): Linear(in_features=768, out_features=3072, bias=True)\n",
       "          )\n",
       "          (output): BertOutput(\n",
       "            (dense): Linear(in_features=3072, out_features=768, bias=True)\n",
       "            (LayerNorm): LayerNorm((768,), eps=1e-12, elementwise_affine=True)\n",
       "            (dropout): Dropout(p=0.1, inplace=False)\n",
       "          )\n",
       "        )\n",
       "        (3): BertLayer(\n",
       "          (attention): BertAttention(\n",
       "            (self): BertSelfAttention(\n",
       "              (query): Linear(in_features=768, out_features=768, bias=True)\n",
       "              (key): Linear(in_features=768, out_features=768, bias=True)\n",
       "              (value): Linear(in_features=768, out_features=768, bias=True)\n",
       "              (dropout): Dropout(p=0.1, inplace=False)\n",
       "            )\n",
       "            (output): BertSelfOutput(\n",
       "              (dense): Linear(in_features=768, out_features=768, bias=True)\n",
       "              (LayerNorm): LayerNorm((768,), eps=1e-12, elementwise_affine=True)\n",
       "              (dropout): Dropout(p=0.1, inplace=False)\n",
       "            )\n",
       "          )\n",
       "          (intermediate): BertIntermediate(\n",
       "            (dense): Linear(in_features=768, out_features=3072, bias=True)\n",
       "          )\n",
       "          (output): BertOutput(\n",
       "            (dense): Linear(in_features=3072, out_features=768, bias=True)\n",
       "            (LayerNorm): LayerNorm((768,), eps=1e-12, elementwise_affine=True)\n",
       "            (dropout): Dropout(p=0.1, inplace=False)\n",
       "          )\n",
       "        )\n",
       "        (4): BertLayer(\n",
       "          (attention): BertAttention(\n",
       "            (self): BertSelfAttention(\n",
       "              (query): Linear(in_features=768, out_features=768, bias=True)\n",
       "              (key): Linear(in_features=768, out_features=768, bias=True)\n",
       "              (value): Linear(in_features=768, out_features=768, bias=True)\n",
       "              (dropout): Dropout(p=0.1, inplace=False)\n",
       "            )\n",
       "            (output): BertSelfOutput(\n",
       "              (dense): Linear(in_features=768, out_features=768, bias=True)\n",
       "              (LayerNorm): LayerNorm((768,), eps=1e-12, elementwise_affine=True)\n",
       "              (dropout): Dropout(p=0.1, inplace=False)\n",
       "            )\n",
       "          )\n",
       "          (intermediate): BertIntermediate(\n",
       "            (dense): Linear(in_features=768, out_features=3072, bias=True)\n",
       "          )\n",
       "          (output): BertOutput(\n",
       "            (dense): Linear(in_features=3072, out_features=768, bias=True)\n",
       "            (LayerNorm): LayerNorm((768,), eps=1e-12, elementwise_affine=True)\n",
       "            (dropout): Dropout(p=0.1, inplace=False)\n",
       "          )\n",
       "        )\n",
       "        (5): BertLayer(\n",
       "          (attention): BertAttention(\n",
       "            (self): BertSelfAttention(\n",
       "              (query): Linear(in_features=768, out_features=768, bias=True)\n",
       "              (key): Linear(in_features=768, out_features=768, bias=True)\n",
       "              (value): Linear(in_features=768, out_features=768, bias=True)\n",
       "              (dropout): Dropout(p=0.1, inplace=False)\n",
       "            )\n",
       "            (output): BertSelfOutput(\n",
       "              (dense): Linear(in_features=768, out_features=768, bias=True)\n",
       "              (LayerNorm): LayerNorm((768,), eps=1e-12, elementwise_affine=True)\n",
       "              (dropout): Dropout(p=0.1, inplace=False)\n",
       "            )\n",
       "          )\n",
       "          (intermediate): BertIntermediate(\n",
       "            (dense): Linear(in_features=768, out_features=3072, bias=True)\n",
       "          )\n",
       "          (output): BertOutput(\n",
       "            (dense): Linear(in_features=3072, out_features=768, bias=True)\n",
       "            (LayerNorm): LayerNorm((768,), eps=1e-12, elementwise_affine=True)\n",
       "            (dropout): Dropout(p=0.1, inplace=False)\n",
       "          )\n",
       "        )\n",
       "        (6): BertLayer(\n",
       "          (attention): BertAttention(\n",
       "            (self): BertSelfAttention(\n",
       "              (query): Linear(in_features=768, out_features=768, bias=True)\n",
       "              (key): Linear(in_features=768, out_features=768, bias=True)\n",
       "              (value): Linear(in_features=768, out_features=768, bias=True)\n",
       "              (dropout): Dropout(p=0.1, inplace=False)\n",
       "            )\n",
       "            (output): BertSelfOutput(\n",
       "              (dense): Linear(in_features=768, out_features=768, bias=True)\n",
       "              (LayerNorm): LayerNorm((768,), eps=1e-12, elementwise_affine=True)\n",
       "              (dropout): Dropout(p=0.1, inplace=False)\n",
       "            )\n",
       "          )\n",
       "          (intermediate): BertIntermediate(\n",
       "            (dense): Linear(in_features=768, out_features=3072, bias=True)\n",
       "          )\n",
       "          (output): BertOutput(\n",
       "            (dense): Linear(in_features=3072, out_features=768, bias=True)\n",
       "            (LayerNorm): LayerNorm((768,), eps=1e-12, elementwise_affine=True)\n",
       "            (dropout): Dropout(p=0.1, inplace=False)\n",
       "          )\n",
       "        )\n",
       "        (7): BertLayer(\n",
       "          (attention): BertAttention(\n",
       "            (self): BertSelfAttention(\n",
       "              (query): Linear(in_features=768, out_features=768, bias=True)\n",
       "              (key): Linear(in_features=768, out_features=768, bias=True)\n",
       "              (value): Linear(in_features=768, out_features=768, bias=True)\n",
       "              (dropout): Dropout(p=0.1, inplace=False)\n",
       "            )\n",
       "            (output): BertSelfOutput(\n",
       "              (dense): Linear(in_features=768, out_features=768, bias=True)\n",
       "              (LayerNorm): LayerNorm((768,), eps=1e-12, elementwise_affine=True)\n",
       "              (dropout): Dropout(p=0.1, inplace=False)\n",
       "            )\n",
       "          )\n",
       "          (intermediate): BertIntermediate(\n",
       "            (dense): Linear(in_features=768, out_features=3072, bias=True)\n",
       "          )\n",
       "          (output): BertOutput(\n",
       "            (dense): Linear(in_features=3072, out_features=768, bias=True)\n",
       "            (LayerNorm): LayerNorm((768,), eps=1e-12, elementwise_affine=True)\n",
       "            (dropout): Dropout(p=0.1, inplace=False)\n",
       "          )\n",
       "        )\n",
       "        (8): BertLayer(\n",
       "          (attention): BertAttention(\n",
       "            (self): BertSelfAttention(\n",
       "              (query): Linear(in_features=768, out_features=768, bias=True)\n",
       "              (key): Linear(in_features=768, out_features=768, bias=True)\n",
       "              (value): Linear(in_features=768, out_features=768, bias=True)\n",
       "              (dropout): Dropout(p=0.1, inplace=False)\n",
       "            )\n",
       "            (output): BertSelfOutput(\n",
       "              (dense): Linear(in_features=768, out_features=768, bias=True)\n",
       "              (LayerNorm): LayerNorm((768,), eps=1e-12, elementwise_affine=True)\n",
       "              (dropout): Dropout(p=0.1, inplace=False)\n",
       "            )\n",
       "          )\n",
       "          (intermediate): BertIntermediate(\n",
       "            (dense): Linear(in_features=768, out_features=3072, bias=True)\n",
       "          )\n",
       "          (output): BertOutput(\n",
       "            (dense): Linear(in_features=3072, out_features=768, bias=True)\n",
       "            (LayerNorm): LayerNorm((768,), eps=1e-12, elementwise_affine=True)\n",
       "            (dropout): Dropout(p=0.1, inplace=False)\n",
       "          )\n",
       "        )\n",
       "        (9): BertLayer(\n",
       "          (attention): BertAttention(\n",
       "            (self): BertSelfAttention(\n",
       "              (query): Linear(in_features=768, out_features=768, bias=True)\n",
       "              (key): Linear(in_features=768, out_features=768, bias=True)\n",
       "              (value): Linear(in_features=768, out_features=768, bias=True)\n",
       "              (dropout): Dropout(p=0.1, inplace=False)\n",
       "            )\n",
       "            (output): BertSelfOutput(\n",
       "              (dense): Linear(in_features=768, out_features=768, bias=True)\n",
       "              (LayerNorm): LayerNorm((768,), eps=1e-12, elementwise_affine=True)\n",
       "              (dropout): Dropout(p=0.1, inplace=False)\n",
       "            )\n",
       "          )\n",
       "          (intermediate): BertIntermediate(\n",
       "            (dense): Linear(in_features=768, out_features=3072, bias=True)\n",
       "          )\n",
       "          (output): BertOutput(\n",
       "            (dense): Linear(in_features=3072, out_features=768, bias=True)\n",
       "            (LayerNorm): LayerNorm((768,), eps=1e-12, elementwise_affine=True)\n",
       "            (dropout): Dropout(p=0.1, inplace=False)\n",
       "          )\n",
       "        )\n",
       "        (10): BertLayer(\n",
       "          (attention): BertAttention(\n",
       "            (self): BertSelfAttention(\n",
       "              (query): Linear(in_features=768, out_features=768, bias=True)\n",
       "              (key): Linear(in_features=768, out_features=768, bias=True)\n",
       "              (value): Linear(in_features=768, out_features=768, bias=True)\n",
       "              (dropout): Dropout(p=0.1, inplace=False)\n",
       "            )\n",
       "            (output): BertSelfOutput(\n",
       "              (dense): Linear(in_features=768, out_features=768, bias=True)\n",
       "              (LayerNorm): LayerNorm((768,), eps=1e-12, elementwise_affine=True)\n",
       "              (dropout): Dropout(p=0.1, inplace=False)\n",
       "            )\n",
       "          )\n",
       "          (intermediate): BertIntermediate(\n",
       "            (dense): Linear(in_features=768, out_features=3072, bias=True)\n",
       "          )\n",
       "          (output): BertOutput(\n",
       "            (dense): Linear(in_features=3072, out_features=768, bias=True)\n",
       "            (LayerNorm): LayerNorm((768,), eps=1e-12, elementwise_affine=True)\n",
       "            (dropout): Dropout(p=0.1, inplace=False)\n",
       "          )\n",
       "        )\n",
       "        (11): BertLayer(\n",
       "          (attention): BertAttention(\n",
       "            (self): BertSelfAttention(\n",
       "              (query): Linear(in_features=768, out_features=768, bias=True)\n",
       "              (key): Linear(in_features=768, out_features=768, bias=True)\n",
       "              (value): Linear(in_features=768, out_features=768, bias=True)\n",
       "              (dropout): Dropout(p=0.1, inplace=False)\n",
       "            )\n",
       "            (output): BertSelfOutput(\n",
       "              (dense): Linear(in_features=768, out_features=768, bias=True)\n",
       "              (LayerNorm): LayerNorm((768,), eps=1e-12, elementwise_affine=True)\n",
       "              (dropout): Dropout(p=0.1, inplace=False)\n",
       "            )\n",
       "          )\n",
       "          (intermediate): BertIntermediate(\n",
       "            (dense): Linear(in_features=768, out_features=3072, bias=True)\n",
       "          )\n",
       "          (output): BertOutput(\n",
       "            (dense): Linear(in_features=3072, out_features=768, bias=True)\n",
       "            (LayerNorm): LayerNorm((768,), eps=1e-12, elementwise_affine=True)\n",
       "            (dropout): Dropout(p=0.1, inplace=False)\n",
       "          )\n",
       "        )\n",
       "      )\n",
       "    )\n",
       "    (pooler): BertPooler(\n",
       "      (dense): Linear(in_features=768, out_features=768, bias=True)\n",
       "      (activation): Tanh()\n",
       "    )\n",
       "  )\n",
       "  (dropout): Dropout(p=0.1, inplace=False)\n",
       "  (classifier): Linear(in_features=768, out_features=2, bias=True)\n",
       ")"
      ]
     },
     "execution_count": 6,
     "metadata": {},
     "output_type": "execute_result"
    }
   ],
   "source": [
    "##############################################################################################\n",
    "# 변수들 설정\n",
    "# - model_path : from_pretrained() 로 호출하는 경우에는 모델파일이 있는 폴더 경로나 \n",
    "#          huggingface에 등록된 모델명(예:'bert-base-multilingual-cased')\n",
    "#          torch.load(model)로 로딩하는 경우에는 모델 파일 풀 경로\n",
    "#\n",
    "# - vocab_path : from_pretrained() 호출하는 경우에는 모델파일이 있는 폴더 경로나\n",
    "#          huggingface에 등록된 모델명(예:'bert-base-multilingual-cased')   \n",
    "#          BertTokenizer() 로 호출하는 경우에는 vocab.txt 파일 풀 경로,\n",
    "#\n",
    "# - OUTPATH : 출력 모델, vocab 저장할 폴더 경로\n",
    "#############################################################################################\n",
    "\n",
    "#model_path = 'model/kobertmodel/'\n",
    "#vocab_path = 'model/kobertmodel/vocab/vocab.txt'\n",
    "#OUTPATH = 'model/classification/kobert-ft-es-cfmodel/'\n",
    "\n",
    "model_path = '../../model/bert/bmc-fpt-wiki_20190620_mecab_false_0311-nouns-0327/'\n",
    "vocab_path = '../../model/bert/bmc-fpt-wiki_20190620_mecab_false_0311-nouns-0327/'\n",
    "OUTPATH = '../../model/classification/bmc-fpt-wiki_20190620_mecab_false_0311-nouns-0327-nscm-0414/'\n",
    "\n",
    "# tokeniaer 및 model 설정\n",
    "#tokenizer = BertTokenizer.from_pretrained('bert-base-multilingual-cased')\n",
    "\n",
    "# strip_accents=False : True로 하면, 가자 => ㄱ ㅏ ㅈ ㅏ 식으로 토큰화 되어 버림(*따라서 한국어에서는 반드시 False)\n",
    "# do_lower_case=False : # 소문자 입력 사용 안함(한국어에서는 반드시 False)\n",
    "#tokenizer = BertTokenizer(vocab_file=vocab_path, strip_accents=False, do_lower_case=False) \n",
    "tokenizer = BertTokenizer.from_pretrained(vocab_path, do_lower_case=False)\n",
    "\n",
    "# 레벨을 1개만 선택하는 경우\n",
    "model = BertForSequenceClassification.from_pretrained(model_path, num_labels=2)\n",
    "#model = BertForSequenceClassification.from_pretrained('bert-base-multilingual-cased', num_labels=6)\n",
    "\n",
    "# 레벨을 멀티로 선택해야 하는 경우\n",
    "#model = BertForSequenceClassification.from_pretrained(model_path, problem_type=\"multi_label_classification\",num_labels=6)\n",
    "                   \n",
    "#기존 모델 파일을 로딩하는 경우    \n",
    "#model = torch.load(model_path) \n",
    "\n",
    "model.to(device)"
   ]
  },
  {
   "cell_type": "code",
   "execution_count": 7,
   "id": "a6814c46-b6cd-4fd9-aac9-eb1d5ef123da",
   "metadata": {},
   "outputs": [
    {
     "data": {
      "text/plain": [
       "214721282"
      ]
     },
     "execution_count": 7,
     "metadata": {},
     "output_type": "execute_result"
    }
   ],
   "source": [
    "model.num_parameters()"
   ]
  },
  {
   "cell_type": "code",
   "execution_count": 8,
   "id": "cf3ae263-b8b0-4160-a4e9-11e0370f4f49",
   "metadata": {},
   "outputs": [
    {
     "name": "stderr",
     "output_type": "stream",
     "text": [
      "\u001b[34m\u001b[1mwandb\u001b[0m: Currently logged in as: \u001b[33mkobongsoo\u001b[0m (use `wandb login --relogin` to force relogin)\n"
     ]
    },
    {
     "data": {
      "text/html": [
       "Tracking run with wandb version 0.12.14"
      ],
      "text/plain": [
       "<IPython.core.display.HTML object>"
      ]
     },
     "metadata": {},
     "output_type": "display_data"
    },
    {
     "data": {
      "text/html": [
       "Run data is saved locally in <code>/MOCOMSYS/dev/bong/BERT/bert/wandb/run-20220414_093713-q7pczmlo</code>"
      ],
      "text/plain": [
       "<IPython.core.display.HTML object>"
      ]
     },
     "metadata": {},
     "output_type": "display_data"
    },
    {
     "data": {
      "text/html": [
       "Syncing run <strong><a href=\"https://wandb.ai/kobongsoo/bert-ft-multiclassification/runs/q7pczmlo\" target=\"_blank\">misunderstood-wind-1</a></strong> to <a href=\"https://wandb.ai/kobongsoo/bert-ft-multiclassification\" target=\"_blank\">Weights & Biases</a> (<a href=\"https://wandb.me/run\" target=\"_blank\">docs</a>)<br/>"
      ],
      "text/plain": [
       "<IPython.core.display.HTML object>"
      ]
     },
     "metadata": {},
     "output_type": "display_data"
    }
   ],
   "source": [
    "# wandb 관련 hyper parameter들 설정\n",
    "wandb.init(\n",
    "        project='bert-ft-multiclassification',\n",
    "        config={\n",
    "            \"epochs\": 3,\n",
    "            \"batch_size\": 32,\n",
    "            \"lr\": 2e-5,\n",
    "        })\n",
    "\n",
    "config = wandb.config"
   ]
  },
  {
   "cell_type": "code",
   "execution_count": 11,
   "id": "160454e1-7845-452c-ac74-4d7e39fbcc34",
   "metadata": {},
   "outputs": [
    {
     "name": "stderr",
     "output_type": "stream",
     "text": [
      "2022-04-14 09:39:03,424 - bwpdataset - INFO - Loading features from cached file ../../korpora/nsmc/cached_BertTokenizer_128_ratings_train.txt [took 8.132 s]\n",
      "2022-04-14 09:39:05,308 - bwpdataset - INFO - Loading features from cached file ../../korpora/nsmc/cached_BertTokenizer_128_ratings_test.txt [took 1.450 s]\n"
     ]
    }
   ],
   "source": [
    "# 학습 data loader 생성\n",
    "from os import sys\n",
    "sys.path.append('..')\n",
    "from myutils import ClassificationCSVCorpus, ClassificationDataset, data_collator\n",
    "from torch.utils.data import DataLoader, RandomSampler\n",
    "\n",
    "#############################################################################\n",
    "# 변수 설정\n",
    "#############################################################################\n",
    "max_seq_len = 128   # 글자 최대 토큰 길이 해당 토큰 길이 이상은 잘린다.\n",
    "#batch_size = 32        # 배치 사이즈(64면 GUP Memory 오류 나므로, 32 이하로 설정할것=>max_seq_length 를 줄이면, 64도 가능함)\n",
    "\n",
    "# 훈련할 csv 파일\n",
    "#file_fpath = 'korpora/감성대화말뭉치/감성대화말뭉치(최종데이터)_renew_labelenc_Training.csv'\n",
    "file_fpath = '../../korpora/nsmc/ratings_train.txt'\n",
    "column_num = 3           # .csv 파일에 컬럼수(예: text, label만 있으면 =2)\n",
    "csvfile = 0              # 0:tsv 파일, 1: csv 파일\n",
    "label_list = [\"0\", \"1\"]  # .csv 파일에 레벨 목록( list로 입력해야 함)\n",
    "#label_list = [\"0\", \"1\", \"2\", \"3\", \"4\", \"5\"]  # .csv 파일에 레벨 목록( list로 입력해야 함)\n",
    "cache = False   # 캐쉬파일 생성할거면 True로 (True이면 loding할때 캐쉬파일있어도 이용안함)\n",
    "#############################################################################\n",
    "\n",
    "# corpus 파일 설정\n",
    "corpus = ClassificationCSVCorpus(column_num=column_num, iscsvfile=csvfile, label_list=label_list)\n",
    "\n",
    "# 학습 dataset 생성\n",
    "dataset = ClassificationDataset(file_fpath=file_fpath, max_seq_length=max_seq_len, tokenizer=tokenizer, corpus=corpus, overwrite_cache=cache)\n",
    "\n",
    "\n",
    "# 학습 dataloader 생성\n",
    "train_loader = DataLoader(dataset, \n",
    "                          batch_size=config.batch_size, \n",
    "                          #shuffle=True, # dataset을 섞음\n",
    "                          sampler=RandomSampler(dataset, replacement=False), #dataset을 랜덤하게 샘플링함\n",
    "                          collate_fn=data_collator, # dataset을 tensor로 변환(예시 {'input_ids':tensor[0,1,2,3,1,], 'token_type_id:tensor[0,0,0,0,0], 'attention_mask:tensor[1,1,1,1,1], 'labels':tensor[5]}\n",
    "                          num_workers=4)\n",
    "\n",
    "# 평가 dataset 생성\n",
    "#file_fpath = 'korpora/감성대화말뭉치/감성대화말뭉치(최종데이터)_renew_labelenc_Validation.csv'\n",
    "file_fpath = '../../korpora/nsmc/ratings_test.txt'\n",
    "dataset = ClassificationDataset(file_fpath=file_fpath, max_seq_length=max_seq_len, tokenizer=tokenizer, corpus=corpus, overwrite_cache=cache)\n",
    "\n",
    "\n",
    "# 평가 dataloader 생성\n",
    "eval_loader = DataLoader(dataset, \n",
    "                          batch_size=config.batch_size, \n",
    "                          #shuffle=True, # dataset을 섞음\n",
    "                          sampler=RandomSampler(dataset, replacement=False), #dataset을 랜덤하게 샘플링함\n",
    "                          collate_fn=data_collator, # dataset을 tensor로 변환(예시 {'input_ids':tensor[0,1,2,3,1,], 'token_type_id:tensor[0,0,0,0,0], 'attention_mask:tensor[1,1,1,1,1], 'labels':tensor[5]}\n",
    "                          num_workers=4)"
   ]
  },
  {
   "cell_type": "code",
   "execution_count": 12,
   "id": "ff76051d-a8f2-4bdf-9f24-a9ebc94742bb",
   "metadata": {},
   "outputs": [
    {
     "name": "stdout",
     "output_type": "stream",
     "text": [
      "167550\n",
      "[101, 9034, 10530, 124997, 11018, 125215, 10739, 69708, 42428, 10459, 10020, 129937, 10892, 132489, 12508, 49137, 102]\n",
      "৭\n",
      "123665\n"
     ]
    }
   ],
   "source": [
    "# tokenier 테스트\n",
    "print(len(tokenizer))\n",
    "print(tokenizer.encode(\"눈에 보이는 반전이었지만 영화의 흡인력은 사라지지 않았다\"))\n",
    "print(tokenizer.convert_ids_to_tokens(1000))\n",
    "print(tokenizer.convert_tokens_to_ids('날씨'))"
   ]
  },
  {
   "cell_type": "code",
   "execution_count": 16,
   "id": "b2af4d68-796d-4d39-9735-7c8021dfa42b",
   "metadata": {},
   "outputs": [
    {
     "data": {
      "application/vnd.jupyter.widget-view+json": {
       "model_id": "83bd95b46b034516a668af7115afb04f",
       "version_major": 2,
       "version_minor": 0
      },
      "text/plain": [
       "  0%|          | 0/3 [00:00<?, ?it/s]"
      ]
     },
     "metadata": {},
     "output_type": "display_data"
    },
    {
     "data": {
      "application/vnd.jupyter.widget-view+json": {
       "model_id": "e113719157c24a9496a658c5e103a4e1",
       "version_major": 2,
       "version_minor": 0
      },
      "text/plain": [
       "  0%|          | 0/4688 [00:00<?, ?it/s]"
      ]
     },
     "metadata": {},
     "output_type": "display_data"
    },
    {
     "name": "stderr",
     "output_type": "stream",
     "text": [
      "/tmp/ipykernel_110173/830095837.py:70: UserWarning: Implicit dimension choice for softmax has been deprecated. Change the call to include dim=X as an argument.\n",
      "  pred = torch.argmax(F.softmax(logits), dim=1)\n",
      "2022-04-14 09:48:55,961 - bertfttrain - INFO - [Epoch 1/3] Iteration 400 -> Train Loss: 0.4004, Train Accuracy: 0.820\n",
      "2022-04-14 09:48:55,961 - bertfttrain - INFO - [Epoch 1/3] Iteration 400 -> Train Loss: 0.4004, Train Accuracy: 0.820\n",
      "2022-04-14 09:49:53,234 - bertfttrain - INFO - [Epoch 1/3] Iteration 800 -> Train Loss: 0.3688, Train Accuracy: 0.836\n",
      "2022-04-14 09:49:53,234 - bertfttrain - INFO - [Epoch 1/3] Iteration 800 -> Train Loss: 0.3688, Train Accuracy: 0.836\n",
      "2022-04-14 09:50:52,316 - bertfttrain - INFO - [Epoch 1/3] Iteration 1200 -> Train Loss: 0.3576, Train Accuracy: 0.841\n",
      "2022-04-14 09:50:52,316 - bertfttrain - INFO - [Epoch 1/3] Iteration 1200 -> Train Loss: 0.3576, Train Accuracy: 0.841\n",
      "2022-04-14 09:51:49,786 - bertfttrain - INFO - [Epoch 1/3] Iteration 1600 -> Train Loss: 0.3581, Train Accuracy: 0.843\n",
      "2022-04-14 09:51:49,786 - bertfttrain - INFO - [Epoch 1/3] Iteration 1600 -> Train Loss: 0.3581, Train Accuracy: 0.843\n",
      "2022-04-14 09:52:49,665 - bertfttrain - INFO - [Epoch 1/3] Iteration 2000 -> Train Loss: 0.3388, Train Accuracy: 0.852\n",
      "2022-04-14 09:52:49,665 - bertfttrain - INFO - [Epoch 1/3] Iteration 2000 -> Train Loss: 0.3388, Train Accuracy: 0.852\n",
      "2022-04-14 09:53:48,357 - bertfttrain - INFO - [Epoch 1/3] Iteration 2400 -> Train Loss: 0.3337, Train Accuracy: 0.853\n",
      "2022-04-14 09:53:48,357 - bertfttrain - INFO - [Epoch 1/3] Iteration 2400 -> Train Loss: 0.3337, Train Accuracy: 0.853\n",
      "2022-04-14 09:54:47,273 - bertfttrain - INFO - [Epoch 1/3] Iteration 2800 -> Train Loss: 0.3295, Train Accuracy: 0.856\n",
      "2022-04-14 09:54:47,273 - bertfttrain - INFO - [Epoch 1/3] Iteration 2800 -> Train Loss: 0.3295, Train Accuracy: 0.856\n",
      "2022-04-14 09:55:45,713 - bertfttrain - INFO - [Epoch 1/3] Iteration 3200 -> Train Loss: 0.3195, Train Accuracy: 0.860\n",
      "2022-04-14 09:55:45,713 - bertfttrain - INFO - [Epoch 1/3] Iteration 3200 -> Train Loss: 0.3195, Train Accuracy: 0.860\n",
      "2022-04-14 09:56:44,637 - bertfttrain - INFO - [Epoch 1/3] Iteration 3600 -> Train Loss: 0.3195, Train Accuracy: 0.860\n",
      "2022-04-14 09:56:44,637 - bertfttrain - INFO - [Epoch 1/3] Iteration 3600 -> Train Loss: 0.3195, Train Accuracy: 0.860\n",
      "2022-04-14 09:57:41,878 - bertfttrain - INFO - [Epoch 1/3] Iteration 4000 -> Train Loss: 0.3138, Train Accuracy: 0.863\n",
      "2022-04-14 09:57:41,878 - bertfttrain - INFO - [Epoch 1/3] Iteration 4000 -> Train Loss: 0.3138, Train Accuracy: 0.863\n",
      "2022-04-14 09:58:39,052 - bertfttrain - INFO - [Epoch 1/3] Iteration 4400 -> Train Loss: 0.3107, Train Accuracy: 0.866\n",
      "2022-04-14 09:58:39,052 - bertfttrain - INFO - [Epoch 1/3] Iteration 4400 -> Train Loss: 0.3107, Train Accuracy: 0.866\n"
     ]
    },
    {
     "data": {
      "application/vnd.jupyter.widget-view+json": {
       "model_id": "9dbe062635f845d880a3b63d971ba6fa",
       "version_major": 2,
       "version_minor": 0
      },
      "text/plain": [
       "  0%|          | 0/1563 [00:00<?, ?it/s]"
      ]
     },
     "metadata": {},
     "output_type": "display_data"
    },
    {
     "name": "stderr",
     "output_type": "stream",
     "text": [
      "/tmp/ipykernel_110173/830095837.py:126: UserWarning: Implicit dimension choice for softmax has been deprecated. Change the call to include dim=X as an argument.\n",
      "  pred = torch.argmax(F.softmax(logits), dim=1)\n",
      "2022-04-14 10:00:14,774 - bertfttrain - INFO - [Epoch 1/3] Validatation Accuracy:0.86842\n",
      "2022-04-14 10:00:14,774 - bertfttrain - INFO - [Epoch 1/3] Validatation Accuracy:0.86842\n"
     ]
    },
    {
     "data": {
      "application/vnd.jupyter.widget-view+json": {
       "model_id": "6465847608ec47628bdea7313d55a7e5",
       "version_major": 2,
       "version_minor": 0
      },
      "text/plain": [
       "  0%|          | 0/4688 [00:00<?, ?it/s]"
      ]
     },
     "metadata": {},
     "output_type": "display_data"
    },
    {
     "name": "stderr",
     "output_type": "stream",
     "text": [
      "2022-04-14 10:00:31,120 - bertfttrain - INFO - [Epoch 2/3] Iteration 4800 -> Train Loss: 0.2954, Train Accuracy: 0.874\n",
      "2022-04-14 10:00:31,120 - bertfttrain - INFO - [Epoch 2/3] Iteration 4800 -> Train Loss: 0.2954, Train Accuracy: 0.874\n",
      "wandb: Network error (ReadTimeout), entering retry loop.\n",
      "2022-04-14 10:01:29,899 - bertfttrain - INFO - [Epoch 2/3] Iteration 5200 -> Train Loss: 0.2530, Train Accuracy: 0.898\n",
      "2022-04-14 10:01:29,899 - bertfttrain - INFO - [Epoch 2/3] Iteration 5200 -> Train Loss: 0.2530, Train Accuracy: 0.898\n",
      "2022-04-14 10:02:27,041 - bertfttrain - INFO - [Epoch 2/3] Iteration 5600 -> Train Loss: 0.2512, Train Accuracy: 0.895\n",
      "2022-04-14 10:02:27,041 - bertfttrain - INFO - [Epoch 2/3] Iteration 5600 -> Train Loss: 0.2512, Train Accuracy: 0.895\n",
      "2022-04-14 10:03:26,956 - bertfttrain - INFO - [Epoch 2/3] Iteration 6000 -> Train Loss: 0.2488, Train Accuracy: 0.902\n",
      "2022-04-14 10:03:26,956 - bertfttrain - INFO - [Epoch 2/3] Iteration 6000 -> Train Loss: 0.2488, Train Accuracy: 0.902\n",
      "2022-04-14 10:04:30,220 - bertfttrain - INFO - [Epoch 2/3] Iteration 6400 -> Train Loss: 0.2360, Train Accuracy: 0.905\n",
      "2022-04-14 10:04:30,220 - bertfttrain - INFO - [Epoch 2/3] Iteration 6400 -> Train Loss: 0.2360, Train Accuracy: 0.905\n",
      "2022-04-14 10:05:27,733 - bertfttrain - INFO - [Epoch 2/3] Iteration 6800 -> Train Loss: 0.2406, Train Accuracy: 0.900\n",
      "2022-04-14 10:05:27,733 - bertfttrain - INFO - [Epoch 2/3] Iteration 6800 -> Train Loss: 0.2406, Train Accuracy: 0.900\n",
      "2022-04-14 10:06:25,326 - bertfttrain - INFO - [Epoch 2/3] Iteration 7200 -> Train Loss: 0.2372, Train Accuracy: 0.904\n",
      "2022-04-14 10:06:25,326 - bertfttrain - INFO - [Epoch 2/3] Iteration 7200 -> Train Loss: 0.2372, Train Accuracy: 0.904\n",
      "2022-04-14 10:07:22,894 - bertfttrain - INFO - [Epoch 2/3] Iteration 7600 -> Train Loss: 0.2424, Train Accuracy: 0.898\n",
      "2022-04-14 10:07:22,894 - bertfttrain - INFO - [Epoch 2/3] Iteration 7600 -> Train Loss: 0.2424, Train Accuracy: 0.898\n",
      "2022-04-14 10:08:23,933 - bertfttrain - INFO - [Epoch 2/3] Iteration 8000 -> Train Loss: 0.2436, Train Accuracy: 0.901\n",
      "2022-04-14 10:08:23,933 - bertfttrain - INFO - [Epoch 2/3] Iteration 8000 -> Train Loss: 0.2436, Train Accuracy: 0.901\n",
      "2022-04-14 10:09:26,415 - bertfttrain - INFO - [Epoch 2/3] Iteration 8400 -> Train Loss: 0.2311, Train Accuracy: 0.904\n",
      "2022-04-14 10:09:26,415 - bertfttrain - INFO - [Epoch 2/3] Iteration 8400 -> Train Loss: 0.2311, Train Accuracy: 0.904\n",
      "2022-04-14 10:10:24,737 - bertfttrain - INFO - [Epoch 2/3] Iteration 8800 -> Train Loss: 0.2307, Train Accuracy: 0.907\n",
      "2022-04-14 10:10:24,737 - bertfttrain - INFO - [Epoch 2/3] Iteration 8800 -> Train Loss: 0.2307, Train Accuracy: 0.907\n",
      "2022-04-14 10:11:24,002 - bertfttrain - INFO - [Epoch 2/3] Iteration 9200 -> Train Loss: 0.2378, Train Accuracy: 0.899\n",
      "2022-04-14 10:11:24,002 - bertfttrain - INFO - [Epoch 2/3] Iteration 9200 -> Train Loss: 0.2378, Train Accuracy: 0.899\n"
     ]
    },
    {
     "data": {
      "application/vnd.jupyter.widget-view+json": {
       "model_id": "9d1de1309de14f0691dc501403af8ff1",
       "version_major": 2,
       "version_minor": 0
      },
      "text/plain": [
       "  0%|          | 0/1563 [00:00<?, ?it/s]"
      ]
     },
     "metadata": {},
     "output_type": "display_data"
    },
    {
     "name": "stderr",
     "output_type": "stream",
     "text": [
      "2022-04-14 10:12:45,035 - bertfttrain - INFO - [Epoch 2/3] Validatation Accuracy:0.8761\n",
      "2022-04-14 10:12:45,035 - bertfttrain - INFO - [Epoch 2/3] Validatation Accuracy:0.8761\n"
     ]
    },
    {
     "data": {
      "application/vnd.jupyter.widget-view+json": {
       "model_id": "251f2cce93eb4d92b882ce1fdf1c81bb",
       "version_major": 2,
       "version_minor": 0
      },
      "text/plain": [
       "  0%|          | 0/4688 [00:00<?, ?it/s]"
      ]
     },
     "metadata": {},
     "output_type": "display_data"
    },
    {
     "name": "stderr",
     "output_type": "stream",
     "text": [
      "2022-04-14 10:13:18,815 - bertfttrain - INFO - [Epoch 3/3] Iteration 9600 -> Train Loss: 0.2049, Train Accuracy: 0.917\n",
      "2022-04-14 10:13:18,815 - bertfttrain - INFO - [Epoch 3/3] Iteration 9600 -> Train Loss: 0.2049, Train Accuracy: 0.917\n",
      "2022-04-14 10:14:16,470 - bertfttrain - INFO - [Epoch 3/3] Iteration 10000 -> Train Loss: 0.1816, Train Accuracy: 0.931\n",
      "2022-04-14 10:14:16,470 - bertfttrain - INFO - [Epoch 3/3] Iteration 10000 -> Train Loss: 0.1816, Train Accuracy: 0.931\n",
      "2022-04-14 10:15:17,660 - bertfttrain - INFO - [Epoch 3/3] Iteration 10400 -> Train Loss: 0.1716, Train Accuracy: 0.933\n",
      "2022-04-14 10:15:17,660 - bertfttrain - INFO - [Epoch 3/3] Iteration 10400 -> Train Loss: 0.1716, Train Accuracy: 0.933\n",
      "2022-04-14 10:16:18,831 - bertfttrain - INFO - [Epoch 3/3] Iteration 10800 -> Train Loss: 0.1810, Train Accuracy: 0.930\n",
      "2022-04-14 10:16:18,831 - bertfttrain - INFO - [Epoch 3/3] Iteration 10800 -> Train Loss: 0.1810, Train Accuracy: 0.930\n",
      "2022-04-14 10:17:16,421 - bertfttrain - INFO - [Epoch 3/3] Iteration 11200 -> Train Loss: 0.1774, Train Accuracy: 0.929\n",
      "2022-04-14 10:17:16,421 - bertfttrain - INFO - [Epoch 3/3] Iteration 11200 -> Train Loss: 0.1774, Train Accuracy: 0.929\n",
      "2022-04-14 10:18:15,257 - bertfttrain - INFO - [Epoch 3/3] Iteration 11600 -> Train Loss: 0.1710, Train Accuracy: 0.934\n",
      "2022-04-14 10:18:15,257 - bertfttrain - INFO - [Epoch 3/3] Iteration 11600 -> Train Loss: 0.1710, Train Accuracy: 0.934\n",
      "2022-04-14 10:19:14,494 - bertfttrain - INFO - [Epoch 3/3] Iteration 12000 -> Train Loss: 0.1751, Train Accuracy: 0.932\n",
      "2022-04-14 10:19:14,494 - bertfttrain - INFO - [Epoch 3/3] Iteration 12000 -> Train Loss: 0.1751, Train Accuracy: 0.932\n",
      "2022-04-14 10:20:12,121 - bertfttrain - INFO - [Epoch 3/3] Iteration 12400 -> Train Loss: 0.1727, Train Accuracy: 0.933\n",
      "2022-04-14 10:20:12,121 - bertfttrain - INFO - [Epoch 3/3] Iteration 12400 -> Train Loss: 0.1727, Train Accuracy: 0.933\n",
      "2022-04-14 10:21:11,330 - bertfttrain - INFO - [Epoch 3/3] Iteration 12800 -> Train Loss: 0.1662, Train Accuracy: 0.936\n",
      "2022-04-14 10:21:11,330 - bertfttrain - INFO - [Epoch 3/3] Iteration 12800 -> Train Loss: 0.1662, Train Accuracy: 0.936\n",
      "2022-04-14 10:22:09,304 - bertfttrain - INFO - [Epoch 3/3] Iteration 13200 -> Train Loss: 0.1731, Train Accuracy: 0.933\n",
      "2022-04-14 10:22:09,304 - bertfttrain - INFO - [Epoch 3/3] Iteration 13200 -> Train Loss: 0.1731, Train Accuracy: 0.933\n",
      "2022-04-14 10:23:07,039 - bertfttrain - INFO - [Epoch 3/3] Iteration 13600 -> Train Loss: 0.1752, Train Accuracy: 0.932\n",
      "2022-04-14 10:23:07,039 - bertfttrain - INFO - [Epoch 3/3] Iteration 13600 -> Train Loss: 0.1752, Train Accuracy: 0.932\n",
      "2022-04-14 10:24:06,744 - bertfttrain - INFO - [Epoch 3/3] Iteration 14000 -> Train Loss: 0.1741, Train Accuracy: 0.936\n",
      "2022-04-14 10:24:06,744 - bertfttrain - INFO - [Epoch 3/3] Iteration 14000 -> Train Loss: 0.1741, Train Accuracy: 0.936\n"
     ]
    },
    {
     "data": {
      "application/vnd.jupyter.widget-view+json": {
       "model_id": "39c35ff6eb704c9eb345d07d4cda588e",
       "version_major": 2,
       "version_minor": 0
      },
      "text/plain": [
       "  0%|          | 0/1563 [00:00<?, ?it/s]"
      ]
     },
     "metadata": {},
     "output_type": "display_data"
    },
    {
     "name": "stderr",
     "output_type": "stream",
     "text": [
      "2022-04-14 10:25:10,843 - bertfttrain - INFO - [Epoch 3/3] Validatation Accuracy:0.87786\n",
      "2022-04-14 10:25:10,843 - bertfttrain - INFO - [Epoch 3/3] Validatation Accuracy:0.87786\n"
     ]
    }
   ],
   "source": [
    "# 학습 시작\n",
    "   \n",
    "    ##################################################\n",
    "    # 변수 설정\n",
    "    ##################################################\n",
    "    epochs = config.epochs            # epochs\n",
    "    learning_rate = config.lr  # 학습률\n",
    "    p_itr = 400           # 손실률 보여줄 step 수\n",
    "    ##################################################\n",
    "\n",
    "    # optimizer 적용\n",
    "    optimizer = AdamW(model.parameters(), \n",
    "                     lr=learning_rate, \n",
    "                     eps=1e-8) # 0으로 나누는 것을 방지하기 위한 epsilon 값(10^-6 ~ 10^-8 사이 이값 입력합)\n",
    "\n",
    "    # 총 훈련과정에서 반복할 스탭\n",
    "    total_steps = len(train_loader)*epochs\n",
    "\n",
    "    # 스캐줄러 생성\n",
    "    scheduler = get_linear_schedule_with_warmup(optimizer, \n",
    "                                                num_warmup_steps=0, \n",
    "                                                num_training_steps=total_steps)\n",
    "\n",
    "    itr = 1\n",
    "    total_loss = 0\n",
    "    total_len = 0\n",
    "    total_correct = 0\n",
    "    list_training_loss = []\n",
    "    list_acc_loss = []\n",
    "    list_validation_acc_loss = []\n",
    "\n",
    "    model.zero_grad()# 그래디언트 초기화\n",
    "    for epoch in tqdm(range(epochs)):\n",
    "\n",
    "        model.train() # 훈련모드로 변환\n",
    "        for data in tqdm(train_loader):\n",
    "\n",
    "            #optimizer.zero_grad()\n",
    "            model.zero_grad()# 그래디언트 초기화\n",
    "\n",
    "            # 입력 값 설정\n",
    "            input_ids = data['input_ids'].to(device)\n",
    "            attention_mask = data['attention_mask'].to(device)\n",
    "            token_type_ids = data['token_type_ids'].to(device)       \n",
    "            labels = data['labels'].to(device)\n",
    "            #print('Labels:{}'.format(labels))\n",
    "\n",
    "            # 모델 실행\n",
    "            outputs = model(input_ids=input_ids, \n",
    "                            attention_mask=attention_mask,\n",
    "                            token_type_ids=token_type_ids,\n",
    "                            labels=labels)\n",
    "\n",
    "            # 출력값 loss,logits를 outputs에서 얻어옴\n",
    "            loss = outputs.loss\n",
    "            logits = outputs.logits\n",
    "            #print('Loss:{}, logits:{}'.format(loss, logits))\n",
    "\n",
    "            # optimizer 과 scheduler 업데이트 시킴\n",
    "            loss.backward()   # backward 구함\n",
    "            torch.nn.utils.clip_grad_norm_(model.parameters(), 1.0)   # 그래디언트 클리핑 (gradient vanishing이나 gradient exploding 방지하기 위한 기법)\n",
    "            optimizer.step()  # 가중치 파라미터 업데이트(optimizer 이동)\n",
    "            scheduler.step()  # 학습률 감소\n",
    "\n",
    "            # 정확도와 손실률 계산하는 부분은 no_grade 시켜서, 계산량을 줄임.\n",
    "            # => torch.no_grad()는 gradient을 계산하는 autograd engine를 비활성화 하여 \n",
    "            # 필요한 메모리를 줄이고, 연산속도를 증가시키는 역활을 함\n",
    "            with torch.no_grad():\n",
    "                # 정확도와 총 손실률 계산\n",
    "                pred = torch.argmax(F.softmax(logits), dim=1)\n",
    "                correct = pred.eq(labels)\n",
    "                total_correct += correct.sum().item()\n",
    "                total_len += len(labels)    \n",
    "                total_loss += loss.item()\n",
    "\n",
    "                # 주기마다 test(validataion) 데이터로 평가하여 손실류 계산함.\n",
    "                if itr % p_itr == 0:\n",
    "\n",
    "                    logger.info('[Epoch {}/{}] Iteration {} -> Train Loss: {:.4f}, Train Accuracy: {:.3f}'.format(epoch+1, epochs, itr, total_loss/p_itr, total_correct/total_len))\n",
    "\n",
    "                    # wandb 로그 기록\n",
    "                    wandb.log({\"Loss\": total_loss/p_itr,\n",
    "                              \"Accuracy\": total_correct/total_len\n",
    "                              })\n",
    "\n",
    "                    list_training_loss.append(total_loss/p_itr)\n",
    "                    list_acc_loss.append(total_correct/total_len)\n",
    "\n",
    "                    total_loss = 0\n",
    "                    total_len = 0\n",
    "                    total_correct = 0\n",
    "\n",
    "\n",
    "            itr+=1\n",
    "\n",
    "        ####################################################################\n",
    "        # 1epochs 마다 실제 test(validattion)데이터로 평가 해봄\n",
    "        # 평가 시작\n",
    "        model.eval()\n",
    "\n",
    "        total_test_correct = 0\n",
    "        total_test_len = 0\n",
    "\n",
    "        for data in tqdm(eval_loader):\n",
    "            # 입력 값 설정\n",
    "            input_ids = data['input_ids'].to(device)\n",
    "            attention_mask = data['attention_mask'].to(device)\n",
    "            token_type_ids = data['token_type_ids'].to(device)       \n",
    "            labels = data['labels'].to(device)\n",
    "\n",
    "            # 손실률 계산하는 부분은 no_grade 시켜서, 계산량을 줄임.\n",
    "            # => torch.no_grad()는 gradient을 계산하는 autograd engine를 비활성화 하여 \n",
    "            # 필요한 메모리를 줄이고, 연산속도를 증가시키는 역활을 함\n",
    "            with torch.no_grad():\n",
    "                # 모델 실행\n",
    "                outputs = model(input_ids=input_ids, \n",
    "                                attention_mask=attention_mask,\n",
    "                                token_type_ids=token_type_ids,\n",
    "                                labels=labels)\n",
    "\n",
    "                # 출력값 loss,logits를 outputs에서 얻어옴\n",
    "                #loss = outputs.loss\n",
    "                logits = outputs.logits\n",
    "\n",
    "                # 총 손실류 구함\n",
    "                pred = torch.argmax(F.softmax(logits), dim=1)\n",
    "                correct = pred.eq(labels)\n",
    "                total_test_correct += correct.sum().item()\n",
    "                total_test_len += len(labels)\n",
    "\n",
    "        list_validation_acc_loss.append(total_test_correct/total_test_len)\n",
    "        logger.info(\"[Epoch {}/{}] Validatation Accuracy:{}\".format(epoch+1, epochs, total_test_correct / total_test_len))\n",
    "\n",
    "        # wandb 로그 기록\n",
    "        wandb.log({\"Validatation Accurac\": total_test_correct / total_test_len\n",
    "                  })\n",
    "\n",
    "        ####################################################################\n",
    "   \n",
    "        "
   ]
  },
  {
   "cell_type": "code",
   "execution_count": 18,
   "id": "bdbe8b51-19eb-4562-a5be-317702cfcb73",
   "metadata": {},
   "outputs": [
    {
     "name": "stdout",
     "output_type": "stream",
     "text": [
      "\n"
     ]
    },
    {
     "data": {
      "text/html": [
       "Waiting for W&B process to finish... <strong style=\"color:green\">(success).</strong>"
      ],
      "text/plain": [
       "<IPython.core.display.HTML object>"
      ]
     },
     "metadata": {},
     "output_type": "display_data"
    },
    {
     "data": {
      "application/vnd.jupyter.widget-view+json": {
       "model_id": "",
       "version_major": 2,
       "version_minor": 0
      },
      "text/plain": [
       "VBox(children=(Label(value='0.001 MB of 0.001 MB uploaded (0.000 MB deduped)\\r'), FloatProgress(value=1.0, max…"
      ]
     },
     "metadata": {},
     "output_type": "display_data"
    },
    {
     "data": {
      "text/html": [
       "<style>\n",
       "    table.wandb td:nth-child(1) { padding: 0 10px; text-align: right }\n",
       "    .wandb-row { display: flex; flex-direction: row; flex-wrap: wrap; width: 100% }\n",
       "    .wandb-col { display: flex; flex-direction: column; flex-basis: 100%; flex: 1; padding: 10px; }\n",
       "    </style>\n",
       "<div class=\"wandb-row\"><div class=\"wandb-col\"><h3>Run history:</h3><br/><table class=\"wandb\"><tr><td>Accuracy</td><td>▁▂▂▂▃▃▃▃▃▄▄▄▆▆▆▆▆▆▆▆▆▆▆▇███████████</td></tr><tr><td>Loss</td><td>█▇▇▇▆▆▆▆▆▅▅▅▄▄▃▃▃▃▃▃▃▃▃▂▁▁▁▁▁▁▁▁▁▁▁</td></tr><tr><td>Validatation Accurac</td><td>▁▇█</td></tr></table><br/></div><div class=\"wandb-col\"><h3>Run summary:</h3><br/><table class=\"wandb\"><tr><td>Accuracy</td><td>0.93617</td></tr><tr><td>Loss</td><td>0.17405</td></tr><tr><td>Validatation Accurac</td><td>0.87786</td></tr></table><br/></div></div>"
      ],
      "text/plain": [
       "<IPython.core.display.HTML object>"
      ]
     },
     "metadata": {},
     "output_type": "display_data"
    },
    {
     "data": {
      "text/html": [
       "Synced <strong style=\"color:#cdcd00\">misunderstood-wind-1</strong>: <a href=\"https://wandb.ai/kobongsoo/bert-ft-multiclassification/runs/q7pczmlo\" target=\"_blank\">https://wandb.ai/kobongsoo/bert-ft-multiclassification/runs/q7pczmlo</a><br/>Synced 6 W&B file(s), 0 media file(s), 0 artifact file(s) and 0 other file(s)"
      ],
      "text/plain": [
       "<IPython.core.display.HTML object>"
      ]
     },
     "metadata": {},
     "output_type": "display_data"
    },
    {
     "data": {
      "text/html": [
       "Find logs at: <code>./wandb/run-20220414_093713-q7pczmlo/logs</code>"
      ],
      "text/plain": [
       "<IPython.core.display.HTML object>"
      ]
     },
     "metadata": {},
     "output_type": "display_data"
    }
   ],
   "source": [
    "# wnandb 종료\n",
    "wandb.finish()"
   ]
  },
  {
   "cell_type": "code",
   "execution_count": 7,
   "id": "e0b0f930-7f94-4acb-ab54-9e57985f513d",
   "metadata": {},
   "outputs": [
    {
     "data": {
      "image/png": "[encoded data removed]",
      "text/plain": [
       "<Figure size 432x288 with 1 Axes>"
      ]
     },
     "metadata": {
      "needs_background": "light"
     },
     "output_type": "display_data"
    }
   ],
   "source": [
    "# 그래프로 loss 표기\n",
    "#!pip install matplotlib\n",
    "import matplotlib.pyplot as plt\n",
    "\n",
    "plt.plot(list_training_loss, label='Train Loss')\n",
    "plt.plot(list_acc_loss, label='Train Accuracy')\n",
    "plt.legend()\n",
    "plt.show()"
   ]
  },
  {
   "cell_type": "code",
   "execution_count": 8,
   "id": "3e39d088-5f2a-48c3-99fc-d9648ae5e336",
   "metadata": {},
   "outputs": [
    {
     "data": {
      "image/png": "[encoded data removed]",
      "text/plain": [
       "<Figure size 432x288 with 1 Axes>"
      ]
     },
     "metadata": {
      "needs_background": "light"
     },
     "output_type": "display_data"
    }
   ],
   "source": [
    "# train loss와 Validatiaon acc 출력\n",
    "plt.plot(list_training_loss, label='Train Loss')\n",
    "plt.plot(list_validation_acc_loss, label='Validatiaon Accuracy')\n",
    "plt.legend()\n",
    "plt.show()"
   ]
  },
  {
   "cell_type": "code",
   "execution_count": 9,
   "id": "66e0678a-51be-4335-8435-b5e75dc97b65",
   "metadata": {},
   "outputs": [
    {
     "data": {
      "text/plain": [
       "('model/classification/bmc-fpt-wiki_20190620_mecab_false_0311-nouns-0327-nscm-0329/vocab/tokenizer_config.json',\n",
       " 'model/classification/bmc-fpt-wiki_20190620_mecab_false_0311-nouns-0327-nscm-0329/vocab/special_tokens_map.json',\n",
       " 'model/classification/bmc-fpt-wiki_20190620_mecab_false_0311-nouns-0327-nscm-0329/vocab/vocab.txt',\n",
       " 'model/classification/bmc-fpt-wiki_20190620_mecab_false_0311-nouns-0327-nscm-0329/vocab/added_tokens.json')"
      ]
     },
     "execution_count": 9,
     "metadata": {},
     "output_type": "execute_result"
    }
   ],
   "source": [
    "### 전체모델 저장\n",
    "os.makedirs(OUTPATH)\n",
    "#torch.save(model, OUTPATH + 'pytorch_model.bin') \n",
    "model.save_pretrained(OUTPATH)  # save_pretrained 로 저장하면 config.json, pytorch_model.bin 2개의 파일이 생성됨\n",
    "\n",
    "# tokeinizer 파일 저장(vocab)\n",
    "VOCAB_PATH = OUTPATH + 'vocab'\n",
    "os.makedirs(VOCAB_PATH)\n",
    "tokenizer.save_pretrained(VOCAB_PATH)"
   ]
  },
  {
   "cell_type": "code",
   "execution_count": 10,
   "id": "8fac7a89-f56e-42ea-a56d-2931254df36e",
   "metadata": {},
   "outputs": [
    {
     "data": {
      "application/vnd.jupyter.widget-view+json": {
       "model_id": "c03a0993ec34443fb8934bcba03fc886",
       "version_major": 2,
       "version_minor": 0
      },
      "text/plain": [
       "  0%|          | 0/1563 [00:00<?, ?it/s]"
      ]
     },
     "metadata": {},
     "output_type": "display_data"
    },
    {
     "name": "stderr",
     "output_type": "stream",
     "text": [
      "/tmp/ipykernel_83495/4265055506.py:27: UserWarning: Implicit dimension choice for softmax has been deprecated. Change the call to include dim=X as an argument.\n",
      "  pred = torch.argmax(F.softmax(logits), dim=1)\n",
      "2022-03-29 13:16:10,863 - bertfttrain - INFO - Test-accuracy: 0.87684\n"
     ]
    },
    {
     "name": "stdout",
     "output_type": "stream",
     "text": [
      "Test-accuracy:  0.87684\n"
     ]
    }
   ],
   "source": [
    "# 최종 평가 시작\n",
    "model.eval()\n",
    "\n",
    "total_loss = 0\n",
    "total_len = 0\n",
    "total_correct = 0\n",
    "\n",
    "for data in tqdm(eval_loader):\n",
    "   \n",
    "    # 입력 값 설정\n",
    "    input_ids = data['input_ids'].to(device)\n",
    "    attention_mask = data['attention_mask'].to(device)\n",
    "    token_type_ids = data['token_type_ids'].to(device)       \n",
    "    labels = data['labels'].to(device)\n",
    " \n",
    "    # 모델 실행\n",
    "    outputs = model(input_ids=input_ids, \n",
    "                   attention_mask=attention_mask,\n",
    "                   token_type_ids=token_type_ids,\n",
    "                   labels=labels)\n",
    "    \n",
    "     # 출력값 loss,logits를 outputs에서 얻어옴\n",
    "    loss = outputs.loss\n",
    "    logits = outputs.logits\n",
    "    \n",
    "    # 총 손실류 구함\n",
    "    pred = torch.argmax(F.softmax(logits), dim=1)\n",
    "    correct = pred.eq(labels)\n",
    "    total_correct += correct.sum().item()\n",
    "    total_len += len(labels)\n",
    "\n",
    "print('Test-accuracy: ', total_correct / total_len)\n",
    "logger.info(f\"Test-accuracy: {total_correct / total_len}\")\n",
    "    \n"
   ]
  },
  {
   "cell_type": "code",
   "execution_count": 11,
   "id": "afa8e8c5-c642-468f-940c-630083165c15",
   "metadata": {},
   "outputs": [
    {
     "data": {
      "text/plain": [
       "\"\\ntorch.save({\\n    'model': model.state_dict(),\\n    'optimizer': optimizer.state_dict()\\n}, OUTPATH + 'all.tar')  \\n\""
      ]
     },
     "execution_count": 11,
     "metadata": {},
     "output_type": "execute_result"
    }
   ],
   "source": [
    "# 여러 가지 값 저장, 학습 중 진행 상황 저장을 위해 epoch, loss 값 등 일반 scalar값 저장 가능\n",
    "'''\n",
    "torch.save({\n",
    "    'model': model.state_dict(),\n",
    "    'optimizer': optimizer.state_dict()\n",
    "}, OUTPATH + 'all.tar')  \n",
    "'''"
   ]
  }
 ],
 "metadata": {
  "kernelspec": {
   "display_name": "Python 3 (ipykernel)",
   "language": "python",
   "name": "python3"
  },
  "language_info": {
   "codemirror_mode": {
    "name": "ipython",
    "version": 3
   },
   "file_extension": ".py",
   "mimetype": "text/x-python",
   "name": "python",
   "nbconvert_exporter": "python",
   "pygments_lexer": "ipython3",
   "version": "3.9.7"
  }
 },
 "nbformat": 4,
 "nbformat_minor": 5
}

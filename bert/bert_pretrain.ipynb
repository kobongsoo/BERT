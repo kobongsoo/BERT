{
 "cells": [
  {
   "cell_type": "code",
   "execution_count": 1,
   "id": "4cdcb50c-10c7-4f6a-ae9a-e272f327ab29",
   "metadata": {},
   "outputs": [
    {
     "name": "stdout",
     "output_type": "stream",
     "text": [
      "logfilepath:bwdataset_2022-03-03.log\n"
     ]
    }
   ],
   "source": [
    "import transformers\n",
    "import numpy as np\n",
    "import torch\n",
    "\n",
    "from myutils import seed_everything, TextDatasetForNextSentencePrediction, GPU_info, mlogging"
   ]
  },
  {
   "cell_type": "code",
   "execution_count": 2,
   "id": "938a3df4-6912-49c4-b678-9285faf4d9cf",
   "metadata": {},
   "outputs": [],
   "source": [
    "# 변수들 설정\n",
    "input_corpus = \"Korpora/kowikitext/kowikitext_20200920.train\"\n",
    "ouput_model_dir = \"model/model_kowikitext_0207\"\n",
    "vocab_speical_path = \"Tokenizer/kowikitext_20200920_speical\"\n",
    "\n",
    "# 훈련용 변수\n",
    "batch_size = 64   # 128로 하면, GPU Out of memory 발생함(=>**따라서 64로 진행)\n",
    "train_epochs = 5\n",
    " # embedding size 최대 몇 token까지 input으로 사용할 것인지 지정(기본:512) 512, 1024, 2048 식으로 지정함, 엄청난 장문을 다룰경우 10124까지\n",
    "max_position_embeddings = 256 \n",
    "logging_steps = 50000  # 훈련시, 로깅할 step 수 (크면 10000번 정도하고, 작으면 100번정도)\n",
    "save_steps = 100000     # 10000 step마다 모델 저장\n",
    "save_total_limit = 3 # 마지막 3개 모델 빼고 과거 모델은 삭제(100000번째마다 모델 저장하는데, 마지감 3개 빼고 나머지는 삭제)\n",
    "\n",
    "# NSP 관련 변수\n",
    "NSP_block_size = 140"
   ]
  },
  {
   "cell_type": "code",
   "execution_count": 3,
   "id": "b237863e-2418-4f10-9b2a-a2876b6a2441",
   "metadata": {},
   "outputs": [
    {
     "name": "stdout",
     "output_type": "stream",
     "text": [
      "True\n",
      "device: cuda:0\n",
      "cuda index: 0\n",
      "gpu 개수: 1\n",
      "graphic name: NVIDIA A30\n",
      "cuda:0\n"
     ]
    }
   ],
   "source": [
    "cuda = GPU_info()\n",
    "print(cuda)"
   ]
  },
  {
   "cell_type": "code",
   "execution_count": 4,
   "id": "10d4b03b-daae-43e8-a570-cad83b8efe18",
   "metadata": {},
   "outputs": [],
   "source": [
    "#logging 설정\n",
    "logger = mlogging(loggername=\"bertpt\", logfilname=\"bertpt\")"
   ]
  },
  {
   "cell_type": "code",
   "execution_count": 5,
   "id": "72ec6719-2756-435e-8e80-070778cb0a26",
   "metadata": {},
   "outputs": [],
   "source": [
    "#seed 설정\n",
    "seed_everything(111)"
   ]
  },
  {
   "cell_type": "code",
   "execution_count": 6,
   "id": "fdfa1fb7-be2b-48aa-9425-c24716ce6fd3",
   "metadata": {},
   "outputs": [
    {
     "name": "stdout",
     "output_type": "stream",
     "text": [
      "check special tokens : ['[UNK]', '[SEP]', '[PAD]', '[CLS]', '[MASK]', '[BOS]', '[EOS]', '[UNK0]', '[UNK1]', '[UNK2]', '[UNK3]', '[UNK4]', '[UNK5]', '[UNK6]', '[UNK7]', '[UNK8]', '[UNK9]', '[unused0]', '[unused1]', '[unused2]', '[unused3]', '[unused4]', '[unused5]', '[unused6]', '[unused7]', '[unused8]', '[unused9]']\n",
      "vocab size : 32000\n",
      "Tokens (str)      : ['[CLS]', '나', '##는', '오늘', '아침', '밥', '##을', '먹', '##었', '##다', '.', '[SEP]']\n",
      "Tokens (int)      : [2, 265, 1356, 2932, 3768, 502, 1207, 459, 1605, 1151, 17, 3]\n",
      "Tokens (attn_mask): [1, 1, 1, 1, 1, 1, 1, 1, 1, 1, 1, 1]\n",
      "\n"
     ]
    }
   ],
   "source": [
    "# 토큰(special) 경로 폴더 설정 하여 불러옴\n",
    "from transformers import BertTokenizerFast\n",
    "\n",
    "vocab_special_path = vocab_speical_path\n",
    "tokenizer_check = BertTokenizerFast.from_pretrained(vocab_special_path)\n",
    "\n",
    "print('check special tokens : %s'%tokenizer_check.all_special_tokens)\n",
    "#print('speical tokens size : {}'.format(tokenizer_check.all_special_tokens\n",
    "print('vocab size : %d' % tokenizer_check.vocab_size)\n",
    "tokenized_input_for_pytorch = tokenizer_check(\"나는 오늘 아침 밥을 먹었다.\", return_tensors=\"pt\")\n",
    "print(\"Tokens (str)      : {}\".format([tokenizer_check.convert_ids_to_tokens(s) for s in tokenized_input_for_pytorch['input_ids'].tolist()[0]]))\n",
    "print(\"Tokens (int)      : {}\".format(tokenized_input_for_pytorch['input_ids'].tolist()[0]))\n",
    "print(\"Tokens (attn_mask): {}\\n\".format(tokenized_input_for_pytorch['attention_mask'].tolist()[0]))"
   ]
  },
  {
   "cell_type": "code",
   "execution_count": 7,
   "id": "3cf65779-1d39-46cc-afda-fd1c70017b1f",
   "metadata": {},
   "outputs": [
    {
     "name": "stdout",
     "output_type": "stream",
     "text": [
      "vocab_size: 32022\n"
     ]
    }
   ],
   "source": [
    "# speical 토큰 계수 + vocab 계수 - 이미 vocab에 포함된 speical 토큰 계수(5)\n",
    "vocab_size = len(tokenizer_check.all_special_tokens) + tokenizer_check.vocab_size - 5\n",
    "print('vocab_size: {}'.format(vocab_size))"
   ]
  },
  {
   "cell_type": "code",
   "execution_count": 8,
   "id": "423f6cc0-8dfe-4ad4-9ada-9e1dd35688c7",
   "metadata": {},
   "outputs": [
    {
     "name": "stderr",
     "output_type": "stream",
     "text": [
      "2022-02-07 10:06:27,118 - test - INFO - *init=>File: Korpora/kowikitext/kowikitext_20200920.train, block_size:137, cached_features_file: Korpora/kowikitext/cached_nsp_BertTokenizerFast_140_kowikitext_20200920.train\n",
      "2022-02-07 10:06:27,118 - test - INFO - *init=>File: Korpora/kowikitext/kowikitext_20200920.train, block_size:137, cached_features_file: Korpora/kowikitext/cached_nsp_BertTokenizerFast_140_kowikitext_20200920.train\n",
      "2022-02-07 10:06:27,119 - test - INFO - Loading start cashed file Korpora/kowikitext/cached_nsp_BertTokenizerFast_140_kowikitext_20200920.train [starttime: 1644195987.120 s]=>wait 30 min...\n",
      "2022-02-07 10:06:27,119 - test - INFO - Loading start cashed file Korpora/kowikitext/cached_nsp_BertTokenizerFast_140_kowikitext_20200920.train [starttime: 1644195987.120 s]=>wait 30 min...\n",
      "2022-02-07 10:27:26,232 - test - INFO - Loading features from cached file Korpora/kowikitext/cached_nsp_BertTokenizerFast_140_kowikitext_20200920.train [took 1259.112 s]\n",
      "2022-02-07 10:27:26,232 - test - INFO - Loading features from cached file Korpora/kowikitext/cached_nsp_BertTokenizerFast_140_kowikitext_20200920.train [took 1259.112 s]\n"
     ]
    }
   ],
   "source": [
    "# MLM(Markup Language Model), NSP(Next Sentence Prediction) 구성\n",
    "from transformers import DataCollatorForLanguageModeling\n",
    "\n",
    "# NSP 만들기\n",
    "train_dataset = TextDatasetForNextSentencePrediction(\n",
    "    tokenizer=tokenizer_check,\n",
    "    file_path=input_corpus,\n",
    "    block_size=NSP_block_size,\n",
    "    overwrite_cache=False,\n",
    "    short_seq_probability=0.1,\n",
    "    nsp_probability=0.5,\n",
    ")"
   ]
  },
  {
   "cell_type": "code",
   "execution_count": 9,
   "id": "8adcfdd0-8f75-4b7d-964a-0210d37e7a6d",
   "metadata": {},
   "outputs": [
    {
     "name": "stdout",
     "output_type": "stream",
     "text": [
      "{'input_ids': tensor([    2,    32,  1944,    29,  2926,  1407,  1303,  2888,  1236, 17196,\n",
      "         1262,    32,     3,    32,    32,   687, 24475,    32,    32,     3]), 'token_type_ids': tensor([0, 0, 0, 0, 0, 0, 0, 0, 0, 0, 0, 0, 0, 1, 1, 1, 1, 1, 1, 1]), 'next_sentence_label': tensor(1)}\n"
     ]
    }
   ],
   "source": [
    "# NSP 출력 해보기\n",
    "for example in train_dataset.examples[0:1]:\n",
    "    print(example)"
   ]
  },
  {
   "cell_type": "code",
   "execution_count": 10,
   "id": "2b7b604c-ead4-45c8-918c-209a3ea203d7",
   "metadata": {},
   "outputs": [],
   "source": [
    "# MLM 만들기\n",
    "data_collator = DataCollatorForLanguageModeling(    # [MASK] 를 씌우는 것은 저희가 구현하지 않아도 됩니다! :-)\n",
    "    tokenizer=tokenizer_check, mlm=True, mlm_probability=0.15\n",
    ")"
   ]
  },
  {
   "cell_type": "code",
   "execution_count": 11,
   "id": "2b950777-fa07-4c9f-aef2-a2823f180f38",
   "metadata": {},
   "outputs": [
    {
     "name": "stdout",
     "output_type": "stream",
     "text": [
      "{'input_ids': tensor([[    2,    32,  1944,    29,  2926,  1407,  1303,  2888,  1236, 17196,\n",
      "          1262,    32,     3,    32,    32,  9134,     4,    32,    32,     3],\n",
      "        [    2, 17196,  1262,     3,     5,     4,     3,     0,     0,     0,\n",
      "             0,     0,     0,     0,     0,     0,     0,     0,     0,     0]]), 'token_type_ids': tensor([[0, 0, 0, 0, 0, 0, 0, 0, 0, 0, 0, 0, 0, 1, 1, 1, 1, 1, 1, 1],\n",
      "        [0, 0, 0, 0, 1, 1, 1, 0, 0, 0, 0, 0, 0, 0, 0, 0, 0, 0, 0, 0]]), 'next_sentence_label': tensor([1, 1]), 'attention_mask': tensor([[1, 1, 1, 1, 1, 1, 1, 1, 1, 1, 1, 1, 1, 1, 1, 1, 1, 1, 1, 1],\n",
      "        [1, 1, 1, 1, 1, 1, 1, 0, 0, 0, 0, 0, 0, 0, 0, 0, 0, 0, 0, 0]]), 'labels': tensor([[ -100,  -100,  -100,  -100,  -100,  -100,  -100,  -100,  -100,  -100,\n",
      "          -100,  -100,  -100,  -100,  -100,   687, 24475,  -100,  -100,  -100],\n",
      "        [ -100,  -100,  -100,  -100,  -100,  2210,  -100,  -100,  -100,  -100,\n",
      "          -100,  -100,  -100,  -100,  -100,  -100,  -100,  -100,  -100,  -100]])}\n"
     ]
    }
   ],
   "source": [
    "# MLM 출력 해보기\n",
    "print(data_collator(train_dataset.examples[0:2]))"
   ]
  },
  {
   "cell_type": "code",
   "execution_count": 12,
   "id": "9c8b1fe7-acc6-4615-a4b8-f080c1294c13",
   "metadata": {},
   "outputs": [
    {
     "data": {
      "text/plain": [
       "111063320"
      ]
     },
     "execution_count": 12,
     "metadata": {},
     "output_type": "execute_result"
    }
   ],
   "source": [
    "from transformers import BertConfig, BertForPreTraining\n",
    "\n",
    "# BERT 껍데기 만들기\n",
    "# 다양한 조건들을 설정해보자\n",
    "\n",
    "config = BertConfig(    # https://huggingface.co/transformers/model_doc/bert.html#bertconfig\n",
    "    vocab_size=vocab_size, # default는 영어 기준이므로 내가 만든 vocab size에 맞게 수정해줘야 함\n",
    "    # hidden_size=768, # hidden_layer 임베딩수(768)\n",
    "    # num_hidden_layers=12,    # layer 수(base=12개, large=24개)\n",
    "    # num_attention_heads=12,    # transformer attention head number\n",
    "    # intermediate_size=3072,   # transformer 내에 있는 feed-forward network의 dimension size\n",
    "    # hidden_act=\"gelu\",\n",
    "    # hidden_dropout_prob=0.1,\n",
    "    # attention_probs_dropout_prob=0.1,\n",
    "    max_position_embeddings=max_position_embeddings,    # embedding size 최대 몇 token까지 input으로 사용할 것인지 지정(기본:512) 512, 1024, 2048 식으로 지정함, 엄청난 장문을 다룰경우 10124까지\n",
    "    # type_vocab_size=2,    # token type ids의 범위 (BERT는 segmentA, segmentB로 2종류)\n",
    "    # pad_token_id=0,\n",
    "    # position_embedding_type=\"absolute\"\n",
    ")\n",
    "\n",
    "model = BertForPreTraining(config=config)\n",
    "model.num_parameters()"
   ]
  },
  {
   "cell_type": "code",
   "execution_count": 13,
   "id": "ad8c1279-78c4-4dff-a5d1-d942978bc6de",
   "metadata": {},
   "outputs": [],
   "source": [
    "from transformers import Trainer, TrainingArguments\n",
    "\n",
    "training_args = TrainingArguments(\n",
    "    output_dir=ouput_model_dir,\n",
    "    overwrite_output_dir=True,\n",
    "    num_train_epochs=train_epochs,\n",
    "    per_gpu_train_batch_size=batch_size,\n",
    "    save_steps=save_steps,    # step 수마다 모델을 저장\n",
    "    save_total_limit=save_total_limit, # 마지막 두 모델 빼고 과거 모델은 삭제\n",
    "    logging_steps=logging_steps\n",
    ")\n",
    "\n",
    "trainer = Trainer(\n",
    "    model=model,\n",
    "    args=training_args,\n",
    "    data_collator=data_collator,  #MLM(Masked Language Model)\n",
    "    train_dataset=train_dataset   #NSP(Next Setence Predictions)\n",
    ")"
   ]
  },
  {
   "cell_type": "code",
   "execution_count": 14,
   "id": "69c8d6bb-0c8b-477a-8b78-d9628a04b5ee",
   "metadata": {},
   "outputs": [
    {
     "name": "stderr",
     "output_type": "stream",
     "text": [
      "Using deprecated `--per_gpu_train_batch_size` argument which will be removed in a future version. Using `--per_device_train_batch_size` is preferred.\n",
      "Using deprecated `--per_gpu_train_batch_size` argument which will be removed in a future version. Using `--per_device_train_batch_size` is preferred.\n",
      "***** Running training *****\n",
      "  Num examples = 10814774\n",
      "  Num Epochs = 5\n",
      "  Instantaneous batch size per device = 8\n",
      "  Total train batch size (w. parallel, distributed & accumulation) = 64\n",
      "  Gradient Accumulation steps = 1\n",
      "  Total optimization steps = 844905\n"
     ]
    },
    {
     "data": {
      "text/html": [
       "\n",
       "    <div>\n",
       "      \n",
       "      <progress value='844905' max='844905' style='width:300px; height:20px; vertical-align: middle;'></progress>\n",
       "      [844905/844905 77:22:07, Epoch 5/5]\n",
       "    </div>\n",
       "    <table border=\"1\" class=\"dataframe\">\n",
       "  <thead>\n",
       "    <tr style=\"text-align: left;\">\n",
       "      <th>Step</th>\n",
       "      <th>Training Loss</th>\n",
       "    </tr>\n",
       "  </thead>\n",
       "  <tbody>\n",
       "    <tr>\n",
       "      <td>50000</td>\n",
       "      <td>3.674900</td>\n",
       "    </tr>\n",
       "    <tr>\n",
       "      <td>100000</td>\n",
       "      <td>2.590500</td>\n",
       "    </tr>\n",
       "    <tr>\n",
       "      <td>150000</td>\n",
       "      <td>2.348600</td>\n",
       "    </tr>\n",
       "    <tr>\n",
       "      <td>200000</td>\n",
       "      <td>2.208500</td>\n",
       "    </tr>\n",
       "    <tr>\n",
       "      <td>250000</td>\n",
       "      <td>2.112500</td>\n",
       "    </tr>\n",
       "    <tr>\n",
       "      <td>300000</td>\n",
       "      <td>2.042600</td>\n",
       "    </tr>\n",
       "    <tr>\n",
       "      <td>350000</td>\n",
       "      <td>1.983900</td>\n",
       "    </tr>\n",
       "    <tr>\n",
       "      <td>400000</td>\n",
       "      <td>1.929400</td>\n",
       "    </tr>\n",
       "    <tr>\n",
       "      <td>450000</td>\n",
       "      <td>1.889300</td>\n",
       "    </tr>\n",
       "    <tr>\n",
       "      <td>500000</td>\n",
       "      <td>1.853600</td>\n",
       "    </tr>\n",
       "    <tr>\n",
       "      <td>550000</td>\n",
       "      <td>1.812900</td>\n",
       "    </tr>\n",
       "    <tr>\n",
       "      <td>600000</td>\n",
       "      <td>1.785000</td>\n",
       "    </tr>\n",
       "    <tr>\n",
       "      <td>650000</td>\n",
       "      <td>1.760300</td>\n",
       "    </tr>\n",
       "    <tr>\n",
       "      <td>700000</td>\n",
       "      <td>1.732500</td>\n",
       "    </tr>\n",
       "    <tr>\n",
       "      <td>750000</td>\n",
       "      <td>1.709500</td>\n",
       "    </tr>\n",
       "    <tr>\n",
       "      <td>800000</td>\n",
       "      <td>1.693100</td>\n",
       "    </tr>\n",
       "  </tbody>\n",
       "</table><p>"
      ],
      "text/plain": [
       "<IPython.core.display.HTML object>"
      ]
     },
     "metadata": {},
     "output_type": "display_data"
    },
    {
     "name": "stderr",
     "output_type": "stream",
     "text": [
      "IOPub message rate exceeded.\n",
      "The Jupyter server will temporarily stop sending output\n",
      "to the client in order to avoid crashing it.\n",
      "To change this limit, set the config variable\n",
      "`--ServerApp.iopub_msg_rate_limit`.\n",
      "\n",
      "Current values:\n",
      "ServerApp.iopub_msg_rate_limit=1000.0 (msgs/sec)\n",
      "ServerApp.rate_limit_window=3.0 (secs)\n",
      "\n",
      "IOPub message rate exceeded.\n",
      "The Jupyter server will temporarily stop sending output\n",
      "to the client in order to avoid crashing it.\n",
      "To change this limit, set the config variable\n",
      "`--ServerApp.iopub_msg_rate_limit`.\n",
      "\n",
      "Current values:\n",
      "ServerApp.iopub_msg_rate_limit=1000.0 (msgs/sec)\n",
      "ServerApp.rate_limit_window=3.0 (secs)\n",
      "\n",
      "IOPub message rate exceeded.\n",
      "The Jupyter server will temporarily stop sending output\n",
      "to the client in order to avoid crashing it.\n",
      "To change this limit, set the config variable\n",
      "`--ServerApp.iopub_msg_rate_limit`.\n",
      "\n",
      "Current values:\n",
      "ServerApp.iopub_msg_rate_limit=1000.0 (msgs/sec)\n",
      "ServerApp.rate_limit_window=3.0 (secs)\n",
      "\n",
      "IOPub message rate exceeded.\n",
      "The Jupyter server will temporarily stop sending output\n",
      "to the client in order to avoid crashing it.\n",
      "To change this limit, set the config variable\n",
      "`--ServerApp.iopub_msg_rate_limit`.\n",
      "\n",
      "Current values:\n",
      "ServerApp.iopub_msg_rate_limit=1000.0 (msgs/sec)\n",
      "ServerApp.rate_limit_window=3.0 (secs)\n",
      "\n",
      "IOPub message rate exceeded.\n",
      "The Jupyter server will temporarily stop sending output\n",
      "to the client in order to avoid crashing it.\n",
      "To change this limit, set the config variable\n",
      "`--ServerApp.iopub_msg_rate_limit`.\n",
      "\n",
      "Current values:\n",
      "ServerApp.iopub_msg_rate_limit=1000.0 (msgs/sec)\n",
      "ServerApp.rate_limit_window=3.0 (secs)\n",
      "\n",
      "Saving model checkpoint to model/model_kowikitext_0207/checkpoint-300000\n",
      "Configuration saved in model/model_kowikitext_0207/checkpoint-300000/config.json\n",
      "Model weights saved in model/model_kowikitext_0207/checkpoint-300000/pytorch_model.bin\n",
      "IOPub message rate exceeded.\n",
      "The Jupyter server will temporarily stop sending output\n",
      "to the client in order to avoid crashing it.\n",
      "To change this limit, set the config variable\n",
      "`--ServerApp.iopub_msg_rate_limit`.\n",
      "\n",
      "Current values:\n",
      "ServerApp.iopub_msg_rate_limit=1000.0 (msgs/sec)\n",
      "ServerApp.rate_limit_window=3.0 (secs)\n",
      "\n",
      "IOPub message rate exceeded.\n",
      "The Jupyter server will temporarily stop sending output\n",
      "to the client in order to avoid crashing it.\n",
      "To change this limit, set the config variable\n",
      "`--ServerApp.iopub_msg_rate_limit`.\n",
      "\n",
      "Current values:\n",
      "ServerApp.iopub_msg_rate_limit=1000.0 (msgs/sec)\n",
      "ServerApp.rate_limit_window=3.0 (secs)\n",
      "\n",
      "Saving model checkpoint to model/model_kowikitext_0207/checkpoint-800000\n",
      "Configuration saved in model/model_kowikitext_0207/checkpoint-800000/config.json\n",
      "Model weights saved in model/model_kowikitext_0207/checkpoint-800000/pytorch_model.bin\n",
      "Deleting older checkpoint [model/model_kowikitext_0207/checkpoint-500000] due to args.save_total_limit\n",
      "\n",
      "\n",
      "Training completed. Do not forget to share your model on huggingface.co/models =)\n",
      "\n",
      "\n"
     ]
    },
    {
     "data": {
      "text/plain": [
       "TrainOutput(global_step=844905, training_loss=2.0498080405489376, metrics={'train_runtime': 278530.1621, 'train_samples_per_second': 194.14, 'train_steps_per_second': 3.033, 'total_flos': 3.834691455718223e+18, 'train_loss': 2.0498080405489376, 'epoch': 5.0})"
      ]
     },
     "execution_count": 14,
     "metadata": {},
     "output_type": "execute_result"
    }
   ],
   "source": [
    "trainer.train()"
   ]
  },
  {
   "cell_type": "code",
   "execution_count": 15,
   "id": "1c97c996-d185-4804-8e56-82822e641eff",
   "metadata": {},
   "outputs": [
    {
     "name": "stderr",
     "output_type": "stream",
     "text": [
      "Saving model checkpoint to model/model_kowikitext_0207\n",
      "Configuration saved in model/model_kowikitext_0207/config.json\n",
      "Model weights saved in model/model_kowikitext_0207/pytorch_model.bin\n"
     ]
    }
   ],
   "source": [
    "trainer.save_model(ouput_model_dir)"
   ]
  },
  {
   "cell_type": "code",
   "execution_count": null,
   "id": "821c7c4b-4378-415d-8c44-dd83bd33b9fd",
   "metadata": {},
   "outputs": [],
   "source": []
  }
 ],
 "metadata": {
  "kernelspec": {
   "display_name": "Python 3 (ipykernel)",
   "language": "python",
   "name": "python3"
  },
  "language_info": {
   "codemirror_mode": {
    "name": "ipython",
    "version": 3
   },
   "file_extension": ".py",
   "mimetype": "text/x-python",
   "name": "python",
   "nbconvert_exporter": "python",
   "pygments_lexer": "ipython3",
   "version": "3.9.7"
  }
 },
 "nbformat": 4,
 "nbformat_minor": 5
}

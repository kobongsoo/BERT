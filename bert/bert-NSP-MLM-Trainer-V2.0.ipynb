{
 "cells": [
  {
   "cell_type": "code",
   "execution_count": 2,
   "id": "c59d8373-51fc-4e45-bf92-fbf670af3bf1",
   "metadata": {},
   "outputs": [],
   "source": [
    "#=======================================================================================================================================\n",
    "# 허깅페이스 Trainer를 이용하여 NSP+MLM 훈련시키기\n",
    "#\n",
    "# => load_dataset 으로 wiki 연속된 문장이 있는 말뭉치를 로딩하고, 이를 토크화 시키고, \n",
    "# 연속된 문장인지 아닌지 NSP 문장을 만들고, (Lable, next_sentence_label 필드 추가)\n",
    "# 해당 문장 input_ids 에 대해 15% 확률로 [MASK]를 씌워서, 실제 모델을 훈련시키는 예제 \n",
    "#\n",
    "# => MLM 훈련 말뭉치는 pre-kowiki-20220620-2줄.txt 사용, 평가 말뭉치는 bongsoo/bongevalsmall 사용\n",
    "#\n",
    "# 출처 : https://wikidocs.net/166817\n",
    "#=======================================================================================================================================\n",
    "\n",
    "import torch\n",
    "import os\n",
    "\n",
    "from tqdm.notebook import tqdm\n",
    "from transformers import AutoTokenizer, BertTokenizerFast, BertConfig, BertForMaskedLM\n",
    "\n",
    "import sys\n",
    "sys.path.append(\"..\")\n",
    "from myutils import GPU_info, seed_everything, mlogging\n",
    "\n",
    "# wand 비활성화 \n",
    "# => trainer 로 훈련시키면 기본이 wandb 활성화이므로, 비활성화 시킴\n",
    "os.environ[\"WANDB_DISABLED\"] = \"true\""
   ]
  },
  {
   "cell_type": "code",
   "execution_count": 3,
   "id": "3e4848b4-5068-43d4-8737-9419ec13fb94",
   "metadata": {},
   "outputs": [
    {
     "name": "stdout",
     "output_type": "stream",
     "text": [
      "logfilepath:../../log/bert-MLM-Trainer_2022-11-08.log\n",
      "True\n",
      "device: cuda:0\n",
      "cuda index: 0\n",
      "gpu 개수: 1\n",
      "graphic name: NVIDIA A30\n",
      "cuda:0\n"
     ]
    }
   ],
   "source": [
    "# 훈련시킬 말뭉치\n",
    "# => 한줄에 연속된 문장이 있어야함.\n",
    "# -> .으로 구분된 한줄 문자이 아니라. 한줄에 .로구분된 여러문장이 이어진 문장이어야 함\n",
    "# -> 예시:'제임스 얼 \"지미\" 카터 주니어는 민주당 출신 미국 39번째 대통령 이다.지미 카터는 조지아주 섬터 카운티 플레인스 마을에서 태어났다.\n",
    "# => 사전 만들때 동일한 말뭉치 이용.\n",
    "input_corpus = \"../../data11/korpora/kowiki_2022/pre-kowiki-20220620-2줄.txt\"\n",
    "\n",
    "# eval 말뭉치 \n",
    "eval_corpus = \"bongsoo/bongevalsmall\"\n",
    "\n",
    "# 기존 사전훈련된 모델\n",
    "model_path = \"../../data11/model/bert/mbertV2.0\"  #bert-base-multilingual-cased, ../../data11/model/bert/mbertV2.0\n",
    "\n",
    "# 기존 사전 + 추가된 사전 파일\n",
    "vocab_path=\"../../data11/model/bert/mbertV2.0\"\n",
    "\n",
    "# 출력\n",
    "OUTPATH = '../../data11/model/bert/mbertV2.0-temp/'\n",
    "\n",
    "############################################################################\n",
    "# tokenizer 관련 hyper parameter 설정\n",
    "############################################################################\n",
    "batch_size = 64       # batch_size\n",
    "token_max_len = 128   # token_seq_len\n",
    "epoch = 16            # epoch\n",
    "lr = 1e-4             # learning rate(기본:5e-5)\n",
    "seed = 333\n",
    "############################################################################\n",
    "\n",
    "#logging 설정\n",
    "logger =  mlogging(loggername=\"bert-MLM-Trainer\", logfilename=\"../../log/bert-MLM-Trainer\")\n",
    "\n",
    "device = GPU_info()\n",
    "print(device)\n",
    "\n",
    "#seed 설정\n",
    "seed_everything(seed)\n"
   ]
  },
  {
   "cell_type": "code",
   "execution_count": null,
   "id": "2d3d1638-7c83-46bd-bd34-c6d1382e8f10",
   "metadata": {},
   "outputs": [],
   "source": [
    "# tokeinzier 생성\n",
    "# => BertTokenizer, BertTokenizerFast 둘중 사용하면됨. 아니면 AutoTokenizer 사용\n",
    "tokenizer = BertTokenizerFast.from_pretrained(vocab_path, max_len=token_max_len, do_lower_case=False)\n",
    "\n",
    "# fast 토크너나이즈인지 확인\n",
    "print(f'*{vocab_path} is_fast:{tokenizer.is_fast}')\n",
    "print('*tokenizer_len:{}, special_token_size: {}, *tokenizer.vocab_size: {}'.format(len(tokenizer), len(tokenizer.all_special_tokens), tokenizer.vocab_size))\n",
    "\n",
    "# 모델 로딩 further pre-training \n",
    "model = BertForMaskedLM.from_pretrained(model_path, from_tf=bool(\".ckpt\" in model_path)) \n",
    "\n",
    "#################################################################################\n",
    "# 모델 embedding 사이즈를 tokenizer 크기 만큼 재 설정함.\n",
    "# 재설정하지 않으면, 다음과 같은 에러 발생함\n",
    "# CUDA error: CUBLAS_STATUS_NOT_INITIALIZED when calling `cublasCreate(handle)` CUDA 에러가 발생함\n",
    "#  indexSelectLargeIndex: block: [306,0,0], thread: [0,0,0] Assertion `srcIndex < srcSelectDimSize` failed.\n",
    "#\n",
    "#     해당 오류는 기존 Embedding(8002, 768, padding_idx=1) 처럼 입력 vocab 사이즈가 8002인데,\n",
    "#     0~8001 사이를 초과하는 word idx 값이 들어가면 에러 발생함.\n",
    "#################################################################################\n",
    "model.resize_token_embeddings(len(tokenizer))\n",
    "\n",
    "model.to(device)"
   ]
  },
  {
   "cell_type": "code",
   "execution_count": 5,
   "id": "c3c678ff-b876-4432-91af-6ca2e11f70d5",
   "metadata": {},
   "outputs": [
    {
     "name": "stderr",
     "output_type": "stream",
     "text": [
      "Using custom data configuration default-5ca7fdc6f8a07e74\n",
      "Reusing dataset text (/MOCOMSYS/.cache/huggingface/datasets/text/default-5ca7fdc6f8a07e74/0.0.0/08f6fb1dd2dab0a18ea441c359e1d63794ea8cb53e7863e6edf8fc5655e47ec4)\n"
     ]
    },
    {
     "data": {
      "application/vnd.jupyter.widget-view+json": {
       "model_id": "048f7ebcc35b43d8bf204af80aeb4ed5",
       "version_major": 2,
       "version_minor": 0
      },
      "text/plain": [
       "  0%|          | 0/1 [00:00<?, ?it/s]"
      ]
     },
     "metadata": {},
     "output_type": "display_data"
    },
    {
     "name": "stderr",
     "output_type": "stream",
     "text": [
      "Using custom data configuration bongsoo--bongevalsmall-5b85d54295d1a976\n",
      "Reusing dataset text (/MOCOMSYS/.cache/huggingface/datasets/text/bongsoo--bongevalsmall-5b85d54295d1a976/0.0.0/08f6fb1dd2dab0a18ea441c359e1d63794ea8cb53e7863e6edf8fc5655e47ec4)\n"
     ]
    },
    {
     "data": {
      "application/vnd.jupyter.widget-view+json": {
       "model_id": "f7fd7a5f3e284b6c9c5579074280d637",
       "version_major": 2,
       "version_minor": 0
      },
      "text/plain": [
       "  0%|          | 0/1 [00:00<?, ?it/s]"
      ]
     },
     "metadata": {},
     "output_type": "display_data"
    },
    {
     "name": "stdout",
     "output_type": "stream",
     "text": [
      "train_dataset=======================================\n",
      "DatasetDict({\n",
      "    train: Dataset({\n",
      "        features: ['text'],\n",
      "        num_rows: 2214480\n",
      "    })\n",
      "})\n",
      "['조지아 공과대학교를 졸업하였다. 그 후 해군에 들어가 전함·원자력·잠수함의 승무원으로 일하였다', ' 1953년 미국 해군 대위로 예편하였고 이후 땅콩·면화 등을 가꿔 많은 돈을 벌었다. 그의 별명이 \"땅콩 농부\" (Peanut Farmer)로 알려졌다', '1962년 조지아주 상원 의원 선거에서 낙선하나 그 선거가 부정선거 였음을 입증하게 되어 당선되고, 1966년 조지아 주지사 선거에 낙선하지만, 1970년 조지아 주지사를 역임했다. 대통령이 되기 전 조지아주 상원의원을 두번 연임했으며, 1971년부터 1975년까지 조지아 지사로 근무했다']\n",
      "\n",
      "\n",
      "\n",
      "eval_dataset========================================\n",
      "DatasetDict({\n",
      "    test: Dataset({\n",
      "        features: ['text'],\n",
      "        num_rows: 200\n",
      "    })\n",
      "})\n",
      "['국토교통부 관계자는  실무기구에서는 각 업계별로 규제혁신형 플랫폼 택시를 하기 위해서는 어떤 규제를 풀어야 한다는 자기 안이 있어야 한다 고 말했다 ', '국책연구기관의 한 관계자는  위원회가 전문성과 대표성을 갖추고 본연의 장점을 최대한 살리기 위해서는 외부 감시와 통제가 보다 활성화돼야 한다 고 지적했다 ', '게임업계 관계자는  현장 수요보다 의료진 등 특정한 누군가의 이익을 위해 게임을 중독물질  질병으로 만들려 한다는 합리적 의심이 든다 고 꼬집었다 ']\n"
     ]
    }
   ],
   "source": [
    "#==================================================================================================\n",
    "# load_dataset을 이용하여, 훈련/평가 dataset 로딩.\n",
    "#\n",
    "# [로컬 데이터 파일 로딩]\n",
    "# => dataset = load_dataset(\"text\", data_files='로컬.txt')       # text 로컬 파일 로딩\n",
    "# => dataset = load_dataset(\"csv\", data_files='로컬.csv')        # csv 로컬 파일 로딩\n",
    "# => dataset = load_dataset(\"csv\", data_files='로컬.tsv', delimiter=\"\\t\")  # tsv 로컬 파일 로딩\n",
    "# => dataset = load_dataset(\"json\", data_files='로컬.json')      # json 로컬 파일 로딩\n",
    "# => dataset = load_dataset(\"pandas\", data_files='로컬.pkl')     # pickled dataframe 로컬 파일 로딩\n",
    "#\n",
    "# [원격 데이터 파일 로딩]\n",
    "# url = \"https://github.com/crux82/squad-it/raw/master/\"\n",
    "# data_files = {\n",
    "#    \"train\": url + \"SQuAD_it-train.json.gz\",\n",
    "#    \"test\": url + \"SQuAD_it-test.json.gz\",\n",
    "# }\n",
    "# squad_it_dataset = load_dataset(\"json\", data_files=data_files, field=\"data\")\n",
    "#\n",
    "# 출처 : https://wikidocs.net/166816\n",
    "#==================================================================================================\n",
    "\n",
    "from datasets import load_dataset\n",
    "\n",
    "# 훈련 말뭉치 로딩\n",
    "#train_dataset = load_dataset(input_corpus)\n",
    "train_dataset = load_dataset(\"text\", data_files=input_corpus) # text 로컬 파일 로딩\n",
    "\n",
    "# 평가 말뭉치 로딩\n",
    "eval_dataset = load_dataset(eval_corpus)\n",
    "\n",
    "# train_dataset 출력해봄\n",
    "print(f\"train_dataset=======================================\")\n",
    "print(train_dataset)\n",
    "print(train_dataset['train']['text'][0:3])\n",
    "\n",
    "print(f'\\r\\n\\r\\n')\n",
    "\n",
    "# eval_dataset 출력해봄\n",
    "print(f\"eval_dataset========================================\")\n",
    "print(eval_dataset)\n",
    "print(eval_dataset['test']['text'][0:3])"
   ]
  },
  {
   "cell_type": "code",
   "execution_count": 7,
   "id": "633edc59-9b29-4841-9026-1e547f704c5b",
   "metadata": {},
   "outputs": [
    {
     "data": {
      "application/vnd.jupyter.widget-view+json": {
       "model_id": "77feedb590424ada85e2e82839a7916f",
       "version_major": 2,
       "version_minor": 0
      },
      "text/plain": [
       "  0%|          | 0/2215 [00:00<?, ?ba/s]"
      ]
     },
     "metadata": {},
     "output_type": "display_data"
    },
    {
     "name": "stdout",
     "output_type": "stream",
     "text": [
      "CPU times: user 18min 38s, sys: 18min 19s, total: 36min 57s\n",
      "Wall time: 3min 47s\n"
     ]
    }
   ],
   "source": [
    "# NSP 훈련 데이터 만들기 \n",
    "# NSP 문장 만들기 \n",
    "import random\n",
    "import copy\n",
    "from tqdm.notebook import tqdm\n",
    "\n",
    "def tokenizer_function_nsp(examples):\n",
    "    \n",
    "    bag = [item for sentence in examples['text'] for item in sentence.split('.') if item != '']\n",
    "    bag_size = len(bag)\n",
    "   \n",
    "    sentence_a = []\n",
    "    sentence_b = []\n",
    "    next_label = []\n",
    "\n",
    "    count = 0\n",
    "    for paragraph in examples['text']:\n",
    "        count += 1\n",
    "        # 하나의 문장을 읽어와서 .기준으로 나눈다.\n",
    "        sentences = [sentence for sentence in paragraph.split('.') if sentence != '']\n",
    "        num_sentences = len(sentences)\n",
    "         \n",
    "         # . 기준으로 나눈 문장이 1이상이면..\n",
    "        if num_sentences > 1:\n",
    "            # 문장 a 시작번지는 랜덤하게, 해당 문장 이후로 지정\n",
    "            start = random.randint(0, num_sentences-2)\n",
    "            # 50/50 whether is IsNextSentence or NotNextSentence\n",
    "            # 0.5 이상 랜덤값이면, 연속적인 문장으로 만듬\n",
    "            if random.random() >= 0.5:\n",
    "                # this is IsNextSentence\n",
    "                sentence_a.append(sentences[start])\n",
    "                sentence_b.append(sentences[start+1])\n",
    "                next_label.append(0)  #label=0이면 연속적\n",
    "            # 0.5 이하 랜덤값이면  연속적이 아닌 문장으로 만듬\n",
    "            else:\n",
    "                index = random.randint(0, bag_size-1)\n",
    "                # this is NotNextSentence\n",
    "                sentence_a.append(sentences[start])\n",
    "                sentence_b.append(bag[index])\n",
    "                next_label.append(1)  #label=1이면 비연속적\n",
    "    \n",
    "    # ** return_overflowing_tokenis = False로 해야, 긴 문장인 경우 잘리더라도 다시 이어서 문장을 만들지 않는다.\n",
    "    # => 입력 문장은 10개인데, 긴문장이 포함된 경우 10개를 넘는 출력이 나옴\n",
    "    result = tokenizer(sentence_a, sentence_b, max_length=token_max_len, truncation=True, return_overflowing_tokens=False)\n",
    "    \n",
    "    # next_sentence_label next_label 복사(**deepcopy)해서 추가\n",
    "    result['next_sentence_label'] = copy.deepcopy(next_label)\n",
    "        \n",
    "    # labels에는 inputs_id를 복사(**deepcopy)해서 추가\n",
    "    result['labels'] = copy.deepcopy(result.input_ids)\n",
    "     \n",
    "    return result\n",
    "\n",
    "# 훈련 NSP 데이터셋은 빠른 기본 toeknzier_function 이용하여 만듬\n",
    "%time train_dataset_fast = train_dataset.map(tokenizer_function_nsp, batched=True)"
   ]
  },
  {
   "cell_type": "code",
   "execution_count": 8,
   "id": "bd3b6c66-858b-454a-8f8c-11e05af7803e",
   "metadata": {},
   "outputs": [
    {
     "data": {
      "application/vnd.jupyter.widget-view+json": {
       "model_id": "2661f72bdb6b4eb6ad79eee124f422df",
       "version_major": 2,
       "version_minor": 0
      },
      "text/plain": [
       "  0%|          | 0/1 [00:00<?, ?ba/s]"
      ]
     },
     "metadata": {},
     "output_type": "display_data"
    },
    {
     "name": "stdout",
     "output_type": "stream",
     "text": [
      "CPU times: user 176 ms, sys: 100 ms, total: 276 ms\n",
      "Wall time: 109 ms\n"
     ]
    }
   ],
   "source": [
    "# 평가 데이터셋 처리\n",
    "# 기본 tokenizer 처리\n",
    "def tokenizer_function(examples):\n",
    "    result =  tokenizer(examples['text'], truncation=True, max_length=token_max_len, return_overflowing_tokens=True)\n",
    "    \n",
    "    # 신규 인덱스와 이전 인덱스와의 매핑 추출\n",
    "    # => return_overflowing_tokens=True 이면 아래 \"overflow_to_sample_mapping\" 해서 매핑시켜줘야함.\n",
    "    sample_map = result.pop(\"overflow_to_sample_mapping\")\n",
    "    for key, values in examples.items():\n",
    "        result[key] = [values[i] for i in sample_map]\n",
    "    return result\n",
    "\n",
    "\n",
    "# eval 평가 데이터셋은 빠른 기본 toeknzier_function 이용\n",
    "%time eval_dataset_fast = eval_dataset.map(tokenizer_function, batched=True)"
   ]
  },
  {
   "cell_type": "code",
   "execution_count": 9,
   "id": "fa658e47-c0d5-47c6-a355-1097244ac3f9",
   "metadata": {},
   "outputs": [
    {
     "name": "stdout",
     "output_type": "stream",
     "text": [
      "train_dataset_fast=======================================\n",
      "*train_len:2214480, len:2214480\n",
      "{'text': ['조지아 공과대학교를 졸업하였다. 그 후 해군에 들어가 전함·원자력·잠수함의 승무원으로 일하였다', ' 1953년 미국 해군 대위로 예편하였고 이후 땅콩·면화 등을 가꿔 많은 돈을 벌었다. 그의 별명이 \"땅콩 농부\" (Peanut Farmer)로 알려졌다'], 'input_ids': [[101, 123480, 125259, 30461, 11513, 45004, 12609, 102, 8924, 10003, 120386, 10530, 120099, 125609, 217, 124015, 217, 123984, 10459, 124436, 11467, 9641, 12609, 102], [101, 11087, 10954, 23545, 120386, 125891, 11261, 146799, 36251, 18347, 140639, 217, 136975, 33727, 8843, 118698, 25685, 9089, 10622, 9339, 17706, 102, 53519, 123914, 120238, 11513, 23969, 123670, 10530, 119570, 10739, 125056, 123198, 124013, 113, 119556, 114, 9400, 19105, 45021, 124575, 10739, 119698, 121351, 11467, 121317, 11102, 173, 118, 119577, 119550, 119588, 113, 121494, 114, 124012, 121064, 101656, 11664, 119699, 38181, 117, 124575, 123708, 119698, 121202, 10739, 60362, 89184, 120149, 12490, 102]], 'token_type_ids': [[0, 0, 0, 0, 0, 0, 0, 0, 1, 1, 1, 1, 1, 1, 1, 1, 1, 1, 1, 1, 1, 1, 1, 1], [0, 0, 0, 0, 0, 0, 0, 0, 0, 0, 0, 0, 0, 0, 0, 0, 0, 0, 0, 0, 0, 0, 1, 1, 1, 1, 1, 1, 1, 1, 1, 1, 1, 1, 1, 1, 1, 1, 1, 1, 1, 1, 1, 1, 1, 1, 1, 1, 1, 1, 1, 1, 1, 1, 1, 1, 1, 1, 1, 1, 1, 1, 1, 1, 1, 1, 1, 1, 1, 1, 1, 1]], 'attention_mask': [[1, 1, 1, 1, 1, 1, 1, 1, 1, 1, 1, 1, 1, 1, 1, 1, 1, 1, 1, 1, 1, 1, 1, 1], [1, 1, 1, 1, 1, 1, 1, 1, 1, 1, 1, 1, 1, 1, 1, 1, 1, 1, 1, 1, 1, 1, 1, 1, 1, 1, 1, 1, 1, 1, 1, 1, 1, 1, 1, 1, 1, 1, 1, 1, 1, 1, 1, 1, 1, 1, 1, 1, 1, 1, 1, 1, 1, 1, 1, 1, 1, 1, 1, 1, 1, 1, 1, 1, 1, 1, 1, 1, 1, 1, 1, 1]], 'next_sentence_label': [0, 1], 'labels': [[101, 123480, 125259, 30461, 11513, 45004, 12609, 102, 8924, 10003, 120386, 10530, 120099, 125609, 217, 124015, 217, 123984, 10459, 124436, 11467, 9641, 12609, 102], [101, 11087, 10954, 23545, 120386, 125891, 11261, 146799, 36251, 18347, 140639, 217, 136975, 33727, 8843, 118698, 25685, 9089, 10622, 9339, 17706, 102, 53519, 123914, 120238, 11513, 23969, 123670, 10530, 119570, 10739, 125056, 123198, 124013, 113, 119556, 114, 9400, 19105, 45021, 124575, 10739, 119698, 121351, 11467, 121317, 11102, 173, 118, 119577, 119550, 119588, 113, 121494, 114, 124012, 121064, 101656, 11664, 119699, 38181, 117, 124575, 123708, 119698, 121202, 10739, 60362, 89184, 120149, 12490, 102]]}\n",
      "\n",
      "decode===========================================\n",
      "\n",
      "[CLS] 조지아 공과대학교를 졸업하였다 [SEP] 그 후 해군에 들어가 전함 · 원자력 · 잠수함의 승무원으로 일하였다 [SEP]\n",
      "[CLS] 1953년 미국 해군 대위로 예편하였고 이후 땅콩 · 면화 등을 가꿔 많은 돈을 벌었다 [SEP] 한편 회수 조치를 하는 와중에 기록이 담긴 하드디스크 ( 데이터 ) 뿐만 아니라 노무현이 개인 자금으로 구매한 e - 지원 시스템 서버 ( 하드웨어 ) 까지 반환하라고 요구했고, 노무현 측은 개인 재산이라는 이유로 거부했다 [SEP]\n",
      "\n",
      "\n",
      "\n",
      "eval_dataset_fast=======================================\n",
      "*fast_len:200, len:200\n",
      "{'text': ['국토교통부 관계자는  실무기구에서는 각 업계별로 규제혁신형 플랫폼 택시를 하기 위해서는 어떤 규제를 풀어야 한다는 자기 안이 있어야 한다 고 말했다 ', '국책연구기관의 한 관계자는  위원회가 전문성과 대표성을 갖추고 본연의 장점을 최대한 살리기 위해서는 외부 감시와 통제가 보다 활성화돼야 한다 고 지적했다 '], 'input_ids': [[101, 123067, 130404, 123101, 11018, 126024, 122076, 23635, 8844, 123998, 61844, 11261, 121905, 127469, 27506, 122160, 126962, 11513, 9952, 12310, 119754, 11018, 55910, 121905, 11513, 9937, 119684, 120812, 119926, 9521, 10739, 45893, 21711, 16139, 8888, 102055, 102], [101, 145342, 120752, 119691, 10459, 9954, 123101, 11018, 121015, 11287, 119653, 120718, 119629, 36456, 120624, 11664, 9358, 123106, 121850, 10622, 122739, 127473, 12310, 119754, 11018, 119946, 121640, 12638, 120291, 11287, 106154, 120284, 18227, 142462, 16139, 8888, 120313, 12490, 102]], 'token_type_ids': [[0, 0, 0, 0, 0, 0, 0, 0, 0, 0, 0, 0, 0, 0, 0, 0, 0, 0, 0, 0, 0, 0, 0, 0, 0, 0, 0, 0, 0, 0, 0, 0, 0, 0, 0, 0, 0], [0, 0, 0, 0, 0, 0, 0, 0, 0, 0, 0, 0, 0, 0, 0, 0, 0, 0, 0, 0, 0, 0, 0, 0, 0, 0, 0, 0, 0, 0, 0, 0, 0, 0, 0, 0, 0, 0, 0]], 'attention_mask': [[1, 1, 1, 1, 1, 1, 1, 1, 1, 1, 1, 1, 1, 1, 1, 1, 1, 1, 1, 1, 1, 1, 1, 1, 1, 1, 1, 1, 1, 1, 1, 1, 1, 1, 1, 1, 1], [1, 1, 1, 1, 1, 1, 1, 1, 1, 1, 1, 1, 1, 1, 1, 1, 1, 1, 1, 1, 1, 1, 1, 1, 1, 1, 1, 1, 1, 1, 1, 1, 1, 1, 1, 1, 1, 1, 1]]}\n",
      "\n",
      "decode===========================================\n",
      "\n",
      "[CLS] 국토교통부 관계자는 실무기구에서는 각 업계별로 규제혁신형 플랫폼 택시를 하기 위해서는 어떤 규제를 풀어야 한다는 자기 안이 있어야 한다 고 말했다 [SEP]\n",
      "[CLS] 국책연구기관의 한 관계자는 위원회가 전문성과 대표성을 갖추고 본연의 장점을 최대한 살리기 위해서는 외부 감시와 통제가 보다 활성화돼야 한다 고 지적했다 [SEP]\n"
     ]
    }
   ],
   "source": [
    "print(f\"train_dataset_fast=======================================\")\n",
    "print(f'*train_len:{len(train_dataset_fast[\"train\"])}, len:{len(train_dataset_fast[\"train\"])}')  # fast_dataset과 dataset 길이를 비교함\n",
    "print(train_dataset_fast['train'][0:2])\n",
    "\n",
    "print(f'\\r\\ndecode===========================================\\r\\n')\n",
    "print(tokenizer.decode(train_dataset_fast['train']['input_ids'][0]))\n",
    "print(tokenizer.decode(train_dataset_fast['train']['input_ids'][1]))\n",
    "\n",
    "print(f\"eval_dataset_fast=======================================\")\n",
    "print(f'*fast_len:{len(eval_dataset_fast[\"test\"])}, len:{len(eval_dataset[\"test\"])}')  # fast_dataset과 dataset 길이를 비교함\n",
    "print(eval_dataset_fast['test'][0:2])\n",
    "\n",
    "print(f'\\r\\ndecode===========================================\\r\\n')\n",
    "print(tokenizer.decode(eval_dataset_fast['test']['input_ids'][0]))\n",
    "print(tokenizer.decode(eval_dataset_fast['test']['input_ids'][1]))"
   ]
  },
  {
   "cell_type": "code",
   "execution_count": 10,
   "id": "651e30a6-0601-4272-bd40-0fdb9ce7be16",
   "metadata": {},
   "outputs": [
    {
     "name": "stdout",
     "output_type": "stream",
     "text": [
      "train_dataset_fast(MLM)=======================================\n",
      "DatasetDict({\n",
      "    train: Dataset({\n",
      "        features: ['text', 'input_ids', 'token_type_ids', 'attention_mask', 'next_sentence_label', 'labels'],\n",
      "        num_rows: 2214480\n",
      "    })\n",
      "})\n",
      "tensor([   101, 123480, 125259,    103,  11513,  45004,  12609,    102,   8924,\n",
      "         10003, 120386,  10530, 120099, 125609,    217, 124015,    103, 123984,\n",
      "         10459, 124436,    103,   9641,  12609,    102])\n",
      "{'text': '조지아 공과대학교를 졸업하였다. 그 후 해군에 들어가 전함·원자력·잠수함의 승무원으로 일하였다', 'input_ids': [101, 123480, 125259, 30461, 11513, 45004, 12609, 102, 8924, 10003, 120386, 10530, 120099, 125609, 217, 124015, 217, 123984, 10459, 124436, 11467, 9641, 12609, 102], 'token_type_ids': [0, 0, 0, 0, 0, 0, 0, 0, 1, 1, 1, 1, 1, 1, 1, 1, 1, 1, 1, 1, 1, 1, 1, 1], 'attention_mask': [1, 1, 1, 1, 1, 1, 1, 1, 1, 1, 1, 1, 1, 1, 1, 1, 1, 1, 1, 1, 1, 1, 1, 1], 'next_sentence_label': 0, 'labels': [101, 123480, 125259, 30461, 11513, 45004, 12609, 102, 8924, 10003, 120386, 10530, 120099, 125609, 217, 124015, 217, 123984, 10459, 124436, 11467, 9641, 12609, 102]}\n",
      "\n",
      "org===========================================\n",
      "\n",
      "[CLS] 조지아 공과대학교를 졸업하였다 [SEP] 그 후 해군에 들어가 전함 · 원자력 · 잠수함의 승무원으로 일하였다 [SEP]\n",
      "\n",
      "decode===========================================\n",
      "\n",
      "[CLS] 조지아 공과 [MASK]를 졸업하였다 [SEP] 그 후 해군에 들어가 전함 · 원자력 [MASK] 잠수함의 승무원 [MASK] 일하였다 [SEP]\n",
      "\n",
      "\n",
      "\n",
      "eval_dataset_fast(MLM)=======================================\n",
      "DatasetDict({\n",
      "    test: Dataset({\n",
      "        features: ['text', 'input_ids', 'token_type_ids', 'attention_mask'],\n",
      "        num_rows: 200\n",
      "    })\n",
      "})\n",
      "tensor([   101, 123067, 130404, 123101,  11018, 126024, 122076,  23635,   8844,\n",
      "        123998,    103,  11261, 121905, 127469,  27506, 122160, 126962,  11513,\n",
      "          9952,  12310, 119754,  11018,  55910, 121905,  11513,   9937, 119684,\n",
      "           103, 119926,   9521,  10739,  45893,    103,  16139,   8888, 102055,\n",
      "           102])\n",
      "{'text': '국토교통부 관계자는  실무기구에서는 각 업계별로 규제혁신형 플랫폼 택시를 하기 위해서는 어떤 규제를 풀어야 한다는 자기 안이 있어야 한다 고 말했다 ', 'input_ids': [101, 123067, 130404, 123101, 11018, 126024, 122076, 23635, 8844, 123998, 61844, 11261, 121905, 127469, 27506, 122160, 126962, 11513, 9952, 12310, 119754, 11018, 55910, 121905, 11513, 9937, 119684, 120812, 119926, 9521, 10739, 45893, 21711, 16139, 8888, 102055, 102], 'token_type_ids': [0, 0, 0, 0, 0, 0, 0, 0, 0, 0, 0, 0, 0, 0, 0, 0, 0, 0, 0, 0, 0, 0, 0, 0, 0, 0, 0, 0, 0, 0, 0, 0, 0, 0, 0, 0, 0], 'attention_mask': [1, 1, 1, 1, 1, 1, 1, 1, 1, 1, 1, 1, 1, 1, 1, 1, 1, 1, 1, 1, 1, 1, 1, 1, 1, 1, 1, 1, 1, 1, 1, 1, 1, 1, 1, 1, 1]}\n",
      "\n",
      "org===========================================\n",
      "\n",
      "[CLS] 국토교통부 관계자는 실무기구에서는 각 업계별로 규제혁신형 플랫폼 택시를 하기 위해서는 어떤 규제를 풀어야 한다는 자기 안이 있어야 한다 고 말했다 [SEP]\n",
      "\n",
      "decode===========================================\n",
      "\n",
      "[CLS] 국토교통부 관계자는 실무기구에서는 각 업계 [MASK]로 규제혁신형 플랫폼 택시를 하기 위해서는 어떤 규제를 풀어야 [MASK] 자기 안이 있어 [MASK] 한다 고 말했다 [SEP]\n"
     ]
    }
   ],
   "source": [
    "# MLM을 위한 DataCollatorForLangunageModeling 호출\n",
    "from transformers import DataCollatorForLanguageModeling\n",
    "\n",
    "# input_ids에 대해 MLM 만들기\n",
    "data_collator = DataCollatorForLanguageModeling(    # [MASK] 를 씌우는 것은 저희가 구현하지 않아도 됩니다! :-)\n",
    "    tokenizer=tokenizer, mlm=True, mlm_probability=0.15\n",
    ")\n",
    "\n",
    "# input_ids MLM 만들고 출력 해봄\n",
    "mlm_train_sample = data_collator(train_dataset_fast['train']['input_ids'][0:1])\n",
    "mlm_eval_sample = data_collator(eval_dataset_fast['test']['input_ids'][0:1])\n",
    "\n",
    "print(f\"train_dataset_fast(MLM)=======================================\")\n",
    "print(train_dataset_fast)\n",
    "print(mlm_train_sample['input_ids'][0])\n",
    "print(train_dataset_fast['train'][0])\n",
    "\n",
    "print(f'\\r\\norg===========================================\\r\\n')\n",
    "print(tokenizer.decode(train_dataset_fast['train']['input_ids'][0]))\n",
    "\n",
    "print(f'\\r\\ndecode===========================================\\r\\n')\n",
    "print(tokenizer.decode(mlm_train_sample['input_ids'][0]))\n",
    "\n",
    "print(f'\\r\\n\\r\\n')\n",
    "\n",
    "print(f\"eval_dataset_fast(MLM)=======================================\")\n",
    "print(eval_dataset_fast)\n",
    "print(mlm_eval_sample['input_ids'][0])\n",
    "print(eval_dataset_fast['test'][0])\n",
    "\n",
    "print(f'\\r\\norg===========================================\\r\\n')\n",
    "print(tokenizer.decode(eval_dataset_fast['test']['input_ids'][0]))\n",
    "\n",
    "print(f'\\r\\ndecode===========================================\\r\\n')\n",
    "print(tokenizer.decode(mlm_eval_sample['input_ids'][0]))"
   ]
  },
  {
   "cell_type": "code",
   "execution_count": null,
   "id": "2b1b230b-62af-4ee2-81a9-aaea54697a99",
   "metadata": {},
   "outputs": [],
   "source": [
    "# 훈련 trainer 설정 \n",
    "# trainer \n",
    "\n",
    "from transformers import Trainer, TrainingArguments\n",
    "\n",
    "#########################################################################################\n",
    "# hyper parameter 설정\n",
    "#########################################################################################\n",
    "epochs = epoch          # epochs\n",
    "#lr = 3e-5  # 학습률\n",
    "\n",
    "total_optim_steps = len(train_dataset_fast[\"train\"]) * epochs // batch_size   # 총 optimize(역전파) 스탭수 = 훈련dataset 계수 * epochs // 배치 크기\n",
    "eval_steps=int(total_optim_steps * 0.02)           # 평가 스탭수\n",
    "logging_steps=eval_steps                           # 로깅 스탭수(*평가스탭수 출력할때는 평가스탭수와 동일하게)\n",
    "save_steps=int(total_optim_steps * 0.1)            # 저장 스탭수 \n",
    "#save_total_limit=2                                 # 마지막 2개 남기고 삭제 \n",
    "\n",
    "print(f'*total_optim_steps: {total_optim_steps}, *eval_steps:{eval_steps}, *logging_steps:{logging_steps}, *save_steps:{save_steps}')\n",
    "#########################################################################################\n",
    "\n",
    "# cpu 사용이면 'no_cuda = True' 설정함.\n",
    "no_cuda = False\n",
    "if device == 'cpu':\n",
    "    no_cuda = True\n",
    "print(f'*no_cuda: {no_cuda}')\n",
    "\n",
    "training_args = TrainingArguments(\n",
    "    no_cuda = no_cuda,                      # GPU 사용  안함\n",
    "    output_dir = OUTPATH,                   # 출력 모델 저장 경로 \n",
    "    overwrite_output_dir=True,         \n",
    "    num_train_epochs=epochs,                # 에폭\n",
    "    learning_rate=lr,                      # lr: 기본 5e-5\n",
    "    per_gpu_train_batch_size=batch_size,    # 배치 사이즈 \n",
    "    save_strategy=\"epoch\",                  # 저장 전략 (no, epoch, steps 기본=steps) \n",
    "    save_steps=save_steps,                  # step 수마다 모델을 저장\n",
    "    #save_total_limit=save_total_limit,      # 마지막 두 모델 빼고 과거 모델은 삭제\n",
    "    evaluation_strategy=\"steps\",            # 평가 전략 : steps\n",
    "    eval_steps=eval_steps,                  # 평가할 스텝수\n",
    "    logging_steps=logging_steps             # 로깅할 스탭수\n",
    ")\n",
    "\n",
    "# trainer로 훈련할때는 [mask] 처리된 input_ids 만 dataset으로 넘겨주면 됨.\n",
    "train_datasets_input_ids = train_datasets['input_ids']\n",
    "eval_dataset_fast_input_ids = eval_dataset_fast['test']['input_ids']\n",
    "\n",
    "trainer = Trainer(\n",
    "    model=model,\n",
    "    args=training_args,\n",
    "    data_collator=data_collator,  #MLM(Masked Language Model)\n",
    "    train_dataset=train_datasets_input_ids,   # 훈련 데이터셋\n",
    "    eval_dataset=eval_dataset_fast_input_ids      # 평가 데이터셋\n",
    ")"
   ]
  },
  {
   "cell_type": "code",
   "execution_count": null,
   "id": "927efe3d-6472-4c37-825e-c14ef5ce2797",
   "metadata": {},
   "outputs": [],
   "source": [
    "# 훈련 시작\n",
    "trainer.train()"
   ]
  },
  {
   "cell_type": "code",
   "execution_count": null,
   "id": "4be7243c-1c77-403c-bb71-281612b8db36",
   "metadata": {},
   "outputs": [],
   "source": [
    "# 모델 저장\n",
    "### 전체모델 저장\n",
    "TMP_OUT_PATH = '../../data11/model/bert/mbertV2.0-test/'\n",
    "os.makedirs(TMP_OUT_PATH, exist_ok=True)\n",
    "#torch.save(model, OUTPATH + 'pytorch_model.bin') \n",
    "# save_pretrained 로 저장하면 config.json, pytorch_model.bin 2개의 파일이 생성됨\n",
    "model.save_pretrained(TMP_OUT_PATH)\n",
    "\n",
    "# tokeinizer 파일 저장(vocab)\n",
    "VOCAB_PATH = TMP_OUT_PATH\n",
    "tokenizer.save_pretrained(VOCAB_PATH)\n",
    "print(f'==> save_model : {TMP_OUT_PATH}')"
   ]
  },
  {
   "cell_type": "code",
   "execution_count": null,
   "id": "33a8a66c-831a-44f4-a063-9932aeaf7d00",
   "metadata": {},
   "outputs": [],
   "source": []
  }
 ],
 "metadata": {
  "kernelspec": {
   "display_name": "Python 3 (ipykernel)",
   "language": "python",
   "name": "python3"
  },
  "language_info": {
   "codemirror_mode": {
    "name": "ipython",
    "version": 3
   },
   "file_extension": ".py",
   "mimetype": "text/x-python",
   "name": "python",
   "nbconvert_exporter": "python",
   "pygments_lexer": "ipython3",
   "version": "3.9.7"
  }
 },
 "nbformat": 4,
 "nbformat_minor": 5
}

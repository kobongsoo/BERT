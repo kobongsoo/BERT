{
 "cells": [
  {
   "cell_type": "code",
   "execution_count": 1,
   "id": "636ee32c-db97-4810-8084-2d11566e7226",
   "metadata": {},
   "outputs": [],
   "source": [
    "# Semantic Search\n",
    "#SemanticSearch.py는 주어진 문장과 유사한 문장을 찾는 작업입니다.\n",
    "# 참고 소스 : https://github.com/BM-K/KoSentenceBERT-ETRI\n",
    "\n",
    "from sentence_transformers import SentenceTransformer, util\n",
    "import numpy as np\n",
    "\n",
    "#model_path = 'model/bmc_fpt_kowiki20200920.train_model_0225-s-bert-nli-sts-0303'\n",
    "model_path = '../model/bmc_fpt_kowiki20200920.train_model_0225-s-bert-nli-sts-0303'"
   ]
  },
  {
   "cell_type": "code",
   "execution_count": 2,
   "id": "02a50cc6-0bbd-489a-86be-358f22dc6c26",
   "metadata": {},
   "outputs": [
    {
     "name": "stdout",
     "output_type": "stream",
     "text": [
      "SentenceTransformer(\n",
      "  (0): Transformer({'max_seq_length': 128, 'do_lower_case': False}) with Transformer model: BertModel \n",
      "  (1): Pooling({'word_embedding_dimension': 768, 'pooling_mode_cls_token': False, 'pooling_mode_mean_tokens': True, 'pooling_mode_max_tokens': False, 'pooling_mode_mean_sqrt_len_tokens': False})\n",
      ")\n"
     ]
    }
   ],
   "source": [
    "embedder = SentenceTransformer(model_path)\n",
    "print(embedder)"
   ]
  },
  {
   "cell_type": "code",
   "execution_count": 3,
   "id": "5a24601e-1b52-4547-bad0-aa282da38bf5",
   "metadata": {},
   "outputs": [],
   "source": [
    "'''\n",
    "# Corpus with example sentences\n",
    "corpus = ['오늘은 날씨가 흐리고 비가 온다',\n",
    "          '식당에서 밥을 먹었다',\n",
    "          '관광 버스를 타고 여행을 한다',\n",
    "          '낚시를 해서 물고기를 많이 잡았다',\n",
    "          '동물원에서 호랑이를 보았다',\n",
    "          '선거일에는 투표하러 가야 한다',\n",
    "          '마트에 가서 맛있는 배를 샀다',\n",
    "          '도서관에서 시험 공부 하고 있다',\n",
    "          '야구장에 가서 열심히 응원 했다']\n",
    "\n",
    "# Query sentences:\n",
    "queries = ['구름 많고 매우 춥다',\n",
    "           '비행기를 타고 간다',\n",
    "           '어제 산에서 사슴를 봤다']\n",
    "'''\n",
    "'''\n",
    "corpus = ['정치',\n",
    "          '경제',\n",
    "          '여행',\n",
    "          '선거',\n",
    "          '날씨',\n",
    "          '서울',\n",
    "          '축구',\n",
    "          'IT',\n",
    "          '금융']\n",
    "\n",
    "# Query sentences:\n",
    "queries = ['가장 가보고 싶은 여행지는?',\n",
    "           '내 지역 투표장은 어디?',\n",
    "           '요즘 가장 핫한 증권 소식은?']\n",
    "'''\n",
    "\n",
    "corpus = ['서울은 대한민국에 수도이며, 정치 경제 중심지이다',\n",
    "          '내년 경제 성장은 4%대 성장을 이룰거라 예상된다',\n",
    "          '프랑스 파리는 전세계 관광객들이 매년 찾는 관광도시이다',\n",
    "          '올해에는 대통령 선거와 지방선거가 동시에 열린다',\n",
    "          '오늘 날씨는 비가 내리고 매우 춥다',\n",
    "          '손홍민이 영국 프리미어 축구 경기에서 11번째 골을 넣었다',\n",
    "          '건조한 날씨에 산불을 조심해야 한다',\n",
    "          '윈도우11 OS에 검색 기능을 강화 하였다',\n",
    "          '한국은행은 올해 하반기 금리를 동결했다']\n",
    "          \n",
    "\n",
    "queries = ['여행',\n",
    "           '투표',\n",
    "           '증권',\n",
    "           'IT']\n"
   ]
  },
  {
   "cell_type": "code",
   "execution_count": 4,
   "id": "b1e98000-ec80-4ee1-b697-a498caae1534",
   "metadata": {},
   "outputs": [
    {
     "name": "stdout",
     "output_type": "stream",
     "text": [
      "\n",
      "\n",
      "======================\n",
      "\n",
      "\n",
      "Query: 여행\n",
      "\n",
      "Top 5 most similar sentences in corpus:\n",
      "프랑스 파리는 전세계 관광객들이 매년 찾는 관광도시이다 (Score: 0.3055)\n",
      "내년 경제 성장은 4%대 성장을 이룰거라 예상된다 (Score: 0.2887)\n",
      "올해에는 대통령 선거와 지방선거가 동시에 열린다 (Score: 0.2046)\n",
      "오늘 날씨는 비가 내리고 매우 춥다 (Score: 0.1806)\n",
      "건조한 날씨에 산불을 조심해야 한다 (Score: 0.1285)\n",
      "\n",
      "\n",
      "======================\n",
      "\n",
      "\n",
      "Query: 투표\n",
      "\n",
      "Top 5 most similar sentences in corpus:\n",
      "올해에는 대통령 선거와 지방선거가 동시에 열린다 (Score: 0.2842)\n",
      "내년 경제 성장은 4%대 성장을 이룰거라 예상된다 (Score: 0.2166)\n",
      "오늘 날씨는 비가 내리고 매우 춥다 (Score: 0.1813)\n",
      "윈도우11 OS에 검색 기능을 강화 하였다 (Score: 0.1579)\n",
      "한국은행은 올해 하반기 금리를 동결했다 (Score: 0.1175)\n",
      "\n",
      "\n",
      "======================\n",
      "\n",
      "\n",
      "Query: 증권\n",
      "\n",
      "Top 5 most similar sentences in corpus:\n",
      "윈도우11 OS에 검색 기능을 강화 하였다 (Score: 0.2416)\n",
      "서울은 대한민국에 수도이며, 정치 경제 중심지이다 (Score: 0.2288)\n",
      "한국은행은 올해 하반기 금리를 동결했다 (Score: 0.2219)\n",
      "내년 경제 성장은 4%대 성장을 이룰거라 예상된다 (Score: 0.1935)\n",
      "올해에는 대통령 선거와 지방선거가 동시에 열린다 (Score: 0.1797)\n",
      "\n",
      "\n",
      "======================\n",
      "\n",
      "\n",
      "Query: IT\n",
      "\n",
      "Top 5 most similar sentences in corpus:\n",
      "윈도우11 OS에 검색 기능을 강화 하였다 (Score: 0.3871)\n",
      "올해에는 대통령 선거와 지방선거가 동시에 열린다 (Score: 0.1986)\n",
      "서울은 대한민국에 수도이며, 정치 경제 중심지이다 (Score: 0.1943)\n",
      "내년 경제 성장은 4%대 성장을 이룰거라 예상된다 (Score: 0.1438)\n",
      "손홍민이 영국 프리미어 축구 경기에서 11번째 골을 넣었다 (Score: 0.1057)\n"
     ]
    }
   ],
   "source": [
    "# corpus 임베딩\n",
    "corpus_embeddings = embedder.encode(corpus, convert_to_tensor=True)\n",
    "\n",
    "# query 임베딩 하면서 corpus와 비교하여 유사도 출력\n",
    "# Find the closest 5 sentences of the corpus for each query sentence based on cosine similarity\n",
    "top_k = 5\n",
    "for query in queries:\n",
    "    query_embedding = embedder.encode(query, convert_to_tensor=True)\n",
    "    cos_scores = util.pytorch_cos_sim(query_embedding, corpus_embeddings)[0]\n",
    "    cos_scores = cos_scores.cpu()\n",
    "\n",
    "    #We use np.argpartition, to only partially sort the top_k results\n",
    "    top_results = np.argpartition(-cos_scores, range(top_k))[0:top_k]\n",
    "\n",
    "    print(\"\\n\\n======================\\n\\n\")\n",
    "    print(\"Query:\", query)\n",
    "    print(\"\\nTop 5 most similar sentences in corpus:\")\n",
    "\n",
    "    for idx in top_results[0:top_k]:\n",
    "        print(corpus[idx].strip(), \"(Score: %.4f)\" % (cos_scores[idx]))"
   ]
  },
  {
   "cell_type": "code",
   "execution_count": null,
   "id": "cefa1295-4739-4167-8a8e-35280a936e36",
   "metadata": {},
   "outputs": [],
   "source": []
  },
  {
   "cell_type": "code",
   "execution_count": null,
   "id": "49fd4928-458b-4509-a204-3ec5fe459b8d",
   "metadata": {},
   "outputs": [],
   "source": []
  }
 ],
 "metadata": {
  "kernelspec": {
   "display_name": "Python 3 (ipykernel)",
   "language": "python",
   "name": "python3"
  },
  "language_info": {
   "codemirror_mode": {
    "name": "ipython",
    "version": 3
   },
   "file_extension": ".py",
   "mimetype": "text/x-python",
   "name": "python",
   "nbconvert_exporter": "python",
   "pygments_lexer": "ipython3",
   "version": "3.9.7"
  }
 },
 "nbformat": 4,
 "nbformat_minor": 5
}

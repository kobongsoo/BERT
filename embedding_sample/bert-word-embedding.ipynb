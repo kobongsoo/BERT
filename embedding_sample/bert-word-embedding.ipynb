{
 "cells": [
  {
   "cell_type": "code",
   "execution_count": 1,
   "id": "9ed80905-9e79-4818-84c3-2874cf302416",
   "metadata": {},
   "outputs": [
    {
     "name": "stdout",
     "output_type": "stream",
     "text": [
      "logfilepath:../../log/bwdataset_2022-04-15.log\n",
      "logfilepath:../../log/qnadataset_2022-04-15.log\n"
     ]
    }
   ],
   "source": [
    "import torch\n",
    "import gluonnlp as nlp     # GluonNLP는 버트를 간단하게 로딩하는 인터페이스를 제공하는 API 임\n",
    "import numpy as np\n",
    "from transformers import BertTokenizer, BertTokenizerFast, BertModel\n",
    "\n",
    "import sys\n",
    "sys.path.append(\"..\")\n",
    "from myutils import seed_everything, GPU_info, pytorch_cos_sim"
   ]
  },
  {
   "cell_type": "code",
   "execution_count": 2,
   "id": "bf737966-aa6b-491c-a603-07bcf6251e7c",
   "metadata": {},
   "outputs": [],
   "source": [
    "'''\n",
    "#config.json, pytorch_model.bin 같이 있는 폴더 지정\n",
    "model_path = 'model/bert-multilingual-cased_furter_pt_model_0216' \n",
    "# voab.txt, special_tokens_map.json, tokenizer_config.json,added_tokens.json 폴더 경로 지정\n",
    "vocab_path = \"model/bert-multilingual-cased_furter_pt_model_0216/vocab\"\n",
    "'''\n",
    "\n",
    "model_path = \"../../model/bert/bmc-fpt-wiki_20190620_mecab_false_0311-nouns-0327\"\n",
    "vocab_path = \"../../model/bert/bmc-fpt-wiki_20190620_mecab_false_0311-nouns-0327\"\n",
    "\n",
    "# True로 해야, hidden_states 가 출력됨\n",
    "output_hidden_states = True\n",
    "return_dict = False\n",
    "\n",
    "seed = 111"
   ]
  },
  {
   "cell_type": "code",
   "execution_count": null,
   "id": "99ee98e5-6f42-408d-8708-b3be1bdd2217",
   "metadata": {},
   "outputs": [],
   "source": [
    "cuda = GPU_info()\n",
    "print(cuda)"
   ]
  },
  {
   "cell_type": "code",
   "execution_count": null,
   "id": "77964daf-f90a-4acb-8188-844ba5d29c41",
   "metadata": {},
   "outputs": [],
   "source": [
    "#seed 설정\n",
    "seed_everything(seed)"
   ]
  },
  {
   "cell_type": "code",
   "execution_count": null,
   "id": "f78bf7ff-109c-483c-8578-8d70254a26dc",
   "metadata": {},
   "outputs": [],
   "source": [
    "# model 불러옴\n",
    "model = BertModel.from_pretrained(model_path, \n",
    "                                  output_hidden_states=output_hidden_states,\n",
    "                                  return_dict=return_dict)"
   ]
  },
  {
   "cell_type": "code",
   "execution_count": null,
   "id": "b7e707cc-5482-41d9-aae5-002e78eebf1d",
   "metadata": {},
   "outputs": [],
   "source": [
    "device = torch.device(cuda)\n",
    "#model.to(device)\n",
    "model.eval()"
   ]
  },
  {
   "cell_type": "code",
   "execution_count": null,
   "id": "df4e6c36-5fa4-4650-a2ef-d60359890342",
   "metadata": {},
   "outputs": [],
   "source": [
    "model.num_parameters()"
   ]
  },
  {
   "cell_type": "code",
   "execution_count": 3,
   "id": "b441f344-bb46-438e-970e-df0cf4128d95",
   "metadata": {},
   "outputs": [],
   "source": [
    "# tokenize 설정\n",
    "tokenizer = BertTokenizerFast.from_pretrained(vocab_path)"
   ]
  },
  {
   "cell_type": "code",
   "execution_count": null,
   "id": "fb6f800b-199b-4128-b6ce-daf926787e34",
   "metadata": {},
   "outputs": [],
   "source": [
    "len(tokenizer)"
   ]
  },
  {
   "cell_type": "code",
   "execution_count": null,
   "id": "18170aaf-1080-47a7-b643-fe226ae0c5a2",
   "metadata": {},
   "outputs": [],
   "source": [
    "#list(tokenizer.vocab.keys())[8000:8010]"
   ]
  },
  {
   "cell_type": "code",
   "execution_count": 17,
   "id": "ead3ec47-3f11-42af-82b3-27f7c59d1040",
   "metadata": {},
   "outputs": [],
   "source": [
    "#tokenized_input = tokenizer(\"식당에 가서 밥을 배 부르게 먹고 낙시배를 타고 고기 잡고 요트배를 타고 관광을 해야 겠다\", return_tensors=\"pt\")\n",
    "#text = \"식민지 관리들은 1680년대로 거슬러 올라가, 레나페 델라웨어 족이 델라웨어 강과 리하이 강 합류 (현재 라이츠 타운 근처)하는 지점에서 시작하여 한 남자가 하루 반을 도보할 수 있는 곳까지’ 토지를 매각하겠다고 약속했다고 주장했다. \"\n",
    "text = '''\n",
    "미국 의 관타나모 수용소 문제 , 세계 의 인권 문제 에서 도 관심 이 깊 어 유엔 에 유엔 인권 고등 판무관 의 제도 를 시행 하 도록 노력 하 여 독재자 들 의 인권 유린 에 대해 제약 을 하 고 , \n",
    "국제 형사 재판소 를 만드 는 데 기여 하 여 독재자 들 같 은 인권 유린 범죄자 를 재판소 로 회부 하 여 국제 적 인 처벌 을 받 게 하 는 등 인권 신장 에 크 나 큰 기여 를 했 다 .\n",
    "'''\n",
    "tokenized_input = tokenizer(text, padding=\"max_length\", max_length=96, return_tensors=\"pt\")"
   ]
  },
  {
   "cell_type": "code",
   "execution_count": 18,
   "id": "be9c2021-e4f3-437b-a75a-770d6f893713",
   "metadata": {},
   "outputs": [
    {
     "name": "stdout",
     "output_type": "stream",
     "text": [
      "96\n",
      "[['[CLS]', '미국', '의', '관', '##타', '##나', '##모', '수용소', '문제', ',', '세계', '의', '인권', '문제', '에서', '도', '관심', '이', '깊', '어', '유엔', '에', '유엔', '인권', '고등', '판', '##무관', '의', '제도', '를', '시행', '하', '도', '##록', '노력', '하', '여', '독재자', '들', '의', '인권', '유린', '에', '대해', '제약', '을', '하', '고', ',', '국제', '형사', '재판소', '를', '만', '##드', '는', '데', '기여', '하', '여', '독재자', '들', '같', '은', '인권', '유린', '범죄자', '를', '재판소', '로', '회부', '하', '여', '국제', '적', '인', '처벌', '을', '받', '게', '하', '는', '등', '인권', '신장', '에', '크', '나', '큰', '기여', '를', '했', '다', '.', '[SEP]', '[PAD]']]\n",
      "[[101, 23545, 9637, 8900, 22695, 16439, 39420, 123574, 119564, 117, 32613, 9637, 120922, 119564, 24178, 9087, 119798, 9638, 8938, 9546, 120764, 9559, 120764, 120922, 121662, 9903, 135408, 9637, 119737, 9233, 120058, 9952, 9087, 31398, 119840, 9952, 9565, 127954, 9117, 9637, 120922, 131955, 9559, 33378, 122304, 9633, 9952, 8888, 117, 61320, 121528, 128564, 9233, 9248, 15001, 9043, 9083, 120127, 9952, 9565, 127954, 9117, 8855, 9632, 120922, 131955, 128021, 9233, 128564, 9202, 128879, 9952, 9565, 61320, 9664, 9640, 120997, 9633, 9322, 8872, 9952, 9043, 9121, 120922, 122412, 9559, 9834, 8982, 9835, 120127, 9233, 9965, 9056, 119, 102, 0]]\n",
      "[[1, 1, 1, 1, 1, 1, 1, 1, 1, 1, 1, 1, 1, 1, 1, 1, 1, 1, 1, 1, 1, 1, 1, 1, 1, 1, 1, 1, 1, 1, 1, 1, 1, 1, 1, 1, 1, 1, 1, 1, 1, 1, 1, 1, 1, 1, 1, 1, 1, 1, 1, 1, 1, 1, 1, 1, 1, 1, 1, 1, 1, 1, 1, 1, 1, 1, 1, 1, 1, 1, 1, 1, 1, 1, 1, 1, 1, 1, 1, 1, 1, 1, 1, 1, 1, 1, 1, 1, 1, 1, 1, 1, 1, 1, 1, 0]]\n",
      "[[0, 0, 0, 0, 0, 0, 0, 0, 0, 0, 0, 0, 0, 0, 0, 0, 0, 0, 0, 0, 0, 0, 0, 0, 0, 0, 0, 0, 0, 0, 0, 0, 0, 0, 0, 0, 0, 0, 0, 0, 0, 0, 0, 0, 0, 0, 0, 0, 0, 0, 0, 0, 0, 0, 0, 0, 0, 0, 0, 0, 0, 0, 0, 0, 0, 0, 0, 0, 0, 0, 0, 0, 0, 0, 0, 0, 0, 0, 0, 0, 0, 0, 0, 0, 0, 0, 0, 0, 0, 0, 0, 0, 0, 0, 0, 0]]\n"
     ]
    }
   ],
   "source": [
    "\n",
    "token_str = [[tokenizer.convert_ids_to_tokens(s) for s in tokenized_input['input_ids'].tolist()[0]]]\n",
    "\n",
    "# token indexs ( 토큰을 index로 변한한 값)\n",
    "token_ids = [tokenized_input['input_ids'].tolist()[0]]\n",
    "# attention_mask (중요토큰 : 1)\n",
    "token_attention_mask = [tokenized_input['attention_mask'].tolist()[0]]\n",
    "# segment_id (첫번째문자:0, 다음 문장:1)\n",
    "token_type_ids = [tokenized_input['token_type_ids'].tolist()[0]]\n",
    "\n",
    "print(len(token_type_ids[0]))\n",
    "print(token_str)\n",
    "print(token_ids)\n",
    "print(token_attention_mask)\n",
    "print(token_type_ids)\n"
   ]
  },
  {
   "cell_type": "code",
   "execution_count": 8,
   "id": "bef85f95-ec06-493f-9f81-e0e8e55d193b",
   "metadata": {},
   "outputs": [
    {
     "data": {
      "text/plain": [
       "263"
      ]
     },
     "execution_count": 8,
     "metadata": {},
     "output_type": "execute_result"
    }
   ],
   "source": [
    "len(token_attention_mask[0])"
   ]
  },
  {
   "cell_type": "code",
   "execution_count": null,
   "id": "99b9d7b1-6f27-4a6c-8605-c5d80d598dc4",
   "metadata": {},
   "outputs": [],
   "source": [
    "tokenizer.convert_ids_to_tokens(6313)"
   ]
  },
  {
   "cell_type": "code",
   "execution_count": null,
   "id": "345c823a-edad-4d50-b58f-6ddd94f3c106",
   "metadata": {},
   "outputs": [],
   "source": [
    "print(tokenized_input)"
   ]
  },
  {
   "cell_type": "code",
   "execution_count": null,
   "id": "3e41bc4c-df1c-497c-af73-66c608131ddb",
   "metadata": {},
   "outputs": [],
   "source": [
    "outputs = model(**tokenized_input)"
   ]
  },
  {
   "cell_type": "code",
   "execution_count": null,
   "id": "f3157f0d-89df-4126-a47d-8e4626c43fae",
   "metadata": {},
   "outputs": [],
   "source": [
    "print(len(outputs))"
   ]
  },
  {
   "cell_type": "code",
   "execution_count": null,
   "id": "f64fc308-2215-42db-85e2-7b748393583b",
   "metadata": {},
   "outputs": [],
   "source": [
    "sequence_output = outputs[0]\n",
    "print('sequence 길이: {}'.format(sequence_output.size()))\n",
    "\n",
    "pooled_output = outputs[1]\n",
    "print('pooled 길이:{}'.format(pooled_output.size()))\n",
    "\n",
    "hidden_states = outputs[2]\n",
    "layer_idx = 0\n",
    "batch_idx = 0\n",
    "token_idx = 0\n",
    "print('hidden_states')\n",
    "print(\"-레이어 수:{}\".format(len(hidden_states)))\n",
    "print(\"-배치 수: {}\".format(len(hidden_states[layer_idx])))\n",
    "print(\"-토큰 수 : {}\".format(len(hidden_states[layer_idx][batch_idx])))\n",
    "print(\"-hidden 유닛 수 : {}\".format(len(hidden_states[layer_idx][batch_idx][token_idx])))"
   ]
  },
  {
   "cell_type": "code",
   "execution_count": null,
   "id": "ab5b104b-9842-429b-915c-f5efa3700eb0",
   "metadata": {},
   "outputs": [],
   "source": [
    "##### 단어별 유사도 측정\n",
    "\n",
    "# premute를 사용하여 레이어 와 tokens 차원을 바꾼다.\n",
    "sequence_output_embedding = sequence_output.permute(1,0,2)\n",
    "print('sequence_output size: {}'.format(sequence_output_embedding.size()))\n",
    "\n",
    "# tensor -> list 로 변환\n",
    "output_list = sequence_output_embedding.tolist()\n",
    "\n",
    "word_1 = 8\n",
    "word_2 = 15\n",
    "word_3 = 25\n",
    "simul_score1 = pytorch_cos_sim(output_list[word_1][0], output_list[word_2][0])\n",
    "simul_score2 = pytorch_cos_sim(output_list[word_1][0], output_list[word_3][0])\n",
    "simul_score3 = pytorch_cos_sim(output_list[word_2][0], output_list[word_3][0])\n",
    "\n",
    "print(\"몸에 있는배 vs 낙시배 유사도:{}\".format(simul_score1))\n",
    "print(\"몸에 있는배 vs 요트배 유사도:{}\".format(simul_score2))\n",
    "print(\"낙시배 vs 요트배 유사도:{}\".format(simul_score3))"
   ]
  },
  {
   "cell_type": "code",
   "execution_count": null,
   "id": "0ba9f014-7837-4e6f-a249-b185f033d788",
   "metadata": {},
   "outputs": [],
   "source": [
    "print(output_list[6][0])"
   ]
  },
  {
   "cell_type": "code",
   "execution_count": null,
   "id": "d51f4965-4b2d-4179-a361-e438febd93cc",
   "metadata": {},
   "outputs": [],
   "source": []
  }
 ],
 "metadata": {
  "kernelspec": {
   "display_name": "Python 3 (ipykernel)",
   "language": "python",
   "name": "python3"
  },
  "language_info": {
   "codemirror_mode": {
    "name": "ipython",
    "version": 3
   },
   "file_extension": ".py",
   "mimetype": "text/x-python",
   "name": "python",
   "nbconvert_exporter": "python",
   "pygments_lexer": "ipython3",
   "version": "3.9.7"
  }
 },
 "nbformat": 4,
 "nbformat_minor": 5
}

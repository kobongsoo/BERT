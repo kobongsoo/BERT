{
 "cells": [
  {
   "cell_type": "code",
   "execution_count": 1,
   "id": "ccb83fdf-a44a-43d1-9fbc-e2c9b96342af",
   "metadata": {},
   "outputs": [
    {
     "name": "stdout",
     "output_type": "stream",
     "text": [
      "logfilepath:bwdataset_2022-03-28.log\n",
      "logfilepath:qnadataset_2022-03-28.log\n",
      "True\n",
      "device: cuda:0\n",
      "cuda index: 0\n",
      "gpu 개수: 1\n",
      "graphic name: NVIDIA A30\n",
      "logfilepath:Faiss_2022-03-28.log\n"
     ]
    }
   ],
   "source": [
    "#=======================================================================================\n",
    "# sentence-bert와 Faiss 라이브러리를 이용하여 search 하는 예시임\n",
    "# => Faiss는 facebook에서 만든 vector 유사도를 측정하는 라이브러리로, \n",
    "# 기존 numpy 나 scikit-learn 에서 제공하는 cosine similarity 보다 강력하며, GPU도 지원한다.\n",
    "#\n",
    "# 참고 \n",
    "# 번역본 : https://ichi.pro/ko/transformers-mich-faissleul-sayonghayeo-simaentig-geomsaeg-enjin-eul-guchughaneun-bangbeob-242711337083112\n",
    "# (원본 : https://medium.com/towards-data-science/how-to-build-a-semantic-search-engine-with-transformers-and-faiss-dcbea307a0e8)\n",
    "#\n",
    "# 설치\n",
    "# Faiss는 설치는 https://github.com/facebookresearch/faiss/blob/main/INSTALL.md 참조\n",
    "# GPU 버전 : $ conda install -c conda-forge faiss-gpu\n",
    "# \n",
    "#=======================================================================================\n",
    "#!conda install -c conda-forge faiss-gpu #보통 이거로 설치하면 됨\n",
    "\n",
    "import faiss\n",
    "import pandas as pd\n",
    "import numpy as np\n",
    "\n",
    "from os import sys\n",
    "sys.path.append('..')\n",
    "from myutils import GPU_info, seed_everything, mlogging\n",
    "\n",
    "device = GPU_info()\n",
    "seed_everything(111)\n",
    "logger = mlogging(loggername=\"Faiss\", logfilename=\"Faiss\")"
   ]
  },
  {
   "cell_type": "code",
   "execution_count": 2,
   "id": "17c5bcb9-bba9-41a4-928d-ca8329826fdc",
   "metadata": {},
   "outputs": [
    {
     "name": "stdout",
     "output_type": "stream",
     "text": [
      "5130\n"
     ]
    }
   ],
   "source": [
    "# excel 파일 로딩 (임베딩할 데이터)\n",
    "file_fpath = \"../korpora/감성대화말뭉치/감성대화말뭉치(최종데이터)_Validation.xlsx\"\n",
    "#df = pd.read_csv(file_fpath, encoding='euc-kr')\n",
    "df = pd.read_excel(file_fpath)\n",
    "\n",
    "print(len(df))"
   ]
  },
  {
   "cell_type": "code",
   "execution_count": 3,
   "id": "0bafdded-a58b-4d2c-9910-b5a13dd5f37a",
   "metadata": {},
   "outputs": [
    {
     "data": {
      "text/html": [
       "<div>\n",
       "<style scoped>\n",
       "    .dataframe tbody tr th:only-of-type {\n",
       "        vertical-align: middle;\n",
       "    }\n",
       "\n",
       "    .dataframe tbody tr th {\n",
       "        vertical-align: top;\n",
       "    }\n",
       "\n",
       "    .dataframe thead th {\n",
       "        text-align: right;\n",
       "    }\n",
       "</style>\n",
       "<table border=\"1\" class=\"dataframe\">\n",
       "  <thead>\n",
       "    <tr style=\"text-align: right;\">\n",
       "      <th></th>\n",
       "      <th>번호</th>\n",
       "      <th>연령</th>\n",
       "      <th>성별</th>\n",
       "      <th>상황키워드</th>\n",
       "      <th>신체질환</th>\n",
       "      <th>감정_대분류</th>\n",
       "      <th>감정_소분류</th>\n",
       "      <th>사람문장1</th>\n",
       "      <th>시스템응답1</th>\n",
       "      <th>사람문장2</th>\n",
       "      <th>시스템응답2</th>\n",
       "      <th>사람문장3</th>\n",
       "      <th>시스템응답3</th>\n",
       "      <th>사람문장4</th>\n",
       "      <th>시스템응답4</th>\n",
       "    </tr>\n",
       "  </thead>\n",
       "  <tbody>\n",
       "    <tr>\n",
       "      <th>0</th>\n",
       "      <td>23093</td>\n",
       "      <td>청년</td>\n",
       "      <td>여성</td>\n",
       "      <td>진로, 취업, 직장</td>\n",
       "      <td>해당없음</td>\n",
       "      <td>분노</td>\n",
       "      <td>툴툴대는</td>\n",
       "      <td>요즘 부모님과 많이 부딪혀.</td>\n",
       "      <td>어떤 일로 부딪히시나요?</td>\n",
       "      <td>난 하고 싶은 일이 있는데 부모님은 안정적인 일만 하라고 하셔. 내 마음대로 하지도...</td>\n",
       "      <td>부모님과의 충돌로 힘드시겠군요.</td>\n",
       "      <td>응. 그래도 난 내가 하고 싶은 일을 위해 노력할 거야.</td>\n",
       "      <td>자신이 하고 싶은 일을 목표로 하기로 하셨군요.</td>\n",
       "      <td>NaN</td>\n",
       "      <td>NaN</td>\n",
       "    </tr>\n",
       "    <tr>\n",
       "      <th>1</th>\n",
       "      <td>32848</td>\n",
       "      <td>청소년</td>\n",
       "      <td>남성</td>\n",
       "      <td>가족관계</td>\n",
       "      <td>해당없음</td>\n",
       "      <td>슬픔</td>\n",
       "      <td>비통한</td>\n",
       "      <td>엄마가 결국 집을 나갔어. 너무 너무 슬퍼.</td>\n",
       "      <td>어머니께서 집을 나가셨다니 정말 슬프셨겠어요. 좀 더 자세히 얘기해주시겠어요?</td>\n",
       "      <td>엄마도 엄마만의 인생이 있을 테니 가지 말라고 할 수가 없었어. 그래서 더 마음이 ...</td>\n",
       "      <td>정말 많이 답답하셨겠어요. 어떻게 하는 게 기분이 좀 풀릴까요?</td>\n",
       "      <td>일단 좀 자야겠어.</td>\n",
       "      <td>일단 휴식을 가질 생각이시군요.</td>\n",
       "      <td>NaN</td>\n",
       "      <td>NaN</td>\n",
       "    </tr>\n",
       "  </tbody>\n",
       "</table>\n",
       "</div>"
      ],
      "text/plain": [
       "      번호   연령  성별       상황키워드  신체질환 감정_대분류 감정_소분류                     사람문장1  \\\n",
       "0  23093   청년  여성  진로, 취업, 직장  해당없음     분노   툴툴대는           요즘 부모님과 많이 부딪혀.   \n",
       "1  32848  청소년  남성        가족관계  해당없음     슬픔    비통한  엄마가 결국 집을 나갔어. 너무 너무 슬퍼.   \n",
       "\n",
       "                                        시스템응답1  \\\n",
       "0                                어떤 일로 부딪히시나요?   \n",
       "1  어머니께서 집을 나가셨다니 정말 슬프셨겠어요. 좀 더 자세히 얘기해주시겠어요?   \n",
       "\n",
       "                                               사람문장2  \\\n",
       "0  난 하고 싶은 일이 있는데 부모님은 안정적인 일만 하라고 하셔. 내 마음대로 하지도...   \n",
       "1  엄마도 엄마만의 인생이 있을 테니 가지 말라고 할 수가 없었어. 그래서 더 마음이 ...   \n",
       "\n",
       "                                시스템응답2                            사람문장3  \\\n",
       "0                    부모님과의 충돌로 힘드시겠군요.  응. 그래도 난 내가 하고 싶은 일을 위해 노력할 거야.   \n",
       "1  정말 많이 답답하셨겠어요. 어떻게 하는 게 기분이 좀 풀릴까요?                       일단 좀 자야겠어.   \n",
       "\n",
       "                       시스템응답3 사람문장4 시스템응답4  \n",
       "0  자신이 하고 싶은 일을 목표로 하기로 하셨군요.   NaN    NaN  \n",
       "1           일단 휴식을 가질 생각이시군요.   NaN    NaN  "
      ]
     },
     "execution_count": 3,
     "metadata": {},
     "output_type": "execute_result"
    }
   ],
   "source": [
    "df[0:2]"
   ]
  },
  {
   "cell_type": "code",
   "execution_count": 4,
   "id": "a6b17ab0-44a0-450c-82b3-a1687f1f6f93",
   "metadata": {},
   "outputs": [
    {
     "data": {
      "text/plain": [
       "SentenceTransformer(\n",
       "  (0): Transformer({'max_seq_length': 128, 'do_lower_case': False}) with Transformer model: BertModel \n",
       "  (1): Pooling({'word_embedding_dimension': 768, 'pooling_mode_cls_token': False, 'pooling_mode_mean_tokens': True, 'pooling_mode_max_tokens': False, 'pooling_mode_mean_sqrt_len_tokens': False})\n",
       ")"
      ]
     },
     "execution_count": 4,
     "metadata": {},
     "output_type": "execute_result"
    }
   ],
   "source": [
    "# sentence bert 모델 로딩\n",
    "from sentence_transformers import SentenceTransformer\n",
    "model_path = \"../model/bert/bmc_fpt_kowiki20200920.train-sbert-tsmodel-0310\"\n",
    "smodel = SentenceTransformer(model_path)\n",
    "smodel.to(device)  # GPU 설정"
   ]
  },
  {
   "cell_type": "code",
   "execution_count": 5,
   "id": "693e8328-17e7-47de-97fb-db5a3f954e60",
   "metadata": {},
   "outputs": [
    {
     "data": {
      "application/vnd.jupyter.widget-view+json": {
       "model_id": "4847e951cde04489bce298588e73b072",
       "version_major": 2,
       "version_minor": 0
      },
      "text/plain": [
       "Batches:   0%|          | 0/161 [00:00<?, ?it/s]"
      ]
     },
     "metadata": {},
     "output_type": "display_data"
    }
   ],
   "source": [
    "#인코딩\n",
    "embeddings = smodel.encode(df.사람문장1.to_list(), show_progress_bar=True, convert_to_tensor=False)"
   ]
  },
  {
   "cell_type": "code",
   "execution_count": 6,
   "id": "4e35d8c0-800c-4509-8a83-9d613f518942",
   "metadata": {},
   "outputs": [],
   "source": [
    "# data tyep을 float32 array형으로 변경\n",
    "embeddings = np.array([embedding for embedding in embeddings]).astype(\"float32\")"
   ]
  },
  {
   "cell_type": "code",
   "execution_count": 7,
   "id": "df847ad0-918c-4ed1-9932-fbad4ad548d1",
   "metadata": {},
   "outputs": [],
   "source": [
    "# instance index 생성\n",
    "index = faiss.IndexFlatL2(embeddings.shape[1])"
   ]
  },
  {
   "cell_type": "code",
   "execution_count": 8,
   "id": "6ded930d-8b4c-43c6-bfd7-85bf567113ca",
   "metadata": {},
   "outputs": [],
   "source": [
    "# id를 매핑 시켜줌\n",
    "index = faiss.IndexIDMap(index)\n",
    "index.add_with_ids(embeddings, df.번호.values)"
   ]
  },
  {
   "cell_type": "code",
   "execution_count": 9,
   "id": "68ea94b9-43f4-4eff-b349-946064e7b512",
   "metadata": {},
   "outputs": [
    {
     "name": "stdout",
     "output_type": "stream",
     "text": [
      "[[ 0.       55.556606 58.96285  59.844555 60.291656 61.13421  67.78666\n",
      "  70.58383  76.5297   79.211   ]]\n",
      "[[32848 50821 10667 11181 47854 37672  8973 29562 38994  6666]]\n"
     ]
    }
   ],
   "source": [
    "# 1번째 데이터 값과 유사한 값 검색 해 봄\n",
    "distance, idx = index.search(np.array([embeddings[1]]), k=10)\n",
    "print(distance)\n",
    "print(idx)"
   ]
  },
  {
   "cell_type": "code",
   "execution_count": 10,
   "id": "5682eede-cfea-49f3-9750-08ac73074106",
   "metadata": {},
   "outputs": [
    {
     "data": {
      "text/plain": [
       "[['엄마가 결국 집을 나갔어. 너무 너무 슬퍼.'],\n",
       " ['아내가 아이들을 데리고 친정으로 돌아가서 슬퍼.'],\n",
       " ['그렇게 나를 힘들게 하던 시어머니가 돌아가셨어.'],\n",
       " ['요즘 돌아가신 엄마가 자꾸 생각나서 눈물이 나.'],\n",
       " ['엄마 때문에 속상해 죽겠어.'],\n",
       " ['아내가 나와 싸우고 집을 나갔어. 너무 걱정된다.'],\n",
       " ['오늘 아침에 엄마하고 싸웠어. 슬퍼.'],\n",
       " ['엄마는 내가 버리라고 한 옷을 자꾸 입어서 짜증 나!'],\n",
       " ['잠깐 자리를 비웠는데 아내가 집을 나갔어! 치매가 있는데 어딜 간 건지!'],\n",
       " ['우리 엄마를 생각하면 슬퍼.']]"
      ]
     },
     "execution_count": 10,
     "metadata": {},
     "output_type": "execute_result"
    }
   ],
   "source": [
    "# 10개 검색된 id를 가지고 실제 문장을 출력해 봄\n",
    "def id2details(df, I, column):\n",
    "    \"\"\"Returns the paper titles based on the paper index.\"\"\"\n",
    "    return [list(df[df.번호 == idx][column]) for idx in I[0]]\n",
    "\n",
    "id2details(df, idx, '사람문장1')\n"
   ]
  },
  {
   "cell_type": "code",
   "execution_count": 11,
   "id": "4b7f0d26-f978-4d99-a74c-0a914fe55ba5",
   "metadata": {},
   "outputs": [],
   "source": [
    "def vector_search(query, model, index, num_results=10):\n",
    "    \"\"\"Tranforms query to vector using a pretrained, sentence-level \n",
    "    DistilBERT model and finds similar vectors using FAISS.\n",
    "    Args:\n",
    "        query (str): User query that should be more than a sentence long.\n",
    "        model (sentence_transformers.SentenceTransformer.SentenceTransformer)\n",
    "        index (`numpy.ndarray`): FAISS index that needs to be deserialized.\n",
    "        num_results (int): Number of results to return.\n",
    "    Returns:\n",
    "        D (:obj:`numpy.array` of `float`): Distance between results and query.\n",
    "        I (:obj:`numpy.array` of `int`): Paper ID of the results.\n",
    "    \n",
    "    \"\"\"\n",
    "    vector = model.encode(list(query))\n",
    "    D, I = index.search(np.array(vector).astype(\"float32\"), k=num_results)\n",
    "    return D, I"
   ]
  },
  {
   "cell_type": "code",
   "execution_count": 13,
   "id": "c73a9cb6-29a3-4bbc-b00e-803a42bc9140",
   "metadata": {},
   "outputs": [
    {
     "name": "stdout",
     "output_type": "stream",
     "text": [
      "[[71.35812  71.45471  85.22177  85.958565 89.20883  90.06891  91.33994\n",
      "  92.94822  96.01962  97.03589 ]]\n",
      "[[41280 41333  6101 39155 36631 22566 46456 50072 48906 10756]]\n",
      "[['나 요즘 너무 기뻐!'], ['요즘 사는 게 즐겁고 행복해.'], ['직장에서 맡은 이번 프로젝트 결과가 정말 만족스러워! 너무 뿌듯해!'], ['완치 후 집에 오니 지인들이 선물이 많이 와있다. 인생 잘 산 것 같아서 기뻐.'], ['내가 열심히 한 만큼 성적이 잘 나와서 행복해.'], ['나 직장 옮겼어. 너무 좋아.'], ['오늘 너무 좋은 소식을 들어서 날아갈 듯이 기뻐!'], ['여행 계획을 짜는데 우리 가족 모두가 내 말을 수용해주니 정말 기뻐.'], ['결혼을 하고 나니 생활이 더 안정감 있는 것 같아서 너무 좋아.'], ['내 육십 평생 살아오면서 마음이 통하는 친구가 있다는 게 정말 만족스러워.']]\n"
     ]
    }
   ],
   "source": [
    "# 실제 한문장 쿼리 해봄\n",
    "user_query = \"나는 오늘 여행갈거라서 너무 행복하다\"\n",
    "distance, idx = vector_search([user_query], smodel, index, num_results=10)\n",
    "\n",
    "print(distance)\n",
    "print(idx)\n",
    "print(id2details(df, idx, '사람문장1'))\n"
   ]
  },
  {
   "cell_type": "code",
   "execution_count": null,
   "id": "edc71498-d01e-4694-8590-e85bacabce1a",
   "metadata": {},
   "outputs": [],
   "source": [
    "df[df.번호 == 41280]['사람문장1']"
   ]
  },
  {
   "cell_type": "code",
   "execution_count": null,
   "id": "9ef15024-1aa7-40ec-abb4-7a4da1dc3009",
   "metadata": {},
   "outputs": [],
   "source": [
    "# 여러문장 쿼리 해봄\n",
    "user_query = [\"나는 오늘 여행갈거라서 너무 행복하다\", \n",
    "             \"나는 오늘 너무 슬프다\"]\n",
    "\n",
    "vector = smodel.encode(user_query)\n",
    "# print(len(vector))\n",
    "distance, idx = index.search(np.array(vector).astype(\"float32\"), k=10)\n",
    "print(distance)\n",
    "print(idx)\n",
    "print([list(df[df.번호 == num]['사람문장1']) for num in I[0]])\n",
    "print([list(df[df.번호 == num]['사람문장1']) for num in I[1]])\n"
   ]
  },
  {
   "cell_type": "code",
   "execution_count": null,
   "id": "c0125d8d-4099-496b-bdcb-a1eefbbfd5e0",
   "metadata": {},
   "outputs": [],
   "source": []
  }
 ],
 "metadata": {
  "kernelspec": {
   "display_name": "Python 3 (ipykernel)",
   "language": "python",
   "name": "python3"
  },
  "language_info": {
   "codemirror_mode": {
    "name": "ipython",
    "version": 3
   },
   "file_extension": ".py",
   "mimetype": "text/x-python",
   "name": "python",
   "nbconvert_exporter": "python",
   "pygments_lexer": "ipython3",
   "version": "3.9.7"
  }
 },
 "nbformat": 4,
 "nbformat_minor": 5
}

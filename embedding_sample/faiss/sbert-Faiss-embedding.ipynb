{
 "cells": [
  {
   "cell_type": "code",
   "execution_count": null,
   "id": "db8237cb-a0e0-4b1f-a4a6-5c469fd1b9f8",
   "metadata": {},
   "outputs": [],
   "source": [
    "#=======================================================================================\n",
    "# sentence-bert와 Faiss 라이브러리를 이용하여 search 하는 예시임\n",
    "# => Faiss는 facebook에서 만든 vector 유사도를 측정하는 라이브러리로, \n",
    "# 기존 numpy 나 scikit-learn 에서 제공하는 cosine similarity 보다 강력하며, GPU도 지원한다.\n",
    "#\n",
    "# 참고 \n",
    "# 번역본 : https://ichi.pro/ko/transformers-mich-faissleul-sayonghayeo-simaentig-geomsaeg-enjin-eul-guchughaneun-bangbeob-242711337083112\n",
    "# (원본 : https://medium.com/towards-data-science/how-to-build-a-semantic-search-engine-with-transformers-and-faiss-dcbea307a0e8)\n",
    "#\n",
    "# 설치\n",
    "# Faiss는 설치는 https://github.com/facebookresearch/faiss/blob/main/INSTALL.md 참조\n",
    "# GPU 버전 : $ conda install -c conda-forge faiss-gpu\n",
    "# \n",
    "#=======================================================================================\n",
    "\n",
    "import faiss\n",
    "import numpy as np\n",
    "import pandas as pd\n",
    "import time\n",
    "\n",
    "from os import sys\n",
    "sys.path.append('../../')\n",
    "from myutils import GPU_info, seed_everything\n",
    "\n",
    "device = GPU_info()\n",
    "seed_everything(111)"
   ]
  },
  {
   "cell_type": "code",
   "execution_count": null,
   "id": "f3f263c8-7ae3-454a-ac8d-c160ed0c626d",
   "metadata": {},
   "outputs": [],
   "source": [
    "# sentence bert 로딩\n",
    "from sentence_transformers import SentenceTransformer\n",
    "from sentence_transformers import models\n",
    "\n",
    "smodel_path = \"bongsoo/albert-small-kor-sbert-v1.1\"\n",
    "\n",
    "# 임베딩 벡터 폴링 모드 선택 (*아래값중 문자열로 입력함, 기본=mean)\n",
    "# mean=단어 평균, max=최대값, cls=문장, \n",
    "#['mean', 'max', 'cls', 'weightedmean', 'lasttoken']\n",
    "pooling_mode = 'cls'\n",
    "\n",
    "word_embedding_model = models.Transformer(smodel_path, max_seq_length=256, do_lower_case=True, tokenizer_name_or_path=smodel_path)\n",
    "pooling_model = models.Pooling(word_embedding_model.get_word_embedding_dimension(), pooling_mode=pooling_mode)  \n",
    "smodel = SentenceTransformer(modules=[word_embedding_model, pooling_model])\n",
    "    \n",
    "#smodel = SentenceTransformer(smodel_path)\n",
    "smodel.to(device)\n"
   ]
  },
  {
   "cell_type": "code",
   "execution_count": null,
   "id": "15de6d34-4d5e-40c1-9c11-bc5d7ad0ce00",
   "metadata": {},
   "outputs": [],
   "source": [
    "# list 데이터들을 dataframe으로 만듬\n",
    "data = [\n",
    "        [1, '독도 해역 헬기 추락사고가 발생한 지 열하루가 지났지만 실종자 추가 발견 소식은 들려오지 않고 있다. 헬기 동체 잔해물과 부유물 등은 발견되고 있지만 정작 실종자들은 발견하지 못해 수색이 장기화될 것이라는 우려가 현실이 될 조짐을 보여 실종자 가족들의 애를 태우고 있다.범정부현장수습지원단(지원단)은 10일 오전 10시 브리핑에서 이날 오전까지 독도해역 수색 결과 4점의 부유물을 추가 발견, 인양했다고 밝혔다'], \n",
    "        [11,'대구시는 11일 내년 정부 예산 3조1330억원을 확보해 전년보다 2%(611억원) 늘어났다고 밝혔다.그러나 올해 국비 증액 규모(1817억원)와 비교해 절반 수준에 그치며, 물산업클러스터 r&d 사업(200억), 국립청소년진로직업체험 수련원 건립 등은 한푼도 반영되지 않았다.'],\n",
    "        [21,'자유한국당 (이름) 의원이 \"공수처는 정권 유지를 위한 수단으로, 공수처가 있었으면 조국 수사를 못했을 것\"이라고 주장했다.최 의원은 18일 대구 호텔수성에서 열린 대구 경북중견언론인모임 <아시아포럼21> 토론회에서 \"검찰은 정권 말기가 되면 정권에 칼을 들이댔다. 공수처는 검찰의 칼끝을 회피하기 위한 것\"이라며 이같이 말했다'],\n",
    "        [2,'27일 오전 천연기념물(201-2호)이며 멸종위기 2급인 큰고니 떼가 경북 포항시 북구 흥해읍 샛강에 날아들었다.이날 관측된 큰고니는 어미 8마리와 새끼 3마리다.앞서 지난 19일 큰고니 8마리가 올들어 처음으로 관측됐다.큰고니들은 포항시 흥해읍 샛강에서 수초 등을 먹고 휴식한 후 대구 안심습지와 낙동강 하구 등지로 날아갈 것으로 보인다'],\n",
    "        [3,'3일 대구와 경북지역은 구름이 많겠으며, 동해안과 북부 내륙에는 비가 내릴 것으로 예상된다.대구기상청에 따르면 중국 북동지방에서 남하하는 고기압의 가장자리에 들어 구름이 많겠으며, 경북 북부 내륙은 북쪽을 지나는 약한 기압골의 영향을 받아 오후부터 비가 약하게 내리거나 빗방울이 떨어지겠다.'],\n",
    "        [31,'각급 정부기관의 통신망을 관리할 국가정보자원관리원 대구센터가 31일 대구 동구 도학동에서 착공했다.4312억원을 투입해 2021년 8월 준공 예정인 대구센터는 86개 기관의 서비와 장비를 운용하게 된다.정부통합전산센터에서 명칭이 변경된 국가정보자원관리원은 현재 대전본원과 광주센터를 운영 중이다.대구센터는 급변하는 행정환경과 4차 산업혁명 시대에 맞춰 클라우드, 빅데이터 등 신기술이 접목된 지능형 전산센터로 구축된다'],\n",
    "        [4,'26일 오후 11시44분쯤 대구 달서구 신당동의 한 아파트에서 원인 모를 불이 나 주민 1명이 다치고 수십명이 대피했다.27일 소방당국에 따르면 신고를 받고 소방차 24대와 소방대원 74명이 출동해 20분만에 불길을 잡았다.이 불로 아파트 2층에 사는 a씨(53)가 온 몸에 화상을 입어 병원으로 이송됐으며, 연기에 놀란 주민 50여명이 대피하는 소동을 빚었다.']\n",
    "       ]\n",
    "df = pd.DataFrame(data, columns=['uid','text'])\n",
    "print(df['text'].values)"
   ]
  },
  {
   "cell_type": "code",
   "execution_count": null,
   "id": "0d0feed2-ef72-489b-914f-0c70ee4c5634",
   "metadata": {},
   "outputs": [],
   "source": [
    "#!pip install umap-learn  # umap 설치\n",
    "import umap\n",
    "\n",
    "def embeddingforfaiss(df):\n",
    "    # embedding 생성(인코딩)\n",
    "\n",
    "    start = time.time()\n",
    "    embeddings = smodel.encode(df.text.to_list(), show_progress_bar=True, convert_to_tensor=False)\n",
    "\n",
    "    #tembeddings = np.transpose(embeddings, (1, 0))  # 첫 번째 축과 두 번째 축을 바꿈(768, 7) 식으로 바꿔야함.\n",
    "    #print(tembeddings.shape)\n",
    "    \n",
    "    # UMAP을 사용하여 임베딩 벡터의 차원을 줄임\n",
    "    #umap_embeddings = umap.UMAP(n_neighbors=2, n_components=128, metric='cosine').fit_transform(tembeddings)\n",
    "    #print(umap_embeddings.shape)\n",
    "\n",
    "    #float32 로 embeddings 타입 변경\n",
    "    embeddings = np.array([embedding for embedding in embeddings]).astype(\"float32\")\n",
    "    #print(uembeddings.shape)\n",
    "\n",
    "    # instance index 생성\n",
    "    index = faiss.IndexFlatL2(embeddings.shape[1])\n",
    "\n",
    "    # id를 매핑 시켜줌 => 이때 idtype은 반드시 int64 type이어야 함.\n",
    "    index = faiss.IndexIDMap2(index)\n",
    "    index.add_with_ids(embeddings, df.uid.values)\n",
    "\n",
    "    print(f'인코딩 시간 : {time.time()-start:.4f}')\n",
    "    \n",
    "    return index"
   ]
  },
  {
   "cell_type": "code",
   "execution_count": null,
   "id": "6968422d-7f3c-4b32-8336-a1a1ddf04fd5",
   "metadata": {},
   "outputs": [],
   "source": [
    "#dataframe 인코딩\n",
    "index = embeddingforfaiss(df)"
   ]
  },
  {
   "cell_type": "code",
   "execution_count": null,
   "id": "7ba2e764-8c12-404d-a4a2-4cffcd541079",
   "metadata": {},
   "outputs": [],
   "source": [
    "# 여러문장 쿼리 해봄\n",
    "user_query = [\"나는 오늘 여행갈거라서 너무 행복하다\", \n",
    "             \"나는 오늘 너무 슬프다\"]\n",
    "\n",
    "vector = smodel.encode(user_query)\n",
    "distance, idx = index.search(np.array(vector).astype(\"float32\"), k=4)\n",
    "\n",
    "print(distance)\n",
    "print(idx)\n",
    "#print([list(df[df.idx == num]['text']) for num in idx[0]])\n",
    "#print([list(df[df.idx == num]['text']) for num in idx[1]])\n",
    "\n",
    "for i, query in enumerate(user_query):\n",
    "    print(f'Q: {query}')\n",
    "    count = 0\n",
    "    for num in idx[i]:\n",
    "        text = df[df.uid == num]['text'].values\n",
    "        print(f'{num}, {text[0]}({distance[i][count]:.3f})')\n",
    "        count += 1\n",
    "    print('\\n')\n",
    "        \n"
   ]
  },
  {
   "cell_type": "code",
   "execution_count": null,
   "id": "051bcc13-2fcf-4764-a30f-2407f5bc998a",
   "metadata": {},
   "outputs": [],
   "source": [
    "# 데이터 추가\n",
    "# list 데이터들을 dataframe으로 만듬\n",
    "data1 = [\n",
    "        [5, '정말 감동적인 영화를 보았다'], \n",
    "        [51,'드디어 오늘 학교 간다'],\n",
    "        [61,'레스토랑에서 맛있게 점심을 먹었다'],\n",
    "        [6,'회사가는 출근길이 너무 막힌다'],\n",
    "        [7,'6시 이후에는 퇴근 길이 너무 막힌다'],\n",
    "        [71,'오늘 손홍민이 하는 국가대표 축구 경기를 봤다'],\n",
    "        [8,'tv에서 드라마를 보면서 울었다']\n",
    "       ]\n",
    "df1 = pd.DataFrame(data1, columns=['uid','text'])\n",
    "print(df1['text'].values)"
   ]
  },
  {
   "cell_type": "code",
   "execution_count": null,
   "id": "3c56e22c-8943-4aac-98c5-8169168800c0",
   "metadata": {},
   "outputs": [],
   "source": [
    "# 추가된 문장 embedding 생성(인코딩)->추가 \n",
    "# - 인덱스 만드는 부분마 없음.\n",
    "def embeddingadd(df, index):\n",
    "    embeddings = smodel.encode(df1.text.to_list(), show_progress_bar=True, convert_to_tensor=False)\n",
    "   \n",
    "    #float32 로 embeddings 타입 변경\n",
    "    embeddings = np.array([embedding for embedding in embeddings]).astype(\"float32\")\n",
    "    index.add_with_ids(embeddings, df1.uid.values)"
   ]
  },
  {
   "cell_type": "code",
   "execution_count": null,
   "id": "93154951-c1d2-454a-a58f-fab3cbaf75f4",
   "metadata": {},
   "outputs": [],
   "source": [
    "embeddingadd(df1, index)"
   ]
  },
  {
   "cell_type": "code",
   "execution_count": null,
   "id": "0e3747b6-fb39-4bea-b2a0-6dfa660a2ab4",
   "metadata": {},
   "outputs": [],
   "source": [
    "# 추가된 dataframe을 기존 df에 추가함\n",
    "df = pd.concat([df, df1])\n",
    "print(df)"
   ]
  },
  {
   "cell_type": "code",
   "execution_count": null,
   "id": "605853dc-f2f9-4303-b3a2-0595c1abe6c0",
   "metadata": {},
   "outputs": [],
   "source": [
    "# 여러문장 쿼리 해봄\n",
    "user_query = [\"나는 오늘 여행갈거라서 너무 행복하다\", \n",
    "             \"나는 오늘 너무 슬프다\"]\n",
    "\n",
    "vector = smodel.encode(user_query)\n",
    "distance, idx = index.search(np.array(vector).astype(\"float32\"), k=8)\n",
    "\n",
    "#print(distance)\n",
    "#print(idx)\n",
    "#print([list(df[df.uid == num]['text']) for num in idx[0]])\n",
    "#print([list(df[df.uid == num]['text']) for num in idx[1]])\n",
    "\n",
    "\n",
    "for i, query in enumerate(user_query):\n",
    "    print(f'Q: {query}')\n",
    "    count = 0\n",
    "    for num in idx[i]:\n",
    "        text = df[df.uid == num]['text'].values\n",
    "        print(f'{num}, {text[0]}({distance[i][count]:.3f})')\n",
    "        count += 1\n",
    "    print('\\n')\n",
    "     "
   ]
  },
  {
   "cell_type": "code",
   "execution_count": null,
   "id": "c6493fd5-e909-4535-8407-cb4014d3edc5",
   "metadata": {},
   "outputs": [],
   "source": [
    "# idx입력해서 vector값 구하기\n",
    "index.reconstruct(1)"
   ]
  },
  {
   "cell_type": "code",
   "execution_count": null,
   "id": "adcb0b76-b8af-4b15-ab26-eb8b656932c0",
   "metadata": {},
   "outputs": [],
   "source": [
    "# 인덱스 저장 => test.index 파일로 저장\n",
    "faiss.write_index(index, \"test.index\")"
   ]
  },
  {
   "cell_type": "code",
   "execution_count": null,
   "id": "e16de06d-ca80-4458-bb40-e3b7fbb340a1",
   "metadata": {},
   "outputs": [],
   "source": [
    "#불러오기\n",
    "index2 = faiss.read_index(\"test.index\")\n",
    "\n",
    "index2.reconstruct(1)"
   ]
  },
  {
   "cell_type": "code",
   "execution_count": null,
   "id": "2be51da7-1e9b-43c6-8c07-24ee657127bf",
   "metadata": {},
   "outputs": [],
   "source": []
  }
 ],
 "metadata": {
  "kernelspec": {
   "display_name": "Python 3 (ipykernel)",
   "language": "python",
   "name": "python3"
  },
  "language_info": {
   "codemirror_mode": {
    "name": "ipython",
    "version": 3
   },
   "file_extension": ".py",
   "mimetype": "text/x-python",
   "name": "python",
   "nbconvert_exporter": "python",
   "pygments_lexer": "ipython3",
   "version": "3.9.7"
  }
 },
 "nbformat": 4,
 "nbformat_minor": 5
}

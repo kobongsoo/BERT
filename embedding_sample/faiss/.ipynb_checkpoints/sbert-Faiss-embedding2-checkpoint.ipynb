{
 "cells": [
  {
   "cell_type": "code",
   "execution_count": 1,
   "id": "db8237cb-a0e0-4b1f-a4a6-5c469fd1b9f8",
   "metadata": {},
   "outputs": [
    {
     "name": "stdout",
     "output_type": "stream",
     "text": [
      "logfilepath:bwdataset_2022-03-28.log\n",
      "logfilepath:qnadataset_2022-03-28.log\n",
      "True\n",
      "device: cuda:0\n",
      "cuda index: 0\n",
      "gpu 개수: 1\n",
      "graphic name: NVIDIA A30\n"
     ]
    }
   ],
   "source": [
    "#=======================================================================================\n",
    "# sentence-bert와 Faiss 라이브러리를 이용하여 search 하는 예시임\n",
    "# => Faiss는 facebook에서 만든 vector 유사도를 측정하는 라이브러리로, \n",
    "# 기존 numpy 나 scikit-learn 에서 제공하는 cosine similarity 보다 강력하며, GPU도 지원한다.\n",
    "#\n",
    "# 참고 \n",
    "# 번역본 : https://ichi.pro/ko/transformers-mich-faissleul-sayonghayeo-simaentig-geomsaeg-enjin-eul-guchughaneun-bangbeob-242711337083112\n",
    "# (원본 : https://medium.com/towards-data-science/how-to-build-a-semantic-search-engine-with-transformers-and-faiss-dcbea307a0e8)\n",
    "#\n",
    "# 설치\n",
    "# Faiss는 설치는 https://github.com/facebookresearch/faiss/blob/main/INSTALL.md 참조\n",
    "# GPU 버전 : $ conda install -c conda-forge faiss-gpu\n",
    "# \n",
    "#=======================================================================================\n",
    "\n",
    "import faiss\n",
    "import numpy as np\n",
    "import pandas as pd\n",
    "import time\n",
    "\n",
    "from os import sys\n",
    "sys.path.append('..')\n",
    "from myutils import GPU_info, seed_everything\n",
    "\n",
    "device = GPU_info()\n",
    "seed_everything(111)"
   ]
  },
  {
   "cell_type": "code",
   "execution_count": 2,
   "id": "f3f263c8-7ae3-454a-ac8d-c160ed0c626d",
   "metadata": {},
   "outputs": [
    {
     "data": {
      "text/plain": [
       "SentenceTransformer(\n",
       "  (0): Transformer({'max_seq_length': 128, 'do_lower_case': False}) with Transformer model: BertModel \n",
       "  (1): Pooling({'word_embedding_dimension': 768, 'pooling_mode_cls_token': False, 'pooling_mode_mean_tokens': True, 'pooling_mode_max_tokens': False, 'pooling_mode_mean_sqrt_len_tokens': False})\n",
       ")"
      ]
     },
     "execution_count": 2,
     "metadata": {},
     "output_type": "execute_result"
    }
   ],
   "source": [
    "# sentence bert 로딩\n",
    "from sentence_transformers import SentenceTransformer\n",
    "smodel_path = \"../model/bert/bmc_fpt_kowiki20200920.train-sbert-tsmodel-0310\"\n",
    "smodel = SentenceTransformer(smodel_path)\n",
    "smodel.to(device)\n"
   ]
  },
  {
   "cell_type": "code",
   "execution_count": 3,
   "id": "15de6d34-4d5e-40c1-9c11-bc5d7ad0ce00",
   "metadata": {},
   "outputs": [
    {
     "name": "stdout",
     "output_type": "stream",
     "text": [
      "['오늘 하루는 날씨가 흐리고 비가 온다' '내일은 오늘보다 더춥고, 가끔 눈이 오겠다고 한다'\n",
      " '오늘은 가족들과 함께 등산을 하기로 했다' '점점 날씨가 따뜻해 지면서 봄이 오는걸 느낄수 있다'\n",
      " '오늘부터 다음주 까지는 재택근무이다' '오늘 첫눈이 올거라고 한다' '오늘 기온이 올라 화창한 봄날씨가 될거라고 한다']\n"
     ]
    }
   ],
   "source": [
    "# list 데이터들을 dataframe으로 만듬\n",
    "data = [\n",
    "        [1, '오늘 하루는 날씨가 흐리고 비가 온다'], \n",
    "        [11,'내일은 오늘보다 더춥고, 가끔 눈이 오겠다고 한다'],\n",
    "        [21,'오늘은 가족들과 함께 등산을 하기로 했다'],\n",
    "        [2,'점점 날씨가 따뜻해 지면서 봄이 오는걸 느낄수 있다'],\n",
    "        [3,'오늘부터 다음주 까지는 재택근무이다'],\n",
    "        [31,'오늘 첫눈이 올거라고 한다'],\n",
    "        [4,'오늘 기온이 올라 화창한 봄날씨가 될거라고 한다']\n",
    "       ]\n",
    "df = pd.DataFrame(data, columns=['uid','text'])\n",
    "print(df['text'].values)"
   ]
  },
  {
   "cell_type": "code",
   "execution_count": 18,
   "id": "0e11b295-7986-4fbf-9ceb-5415931f8728",
   "metadata": {},
   "outputs": [
    {
     "name": "stdout",
     "output_type": "stream",
     "text": [
      "<class 'pandas.core.frame.DataFrame'>\n"
     ]
    }
   ],
   "source": [
    "print(type(df))"
   ]
  },
  {
   "cell_type": "code",
   "execution_count": 20,
   "id": "0d0feed2-ef72-489b-914f-0c70ee4c5634",
   "metadata": {},
   "outputs": [],
   "source": [
    "def embeddingforfaiss(df):\n",
    "    # embedding 생성(인코딩)\n",
    "\n",
    "    start = time.time()\n",
    "    embeddings = smodel.encode(df.text.to_list(), show_progress_bar=True, convert_to_tensor=False)\n",
    "\n",
    "    #float32 로 embeddings 타입 변경\n",
    "    embeddings = np.array([embedding for embedding in embeddings]).astype(\"float32\")\n",
    "\n",
    "    # instance index 생성\n",
    "    index = faiss.IndexFlatL2(embeddings.shape[1])\n",
    "\n",
    "    # id를 매핑 시켜줌\n",
    "    index = faiss.IndexIDMap(index)\n",
    "    index.add_with_ids(embeddings, df.uid.values)\n",
    "\n",
    "    print(f'인코딩 시간 : {time.time()-start:.4f}')"
   ]
  },
  {
   "cell_type": "code",
   "execution_count": 21,
   "id": "6968422d-7f3c-4b32-8336-a1a1ddf04fd5",
   "metadata": {},
   "outputs": [
    {
     "data": {
      "application/vnd.jupyter.widget-view+json": {
       "model_id": "a6b0536fe13e404690e749f25783af79",
       "version_major": 2,
       "version_minor": 0
      },
      "text/plain": [
       "Batches:   0%|          | 0/1 [00:00<?, ?it/s]"
      ]
     },
     "metadata": {},
     "output_type": "display_data"
    },
    {
     "name": "stdout",
     "output_type": "stream",
     "text": [
      "인코딩 시간 : 0.0743\n"
     ]
    }
   ],
   "source": [
    "#dataframe 인코딩\n",
    "embeddingforfaiss(df)"
   ]
  },
  {
   "cell_type": "code",
   "execution_count": 22,
   "id": "7ba2e764-8c12-404d-a4a2-4cffcd541079",
   "metadata": {},
   "outputs": [
    {
     "name": "stdout",
     "output_type": "stream",
     "text": [
      "Q: 나는 오늘 여행갈거라서 너무 행복하다\n",
      "5, 정말 감동적인 영화를 보았다(189.405)\n",
      "61, 레스토랑에서 맛있게 점심을 먹었다(275.348)\n",
      "7, 6시 이후에는 퇴근 길이 너무 막힌다(277.269)\n",
      "71, 오늘 손홍민이 하는 국가대표 축구 경기를 봤다(279.771)\n",
      "\n",
      "\n",
      "Q: 나는 오늘 너무 슬프다\n",
      "7, 6시 이후에는 퇴근 길이 너무 막힌다(266.016)\n",
      "6, 회사가는 출근길이 너무 막힌다(280.689)\n",
      "8, tv에서 드라마를 보면서 울었다(301.415)\n",
      "5, 정말 감동적인 영화를 보았다(364.928)\n",
      "\n",
      "\n"
     ]
    }
   ],
   "source": [
    "# 여러문장 쿼리 해봄\n",
    "user_query = [\"나는 오늘 여행갈거라서 너무 행복하다\", \n",
    "             \"나는 오늘 너무 슬프다\"]\n",
    "\n",
    "vector = smodel.encode(user_query)\n",
    "distance, idx = index.search(np.array(vector).astype(\"float32\"), k=4)\n",
    "\n",
    "#print(distance)\n",
    "#print(idx)\n",
    "#print([list(df[df.idx == num]['text']) for num in idx[0]])\n",
    "#print([list(df[df.idx == num]['text']) for num in idx[1]])\n",
    "\n",
    "for i, query in enumerate(user_query):\n",
    "    print(f'Q: {query}')\n",
    "    count = 0\n",
    "    for num in idx[i]:\n",
    "        text = df[df.uid == num]['text'].values\n",
    "        print(f'{num}, {text[0]}({distance[i][count]:.3f})')\n",
    "        count += 1\n",
    "    print('\\n')\n",
    "        \n"
   ]
  },
  {
   "cell_type": "code",
   "execution_count": 9,
   "id": "051bcc13-2fcf-4764-a30f-2407f5bc998a",
   "metadata": {},
   "outputs": [
    {
     "name": "stdout",
     "output_type": "stream",
     "text": [
      "['정말 감동적인 영화를 보았다' '드디어 오늘 학교 간다' '레스토랑에서 맛있게 점심을 먹었다' '회사가는 출근길이 너무 막힌다'\n",
      " '6시 이후에는 퇴근 길이 너무 막힌다' '오늘 손홍민이 하는 국가대표 축구 경기를 봤다' 'tv에서 드라마를 보면서 울었다']\n"
     ]
    }
   ],
   "source": [
    "# 데이터 추가\n",
    "# list 데이터들을 dataframe으로 만듬\n",
    "data1 = [\n",
    "        [5, '정말 감동적인 영화를 보았다'], \n",
    "        [51,'드디어 오늘 학교 간다'],\n",
    "        [61,'레스토랑에서 맛있게 점심을 먹었다'],\n",
    "        [6,'회사가는 출근길이 너무 막힌다'],\n",
    "        [7,'6시 이후에는 퇴근 길이 너무 막힌다'],\n",
    "        [71,'오늘 손홍민이 하는 국가대표 축구 경기를 봤다'],\n",
    "        [8,'tv에서 드라마를 보면서 울었다']\n",
    "       ]\n",
    "df1 = pd.DataFrame(data1, columns=['uid','text'])\n",
    "print(df1['text'].values)"
   ]
  },
  {
   "cell_type": "code",
   "execution_count": 23,
   "id": "3c56e22c-8943-4aac-98c5-8169168800c0",
   "metadata": {},
   "outputs": [
    {
     "data": {
      "application/vnd.jupyter.widget-view+json": {
       "model_id": "7c2838e42ffe4c2e951c3fd803d736b0",
       "version_major": 2,
       "version_minor": 0
      },
      "text/plain": [
       "Batches:   0%|          | 0/1 [00:00<?, ?it/s]"
      ]
     },
     "metadata": {},
     "output_type": "display_data"
    },
    {
     "name": "stdout",
     "output_type": "stream",
     "text": [
      "인코딩 시간 : 0.0699\n"
     ]
    }
   ],
   "source": [
    "# 추가된 문장 embedding 생성(인코딩)\n",
    "embeddingforfaiss(df1)"
   ]
  },
  {
   "cell_type": "code",
   "execution_count": 24,
   "id": "0e3747b6-fb39-4bea-b2a0-6dfa660a2ab4",
   "metadata": {},
   "outputs": [
    {
     "name": "stdout",
     "output_type": "stream",
     "text": [
      "   uid                          text\n",
      "0    1          오늘 하루는 날씨가 흐리고 비가 온다\n",
      "1   11   내일은 오늘보다 더춥고, 가끔 눈이 오겠다고 한다\n",
      "2   21        오늘은 가족들과 함께 등산을 하기로 했다\n",
      "3    2  점점 날씨가 따뜻해 지면서 봄이 오는걸 느낄수 있다\n",
      "4    3           오늘부터 다음주 까지는 재택근무이다\n",
      "5   31                오늘 첫눈이 올거라고 한다\n",
      "6    4    오늘 기온이 올라 화창한 봄날씨가 될거라고 한다\n",
      "0    5               정말 감동적인 영화를 보았다\n",
      "1   51                  드디어 오늘 학교 간다\n",
      "2   61            레스토랑에서 맛있게 점심을 먹었다\n",
      "3    6              회사가는 출근길이 너무 막힌다\n",
      "4    7          6시 이후에는 퇴근 길이 너무 막힌다\n",
      "5   71     오늘 손홍민이 하는 국가대표 축구 경기를 봤다\n",
      "6    8             tv에서 드라마를 보면서 울었다\n",
      "0    5               정말 감동적인 영화를 보았다\n",
      "1   51                  드디어 오늘 학교 간다\n",
      "2   61            레스토랑에서 맛있게 점심을 먹었다\n",
      "3    6              회사가는 출근길이 너무 막힌다\n",
      "4    7          6시 이후에는 퇴근 길이 너무 막힌다\n",
      "5   71     오늘 손홍민이 하는 국가대표 축구 경기를 봤다\n",
      "6    8             tv에서 드라마를 보면서 울었다\n"
     ]
    }
   ],
   "source": [
    "# 추가된 dataframe을 기존 df에 추가함\n",
    "df = pd.concat([df, df1])\n",
    "print(df)"
   ]
  },
  {
   "cell_type": "code",
   "execution_count": 27,
   "id": "605853dc-f2f9-4303-b3a2-0595c1abe6c0",
   "metadata": {},
   "outputs": [
    {
     "name": "stdout",
     "output_type": "stream",
     "text": [
      "Q: 나는 오늘 여행갈거라서 너무 행복하다\n",
      "5, 정말 감동적인 영화를 보았다(189.405)\n",
      "61, 레스토랑에서 맛있게 점심을 먹었다(275.348)\n",
      "7, 6시 이후에는 퇴근 길이 너무 막힌다(277.269)\n",
      "71, 오늘 손홍민이 하는 국가대표 축구 경기를 봤다(279.771)\n",
      "\n",
      "\n",
      "Q: 나는 오늘 너무 슬프다\n",
      "7, 6시 이후에는 퇴근 길이 너무 막힌다(266.016)\n",
      "6, 회사가는 출근길이 너무 막힌다(280.689)\n",
      "8, tv에서 드라마를 보면서 울었다(301.415)\n",
      "5, 정말 감동적인 영화를 보았다(364.928)\n",
      "\n",
      "\n"
     ]
    }
   ],
   "source": [
    "# 여러문장 쿼리 해봄\n",
    "user_query = [\"나는 오늘 여행갈거라서 너무 행복하다\", \n",
    "             \"나는 오늘 너무 슬프다\"]\n",
    "\n",
    "vector = smodel.encode(user_query)\n",
    "distance, idx = index.search(np.array(vector).astype(\"float32\"), k=4)\n",
    "\n",
    "#print(distance)\n",
    "#print(idx)\n",
    "#print([list(df[df.uid == num]['text']) for num in idx[0]])\n",
    "#print([list(df[df.uid == num]['text']) for num in idx[1]])\n",
    "\n",
    "\n",
    "for i, query in enumerate(user_query):\n",
    "    print(f'Q: {query}')\n",
    "    count = 0\n",
    "    for num in idx[i]:\n",
    "        text = df[df.uid == num]['text'].values\n",
    "        print(f'{num}, {text[0]}({distance[i][count]:.3f})')\n",
    "        count += 1\n",
    "    print('\\n')\n",
    "     "
   ]
  }
 ],
 "metadata": {
  "kernelspec": {
   "display_name": "Python 3 (ipykernel)",
   "language": "python",
   "name": "python3"
  },
  "language_info": {
   "codemirror_mode": {
    "name": "ipython",
    "version": 3
   },
   "file_extension": ".py",
   "mimetype": "text/x-python",
   "name": "python",
   "nbconvert_exporter": "python",
   "pygments_lexer": "ipython3",
   "version": "3.9.7"
  }
 },
 "nbformat": 4,
 "nbformat_minor": 5
}

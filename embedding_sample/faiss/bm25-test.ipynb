{
 "cells": [
  {
   "cell_type": "code",
   "execution_count": null,
   "id": "57e72496-d725-457c-af2c-ae5f3fd98ff6",
   "metadata": {},
   "outputs": [],
   "source": [
    "#============================================================================\n",
    "# BM25 예제임\n",
    "# => \n",
    "#============================================================================\n",
    "# bm25 설치\n",
    "# !pip install rank_bm25\n",
    "import konlpy\n",
    "from konlpy.tag import Mecab\n",
    "from rank_bm25 import BM25Okapi\n",
    "from tqdm.notebook import tqdm\n",
    "\n",
    "contexts = [\n",
    "    \"세계 배달 피자 리더 도미노피자가 우리 고구마를 활용한 신메뉴를 출시한다.도미노피자는 오는 2월 1일 국내산 고구마와 4가지 치즈가 어우러진 신메뉴 `우리 고구마 피자`를 출시하고 전 매장에서 판매를 시작한다. 이번에 도미노피자가 내놓은 신메뉴 `우리 고구마 피자`는 까다롭게 엄선한 국내산 고구마를 무스와 큐브 형태로 듬뿍 올리고, 모차렐라, 카망베르, 체더 치즈와 리코타 치즈 소스 등 4가지 치즈와 와규 크럼블을 더한 프리미엄 고구마 피자다.\",\n",
    "    \"피자의 발상지이자 원조라고 할 수 있는 남부의 나폴리식 피자(Pizza Napolitana)는 재료 본연의 맛에 집중하여 뛰어난 식감을 자랑한다. 대표적인 나폴리 피자로는 피자 마리나라(Pizza Marinara)와 피자 마르게리타(Pizza Margherita)가 있다.\",\n",
    "    \"도미노피자가 삼일절을 맞아 '방문포장 1+1' 이벤트를 진행한다. 이번 이벤트는 도미노피자 102개 매장에서 3월 1일 단 하루 동안 방문포장 온라인, 오프라인 주문 시 피자 1판을 더 증정하는 이벤트다. 온라인 주문 시 장바구니에 2판을 담은 후 할인 적용이 가능하며, 동일 가격 또는 낮은 가격의 피자를 고객이 선택하면 무료로 증정한다.\"\n",
    "]\n",
    "\n",
    "def tokenizer(sent):\n",
    "  return sent.split(\" \")\n",
    "\n",
    "# 입력된 contexts를 mecab을 이용하여 형태소 추출 후 \" \" 붙여서 형태소 문장을 만듬.\n",
    "# Mecab 선언\n",
    "mecab = Mecab()\n",
    "\n",
    "mecab_contexts=[]\n",
    "for context in tqdm(contexts):\n",
    "    temp = mecab.morphs(context)   # ['세계', '배달', '피자', '리더', '도미노피자','가'..] 식으로 temp 리스트가 생성됨\n",
    "    #print(temp)\n",
    "    sentence = \" \".join(temp)      # 위 temp 리스트를 공백을 넣어서 한문장으로 합침 ['세계 배달 피자 리더 도미노피자 가 ...]\n",
    "    mecab_contexts.append(sentence)\n",
    "    \n",
    "print(mecab_contexts)\n",
    "print(len(mecab_contexts))        \n",
    "\n",
    "\n",
    "# tokeniaer 후 인덱싱\n",
    "tokenized_corpus = [tokenizer(doc) for doc in mecab_contexts]\n",
    "bm25 = BM25Okapi(tokenized_corpus)\n",
    "\n",
    "print(bm25.doc_len)\n",
    "print(bm25.doc_freqs)"
   ]
  },
  {
   "cell_type": "code",
   "execution_count": null,
   "id": "83c411dc-f763-485d-abf9-4b08da9747bd",
   "metadata": {},
   "outputs": [],
   "source": [
    "#idf : 토큰의 inverse term frequency를 계산해둠\n",
    "# bm25.idf"
   ]
  },
  {
   "cell_type": "code",
   "execution_count": null,
   "id": "1c6ea299-1629-4bc7-80f8-82c5c528cd84",
   "metadata": {},
   "outputs": [],
   "source": [
    "query = \"고구마 피자 신메뉴\"\n",
    "tokenized_query = tokenizer(query)\n",
    "\n",
    "# 쿼리에 따른 스코어 구함\n",
    "doc_scores = bm25.get_scores(tokenized_query)\n",
    "doc_scores"
   ]
  },
  {
   "cell_type": "code",
   "execution_count": null,
   "id": "ad402258-0f68-4868-860e-0aaa0739be95",
   "metadata": {},
   "outputs": [],
   "source": [
    "# 쿼리 문장 구함\n",
    "bm25.get_top_n(tokenized_query, mecab_contexts, n=2)"
   ]
  }
 ],
 "metadata": {
  "kernelspec": {
   "display_name": "Python 3 (ipykernel)",
   "language": "python",
   "name": "python3"
  },
  "language_info": {
   "codemirror_mode": {
    "name": "ipython",
    "version": 3
   },
   "file_extension": ".py",
   "mimetype": "text/x-python",
   "name": "python",
   "nbconvert_exporter": "python",
   "pygments_lexer": "ipython3",
   "version": "3.9.7"
  }
 },
 "nbformat": 4,
 "nbformat_minor": 5
}

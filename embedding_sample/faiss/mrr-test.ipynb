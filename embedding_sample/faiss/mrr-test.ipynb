{
 "cells": [
  {
   "cell_type": "code",
   "execution_count": null,
   "id": "57e72496-d725-457c-af2c-ae5f3fd98ff6",
   "metadata": {},
   "outputs": [],
   "source": [
    "#============================================================================\n",
    "# MRR(mean reciprocal rank) 예제임\n",
    "# => MRR 은 예측한 검색 결과가 정답지와 비교시 몇번째 검출되었는지 측정하는 검색 성능 지표임\n",
    "# => 예를 들어 Q: 동물중 가장 빠른 동물은? 검색 결과가: 타조, 호랑이, 치타, 고래 순으로 나왔다면, 이는 정답 치타가 3번째 나왔으므로, 1/3=0.3 이됨\n",
    "# => 참고로 아래 mean_reciprocal_rank 코드는 chatgpt로 만든 코드임.\n",
    "#============================================================================\n",
    "\n",
    "def mean_reciprocal_rank(ground_truths, predictions):\n",
    "    reciprocal_ranks = []\n",
    "    \n",
    "    for gt, prediction in zip(ground_truths, predictions):\n",
    "        rank = 1\n",
    "        bsearch=False\n",
    "        for p in prediction:\n",
    "            #print(f'pred:{p}-gt:{gt}')\n",
    "            if p in gt:\n",
    "                reciprocal_ranks.append(1/rank)\n",
    "                bsearch=True\n",
    "                print(f'gt:{gt}=>{1/rank}')\n",
    "                break\n",
    "            rank += 1\n",
    "            \n",
    "        if bsearch==False:\n",
    "            reciprocal_ranks.append(0)\n",
    "            print(f'*gt:{gt}=>0')\n",
    "            \n",
    "    return sum(reciprocal_ranks) / len(reciprocal_ranks)"
   ]
  },
  {
   "cell_type": "code",
   "execution_count": null,
   "id": "ba81938f-d39a-4bc5-8dc6-15e85bfe7321",
   "metadata": {},
   "outputs": [],
   "source": [
    "# 정답 \n",
    "ground_truths_list = ['치타','타조','고래','상어']\n",
    "\n",
    "# 쿼리\n",
    "query_list = [\n",
    "        \"동물중 가장 빠른 동물은\",\n",
    "        \"새들중 가장 큰 새는\",\n",
    "        \"동물중 가장 큰 동물은\",\n",
    "        \"바다에서 가장 무서운 물고기는\"\n",
    "]\n",
    "\n",
    "# 쿼리에 의해 예측된 검색 값들\n",
    "predictions_list = [['치타','타조','고래','상어'],['치타','독수리','고래','상어','호랑이'],['치타','타조','고래','상어'], ['치타','타조','고래','상어']]\n",
    "\n",
    "ranks = mean_reciprocal_rank(ground_truths_list, predictions_list)\n",
    "\n",
    "print(f'*MRR:{ranks}')"
   ]
  },
  {
   "cell_type": "code",
   "execution_count": null,
   "id": "1c6ea299-1629-4bc7-80f8-82c5c528cd84",
   "metadata": {},
   "outputs": [],
   "source": []
  }
 ],
 "metadata": {
  "kernelspec": {
   "display_name": "Python 3 (ipykernel)",
   "language": "python",
   "name": "python3"
  },
  "language_info": {
   "codemirror_mode": {
    "name": "ipython",
    "version": 3
   },
   "file_extension": ".py",
   "mimetype": "text/x-python",
   "name": "python",
   "nbconvert_exporter": "python",
   "pygments_lexer": "ipython3",
   "version": "3.9.7"
  }
 },
 "nbformat": 4,
 "nbformat_minor": 5
}

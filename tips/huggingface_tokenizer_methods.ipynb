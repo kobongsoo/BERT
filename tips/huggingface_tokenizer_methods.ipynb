{
 "cells": [
  {
   "cell_type": "code",
   "execution_count": null,
   "id": "b16c67d7-e971-4db2-a8ca-8aa1389418ef",
   "metadata": {},
   "outputs": [],
   "source": [
    "#=========================================================\n",
    "# huggingface tokenizer 방식들에 대한 테스트\n",
    "#\n",
    "# 1. encode 함수 사용=>lits: input_ids만 출력 \n",
    "# 2. encode_plus 함수 사용=> dict: input_ids, token_type_id, attention_mask 출력 \n",
    "# 3. toeknizer 사용=> dict: 2. encode_plus 방식과 동일\n",
    "# 4. convert_tokens_to_ids 사용 => list: [CLS]=101, [SEP]=102 빼고 tokeni_id만 출력함\n",
    "# 5. batch_encode_plus 사용 => dict: input_ids, token_type_id, attention_mask 배치로 묶어 출력함\n",
    "#=========================================================\n",
    "\n",
    "from transformers import BertTokenizer\n",
    "# vocab_path = \"bert-multilingual-cased\"\n",
    "vocab_path = \"../../model/bert/bert-multilingual-cased\"\n",
    "\n",
    "tokenizer = BertTokenizer.from_pretrained(vocab_path)"
   ]
  },
  {
   "cell_type": "code",
   "execution_count": 1,
   "id": "712bad4d-67f0-478d-beff-61c47aaed35e",
   "metadata": {},
   "outputs": [
    {
     "name": "stderr",
     "output_type": "stream",
     "text": [
      "Using custom data configuration default-9b42faa721fa3fc0\n"
     ]
    },
    {
     "name": "stdout",
     "output_type": "stream",
     "text": [
      "Downloading and preparing dataset csv/default to /MOCOMSYS/.cache/huggingface/datasets/csv/default-9b42faa721fa3fc0/0.0.0/6b9057d9e23d9d8a2f05b985917a0da84d70c5dae3d22ddd8a3f22fb01c69d9e...\n"
     ]
    },
    {
     "data": {
      "application/vnd.jupyter.widget-view+json": {
       "model_id": "8c3452b09943477f92ee5fcdc4b37fe8",
       "version_major": 2,
       "version_minor": 0
      },
      "text/plain": [
       "  0%|          | 0/1 [00:00<?, ?it/s]"
      ]
     },
     "metadata": {},
     "output_type": "display_data"
    },
    {
     "data": {
      "application/vnd.jupyter.widget-view+json": {
       "model_id": "bba5e001143947d7b21b05e6b11aa637",
       "version_major": 2,
       "version_minor": 0
      },
      "text/plain": [
       "  0%|          | 0/1 [00:00<?, ?it/s]"
      ]
     },
     "metadata": {},
     "output_type": "display_data"
    },
    {
     "name": "stdout",
     "output_type": "stream",
     "text": [
      "Dataset csv downloaded and prepared to /MOCOMSYS/.cache/huggingface/datasets/csv/default-9b42faa721fa3fc0/0.0.0/6b9057d9e23d9d8a2f05b985917a0da84d70c5dae3d22ddd8a3f22fb01c69d9e. Subsequent calls will reuse this data.\n"
     ]
    },
    {
     "data": {
      "application/vnd.jupyter.widget-view+json": {
       "model_id": "0915d4d95a5c4a74abc5077ce96908f7",
       "version_major": 2,
       "version_minor": 0
      },
      "text/plain": [
       "  0%|          | 0/1 [00:00<?, ?it/s]"
      ]
     },
     "metadata": {},
     "output_type": "display_data"
    },
    {
     "data": {
      "application/vnd.jupyter.widget-view+json": {
       "model_id": "c6464b93ea864f78b2750d4d9c12abc6",
       "version_major": 2,
       "version_minor": 0
      },
      "text/plain": [
       "  0%|          | 0/1534 [00:00<?, ?it/s]"
      ]
     },
     "metadata": {},
     "output_type": "display_data"
    }
   ],
   "source": [
    "'''\n",
    "# CSV->TSV 파일로 변환\n",
    "from datasets import load_dataset\n",
    "dataset = load_dataset('csv', data_files='../../data11/korpora/moco_corpus.csv')\n",
    "\n",
    "# 'en', 'ko' 열만 뽑아내서 .tsv 파일에 쓰기  \n",
    "import csv\n",
    "from tqdm.notebook import tqdm\n",
    "    \n",
    "f = open('../../data11/korpora/moco_corpus.tsv', 'w', encoding='utf-8', newline='')\n",
    "wr = csv.writer(f, delimiter='\\t')\n",
    "for data in tqdm(dataset['train']):\n",
    "    wr.writerow([data['s1'], data['s2'], data['score']])\n",
    "f.close()\n",
    "'''"
   ]
  },
  {
   "cell_type": "code",
   "execution_count": null,
   "id": "dbac227b-b50c-45b0-b6b6-bcdee1b68c63",
   "metadata": {},
   "outputs": [],
   "source": [
    "text = \"hello world!\""
   ]
  },
  {
   "cell_type": "code",
   "execution_count": null,
   "id": "aaf2cb1e-0a8c-4159-b4e6-8a1ce7a4ff57",
   "metadata": {},
   "outputs": [],
   "source": [
    "# 1. encode 함수 사용=> input_ids 출력 \n",
    "token_ids = tokenizer.encode(text)\n",
    "print(token_ids)\n",
    "print('\\n')\n",
    "\n",
    "# 128 임베딩 출력하고, padding 붙임\n",
    "token_ids = tokenizer.encode(text, max_length=128, padding=\"max_length\", return_tensors=\"pt\")\n",
    "print(token_ids.shape)\n",
    "print(token_ids)"
   ]
  },
  {
   "cell_type": "code",
   "execution_count": null,
   "id": "a4c3569b-37fc-4e1e-8e30-97bf9a5cce07",
   "metadata": {},
   "outputs": [],
   "source": [
    "# 2. encode_plus 함수 사용=> input_ids, token_type_id, attention_mask 출력 \n",
    "token_ids = tokenizer.encode_plus(text)\n",
    "print(token_ids)\n",
    "print('\\n')\n",
    "\n",
    "# 128 임베딩 출력하고, padding 붙임\n",
    "token_ids = tokenizer.encode_plus(text, max_length=128, padding=\"max_length\", return_tensors=\"pt\")\n",
    "print(token_ids)"
   ]
  },
  {
   "cell_type": "code",
   "execution_count": null,
   "id": "2286bff9-50b4-46c0-b35e-db0259c5979e",
   "metadata": {},
   "outputs": [],
   "source": [
    "# 3. toeknizer 사용=> encode_plus 방식과 동일, input_ids, token_type_id, attention_mask 출력 \n",
    "token_ids = tokenizer(text)\n",
    "print(token_ids)\n",
    "\n",
    "print('\\n')\n",
    "\n",
    "# 128 임베딩 출력하고, padding 붙임\n",
    "token_ids = tokenizer(text, max_length=128, padding=\"max_length\", return_tensors=\"pt\")\n",
    "print(token_ids)\n"
   ]
  },
  {
   "cell_type": "code",
   "execution_count": null,
   "id": "3c745cae-fff2-4644-85cb-304d3c65ef58",
   "metadata": {},
   "outputs": [],
   "source": [
    "# 4. convert_tokens_to_ids 사용 => [CLS]=101, [SEP]=102 빼고 tokeni_id만 출력함\n",
    "tokens = tokenizer.tokenize(text)\n",
    "print(tokens)\n",
    "token_ids = tokenizer.convert_tokens_to_ids(tokens)\n",
    "print(token_ids)"
   ]
  },
  {
   "cell_type": "code",
   "execution_count": null,
   "id": "6f76b4f3-6496-4c2a-be24-d3b5dc8fee21",
   "metadata": {},
   "outputs": [],
   "source": [
    "# 5. batch_encode_plus 사용 => input_ids, token_type_id, attention_mask 배치로 묶어 출력함\n",
    "token_ids = tokenizer.batch_encode_plus([text])\n",
    "print(token_ids)"
   ]
  },
  {
   "cell_type": "code",
   "execution_count": null,
   "id": "50be5509-562e-4e2c-a8fc-969a6d1dd139",
   "metadata": {},
   "outputs": [],
   "source": [
    "# tokenizer 와 batch_encode_plus 와는 동일 \n",
    "text_list = [\"hello world!\", \"hellow mars!\", \"hellow sum!\"]\n",
    "\n",
    "token_ids = tokenizer.batch_encode_plus(text_list, max_length=8, padding=\"max_length\", return_tensors=\"pt\")\n",
    "print(token_ids)\n",
    "print('\\n')\n",
    "\n",
    "token_ids = tokenizer(text_list, max_length=8, padding=\"max_length\", return_tensors=\"pt\")\n",
    "print(token_ids)"
   ]
  },
  {
   "cell_type": "code",
   "execution_count": null,
   "id": "2b2e142a-9e38-464d-97f6-ea49810db53e",
   "metadata": {},
   "outputs": [],
   "source": [
    "tokenizer.batch_encode_plus?"
   ]
  }
 ],
 "metadata": {
  "kernelspec": {
   "display_name": "Python 3 (ipykernel)",
   "language": "python",
   "name": "python3"
  },
  "language_info": {
   "codemirror_mode": {
    "name": "ipython",
    "version": 3
   },
   "file_extension": ".py",
   "mimetype": "text/x-python",
   "name": "python",
   "nbconvert_exporter": "python",
   "pygments_lexer": "ipython3",
   "version": "3.9.7"
  }
 },
 "nbformat": 4,
 "nbformat_minor": 5
}

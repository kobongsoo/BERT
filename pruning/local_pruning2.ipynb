{
 "cells": [
  {
   "cell_type": "code",
   "execution_count": null,
   "id": "3bf4a98e-2626-48eb-a986-57ce406cbc9d",
   "metadata": {},
   "outputs": [],
   "source": [
    "#===================================================================================================\n",
    "# 로컬 pruning(가지치기)2\n",
    "# - 동시에 여러개의 텐서에 Pruning 기법 적용\n",
    "#\n",
    "# 참고 자료 : https://huffon.github.io/2020/03/15/torch-pruning/\n",
    "# 참고 소스 : https://github.com/Huffon/nlp-various-tutorials/blob/master/pruning-bert.ipynb\n",
    "#===================================================================================================\n",
    "import torch\n",
    "import torch.nn.utils.prune as prune"
   ]
  },
  {
   "cell_type": "code",
   "execution_count": null,
   "id": "10f70bd6-5c6c-413d-abdd-326a967dc548",
   "metadata": {},
   "outputs": [],
   "source": [
    "# BERT 모델 로딩\n",
    "from transformers import BertModel\n",
    "model_path = '../../../model/bert/bmc-fpt-bong_corpus_mecab-0428'\n",
    "model = BertModel.from_pretrained(model_path)\n",
    "print(model)"
   ]
  },
  {
   "cell_type": "code",
   "execution_count": null,
   "id": "8e799fc2-9984-43ad-9e8c-95241a0cc93c",
   "metadata": {},
   "outputs": [],
   "source": [
    "# embedding과 liner 레이어에 동시에 pruning 적용\n",
    "\n",
    "for name, module in model.named_modules():\n",
    "    \n",
    "    if isinstance(module, torch.nn.Embedding):\n",
    "        prune.l1_unstructured(module, name='weight', amount=0.2)\n",
    "        \n",
    "        # remove 시켜서 모델에 영구 적용시킴\n",
    "        prune.remove(module, \"weight\")\n",
    "        \n",
    "    elif isinstance(module, torch.nn.Linear):\n",
    "        prune.l1_unstructured(module, name='weight', amount=0.3)\n",
    "        \n",
    "        # remove 시켜서 모델에 영구 적용시킴\n",
    "        prune.remove(module, \"weight\")\n",
    "    \n"
   ]
  },
  {
   "cell_type": "code",
   "execution_count": null,
   "id": "1a5afbc8-4eeb-46c9-8c3b-04e92d5a40d3",
   "metadata": {},
   "outputs": [],
   "source": [
    "dict(model.named_buffers()).keys()"
   ]
  },
  {
   "cell_type": "code",
   "execution_count": null,
   "id": "235e873a-f35a-467d-bcde-47c041d6ad12",
   "metadata": {},
   "outputs": [],
   "source": []
  },
  {
   "cell_type": "code",
   "execution_count": null,
   "id": "55cce886-26bc-48fc-842e-cea76fd09c73",
   "metadata": {},
   "outputs": [],
   "source": [
    "# model 저장해 봄\n",
    "import os\n",
    "out_path = '../../../model/bert/bmc-fpt-bong_corpus_mecab-0428-pruning2'\n",
    "os.makedirs(out_path, exist_ok=True)\n",
    "model.save_pretrained(out_path)"
   ]
  },
  {
   "cell_type": "code",
   "execution_count": null,
   "id": "d797d6b8-5bed-4059-928e-9992d2936177",
   "metadata": {},
   "outputs": [],
   "source": []
  }
 ],
 "metadata": {
  "kernelspec": {
   "display_name": "Python 3 (ipykernel)",
   "language": "python",
   "name": "python3"
  },
  "language_info": {
   "codemirror_mode": {
    "name": "ipython",
    "version": 3
   },
   "file_extension": ".py",
   "mimetype": "text/x-python",
   "name": "python",
   "nbconvert_exporter": "python",
   "pygments_lexer": "ipython3",
   "version": "3.9.7"
  }
 },
 "nbformat": 4,
 "nbformat_minor": 5
}

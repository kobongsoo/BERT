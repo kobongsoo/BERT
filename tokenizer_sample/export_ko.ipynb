{
 "cells": [
  {
   "cell_type": "code",
   "execution_count": 1,
   "id": "2db39d2f-f474-482b-95dd-8321d62d1931",
   "metadata": {},
   "outputs": [
    {
     "name": "stdout",
     "output_type": "stream",
     "text": [
      "['[PAD]\\n', '[unused1]\\n', '[unused2]\\n']\n",
      "119547\n"
     ]
    }
   ],
   "source": [
    "##==================================================================\n",
    "## 문장을 읽어와서, 해당 문장이 한글인지 영문인지 확인하고, 해당 한글, 영문 문장만 저장하는 예제\n",
    "## 정규화(re) 이용\n",
    "## - [a-zA-Z]=영어, [가-힇]=한국어\n",
    "##==================================================================\n",
    "import re\n",
    "\n",
    "corpus = '../../data11/model/distilbert/distilbert-base-multilingual-cased/vocab.txt'\n",
    "with open(corpus, 'r', encoding='utf-8') as f:\n",
    "    datas = f.readlines()\n",
    "\n",
    "print(datas[:3])\n",
    "print(len(datas))"
   ]
  },
  {
   "cell_type": "code",
   "execution_count": 2,
   "id": "1b8e05d0-358e-4fb0-a123-7ce360ccd4e7",
   "metadata": {},
   "outputs": [],
   "source": [
    "count = 0\n",
    "vocablist = []\n",
    "for data in datas:\n",
    "    result = re.findall('[a-zA-Z]', data)  # 영문 정규식\n",
    "    #result = re.findall('[가-힇]', data)  #한글 정규식\n",
    "    if result:\n",
    "        vocablist.append(data)\n",
    "        count+=1 # 계수를 1증가\n",
    "    "
   ]
  },
  {
   "cell_type": "code",
   "execution_count": 3,
   "id": "283e885a-075a-4992-832d-256f2c1da06a",
   "metadata": {},
   "outputs": [
    {
     "name": "stdout",
     "output_type": "stream",
     "text": [
      "66017\n"
     ]
    }
   ],
   "source": [
    "print(count)"
   ]
  },
  {
   "cell_type": "code",
   "execution_count": 4,
   "id": "2e9a1dca-9ff2-4bf2-a90b-1e52396b6a71",
   "metadata": {},
   "outputs": [
    {
     "data": {
      "application/vnd.jupyter.widget-view+json": {
       "model_id": "3447a3006c6f4dc291b8d8c5ad5ab18e",
       "version_major": 2,
       "version_minor": 0
      },
      "text/plain": [
       "  0%|          | 0/66017 [00:00<?, ?it/s]"
      ]
     },
     "metadata": {},
     "output_type": "display_data"
    }
   ],
   "source": [
    "# vocab을 저장함\n",
    "from tqdm.notebook import tqdm\n",
    "out = '../../data11/model/distilbert/distilbert-base-multilingual-cased/vocab-en.txt'\n",
    "with open(out, 'w', encoding='utf-8') as f:\n",
    "    for word in tqdm(vocablist):\n",
    "            f.write(word)"
   ]
  },
  {
   "cell_type": "code",
   "execution_count": null,
   "id": "9d21cc1f-46ba-4af3-b222-e9b0dd397f18",
   "metadata": {},
   "outputs": [],
   "source": []
  }
 ],
 "metadata": {
  "kernelspec": {
   "display_name": "Python 3 (ipykernel)",
   "language": "python",
   "name": "python3"
  },
  "language_info": {
   "codemirror_mode": {
    "name": "ipython",
    "version": 3
   },
   "file_extension": ".py",
   "mimetype": "text/x-python",
   "name": "python",
   "nbconvert_exporter": "python",
   "pygments_lexer": "ipython3",
   "version": "3.9.7"
  }
 },
 "nbformat": 4,
 "nbformat_minor": 5
}

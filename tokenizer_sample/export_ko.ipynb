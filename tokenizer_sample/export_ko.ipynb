{
 "cells": [
  {
   "cell_type": "code",
   "execution_count": 1,
   "id": "2db39d2f-f474-482b-95dd-8321d62d1931",
   "metadata": {},
   "outputs": [
    {
     "name": "stdout",
     "output_type": "stream",
     "text": [
      "['<unk>\\t0\\n', '<s>\\t0\\n', '</s>\\t0\\n']\n",
      "30000\n"
     ]
    }
   ],
   "source": [
    "##==================================================================\n",
    "## 문장을 읽어와서, 해당 문장이 한글인지 영문인지 확인하고, 해당 한글, 영문 문장만 저장하는 예제\n",
    "## 정규화(re) 이용\n",
    "## - [a-zA-Z]=영어, [가-힇]=한국어\n",
    "##==================================================================\n",
    "import re\n",
    "\n",
    "corpus = '../../data11/ai_hub/vocab/tl1-1줄-mecab-30000-sp-unigram-22M-vocab/spiece.vocab'\n",
    "with open(corpus, 'r', encoding='utf-8') as f:\n",
    "    datas = f.readlines()\n",
    "\n",
    "print(datas[:3])\n",
    "print(len(datas))"
   ]
  },
  {
   "cell_type": "code",
   "execution_count": 2,
   "id": "1b8e05d0-358e-4fb0-a123-7ce360ccd4e7",
   "metadata": {},
   "outputs": [],
   "source": [
    "import re\n",
    "\n",
    "count = 0\n",
    "vocablist = []\n",
    "for data in datas:\n",
    "    result = re.findall('[a-zA-Z]', data)  # 영문 정규식\n",
    "    #result = re.findall('[가-힇]', data)  #한글 정규식\n",
    "    if result:\n",
    "        vocablist.append(data)\n",
    "        count+=1 # 계수를 1증가\n",
    "    "
   ]
  },
  {
   "cell_type": "code",
   "execution_count": 3,
   "id": "283e885a-075a-4992-832d-256f2c1da06a",
   "metadata": {},
   "outputs": [
    {
     "name": "stdout",
     "output_type": "stream",
     "text": [
      "2425\n"
     ]
    }
   ],
   "source": [
    "print(count)"
   ]
  },
  {
   "cell_type": "code",
   "execution_count": 4,
   "id": "cdce55f0-693d-4895-9c5d-fcb02d7c2cc0",
   "metadata": {},
   "outputs": [
    {
     "name": "stdout",
     "output_type": "stream",
     "text": [
      "['<unk>\\t0\\n', '<s>\\t0\\n', '</s>\\t0\\n', '[PAD]\\t0\\n', '[UNK]\\t0\\n', '[CLS]\\t0\\n', '[SEP]\\t0\\n', '[MASK]\\t0\\n', '[BOS]\\t0\\n', '[EOS]\\t0\\n', '▁a\\t-7.70743\\n', '▁m\\t-7.99826\\n', '▁lg\\t-8.27735\\n', '▁sk\\t-8.34634\\n', '▁b\\t-8.53224\\n', '▁g\\t-8.5844\\n', '▁tv\\t-8.64305\\n', '▁s\\t-8.67839\\n', '▁k\\t-8.76302\\n', '▁d\\t-8.79483\\n', '▁p\\t-8.87818\\n', '▁c\\t-8.92885\\n', '▁kt\\t-8.95926\\n', '▁km\\t-9.06783\\n', '▁ai\\t-9.14957\\n', '▁sns\\t-9.36145\\n', '▁t\\t-9.39953\\n', '▁e\\t-9.41273\\n', 's\\t-9.42493\\n', '▁kb\\t-9.47115\\n', '▁r\\t-9.4718\\n', '▁kbs\\t-9.47574\\n', '▁it\\t-9.5096\\n', '▁mbc\\t-9.52489\\n', '▁cj\\t-9.58718\\n', '▁x\\t-9.62191\\n', '▁h\\t-9.69517\\n', '▁sbs\\t-9.74761\\n', '▁mm\\t-9.7999\\n', '▁n\\t-9.8168\\n', '▁eu\\t-9.82147\\n', '▁kbo\\t-9.83034\\n', '▁l\\t-9.86284\\n', '▁v\\t-9.89619\\n', '▁f\\t-9.91597\\n', '▁the\\t-9.94696\\n', '▁pc\\t-9.95685\\n', '▁gs\\t-9.96111\\n', '▁ceo\\t-9.97069\\n', '▁nc\\t-10.0431\\n', '▁kg\\t-10.0518\\n', '▁kia\\t-10.0833\\n', '▁i\\t-10.0952\\n', '▁u\\t-10.1575\\n', '▁nh\\t-10.1576\\n', '▁cm\\t-10.204\\n', '▁w\\t-10.214\\n', 'm\\t-10.2406\\n', '▁ict\\t-10.2869\\n', 'ing\\t-10.305\\n', '▁pd\\t-10.3198\\n', '▁mc\\t-10.3284\\n', 'g\\t-10.3406\\n', '▁tvn\\t-10.3844\\n', '▁fc\\t-10.4289\\n', '▁lh\\t-10.434\\n', '▁q\\t-10.4469\\n', '▁is\\t-10.4527\\n', '▁ip\\t-10.4585\\n', '▁vs\\t-10.4791\\n', '▁jtbc\\t-10.4881\\n', '▁mou\\t-10.4925\\n', '▁o\\t-10.4944\\n', '▁tf\\t-10.5118\\n', '▁iot\\t-10.5286\\n', '▁ap\\t-10.5337\\n', '▁j\\t-10.5473\\n', '▁vr\\t-10.551\\n', '▁la\\t-10.5861\\n', '▁in\\t-10.6437\\n', '▁fta\\t-10.6457\\n', '▁cctv\\t-10.661\\n', '▁sm\\t-10.6805\\n', '▁fa\\t-10.6965\\n', '▁msi\\t-10.6987\\n', '▁sw\\t-10.7127\\n', '▁gdp\\t-10.7534\\n', '▁of\\t-10.7595\\n', 'd\\t-10.7847\\n', 'a\\t-10.7848\\n', '▁ha\\t-10.7911\\n', 'y\\t-10.7995\\n', '▁gm\\t-10.8002\\n', '▁led\\t-10.8208\\n', '▁suv\\t-10.8222\\n', '▁cnn\\t-10.8578\\n', '▁to\\t-10.8879\\n', 't\\t-10.8961\\n', 'l\\t-10.8973\\n', '▁afp\\t-10.9079\\n']\n"
     ]
    }
   ],
   "source": [
    "print(vocablist[0:100])"
   ]
  },
  {
   "cell_type": "code",
   "execution_count": null,
   "id": "2e9a1dca-9ff2-4bf2-a90b-1e52396b6a71",
   "metadata": {},
   "outputs": [],
   "source": [
    "# vocab을 저장함\n",
    "from tqdm.notebook import tqdm\n",
    "out = '../../data11/model/distilbert/mdistilbert-scratch/vocab-en.txt'\n",
    "with open(out, 'w', encoding='utf-8') as f:\n",
    "    for word in tqdm(vocablist):\n",
    "            f.write(word)"
   ]
  },
  {
   "cell_type": "code",
   "execution_count": null,
   "id": "9d21cc1f-46ba-4af3-b222-e9b0dd397f18",
   "metadata": {},
   "outputs": [],
   "source": []
  }
 ],
 "metadata": {
  "kernelspec": {
   "display_name": "Python 3 (ipykernel)",
   "language": "python",
   "name": "python3"
  },
  "language_info": {
   "codemirror_mode": {
    "name": "ipython",
    "version": 3
   },
   "file_extension": ".py",
   "mimetype": "text/x-python",
   "name": "python",
   "nbconvert_exporter": "python",
   "pygments_lexer": "ipython3",
   "version": "3.9.7"
  }
 },
 "nbformat": 4,
 "nbformat_minor": 5
}

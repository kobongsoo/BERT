{
 "cells": [
  {
   "cell_type": "code",
   "execution_count": 1,
   "id": "6013926b-4331-43f9-9a93-13d0b3cb34a1",
   "metadata": {},
   "outputs": [],
   "source": [
    "#==============================================================================================\n",
    "# 기존 bert vocab에 새로운 도메인 vocab만들어서 추가하기\n",
    "#\n",
    "# =>기존 pre-trained bert vocab에는 전문단어 domain이 없다(예:문서중앙화, COVID 등)  \n",
    "# 따라서 전문 domain을 기존 bert vocab에 추가해야 한다.\n",
    "# => 따라서 여기서는 mecab(한국어 형태로 분석기)를 이용하여, 추가 vocab을 만들고, \n",
    "# bert wordpiecetokenzer에 추가하는 방법에 대해 설명한다\n",
    "# \n",
    "# 참고 자료 \n",
    "# https://github.com/piegu/language-models/blob/master/nlp_how_to_add_a_domain_specific_vocabulary_new_tokens_to_a_subword_tokenizer_already_trained_like_BERT_WordPiece.ipynb\n",
    "# https://medium.com/@pierre_guillou/nlp-how-to-add-a-domain-specific-vocabulary-new-tokens-to-a-subword-tokenizer-already-trained-33ab15613a41\n",
    "# https://wikidocs.net/64517\n",
    "#\n",
    "# [과정]\n",
    "# 1) 도메인 말뭉치(예:kowiki.txt)에서 mecab을 이용하여 형태소 분석하여 단어들을 추출함.\n",
    "#   => mecab으로 형태소 혹은 명사만 분할하면서, subword 앞에는 '##' prefix 추가함(**ertwordpiece subword와 동일하게)\n",
    "# 2) NLTK 빈도수 계산하는 FreqDist()를 이용하여, 단어들이 빈도수 계산\n",
    "# 3) 상위 빈도수(예:30000)를 가지는 단어들만 add_vocab.txt 로 만듬\n",
    "# 4) 기존 bert vocab.txt 파일에 직접, add_vocab.txt 토큰들 추가(*이때 중복 제거함)\n",
    "# 5) 추가한 vocab을 가지고, tokenizer 생성하고, special 토큰 추가 후, 저장\n",
    "#\n",
    "# **원래 참고자료에는 tokenizer.add_tokens() 으로 추가하면, added_tokens.json 파일에 추가되는데, \n",
    "# 이때 BertTokenizer.from_pretrained() 함수로 호출할때, 호출이 안됨(**이유 모름:엄청 느려지는것 같음)\n",
    "# => 따라서 직접 vocab.txt에 추가하는 방법을 사용함\n",
    "#==============================================================================================\n",
    "import konlpy\n",
    "from konlpy.tag import Mecab\n",
    "from tqdm.notebook import tqdm\n",
    "from nltk import FreqDist\n",
    "import numpy as np\n",
    "import torch\n",
    "from transformers import BertTokenizer"
   ]
  },
  {
   "cell_type": "code",
   "execution_count": 2,
   "id": "3fae6691-ce4c-4cdd-b024-64f4ff130e17",
   "metadata": {},
   "outputs": [
    {
     "name": "stderr",
     "output_type": "stream",
     "text": [
      "Using custom data configuration bongsoo--moco-corpus-ef2b5bdf9d2fec8d\n"
     ]
    },
    {
     "name": "stdout",
     "output_type": "stream",
     "text": [
      "Downloading and preparing dataset text/bongsoo--moco-corpus to ./data/text/bongsoo--moco-corpus-ef2b5bdf9d2fec8d/0.0.0/08f6fb1dd2dab0a18ea441c359e1d63794ea8cb53e7863e6edf8fc5655e47ec4...\n"
     ]
    },
    {
     "data": {
      "application/vnd.jupyter.widget-view+json": {
       "model_id": "436ec69e1bd34a62b3d11b3cfe3f57cd",
       "version_major": 2,
       "version_minor": 0
      },
      "text/plain": [
       "  0%|          | 0/1 [00:00<?, ?it/s]"
      ]
     },
     "metadata": {},
     "output_type": "display_data"
    },
    {
     "data": {
      "application/vnd.jupyter.widget-view+json": {
       "model_id": "d99acb95ad4b421197abbc3a4c2bafdb",
       "version_major": 2,
       "version_minor": 0
      },
      "text/plain": [
       "Downloading:   0%|          | 0.00/351M [00:00<?, ?B/s]"
      ]
     },
     "metadata": {},
     "output_type": "display_data"
    },
    {
     "data": {
      "application/vnd.jupyter.widget-view+json": {
       "model_id": "0ecea7e0656b44e6a3bfdbc3f4cf1684",
       "version_major": 2,
       "version_minor": 0
      },
      "text/plain": [
       "  0%|          | 0/1 [00:00<?, ?it/s]"
      ]
     },
     "metadata": {},
     "output_type": "display_data"
    },
    {
     "name": "stdout",
     "output_type": "stream",
     "text": [
      "Dataset text downloaded and prepared to ./data/text/bongsoo--moco-corpus-ef2b5bdf9d2fec8d/0.0.0/08f6fb1dd2dab0a18ea441c359e1d63794ea8cb53e7863e6edf8fc5655e47ec4. Subsequent calls will reuse this data.\n"
     ]
    },
    {
     "data": {
      "application/vnd.jupyter.widget-view+json": {
       "model_id": "7ed0e1eff4b743e988aa0f435b07e1a9",
       "version_major": 2,
       "version_minor": 0
      },
      "text/plain": [
       "  0%|          | 0/1 [00:00<?, ?it/s]"
      ]
     },
     "metadata": {},
     "output_type": "display_data"
    }
   ],
   "source": [
    "# 필요에 따라 load_dataset 에서 corpus 불러와서 data 폴더에 cache 파일로 저장.\n",
    "# 이후 저장된 캐쉬경로에 파일을 이름변경해서 사용하면 됨.\n",
    "\n",
    "#from datasets import load_dataset\n",
    "#dataset = load_dataset('bongsoo/moco-corpus', cache_dir='./data')"
   ]
  },
  {
   "cell_type": "code",
   "execution_count": 22,
   "id": "69f2890e-88b3-4d78-991c-7f8a11f261fb",
   "metadata": {},
   "outputs": [
    {
     "data": {
      "text/plain": [
       "DatasetDict({\n",
       "    train: Dataset({\n",
       "        features: ['text'],\n",
       "        num_rows: 3291463\n",
       "    })\n",
       "})"
      ]
     },
     "execution_count": 22,
     "metadata": {},
     "output_type": "execute_result"
    }
   ],
   "source": [
    "#dataset"
   ]
  },
  {
   "cell_type": "code",
   "execution_count": 23,
   "id": "883fe943-45fe-4a92-a8b9-c15d89f92cd3",
   "metadata": {},
   "outputs": [
    {
     "data": {
      "text/plain": [
       "'These are the result of inserts into index blocks when multipleinstances share a sequence generator for primary key values.'"
      ]
     },
     "execution_count": 23,
     "metadata": {},
     "output_type": "execute_result"
    }
   ],
   "source": [
    "#dataset['train']['text'][100]"
   ]
  },
  {
   "cell_type": "code",
   "execution_count": 3,
   "id": "2db39d2f-f474-482b-95dd-8321d62d1931",
   "metadata": {},
   "outputs": [
    {
     "name": "stdout",
     "output_type": "stream",
     "text": [
      "['Refer', 'to', 'the']\n",
      "42843613\n"
     ]
    }
   ],
   "source": [
    "# wiki_20190620.txt 말뭉치 불러옴.\n",
    "#corpus = '../../data11/my_corpus/my/pre-kowiki-20220620-1줄.txt'\n",
    "#corpus = '../korpora/kowiki_20190620/wiki_20190620.txt'\n",
    "corpus = './data/moco-corpus.txt'\n",
    "with open(corpus, 'r', encoding='utf-8') as f:\n",
    "    data = f.read().split(' ') # 공백으로 구분해서 단어들을 추출함\n",
    "\n",
    "print(data[:3])\n",
    "print(len(data))"
   ]
  },
  {
   "cell_type": "code",
   "execution_count": 4,
   "id": "9f16ffd7-2e89-4057-83d0-9db4a468ec3c",
   "metadata": {},
   "outputs": [],
   "source": [
    "# mecab 형태소 분석기를 이용하여, 읽어온 말뭉치를 단어,조사등으로 분리함\n",
    "# => 불용어는 제거함\n",
    "# => mecab으로 형태소 분할하면서, subword 앞에는 prefix '##' 추가함\n",
    "\n",
    "# Mecab 선언\n",
    "mecab = Mecab()\n",
    "\n",
    "# 불용어 정의\n",
    "#stopwords=['이','가','께서','에서','이다','의','을','를','에','에게','께','와','에서','라고', '과','은', '는', '부터','.',',', '_']\n",
    "stopwords=['.',',', '_', '..','\"',';','<', '>', '(', ')', '[', ']']\n",
    "# Ture = nouns(명사)만 추출, False=형태소 추출\n",
    "nouns = False"
   ]
  },
  {
   "cell_type": "code",
   "execution_count": 5,
   "id": "1204a00d-63a6-4fab-a4a3-584f3b0d2ee1",
   "metadata": {},
   "outputs": [
    {
     "data": {
      "application/vnd.jupyter.widget-view+json": {
       "model_id": "455f40b6c28042cb97af411c9dcae42b",
       "version_major": 2,
       "version_minor": 0
      },
      "text/plain": [
       "  0%|          | 0/42843613 [00:00<?, ?it/s]"
      ]
     },
     "metadata": {},
     "output_type": "display_data"
    },
    {
     "name": "stdout",
     "output_type": "stream",
     "text": [
      "['Refer', 'to', 'the', 'V', '##$', '##SYSTEM', '##EVENT', 'view', 'for', 'time', 'waited', 'and', 'average', 'waits', 'for', 'thefollowing', 'actions', '##:', '##To', 'estimate']\n",
      "총 단어 수: 60529980\n"
     ]
    }
   ],
   "source": [
    "'''\n",
    "total_morph=[]\n",
    "for sentence in tqdm(data):\n",
    "    temp = mecab.morphs(sentence)\n",
    "    temp = [word for word in temp if not word in stopwords] # 불용어 제거\n",
    "    total_morph.append(temp)\n",
    "'''\n",
    "# mecab으로 형태소 혹은 명사만 분할할때, subword 앞에는 prefix '##' 추가함\n",
    "total_words=[]\n",
    "\n",
    "# 명사만 추출하는 경우\n",
    "if nouns == True:\n",
    "    for words in tqdm(data):\n",
    "        count=0\n",
    "\n",
    "        for word in mecab.nouns(words):\n",
    "            if not word in stopwords:\n",
    "                tmp = word\n",
    "\n",
    "                if count > 0:\n",
    "                    tmp = \"##\" + tmp  ## subword 앞에는 prefix '##' 추가함\n",
    "                    total_words.append(tmp)  \n",
    "                else:\n",
    "                    total_words.append(tmp)  \n",
    "                    count += 1\n",
    "# 형태소도 포함하여 추출하는 경우\n",
    "else:\n",
    "    \n",
    "    for words in tqdm(data):\n",
    "        count=0\n",
    "\n",
    "        for word in mecab.morphs(words):\n",
    "            if not word in stopwords:\n",
    "                tmp = word\n",
    "\n",
    "                if count > 0:\n",
    "                    tmp = \"##\" + tmp  ## subword 앞에는 prefix '##' 추가함\n",
    "                    total_words.append(tmp)  \n",
    "                else:\n",
    "                    total_words.append(tmp)  \n",
    "                    count += 1\n",
    "                \n",
    "print(total_words[:20])\n",
    "print(f'총 단어 수: {len(total_words)}')"
   ]
  },
  {
   "cell_type": "code",
   "execution_count": 6,
   "id": "14abac86-e25f-46f1-a12e-f6afb27d6dcd",
   "metadata": {},
   "outputs": [
    {
     "name": "stdout",
     "output_type": "stream",
     "text": [
      "단어 집합의 크기 : 446597\n",
      "[('the', 2184909), ('to', 832465), ('##하', 710062), ('##는', 692741), ('##을', 691642), ('a', 663946), ('of', 663657), ('is', 585547), ('##를', 583267), ('##에', 574573), ('and', 537129), ('in', 449548), ('##-', 397030), ('##의', 372288), ('##:', 359164), ('for', 350187), ('##이', 342137), ('that', 320852), ('##The', 316292), ('있', 280132), ('##은', 273927), ('you', 264463), ('##/', 241291), ('on', 236966), ('##한', 229810), ('##에서', 228057), ('are', 228015), ('be', 226832), ('##가', 223465), ('or', 222871), ('##으로', 221287), ('can', 199281), ('##여', 195543), ('및', 194967), ('수', 178942), ('this', 178025), ('##고', 172999), ('queue', 168580), ('an', 167647), ('with', 167047), ('##로', 166424), ('##할', 164394), ('not', 159734), ('##되', 158479), ('message', 154641), ('by', 154080), ('사용', 153926), ('as', 153561), ('##한다', 146497), (':', 132688), ('##This', 129445), ('##적', 128506), ('##된', 127689), ('##다', 121926), ('##과', 121765), ('경우', 120934), ('##합니다', 120493), ('it', 118365), ('from', 117733), ('##습니다', 117293), ('data', 115874), ('##If', 112382), ('use', 107021), ('데이터', 106621), ('시스템', 105997), ('MQ', 100725), ('name', 96856), ('##와', 95383), ('##”', 92353), ('WebSphere', 92078), ('your', 91661), ('정보', 89061), ('following', 88274), ('manager', 87826), ('하', 84848), ('value', 84719), ('##기', 83573), ('set', 82282), ('information', 81110), ('##1', 80676), ('##2', 80152), ('have', 79996), ('if', 79934), ('##지', 79045), ('“', 78270), ('##인', 78041), ('which', 77975), ('used', 77831), ('제공', 77377), ('대한', 77303), ('application', 76841), ('서비스', 73489), ('-', 72721), ('command', 71763), ('file', 71312), ('must', 70653), ('##’', 70573), ('all', 70402), ('using', 70273), ('##어', 69977), ('##You', 69636), ('has', 67719), ('##며', 67452), ('one', 66432), ('will', 66398), ('##화', 66028), ('한다', 65913), ('##면', 65865), ('user', 65402), ('설정', 65332), ('기능', 65273), ('1', 63653), ('page', 63492), ('system', 62595), ('않', 61817), ('##게', 61630), ('관리', 61031), ('등', 60558), ('any', 60523), ('when', 60330), ('처리', 59747), ('server', 59612), ('object', 59553), ('##In', 59016), ('##For', 59002), ('이', 58674), ('서버', 58228), ('수행', 56633), ('파일', 56505), ('only', 55884), ('messages', 55082), ('at', 54447), ('##s', 54306), ('example', 53533), ('구성', 52505), ('type', 51952), ('##A', 51833), ('또는', 51765), ('해당', 51466), ('것', 51303), ('##시스템', 51195), ('##정보', 49662), ('다음', 49450), ('확인', 49339), ('##성', 48806), ('지원', 48534), ('Server', 48453), ('more', 48073), ('선택', 48049), ('other', 47655), ('발생', 47265), ('database', 46251), ('2', 46189), ('number', 45932), ('/', 45639), ('위한', 45633), ('인터페이스', 45134), ('process', 45061), ('후', 44684), ('DB', 44615), ('##들', 44582), ('업무', 44276), ('also', 44150), ('time', 44112), ('필요', 43842), ('EAI', 43595), ('정의', 42696), ('service', 42536), ('##자', 42375), ('운영', 41556), ('개발', 41466), ('each', 41213), ('가능', 41202), ('변경', 41017), ('전송', 40853), ('메시지', 40609), ('같', 40282), ('##도록', 40167), ('these', 40070), ('was', 39955), ('##입니다', 39724), ('##도', 39671), ('call', 39302), ('code', 39277), ('없', 39255), ('field', 39195), ('see', 39179), ('default', 39138), ('##3', 39016), ('same', 38921), ('IBM', 38825), (\"##'\", 38727), ('The', 38446), ('new', 38388), ('시', 38053), ('may', 38018), ('client', 36966), ('specified', 36955), ('##To', 36572), ('channel', 36435), ('error', 36289), ('생성', 36287), ('table', 36161), ('통해', 36084), ('##됩니다', 35504), ('입력', 35443), ('##함', 35293), ('실행', 35018), ('create', 34523), ('then', 34520), ('수신', 34198), ('값', 34074), ('Oracle', 33933), ('values', 33859), ('node', 33791), ('##별', 33556), ('요청', 33465), ('##만', 33462), ('3', 33369), ('its', 33367), ('추가', 33248), ('##When', 33061), ('연계', 32961), ('but', 32934), ('do', 32829), ('때', 32813), ('환경', 32798), ('통합', 32771), ('no', 32558), ('##시', 32465), ('구축', 32389), ('적용', 32176), ('기술', 32169), ('포함', 32101), ('큐', 32058), ('등록', 31869), ('할', 31831), ('##It', 31793), ('been', 31751), ('how', 31597), ('##*', 31537), ('사용자', 31161), ('does', 30908), ('##관리', 30676), ('##ﬁ', 30664), ('##여야', 30589), ('into', 30585), ('합니다', 30578), ('applications', 30476), ('작업', 30410), ('should', 30397), ('group', 30129), ('Web', 30085), ('list', 29994), ('##일', 29917), ('SQL', 29879), ('설치', 29848), ('parameter', 29775), ('ID', 29695), ('files', 29657), ('따라', 29446), ('than', 29444), ('모든', 29263), ('되', 29243), ('관련', 29225), ('##음', 28968), ('중', 28855), ('business', 28698), ('about', 28521), ('제', 28360), ('connection', 28272), ('‘', 28069), ('각', 28022), ('available', 27883), ('need', 27851), ('attribute', 27825), ('##해야', 27618), ('이름', 27550), ('broker', 27457), ('access', 27370), ('=', 27219), ('이용', 27158), ('위해', 27016), ('지정', 26987), ('two', 26932), ('프로세스', 26710), ('내용', 26693), ('오류', 26674), ('전문', 26614), ('transaction', 26607), ('결과', 26412), ('##에게', 26302), ('select', 26301), ('program', 26272), ('클릭', 26219), ('want', 26199), ('XML', 26069), ('such', 25881), ('function', 25761), ('모니터링', 25699), ('시간', 25636), ('표준', 25581), ('분석', 25564), ('Manager', 25548), ('API', 25493), ('4', 25477), ('Java', 25442), ('상태', 25406), ('objects', 25383), ('Message', 25360), ('##거나', 25126), ('string', 25013), ('계약', 25009), ('option', 24918), ('보안', 24787), ('##년', 24744), ('request', 24673), ('within', 24561), ('연결', 24510), ('5', 24457), ('log', 24437), ('so', 24430), ('different', 24426), ('they', 24370), ('directory', 24290), ('저장', 24290), ('structure', 24247), ('required', 24222), ('specify', 23755), ('contains', 23722), ('조회', 23589), ('click', 23582), ('environment', 23289), ('created', 23266), ('property', 23210), ('를', 23182), ('표시', 22974), ('방법', 22930), ('0', 22821), ('might', 22792), ('up', 22774), ('응답', 22716), ('there', 22629), ('##?', 22626), ('cannot', 22534), ('defined', 22512), ('configuration', 22473), ('run', 22444), ('##으며', 22421), ('local', 22340), ('작성', 22254), ('flow', 22253), ('method', 22154), ('##OS', 22151), ('##“', 22137), ('support', 21880), ('##=\"', 21867), ('first', 21845), ('character', 21774), ('input', 21730), ('송신', 21609), ('between', 21552), ('성능', 21466), ('we', 21462), ('##Note', 21377), ('##된다', 21363), ('장애', 21348), ('프로젝트', 21210), ('view', 21204), ('some', 21173), ('##서버', 21125), ('length', 21097), ('프로그램', 21042), ('##4', 20991), ('대상', 20757), ('Windows', 20686), ('installation', 20671), ('Data', 20652), ('##IBM', 20562), ('사항', 20488), ('event', 20479), ('start', 20442), ('호출', 20244), ('받', 20236), ('before', 20134), ('Adapter', 20058), ('statement', 20052), ('output', 20028), ('source', 19995), ('화면', 19943), ('##자의', 19904), ('항목', 19898), ('ﬁ', 19836), ('기본', 19797), ('Application', 19778), ('##될', 19748), ('##EAI', 19693), ('C', 19678), ('where', 19667), ('테스트', 19579), ('##Use', 19574), ('provides', 19565), ('##기관', 19551), ('element', 19543), ('change', 19517), ('유지', 19501), ('거래', 19481), ('10', 19371), ('valid', 19363), ('because', 19348), ('##5', 19344), ('report', 19315), ('security', 19295), ('properties', 19289), ('방식', 19267), ('format', 19250), ('##서비스', 19221), ('다른', 19188), ('cluster', 19184), ('exit', 19072), ('테이블', 19006), ('class', 18982), ('key', 18958), ('through', 18936), ('their', 18877), ('definition', 18868), ('##었', 18839), ('version', 18836), ('로그', 18810), ('work', 18806), ('case', 18791), ('그', 18748), ('6', 18705), ('##어야', 18683), ('관리자', 18641), ('z', 18631), ('다양', 18597), ('services', 18540), ('문서', 18533), ('리포트', 18517), ('솔루션', 18493), ('control', 18431), ('##An', 18388), ('시작', 18376), ('한', 18272), ('##0', 18269), ('names', 18230), ('*/', 18159), ('애플리케이션', 18141), ('options', 18140), ('##개', 18123), ('필드', 18115), ('single', 18110), ('both', 18010), ('running', 17980), ('them', 17960), ('기반', 17948), ('##십시오', 17942), ('current', 17884), ('버튼', 17873), ('interface', 17822), ('Integration', 17774), ('소프트웨어', 17765), ('유형', 17634), ('내', 17622), ('수정', 17585), ('그룹', 17496), ('section', 17460), ('##데이터', 17377), ('either', 17242), ('File', 17131), ('uses', 17128), ('network', 17023), ('systems', 16993), ('##해', 16987), ('types', 16973), ('대해', 16944), ('제품', 16918), ('##\\\\', 16918), ('##코드', 16877), ('웹', 16828), ('I', 16819), ('사업', 16794), ('users', 16730), ('보', 16701), ('called', 16614), ('의', 16605), ('삭제', 16572), ('project', 16527), ('자동', 16465), ('instance', 16441), ('재', 16360), ('참조', 16354), ('##8', 16341), ('##제', 16264), ('order', 16226), ('out', 16199), ('##See', 16164), ('attributes', 16114), ('##번호', 16077), ('아래', 16053), ('활용', 16001), ('without', 15995), ('같이', 15949), ('##명', 15919), ('완료', 15895), ('##또한', 15870), ('+', 15842), ('level', 15812), ('part', 15772), ('being', 15749), ('##값', 15739), ('processing', 15723), ('Broker', 15707), ('parameters', 15699), ('commands', 15676), ('##처리', 15564), ('associated', 15558), ('task', 15530), ('X', 15503), ('하나', 15498), ('구현', 15469), ('after', 15447), ('line', 15436), ('make', 15402), ('에', 15360), ('remote', 15331), ('기준', 15255), ('problem', 15249), ('another', 15244), ('e', 15206), ('##These', 15184), ('##까지', 15173), ('클라이언트', 15140), ('model', 15067), ('암호', 15038), ('Queue', 15020), ('shows', 15016), ('목록', 15009), ('whether', 14922), ('속성', 14865), ('changes', 14861), ('A', 14843), ('##전문', 14831), ('Business', 14806), ('설명', 14774), ('##WebSphere', 14756), ('provide', 14749), ('component', 14739), ('product', 14719), ('described', 14665), ('##업무', 14573), ('Service', 14543), ('동일', 14529), ('open', 14524), ('##나', 14502), ('##However', 14495), ('queues', 14489), ('JMS', 14474), ('이상', 14435), ('provided', 14387), ('전', 14310), ('Process', 14306), ('operation', 14305), ('multiple', 14279), ('HTTP', 14258), ('characters', 14250), ('returned', 14237), ('코드', 14231), ('*', 14224), ('종료', 14205), ('get', 14203), ('resource', 14184), ('MicroStrategy', 14179), ('shown', 14161), ('구조', 14101), ('fields', 14092), ('8', 14090), ('end', 14085), ('check', 14075), ('아니', 14034), ('트랜잭션', 14017), ('메뉴', 14009), ('response', 13990), ('topic', 13985), ('특정', 13954), ('sample', 13911), ('##파일', 13909), ('고객', 13884), ('performance', 13874), ('단위', 13874), ('##On', 13841), ('을', 13817), ('7', 13742), ('진행', 13742), ('reason', 13711), ('##6', 13710), ('전달', 13677), ('those', 13665), ('문제', 13646), ('add', 13638), ('supported', 13629), ('return', 13625), ('variable', 13578), ('등의', 13559), ('통한', 13550), ('result', 13527), ('address', 13515), ('state', 13478), ('##t', 13471), ('함', 13420), ('details', 13369), ('System', 13361), ('target', 13359), ('include', 13315), ('Name', 13310), ('way', 13277), ('column', 13225), ('구분', 13210), ('size', 13207), ('##려면', 13192), ('mode', 13180), ('Agent', 13148), ('##%', 13139), ('단계', 13049), ('##보수', 12976), ('document', 12942), ('text', 12939), ('put', 12939), ('sent', 12799), (\"'\", 12776), ('네트워크', 12767), ('existing', 12737), ('complete', 12726), ('전체', 12682), ('##므로', 12676), ('기업', 12660), ('path', 12629), ('resources', 12571), ('가지', 12553), ('##®', 12534), ('채널', 12504), ('본', 12491), ('appropriate', 12470), ('install', 12468), ('권한', 12459), ('displayed', 12408), ('따른', 12354), ('IP', 12349), ('에서', 12342), ('made', 12339), ('specific', 12317), ('##지만', 12301), ('managers', 12282), ('calls', 12242), ('during', 12214), ('contain', 12198), ('functions', 12195), ('검증', 12194), ('execution', 12179), ('–', 12160), ('##=', 12152), ('옵션', 12147), ('정상', 12119), ('{', 12110), ('window', 12099), ('components', 12097), ('allows', 12034), ('위하', 12023), ('most', 12000), ('could', 11993), ('버전', 11944), ('possible', 11930), ('페이지', 11919), ('context', 11904), ('여부', 11888), ('##사업', 11852), ('됩니다', 11849), ('insert', 11840), ('##사항', 11807), ('maximum', 11800), ('point', 11798), ('위치', 11797), ('space', 11751), ('출력', 11748), ('machine', 11744), ('##본', 11715), ('host', 11707), ('변환', 11704), ('generated', 11692), ('백업', 11687), ('agent', 11685), ('Table', 11674), ('검색', 11667), ('일반', 11635), ('processes', 11605), ('Version', 11600), ('action', 11567), ('접근', 11540), ('V', 11531), ('elements', 11513), ('given', 11508), ('based', 11489), ('데이터베이스', 11488), ('존재', 11463), ('software', 11462), ('##릭', 11424), ('현재', 11385), ('non', 11372), ('##There', 11361), ('##월', 11354), ('handle', 11346), ('는', 11346), ('tables', 11295), ('명령', 11292), ('already', 11261), ('speci', 11246), ('##는지', 11239), ('Linux', 11223), ('password', 11214), ('TCP', 11210), ('로', 11210), ('여러', 11209), ('programs', 11209), ('##Cause', 11206), ('인증', 11194), ('read', 11190), ('started', 11183), ('installed', 11181), ('many', 11160), ('요구', 11158), ('##SQL', 11145), ('##고자', 11138), ('S', 11125), ('back', 11078), ('어댑터', 11075), ('next', 11074), ('모듈', 11016), ('domain', 11009), ('session', 11004), ('##C', 10991), ('form', 10985), ('header', 10969), ('copy', 10951), ('port', 10920), ('destination', 10895), ('자료', 10867), ('접속', 10863), ('##폼', 10863), ('buffer', 10845), ('영역', 10845), ('identifier', 10830), ('##조', 10817), ('automatically', 10814), ('##시간', 10785), ('##으로써', 10779), ('define', 10760), ('events', 10752), ('두', 10742), ('노드', 10729), ('통신', 10729), ('##le', 10702), ('##수신', 10702), ('명', 10699), ('over', 10687), ('selected', 10675), ('display', 10673), ('send', 10616), ('perform', 10597), ('기', 10594), ('기록', 10592), ('exception', 10589), ('통하', 10587), ('기관', 10569), ('개인', 10547), ('would', 10530), ('##Select', 10524), ('stored', 10506), ('별', 10501), ('UNIX', 10467), ('메트', 10444), ('##name', 10437), ('written', 10433), ('##7', 10429), ('what', 10409), ('##DB', 10394), ('함수', 10383), ('ESB', 10375), ('배치', 10369), ('##다음', 10350), ('모델', 10343), ('##All', 10335), ('부분', 10329), ('연동', 10326), ('URL', 10309), ('##예', 10301), ('##i', 10287), ('들', 10287), ('&', 10281), ('Client', 10269), ('내부', 10264), ('test', 10234), ('while', 10216), ('직접', 10199), ('connect', 10130), ('반영', 10123), ('Set', 10109), ('효율', 10091), ('주', 10077), ('memory', 10023), ('위해서', 10021), ('##W', 10013), ('returns', 10008), ('##주', 9995), ('full', 9974), ('교육', 9958), ('sets', 9944), ('##중', 9916), ('now', 9908), ('unit', 9907), ('##통합', 9899), ('모두', 9882), ('##개발', 9881), ('determine', 9842), ('된다', 9840), ('##라', 9840), ('enter', 9782), ('##Action', 9749), ('##사용자', 9742), ('SSL', 9706), ('이벤트', 9704), ('content', 9687), ('##이나', 9682), ('방안', 9677), ('right', 9657), ('어플리케이션', 9657), ('bytes', 9655), ('때문', 9650), ('에러', 9636), ('Configuration', 9625), ('profile', 9615), ('procedure', 9609), ('##As', 9606), ('additional', 9605), ('##로부터', 9600), ('##간', 9598), ('steps', 9591), ('##Each', 9588), ('가', 9573), ('active', 9561), ('below', 9549), ('channels', 9548), ('Object', 9523), ('제시', 9513), ('공유', 9472), ('box', 9454), ('평가', 9450), ('##수', 9434), ('MTE', 9429), ('ensure', 9416), ('record', 9402), ('IT', 9396), ('##였', 9396), ('크기', 9388), ('CICS', 9379), ('location', 9375), ('reference', 9372), ('describes', 9351), ('기존', 9347), ('like', 9344), ('9', 9344), ('안', 9342), ('비즈니스', 9340), ('operations', 9330), ('including', 9329), ('의해', 9327), ('##Click', 9327), ('User', 9306), ('OS', 9305), ('String', 9294), ('operating', 9260), ('##·', 9251), ('설계', 9237), ('##했', 9231), ('This', 9225), ('의미', 9225), ('##토리', 9221), ('management', 9211), ('##으면', 9192), ('methods', 9175), ('##있', 9167), ('12', 9166), ('상황', 9154), ('under', 9083), ('requests', 9076), ('##송신', 9063), ('실시간', 9054), ('query', 9040), ('integration', 9032), ('take', 9029), ('activity', 9007), ('trace', 9006), ('own', 9003), ('means', 8988), ('예', 8971), ('products', 8953), ('컴포넌트', 8946), ('배포', 8919), ('##용', 8875), ('##형', 8866), ('results', 8859), ('결정', 8849), ('nodes', 8834), ('고려', 8831), ('shared', 8825), ('##는다', 8822), ('configure', 8812), ('대하', 8805), ('경로', 8800), ('##지원', 8777), ('entry', 8760), ('정책', 8753), ('errors', 8733), ('schema', 8716), ('classes', 8707), ('##운영', 8701), ('tasks', 8676), ('index', 8669), ('status', 8658), ('setting', 8645), ('##사용', 8642), ('##10', 8633), ('기간', 8619), ('조건', 8612), ('자', 8611), ('안정', 8607), ('includes', 8606), ('standard', 8602), ('협의', 8598), ('last', 8597), ('implementation', 8593), ('외부', 8585), ('#', 8584), ('##기술', 8578), ('update', 8574), ('link', 8573), ('만들', 8566), ('were', 8565), ('particular', 8556), ('생', 8556), ('servers', 8549), ('found', 8548), ('##각', 8529), ('대해서', 8528), ('확장', 8509), ('well', 8496), ('Interface', 8492), ('storage', 8481), ('##아', 8469), ('데', 8467), ('subscription', 8459), ('객체', 8449), ('correct', 8419), ('long', 8409), ('SAP', 8407), ('r', 8400), ('담당자', 8390), ('Figure', 8377), ('범위', 8350), ('##서', 8339), ('변수', 8325), ('##ed', 8323), ('dynaTrace', 8322), ('##to', 8318), ('repository', 8308), ('형태', 8275), ('##큐', 8267), ('##계', 8264), ('##We', 8263), ('품질', 8257), ('follows', 8255), ('##해당', 8240), ('LOB', 8240), ('성공', 8193), ('necessary', 8182), ('second', 8175), ('until', 8174), ('language', 8170), ('제한', 8168), ('주요', 8166), ('received', 8151), ('파', 8137), ('##됨', 8130), ('##해서', 8111), ('##겠', 8101), ('module', 8095), ('##부터', 8091), ('trigger', 8088), ('issued', 8082), ('adapter', 8074), ('##항', 8073), ('Software', 8065), ('없이', 8046), ('find', 8046), ('일', 8038), ('절차', 8034), ('확보', 8029), ('item', 7996), ('menu', 7976), ('allow', 7974), ('specifies', 7940), ('rules', 7939), ('증가', 7938), ('tree', 7938), ('v', 7937), ('그림', 7930), ('폴더', 7928), ('help', 7927), ('variables', 7889), ('connector', 7886), ('three', 7885), ('##Oracle', 7883), ('disk', 7869), ('요소', 7866), ('chapter', 7864), ('##연계', 7863), ('Database', 7862), ('100', 7861), ('Guide', 7861), ('button', 7839), ('occurs', 7838), ('##기능', 7838), ('제어', 7825), ('##권', 7825), ('delete', 7821), ('always', 7794), ('##ID', 7789), ('비', 7775), ('Enterprise', 7760), ('listed', 7759), ('영향', 7759), ('##MTE', 7756), ('internal', 7740), ('##거래', 7740), ('authentication', 7736), ('Transaction', 7730), ('많', 7729), ('If', 7727), ('##기간', 7725), ('제출', 7721), ('thread', 7716), ('수립', 7715), ('11', 7714), ('folder', 7708), ('##환경', 7707), ('B', 7706), ('settings', 7703), ('fails', 7701), ('##결과', 7699), ('##서의', 7689), ('##—', 7676), ('디렉', 7675), ('##F', 7658), ('##After', 7656), ('above', 7656), ('상세', 7655), ('choose', 7630), ('##기본', 7627), ('package', 7621), ('수집', 7595), ('named', 7584), ('소스', 7582), ('receive', 7576), ('관한', 7567), ('statements', 7565), ('definitions', 7558), ('목적', 7555), ('indicates', 7542), ('needs', 7541), ('세션', 7531), ('##따라서', 7530), ('filter', 7530), ('클래스', 7525), ('clause', 7523), ('web', 7517), ('In', 7510), ('platform', 7504), ('range', 7499), ('transactions', 7499), ('##000', 7486), ('도입', 7481), ('script', 7478), ('connected', 7474), ('시장', 7470), ('인', 7465), ('##번', 7454), ('containing', 7453), ('응용', 7446), ('##사업자', 7444), ('simple', 7442), ('##는데', 7430), ('syntax', 7427), ('write', 7425), ('승인', 7402), ('Type', 7401), ('supplied', 7400), ('logical', 7389), ('새로운', 7387), ('동작', 7372), ('실제', 7362), ('match', 7362), ('reply', 7360), ('deployment', 7324), ('added', 7322), ('cases', 7316), ('description', 7316), ('previous', 7290), ('requirements', 7284), ('##I', 7280), ('initial', 7275), ('##S', 7268), ('매핑', 7263), ('요건', 7250), ('i', 7250), ('failed', 7246), ('ESQL', 7230), ('##일의', 7226), ('개선', 7215), ('executed', 7213), ('과정', 7212), ('job', 7207), ('even', 7198), ('##구분', 7187), ('enable', 7179), ('items', 7175), ('configured', 7173), ('de', 7164), ('exist', 7145), ('clients', 7138), ('WMQ', 7132), ('실시', 7128), ('계획', 7127), ('null', 7127), ('store', 7125), ('##in', 7116), ('editor', 7115), ('클라우드', 7111), ('타입', 7109), ('apply', 7107), ('requires', 7100), ('zero', 7095), ('step', 7090), ('protocol', 7081), ('root', 7074), ('##보안', 7064), ('MQPUT', 7057), ('##Explanation', 7046), ('비용', 7040), ('추출', 7029), ('중요', 7029), ('헤더', 7023), ('creating', 7021), ('##이러', 7017), ('##12', 7015), ('복구', 7009), ('further', 7008), ('체계', 6988), ('features', 6983), ('platforms', 6977), ('sure', 6971), ('recovery', 6968), ('device', 6966), ('load', 6962), ('groups', 6959), ('development', 6955), ('several', 6945), ('현황', 6944), ('##반의', 6933), ('problems', 6927), ('최대', 6925), ('##n', 6915), ('다시', 6910), ('failure', 6900), ('##도의', 6898), ('passed', 6895), ('##Using', 6892), ('온라인', 6891), ('일정', 6889), ('검토', 6883), ('대응', 6872), ('트래픽', 6863), ('##그림', 6858), ('##}', 6857), ('pattern', 6851), ('##‘', 6830), ('NULL', 6827), ('tab', 6818), ('##+', 6814), ('패턴', 6814), ('##표준', 6804), ('interval', 6799), ('##스', 6795), ('##sharing', 6795), ('performed', 6793), ('자원', 6791), ('Services', 6776), ('require', 6775), ('our', 6765), ('##센터', 6763), ('##대상', 6763), ('에이전트', 6753), ('더', 6752), ('규정', 6751), ('##IP', 6749), ('##원', 6745), ('every', 6736), ('총', 6727), ('주기', 6720), ('sequence', 6717), ('##메시지', 6714), ('##계약', 6697), ('계정', 6693), ('의한', 6684), ('##페이지', 6672), ('large', 6670), ('image', 6668), ('row', 6664), ('사전', 6656), ('##갑', 6639), ('20', 6638), ('library', 6634), ('사이트', 6626), ('certificate', 6624), ('일부', 6623), ('completed', 6621), ('enabled', 6620), ('##가능', 6611), ('간', 6611), ('##Check', 6610), ('읽', 6599), ('SOAP', 6599), ('supports', 6598), ('원', 6595), ('##현재', 6587), ('transmission', 6583), ('##based', 6581), ('플랫', 6576), ('connections', 6576), ('→', 6575), ('##9', 6572), ('반드시', 6572), ('##Specify', 6564), ('displays', 6563), ('##click', 6558), ('date', 6548), ('요구사항', 6547), ('programming', 6531), ('enterprise', 6530), ('##11', 6524), ('이미지', 6505), ('completion', 6502), ('이전', 6489), ('가장', 6488), ('instances', 6486), ('보장', 6476), ('##자료', 6470), ('기타', 6464), ('array', 6464), ('just', 6458), ('able', 6452), ('physical', 6451), ('플로우', 6450), ('리턴', 6445), ('dialog', 6444), ('##c', 6438), ('processed', 6432), ('##By', 6431), ('tool', 6425), ('통계', 6416), ('역할', 6414), ('##등록', 6407), ('시험', 6405), ('호스트', 6387), ('이후', 6387), ('##x', 6374), ('함께', 6369), ('down', 6367), ('계산', 6357), ('이상의', 6346), ('addition', 6344), ('##간의', 6343), ('included', 6336), ('panel', 6335), ('collection', 6330), ('creates', 6326), ('공통', 6326), ('shell', 6324), ('Control', 6323), ('descriptor', 6317), ('successfully', 6315), ('customer', 6314), ('expression', 6314), ('occurred', 6306), ('##로서', 6305), ('global', 6303), ('external', 6300), ('refer', 6289), ('site', 6278), ('design', 6274), ('##내', 6274), ('Center', 6267), ('again', 6260), ('Management', 6256), ('$', 6250), ('changed', 6246), ('identify', 6235), ('##Any', 6235), ('columns', 6227), ('still', 6225), ('16', 6220), ('listener', 6217), ('##요청', 6216), ('x', 6211), ('맞', 6206), ('조직', 6198), ('제안', 6194), ('directly', 6188), ('도구', 6184), ('체크', 6153), ('상호', 6145), ('오른쪽', 6143), ('15', 6128), ('examples', 6128), ('monitor', 6126), ('needed', 6118), ('창', 6115), ('remove', 6113), ('액세스', 6107), ('##보다', 6106), ('##Create', 6102), ('구동', 6092), ('프로토콜', 6091), ('documentation', 6089), ('지속', 6088), ('##등', 6088), ('MQGET', 6087), ('transfer', 6082), ('commit', 6080), ('##문서', 6071), ('contact', 6071), ('##$', 6063), ('##Specifies', 6062), ('최소', 6057), ('##--', 6052), ('모드', 6052), ('rule', 6031), ('common', 6029), ('전자', 6021), ('occur', 6016), ('cause', 6016), ('contents', 6002), ('##째', 5979), ('administrator', 5977), ('##상', 5973), ('complex', 5972), ('currently', 5971), ('##인터페이스', 5967), ('이행', 5967), ('점검', 5955), ('##드', 5952), ('dynamic', 5947), ('##대', 5943), ('##GB', 5928), ('An', 5923), ('로그인', 5917), ('->', 5908), ('제거', 5901), ('modify', 5899), ('across', 5895), ('고', 5892), ('##만약', 5892), ('부여', 5889), ('Reference', 5885), ('issue', 5884), ('할당', 5877), ('제외', 5871), ('된', 5870), ('exists', 5862), ('show', 5861), ('신규', 5852), ('자체', 5840), ('present', 5838), ('장비', 5836), ('##면서', 5836), ('tools', 5823), ('메모리', 5818), ('CPU', 5816), ('##일반', 5813), ('##․', 5812), ('30', 5807), ('attempt', 5802), ('’', 5799), ('look', 5799), ('separate', 5796), ('##받', 5782), ('##수행', 5782), ('member', 5778), ('corresponding', 5774), ('##어서', 5772), ('비밀', 5771), ('##프로그램', 5770), ('##보', 5767), ('초기', 5765), ('stream', 5757), ('restart', 5756), ('behavior', 5753), ('##업자', 5752), ('terminal', 5751), ('##트리', 5745), ('##계획', 5738), ('높', 5734), ('high', 5730), ('left', 5730), ('execute', 5728), ('deploy', 5728), ('##테스트', 5726), ('보호', 5723), ('금융', 5722), ('special', 5722), ('될', 5720), ('stop', 5713), ('탭', 5707), ('##설명', 5705), ('##아래', 5704), ('##&', 5691), ('주소', 5686), ('MQSC', 5673), ('이동', 5672), ('##라는', 5670), ('##화면', 5662), ('32', 5661), ('book', 5661), ('패킷', 5658), ('backup', 5655), ('here', 5644), ('못', 5642), ('측정', 5631), ('해결', 5631), ('W', 5630), ('instead', 5629), ('important', 5628), ('Connector', 5628), ('allowed', 5614), ('##내용', 5607), ('unique', 5602), ('J', 5593), ('인력', 5590), ('runtime', 5589), ('조치', 5588), ('##팀', 5581), ('Developer', 5580), ('##모듈', 5578), ('area', 5570), ('활성', 5569), ('추진', 5565), ('place', 5560), ('integer', 5556), ('##시키', 5552), ('##모든', 5552), ('동안', 5550), ('편집', 5545), ('분야', 5540), ('reports', 5535), ('related', 5533), ('console', 5533), ('최', 5530), ('가상', 5530), ('키', 5529), ('##B', 5511), ('##단계', 5504), ('개별', 5500), ('말', 5492), ('times', 5491), ('true', 5489), ('번호', 5479), ('세부', 5478), ('custom', 5473), ('번', 5470), ('보유', 5469), ('##public', 5467), ('less', 5465), ('top', 5463), ('policy', 5461), ('책임', 5461), ('build', 5460), ('JDBC', 5460), ('utility', 5454), ('##그룹', 5451), ('Chapter', 5449), ('account', 5438)]\n"
     ]
    }
   ],
   "source": [
    "# FreqDist를 이용하여 빈도수 계산(*오래걸림)\n",
    "vocab = FreqDist(np.hstack(total_words))\n",
    "\n",
    "print('단어 집합의 크기 : {}'.format(len(vocab)))\n",
    "\n",
    "# 최대 빈도수 가장높은 1500개만 뽑아봄\n",
    "print(vocab.most_common(1500))\n",
    "\n",
    "# 특정 단어의 빈도수를 뽑아봄\n",
    "#print(vocab['미국'])\n"
   ]
  },
  {
   "cell_type": "code",
   "execution_count": 7,
   "id": "a22c1ccf-d857-402c-bd74-294e01073d6e",
   "metadata": {},
   "outputs": [
    {
     "name": "stdout",
     "output_type": "stream",
     "text": [
      "*단어 집합의 크기 : 32000\n",
      "*마지막 단어 정보 : ('HAProxy', 51)\n"
     ]
    }
   ],
   "source": [
    "# 상위 32000 개만 보존\n",
    "vocab_size = 32000\n",
    "vocab1 = vocab.most_common(vocab_size)\n",
    "\n",
    "vocab_len = len(vocab1)\n",
    "print('*단어 집합의 크기 : {}'.format(vocab_len))\n",
    "print('*마지막 단어 정보 : {}'.format(vocab1[vocab_len-1]))"
   ]
  },
  {
   "cell_type": "code",
   "execution_count": null,
   "id": "d2b936eb-4201-4257-8961-b1bbcb47119e",
   "metadata": {},
   "outputs": [],
   "source": [
    "\n",
    "'''\n",
    "import seaborn as sns\n",
    "import pandas as pd\n",
    "vocab2 = vocab.most_common(10)\n",
    "\n",
    "all_fdist = pd.Series(dict(vocab2))\n",
    "fig, ax = plt.subplots(figsize=(10,10))\n",
    "## Seaborn plotting using Pandas attributes + xtick rotation for ease of viewing\n",
    "all_plot = sns.barplot(x=all_fdist.index, y=all_fdist.values, ax=ax)\n",
    "plt.xticks(rotation=30);\n",
    "'''"
   ]
  },
  {
   "cell_type": "code",
   "execution_count": 8,
   "id": "04324119-dadd-4f50-bd8c-a51fab023fca",
   "metadata": {},
   "outputs": [
    {
     "data": {
      "application/vnd.jupyter.widget-view+json": {
       "model_id": "3bbaf1d25f184363ac175dc64abb7e3b",
       "version_major": 2,
       "version_minor": 0
      },
      "text/plain": [
       "0it [00:00, ?it/s]"
      ]
     },
     "metadata": {},
     "output_type": "display_data"
    },
    {
     "name": "stdout",
     "output_type": "stream",
     "text": [
      "['##This', '##적', '##된', '##다', '##과', '경우', '##합니다', 'it', 'from', '##습니다', 'data', '##If', 'use', '데이터', '시스템', 'MQ', 'name', '##와', '##”', 'WebSphere']\n"
     ]
    }
   ],
   "source": [
    "# vocab을 list로 만듬\n",
    "new_vocab = []\n",
    "for index, word in tqdm(enumerate(vocab1)):\n",
    "    new_vocab.append(word[0])  # fword[0] 하면 단어만 추출\n",
    "    \n",
    "# 리스트 출력해봄\n",
    "print(new_vocab[50:70])\n",
    "#print(vocab['음악당'])\n"
   ]
  },
  {
   "cell_type": "code",
   "execution_count": 9,
   "id": "d5ff872f-9f1e-4364-b2be-0a43ef7a65a8",
   "metadata": {},
   "outputs": [
    {
     "data": {
      "application/vnd.jupyter.widget-view+json": {
       "model_id": "d0b8e8a8d3e64606b8c047b180351842",
       "version_major": 2,
       "version_minor": 0
      },
      "text/plain": [
       "  0%|          | 0/32000 [00:00<?, ?it/s]"
      ]
     },
     "metadata": {},
     "output_type": "display_data"
    }
   ],
   "source": [
    "# new_vocab을 파일로 저장함\n",
    "new_vocab_out = './moco-vocab/moco-corpus-32000-vocab.txt'\n",
    "with open(new_vocab_out, 'w', encoding='utf-8') as f:\n",
    "    for word in tqdm(new_vocab):\n",
    "        f.write(word+'\\n')"
   ]
  },
  {
   "cell_type": "code",
   "execution_count": 10,
   "id": "d4825424-1f11-4029-bde4-ce7a6eb04e1f",
   "metadata": {},
   "outputs": [
    {
     "data": {
      "application/vnd.jupyter.widget-view+json": {
       "model_id": "4f5f495a97b84565b40e896235717417",
       "version_major": 2,
       "version_minor": 0
      },
      "text/plain": [
       "  0%|          | 0/32001 [00:00<?, ?it/s]"
      ]
     },
     "metadata": {},
     "output_type": "display_data"
    },
    {
     "name": "stdout",
     "output_type": "stream",
     "text": [
      "['the', 'to', '##하', '##는', '##을', 'a', 'of', 'is', '##를', '##에']\n"
     ]
    }
   ],
   "source": [
    "# new_vocab 파일을 불러옴.\n",
    "#new_vocab_out = 'new_vocab.txt'\n",
    "\n",
    "# 2차 불용어 정의\n",
    "#stopwords=['##다', '##하', '있', '##고', '##로', '##한', '##적', '##되', '##었', '##_']\n",
    "stopwords=['##_', '〈', '..']\n",
    "\n",
    "new_vocab = []\n",
    "with open(new_vocab_out, 'r', encoding='utf-8') as f:\n",
    "    data = f.read().split('\\n')\n",
    "\n",
    "for word in tqdm(data):\n",
    "    if not word in stopwords:  # 2차 불용어는 제외\n",
    "        new_vocab.append(word)\n",
    "        \n",
    "print(new_vocab[0:10])"
   ]
  },
  {
   "cell_type": "code",
   "execution_count": 12,
   "id": "97c96a06-3154-48f9-a596-84b3a152c252",
   "metadata": {},
   "outputs": [
    {
     "name": "stdout",
     "output_type": "stream",
     "text": [
      "bongsoo/mdistilbertV1.1 is_fast:True\n"
     ]
    }
   ],
   "source": [
    "from transformers import AutoTokenizer\n",
    "# bongsoo/mdistilbertV1.1 모델 불러옴.\n",
    "vocab_path=\"bongsoo/mdistilbertV1.1\"\n",
    "\n",
    "tokenizer = AutoTokenizer.from_pretrained(vocab_path, do_lower_case=False)\n",
    "# fast 토크너나이즈인지 확인\n",
    "print(f'{vocab_path} is_fast:{tokenizer.is_fast}')"
   ]
  },
  {
   "cell_type": "code",
   "execution_count": 14,
   "id": "a67a1c39-a8f2-4d3f-8b97-5920179980cf",
   "metadata": {},
   "outputs": [
    {
     "data": {
      "text/plain": [
       "('./moco-vocab/mdistilbertV1.1/tokenizer_config.json',\n",
       " './moco-vocab/mdistilbertV1.1/special_tokens_map.json',\n",
       " './moco-vocab/mdistilbertV1.1/vocab.txt',\n",
       " './moco-vocab/mdistilbertV1.1/added_tokens.json',\n",
       " './moco-vocab/mdistilbertV1.1/tokenizer.json')"
      ]
     },
     "execution_count": 14,
     "metadata": {},
     "output_type": "execute_result"
    }
   ],
   "source": [
    "# tokenizer 저장\n",
    "SAVE_VOCAB_PATH = './moco-vocab/mdistilbertV1.1'\n",
    "tokenizer.save_pretrained(SAVE_VOCAB_PATH)"
   ]
  },
  {
   "cell_type": "code",
   "execution_count": 15,
   "id": "4be46a8a-f837-49e4-887e-5d43c41cf183",
   "metadata": {},
   "outputs": [
    {
     "data": {
      "application/vnd.jupyter.widget-view+json": {
       "model_id": "7bb5dd0e15b24d82ac420d5b90863ec4",
       "version_major": 2,
       "version_minor": 0
      },
      "text/plain": [
       "  0%|          | 0/146444 [00:00<?, ?it/s]"
      ]
     },
     "metadata": {},
     "output_type": "display_data"
    },
    {
     "name": "stdout",
     "output_type": "stream",
     "text": [
      "146444\n",
      "['વ', 'શ', 'ષ', 'સ']\n"
     ]
    }
   ],
   "source": [
    "# 원래 vocab 리스트로 읽어옴\n",
    "org_vocab_out = './moco-vocab/mdistilbertV1.1/vocab.txt'\n",
    "org_vocab = []\n",
    "\n",
    "with open(org_vocab_out, 'r', encoding='utf-8') as f:\n",
    "    data = f.read().split('\\n')\n",
    "    \n",
    "for vocab in tqdm(data):\n",
    "     org_vocab.append(vocab)\n",
    "\n",
    "print(len(org_vocab))\n",
    "print(org_vocab[1111:1115])"
   ]
  },
  {
   "cell_type": "code",
   "execution_count": 16,
   "id": "d9ff7adf-befa-4dd3-aeb1-2e4e1a655111",
   "metadata": {},
   "outputs": [
    {
     "name": "stdout",
     "output_type": "stream",
     "text": [
      "164315\n",
      "['વ', 'શ', 'ષ', 'સ']\n"
     ]
    }
   ],
   "source": [
    "# 신규 vocab 리스트에서 원본 vocab 리스트 중복값을 제거\n",
    "#temp = list(set(new_vocab) - set(org_vocab)) #순서 보존이 안됨\n",
    "    \n",
    "#또는\n",
    "\n",
    "s = set(org_vocab)\n",
    "temp = [x for x in new_vocab if x not in s] #순서 보존됨    \n",
    "\n",
    "vocablist = org_vocab + temp  #원본 리스트 + 중복제가한 신규리스트 2개의 리스트를 합침\n",
    "\n",
    "print(len(vocablist))\n",
    "print(vocablist[1111:1115])"
   ]
  },
  {
   "cell_type": "code",
   "execution_count": 18,
   "id": "ebdc047b-ad66-41e2-842e-17fce5dd26bb",
   "metadata": {},
   "outputs": [
    {
     "name": "stdout",
     "output_type": "stream",
     "text": [
      "vocab 파일\"./moco-vocab/moco-corpus-32000-vocab.txt\" 추가 성공!. 출력 vocab 파일 : \"./moco-vocab/mdistilbertV1.2/vocab.txt\"\n"
     ]
    }
   ],
   "source": [
    "# 리스트를 파일로 저장\n",
    "outfilepath = './moco-vocab/mdistilbertV1.2/vocab.txt'\n",
    "with open(outfilepath, 'w') as f:\n",
    "    f.write('\\n'.join(vocablist))\n",
    "    \n",
    "print('vocab 파일\"{}\" 추가 성공!. 출력 vocab 파일 : \"{}\"'.format(new_vocab_out, outfilepath))"
   ]
  },
  {
   "cell_type": "code",
   "execution_count": null,
   "id": "016358e0-def2-453e-9988-891af3270509",
   "metadata": {},
   "outputs": [],
   "source": [
    "## **** 저장된 파일을 열어서, 중간(mbert는 119548라인)에 공백이 없는지 반드시 확인.\n",
    "\n",
    "## **** 반드시 또 추가할 단어들(예:문서중앙화, 보안파일서버, 엠파워, 모코엠시스, MOCOMSYS, MPOWER, EZis-C 등) 파일 맨 끝에 추가 *단 기존에 추가되어있는지 확인 필요"
   ]
  },
  {
   "cell_type": "code",
   "execution_count": 19,
   "id": "3bfb223a-273f-4c78-90ce-2675c7b64764",
   "metadata": {},
   "outputs": [],
   "source": [
    "# BertTokenizer 로 새롭게 저장된 vocalfile 불러옴\n",
    "tokenizer = BertTokenizer(vocab_file=outfilepath, \n",
    "                          strip_accents=False, \n",
    "                          do_lower_case=False)"
   ]
  },
  {
   "cell_type": "code",
   "execution_count": 20,
   "id": "2d40acc9-034d-4f3c-940b-38d657ce8839",
   "metadata": {},
   "outputs": [],
   "source": [
    "add_special_token = False\n",
    "\n",
    "if add_special_token:\n",
    "    # 옵션 : 저장된 add_new_vocab.txt를 불러와서 special 토큰 추가함\n",
    "    special_tokens=['[BOS]', '[EOS]', '[UNK0]', '[UNK1]', '[UNK2]', '[UNK3]', '[UNK4]', '[UNK5]', '[UNK6]', '[UNK7]', '[UNK8]', '[UNK9]',\n",
    "                    '[unused0]', '[unused1]', '[unused2]', '[unused3]', '[unused4]', '[unused5]', '[unused6]', '[unused7]', '[unused8]', '[unused9]',]\n",
    "\n",
    "    special_tokens_dict = {'additional_special_tokens': special_tokens}\n",
    "    tokenizer.add_special_tokens(special_tokens_dict)\n",
    "\n",
    "    # special token 체크\n",
    "    print(tokenizer.all_special_tokens)"
   ]
  },
  {
   "cell_type": "code",
   "execution_count": 21,
   "id": "431f8a3e-aebd-4e09-9ae6-4bc0b92fddb8",
   "metadata": {},
   "outputs": [
    {
     "data": {
      "text/plain": [
       "('./moco-vocab/mdistilbertV1.2/tokenizer_config.json',\n",
       " './moco-vocab/mdistilbertV1.2/special_tokens_map.json',\n",
       " './moco-vocab/mdistilbertV1.2/vocab.txt',\n",
       " './moco-vocab/mdistilbertV1.2/added_tokens.json')"
      ]
     },
     "execution_count": 21,
     "metadata": {},
     "output_type": "execute_result"
    }
   ],
   "source": [
    "# special token 추가한 special vocab을 저장함\n",
    "import os\n",
    "OUT_PATH = './moco-vocab/mdistilbertV1.2/'\n",
    "os.makedirs(OUT_PATH, exist_ok=True)\n",
    "tokenizer.save_pretrained(OUT_PATH)"
   ]
  },
  {
   "cell_type": "code",
   "execution_count": null,
   "id": "3bfb0a60-e94e-49ac-9d06-49c5cf6ea487",
   "metadata": {},
   "outputs": [],
   "source": [
    "'''\n",
    "#=============================================================================================\n",
    "# add_tokens으로 추가하면, BertTokenizer.from_pretrained() 함수로 호출할때, 호출이 안됨(**이유 모름)\n",
    "# => 따라서 직접 vocab.txt에 추가하는 방법을 사용함\n",
    "#=============================================================================================\n",
    "\n",
    "# 기존 bert tokenizer 로딩\n",
    "vocab_path = '../model/bert/bert-multilingual-cased/vocab'\n",
    "tokenizer = BertTokenizer.from_pretrained(vocab_path)\n",
    "print(f'*기존 vocab 수: {len(tokenizer)}')\n",
    "\n",
    "# 기존 bert tokenizer에 신규 vocab 추가함 \n",
    "new_token_num = tokenizer.add_tokens(new_vocab)\n",
    "print(f'*신규 vocab 수: {len(tokenizer)}')\n",
    "print(f'*추가된 vocab: {new_token_num}')\n",
    "\n",
    "# 추가된 tokenizer 저장\n",
    "# => 추가된 token들은 added_tokens.json에 저장된다.\n",
    "import os\n",
    "OUT_PATH = 'new_vocab_nouns'\n",
    "os.makedirs(OUT_PATH, exist_ok=True)\n",
    "tokenizer.save_pretrained(OUT_PATH)\n",
    "'''"
   ]
  }
 ],
 "metadata": {
  "kernelspec": {
   "display_name": "Python 3 (ipykernel)",
   "language": "python",
   "name": "python3"
  },
  "language_info": {
   "codemirror_mode": {
    "name": "ipython",
    "version": 3
   },
   "file_extension": ".py",
   "mimetype": "text/x-python",
   "name": "python",
   "nbconvert_exporter": "python",
   "pygments_lexer": "ipython3",
   "version": "3.9.7"
  }
 },
 "nbformat": 4,
 "nbformat_minor": 5
}

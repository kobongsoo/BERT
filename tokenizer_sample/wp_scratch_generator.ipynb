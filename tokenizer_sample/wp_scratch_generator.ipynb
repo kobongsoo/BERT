{
 "cells": [
  {
   "cell_type": "code",
   "execution_count": 1,
   "id": "e1d917d8-7e21-4948-b647-d8c7f4090dd9",
   "metadata": {},
   "outputs": [],
   "source": [
    "#==============================================================================================\n",
    "# 기존 bert vocab 형태의 새로운 vocab tokenizer 만들기\n",
    "#\n",
    "# => 기존 bert vocab을 모두 지우고, 새로운 vocab을 가지는 tokenizer 만들기\n",
    "# => AutoTokenizer.train_new_from_iterator() 이용\n",
    "# => 기존 bert-base-cased 모델에 있는 기존 영문 vocab들 대신에 한국어 말뭉치를 가지고 새롭게 한국어 vocab을 만든다.\n",
    "#\n",
    "# => 말뭉치데이터는 python 제너레이터 형태로 만든다.\n",
    "# => yield 문을 사용하여 for 루프 내에서 제너레이터(generator)를 정의한다.\n",
    "#\n",
    "# 출처 : https://wikidocs.net/166821\n",
    "#\n",
    "# 허깅페이스 허브를 이용하여, 토크너나이즈 올리기\n",
    "# => git 설치되어 있어야 함.\n",
    "# => 출처 : https://zerolang.tistory.com/65\n",
    "#\n",
    "#==============================================================================================\n",
    "import konlpy\n",
    "from konlpy.tag import Mecab\n",
    "from tqdm.notebook import tqdm\n",
    "from nltk import FreqDist\n",
    "import numpy as np\n",
    "import torch\n",
    "from transformers import BertTokenizer\n",
    "import os\n",
    "from os import sys\n",
    "sys.path.append('../')\n",
    "from myutils import seed_everything\n",
    "\n",
    "seed_everything(111)\n",
    "\n",
    "# 입력 말뭉치\n",
    "corpus = '../../data11/my_corpus/re-kowiki202206-moco2.txt'\n",
    "# MECAB으로 전처리된 말뭉치\n",
    "out_corpus = '../../data11/my_corpus/re-kowiki202206-moco2-mecab.txt'"
   ]
  },
  {
   "cell_type": "code",
   "execution_count": 2,
   "id": "90b3eed1-4e8d-4fb6-83eb-57657e14f37b",
   "metadata": {},
   "outputs": [
    {
     "name": "stdout",
     "output_type": "stream",
     "text": [
      "['스포츠 팀 문화 활동 해외 여행 등의 다양한 과외활동을 제공한다', '남자 자유형 200m 종목의 예선기준 기록은 1분 47초 02이다', '1785년 정조 9 당시 성균관 대사성 민종현 이 왕명에 의해 편찬한 태학지 건치 에 반궁도 가 목판화로 있는데 본 계첩과 30여 년의 시간적 차이가 있어서 그간에 변화된 성균관의 건물을 비교해 볼 수 있다']\n",
      "*len:7051665\n"
     ]
    },
    {
     "data": {
      "application/vnd.jupyter.widget-view+json": {
       "model_id": "cd2ba67445204769a3b5f385dc65b43e",
       "version_major": 2,
       "version_minor": 0
      },
      "text/plain": [
       "  0%|          | 0/7051665 [00:00<?, ?it/s]"
      ]
     },
     "metadata": {},
     "output_type": "display_data"
    },
    {
     "data": {
      "application/vnd.jupyter.widget-view+json": {
       "model_id": "c3a190e8e3944704ac49826e2781160e",
       "version_major": 2,
       "version_minor": 0
      },
      "text/plain": [
       "  0%|          | 0/7051665 [00:00<?, ?it/s]"
      ]
     },
     "metadata": {},
     "output_type": "display_data"
    }
   ],
   "source": [
    "#한국어 말뭉치인 경우에는 mecab(메케브)로 전처리 해줌\n",
    "##### Mecab 를 이용하여, 말뭉치 형태소 분석 \n",
    "with open(corpus, 'r', encoding='utf-8') as f:\n",
    "    data = f.read().split('\\n')\n",
    "\n",
    "print(data[:3])\n",
    "print(f'*len:{len(data)}')\n",
    "\n",
    "mecab = Mecab()\n",
    "# False: '어릴때' -> '어릴', '때' 로 일반화 시킴\n",
    "total_morph=[]\n",
    "\n",
    "for sentence in tqdm(data):\n",
    "    morph_sentence = mecab.morphs(sentence)\n",
    "    total_morph.append(morph_sentence)\n",
    "    \n",
    "# 파일로 저장\n",
    "with open(out_corpus, 'w', encoding='utf-8') as f:\n",
    "    for line in tqdm(total_morph):\n",
    "        # ** 앞에 ' ' 공백을 넣어서 형태로 별로 분리하여 저장함\n",
    "        f.write(' '.join(line)+'\\n')"
   ]
  },
  {
   "cell_type": "code",
   "execution_count": 3,
   "id": "100e08a3-39ef-4629-aba8-e0ae70893747",
   "metadata": {},
   "outputs": [
    {
     "data": {
      "application/vnd.jupyter.widget-view+json": {
       "model_id": "6d2a8132218a49c7a939a38b905379f0",
       "version_major": 2,
       "version_minor": 0
      },
      "text/plain": [
       "  0%|          | 0/7051665 [00:00<?, ?it/s]"
      ]
     },
     "metadata": {},
     "output_type": "display_data"
    },
    {
     "name": "stdout",
     "output_type": "stream",
     "text": [
      "['스포츠 팀 문화 활동 해외 여행 등 의 다양 한 과외 활동 을 제공 한다', '남자 자유형 200 m 종목 의 예선 기준 기록 은 1 분 47 초 02 이 다', '1785 년 정조 9 당시 성균관 대사성 민 종현 이 왕명 에 의해 편찬 한 태학 지 건치 에 반궁 도 가 목판화 로 있 는데 본 계첩 과 30 여 년 의 시간 적 차이 가 있 어서 그간 에 변화 된 성균관 의 건물 을 비교 해 볼 수 있 다']\n",
      "7051665\n"
     ]
    }
   ],
   "source": [
    "# wiki_20190620.txt 말뭉치 불러옴.\n",
    "#corpus = '../../data11/my_corpus/re-moco-corpus2.txt'\n",
    "#corpus = '../../data11/my_corpus/re-kowiki-202206.txt'\n",
    "#corpus = '../../data11/my_corpus/test.txt'\n",
    "\n",
    "with open(out_corpus, 'r', encoding='utf-8') as f:\n",
    "    data = [line for line in tqdm(f.read().splitlines()) if (len(line) > 0 and not line.isspace())]\n",
    "\n",
    "print(data[:3])\n",
    "print(len(data))"
   ]
  },
  {
   "cell_type": "code",
   "execution_count": null,
   "id": "b10fc504-3a05-44e4-b205-e63b023ef1a2",
   "metadata": {},
   "outputs": [],
   "source": [
    "'''\n",
    "# 제너레이터생성\n",
    "# Python 제너레이터(generator)를 사용하면 실제로 필요할 때까지 Python이 메모리에 아무 것도 로드하지 않도록 할 수 있다.\n",
    "# 이러한 생성기를 만들려면 꺽쇠괄호(brackets)를 소괄호(parentheses)로 바꾸기만 하면 된다.\n",
    "def get_training_corpus():\n",
    "    return (\n",
    "        raw_datasets[\"train\"][i : i + 1000][\"whole_func_string\"]\n",
    "        for i in range(0, len(raw_datasets[\"train\"]), 1000)\n",
    "    )\n",
    "\n",
    "training_corpus = get_training_corpus()\n",
    "'''"
   ]
  },
  {
   "cell_type": "code",
   "execution_count": 4,
   "id": "125c41d1-c4e9-484b-8fdd-1a964eea85ac",
   "metadata": {},
   "outputs": [],
   "source": [
    "#yield 문을 사용하여 for 루프 내에서 제너레이터(generator)를 정의할 수도 있다.\n",
    "def get_generator_corpus(max_len: int=100000):\n",
    "    print(f\"len:{max_len}\")\n",
    "    dataset = data\n",
    "    for start_idx in range(0, len(dataset), max_len):\n",
    "        samples = dataset[start_idx : start_idx + max_len]\n",
    "        #print(samples)\n",
    "        yield samples\n",
    "        \n",
    "training_corpus = get_generator_corpus()"
   ]
  },
  {
   "cell_type": "code",
   "execution_count": 5,
   "id": "f4c35680-f498-4358-a665-96b2f923590b",
   "metadata": {},
   "outputs": [
    {
     "data": {
      "text/plain": [
       "<generator object get_generator_corpus at 0x7f4ea1f77660>"
      ]
     },
     "execution_count": 5,
     "metadata": {},
     "output_type": "execute_result"
    }
   ],
   "source": [
    "training_corpus"
   ]
  },
  {
   "cell_type": "code",
   "execution_count": 6,
   "id": "00b7b771-46e2-4f98-9026-41eb88d7f894",
   "metadata": {},
   "outputs": [],
   "source": [
    "# 기존 bert-base-cased 모델 로딩\n",
    "from transformers import AutoTokenizer\n",
    "old_tokenizer = AutoTokenizer.from_pretrained('distilbert-base-multilingual-cased')"
   ]
  },
  {
   "cell_type": "code",
   "execution_count": 7,
   "id": "70a862a6-ea1a-4446-a669-8e94f95b1064",
   "metadata": {},
   "outputs": [
    {
     "data": {
      "text/plain": [
       "['i',\n",
       " 'love',\n",
       " 'you',\n",
       " '오',\n",
       " '##늘',\n",
       " '##은',\n",
       " '날',\n",
       " '##씨',\n",
       " '##가',\n",
       " '참',\n",
       " '좋',\n",
       " '##다',\n",
       " '.']"
      ]
     },
     "execution_count": 7,
     "metadata": {},
     "output_type": "execute_result"
    }
   ],
   "source": [
    "# 기존 토큰 테스트 \n",
    "example = '''i love you\n",
    "    오늘은 날씨가 참 좋다.\n",
    "    '''\n",
    "\n",
    "tokens = old_tokenizer.tokenize(example)\n",
    "tokens"
   ]
  },
  {
   "cell_type": "code",
   "execution_count": 8,
   "id": "407eacf4-640c-429b-aa1c-576495ece85b",
   "metadata": {},
   "outputs": [
    {
     "name": "stdout",
     "output_type": "stream",
     "text": [
      "len:100000\n",
      "\n",
      "\n",
      "\n"
     ]
    }
   ],
   "source": [
    "# 학습 시작 (**오래 걸림)\n",
    "# => 새로운 토큰을 만듬. vocab 수는 32000개\n",
    "tokenizer = old_tokenizer.train_new_from_iterator(training_corpus, 62000)"
   ]
  },
  {
   "cell_type": "code",
   "execution_count": 9,
   "id": "01427411-f139-4a42-afb6-b1c2aa955785",
   "metadata": {},
   "outputs": [
    {
     "data": {
      "text/plain": [
       "['i', 'love', 'you', '오늘', '##은', '날씨', '##가', '참', '좋', '##다', '[UNK]']"
      ]
     },
     "execution_count": 9,
     "metadata": {},
     "output_type": "execute_result"
    }
   ],
   "source": [
    "# 새롭게 만든 토큰 테스트 \n",
    "tokens = tokenizer.tokenize(example)\n",
    "tokens"
   ]
  },
  {
   "cell_type": "code",
   "execution_count": 10,
   "id": "dc6b51fc-4689-4a70-8e37-ff11a4c25ce1",
   "metadata": {},
   "outputs": [
    {
     "data": {
      "text/plain": [
       "('../../data11/my_corpus/vocab/bert-re-kowiki202206-moco2-mecab-62000/tokenizer_config.json',\n",
       " '../../data11/my_corpus/vocab/bert-re-kowiki202206-moco2-mecab-62000/special_tokens_map.json',\n",
       " '../../data11/my_corpus/vocab/bert-re-kowiki202206-moco2-mecab-62000/vocab.txt',\n",
       " '../../data11/my_corpus/vocab/bert-re-kowiki202206-moco2-mecab-62000/added_tokens.json',\n",
       " '../../data11/my_corpus/vocab/bert-re-kowiki202206-moco2-mecab-62000/tokenizer.json')"
      ]
     },
     "execution_count": 10,
     "metadata": {},
     "output_type": "execute_result"
    }
   ],
   "source": [
    "# 학습된 tokenizer 저장\n",
    "tokenizer.save_pretrained(\"../../data11/my_corpus/vocab/bert-re-kowiki202206-moco2-mecab-62000\")"
   ]
  },
  {
   "cell_type": "code",
   "execution_count": null,
   "id": "20b757e1-b0c8-41da-85b2-65b4d874b185",
   "metadata": {},
   "outputs": [],
   "source": [
    "'''\n",
    "# Hugging face 허브에 저장.\n",
    "# => 로그인 : 허깅페이스(https://huggingface.co)-settings 가면 access token이 있음\n",
    "from huggingface_hub import notebook_login\n",
    "notebook_login()\n",
    "\n",
    "# 노트북 환경이 아닌 경우에는 터미널에서 아래 입력\n",
    "# huggingface-cli login\n",
    "'''"
   ]
  },
  {
   "cell_type": "code",
   "execution_count": null,
   "id": "106dab5f-8a5f-45f0-afbb-1534d319ca46",
   "metadata": {},
   "outputs": [],
   "source": [
    "'''\n",
    "# tokenizer 허깅 페이스 허브에 푸시함.\n",
    "# 해당 이름으로 리포지토리 생성되고 추가됨\n",
    "tokenizer.push_to_hub(\"bert-tokenizer-kowiki20220620-32000\", use_temp_dir=True)\n",
    "'''"
   ]
  },
  {
   "cell_type": "code",
   "execution_count": null,
   "id": "83059716-450d-4092-b850-477fdcbeccbb",
   "metadata": {},
   "outputs": [],
   "source": [
    "'''\n",
    "# 추가한 tokenizer 불러옴.\n",
    "mytokenizer = AutoTokenizer.from_pretrained(\"kobongsoo/bert-tokenizer-kowiki20220620-32000\")\n",
    "tokens = mytokenizer.tokenize(example)\n",
    "tokens\n",
    "'''"
   ]
  }
 ],
 "metadata": {
  "kernelspec": {
   "display_name": "Python 3 (ipykernel)",
   "language": "python",
   "name": "python3"
  },
  "language_info": {
   "codemirror_mode": {
    "name": "ipython",
    "version": 3
   },
   "file_extension": ".py",
   "mimetype": "text/x-python",
   "name": "python",
   "nbconvert_exporter": "python",
   "pygments_lexer": "ipython3",
   "version": "3.9.7"
  }
 },
 "nbformat": 4,
 "nbformat_minor": 5
}

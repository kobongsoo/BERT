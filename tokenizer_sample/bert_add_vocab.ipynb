{
 "cells": [
  {
   "cell_type": "code",
   "execution_count": 1,
   "id": "1488f4af-dc6f-430a-946e-47980a9eb739",
   "metadata": {},
   "outputs": [],
   "source": [
    "# 기존 vocab.txt 에 신규 vocab.txt를 추가하는 예제\n",
    "# => 이때 중복제거\n",
    "import numpy as np\n",
    "from tqdm.notebook import tqdm"
   ]
  },
  {
   "cell_type": "code",
   "execution_count": 2,
   "id": "252c2f62-bbd0-403f-a5cb-f7984debffe8",
   "metadata": {},
   "outputs": [],
   "source": [
    "orgvocab_filepath = '../my_data/distilbert-multilingle.txt'     # 원래 vocab\n",
    "addvoca_filepath = '../my_data/wiki_2019.txt'   # 추가할 vocab\n",
    "outfilePath = '../my_data/distilbert_add_wiki_20190620_false_0311.txt'               # 원래 vocab +  추가할 vocab"
   ]
  },
  {
   "cell_type": "code",
   "execution_count": 3,
   "id": "55c2167d-59b2-460b-b7fe-b98b7599ad39",
   "metadata": {},
   "outputs": [
    {
     "data": {
      "application/vnd.jupyter.widget-view+json": {
       "model_id": "11a7699c9e8440d3a1cf83b3b185725c",
       "version_major": 2,
       "version_minor": 0
      },
      "text/plain": [
       "  0%|          | 0/119548 [00:00<?, ?it/s]"
      ]
     },
     "metadata": {},
     "output_type": "display_data"
    },
    {
     "name": "stdout",
     "output_type": "stream",
     "text": [
      "119548\n",
      "['વ', 'શ', 'ષ', 'સ']\n"
     ]
    }
   ],
   "source": [
    "# 원래 vocab 리스트로 읽어옴\n",
    "with open(orgvocab_filepath, 'r', encoding='utf-8') as f:\n",
    "    data = f.read().split('\\n')\n",
    "    \n",
    "orgdatalist=[]\n",
    "for vocab in tqdm(data):\n",
    "     orgdatalist.append(vocab)\n",
    "\n",
    "print(len(orgdatalist))\n",
    "print(orgdatalist[1111:1115])\n",
    "        "
   ]
  },
  {
   "cell_type": "code",
   "execution_count": 4,
   "id": "b81670b6-6fb2-42ff-b843-1a09b1c00354",
   "metadata": {},
   "outputs": [
    {
     "data": {
      "application/vnd.jupyter.widget-view+json": {
       "model_id": "1198522aaab84867b8955b27587ab8df",
       "version_major": 2,
       "version_minor": 0
      },
      "text/plain": [
       "  0%|          | 0/32001 [00:00<?, ?it/s]"
      ]
     },
     "metadata": {},
     "output_type": "display_data"
    },
    {
     "name": "stdout",
     "output_type": "stream",
     "text": [
      "32001\n",
      "['##U', '##재', '##옥', '##험']\n"
     ]
    }
   ],
   "source": [
    "# 원래 vocab 리스트로 읽어옴\n",
    "\n",
    "adddatalist = []\n",
    "with open(addvoca_filepath, 'r', encoding='utf-8') as f:\n",
    "    adddata = f.read().split('\\n')\n",
    "\n",
    "for addvocab in tqdm(adddata):\n",
    "    adddatalist.append(addvocab)\n",
    "\n",
    "print(len(adddatalist))\n",
    "print(adddatalist[1111:1115])"
   ]
  },
  {
   "cell_type": "code",
   "execution_count": 5,
   "id": "969acf17-9321-4e64-9af6-2f54d5e1655d",
   "metadata": {},
   "outputs": [],
   "source": [
    "# 신규 리스트에서 원본 리스트 중복값을 제거\n",
    "#temp = list(set(adddatalist) - set(orgdatalist)) #순서 보존이 안됨\n",
    "    \n",
    "#또는\n",
    "\n",
    "s = set(orgdatalist)\n",
    "temp = [x for x in adddatalist if x not in s] #순서 보존됨    \n",
    "    "
   ]
  },
  {
   "cell_type": "code",
   "execution_count": 6,
   "id": "8ebb087c-1c41-4aa6-957a-6ec6b48123e1",
   "metadata": {},
   "outputs": [
    {
     "name": "stdout",
     "output_type": "stream",
     "text": [
      "143773\n",
      "['વ', 'શ', 'ષ', 'સ']\n"
     ]
    }
   ],
   "source": [
    "vocablist = orgdatalist + temp  #원본 리스트 + 중복제가한 신규리스트 2개의 리스트를 합침\n",
    "\n",
    "print(len(vocablist))\n",
    "print(vocablist[1111:1115])"
   ]
  },
  {
   "cell_type": "code",
   "execution_count": 7,
   "id": "830c9295-a686-4f49-a3f8-38b9160f6e5a",
   "metadata": {},
   "outputs": [
    {
     "name": "stdout",
     "output_type": "stream",
     "text": [
      "vocab 파일\"../my_data/wiki_2019.txt\" 추가 성공!. 출력 vocab 파일 : \"../my_data/distilbert_add_wiki_20190620_false_0311.txt\"\n"
     ]
    }
   ],
   "source": [
    "# 리스트를 파일로 저장\n",
    "\n",
    "with open(outfilePath, 'w') as f:\n",
    "    f.write('\\n'.join(vocablist))\n",
    "    \n",
    "print('vocab 파일\"{}\" 추가 성공!. 출력 vocab 파일 : \"{}\"'.format(addvoca_filepath, outfilePath))"
   ]
  },
  {
   "cell_type": "code",
   "execution_count": null,
   "id": "160fbdc6-587e-471a-afc4-c3f9d968b846",
   "metadata": {},
   "outputs": [],
   "source": []
  },
  {
   "cell_type": "code",
   "execution_count": null,
   "id": "13c7ce59-41f3-49cd-b458-6c1400193879",
   "metadata": {},
   "outputs": [],
   "source": []
  }
 ],
 "metadata": {
  "kernelspec": {
   "display_name": "Python 3 (ipykernel)",
   "language": "python",
   "name": "python3"
  },
  "language_info": {
   "codemirror_mode": {
    "name": "ipython",
    "version": 3
   },
   "file_extension": ".py",
   "mimetype": "text/x-python",
   "name": "python",
   "nbconvert_exporter": "python",
   "pygments_lexer": "ipython3",
   "version": "3.9.7"
  }
 },
 "nbformat": 4,
 "nbformat_minor": 5
}

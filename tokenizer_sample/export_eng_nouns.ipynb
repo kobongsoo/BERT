{
 "cells": [
  {
   "cell_type": "code",
   "execution_count": 1,
   "id": "97a18b25-97c8-4109-9910-ac0503c74665",
   "metadata": {},
   "outputs": [
    {
     "data": {
      "application/vnd.jupyter.widget-view+json": {
       "model_id": "6715d8afd0c14f008e615af007db84a2",
       "version_major": 2,
       "version_minor": 0
      },
      "text/plain": [
       "  0%|          | 0/3337234 [00:00<?, ?it/s]"
      ]
     },
     "metadata": {},
     "output_type": "display_data"
    },
    {
     "name": "stdout",
     "output_type": "stream",
     "text": [
      "['example of an actor using the system It is not a use case and in most projects it does not survive', '37 서버명 업무내용 제조사 비고 형상관리 형상관리업무 HP 행정정보1 행정정보업무 HP 행정정보2 행정정보업무 HP 행정정보테스트 HP 파생상품1 파생상품업무 HP 파생상품2 파생상품업무 HP 파생상품3 파생상품업무 HP 파생상품테스트 파생상품테스트업무 HP EDDDB1 EDD DB업무 HP RAC EDDDB2 EDD DB업무 HP EDDWAS1 EDD WAS업무 HP EDDWAS2 EDD WAS업무 HP EDDWEB1 EDD WEB업무 HP EDDWEB2 EDD WEB업무 HP EDD테스트 EDD테스트업무 HP IFRS DB업무 HP IFRS테스트 IFRS DB테스트업무 HP', '변경에 따른 관련 법령 예 전자정부법 IT자원의 공동활용신설 공개SW의 이용 및 라이선스 등 하위규정 등']\n",
      "3337234\n"
     ]
    }
   ],
   "source": [
    "##################################################################\n",
    "# 영어 단어 어간들중 가장 빈도수 높은 단어들 추출\n",
    "# => 입력말뭉치들중에서 영어단어들만 추출해서 빈도수 구함\n",
    "# => 참고 소스 : nlp_counter_eng.ipynb\n",
    "##################################################################\n",
    "\n",
    "from tqdm.notebook import tqdm\n",
    "\n",
    "# 입력 말뭉치 \n",
    "corpus = '../../data11/my_corpus/re-moco-corpus2.txt'\n",
    "#corpus = '../../data11/my_corpus/re-kowiki-202206.txt'\n",
    "#corpus = './test-100.txt'\n",
    "\n",
    "# 출력 영문 vocab 파일\n",
    "new_en_vocab_out = \"../../data11/my_corpus/re-moco-corpus2-en-vocab.txt\"\n",
    "\n",
    "# 추출할 vocab수 \n",
    "max_vocab_len = 32000\n",
    "\n",
    "# 입력 말뭉치를 읽어와서 list로 생성\n",
    "with open(corpus, 'r', encoding='utf-8') as f:\n",
    "    line2 = [line for line in tqdm(f.read().splitlines()) if (len(line) > 0 and not line.isspace())]\n",
    "\n",
    "print(line2[:3])\n",
    "print(len(line2))"
   ]
  },
  {
   "cell_type": "code",
   "execution_count": 2,
   "id": "06238c61-45e3-4dd4-bbb9-39db16d90173",
   "metadata": {},
   "outputs": [
    {
     "name": "stdout",
     "output_type": "stream",
     "text": [
      "['example of an actor using the system it is not a use case and in most projects it does not survive', '37 서버명 업무내용 제조사 비고 형상관리 형상관리업무 hp 행정정보1 행정정보업무 hp 행정정보2 행정정보업무 hp 행정정보테스트 hp 파생상품1 파생상품업무 hp 파생상품2 파생상품업무 hp 파생상품3 파생상품업무 hp 파생상품테스트 파생상품테스트업무 hp edddb1 edd db업무 hp rac edddb2 edd db업무 hp eddwas1 edd was업무 hp eddwas2 edd was업무 hp eddweb1 edd web업무 hp eddweb2 edd web업무 hp edd테스트 edd테스트업무 hp ifrs db업무 hp ifrs테스트 ifrs db테스트업무 hp', '변경에 따른 관련 법령 예 전자정부법 it자원의 공동활용신설 공개sw의 이용 및 라이선스 등 하위규정 등']\n"
     ]
    }
   ],
   "source": [
    "###특수문자 제거하기###\n",
    "import re\n",
    "##영어##\n",
    "compile = re.compile(\"\\W+\")\n",
    "for i in range(len(line2)):\n",
    "\n",
    "    a = compile.sub(\" \",line2[i])\n",
    "    line2[i] = a.lower()\n",
    "print(line2[:3])"
   ]
  },
  {
   "cell_type": "code",
   "execution_count": 3,
   "id": "3b54e60d-d9fe-4b1b-90ef-0a17aa1d9013",
   "metadata": {},
   "outputs": [
    {
     "data": {
      "application/vnd.jupyter.widget-view+json": {
       "model_id": "3f903ec12163449daa5d50ead8da6f9c",
       "version_major": 2,
       "version_minor": 0
      },
      "text/plain": [
       "  0%|          | 0/3337234 [00:00<?, ?it/s]"
      ]
     },
     "metadata": {},
     "output_type": "display_data"
    },
    {
     "name": "stdout",
     "output_type": "stream",
     "text": [
      "['example of an actor using the system it is not a use case and in most projects it does not survive', '37 서버명 업무내용 제조사 비고 형상관리 형상관리업무 hp 행정정보1 행정정보업무 hp 행정정보2 행정정보업무 hp 행정정보테스트 hp 파생상품1 파생상품업무 hp 파생상품2 파생상품업무 hp 파생상품3 파생상품업무 hp 파생상품테스트 파생상품테스트업무 hp edddb1 edd db업무 hp rac edddb2 edd db업무 hp eddwas1 edd was업무 hp eddwas2 edd was업무 hp eddweb1 edd web업무 hp eddweb2 edd web업무 hp edd테스트 edd테스트업무 hp ifrs db업무 hp ifrs테스트 ifrs db테스트업무 hp', '변경에 따른 관련 법령 예 전자정부법 it자원의 공동활용신설 공개sw의 이용 및 라이선스 등 하위규정 등']\n"
     ]
    }
   ],
   "source": [
    "###불용어 제거하기###\n",
    "##영어##\n",
    "import nltk\n",
    "##처음 한번만 실행 후 주석처리##\n",
    "\"\"\"nltk.download('all')\n",
    "nltk.download('wordnet')\n",
    "nltk.download('stopwords')\"\"\"\n",
    "##############################\n",
    "from nltk.corpus import stopwords\n",
    "stop_word_eng = set(stopwords.words('english'))\n",
    "line2 = [i for i in tqdm(line2) if i not in stop_word_eng]\n",
    "print(line2[:3])"
   ]
  },
  {
   "cell_type": "code",
   "execution_count": 4,
   "id": "8f64217d-a509-4845-9dd6-c7fcad664296",
   "metadata": {},
   "outputs": [
    {
     "name": "stdout",
     "output_type": "stream",
     "text": [
      "*tokenizer 시작===>\n"
     ]
    },
    {
     "data": {
      "application/vnd.jupyter.widget-view+json": {
       "model_id": "4acdf39f503d483e98047b4ca35f65eb",
       "version_major": 2,
       "version_minor": 0
      },
      "text/plain": [
       "  0%|          | 0/3337234 [00:00<?, ?it/s]"
      ]
     },
     "metadata": {},
     "output_type": "display_data"
    },
    {
     "name": "stdout",
     "output_type": "stream",
     "text": [
      "*어간 추출 시작===>\n"
     ]
    },
    {
     "data": {
      "application/vnd.jupyter.widget-view+json": {
       "model_id": "ab44543a25fa46869ad145976f78abf3",
       "version_major": 2,
       "version_minor": 0
      },
      "text/plain": [
       "  0%|          | 0/92008184 [00:00<?, ?it/s]"
      ]
     },
     "metadata": {},
     "output_type": "display_data"
    },
    {
     "name": "stdout",
     "output_type": "stream",
     "text": [
      "*영어 단어들만 추출===>\n"
     ]
    },
    {
     "data": {
      "application/vnd.jupyter.widget-view+json": {
       "model_id": "ed60d73dec1846cba269d4aaec0b0ce0",
       "version_major": 2,
       "version_minor": 0
      },
      "text/plain": [
       "  0%|          | 0/74410669 [00:00<?, ?it/s]"
      ]
     },
     "metadata": {},
     "output_type": "display_data"
    },
    {
     "name": "stdout",
     "output_type": "stream",
     "text": [
      "['exampl', 'actor', 'use']\n"
     ]
    }
   ],
   "source": [
    "##영어##\n",
    "import nltk\n",
    "from nltk.tokenize import RegexpTokenizer\n",
    "from nltk.stem.porter import PorterStemmer\n",
    "ps_stemmer = PorterStemmer()    # 포터 알고리즘 이용\n",
    "\n",
    "print('*tokenizer 시작===>')\n",
    "token = RegexpTokenizer('[\\w]+')\n",
    "result2 = [token.tokenize(i) for i in tqdm(line2)]\n",
    "middle_result2= [r for i in tqdm(result2) for r in i]\n",
    "\n",
    "print('*어간 추출 시작===>')\n",
    "final_result2 = [ps_stemmer.stem(i) for i in tqdm(middle_result2) if not i in stop_word_eng] # 불용어 제거\n",
    "\n",
    "print('*영어 단어들만 추출===>')\n",
    "# 한글은 제거함\n",
    "no_alphabet_pattern = re.compile('[^a-zA-Z]')\n",
    "\n",
    "en_word = []\n",
    "count = 0\n",
    "for data in tqdm(final_result2):\n",
    "    result = re.findall('[a-zA-Z]', data)  # 영문 정규식\n",
    "    if result:\n",
    "        data = no_alphabet_pattern.sub('', data) # 영문과한글 혼합된경우 한글 제거\n",
    "        en_word.append(data)\n",
    "        \n",
    "print(en_word[:3])\n"
   ]
  },
  {
   "cell_type": "code",
   "execution_count": 5,
   "id": "1d4aaf7d-7808-4b59-bec3-e658cafef5e1",
   "metadata": {},
   "outputs": [
    {
     "name": "stdout",
     "output_type": "stream",
     "text": [
      "English top\n"
     ]
    },
    {
     "data": {
      "text/plain": [
       "use       446100\n",
       "file      278506\n",
       "name      275086\n",
       "data      261464\n",
       "messag    251809\n",
       "           ...  \n",
       "purge         24\n",
       "hrt           24\n",
       "defobj        24\n",
       "tariff        24\n",
       "swivel        24\n",
       "Length: 32000, dtype: int64"
      ]
     },
     "execution_count": 5,
     "metadata": {},
     "output_type": "execute_result"
    }
   ],
   "source": [
    "###텍스트에서 많이 나온 단어###(어간 추출 시)\n",
    "import pandas as pd\n",
    "##영어##\n",
    "english2 = pd.Series(en_word).value_counts().head(max_vocab_len)\n",
    "print(\"English top\")\n",
    "english2"
   ]
  },
  {
   "cell_type": "code",
   "execution_count": 6,
   "id": "617950c9-953a-4dec-908d-ecc601dce450",
   "metadata": {},
   "outputs": [
    {
     "data": {
      "application/vnd.jupyter.widget-view+json": {
       "model_id": "36d3283e1e034a1d87d7bff7b096ec03",
       "version_major": 2,
       "version_minor": 0
      },
      "text/plain": [
       "  0%|          | 0/32000 [00:00<?, ?it/s]"
      ]
     },
     "metadata": {},
     "output_type": "display_data"
    }
   ],
   "source": [
    "# 파일로 저장\n",
    "# => english2 는 series 형식이므로, 첫째열 단어들이 index가 된다, 따라서 단어만 뽑아낼려면 .index 해주면 됨\n",
    "with open(new_en_vocab_out, 'w', encoding='utf-8') as f:\n",
    "    for word in tqdm(english2.index):\n",
    "            f.write(word+'\\n')"
   ]
  }
 ],
 "metadata": {
  "kernelspec": {
   "display_name": "Python 3 (ipykernel)",
   "language": "python",
   "name": "python3"
  },
  "language_info": {
   "codemirror_mode": {
    "name": "ipython",
    "version": 3
   },
   "file_extension": ".py",
   "mimetype": "text/x-python",
   "name": "python",
   "nbconvert_exporter": "python",
   "pygments_lexer": "ipython3",
   "version": "3.9.7"
  }
 },
 "nbformat": 4,
 "nbformat_minor": 5
}

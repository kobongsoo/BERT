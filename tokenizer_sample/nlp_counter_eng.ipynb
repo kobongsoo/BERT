{
 "cells": [
  {
   "cell_type": "code",
   "execution_count": 1,
   "id": "3689f92e-513a-4462-93ed-61b4af57100e",
   "metadata": {},
   "outputs": [
    {
     "data": {
      "text/plain": [
       "['필요 시 입력 데이터를 생성하는 외부시스템이 시스템에 접근할 수 있는 FTP 계정과 비밀번호 설정하며 다른 디렉토리에 접근을 막는다.\\n',\n",
       " '외부시스템과 데이터를 주고 받기 위해 사용되는 디렉토리는 다음과 같다.\\n',\n",
       " 'SOA는 비즈니스 프로세스를 기본적인 표준 빌딩 블럭 단위로 분할하여, 이를 IT 프로세스와 유연하게 일치시키는 특징이 있다.\\n',\n",
       " '공공지원 민간임대주택은 주변 시세의 95  이하의 저렴한 임대료 혜택 외에도 품질좋은 주택에서 8년간 안심하고 살 수 있는 장점이 있다 \\n',\n",
       " '위기아동 발생을 미리 예방할 수 있는 지원활동이나 인프라 구축보다는 피해아동이 발생했을 때 그때그때 대처하는 방식에서 벗어나지 못하고 있다는 것이다 \\n',\n",
       " '여야가 각종 현안마다 정치적 타협을 모색하는 대신 검찰과 법원을 찾아 상대를 처벌해 달라고 독촉하는  정치의 사법화 가 극심해지고 있다는 지적이다 \\n',\n",
       " '부동산114는 전국 오피스텔의 연도별 임대수익률 추이를 분석한 결과  2018년 말 기준 연 5 의 임대수익률이 붕괴된 것으로 나타났다고 12일 밝혔다 \\n',\n",
       " '리얼미터는 9 13 부동산대책 발표 직후 종부세 과표 혼선  적용대상 확대 오보에 이은  세금폭탄  논란이 확대된 데 따른 것으로 풀이했다 \\n',\n",
       " '강 장관은 러시아가 유엔 안전보장이사회 비공개회의를 요청한 것과 관련해  대북제재 문제가 논의되지 않을까 예상한다 며 러시아의 요청도 사전에 인지했다고 설명했다 \\n',\n",
       " '민 청장은 개선방안과 관련해  물리력 행사 기준표도 최종 검토단계에 있다 면서  유형별로 세세한 개선과제를 적용해서 정비해야 할 것이 있다 고 설명했다 \\n',\n",
       " '한 네티즌이 강제추행 혐의로 법정구속 된 남편의 억울함을 주장한 사건과 관련  법원 관계자는  담당 판사가 객관적으로 판단한 것 이라고 밝혔다 \\n',\n",
       " '따라서 기업이 내부는 물론 협력사 및 고객과 표준화된 e-비즈니스 환경을 구축할 수 있게 된다.\\n',\n",
       " '이번에 발표된 솔루션군은 IBM 소프트웨어사업본부, 서비스사업조직인 글로벌 서비스, 그리고 컨설팅사업조직인 IBM 비즈니스컨설팅서비스(IBM BCS)가 주축이 되어 공급한다.\\n',\n",
       " '솔루션의 핵심 구성은 SOA 기반 위에 애플리케이션을 구축하고 통합하는 소프트웨어 제품, 환경 평가, 전략 수립 및 기획, 애플리케이션 혁신, 컴포넌트 비즈니스 모델링 컨설팅 등 5종이다.\\n',\n",
       " '또 애플리케이션 혁신 및 통합 서비스, 비즈니스 프로세스 맵을 작성하고 비즈니스를 직원-프로세스-시스템이 담당한 업무별로 구분하는 컴포넌트 비즈니스 모델링 컨설팅 서비스 등이 있다.\\n',\n",
       " 'IBM은 이번 솔루션 발표와 함께 이 분야 사업을 대폭 강화하게 되었다.\\n',\n",
       " '“IBM의 SOA 솔루션은 기업이 온디맨드 e-비즈니스를 달성하는 데 필요한 기술을 제공하며 고객, 제휴사, 협력업체 전반에 걸쳐서 애플리케이션을 통합할 수 있도록 함으로써 고객의 요구, 시장 변화, 외부적 요인에 신속하게 적응할 수 있도록 한다.\\n',\n",
       " '웹스피어 비즈니스 인티그레이션 서버 파운데이션: 고객이 서비스 지향적 아키텍처로 애플리케이션을 구축 및 통합할 수 있도록 하는 솔루션.\\n',\n",
       " '대기업 제품으로서는 비즈니스 로직을 실행하기 위한 산업표준 규격인 “비즈니스 프로세스 실행 언어(BPEL, Business Process Execution Language)”를 지원하는 최초의 제품이다.\\n',\n",
       " '웹스피어 비즈니스 인티그레이션을 이용함으로써 기존 웹 서비스 및 패키지 애플리케이션을 이용해 재사용가능 서비스를 구축하고 서비스를 결합해서 비즈니스 프로세스와 소프트웨어 애플리케이션을 연동시킬 수 있다.\\n',\n",
       " 'IBM SOA 평가 서비스: 현재 SOA를 도입하려는 고객이 계획하고 있는 SOA의 기능적 및 기술적 측면을 평가하는 서비스로, IBM 글로벌 서비스가 제공한다 .\\n',\n",
       " '국내 및 해외 계열사의 신규 연계 및 오픈을 위하여 다음 절차에 따라 진행하며, 계열사가 신규 연계될 때마다 관련 산출물을 참조하고 항상 최신으로 업데이트 한다.\\n',\n",
       " '신규 계열사 연계를 위한 사전 준비를 마치고 계열사 서버에 EAI Agent를 설치하고 나면, 계열사의 CASE에 해당하는 인터페이스를 EAI 인터페이스 개발 방안에 따라 진행한다.\\n',\n",
       " 'Refer to the V$SYSTEM_EVENT view for time waited and average waits for thefollowing actions:\\n',\n",
       " 'To estimate the time waited for reads incurred by rereading data blocks that had tobe written to disk because of a request from another instance, multiply the statistic(for example, the time waited for db ﬁle sequential reads) by the percentage of readI/O caused by previous cache ﬂushes as shown in this formula:\\n',\n",
       " 'Where \"lock buffers for read\" is the value for lock converts from N to S derived fromV$LOCK_ACTIVITY and \"physical reads\" is from the V$SYSSTAT view.\\n',\n",
       " 'Similarly, the proportion of the time waited for database ﬁle parallel writes causedby pings can be estimated by multiplying db ﬁle parallel write time as found inV$SYSTEM_EVENTS by:\\n',\n",
       " 'Table 11-1 describes some global cache coherence-related views and the types ofstatistics they contain.\\n',\n",
       " 'Refer to V$SYSSTAT to countrequests for the actions shownto the right.\\n',\n",
       " 'Note: Also refer to the convert type-speciﬁc rows in V$LOCK_ACTIVITY.\\n',\n",
       " 'Refer to V$SYSSTAT for theamount of time waited for theactions shown to the right.\\n',\n",
       " 'As mentioned, it is useful to maintain application proﬁles per transaction and perunit of time.\\n',\n",
       " 'This allows you to compare two distinct workloads or to detectchanges in a workload.\\n',\n",
       " 'The rates are also helpful in determining capacities and foridentifying throughput issues.\\n',\n",
       " 'Oracle recommends that you incorporate thefollowing ratios of statistics in your performance monitoring scripts:\\n',\n",
       " 'Calculate the same statistics per second or minute by dividing the total counts ortimes waited by the measurement interval.\\n',\n",
       " 'The percentage of buffers accessed for global work or the percentage of I/O causedby inter-instance synchronization can be important measures of how efﬁcient yourapplication processes share data.\\n',\n",
       " 'It can also reveal whether the database is designedfor optimum scalability.\\n',\n",
       " 'Use the following calculation to determine the percentage of buffer accesses forlocal operations, in other words, reads and changes of database buffers that are notsubject to a lock conversion:\\n',\n",
       " 'Similarly, compute the percentage of read and write I/O for local operations usingthe following equations:\\n',\n",
       " 'This calculation implies the percent of times DBWR writes for local work.\\n',\n",
       " 'This calculation implies the number of percent reads by user processes for localwork only; it does not refer to forced reads.\\n',\n",
       " 'In the previous formula, the physical read statistic from V$SYSSTAT is combinedwith the \"Lock buffers for read\" value from V$LOCK_ACTIVITY.\\n',\n",
       " 'You can base thelocal write ratio entirely on the corresponding values from V$SYSSTAT.\\n',\n",
       " '((consistent gets db block gets) (global cache gets global cache converts) 100)\\n',\n",
       " '11-12 Oracle8i Parallel Server Administration, Deployment, and Performancepatterns.\\n',\n",
       " 'Moreover, they represent the probability that a data block access is eitherglobal or local.\\n',\n",
       " 'You can therefore use this information as a rough estimator inscalability calculations.\\n',\n",
       " 'If your application is not performing well, analyze each component of theapplication to identify which components are causing problems.\\n',\n",
       " 'To do this, checkthe operating system and DLM statistics, as explained under the next heading, forindications of contention or excessive CPU usage.\\n',\n",
       " 'Excessive lock conversions thatyou can measure with speciﬁc procedures may reveal excessive read/write activityor high CPU requirements by DLM components.\\n',\n",
       " 'Examine the statistics from this view andanalyze the hit ratios in the shared pool and the buffer cache.\\n',\n",
       " 'These are the result of inserts into index blocks when multipleinstances share a sequence generator for primary key values.\\n',\n",
       " 'You may need to use a multiplier such as SEQUENCE_NUMBER xINSTANCE_NUMBER x 1,000,000,000 to prevent the instances from inserting newentries into the same index.\\n',\n",
       " 'Creating a sequence without using the CACHE clause may create a lot of overhead.\\n',\n",
       " 'The chapter describes Oracle Parallel Server and Cache Fusion-related statistics andprovides procedures that explain how to use these statistics to monitor and tuneperformance.\\n',\n",
       " 'This chapter also brieﬂy explains how Cache Fusion resolvesreader/writer conﬂicts in Oracle Parallel Server.\\n',\n",
       " 'It describes Cache Fusion’s beneﬁtsin general terms that apply to most types of systems and applications.\\n',\n",
       " 'The topics in this chapter include:\\n',\n",
       " 'When a data block requested by one instance is in the memory cache of a remoteinstance, Cache Fusion resolves the read/write conﬂict using remote memoryaccess, not disk access.\\n',\n",
       " 'The requesting instance sends a request for a consistent-readcopy of the block to the holding instance.\\n',\n",
       " 'The Block Server Process (BSP) on theholding instance transmits the consistent-read image of the requested block directlyfrom the holding instance’s buffer cache to the requesting instance’s buffer cacheacross a high speed interconnect.\\n',\n",
       " 'As Figure 12-1 illustrates, Cache Fusion enables the buffer cache of one node tosend data blocks directly to the buffer cache of another node by way of low latency,high bandwidth interconnects.\\n',\n",
       " 'This reduces the need for expensive disk I/O inparallel cache management.\\n',\n",
       " 'Cache Fusion also leverages new interconnect technologies for low latency,user-space based, interprocessor communication.\\n',\n",
       " 'This potentially lowers CPUusage by reducing operating system context switches for inter-node messages.\\n',\n",
       " 'Note: Cache Fusion is always enabled.\\n',\n",
       " 'Cache Fusion only solves part of the block conﬂict resolution issue by providingimproved scalability for applications that experience high levels of reader/writercontention.\\n',\n",
       " 'For applications with high writer/writer concurrency, you also need toaccurately partition your application’s tables to reduce the potential forwriter/writer conﬂicts.\\n',\n",
       " 'Cache Fusion improves application transaction throughput and scalability byproviding:\\n',\n",
       " 'Applications demonstrating high reader/writer conﬂict rates under disk-basedPCM beneﬁt the most from Cache Fusion.\\n',\n",
       " 'Packaged applications also scale moreeffectively as a result of Cache Fusion.\\n',\n",
       " 'Applications in which OLTP and reportingfunctions execute on separate nodes may also beneﬁt from Cache Fusion.\\n',\n",
       " 'Thisreduces the pinging of data blocks to disk.\\n',\n",
       " 'Performance gains are derived primarilyfrom reduced X-to-S lock conversions and the corresponding reduction in disk I/Ofor X-to-S lock conversions.\\n',\n",
       " 'Furthermore, the instance that was changing the cached data block before itreceived a read request for the same block from another instance would not have torequest exclusive access to the block again for subsequent changes.\\n',\n",
       " 'This is becausethe instance retains the exclusive lock and the buffer after the block is shipped to thereading instance.\\n',\n",
       " 'Because Cache Fusion exploits high speed IPCs, Oracle Parallel Server beneﬁts fromthe performance gains of the latest technologies for low latency communicationacross cluster interconnects.\\n',\n",
       " 'Cache Fusion reduces CPU utilization by taking advantage of user-mode IPCs, alsoknown as \"memory-mapped IPCs\", for both Unix and NT based platforms.\\n',\n",
       " 'If theappropriate hardware support is available, operating system context switches areminimized beyond the basic reductions achieved with Cache Fusion alone.\\n',\n",
       " 'This alsoeliminates costly data copying and system calls.\\n',\n",
       " 'Once your interconnect is operative, you cannot signiﬁcantly inﬂuence itsperformance.\\n',\n",
       " 'Interconnects that support Oracle Parallel Server and Cache Fusion use one of theseprotocols:\\n',\n",
       " 'Oracle Parallel Server can use any interconnect product that supports theseprotocols.\\n',\n",
       " 'The interconnect product must also be certiﬁed for Oracle Parallel Serverhardware cluster platforms.\\n',\n",
       " 'Cache Fusion performance levels may vary in terms of latency and throughputfrom application to application.\\n',\n",
       " 'Performance is further inﬂuenced by the type andmixture of transactions your system processes.\\n',\n",
       " 'The performance gains from Cache Fusion also vary with each workload.\\n',\n",
       " 'Thehardware, the interconnect protocol speciﬁcations, and the operating systemresource usage also affect performance.\\n',\n",
       " 'If your application did not demonstrate a signiﬁcant amount of consistent-readcontention prior to Cache Fusion, your performance with Cache Fusion will likelyremain unchanged.\\n',\n",
       " 'However, if your application experienced numerous lockconversions and heavy disk I/O as a result of consistent-read conﬂicts, yourperformance with Cache Fusion should improve signiﬁcantly.\\n',\n",
       " 'A comparison of the locking and I/O statistics for Oracle 8.\\n',\n",
       " 'Fusion statistics to monitor inter-instance performance.\\n',\n",
       " 'The main goal of monitoring Cache Fusion and Oracle Parallel Server performanceis to determine the cost of global processing and quantify the resources required tomaintain coherency and synchronize the instances.\\n',\n",
       " 'Do this by analyzing theperformance statistics from several views as described in the following sections.\\n',\n",
       " 'Use these monitoring procedures on an ongoing basis to observe processing trendsand to maintain processing at optimal levels.\\n',\n",
       " 'Many statistics are available to measure the work done by different components ofthe database kernel, such as the cache layer, the transaction layer or the I/O layer.\\n',\n",
       " 'Moreover, timed statistics allow you to accurately determine the time spent onprocessing certain requests or the time waited for speciﬁc events.\\n',\n",
       " '今天的中国有很多问题，因为冠状病毒很流行。\\n',\n",
       " 'See Also: Chapter 7 for more information on lock types.\\n',\n",
       " 'testtesttesttesttesttesttest\\n',\n",
       " '안녕!!\\n',\n",
       " '무한도전입니다.\\n',\n",
       " '무슨생각하시나요\\n',\n",
       " '무슨생각하시나요\\n',\n",
       " '안녕!!']"
      ]
     },
     "execution_count": 1,
     "metadata": {},
     "output_type": "execute_result"
    }
   ],
   "source": [
    "####텍스트 읽어오기####\n",
    "##영어 텍스트##\n",
    "#f = open('C://Users//users//Desktop//python//stevejobs.txt','rt',encoding='utf-8')\n",
    "f = open('./test-100.txt')\n",
    "\n",
    "lines2 = f.readlines()\n",
    "line2 = []\n",
    "for i in range(len(lines2)):\n",
    "    line2.append(lines2[i])\n",
    "f.close()\n",
    "lines2"
   ]
  },
  {
   "cell_type": "code",
   "execution_count": 2,
   "id": "1cfda005-67a9-48c4-aca1-2e924e8e2908",
   "metadata": {},
   "outputs": [
    {
     "name": "stdout",
     "output_type": "stream",
     "text": [
      "['필요 시 입력 데이터를 생성하는 외부시스템이 시스템에 접근할 수 있는 ftp 계정과 비밀번호 설정하며 다른 디렉토리에 접근을 막는다 ', '외부시스템과 데이터를 주고 받기 위해 사용되는 디렉토리는 다음과 같다 ', 'soa는 비즈니스 프로세스를 기본적인 표준 빌딩 블럭 단위로 분할하여 이를 it 프로세스와 유연하게 일치시키는 특징이 있다 ', '공공지원 민간임대주택은 주변 시세의 95 이하의 저렴한 임대료 혜택 외에도 품질좋은 주택에서 8년간 안심하고 살 수 있는 장점이 있다 ', '위기아동 발생을 미리 예방할 수 있는 지원활동이나 인프라 구축보다는 피해아동이 발생했을 때 그때그때 대처하는 방식에서 벗어나지 못하고 있다는 것이다 ', '여야가 각종 현안마다 정치적 타협을 모색하는 대신 검찰과 법원을 찾아 상대를 처벌해 달라고 독촉하는 정치의 사법화 가 극심해지고 있다는 지적이다 ', '부동산114는 전국 오피스텔의 연도별 임대수익률 추이를 분석한 결과 2018년 말 기준 연 5 의 임대수익률이 붕괴된 것으로 나타났다고 12일 밝혔다 ', '리얼미터는 9 13 부동산대책 발표 직후 종부세 과표 혼선 적용대상 확대 오보에 이은 세금폭탄 논란이 확대된 데 따른 것으로 풀이했다 ', '강 장관은 러시아가 유엔 안전보장이사회 비공개회의를 요청한 것과 관련해 대북제재 문제가 논의되지 않을까 예상한다 며 러시아의 요청도 사전에 인지했다고 설명했다 ', '민 청장은 개선방안과 관련해 물리력 행사 기준표도 최종 검토단계에 있다 면서 유형별로 세세한 개선과제를 적용해서 정비해야 할 것이 있다 고 설명했다 ', '한 네티즌이 강제추행 혐의로 법정구속 된 남편의 억울함을 주장한 사건과 관련 법원 관계자는 담당 판사가 객관적으로 판단한 것 이라고 밝혔다 ', '따라서 기업이 내부는 물론 협력사 및 고객과 표준화된 e 비즈니스 환경을 구축할 수 있게 된다 ', '이번에 발표된 솔루션군은 ibm 소프트웨어사업본부 서비스사업조직인 글로벌 서비스 그리고 컨설팅사업조직인 ibm 비즈니스컨설팅서비스 ibm bcs 가 주축이 되어 공급한다 ', '솔루션의 핵심 구성은 soa 기반 위에 애플리케이션을 구축하고 통합하는 소프트웨어 제품 환경 평가 전략 수립 및 기획 애플리케이션 혁신 컴포넌트 비즈니스 모델링 컨설팅 등 5종이다 ', '또 애플리케이션 혁신 및 통합 서비스 비즈니스 프로세스 맵을 작성하고 비즈니스를 직원 프로세스 시스템이 담당한 업무별로 구분하는 컴포넌트 비즈니스 모델링 컨설팅 서비스 등이 있다 ', 'ibm은 이번 솔루션 발표와 함께 이 분야 사업을 대폭 강화하게 되었다 ', ' ibm의 soa 솔루션은 기업이 온디맨드 e 비즈니스를 달성하는 데 필요한 기술을 제공하며 고객 제휴사 협력업체 전반에 걸쳐서 애플리케이션을 통합할 수 있도록 함으로써 고객의 요구 시장 변화 외부적 요인에 신속하게 적응할 수 있도록 한다 ', '웹스피어 비즈니스 인티그레이션 서버 파운데이션 고객이 서비스 지향적 아키텍처로 애플리케이션을 구축 및 통합할 수 있도록 하는 솔루션 ', '대기업 제품으로서는 비즈니스 로직을 실행하기 위한 산업표준 규격인 비즈니스 프로세스 실행 언어 bpel business process execution language 를 지원하는 최초의 제품이다 ', '웹스피어 비즈니스 인티그레이션을 이용함으로써 기존 웹 서비스 및 패키지 애플리케이션을 이용해 재사용가능 서비스를 구축하고 서비스를 결합해서 비즈니스 프로세스와 소프트웨어 애플리케이션을 연동시킬 수 있다 ', 'ibm soa 평가 서비스 현재 soa를 도입하려는 고객이 계획하고 있는 soa의 기능적 및 기술적 측면을 평가하는 서비스로 ibm 글로벌 서비스가 제공한다 ', '국내 및 해외 계열사의 신규 연계 및 오픈을 위하여 다음 절차에 따라 진행하며 계열사가 신규 연계될 때마다 관련 산출물을 참조하고 항상 최신으로 업데이트 한다 ', '신규 계열사 연계를 위한 사전 준비를 마치고 계열사 서버에 eai agent를 설치하고 나면 계열사의 case에 해당하는 인터페이스를 eai 인터페이스 개발 방안에 따라 진행한다 ', 'refer to the v system_event view for time waited and average waits for thefollowing actions ', 'to estimate the time waited for reads incurred by rereading data blocks that had tobe written to disk because of a request from another instance multiply the statistic for example the time waited for db ﬁle sequential reads by the percentage of readi o caused by previous cache ﬂushes as shown in this formula ', 'where lock buffers for read is the value for lock converts from n to s derived fromv lock_activity and physical reads is from the v sysstat view ', 'similarly the proportion of the time waited for database ﬁle parallel writes causedby pings can be estimated by multiplying db ﬁle parallel write time as found inv system_events by ', 'table 11 1 describes some global cache coherence related views and the types ofstatistics they contain ', 'refer to v sysstat to countrequests for the actions shownto the right ', 'note also refer to the convert type speciﬁc rows in v lock_activity ', 'refer to v sysstat for theamount of time waited for theactions shown to the right ', 'as mentioned it is useful to maintain application proﬁles per transaction and perunit of time ', 'this allows you to compare two distinct workloads or to detectchanges in a workload ', 'the rates are also helpful in determining capacities and foridentifying throughput issues ', 'oracle recommends that you incorporate thefollowing ratios of statistics in your performance monitoring scripts ', 'calculate the same statistics per second or minute by dividing the total counts ortimes waited by the measurement interval ', 'the percentage of buffers accessed for global work or the percentage of i o causedby inter instance synchronization can be important measures of how efﬁcient yourapplication processes share data ', 'it can also reveal whether the database is designedfor optimum scalability ', 'use the following calculation to determine the percentage of buffer accesses forlocal operations in other words reads and changes of database buffers that are notsubject to a lock conversion ', 'similarly compute the percentage of read and write i o for local operations usingthe following equations ', 'this calculation implies the percent of times dbwr writes for local work ', 'this calculation implies the number of percent reads by user processes for localwork only it does not refer to forced reads ', 'in the previous formula the physical read statistic from v sysstat is combinedwith the lock buffers for read value from v lock_activity ', 'you can base thelocal write ratio entirely on the corresponding values from v sysstat ', ' consistent gets db block gets global cache gets global cache converts 100 ', '11 12 oracle8i parallel server administration deployment and performancepatterns ', 'moreover they represent the probability that a data block access is eitherglobal or local ', 'you can therefore use this information as a rough estimator inscalability calculations ', 'if your application is not performing well analyze each component of theapplication to identify which components are causing problems ', 'to do this checkthe operating system and dlm statistics as explained under the next heading forindications of contention or excessive cpu usage ', 'excessive lock conversions thatyou can measure with speciﬁc procedures may reveal excessive read write activityor high cpu requirements by dlm components ', 'examine the statistics from this view andanalyze the hit ratios in the shared pool and the buffer cache ', 'these are the result of inserts into index blocks when multipleinstances share a sequence generator for primary key values ', 'you may need to use a multiplier such as sequence_number xinstance_number x 1 000 000 000 to prevent the instances from inserting newentries into the same index ', 'creating a sequence without using the cache clause may create a lot of overhead ', 'the chapter describes oracle parallel server and cache fusion related statistics andprovides procedures that explain how to use these statistics to monitor and tuneperformance ', 'this chapter also brieﬂy explains how cache fusion resolvesreader writer conﬂicts in oracle parallel server ', 'it describes cache fusion s beneﬁtsin general terms that apply to most types of systems and applications ', 'the topics in this chapter include ', 'when a data block requested by one instance is in the memory cache of a remoteinstance cache fusion resolves the read write conﬂict using remote memoryaccess not disk access ', 'the requesting instance sends a request for a consistent readcopy of the block to the holding instance ', 'the block server process bsp on theholding instance transmits the consistent read image of the requested block directlyfrom the holding instance s buffer cache to the requesting instance s buffer cacheacross a high speed interconnect ', 'as figure 12 1 illustrates cache fusion enables the buffer cache of one node tosend data blocks directly to the buffer cache of another node by way of low latency high bandwidth interconnects ', 'this reduces the need for expensive disk i o inparallel cache management ', 'cache fusion also leverages new interconnect technologies for low latency user space based interprocessor communication ', 'this potentially lowers cpuusage by reducing operating system context switches for inter node messages ', 'note cache fusion is always enabled ', 'cache fusion only solves part of the block conﬂict resolution issue by providingimproved scalability for applications that experience high levels of reader writercontention ', 'for applications with high writer writer concurrency you also need toaccurately partition your application s tables to reduce the potential forwriter writer conﬂicts ', 'cache fusion improves application transaction throughput and scalability byproviding ', 'applications demonstrating high reader writer conﬂict rates under disk basedpcm beneﬁt the most from cache fusion ', 'packaged applications also scale moreeffectively as a result of cache fusion ', 'applications in which oltp and reportingfunctions execute on separate nodes may also beneﬁt from cache fusion ', 'thisreduces the pinging of data blocks to disk ', 'performance gains are derived primarilyfrom reduced x to s lock conversions and the corresponding reduction in disk i ofor x to s lock conversions ', 'furthermore the instance that was changing the cached data block before itreceived a read request for the same block from another instance would not have torequest exclusive access to the block again for subsequent changes ', 'this is becausethe instance retains the exclusive lock and the buffer after the block is shipped to thereading instance ', 'because cache fusion exploits high speed ipcs oracle parallel server beneﬁts fromthe performance gains of the latest technologies for low latency communicationacross cluster interconnects ', 'cache fusion reduces cpu utilization by taking advantage of user mode ipcs alsoknown as memory mapped ipcs for both unix and nt based platforms ', 'if theappropriate hardware support is available operating system context switches areminimized beyond the basic reductions achieved with cache fusion alone ', 'this alsoeliminates costly data copying and system calls ', 'once your interconnect is operative you cannot signiﬁcantly inﬂuence itsperformance ', 'interconnects that support oracle parallel server and cache fusion use one of theseprotocols ', 'oracle parallel server can use any interconnect product that supports theseprotocols ', 'the interconnect product must also be certiﬁed for oracle parallel serverhardware cluster platforms ', 'cache fusion performance levels may vary in terms of latency and throughputfrom application to application ', 'performance is further inﬂuenced by the type andmixture of transactions your system processes ', 'the performance gains from cache fusion also vary with each workload ', 'thehardware the interconnect protocol speciﬁcations and the operating systemresource usage also affect performance ', 'if your application did not demonstrate a signiﬁcant amount of consistent readcontention prior to cache fusion your performance with cache fusion will likelyremain unchanged ', 'however if your application experienced numerous lockconversions and heavy disk i o as a result of consistent read conﬂicts yourperformance with cache fusion should improve signiﬁcantly ', 'a comparison of the locking and i o statistics for oracle 8 ', 'fusion statistics to monitor inter instance performance ', 'the main goal of monitoring cache fusion and oracle parallel server performanceis to determine the cost of global processing and quantify the resources required tomaintain coherency and synchronize the instances ', 'do this by analyzing theperformance statistics from several views as described in the following sections ', 'use these monitoring procedures on an ongoing basis to observe processing trendsand to maintain processing at optimal levels ', 'many statistics are available to measure the work done by different components ofthe database kernel such as the cache layer the transaction layer or the i o layer ', 'moreover timed statistics allow you to accurately determine the time spent onprocessing certain requests or the time waited for speciﬁc events ', '今天的中国有很多问题 因为冠状病毒很流行 ', 'see also chapter 7 for more information on lock types ', 'testtesttesttesttesttesttest ', '안녕 ', '무한도전입니다 ', '무슨생각하시나요 ', '무슨생각하시나요 ', '안녕 ']\n"
     ]
    }
   ],
   "source": [
    "###특수문자 제거하기###\n",
    "import re\n",
    "##영어##\n",
    "compile = re.compile(\"\\W+\")\n",
    "for i in range(len(line2)):\n",
    "\n",
    "    a = compile.sub(\" \",line2[i])\n",
    "    line2[i] = a.lower()\n",
    "print(line2)"
   ]
  },
  {
   "cell_type": "code",
   "execution_count": 3,
   "id": "87a217bc-e433-4e21-be6a-8a80ee10f0c5",
   "metadata": {},
   "outputs": [
    {
     "data": {
      "text/plain": [
       "['필요 시 입력 데이터를 생성하는 외부시스템이 시스템에 접근할 수 있는 ftp 계정과 비밀번호 설정하며 다른 디렉토리에 접근을 막는다 ',\n",
       " '외부시스템과 데이터를 주고 받기 위해 사용되는 디렉토리는 다음과 같다 ',\n",
       " 'soa는 비즈니스 프로세스를 기본적인 표준 빌딩 블럭 단위로 분할하여 이를 it 프로세스와 유연하게 일치시키는 특징이 있다 ',\n",
       " '공공지원 민간임대주택은 주변 시세의 95 이하의 저렴한 임대료 혜택 외에도 품질좋은 주택에서 8년간 안심하고 살 수 있는 장점이 있다 ',\n",
       " '위기아동 발생을 미리 예방할 수 있는 지원활동이나 인프라 구축보다는 피해아동이 발생했을 때 그때그때 대처하는 방식에서 벗어나지 못하고 있다는 것이다 ',\n",
       " '여야가 각종 현안마다 정치적 타협을 모색하는 대신 검찰과 법원을 찾아 상대를 처벌해 달라고 독촉하는 정치의 사법화 가 극심해지고 있다는 지적이다 ',\n",
       " '부동산114는 전국 오피스텔의 연도별 임대수익률 추이를 분석한 결과 2018년 말 기준 연 5 의 임대수익률이 붕괴된 것으로 나타났다고 12일 밝혔다 ',\n",
       " '리얼미터는 9 13 부동산대책 발표 직후 종부세 과표 혼선 적용대상 확대 오보에 이은 세금폭탄 논란이 확대된 데 따른 것으로 풀이했다 ',\n",
       " '강 장관은 러시아가 유엔 안전보장이사회 비공개회의를 요청한 것과 관련해 대북제재 문제가 논의되지 않을까 예상한다 며 러시아의 요청도 사전에 인지했다고 설명했다 ',\n",
       " '민 청장은 개선방안과 관련해 물리력 행사 기준표도 최종 검토단계에 있다 면서 유형별로 세세한 개선과제를 적용해서 정비해야 할 것이 있다 고 설명했다 ',\n",
       " '한 네티즌이 강제추행 혐의로 법정구속 된 남편의 억울함을 주장한 사건과 관련 법원 관계자는 담당 판사가 객관적으로 판단한 것 이라고 밝혔다 ',\n",
       " '따라서 기업이 내부는 물론 협력사 및 고객과 표준화된 e 비즈니스 환경을 구축할 수 있게 된다 ',\n",
       " '이번에 발표된 솔루션군은 ibm 소프트웨어사업본부 서비스사업조직인 글로벌 서비스 그리고 컨설팅사업조직인 ibm 비즈니스컨설팅서비스 ibm bcs 가 주축이 되어 공급한다 ',\n",
       " '솔루션의 핵심 구성은 soa 기반 위에 애플리케이션을 구축하고 통합하는 소프트웨어 제품 환경 평가 전략 수립 및 기획 애플리케이션 혁신 컴포넌트 비즈니스 모델링 컨설팅 등 5종이다 ',\n",
       " '또 애플리케이션 혁신 및 통합 서비스 비즈니스 프로세스 맵을 작성하고 비즈니스를 직원 프로세스 시스템이 담당한 업무별로 구분하는 컴포넌트 비즈니스 모델링 컨설팅 서비스 등이 있다 ',\n",
       " 'ibm은 이번 솔루션 발표와 함께 이 분야 사업을 대폭 강화하게 되었다 ',\n",
       " ' ibm의 soa 솔루션은 기업이 온디맨드 e 비즈니스를 달성하는 데 필요한 기술을 제공하며 고객 제휴사 협력업체 전반에 걸쳐서 애플리케이션을 통합할 수 있도록 함으로써 고객의 요구 시장 변화 외부적 요인에 신속하게 적응할 수 있도록 한다 ',\n",
       " '웹스피어 비즈니스 인티그레이션 서버 파운데이션 고객이 서비스 지향적 아키텍처로 애플리케이션을 구축 및 통합할 수 있도록 하는 솔루션 ',\n",
       " '대기업 제품으로서는 비즈니스 로직을 실행하기 위한 산업표준 규격인 비즈니스 프로세스 실행 언어 bpel business process execution language 를 지원하는 최초의 제품이다 ',\n",
       " '웹스피어 비즈니스 인티그레이션을 이용함으로써 기존 웹 서비스 및 패키지 애플리케이션을 이용해 재사용가능 서비스를 구축하고 서비스를 결합해서 비즈니스 프로세스와 소프트웨어 애플리케이션을 연동시킬 수 있다 ',\n",
       " 'ibm soa 평가 서비스 현재 soa를 도입하려는 고객이 계획하고 있는 soa의 기능적 및 기술적 측면을 평가하는 서비스로 ibm 글로벌 서비스가 제공한다 ',\n",
       " '국내 및 해외 계열사의 신규 연계 및 오픈을 위하여 다음 절차에 따라 진행하며 계열사가 신규 연계될 때마다 관련 산출물을 참조하고 항상 최신으로 업데이트 한다 ',\n",
       " '신규 계열사 연계를 위한 사전 준비를 마치고 계열사 서버에 eai agent를 설치하고 나면 계열사의 case에 해당하는 인터페이스를 eai 인터페이스 개발 방안에 따라 진행한다 ',\n",
       " 'refer to the v system_event view for time waited and average waits for thefollowing actions ',\n",
       " 'to estimate the time waited for reads incurred by rereading data blocks that had tobe written to disk because of a request from another instance multiply the statistic for example the time waited for db ﬁle sequential reads by the percentage of readi o caused by previous cache ﬂushes as shown in this formula ',\n",
       " 'where lock buffers for read is the value for lock converts from n to s derived fromv lock_activity and physical reads is from the v sysstat view ',\n",
       " 'similarly the proportion of the time waited for database ﬁle parallel writes causedby pings can be estimated by multiplying db ﬁle parallel write time as found inv system_events by ',\n",
       " 'table 11 1 describes some global cache coherence related views and the types ofstatistics they contain ',\n",
       " 'refer to v sysstat to countrequests for the actions shownto the right ',\n",
       " 'note also refer to the convert type speciﬁc rows in v lock_activity ',\n",
       " 'refer to v sysstat for theamount of time waited for theactions shown to the right ',\n",
       " 'as mentioned it is useful to maintain application proﬁles per transaction and perunit of time ',\n",
       " 'this allows you to compare two distinct workloads or to detectchanges in a workload ',\n",
       " 'the rates are also helpful in determining capacities and foridentifying throughput issues ',\n",
       " 'oracle recommends that you incorporate thefollowing ratios of statistics in your performance monitoring scripts ',\n",
       " 'calculate the same statistics per second or minute by dividing the total counts ortimes waited by the measurement interval ',\n",
       " 'the percentage of buffers accessed for global work or the percentage of i o causedby inter instance synchronization can be important measures of how efﬁcient yourapplication processes share data ',\n",
       " 'it can also reveal whether the database is designedfor optimum scalability ',\n",
       " 'use the following calculation to determine the percentage of buffer accesses forlocal operations in other words reads and changes of database buffers that are notsubject to a lock conversion ',\n",
       " 'similarly compute the percentage of read and write i o for local operations usingthe following equations ',\n",
       " 'this calculation implies the percent of times dbwr writes for local work ',\n",
       " 'this calculation implies the number of percent reads by user processes for localwork only it does not refer to forced reads ',\n",
       " 'in the previous formula the physical read statistic from v sysstat is combinedwith the lock buffers for read value from v lock_activity ',\n",
       " 'you can base thelocal write ratio entirely on the corresponding values from v sysstat ',\n",
       " ' consistent gets db block gets global cache gets global cache converts 100 ',\n",
       " '11 12 oracle8i parallel server administration deployment and performancepatterns ',\n",
       " 'moreover they represent the probability that a data block access is eitherglobal or local ',\n",
       " 'you can therefore use this information as a rough estimator inscalability calculations ',\n",
       " 'if your application is not performing well analyze each component of theapplication to identify which components are causing problems ',\n",
       " 'to do this checkthe operating system and dlm statistics as explained under the next heading forindications of contention or excessive cpu usage ',\n",
       " 'excessive lock conversions thatyou can measure with speciﬁc procedures may reveal excessive read write activityor high cpu requirements by dlm components ',\n",
       " 'examine the statistics from this view andanalyze the hit ratios in the shared pool and the buffer cache ',\n",
       " 'these are the result of inserts into index blocks when multipleinstances share a sequence generator for primary key values ',\n",
       " 'you may need to use a multiplier such as sequence_number xinstance_number x 1 000 000 000 to prevent the instances from inserting newentries into the same index ',\n",
       " 'creating a sequence without using the cache clause may create a lot of overhead ',\n",
       " 'the chapter describes oracle parallel server and cache fusion related statistics andprovides procedures that explain how to use these statistics to monitor and tuneperformance ',\n",
       " 'this chapter also brieﬂy explains how cache fusion resolvesreader writer conﬂicts in oracle parallel server ',\n",
       " 'it describes cache fusion s beneﬁtsin general terms that apply to most types of systems and applications ',\n",
       " 'the topics in this chapter include ',\n",
       " 'when a data block requested by one instance is in the memory cache of a remoteinstance cache fusion resolves the read write conﬂict using remote memoryaccess not disk access ',\n",
       " 'the requesting instance sends a request for a consistent readcopy of the block to the holding instance ',\n",
       " 'the block server process bsp on theholding instance transmits the consistent read image of the requested block directlyfrom the holding instance s buffer cache to the requesting instance s buffer cacheacross a high speed interconnect ',\n",
       " 'as figure 12 1 illustrates cache fusion enables the buffer cache of one node tosend data blocks directly to the buffer cache of another node by way of low latency high bandwidth interconnects ',\n",
       " 'this reduces the need for expensive disk i o inparallel cache management ',\n",
       " 'cache fusion also leverages new interconnect technologies for low latency user space based interprocessor communication ',\n",
       " 'this potentially lowers cpuusage by reducing operating system context switches for inter node messages ',\n",
       " 'note cache fusion is always enabled ',\n",
       " 'cache fusion only solves part of the block conﬂict resolution issue by providingimproved scalability for applications that experience high levels of reader writercontention ',\n",
       " 'for applications with high writer writer concurrency you also need toaccurately partition your application s tables to reduce the potential forwriter writer conﬂicts ',\n",
       " 'cache fusion improves application transaction throughput and scalability byproviding ',\n",
       " 'applications demonstrating high reader writer conﬂict rates under disk basedpcm beneﬁt the most from cache fusion ',\n",
       " 'packaged applications also scale moreeffectively as a result of cache fusion ',\n",
       " 'applications in which oltp and reportingfunctions execute on separate nodes may also beneﬁt from cache fusion ',\n",
       " 'thisreduces the pinging of data blocks to disk ',\n",
       " 'performance gains are derived primarilyfrom reduced x to s lock conversions and the corresponding reduction in disk i ofor x to s lock conversions ',\n",
       " 'furthermore the instance that was changing the cached data block before itreceived a read request for the same block from another instance would not have torequest exclusive access to the block again for subsequent changes ',\n",
       " 'this is becausethe instance retains the exclusive lock and the buffer after the block is shipped to thereading instance ',\n",
       " 'because cache fusion exploits high speed ipcs oracle parallel server beneﬁts fromthe performance gains of the latest technologies for low latency communicationacross cluster interconnects ',\n",
       " 'cache fusion reduces cpu utilization by taking advantage of user mode ipcs alsoknown as memory mapped ipcs for both unix and nt based platforms ',\n",
       " 'if theappropriate hardware support is available operating system context switches areminimized beyond the basic reductions achieved with cache fusion alone ',\n",
       " 'this alsoeliminates costly data copying and system calls ',\n",
       " 'once your interconnect is operative you cannot signiﬁcantly inﬂuence itsperformance ',\n",
       " 'interconnects that support oracle parallel server and cache fusion use one of theseprotocols ',\n",
       " 'oracle parallel server can use any interconnect product that supports theseprotocols ',\n",
       " 'the interconnect product must also be certiﬁed for oracle parallel serverhardware cluster platforms ',\n",
       " 'cache fusion performance levels may vary in terms of latency and throughputfrom application to application ',\n",
       " 'performance is further inﬂuenced by the type andmixture of transactions your system processes ',\n",
       " 'the performance gains from cache fusion also vary with each workload ',\n",
       " 'thehardware the interconnect protocol speciﬁcations and the operating systemresource usage also affect performance ',\n",
       " 'if your application did not demonstrate a signiﬁcant amount of consistent readcontention prior to cache fusion your performance with cache fusion will likelyremain unchanged ',\n",
       " 'however if your application experienced numerous lockconversions and heavy disk i o as a result of consistent read conﬂicts yourperformance with cache fusion should improve signiﬁcantly ',\n",
       " 'a comparison of the locking and i o statistics for oracle 8 ',\n",
       " 'fusion statistics to monitor inter instance performance ',\n",
       " 'the main goal of monitoring cache fusion and oracle parallel server performanceis to determine the cost of global processing and quantify the resources required tomaintain coherency and synchronize the instances ',\n",
       " 'do this by analyzing theperformance statistics from several views as described in the following sections ',\n",
       " 'use these monitoring procedures on an ongoing basis to observe processing trendsand to maintain processing at optimal levels ',\n",
       " 'many statistics are available to measure the work done by different components ofthe database kernel such as the cache layer the transaction layer or the i o layer ',\n",
       " 'moreover timed statistics allow you to accurately determine the time spent onprocessing certain requests or the time waited for speciﬁc events ',\n",
       " '今天的中国有很多问题 因为冠状病毒很流行 ',\n",
       " 'see also chapter 7 for more information on lock types ',\n",
       " 'testtesttesttesttesttesttest ',\n",
       " '안녕 ',\n",
       " '무한도전입니다 ',\n",
       " '무슨생각하시나요 ',\n",
       " '무슨생각하시나요 ',\n",
       " '안녕 ']"
      ]
     },
     "execution_count": 3,
     "metadata": {},
     "output_type": "execute_result"
    }
   ],
   "source": [
    "###불용어 제거하기###\n",
    "##영어##\n",
    "import nltk\n",
    "##처음 한번만 실행 후 주석처리##\n",
    "\"\"\"nltk.download('all')\n",
    "nltk.download('wordnet')\n",
    "nltk.download('stopwords')\"\"\"\n",
    "##############################\n",
    "from nltk.corpus import stopwords\n",
    "stop_word_eng = set(stopwords.words('english'))\n",
    "line2 = [i for i in line2 if i not in stop_word_eng]\n",
    "line2"
   ]
  },
  {
   "cell_type": "code",
   "execution_count": 5,
   "id": "671a5253-721d-4dc0-90ab-37d0305a7d6b",
   "metadata": {},
   "outputs": [
    {
     "name": "stdout",
     "output_type": "stream",
     "text": [
      "['필요', '시', '입력', '데이터를', '생성하는', '외부시스템이', '시스템에', '접근할', '수', '있는', 'ftp', '계정과', '비밀번호', '설정하며', '다른', '디렉토리에', '접근을', '막는다', '외부시스템과', '데이터를', '주고', '받기', '위해', '사용되는', '디렉토리는', '다음과', '같다', 'soa는', '비즈니스', '프로세스를', '기본적인', '표준', '빌딩', '블럭', '단위로', '분할하여', '이를', '프로세스와', '유연하게', '일치시키는', '특징이', '있다', '공공지원', '민간임대주택은', '주변', '시세의', '95', '이하의', '저렴한', '임대료', '혜택', '외에도', '품질좋은', '주택에서', '8년간', '안심하고', '살', '수', '있는', '장점이', '있다', '위기아동', '발생을', '미리', '예방할', '수', '있는', '지원활동이나', '인프라', '구축보다는', '피해아동이', '발생했을', '때', '그때그때', '대처하는', '방식에서', '벗어나지', '못하고', '있다는', '것이다', '여야가', '각종', '현안마다', '정치적', '타협을', '모색하는', '대신', '검찰과', '법원을', '찾아', '상대를', '처벌해', '달라고', '독촉하는', '정치의', '사법화', '가', '극심해지고', '있다는', '지적이다', '부동산114는', '전국', '오피스텔의', '연도별', '임대수익률', '추이를', '분석한', '결과', '2018년', '말', '기준', '연', '5', '의', '임대수익률이', '붕괴된', '것으로', '나타났다고', '12일', '밝혔다', '리얼미터는', '9', '13', '부동산대책', '발표', '직후', '종부세', '과표', '혼선', '적용대상', '확대', '오보에', '이은', '세금폭탄', '논란이', '확대된', '데', '따른', '것으로', '풀이했다', '강', '장관은', '러시아가', '유엔', '안전보장이사회', '비공개회의를', '요청한', '것과', '관련해', '대북제재', '문제가', '논의되지', '않을까', '예상한다', '며', '러시아의', '요청도', '사전에', '인지했다고', '설명했다', '민', '청장은', '개선방안과', '관련해', '물리력', '행사', '기준표도', '최종', '검토단계에', '있다', '면서', '유형별로', '세세한', '개선과제를', '적용해서', '정비해야', '할', '것이', '있다', '고', '설명했다', '한', '네티즌이', '강제추행', '혐의로', '법정구속', '된', '남편의', '억울함을', '주장한', '사건과', '관련', '법원', '관계자는', '담당', '판사가', '객관적으로', '판단한', '것', '이라고', '밝혔다', '따라서', '기업이', '내부는', '물론', '협력사', '및', '고객과', '표준화된', 'e', '비즈니스', '환경을', '구축할', '수', '있게', '된다', '이번에', '발표된', '솔루션군은', 'ibm', '소프트웨어사업본부', '서비스사업조직인', '글로벌', '서비스', '그리고', '컨설팅사업조직인', 'ibm', '비즈니스컨설팅서비스', 'ibm', 'bcs', '가', '주축이', '되어', '공급한다', '솔루션의', '핵심', '구성은', 'soa', '기반', '위에', '애플리케이션을', '구축하고', '통합하는', '소프트웨어', '제품', '환경', '평가', '전략', '수립', '및', '기획', '애플리케이션', '혁신', '컴포넌트', '비즈니스', '모델링', '컨설팅', '등', '5종이다', '또', '애플리케이션', '혁신', '및', '통합', '서비스', '비즈니스', '프로세스', '맵을', '작성하고', '비즈니스를', '직원', '프로세스', '시스템이', '담당한', '업무별로', '구분하는', '컴포넌트', '비즈니스', '모델링', '컨설팅', '서비스', '등이', '있다', 'ibm은', '이번', '솔루션', '발표와', '함께', '이', '분야', '사업을', '대폭', '강화하게', '되었다', 'ibm의', 'soa', '솔루션은', '기업이', '온디맨드', 'e', '비즈니스를', '달성하는', '데', '필요한', '기술을', '제공하며', '고객', '제휴사', '협력업체', '전반에', '걸쳐서', '애플리케이션을', '통합할', '수', '있도록', '함으로써', '고객의', '요구', '시장', '변화', '외부적', '요인에', '신속하게', '적응할', '수', '있도록', '한다', '웹스피어', '비즈니스', '인티그레이션', '서버', '파운데이션', '고객이', '서비스', '지향적', '아키텍처로', '애플리케이션을', '구축', '및', '통합할', '수', '있도록', '하는', '솔루션', '대기업', '제품으로서는', '비즈니스', '로직을', '실행하기', '위한', '산업표준', '규격인', '비즈니스', '프로세스', '실행', '언어', 'bpel', 'business', 'process', 'execution', 'language', '를', '지원하는', '최초의', '제품이다', '웹스피어', '비즈니스', '인티그레이션을', '이용함으로써', '기존', '웹', '서비스', '및', '패키지', '애플리케이션을', '이용해', '재사용가능', '서비스를', '구축하고', '서비스를', '결합해서', '비즈니스', '프로세스와', '소프트웨어', '애플리케이션을', '연동시킬', '수', '있다', 'ibm', 'soa', '평가', '서비스', '현재', 'soa를', '도입하려는', '고객이', '계획하고', '있는', 'soa의', '기능적', '및', '기술적', '측면을', '평가하는', '서비스로', 'ibm', '글로벌', '서비스가', '제공한다', '국내', '및', '해외', '계열사의', '신규', '연계', '및', '오픈을', '위하여', '다음', '절차에', '따라', '진행하며', '계열사가', '신규', '연계될', '때마다', '관련', '산출물을', '참조하고', '항상', '최신으로', '업데이트', '한다', '신규', '계열사', '연계를', '위한', '사전', '준비를', '마치고', '계열사', '서버에', 'eai', 'agent를', '설치하고', '나면', '계열사의', 'case에', '해당하는', '인터페이스를', 'eai', '인터페이스', '개발', '방안에', '따라', '진행한다', 'refer', 'v', 'system_event', 'view', 'time', 'waited', 'average', 'wait', 'thefollowing', 'action', 'estimate', 'time', 'waited', 'read', 'incurred', 'rereading', 'data', 'block', 'tobe', 'written', 'disk', 'request', 'another', 'instance', 'multiply', 'statistic', 'example', 'time', 'waited', 'db', 'ﬁle', 'sequential', 'read', 'percentage', 'readi', 'caused', 'previous', 'cache', 'ﬂushes', 'shown', 'formula', 'lock', 'buffer', 'read', 'value', 'lock', 'convert', 'n', 'derived', 'fromv', 'lock_activity', 'physical', 'read', 'v', 'sysstat', 'view', 'similarly', 'proportion', 'time', 'waited', 'database', 'ﬁle', 'parallel', 'writes', 'causedby', 'ping', 'estimated', 'multiplying', 'db', 'ﬁle', 'parallel', 'write', 'time', 'found', 'inv', 'system_events', 'table', '11', '1', 'describes', 'global', 'cache', 'coherence', 'related', 'view', 'type', 'ofstatistics', 'contain', 'refer', 'v', 'sysstat', 'countrequests', 'action', 'shownto', 'right', 'note', 'also', 'refer', 'convert', 'type', 'speciﬁc', 'row', 'v', 'lock_activity', 'refer', 'v', 'sysstat', 'theamount', 'time', 'waited', 'theactions', 'shown', 'right', 'mentioned', 'useful', 'maintain', 'application', 'proﬁles', 'per', 'transaction', 'perunit', 'time', 'allows', 'compare', 'two', 'distinct', 'workload', 'detectchanges', 'workload', 'rate', 'also', 'helpful', 'determining', 'capacity', 'foridentifying', 'throughput', 'issue', 'oracle', 'recommends', 'incorporate', 'thefollowing', 'ratio', 'statistic', 'performance', 'monitoring', 'script', 'calculate', 'statistic', 'per', 'second', 'minute', 'dividing', 'total', 'count', 'ortimes', 'waited', 'measurement', 'interval', 'percentage', 'buffer', 'accessed', 'global', 'work', 'percentage', 'causedby', 'inter', 'instance', 'synchronization', 'important', 'measure', 'efﬁcient', 'yourapplication', 'process', 'share', 'data', 'also', 'reveal', 'whether', 'database', 'designedfor', 'optimum', 'scalability', 'use', 'following', 'calculation', 'determine', 'percentage', 'buffer', 'access', 'forlocal', 'operation', 'word', 'read', 'change', 'database', 'buffer', 'notsubject', 'lock', 'conversion', 'similarly', 'compute', 'percentage', 'read', 'write', 'local', 'operation', 'usingthe', 'following', 'equation', 'calculation', 'implies', 'percent', 'time', 'dbwr', 'writes', 'local', 'work', 'calculation', 'implies', 'number', 'percent', 'read', 'user', 'process', 'localwork', 'refer', 'forced', 'read', 'previous', 'formula', 'physical', 'read', 'statistic', 'v', 'sysstat', 'combinedwith', 'lock', 'buffer', 'read', 'value', 'v', 'lock_activity', 'base', 'thelocal', 'write', 'ratio', 'entirely', 'corresponding', 'value', 'v', 'sysstat', 'consistent', 'get', 'db', 'block', 'get', 'global', 'cache', 'get', 'global', 'cache', 'convert', '100', '11', '12', 'oracle8i', 'parallel', 'server', 'administration', 'deployment', 'performancepatterns', 'moreover', 'represent', 'probability', 'data', 'block', 'access', 'eitherglobal', 'local', 'therefore', 'use', 'information', 'rough', 'estimator', 'inscalability', 'calculation', 'application', 'performing', 'well', 'analyze', 'component', 'theapplication', 'identify', 'component', 'causing', 'problem', 'checkthe', 'operating', 'system', 'dlm', 'statistic', 'explained', 'next', 'heading', 'forindications', 'contention', 'excessive', 'cpu', 'usage', 'excessive', 'lock', 'conversion', 'thatyou', 'measure', 'speciﬁc', 'procedure', 'may', 'reveal', 'excessive', 'read', 'write', 'activityor', 'high', 'cpu', 'requirement', 'dlm', 'component', 'examine', 'statistic', 'view', 'andanalyze', 'hit', 'ratio', 'shared', 'pool', 'buffer', 'cache', 'result', 'insert', 'index', 'block', 'multipleinstances', 'share', 'sequence', 'generator', 'primary', 'key', 'value', 'may', 'need', 'use', 'multiplier', 'sequence_number', 'xinstance_number', 'x', '1', '000', '000', '000', 'prevent', 'instance', 'inserting', 'newentries', 'index', 'creating', 'sequence', 'without', 'using', 'cache', 'clause', 'may', 'create', 'lot', 'overhead', 'chapter', 'describes', 'oracle', 'parallel', 'server', 'cache', 'fusion', 'related', 'statistic', 'andprovides', 'procedure', 'explain', 'use', 'statistic', 'monitor', 'tuneperformance', 'chapter', 'also', 'brieﬂy', 'explains', 'cache', 'fusion', 'resolvesreader', 'writer', 'conﬂicts', 'oracle', 'parallel', 'server', 'describes', 'cache', 'fusion', 'beneﬁtsin', 'general', 'term', 'apply', 'type', 'system', 'application', 'topic', 'chapter', 'include', 'data', 'block', 'requested', 'one', 'instance', 'memory', 'cache', 'remoteinstance', 'cache', 'fusion', 'resolve', 'read', 'write', 'conﬂict', 'using', 'remote', 'memoryaccess', 'disk', 'access', 'requesting', 'instance', 'sends', 'request', 'consistent', 'readcopy', 'block', 'holding', 'instance', 'block', 'server', 'process', 'bsp', 'theholding', 'instance', 'transmits', 'consistent', 'read', 'image', 'requested', 'block', 'directlyfrom', 'holding', 'instance', 'buffer', 'cache', 'requesting', 'instance', 'buffer', 'cacheacross', 'high', 'speed', 'interconnect', 'figure', '12', '1', 'illustrates', 'cache', 'fusion', 'enables', 'buffer', 'cache', 'one', 'node', 'tosend', 'data', 'block', 'directly', 'buffer', 'cache', 'another', 'node', 'way', 'low', 'latency', 'high', 'bandwidth', 'interconnects', 'reduces', 'need', 'expensive', 'disk', 'inparallel', 'cache', 'management', 'cache', 'fusion', 'also', 'leverage', 'new', 'interconnect', 'technology', 'low', 'latency', 'user', 'space', 'based', 'interprocessor', 'communication', 'potentially', 'lower', 'cpuusage', 'reducing', 'operating', 'system', 'context', 'switch', 'inter', 'node', 'message', 'note', 'cache', 'fusion', 'always', 'enabled', 'cache', 'fusion', 'solves', 'part', 'block', 'conﬂict', 'resolution', 'issue', 'providingimproved', 'scalability', 'application', 'experience', 'high', 'level', 'reader', 'writercontention', 'application', 'high', 'writer', 'writer', 'concurrency', 'also', 'need', 'toaccurately', 'partition', 'application', 'table', 'reduce', 'potential', 'forwriter', 'writer', 'conﬂicts', 'cache', 'fusion', 'improves', 'application', 'transaction', 'throughput', 'scalability', 'byproviding', 'application', 'demonstrating', 'high', 'reader', 'writer', 'conﬂict', 'rate', 'disk', 'basedpcm', 'beneﬁt', 'cache', 'fusion', 'packaged', 'application', 'also', 'scale', 'moreeffectively', 'result', 'cache', 'fusion', 'application', 'oltp', 'reportingfunctions', 'execute', 'separate', 'node', 'may', 'also', 'beneﬁt', 'cache', 'fusion', 'thisreduces', 'pinging', 'data', 'block', 'disk', 'performance', 'gain', 'derived', 'primarilyfrom', 'reduced', 'x', 'lock', 'conversion', 'corresponding', 'reduction', 'disk', 'ofor', 'x', 'lock', 'conversion', 'furthermore', 'instance', 'changing', 'cached', 'data', 'block', 'itreceived', 'read', 'request', 'block', 'another', 'instance', 'would', 'torequest', 'exclusive', 'access', 'block', 'subsequent', 'change', 'becausethe', 'instance', 'retains', 'exclusive', 'lock', 'buffer', 'block', 'shipped', 'thereading', 'instance', 'cache', 'fusion', 'exploit', 'high', 'speed', 'ipcs', 'oracle', 'parallel', 'server', 'beneﬁts', 'fromthe', 'performance', 'gain', 'latest', 'technology', 'low', 'latency', 'communicationacross', 'cluster', 'interconnects', 'cache', 'fusion', 'reduces', 'cpu', 'utilization', 'taking', 'advantage', 'user', 'mode', 'ipcs', 'alsoknown', 'memory', 'mapped', 'ipcs', 'unix', 'nt', 'based', 'platform', 'theappropriate', 'hardware', 'support', 'available', 'operating', 'system', 'context', 'switch', 'areminimized', 'beyond', 'basic', 'reduction', 'achieved', 'cache', 'fusion', 'alone', 'alsoeliminates', 'costly', 'data', 'copying', 'system', 'call', 'interconnect', 'operative', 'cannot', 'signiﬁcantly', 'inﬂuence', 'itsperformance', 'interconnects', 'support', 'oracle', 'parallel', 'server', 'cache', 'fusion', 'use', 'one', 'theseprotocols', 'oracle', 'parallel', 'server', 'use', 'interconnect', 'product', 'support', 'theseprotocols', 'interconnect', 'product', 'must', 'also', 'certiﬁed', 'oracle', 'parallel', 'serverhardware', 'cluster', 'platform', 'cache', 'fusion', 'performance', 'level', 'may', 'vary', 'term', 'latency', 'throughputfrom', 'application', 'application', 'performance', 'inﬂuenced', 'type', 'andmixture', 'transaction', 'system', 'process', 'performance', 'gain', 'cache', 'fusion', 'also', 'vary', 'workload', 'thehardware', 'interconnect', 'protocol', 'speciﬁcations', 'operating', 'systemresource', 'usage', 'also', 'affect', 'performance', 'application', 'demonstrate', 'signiﬁcant', 'amount', 'consistent', 'readcontention', 'prior', 'cache', 'fusion', 'performance', 'cache', 'fusion', 'likelyremain', 'unchanged', 'however', 'application', 'experienced', 'numerous', 'lockconversions', 'heavy', 'disk', 'result', 'consistent', 'read', 'conﬂicts', 'yourperformance', 'cache', 'fusion', 'improve', 'signiﬁcantly', 'comparison', 'locking', 'statistic', 'oracle', '8', 'fusion', 'statistic', 'monitor', 'inter', 'instance', 'performance', 'main', 'goal', 'monitoring', 'cache', 'fusion', 'oracle', 'parallel', 'server', 'performanceis', 'determine', 'cost', 'global', 'processing', 'quantify', 'resource', 'required', 'tomaintain', 'coherency', 'synchronize', 'instance', 'analyzing', 'theperformance', 'statistic', 'several', 'view', 'described', 'following', 'section', 'use', 'monitoring', 'procedure', 'ongoing', 'basis', 'observe', 'processing', 'trendsand', 'maintain', 'processing', 'optimal', 'level', 'many', 'statistic', 'available', 'measure', 'work', 'done', 'different', 'component', 'ofthe', 'database', 'kernel', 'cache', 'layer', 'transaction', 'layer', 'layer', 'moreover', 'timed', 'statistic', 'allow', 'accurately', 'determine', 'time', 'spent', 'onprocessing', 'certain', 'request', 'time', 'waited', 'speciﬁc', 'event', '今天的中国有很多问题', '因为冠状病毒很流行', 'see', 'also', 'chapter', '7', 'information', 'lock', 'type', 'testtesttesttesttesttesttest', '안녕', '무한도전입니다', '무슨생각하시나요', '무슨생각하시나요', '안녕']\n"
     ]
    }
   ],
   "source": [
    "##영어##\n",
    "### 표제어 추출 사용 시 ###\n",
    "import nltk\n",
    "from nltk.tokenize import RegexpTokenizer\n",
    "from nltk.stem import WordNetLemmatizer\n",
    "lemmatizer = WordNetLemmatizer()\n",
    "token = RegexpTokenizer('[\\w]+')\n",
    "result_pre_lem = [token.tokenize(i) for i in line2]\n",
    "middle_pre_lem= [r for i in result_pre_lem for r in i]\n",
    "final_lem = [lemmatizer.lemmatize(i) for i in middle_pre_lem if not i in stop_word_eng] # 불용어 제거\n",
    "print(final_lem)"
   ]
  },
  {
   "cell_type": "code",
   "execution_count": 6,
   "id": "ed855203-fc33-4cb8-bedb-37d8d4c83024",
   "metadata": {},
   "outputs": [
    {
     "name": "stdout",
     "output_type": "stream",
     "text": [
      "English top 10\n"
     ]
    },
    {
     "data": {
      "text/plain": [
       "cache          34\n",
       "fusion         23\n",
       "instance       15\n",
       "block          15\n",
       "read           15\n",
       "application    14\n",
       "statistic      13\n",
       "also           12\n",
       "buffer         11\n",
       "비즈니스           10\n",
       "dtype: int64"
      ]
     },
     "execution_count": 6,
     "metadata": {},
     "output_type": "execute_result"
    }
   ],
   "source": [
    "###텍스트에서 많이 나온 단어###\n",
    "###표제어(대표단어=>예:is, am, are => be임 이때 be가 표제어임) 추출 시#####\n",
    "import pandas as pd\n",
    "##영어##\n",
    "english = pd.Series(final_lem).value_counts().head(10)\n",
    "print(\"English top 10\")\n",
    "english"
   ]
  },
  {
   "cell_type": "code",
   "execution_count": 7,
   "id": "be43dcef-54e8-499f-ad80-5418d95acc15",
   "metadata": {},
   "outputs": [
    {
     "name": "stdout",
     "output_type": "stream",
     "text": [
      "['필요', '시', '입력', '데이터를', '생성하는', '외부시스템이', '시스템에', '접근할', '수', '있는', 'ftp', '계정과', '비밀번호', '설정하며', '다른', '디렉토리에', '접근을', '막는다', '외부시스템과', '데이터를', '주고', '받기', '위해', '사용되는', '디렉토리는', '다음과', '같다', 'soa는', '비즈니스', '프로세스를', '기본적인', '표준', '빌딩', '블럭', '단위로', '분할하여', '이를', '프로세스와', '유연하게', '일치시키는', '특징이', '있다', '공공지원', '민간임대주택은', '주변', '시세의', '95', '이하의', '저렴한', '임대료', '혜택', '외에도', '품질좋은', '주택에서', '8년간', '안심하고', '살', '수', '있는', '장점이', '있다', '위기아동', '발생을', '미리', '예방할', '수', '있는', '지원활동이나', '인프라', '구축보다는', '피해아동이', '발생했을', '때', '그때그때', '대처하는', '방식에서', '벗어나지', '못하고', '있다는', '것이다', '여야가', '각종', '현안마다', '정치적', '타협을', '모색하는', '대신', '검찰과', '법원을', '찾아', '상대를', '처벌해', '달라고', '독촉하는', '정치의', '사법화', '가', '극심해지고', '있다는', '지적이다', '부동산114는', '전국', '오피스텔의', '연도별', '임대수익률', '추이를', '분석한', '결과', '2018년', '말', '기준', '연', '5', '의', '임대수익률이', '붕괴된', '것으로', '나타났다고', '12일', '밝혔다', '리얼미터는', '9', '13', '부동산대책', '발표', '직후', '종부세', '과표', '혼선', '적용대상', '확대', '오보에', '이은', '세금폭탄', '논란이', '확대된', '데', '따른', '것으로', '풀이했다', '강', '장관은', '러시아가', '유엔', '안전보장이사회', '비공개회의를', '요청한', '것과', '관련해', '대북제재', '문제가', '논의되지', '않을까', '예상한다', '며', '러시아의', '요청도', '사전에', '인지했다고', '설명했다', '민', '청장은', '개선방안과', '관련해', '물리력', '행사', '기준표도', '최종', '검토단계에', '있다', '면서', '유형별로', '세세한', '개선과제를', '적용해서', '정비해야', '할', '것이', '있다', '고', '설명했다', '한', '네티즌이', '강제추행', '혐의로', '법정구속', '된', '남편의', '억울함을', '주장한', '사건과', '관련', '법원', '관계자는', '담당', '판사가', '객관적으로', '판단한', '것', '이라고', '밝혔다', '따라서', '기업이', '내부는', '물론', '협력사', '및', '고객과', '표준화된', 'e', '비즈니스', '환경을', '구축할', '수', '있게', '된다', '이번에', '발표된', '솔루션군은', 'ibm', '소프트웨어사업본부', '서비스사업조직인', '글로벌', '서비스', '그리고', '컨설팅사업조직인', 'ibm', '비즈니스컨설팅서비스', 'ibm', 'bc', '가', '주축이', '되어', '공급한다', '솔루션의', '핵심', '구성은', 'soa', '기반', '위에', '애플리케이션을', '구축하고', '통합하는', '소프트웨어', '제품', '환경', '평가', '전략', '수립', '및', '기획', '애플리케이션', '혁신', '컴포넌트', '비즈니스', '모델링', '컨설팅', '등', '5종이다', '또', '애플리케이션', '혁신', '및', '통합', '서비스', '비즈니스', '프로세스', '맵을', '작성하고', '비즈니스를', '직원', '프로세스', '시스템이', '담당한', '업무별로', '구분하는', '컴포넌트', '비즈니스', '모델링', '컨설팅', '서비스', '등이', '있다', 'ibm은', '이번', '솔루션', '발표와', '함께', '이', '분야', '사업을', '대폭', '강화하게', '되었다', 'ibm의', 'soa', '솔루션은', '기업이', '온디맨드', 'e', '비즈니스를', '달성하는', '데', '필요한', '기술을', '제공하며', '고객', '제휴사', '협력업체', '전반에', '걸쳐서', '애플리케이션을', '통합할', '수', '있도록', '함으로써', '고객의', '요구', '시장', '변화', '외부적', '요인에', '신속하게', '적응할', '수', '있도록', '한다', '웹스피어', '비즈니스', '인티그레이션', '서버', '파운데이션', '고객이', '서비스', '지향적', '아키텍처로', '애플리케이션을', '구축', '및', '통합할', '수', '있도록', '하는', '솔루션', '대기업', '제품으로서는', '비즈니스', '로직을', '실행하기', '위한', '산업표준', '규격인', '비즈니스', '프로세스', '실행', '언어', 'bpel', 'busi', 'process', 'execut', 'languag', '를', '지원하는', '최초의', '제품이다', '웹스피어', '비즈니스', '인티그레이션을', '이용함으로써', '기존', '웹', '서비스', '및', '패키지', '애플리케이션을', '이용해', '재사용가능', '서비스를', '구축하고', '서비스를', '결합해서', '비즈니스', '프로세스와', '소프트웨어', '애플리케이션을', '연동시킬', '수', '있다', 'ibm', 'soa', '평가', '서비스', '현재', 'soa를', '도입하려는', '고객이', '계획하고', '있는', 'soa의', '기능적', '및', '기술적', '측면을', '평가하는', '서비스로', 'ibm', '글로벌', '서비스가', '제공한다', '국내', '및', '해외', '계열사의', '신규', '연계', '및', '오픈을', '위하여', '다음', '절차에', '따라', '진행하며', '계열사가', '신규', '연계될', '때마다', '관련', '산출물을', '참조하고', '항상', '최신으로', '업데이트', '한다', '신규', '계열사', '연계를', '위한', '사전', '준비를', '마치고', '계열사', '서버에', 'eai', 'agent를', '설치하고', '나면', '계열사의', 'case에', '해당하는', '인터페이스를', 'eai', '인터페이스', '개발', '방안에', '따라', '진행한다', 'refer', 'v', 'system_ev', 'view', 'time', 'wait', 'averag', 'wait', 'thefollow', 'action', 'estim', 'time', 'wait', 'read', 'incur', 'reread', 'data', 'block', 'tobe', 'written', 'disk', 'request', 'anoth', 'instanc', 'multipli', 'statist', 'exampl', 'time', 'wait', 'db', 'ﬁle', 'sequenti', 'read', 'percentag', 'readi', 'caus', 'previou', 'cach', 'ﬂush', 'shown', 'formula', 'lock', 'buffer', 'read', 'valu', 'lock', 'convert', 'n', 'deriv', 'fromv', 'lock_act', 'physic', 'read', 'v', 'sysstat', 'view', 'similarli', 'proport', 'time', 'wait', 'databas', 'ﬁle', 'parallel', 'write', 'causedbi', 'ping', 'estim', 'multipli', 'db', 'ﬁle', 'parallel', 'write', 'time', 'found', 'inv', 'system_ev', 'tabl', '11', '1', 'describ', 'global', 'cach', 'coher', 'relat', 'view', 'type', 'ofstatist', 'contain', 'refer', 'v', 'sysstat', 'countrequest', 'action', 'shownto', 'right', 'note', 'also', 'refer', 'convert', 'type', 'speciﬁc', 'row', 'v', 'lock_act', 'refer', 'v', 'sysstat', 'theamount', 'time', 'wait', 'theaction', 'shown', 'right', 'mention', 'use', 'maintain', 'applic', 'proﬁl', 'per', 'transact', 'perunit', 'time', 'allow', 'compar', 'two', 'distinct', 'workload', 'detectchang', 'workload', 'rate', 'also', 'help', 'determin', 'capac', 'foridentifi', 'throughput', 'issu', 'oracl', 'recommend', 'incorpor', 'thefollow', 'ratio', 'statist', 'perform', 'monitor', 'script', 'calcul', 'statist', 'per', 'second', 'minut', 'divid', 'total', 'count', 'ortim', 'wait', 'measur', 'interv', 'percentag', 'buffer', 'access', 'global', 'work', 'percentag', 'causedbi', 'inter', 'instanc', 'synchron', 'import', 'measur', 'efﬁcient', 'yourappl', 'process', 'share', 'data', 'also', 'reveal', 'whether', 'databas', 'designedfor', 'optimum', 'scalabl', 'use', 'follow', 'calcul', 'determin', 'percentag', 'buffer', 'access', 'forloc', 'oper', 'word', 'read', 'chang', 'databas', 'buffer', 'notsubject', 'lock', 'convers', 'similarli', 'comput', 'percentag', 'read', 'write', 'local', 'oper', 'usingth', 'follow', 'equat', 'calcul', 'impli', 'percent', 'time', 'dbwr', 'write', 'local', 'work', 'calcul', 'impli', 'number', 'percent', 'read', 'user', 'process', 'localwork', 'refer', 'forc', 'read', 'previou', 'formula', 'physic', 'read', 'statist', 'v', 'sysstat', 'combinedwith', 'lock', 'buffer', 'read', 'valu', 'v', 'lock_act', 'base', 'theloc', 'write', 'ratio', 'entir', 'correspond', 'valu', 'v', 'sysstat', 'consist', 'get', 'db', 'block', 'get', 'global', 'cach', 'get', 'global', 'cach', 'convert', '100', '11', '12', 'oracle8i', 'parallel', 'server', 'administr', 'deploy', 'performancepattern', 'moreov', 'repres', 'probabl', 'data', 'block', 'access', 'eitherglob', 'local', 'therefor', 'use', 'inform', 'rough', 'estim', 'inscal', 'calcul', 'applic', 'perform', 'well', 'analyz', 'compon', 'theapplic', 'identifi', 'compon', 'caus', 'problem', 'checkth', 'oper', 'system', 'dlm', 'statist', 'explain', 'next', 'head', 'forind', 'content', 'excess', 'cpu', 'usag', 'excess', 'lock', 'convers', 'thatyou', 'measur', 'speciﬁc', 'procedur', 'may', 'reveal', 'excess', 'read', 'write', 'activityor', 'high', 'cpu', 'requir', 'dlm', 'compon', 'examin', 'statist', 'view', 'andanalyz', 'hit', 'ratio', 'share', 'pool', 'buffer', 'cach', 'result', 'insert', 'index', 'block', 'multipleinst', 'share', 'sequenc', 'gener', 'primari', 'key', 'valu', 'may', 'need', 'use', 'multipli', 'sequence_numb', 'xinstance_numb', 'x', '1', '000', '000', '000', 'prevent', 'instanc', 'insert', 'newentri', 'index', 'creat', 'sequenc', 'without', 'use', 'cach', 'claus', 'may', 'creat', 'lot', 'overhead', 'chapter', 'describ', 'oracl', 'parallel', 'server', 'cach', 'fusion', 'relat', 'statist', 'andprovid', 'procedur', 'explain', 'use', 'statist', 'monitor', 'tuneperform', 'chapter', 'also', 'brieﬂi', 'explain', 'cach', 'fusion', 'resolvesread', 'writer', 'conﬂict', 'oracl', 'parallel', 'server', 'describ', 'cach', 'fusion', 'beneﬁtsin', 'gener', 'term', 'appli', 'type', 'system', 'applic', 'topic', 'chapter', 'includ', 'data', 'block', 'request', 'one', 'instanc', 'memori', 'cach', 'remoteinst', 'cach', 'fusion', 'resolv', 'read', 'write', 'conﬂict', 'use', 'remot', 'memoryaccess', 'disk', 'access', 'request', 'instanc', 'send', 'request', 'consist', 'readcopi', 'block', 'hold', 'instanc', 'block', 'server', 'process', 'bsp', 'thehold', 'instanc', 'transmit', 'consist', 'read', 'imag', 'request', 'block', 'directlyfrom', 'hold', 'instanc', 'buffer', 'cach', 'request', 'instanc', 'buffer', 'cacheacross', 'high', 'speed', 'interconnect', 'figur', '12', '1', 'illustr', 'cach', 'fusion', 'enabl', 'buffer', 'cach', 'one', 'node', 'tosend', 'data', 'block', 'directli', 'buffer', 'cach', 'anoth', 'node', 'way', 'low', 'latenc', 'high', 'bandwidth', 'interconnect', 'reduc', 'need', 'expens', 'disk', 'inparallel', 'cach', 'manag', 'cach', 'fusion', 'also', 'leverag', 'new', 'interconnect', 'technolog', 'low', 'latenc', 'user', 'space', 'base', 'interprocessor', 'commun', 'potenti', 'lower', 'cpuusag', 'reduc', 'oper', 'system', 'context', 'switch', 'inter', 'node', 'messag', 'note', 'cach', 'fusion', 'alway', 'enabl', 'cach', 'fusion', 'solv', 'part', 'block', 'conﬂict', 'resolut', 'issu', 'providingimprov', 'scalabl', 'applic', 'experi', 'high', 'level', 'reader', 'writercontent', 'applic', 'high', 'writer', 'writer', 'concurr', 'also', 'need', 'toaccur', 'partit', 'applic', 'tabl', 'reduc', 'potenti', 'forwrit', 'writer', 'conﬂict', 'cach', 'fusion', 'improv', 'applic', 'transact', 'throughput', 'scalabl', 'byprovid', 'applic', 'demonstr', 'high', 'reader', 'writer', 'conﬂict', 'rate', 'disk', 'basedpcm', 'beneﬁt', 'cach', 'fusion', 'packag', 'applic', 'also', 'scale', 'moreeffect', 'result', 'cach', 'fusion', 'applic', 'oltp', 'reportingfunct', 'execut', 'separ', 'node', 'may', 'also', 'beneﬁt', 'cach', 'fusion', 'thisreduc', 'ping', 'data', 'block', 'disk', 'perform', 'gain', 'deriv', 'primarilyfrom', 'reduc', 'x', 'lock', 'convers', 'correspond', 'reduct', 'disk', 'ofor', 'x', 'lock', 'convers', 'furthermor', 'instanc', 'chang', 'cach', 'data', 'block', 'itreceiv', 'read', 'request', 'block', 'anoth', 'instanc', 'would', 'torequest', 'exclus', 'access', 'block', 'subsequ', 'chang', 'becauseth', 'instanc', 'retain', 'exclus', 'lock', 'buffer', 'block', 'ship', 'theread', 'instanc', 'cach', 'fusion', 'exploit', 'high', 'speed', 'ipc', 'oracl', 'parallel', 'server', 'beneﬁt', 'fromth', 'perform', 'gain', 'latest', 'technolog', 'low', 'latenc', 'communicationacross', 'cluster', 'interconnect', 'cach', 'fusion', 'reduc', 'cpu', 'util', 'take', 'advantag', 'user', 'mode', 'ipc', 'alsoknown', 'memori', 'map', 'ipc', 'unix', 'nt', 'base', 'platform', 'theappropri', 'hardwar', 'support', 'avail', 'oper', 'system', 'context', 'switch', 'areminim', 'beyond', 'basic', 'reduct', 'achiev', 'cach', 'fusion', 'alon', 'alsoelimin', 'costli', 'data', 'copi', 'system', 'call', 'interconnect', 'oper', 'cannot', 'signiﬁcantli', 'inﬂuenc', 'itsperform', 'interconnect', 'support', 'oracl', 'parallel', 'server', 'cach', 'fusion', 'use', 'one', 'theseprotocol', 'oracl', 'parallel', 'server', 'use', 'interconnect', 'product', 'support', 'theseprotocol', 'interconnect', 'product', 'must', 'also', 'certiﬁ', 'oracl', 'parallel', 'serverhardwar', 'cluster', 'platform', 'cach', 'fusion', 'perform', 'level', 'may', 'vari', 'term', 'latenc', 'throughputfrom', 'applic', 'applic', 'perform', 'inﬂuenc', 'type', 'andmixtur', 'transact', 'system', 'process', 'perform', 'gain', 'cach', 'fusion', 'also', 'vari', 'workload', 'thehardwar', 'interconnect', 'protocol', 'speciﬁc', 'oper', 'systemresourc', 'usag', 'also', 'affect', 'perform', 'applic', 'demonstr', 'signiﬁc', 'amount', 'consist', 'readcontent', 'prior', 'cach', 'fusion', 'perform', 'cach', 'fusion', 'likelyremain', 'unchang', 'howev', 'applic', 'experienc', 'numer', 'lockconvers', 'heavi', 'disk', 'result', 'consist', 'read', 'conﬂict', 'yourperform', 'cach', 'fusion', 'improv', 'signiﬁcantli', 'comparison', 'lock', 'statist', 'oracl', '8', 'fusion', 'statist', 'monitor', 'inter', 'instanc', 'perform', 'main', 'goal', 'monitor', 'cach', 'fusion', 'oracl', 'parallel', 'server', 'performancei', 'determin', 'cost', 'global', 'process', 'quantifi', 'resourc', 'requir', 'tomaintain', 'coher', 'synchron', 'instanc', 'analyz', 'theperform', 'statist', 'sever', 'view', 'describ', 'follow', 'section', 'use', 'monitor', 'procedur', 'ongo', 'basi', 'observ', 'process', 'trendsand', 'maintain', 'process', 'optim', 'level', 'mani', 'statist', 'avail', 'measur', 'work', 'done', 'differ', 'compon', 'ofth', 'databas', 'kernel', 'cach', 'layer', 'transact', 'layer', 'layer', 'moreov', 'time', 'statist', 'allow', 'accur', 'determin', 'time', 'spent', 'onprocess', 'certain', 'request', 'time', 'wait', 'speciﬁc', 'event', '今天的中国有很多问题', '因为冠状病毒很流行', 'see', 'also', 'chapter', '7', 'inform', 'lock', 'type', 'testtesttesttesttesttesttest', '안녕', '무한도전입니다', '무슨생각하시나요', '무슨생각하시나요', '안녕']\n"
     ]
    }
   ],
   "source": [
    "##영어##\n",
    "import nltk\n",
    "from nltk.tokenize import RegexpTokenizer\n",
    "from nltk.stem.porter import PorterStemmer\n",
    "ps_stemmer = PorterStemmer()\n",
    "token = RegexpTokenizer('[\\w]+')\n",
    "result2 = [token.tokenize(i) for i in line2]\n",
    "middle_result2= [r for i in result2 for r in i]\n",
    "final_result2 = [ps_stemmer.stem(i) for i in middle_result2 if not i in stop_word_eng] # 불용어 제거\n",
    "print(final_result2)"
   ]
  },
  {
   "cell_type": "code",
   "execution_count": 8,
   "id": "ddb69bff-ce74-4ea3-bbf2-9e62412c9434",
   "metadata": {
    "tags": []
   },
   "outputs": [
    {
     "name": "stdout",
     "output_type": "stream",
     "text": [
      "English top 10\n"
     ]
    },
    {
     "data": {
      "text/plain": [
       "cach       35\n",
       "fusion     23\n",
       "read       15\n",
       "block      15\n",
       "instanc    15\n",
       "applic     14\n",
       "statist    13\n",
       "also       12\n",
       "time       11\n",
       "buffer     11\n",
       "dtype: int64"
      ]
     },
     "execution_count": 8,
     "metadata": {},
     "output_type": "execute_result"
    }
   ],
   "source": [
    "###텍스트에서 많이 나온 단어###(어간 추출 시)\n",
    "import pandas as pd\n",
    "##영어##\n",
    "english2 = pd.Series(final_result2).value_counts().head(10)\n",
    "print(\"English top 10\")\n",
    "english2"
   ]
  },
  {
   "cell_type": "code",
   "execution_count": null,
   "id": "cd165872-1778-4c87-bc8d-9c75ff2e017b",
   "metadata": {},
   "outputs": [],
   "source": []
  }
 ],
 "metadata": {
  "kernelspec": {
   "display_name": "Python 3 (ipykernel)",
   "language": "python",
   "name": "python3"
  },
  "language_info": {
   "codemirror_mode": {
    "name": "ipython",
    "version": 3
   },
   "file_extension": ".py",
   "mimetype": "text/x-python",
   "name": "python",
   "nbconvert_exporter": "python",
   "pygments_lexer": "ipython3",
   "version": "3.9.7"
  }
 },
 "nbformat": 4,
 "nbformat_minor": 5
}

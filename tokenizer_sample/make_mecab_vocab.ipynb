{
 "cells": [
  {
   "cell_type": "code",
   "execution_count": 1,
   "id": "6013926b-4331-43f9-9a93-13d0b3cb34a1",
   "metadata": {},
   "outputs": [],
   "source": [
    "#==============================================================================================\n",
    "# 기존 bert vocab에 새로운 도메인 vocab만들어서 추가하기\n",
    "#\n",
    "# =>기존 pre-trained bert vocab에는 전문단어 domain이 없다(예:문서중앙화, COVID 등)  \n",
    "# 따라서 전문 domain을 기존 bert vocab에 추가해야 한다.\n",
    "# => 따라서 여기서는 mecab(한국어 형태로 분석기)를 이용하여, 추가 vocab을 만들고, \n",
    "# bert wordpiecetokenzer에 추가하는 방법에 대해 설명한다\n",
    "# \n",
    "# 참고 자료 \n",
    "# https://github.com/piegu/language-models/blob/master/nlp_how_to_add_a_domain_specific_vocabulary_new_tokens_to_a_subword_tokenizer_already_trained_like_BERT_WordPiece.ipynb\n",
    "# https://medium.com/@pierre_guillou/nlp-how-to-add-a-domain-specific-vocabulary-new-tokens-to-a-subword-tokenizer-already-trained-33ab15613a41\n",
    "# https://wikidocs.net/64517\n",
    "#\n",
    "# [과정]\n",
    "# 1) 도메인 말뭉치(예:kowiki.txt)에서 mecab을 이용하여 형태소 분석하여 단어들을 추출함.\n",
    "#   => mecab으로 형태소 혹은 명사만 분할하면서, subword 앞에는 '##' prefix 추가함(**ertwordpiece subword와 동일하게)\n",
    "# 2) NLTK 빈도수 계산하는 FreqDist()를 이용하여, 단어들이 빈도수 계산\n",
    "# 3) 상위 빈도수(예:30000)를 가지는 단어들만 add_vocab.txt 로 만듬\n",
    "# 4) 기존 bert vocab.txt 파일에 직접, add_vocab.txt 토큰들 추가(*이때 중복 제거함)\n",
    "# 5) 추가한 vocab을 가지고, tokenizer 생성하고, special 토큰 추가 후, 저장\n",
    "#\n",
    "# **원래 참고자료에는 tokenizer.add_tokens() 으로 추가하면, added_tokens.json 파일에 추가되는데, \n",
    "# 이때 BertTokenizer.from_pretrained() 함수로 호출할때, 호출이 안됨(**이유 모름:엄청 느려지는것 같음)\n",
    "# => 따라서 직접 vocab.txt에 추가하는 방법을 사용함\n",
    "#==============================================================================================\n",
    "import konlpy\n",
    "from konlpy.tag import Mecab\n",
    "from tqdm.notebook import tqdm\n",
    "from nltk import FreqDist\n",
    "import numpy as np\n",
    "import torch\n",
    "from transformers import BertTokenizer"
   ]
  },
  {
   "cell_type": "code",
   "execution_count": 2,
   "id": "2db39d2f-f474-482b-95dd-8321d62d1931",
   "metadata": {},
   "outputs": [
    {
     "name": "stdout",
     "output_type": "stream",
     "text": [
      "['example', 'of', 'an']\n",
      "88692209\n"
     ]
    }
   ],
   "source": [
    "# wiki_20190620.txt 말뭉치 불러옴.\n",
    "corpus = '../../data11/my_corpus/re-moco-corpus2.txt'\n",
    "\n",
    "with open(corpus, 'r', encoding='utf-8') as f:\n",
    "    data = f.read().split(' ') # 공백으로 구분해서 단어들을 추출함\n",
    "\n",
    "print(data[:3])\n",
    "print(len(data))"
   ]
  },
  {
   "cell_type": "code",
   "execution_count": 3,
   "id": "9f16ffd7-2e89-4057-83d0-9db4a468ec3c",
   "metadata": {},
   "outputs": [],
   "source": [
    "# mecab 형태소 분석기를 이용하여, 읽어온 말뭉치를 단어,조사등으로 분리함\n",
    "# => 불용어는 제거함\n",
    "# => mecab으로 형태소 분할하면서, subword 앞에는 prefix '##' 추가함\n",
    "\n",
    "# Mecab 선언\n",
    "mecab = Mecab()\n",
    "\n",
    "# 불용어 정의\n",
    "#stopwords=['이','가','께서','에서','이다','의','을','를','에','에게','께','와','에서','라고', '과','은', '는', '부터','.',',', '_']\n",
    "stopwords=['.',',', '_', '..','\"',';','<', '>', '(', ')', '[', ']', '=', '?', '!']\n",
    "\n",
    "# True = nouns(명사)만 추출, False=형태소 추출(영어 와 그이외의 것으로 구분함)\n",
    "nouns = False\n",
    "\n",
    "# True = sentencepiece 일때 word = _ 붙임, subword=그대로\n",
    "# False = bertwordpiece 일때 word = 그대로, subword=## 붙임\n",
    "SentencePieceTokenizer = False "
   ]
  },
  {
   "cell_type": "code",
   "execution_count": 4,
   "id": "1204a00d-63a6-4fab-a4a3-584f3b0d2ee1",
   "metadata": {},
   "outputs": [
    {
     "data": {
      "application/vnd.jupyter.widget-view+json": {
       "model_id": "6ce6fe1397b9424a8e7d31b06bdf94e2",
       "version_major": 2,
       "version_minor": 0
      },
      "text/plain": [
       "  0%|          | 0/88692209 [00:00<?, ?it/s]"
      ]
     },
     "metadata": {},
     "output_type": "display_data"
    },
    {
     "name": "stdout",
     "output_type": "stream",
     "text": [
      "['example', 'of', 'an', 'actor', 'using', 'the', 'system', 'It', 'is', 'not', 'a', 'use', 'case', 'and', 'in', 'most', 'projects', 'it', 'does', 'not']\n",
      "총 단어 수: 116593032\n",
      "영어 단어 수: 58007166\n"
     ]
    }
   ],
   "source": [
    "'''\n",
    "total_morph=[]\n",
    "for sentence in tqdm(data):\n",
    "    temp = mecab.morphs(sentence)\n",
    "    temp = [word for word in temp if not word in stopwords] # 불용어 제거\n",
    "    total_morph.append(temp)\n",
    "'''\n",
    "# mecab으로 형태소 혹은 명사만 분할할때, subword 앞에는 prefix '##' 추가함\n",
    "total_words=[]\n",
    "en_words=[]  ## 영어단어만 저장해둘 리스트\n",
    "\n",
    "# 명사만 추출하는 경우\n",
    "if nouns == True:\n",
    "    for words in tqdm(data):\n",
    "        count=0\n",
    "\n",
    "        for word in mecab.nouns(words):\n",
    "            if not word in stopwords:\n",
    "                tmp = word\n",
    "\n",
    "                if count > 0:\n",
    "                    if SentencePieceTokenizer == False:\n",
    "                        tmp = \"##\" + tmp  ## subword 앞에는 prefix '##' 추가함\n",
    "                    total_words.append(tmp)  \n",
    "                else:\n",
    "                    if SentencePieceTokenizer == True:\n",
    "                         tmp = \"▁\" + tmp\n",
    "                    total_words.append(tmp)  \n",
    "                    count += 1\n",
    "# 형태소도 포함하여 추출하는 경우\n",
    "else:\n",
    "    \n",
    "    for words in tqdm(data):\n",
    "        count=0\n",
    "         \n",
    "        for word in mecab.morphs(words):\n",
    "            if not word in stopwords:\n",
    "                isen=False     # True=영어단어, false=영어단어가 아님\n",
    "                tmp = word\n",
    "                if tmp.encode().isalpha(): #영어단어인지, string형.isalpha() 함수로 확인\n",
    "                    isen=True\n",
    "                    \n",
    "                if count > 0:\n",
    "                    if SentencePieceTokenizer == False:\n",
    "                        tmp = \"##\" + tmp  ## subword 앞에는 prefix '##' 추가함\n",
    "                    total_words.append(tmp)  \n",
    "                    if isen==True:   ## 영어단어인경우에는 en_words 별도 리스트에 저장해둠\n",
    "                        en_words.append(tmp)\n",
    "                else:\n",
    "                    if SentencePieceTokenizer == True:\n",
    "                        tmp = \"▁\" + tmp\n",
    "                    total_words.append(tmp)  \n",
    "                    if isen==True:  ## 영어단어인경우에는 en_words 별도 리스트에 저장해둠\n",
    "                        en_words.append(tmp)  \n",
    "                    count += 1\n",
    "                \n",
    "print(total_words[:20])\n",
    "print(f'총 단어 수: {len(total_words)}')\n",
    "print(f'영어 단어 수: {len(en_words)}')\n"
   ]
  },
  {
   "cell_type": "code",
   "execution_count": 5,
   "id": "14abac86-e25f-46f1-a12e-f6afb27d6dcd",
   "metadata": {},
   "outputs": [
    {
     "name": "stdout",
     "output_type": "stream",
     "text": [
      "단어 집합의 크기 : 806183\n",
      "[('the', 2823408), ('##하', 1190761), ('##을', 1147194), ('to', 1143400), ('##는', 1027534), ('##에', 971435), ('##를', 917575), ('a', 916245), ('of', 851755), ('and', 811289), ('is', 678301), ('in', 622155), ('##의', 610595), ('for', 531778), ('##이', 521463), ('및', 509650), ('있', 441668), ('##한', 412853), ('that', 398940), ('##으로', 387026), ('1', 380173), ('##은', 380150), ('##에서', 367268), ('##가', 365447), ('you', 358884), ('##여', 349339), ('##고', 339914), ('on', 331929), ('The', 320021), ('##로', 309956), ('or', 307443), ('2', 296290), ('수', 282625), ('be', 280699), ('are', 279941), ('사용', 271827), ('##되', 263548), ('##할', 257961), ('시스템', 253855), ('##적', 253313), ('can', 246500), ('with', 245313), ('##2', 237985), ('정보', 234817), ('##된', 229211), ('an', 220660), ('as', 219826), ('this', 209081), ('##1', 208940), ('##과', 206216), ('by', 205261), ('##한다', 203073), ('데이터', 201578), ('##정보', 199572), ('not', 198173), (\"##'\", 198027), ('##화', 187136), ('경우', 187046), ('관리', 186394), ('##다', 181696), ('data', 177629), ('name', 173288), ('from', 172906), ('##기', 169528), ('서비스', 166491), ('DB', 165707), ('등', 162063), ('##관리', 161600), ('하', 161225), ('3', 160689), ('0', 155428), ('##와', 154319), ('기능', 153245), ('##시스템', 153065), ('이', 152974), ('it', 152904), ('MQ', 149537), ('file', 149257), ('대한', 146348), ('제공', 146287), ('queue', 143997), ('파일', 143834), ('##인', 142932), ('업무', 142929), ('개발', 141089), ('A', 139820), ('##합니다', 138339), ('use', 137348), ('##지', 136472), ('##습니다', 135856), ('확인', 135149), ('message', 133795), ('처리', 133243), ('your', 128118), ('EAI', 127121), ('WebSphere', 126725), ('This', 125787), ('##성', 124395), ('if', 123698), ('page', 123309), ('서버', 122768), ('설정', 121252), ('value', 119122), ('##어', 116451), ('Server', 116253), ('지원', 116045), ('IBM', 115764), ('운영', 115703), ('구성', 115374), ('set', 114977), ('##별', 113591), ('통합', 113469), ('연계', 111647), ('4', 110184), ('구축', 109398), ('수행', 109234), ('information', 108817), ('##The', 108228), ('##자', 107383), ('##도', 106781), ('않', 105249), (\"'\", 105086), ('following', 104076), ('using', 103846), ('ID', 102574), ('변경', 101769), ('##면', 101440), ('system', 100707), ('##년', 100474), ('한다', 100227), ('If', 100222), ('which', 99953), ('인터페이스', 99736), ('필요', 99702), ('기술', 99283), ('used', 99203), ('have', 99047), ('##게', 98913), ('선택', 98586), ('all', 98193), ('command', 97791), ('user', 97627), ('##명', 97410), ('후', 96786), ('##3', 96332), ('조회', 95754), ('##며', 95535), ('보안', 95479), ('server', 95448), ('Oracle', 94240), ('위한', 94213), ('N', 92914), ('##함', 92583), ('application', 91571), ('will', 91468), ('해당', 90724), ('것', 90698), ('C', 90674), ('5', 90426), ('type', 90182), ('시', 89655), ('제', 88954), ('발생', 88663), ('테스트', 88608), ('v', 88464), ('또는', 87770), ('가능', 86813), ('##음', 85532), ('등록', 84505), ('분석', 83603), ('must', 83449), ('s', 83288), ('manager', 82935), ('사용자', 82775), ('one', 82298), ('when', 82085), ('적용', 80341), ('추가', 80260), ('##도록', 79649), ('at', 79345), ('has', 78895), ('관련', 78826), ('##일', 78674), ('object', 78160), ('##시', 77806), ('example', 77547), ('database', 76055), ('only', 75879), ('설치', 75305), ('##들', 74344), ('사업', 73761), ('화면', 73709), ('API', 73688), ('입력', 73522), ('없', 72558), ('MicroStrategy', 71471), ('생성', 71420), ('환경', 71241), ('For', 71173), ('##번호', 71077), ('수신', 70596), ('number', 70341), ('new', 70334), ('요청', 70307), ('any', 70067), ('문서', 70003), ('를', 69971), ('결과', 69692), ('more', 69571), ('작업', 69192), ('정의', 68921), ('표준', 68701), ('You', 68294), ('see', 67944), ('내용', 67935), ('##기관', 67690), ('##4', 67114), ('time', 66889), ('실행', 65827), ('설명', 65395), ('##코드', 64441), ('Data', 64352), ('전송', 64040), ('프로젝트', 63852), ('default', 63397), ('중', 63028), ('##만', 62632), ('S', 62624), ('작성', 62507), ('##서버', 62215), ('다음', 62210), ('10', 61925), ('In', 61477), ('통해', 60506), ('을', 60273), ('저장', 59981), ('service', 59620), ('##사항', 59426), ('클릭', 59305), ('com', 58669), ('other', 58362), ('process', 58252), ('메시지', 58236), ('no', 58013), ('의', 57926), ('Web', 57908), ('SQL', 57735), ('보', 57592), ('V', 57557), ('Windows', 57347), ('함', 57300), ('수정', 57115), ('장애', 57051), ('고객', 56752), ('대상', 56554), ('되', 56125), ('also', 55848), ('할', 55819), ('client', 55782), ('6', 55738), ('프로세스', 55340), ('log', 55303), ('then', 54480), ('each', 54422), ('create', 54362), ('files', 54201), ('프로그램', 54149), ('에', 54106), ('error', 53809), ('각', 53757), ('개인', 53635), ('##여야', 53608), ('전문', 53599), ('level', 53593), ('포함', 53508), ('e', 52872), ('Application', 52867), ('OS', 52675), ('8', 52449), ('list', 52446), ('String', 52328), ('##처리', 51924), ('모니터링', 51650), ('웹', 51626), ('n', 51545), ('따라', 51279), ('table', 51074), ('이용', 51049), ('값', 50838), ('##서비스', 50561), ('B', 50300), ('was', 50247), ('code', 50181), ('I', 50177), ('상태', 49967), ('##월', 49841), ('방안', 49463), ('function', 49315), ('Manager', 49193), ('Version', 49037), ('항목', 49003), ('x', 48764), ('지정', 48679), ('messages', 48546), ('##팀', 48542), ('W', 48497), ('##0', 48325), ('Service', 48054), ('때', 47959), ('위해', 47949), ('same', 47750), ('parameter', 47573), ('진행', 47489), ('모든', 47128), ('같', 47038), ('File', 46880), ('삭제', 46870), ('##해야', 46800), ('7', 46650), ('기본', 46649), ('X', 46482), ('may', 46376), ('테이블', 46203), ('access', 46200), ('specified', 46161), ('java', 46097), ('상세', 46050), ('Java', 45829), ('System', 45696), ('Message', 45544), ('values', 45539), ('##s', 45305), ('Guide', 45259), ('자료', 45250), ('유지', 45227), ('To', 45030), ('구분', 45008), ('class', 44699), ('송신', 44674), ('but', 44529), ('these', 44518), ('do', 44462), ('string', 44091), ('select', 44086), ('directory', 43955), ('method', 43853), ('성능', 43617), ('i', 43571), ('구현', 43532), ('재', 43353), ('활용', 43340), ('오류', 43332), ('int', 43303), ('Linux', 43072), ('목록', 42718), ('##입니다', 42660), ('관리자', 42614), ('##에게', 42570), ('click', 42412), ('key', 42345), ('group', 42296), ('##5', 42231), ('기관', 42189), ('##개', 42124), ('공유', 42061), ('방법', 42054), ('유형', 42050), ('configuration', 42023), ('into', 41838), ('should', 41742), ('##서', 41623), ('its', 41618), ('받', 41543), ('계약', 41509), ('connection', 41455), ('거래', 41357), ('F', 41322), ('IP', 41316), ('주요', 41208), ('##If', 41150), ('내', 41085), ('설계', 41081), ('##거나', 41045), ('제품', 41028), ('표시', 40780), ('연결', 40616), ('##업무', 40607), ('up', 40364), ('단위', 40306), ('call', 40254), ('명', 40137), ('about', 40115), ('Integration', 39982), ('로', 39936), ('한', 39917), ('완료', 39912), ('version', 39866), ('##파일', 39808), ('attribute', 39729), ('field', 39631), ('M', 39549), ('than', 39537), ('so', 39505), ('how', 39443), ('XML', 39414), ('솔루션', 39139), ('기반', 39053), ('##사업', 38952), ('line', 38376), ('기준', 38371), ('available', 38356), ('t', 38234), ('Name', 38227), ('report', 37911), ('그', 37907), ('교육', 37889), ('자동', 37875), ('been', 37770), ('##자의', 37732), ('품질', 37725), ('시간', 37600), ('Adapter', 37508), ('o', 37473), ('이름', 37391), ('does', 37385), ('검색', 37187), ('사항', 37138), ('##어야', 37137), ('12', 37030), ('such', 36972), ('objects', 36904), ('버튼', 36878), ('검증', 36849), ('option', 36794), ('통한', 36777), ('로그', 36746), ('want', 36725), ('channel', 36722), ('##었', 36701), ('큐', 36683), ('전자', 36668), ('##지원', 36625), ('need', 36467), ('전', 36447), ('개선', 36379), ('단계', 36367), ('installation', 36338), ('##자료', 36239), ('정상', 36155), ('응답', 36115), ('c', 35987), ('run', 35790), ('node', 35728), ('applications', 35722), ('기타', 35698), ('암호', 35692), ('다양', 35617), ('It', 35233), ('일반', 35165), ('start', 35083), ('Agent', 34983), ('two', 34581), ('전체', 34498), ('평가', 34465), ('합니다', 34459), ('D', 34452), ('All', 34436), ('IT', 34350), ('return', 34245), ('##8', 34238), ('Process', 34178), ('environment', 34009), ('##됨', 33899), ('현황', 33875), ('가', 33740), ('9', 33664), ('where', 33504), ('20', 33414), ('호출', 33390), ('주', 33370), ('검토', 33300), ('##기술', 33104), ('내부', 33091), ('##해', 33063), ('요구사항', 33038), ('##6', 33024), ('out', 32937), ('폴더', 32935), ('##문서', 32912), ('R', 32753), ('##보안', 32697), ('##01', 32598), ('다른', 32591), ('request', 32573), ('##됩니다', 32564), ('는', 32556), ('코드', 32380), ('100', 32341), ('source', 32263), ('O', 32171)]\n"
     ]
    }
   ],
   "source": [
    "# 1.FreqDist를 이용하여 빈도수 계산(*오래걸림)\n",
    "vocab = FreqDist(np.hstack(total_words))\n",
    "print('단어 집합의 크기 : {}'.format(len(vocab)))\n",
    "\n",
    "# 최대 빈도수 가장높은 500개만 뽑아봄\n",
    "print(vocab.most_common(500))\n",
    "# 특정 단어의 빈도수를 뽑아봄\n",
    "#print(vocab['미국'])\n"
   ]
  },
  {
   "cell_type": "code",
   "execution_count": 9,
   "id": "0d5c0a79-4a85-485c-a085-72057c5cff31",
   "metadata": {},
   "outputs": [
    {
     "name": "stdout",
     "output_type": "stream",
     "text": [
      "*단어 집합의 크기 : 10000\n",
      "*마지막 단어 정보 : ('컬러', 1003)\n"
     ]
    },
    {
     "data": {
      "application/vnd.jupyter.widget-view+json": {
       "model_id": "9279388b37b14ad49d2abf05698eafa6",
       "version_major": 2,
       "version_minor": 0
      },
      "text/plain": [
       "0it [00:00, ?it/s]"
      ]
     },
     "metadata": {},
     "output_type": "display_data"
    },
    {
     "name": "stdout",
     "output_type": "stream",
     "text": [
      "['by', '##한다', '데이터', '##정보', 'not', \"##'\", '##화', '경우', '관리', '##다', 'data', 'name', 'from', '##기', '서비스', 'DB', '등', '##관리', '하', '3']\n"
     ]
    },
    {
     "data": {
      "application/vnd.jupyter.widget-view+json": {
       "model_id": "f4241137b5294543ab7d7ed47848c2db",
       "version_major": 2,
       "version_minor": 0
      },
      "text/plain": [
       "  0%|          | 0/10000 [00:00<?, ?it/s]"
      ]
     },
     "metadata": {},
     "output_type": "display_data"
    }
   ],
   "source": [
    "# 2. 빈도수가 가장 많은 상위 단어들만 뽑아냄\n",
    "# 저장할 파일 경로 \n",
    "new_vocab_out = '../../data11/my_corpus/vocab/re-moco-corpus2-morphs-10000.txt'\n",
    "vocab_size = 10000     # 상위 xxxx 개만 보존\n",
    "\n",
    "vocab1 = vocab.most_common(vocab_size)\n",
    "vocab_len = len(vocab1)\n",
    "print('*단어 집합의 크기 : {}'.format(vocab_len))\n",
    "print('*마지막 단어 정보 : {}'.format(vocab1[vocab_len-1]))\n",
    "\n",
    "# 3. vocab을 list로 만듬\n",
    "new_vocab = []\n",
    "for index, word in tqdm(enumerate(vocab1)):\n",
    "    new_vocab.append(word[0])  # fword[0] 하면 단어만 추출\n",
    "    \n",
    "# 리스트 출력해봄\n",
    "print(new_vocab[50:70])\n",
    "#print(vocab['음악당'])\n",
    "\n",
    "# 4. vocab을 파일로 저장함\n",
    "with open(new_vocab_out, 'w', encoding='utf-8') as f:\n",
    "    for word in tqdm(new_vocab):\n",
    "        f.write(word+'\\n')"
   ]
  },
  {
   "cell_type": "code",
   "execution_count": null,
   "id": "d2b936eb-4201-4257-8961-b1bbcb47119e",
   "metadata": {},
   "outputs": [],
   "source": [
    "'''\n",
    "import seaborn as sns\n",
    "import pandas as pd\n",
    "vocab2 = vocab.most_common(10)\n",
    "\n",
    "all_fdist = pd.Series(dict(vocab2))\n",
    "fig, ax = plt.subplots(figsize=(10,10))\n",
    "## Seaborn plotting using Pandas attributes + xtick rotation for ease of viewing\n",
    "all_plot = sns.barplot(x=all_fdist.index, y=all_fdist.values, ax=ax)\n",
    "plt.xticks(rotation=30);\n",
    "'''"
   ]
  },
  {
   "cell_type": "code",
   "execution_count": 7,
   "id": "bbaed46b-9bd0-431b-91c0-d9d81e9ed284",
   "metadata": {},
   "outputs": [
    {
     "name": "stdout",
     "output_type": "stream",
     "text": [
      "[('the', 2823408), ('to', 1143400), ('a', 916245), ('of', 851755), ('and', 811289), ('is', 678301), ('in', 622155), ('for', 531778), ('that', 398940), ('you', 358884), ('on', 331929), ('The', 320021), ('or', 307443), ('be', 280699), ('are', 279941), ('can', 246500), ('with', 245313), ('an', 220660), ('as', 219826), ('this', 209081), ('by', 205261), ('not', 198173), ('data', 177629), ('name', 173288), ('from', 172906), ('DB', 165707), ('it', 152904), ('MQ', 149537), ('file', 149257), ('queue', 143997), ('A', 139820), ('use', 137348), ('message', 133795), ('your', 128118), ('EAI', 127121), ('WebSphere', 126725), ('This', 125787), ('if', 123698), ('page', 123309), ('value', 119122), ('Server', 116253), ('IBM', 115764), ('set', 114977), ('information', 108817), ('##The', 108228), ('following', 104076), ('using', 103846), ('ID', 102574), ('system', 100707), ('If', 100222), ('which', 99953), ('used', 99203), ('have', 99047), ('all', 98193), ('command', 97791), ('user', 97627), ('server', 95448), ('Oracle', 94240), ('N', 92914), ('application', 91571), ('will', 91468), ('C', 90674), ('type', 90182), ('v', 88464), ('must', 83449), ('s', 83288), ('manager', 82935), ('one', 82298), ('when', 82085), ('at', 79345), ('has', 78895), ('object', 78160), ('example', 77547), ('database', 76055), ('only', 75879), ('API', 73688), ('MicroStrategy', 71471), ('For', 71173), ('number', 70341), ('new', 70334), ('any', 70067), ('more', 69571), ('You', 68294), ('see', 67944), ('time', 66889), ('Data', 64352), ('default', 63397), ('S', 62624), ('In', 61477), ('service', 59620), ('com', 58669), ('other', 58362), ('process', 58252), ('no', 58013), ('Web', 57908), ('SQL', 57735), ('V', 57557), ('Windows', 57347), ('also', 55848), ('client', 55782), ('log', 55303), ('then', 54480), ('each', 54422), ('create', 54362), ('files', 54201), ('error', 53809), ('level', 53593), ('e', 52872), ('Application', 52867), ('OS', 52675), ('list', 52446), ('String', 52328), ('n', 51545), ('table', 51074), ('B', 50300), ('was', 50247), ('code', 50181), ('I', 50177), ('function', 49315), ('Manager', 49193), ('Version', 49037), ('x', 48764), ('messages', 48546), ('W', 48497), ('Service', 48054), ('same', 47750), ('parameter', 47573), ('File', 46880), ('X', 46482), ('may', 46376), ('access', 46200), ('specified', 46161), ('java', 46097), ('Java', 45829), ('System', 45696), ('Message', 45544), ('values', 45539), ('##s', 45305), ('Guide', 45259), ('To', 45030), ('class', 44699), ('but', 44529), ('these', 44518), ('do', 44462), ('string', 44091), ('select', 44086), ('directory', 43955), ('method', 43853), ('i', 43571), ('int', 43303), ('Linux', 43072), ('click', 42412), ('key', 42345), ('group', 42296), ('configuration', 42023), ('into', 41838), ('should', 41742), ('its', 41618), ('connection', 41455), ('F', 41322), ('IP', 41316), ('##If', 41150), ('up', 40364), ('call', 40254), ('about', 40115), ('Integration', 39982), ('version', 39866), ('attribute', 39729), ('field', 39631), ('M', 39549), ('than', 39537), ('so', 39505), ('how', 39443), ('XML', 39414), ('line', 38376), ('available', 38356), ('t', 38234), ('Name', 38227), ('report', 37911), ('been', 37770), ('Adapter', 37508), ('o', 37473), ('does', 37385), ('such', 36972), ('objects', 36904), ('option', 36794), ('want', 36725), ('channel', 36722), ('need', 36467), ('installation', 36338), ('c', 35987), ('run', 35790), ('node', 35728), ('applications', 35722), ('It', 35233), ('start', 35083), ('Agent', 34983), ('two', 34581), ('D', 34452), ('All', 34436), ('IT', 34350), ('return', 34245), ('Process', 34178), ('environment', 34009), ('where', 33504), ('out', 32937), ('R', 32753), ('request', 32573), ('source', 32263), ('O', 32171), ('support', 32082), ('specify', 31534), ('User', 31532), ('interface', 31505), ('created', 31351), ('T', 31319), ('business', 31205), ('transaction', 31187), ('E', 31144), ('different', 31099), ('we', 31054), ('program', 30975), ('http', 30918), ('Business', 30899), ('##A', 30838), ('first', 30818), ('security', 30416), ('See', 30345), ('defined', 30233), ('p', 29930), ('text', 29835), ('Database', 29797), ('include', 29617), ('Table', 29551), ('before', 29333), ('they', 29312), ('properties', 29276), ('size', 29210), ('required', 29081), ('z', 29037), ('options', 28912), ('contains', 28879), ('When', 28689), ('Queue', 28614), ('instance', 28605), ('local', 28509), ('some', 28413), ('Type', 28313), ('view', 28228), ('property', 28161), ('get', 28074), ('Description', 28049), ('CD', 27985), ('users', 27917), ('response', 27777), ('between', 27742), ('based', 27676), ('current', 27621), ('event', 27595), ('id', 27575), ('change', 27574), ('l', 27570), ('public', 27447), ('##v', 27387), ('Client', 27361), ('there', 27068), ('section', 26931), ('within', 26920), ('##W', 26863), ('r', 26732), ('Object', 26676), ('network', 26632), ('SW', 26517), ('address', 26511), ('##C', 26449), ('document', 26425), ('length', 26334), ('through', 26281), ('running', 26279), ('##For', 26253), ('format', 26252), ('P', 26172), ('project', 25985), ('control', 25848), ('d', 25845), ('Inc', 25802), ('input', 25788), ('output', 25774), ('cannot', 25705), ('HTTP', 25695), ('called', 25597), ('xml', 25565), ('Use', 25350), ('add', 25347), ('##To', 25329), ('##This', 25124), ('systems', 25111), ('##In', 24794), ('end', 24739), ('mode', 24666), ('because', 24642), ('install', 24630), ('provides', 24593), ('UI', 24584), ('structure', 24434), ('parameters', 24384), ('##You', 24286), ('##IBM', 24262), ('Configuration', 24103), ('TO', 24044), ('open', 23993), ('single', 23984), ('case', 23972), ('UNIX', 23945), ('TCP', 23789), ('software', 23433), ('types', 23404), ('their', 23291), ('read', 23164), ('path', 23160), ('Class', 23094), ('might', 23075), ('Enterprise', 22968), ('services', 22927), ('b', 22903), ('port', 22891), ('commands', 22834), ('Using', 22786), ('Broker', 22738), ('IN', 22723), ('password', 22688), ('after', 22662), ('test', 22580), ('broker', 22553), ('them', 22525), ('make', 22396), ('cluster', 22369), ('specific', 22326), ('uses', 22322), ('work', 22240), ('check', 22218), ('bin', 22208), ('PC', 22163), ('point', 22112), ('both', 21960), ('order', 21949), ('attributes', 21942), ('L', 21935), ('U', 21904), ('result', 21879), ('An', 21877), ('either', 21864), ('On', 21789), ('db', 21733), ('multiple', 21685), ('Reference', 21555), ('memory', 21516), ('SAP', 21496), ('JMS', 21485), ('Figure', 21461), ('URL', 21380), ('root', 21271), ('Y', 21245), ('box', 21181), ('element', 21164), ('No', 21152), ('Interface', 21051), ('ESB', 21033), ('names', 20939), ('character', 20937), ('display', 20698), ('definition', 20654), ('Management', 20624), ('functions', 20613), ('variable', 20390), ('column', 20388), ('##D', 20359), ('host', 20061), ('space', 20022), ('org', 20016), ('Page', 19993), ('H', 19984), ('true', 19831), ('state', 19817), ('whether', 19788), ('agent', 19755), ('G', 19727), ('##x', 19718), ('Services', 19675), ('Q', 19651), ('MI', 19619), ('web', 19576), ('component', 19575), ('shown', 19556), ('displayed', 19507), ('NO', 19477), ('machine', 19460), ('##B', 19453), ('operation', 19400), ('remote', 19362), ('www', 19276), ('target', 19267), ('valid', 19244), ('MTE', 19220), ('static', 19197), ('##DB', 19189), ('h', 19160), ('statement', 19108), ('provide', 19085), ('insert', 19068), ('Security', 19056), ('domain', 18927), ('AS', 18845), ('another', 18779), ('installed', 18717), ('supported', 18613), ('being', 18606), ('header', 18581), ('without', 18531), ('Software', 18452), ('performance', 18447), ('topic', 18403), ('le', 18376), ('WMQ', 18372), ('most', 18360), ('associated', 18225), ('shows', 18170), ('resource', 18162), ('null', 18156), ('SSL', 18154), ('described', 18102), ('u', 18097), ('changes', 18083), ('Error', 18013), ('task', 17964), ('details', 17963), ('window', 17876), ('provided', 17872), ('location', 17870), ('part', 17780), ('exit', 17745), ('HOME', 17734), ('during', 17696), ('##E', 17667), ('Chapter', 17664), ('way', 17622), ('existing', 17622), ('product', 17574), ('returns', 17574), ('status', 17557), ('etc', 17555), ('model', 17535), ('USER', 17514), ('session', 17446), ('action', 17427), ('over', 17316), ('Tuxedo', 17303), ('processing', 17290), ('##ID', 17219), ('f', 17207), ('disk', 17134), ('NULL', 17112), ('components', 17108), ('steps', 17035), ('char', 17024), ('sample', 16929), ('##Chapter', 16905), ('next', 16901), ('##Copyright', 16893), ('NAME', 16866), ('CPU', 16792), ('script', 16734), ('handle', 16684), ('selected', 16682), ('what', 16594), ('returned', 16578), ('AND', 16568), ('non', 16562), ('home', 16556), ('form', 16509), ('##Note', 16504), ('long', 16448), ('automatically', 16432), ('Time', 16418), ('Administration', 16396), ('define', 16390), ('Number', 16335), ('complete', 16326), ('many', 16323), ('WAS', 16295), ('Source', 16292), ('like', 16243), ('buffer', 16225), ('down', 16224), ('msg', 16203), ('Corporation', 16178), ('image', 16168), ('while', 16168), ('m', 16166), ('Network', 16097)]\n",
      "*EN 단어 집합의 크기 : 12000\n",
      "*EN 마지막 단어 정보 : ('DEVELOPER', 308)\n"
     ]
    },
    {
     "data": {
      "application/vnd.jupyter.widget-view+json": {
       "model_id": "576f2149e0cf40a8ac522786f5a59469",
       "version_major": 2,
       "version_minor": 0
      },
      "text/plain": [
       "0it [00:00, ?it/s]"
      ]
     },
     "metadata": {},
     "output_type": "display_data"
    },
    {
     "name": "stdout",
     "output_type": "stream",
     "text": [
      "['the', 'to', 'a', 'of', 'and']\n"
     ]
    },
    {
     "data": {
      "application/vnd.jupyter.widget-view+json": {
       "model_id": "1125406245d8476fa0f89779758066db",
       "version_major": 2,
       "version_minor": 0
      },
      "text/plain": [
       "  0%|          | 0/12000 [00:00<?, ?it/s]"
      ]
     },
     "metadata": {},
     "output_type": "display_data"
    }
   ],
   "source": [
    "#######################################################################\n",
    "# 형태소 분석인 경우 영어단어들만 별도로 파일로 저장해 둠.\n",
    "# 영문 word 리스트 빈도수 계산 후 vocab_size 만큼 vocab을 파일로 저장\n",
    "#######################################################################\n",
    "if nouns == False:\n",
    "    en_vocab_size = 12000  # 최대 저장할 단어수 \n",
    "    new_en_vocab_out = '../../data11/my_corpus/vocab/re-moco-corpus2-en-morphs-12000.txt' #저장할 파일 경로 \n",
    "    \n",
    "    # 1. 빈도수 계산\n",
    "    en_vocab = FreqDist(np.hstack(en_words))\n",
    "    # 최대 빈도수 가장높은 500개만 뽑아봄\n",
    "    print(en_vocab.most_common(500))\n",
    "\n",
    "    # 2. 빈도수가 가장 많은 상위 단어들만 뽑아냄\n",
    "    en_vocab1 = en_vocab.most_common(en_vocab_size)\n",
    "    \n",
    "    en_vocab_len = len(en_vocab1)\n",
    "    print('*EN 단어 집합의 크기 : {}'.format(en_vocab_len))\n",
    "    print('*EN 마지막 단어 정보 : {}'.format(en_vocab1[en_vocab_len-1]))\n",
    "    \n",
    "    # 3. vocab을 list로 만듬\n",
    "    new_en_vocab = []\n",
    "    for index, word in tqdm(enumerate(en_vocab1)):\n",
    "        new_en_vocab.append(word[0])  # fword[0] 하면 단어만 추출\n",
    "    \n",
    "    # 리스트 출력해봄\n",
    "    print(new_en_vocab[0:5])\n",
    "    #print(vocab['음악당'])\n",
    "        \n",
    "    # 4.vocab을 파일로 저장함\n",
    "    with open(new_en_vocab_out, 'w', encoding='utf-8') as f:\n",
    "        for word in tqdm(new_en_vocab):\n",
    "            f.write(word+'\\n')"
   ]
  },
  {
   "cell_type": "code",
   "execution_count": null,
   "id": "d4825424-1f11-4029-bde4-ce7a6eb04e1f",
   "metadata": {},
   "outputs": [],
   "source": [
    "# new_vocab 파일을 불러옴.\n",
    "#new_vocab_out = 'new_vocab.txt'\n",
    "\n",
    "# 2차 불용어 정의\n",
    "#stopwords=['##다', '##하', '있', '##고', '##로', '##한', '##적', '##되', '##었', '##_']\n",
    "stopwords=['##_', '〈', '..']\n",
    "\n",
    "new_vocab = []\n",
    "with open(new_vocab_out, 'r', encoding='utf-8') as f:\n",
    "    data = f.read().split('\\n')\n",
    "\n",
    "for word in tqdm(data):\n",
    "    if not word in stopwords:  # 2차 불용어는 제외\n",
    "        new_vocab.append(word)\n",
    "        \n",
    "print(new_vocab[0:10])"
   ]
  },
  {
   "cell_type": "code",
   "execution_count": null,
   "id": "4be46a8a-f837-49e4-887e-5d43c41cf183",
   "metadata": {},
   "outputs": [],
   "source": [
    "# 원래 vocab 리스트로 읽어옴\n",
    "org_vocab_out = '../../data11/model/distilbert/distilbert-base-multilingual-cased/vocab.txt'\n",
    "org_vocab = []\n",
    "\n",
    "with open(org_vocab_out, 'r', encoding='utf-8') as f:\n",
    "    data = f.read().split('\\n')\n",
    "    \n",
    "for vocab in tqdm(data):\n",
    "     org_vocab.append(vocab)\n",
    "\n",
    "print(len(org_vocab))\n",
    "print(org_vocab[1111:1115])"
   ]
  },
  {
   "cell_type": "code",
   "execution_count": null,
   "id": "d9ff7adf-befa-4dd3-aeb1-2e4e1a655111",
   "metadata": {},
   "outputs": [],
   "source": [
    "# 신규 vocab 리스트에서 원본 vocab 리스트 중복값을 제거\n",
    "#temp = list(set(new_vocab) - set(org_vocab)) #순서 보존이 안됨\n",
    "    \n",
    "#또는\n",
    "\n",
    "s = set(org_vocab)\n",
    "temp = [x for x in new_vocab if x not in s] #순서 보존됨    \n",
    "\n",
    "vocablist = org_vocab + temp  #원본 리스트 + 중복제가한 신규리스트 2개의 리스트를 합침\n",
    "\n",
    "print(len(vocablist))\n",
    "print(vocablist[1111:1115])"
   ]
  },
  {
   "cell_type": "code",
   "execution_count": null,
   "id": "ebdc047b-ad66-41e2-842e-17fce5dd26bb",
   "metadata": {},
   "outputs": [],
   "source": [
    "# 리스트를 파일로 저장\n",
    "outfilepath = '../../data11/my_corpus/kowiki-202206-1line-vocab.txt'\n",
    "with open(outfilepath, 'w') as f:\n",
    "    f.write('\\n'.join(vocablist))\n",
    "    \n",
    "print('vocab 파일\"{}\" 추가 성공!. 출력 vocab 파일 : \"{}\"'.format(new_vocab_out, outfilepath))"
   ]
  },
  {
   "cell_type": "code",
   "execution_count": null,
   "id": "016358e0-def2-453e-9988-891af3270509",
   "metadata": {},
   "outputs": [],
   "source": [
    "## **** 저장된 파일을 열어서, 중간(mbert는 119548라인)에 공백이 없는지 반드시 확인.\n",
    "\n",
    "## **** 반드시 또 추가할 단어들(예:문서중앙화, 보안파일서버, 엠파워, 모코엠시스, MOCOMSYS, MPOWER, EZis-C 등) 파일 맨 끝에 추가 *단 기존에 추가되어있는지 확인 필요"
   ]
  },
  {
   "cell_type": "code",
   "execution_count": null,
   "id": "3bfb223a-273f-4c78-90ce-2675c7b64764",
   "metadata": {},
   "outputs": [],
   "source": [
    "#outfilepath = './moco-vocab/moco-corpus-kowiki2022-nouns-42000-Deduplication-add-en-159552.txt'\n",
    "# BertTokenizer 로 새롭게 저장된 vocalfile 불러옴\n",
    "tokenizer = BertTokenizer(vocab_file=outfilepath, \n",
    "                          strip_accents=False, \n",
    "                          do_lower_case=False)"
   ]
  },
  {
   "cell_type": "code",
   "execution_count": null,
   "id": "2d40acc9-034d-4f3c-940b-38d657ce8839",
   "metadata": {},
   "outputs": [],
   "source": [
    "add_special_token = False\n",
    "\n",
    "if add_special_token:\n",
    "    # 옵션 : 저장된 add_new_vocab.txt를 불러와서 special 토큰 추가함\n",
    "    special_tokens=['[BOS]', '[EOS]', '[UNK0]', '[UNK1]', '[UNK2]', '[UNK3]', '[UNK4]', '[UNK5]', '[UNK6]', '[UNK7]', '[UNK8]', '[UNK9]',\n",
    "                    '[unused0]', '[unused1]', '[unused2]', '[unused3]', '[unused4]', '[unused5]', '[unused6]', '[unused7]', '[unused8]', '[unused9]',]\n",
    "\n",
    "    special_tokens_dict = {'additional_special_tokens': special_tokens}\n",
    "    tokenizer.add_special_tokens(special_tokens_dict)\n",
    "\n",
    "    # special token 체크\n",
    "    print(tokenizer.all_special_tokens)"
   ]
  },
  {
   "cell_type": "code",
   "execution_count": null,
   "id": "431f8a3e-aebd-4e09-9ae6-4bc0b92fddb8",
   "metadata": {},
   "outputs": [],
   "source": [
    "# special token 추가한 special vocab을 저장함\n",
    "import os\n",
    "OUT_PATH = '../../data11/model/distilbert/distilbert-base-multilingual-cased/kowiki-202206-1line-vocab'\n",
    "#OUT_PATH = './mdistilbertV2.2'\n",
    "os.makedirs(OUT_PATH, exist_ok=True)\n",
    "tokenizer.save_pretrained(OUT_PATH)"
   ]
  },
  {
   "cell_type": "code",
   "execution_count": null,
   "id": "3bfb0a60-e94e-49ac-9d06-49c5cf6ea487",
   "metadata": {},
   "outputs": [],
   "source": [
    "'''\n",
    "#=============================================================================================\n",
    "# add_tokens으로 추가하면, BertTokenizer.from_pretrained() 함수로 호출할때, 호출이 안됨(**이유 모름)\n",
    "# => 따라서 직접 vocab.txt에 추가하는 방법을 사용함\n",
    "#=============================================================================================\n",
    "\n",
    "# 기존 bert tokenizer 로딩\n",
    "vocab_path = '../model/bert/bert-multilingual-cased/vocab'\n",
    "tokenizer = BertTokenizer.from_pretrained(vocab_path)\n",
    "print(f'*기존 vocab 수: {len(tokenizer)}')\n",
    "\n",
    "# 기존 bert tokenizer에 신규 vocab 추가함 \n",
    "new_token_num = tokenizer.add_tokens(new_vocab)\n",
    "print(f'*신규 vocab 수: {len(tokenizer)}')\n",
    "print(f'*추가된 vocab: {new_token_num}')\n",
    "\n",
    "# 추가된 tokenizer 저장\n",
    "# => 추가된 token들은 added_tokens.json에 저장된다.\n",
    "import os\n",
    "OUT_PATH = 'new_vocab_nouns'\n",
    "os.makedirs(OUT_PATH, exist_ok=True)\n",
    "tokenizer.save_pretrained(OUT_PATH)\n",
    "'''"
   ]
  }
 ],
 "metadata": {
  "kernelspec": {
   "display_name": "Python 3 (ipykernel)",
   "language": "python",
   "name": "python3"
  },
  "language_info": {
   "codemirror_mode": {
    "name": "ipython",
    "version": 3
   },
   "file_extension": ".py",
   "mimetype": "text/x-python",
   "name": "python",
   "nbconvert_exporter": "python",
   "pygments_lexer": "ipython3",
   "version": "3.9.7"
  }
 },
 "nbformat": 4,
 "nbformat_minor": 5
}
